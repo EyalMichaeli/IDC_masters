{
 "cells": [
  {
   "cell_type": "markdown",
   "id": "e4b8ed14",
   "metadata": {},
   "source": [
    "<left>\n",
    "<img src=\"idc_logo.png\" width=100 align=\"left\">\n",
    "</left>\n",
    "\n",
    "<H4>Advanced Stats. for Data Science (Spring 2022)</H4>\n",
    "\n",
    "<H1>Examples from Lecture 6 </H1>"
   ]
  },
  {
   "cell_type": "code",
   "execution_count": 58,
   "id": "c5847910",
   "metadata": {},
   "outputs": [],
   "source": [
    "import matplotlib.pyplot as plt\n",
    "import numpy as np\n",
    "import pandas as pd\n",
    "import statsmodels.api as sm\n",
    "\n",
    "import scipy\n",
    "from mpl_toolkits import mplot3d\n",
    "import numpy as np\n",
    "import matplotlib.pyplot as plt\n",
    "\n",
    "np.random.seed(2021)\n",
    "plt.rcParams[\"figure.figsize\"] = (10, 7)\n",
    "plt.rcParams.update({'font.size': 18})\n",
    "%matplotlib inline"
   ]
  },
  {
   "cell_type": "markdown",
   "id": "7a3f53fc",
   "metadata": {},
   "source": [
    "# Two-sample t-test"
   ]
  },
  {
   "cell_type": "code",
   "execution_count": 2,
   "id": "c2c5ed42",
   "metadata": {},
   "outputs": [],
   "source": [
    "mu1 = 1\n",
    "mu2 = 2\n",
    "sigma1 = 1\n",
    "sigma2 = 1\n",
    "n1 = 10\n",
    "n2 = 20"
   ]
  },
  {
   "cell_type": "code",
   "execution_count": 3,
   "id": "3765f6f0",
   "metadata": {},
   "outputs": [],
   "source": [
    "## sample from both distributions\n",
    "## plot histogram\n",
    "## evaluate t statistic\n",
    "## evaluate P-value\n",
    "\n",
    "\n"
   ]
  },
  {
   "cell_type": "code",
   "execution_count": 4,
   "id": "8f1408c2",
   "metadata": {},
   "outputs": [
    {
     "data": {
      "image/png": "[encoded data removed]",
      "text/plain": [
       "<Figure size 720x504 with 1 Axes>"
      ]
     },
     "metadata": {
      "needs_background": "light"
     },
     "output_type": "display_data"
    },
    {
     "data": {
      "text/plain": [
       "-2.071344671225746"
      ]
     },
     "execution_count": 4,
     "metadata": {},
     "output_type": "execute_result"
    }
   ],
   "source": [
    "Y1 = mu1 + sigma1 * np.random.randn(n1)\n",
    "Y2 = mu2 + sigma2 * np.random.randn(n2)\n",
    "\n",
    "plt.hist(Y1, alpha=.5, color='r', density=True)\n",
    "plt.hist(Y2, alpha=.5, color='b', density=True)\n",
    "plt.plot([Y1.mean()]*2, [0,1], '--r')\n",
    "plt.plot([Y2.mean()]*2, [0,1], '--b')\n",
    "plt.plot([mu1] * 2, [0,1], 'r')\n",
    "plt.plot([mu2] * 2, [0,1], 'b')\n",
    "plt.show()\n",
    "\n",
    "s = np.sqrt( (np.sum((Y1 - Y1.mean()) ** 2) + np.sum( (Y2 - Y2.mean()) ** 2) )  / (n1 + n2 - 2) )\n",
    "t = (np.mean(Y1) - np.mean(Y2)) / (s * np.sqrt(1 / n1 + 1 / n2))\n",
    "t"
   ]
  },
  {
   "cell_type": "markdown",
   "id": "391ca8cf",
   "metadata": {},
   "source": [
    "# Permutation Test\n",
    "<left>\n",
    "<img src=\"Permutation_test_example_animation.gif\" width=800 align=\"left\">\n",
    "</left>"
   ]
  },
  {
   "cell_type": "markdown",
   "id": "7a29b2a4",
   "metadata": {},
   "source": [
    "# ANOVA (k groups)\n",
    "\n",
    "Dogs show example: https://en.wikipedia.org/wiki/Analysis_of_variance"
   ]
  },
  {
   "cell_type": "code",
   "execution_count": null,
   "id": "c679e47c",
   "metadata": {},
   "outputs": [],
   "source": []
  }
 ],
 "metadata": {
  "kernelspec": {
   "display_name": "Python 3",
   "language": "python",
   "name": "python3"
  },
  "language_info": {
   "codemirror_mode": {
    "name": "ipython",
    "version": 3
   },
   "file_extension": ".py",
   "mimetype": "text/x-python",
   "name": "python",
   "nbconvert_exporter": "python",
   "pygments_lexer": "ipython3",
   "version": "3.8.5"
  }
 },
 "nbformat": 4,
 "nbformat_minor": 5
}