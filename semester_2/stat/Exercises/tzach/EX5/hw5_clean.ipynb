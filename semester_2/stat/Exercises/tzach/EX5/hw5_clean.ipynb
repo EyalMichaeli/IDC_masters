{
 "cells": [
  {
   "cell_type": "markdown",
   "id": "c987d913",
   "metadata": {},
   "source": [
    "#### Advanced Statistics for Data Science (Spring 2022)\n",
    "# Home Assignment 5\n",
    "#### Topics:\n",
    "- Contrasts\n",
    "- Multiple TestinFalse-Discovery Rate\n",
    "- Simple Regression\n",
    "\n",
    "#### Due: 24/05/2022 by 18:30\n",
    "\n",
    "#### Instructions:\n",
    "- Write your name, Student ID, and date in the cell below. \n",
    "- Submit a copy of this notebook with code filled in the relevant places as the solution of coding excercises.\n",
    "- For theoretic excercises, you can either write your solution in the notebook using $\\LaTeX$ or submit additional notes.\n",
    "\n",
    "<hr>\n",
    "<hr>"
   ]
  },
  {
   "cell_type": "markdown",
   "id": "cf26e332",
   "metadata": {},
   "source": [
    "\n",
    "**Name**: \n",
    "\n",
    "**Student ID**:\n",
    "\n",
    "**Date**:\n",
    "\n",
    "$\n",
    "\\newcommand{\\Id}{{\\mathbf{I}}}  \n",
    "\\newcommand{\\SSE}{\\mathsf{SSE}}\n",
    "\\newcommand{\\SSR}{\\mathsf{SSR}}\n",
    "\\newcommand{\\MSE}{\\mathsf{MSE}}\n",
    "\\newcommand{\\simiid}{\\overset{iid}{\\sim}}\n",
    "\\newcommand{\\ex}{\\mathbb E}\n",
    "\\newcommand{\\var}{\\mathrm{Var}}\n",
    "\\newcommand{\\Cov}[2]{{\\mathrm{Cov}  \\left(#1, #2 \\right)}}\n",
    "\\newcommand{\\one}[1]{\\mathbf 1 {\\left\\{#1\\right\\}}}\n",
    "\\newcommand{\\SE}[1]{\\mathrm{SE} \\left[#1\\right]}\n",
    "\\newcommand{\\reals}{\\mathbb R}\n",
    "\\newcommand{\\Ncal}{\\mathcal N}\n",
    "\\newcommand{\\abs}[1]{\\ensuremath{\\left\\vert#1\\right\\vert}}\n",
    "\\newcommand{\\rank}{\\operatorname{rank}}\n",
    "\\newcommand{\\tr}{\\operatorname{Tr}}\n",
    "\\newcommand{\\diag}{\\operatorname{diag}}\n",
    "\\newcommand{\\sign}{\\operatorname{sign}}\n",
    "$\n"
   ]
  },
  {
   "cell_type": "code",
   "execution_count": 1,
   "id": "82638851-4729-4db7-876f-18f0308624b5",
   "metadata": {},
   "outputs": [],
   "source": [
    "import pandas as pd\n",
    "import numpy as np\n",
    "import matplotlib.pyplot as plt\n",
    "import seaborn as sns\n",
    "import scipy.stats as st"
   ]
  },
  {
   "cell_type": "markdown",
   "id": "a6bc7ca3",
   "metadata": {},
   "source": [
    "<hr>\n",
    "<hr>"
   ]
  },
  {
   "cell_type": "markdown",
   "id": "1e247683",
   "metadata": {},
   "source": [
    "## Problem 1 (Multiple testing in Practice)\n",
    "#### Continuation of Problem 4 from HW4"
   ]
  },
  {
   "cell_type": "markdown",
   "id": "48c3f0df",
   "metadata": {},
   "source": [
    "In HW4, Problem 4 you used ANOVA to measure the effect of the winary (``winary``) on the quality (``points``) of wines from veriaty (``veriaty``) ``Cabernet Sauvignon``. Using the same dataset (reduced to Israeli wines and a specific veriaty). You used all t-tests involving pairs of winaries and reported pairs found significant after a Bonfferoni's correction. In this question, you will use Binjamini-Hochberg's (BH) FDR controlling procedure as an alternative to Bonfferoni. \n",
    " 1. Using HW4, Problem 4, consider P-values from all t-tests of pairs of winaries. Sort the P-values from small to large and plot the smallest 10% of the sorted list of P-values on a stem or a scatter plot in which the x-axis indicate the P-value rank (left most point is rank = 1, i.e., the smallest) and the y-axis the P-value's value. \n",
    " 2. Assume that different tests are independet; apply BH to select a set of winary pairs in which one winary is significantly better than the others while aiming for 0.05 false pairs. How many pairs were reported? is it more or less pairs than you discovered using Bonfferoni correction in HW4, Problem 4?\n",
    " 3. Repeat the last item without the independence assumption, i.e., use the harmonic sum correction.\n",
    " \n",
    "The point: FDR controlling using BH is a more liberal (less conservative) approach to identify significnat discoveries in the sense that it allows us to report on more discoveries if we are willing to replace family-wise error rate control with an expected false-discovery proportion guarantee.  "
   ]
  },
  {
   "cell_type": "code",
   "execution_count": 2,
   "id": "c17b8e4a-f9d9-45a7-8d6e-c626c017f669",
   "metadata": {},
   "outputs": [
    {
     "data": {
      "text/html": [
       "<div>\n",
       "<style scoped>\n",
       "    .dataframe tbody tr th:only-of-type {\n",
       "        vertical-align: middle;\n",
       "    }\n",
       "\n",
       "    .dataframe tbody tr th {\n",
       "        vertical-align: top;\n",
       "    }\n",
       "\n",
       "    .dataframe thead th {\n",
       "        text-align: right;\n",
       "    }\n",
       "</style>\n",
       "<table border=\"1\" class=\"dataframe\">\n",
       "  <thead>\n",
       "    <tr style=\"text-align: right;\">\n",
       "      <th></th>\n",
       "      <th>winery</th>\n",
       "      <th>points</th>\n",
       "    </tr>\n",
       "  </thead>\n",
       "  <tbody>\n",
       "    <tr>\n",
       "      <th>81</th>\n",
       "      <td>Binyamina</td>\n",
       "      <td>91</td>\n",
       "    </tr>\n",
       "    <tr>\n",
       "      <th>355</th>\n",
       "      <td>Bazelet HaGolan</td>\n",
       "      <td>91</td>\n",
       "    </tr>\n",
       "    <tr>\n",
       "      <th>966</th>\n",
       "      <td>Segal's</td>\n",
       "      <td>90</td>\n",
       "    </tr>\n",
       "    <tr>\n",
       "      <th>970</th>\n",
       "      <td>Tabor</td>\n",
       "      <td>90</td>\n",
       "    </tr>\n",
       "    <tr>\n",
       "      <th>977</th>\n",
       "      <td>Yatir</td>\n",
       "      <td>90</td>\n",
       "    </tr>\n",
       "    <tr>\n",
       "      <th>1205</th>\n",
       "      <td>Carmel</td>\n",
       "      <td>90</td>\n",
       "    </tr>\n",
       "    <tr>\n",
       "      <th>1476</th>\n",
       "      <td>Carmel</td>\n",
       "      <td>90</td>\n",
       "    </tr>\n",
       "    <tr>\n",
       "      <th>1806</th>\n",
       "      <td>Or Haganuz</td>\n",
       "      <td>90</td>\n",
       "    </tr>\n",
       "    <tr>\n",
       "      <th>1812</th>\n",
       "      <td>Shiloh Winery</td>\n",
       "      <td>90</td>\n",
       "    </tr>\n",
       "    <tr>\n",
       "      <th>2671</th>\n",
       "      <td>Flam</td>\n",
       "      <td>90</td>\n",
       "    </tr>\n",
       "  </tbody>\n",
       "</table>\n",
       "</div>"
      ],
      "text/plain": [
       "               winery  points\n",
       "81          Binyamina      91\n",
       "355   Bazelet HaGolan      91\n",
       "966           Segal's      90\n",
       "970             Tabor      90\n",
       "977             Yatir      90\n",
       "1205           Carmel      90\n",
       "1476           Carmel      90\n",
       "1806       Or Haganuz      90\n",
       "1812    Shiloh Winery      90\n",
       "2671             Flam      90"
      ]
     },
     "execution_count": 2,
     "metadata": {},
     "output_type": "execute_result"
    }
   ],
   "source": [
    "wine_df = pd.read_csv('winemag-data_first150k.csv')\n",
    "wine_df = wine_df[(wine_df.country == 'Israel') & (wine_df.variety == 'Cabernet Sauvignon')]\n",
    "wine_df = wine_df[['winery', 'points']]\n",
    "v = wine_df.winery.value_counts()\n",
    "relevant_wineries = v.index[v.gt(1)]\n",
    "wine_df = wine_df[wine_df.winery.isin(relevant_wineries)]\n",
    "wine_df.head(10)"
   ]
  },
  {
   "cell_type": "code",
   "execution_count": 3,
   "id": "e13448dc-434f-4d8a-aa1a-d4fc060910fd",
   "metadata": {},
   "outputs": [],
   "source": [
    "all_p_vals = []\n",
    "compared_wineries = []\n",
    "\n",
    "def ssquares(x):\n",
    "    return np.sum((x - np.mean(x)) ** 2)\n",
    "\n",
    "ss_wit = wine_df.groupby('winery')['points'].agg(ssquares).sum()\n",
    "ss_tot = np.sum((wine_df['points'] -  wine_df['points'].mean()) ** 2)\n",
    "\n",
    "n, k = len(wine_df), len(relevant_wineries)\n",
    "\n",
    "ss_bet = ss_tot - ss_wit\n",
    "\n",
    "MSE_bet = ss_bet / (k-1)\n",
    "MSE_wit = ss_wit / (n-k)"
   ]
  },
  {
   "cell_type": "code",
   "execution_count": 4,
   "id": "6837b9b9-5b86-4842-9f84-be853dba6c14",
   "metadata": {},
   "outputs": [],
   "source": [
    "ALPHA = 0.05\n",
    "EPSILON = 10 ** -6\n",
    "\n",
    "def two_sample_t(winery_i, winery_j):\n",
    "    winery_i_mean = np.mean(winery_i)\n",
    "    winery_j_mean = np.mean(winery_j)\n",
    "    \n",
    "    n_0 = len(winery_i)\n",
    "    n_1 = len(winery_j)\n",
    "    dof = n_0 + n_1 - 2\n",
    "    \n",
    "    s_squared = (np.sum((winery_i-winery_i_mean)**2) + np.sum((winery_j-winery_j_mean)**2)) / dof\n",
    "    \n",
    "    s = max(np.sqrt(s_squared), EPSILON)\n",
    "    \n",
    "    t = (winery_j_mean - winery_i_mean) / (s * np.sqrt(1 / n_0 + 1 / n_1))\n",
    "    p_val = st.t.sf(abs(t), dof)\n",
    "\n",
    "    return p_val"
   ]
  },
  {
   "cell_type": "code",
   "execution_count": 5,
   "id": "e2c9210e-3376-439d-a403-23f2261faa60",
   "metadata": {},
   "outputs": [
    {
     "name": "stdout",
     "output_type": "stream",
     "text": [
      "We have performed 171 comparisons, 59 from them were significant at prob 0.05\n"
     ]
    }
   ],
   "source": [
    "for winery_i in relevant_wineries:\n",
    "    for winery_j in relevant_wineries:\n",
    "        \n",
    "        if winery_i == winery_j or sorted([winery_i, winery_j]) in compared_wineries:\n",
    "            continue\n",
    "        \n",
    "        compared_wineries.append(sorted([winery_i, winery_j]))\n",
    "                \n",
    "        p_val = two_sample_t(wine_df[wine_df.winery == winery_i]['points'], wine_df[wine_df.winery == winery_j]['points'])            \n",
    "        all_p_vals.append(p_val)\n",
    "        \n",
    "sig_p_vals = [p for p in all_p_vals if p < ALPHA / 2]\n",
    "print(f\"We have performed {len(all_p_vals)} comparisons, {len(sig_p_vals)} from them were significant at prob {ALPHA}\")"
   ]
  },
  {
   "cell_type": "markdown",
   "id": "d7472d82-3643-4bf4-bf3b-a0e653bcec60",
   "metadata": {},
   "source": [
    "#### Part 1"
   ]
  },
  {
   "cell_type": "code",
   "execution_count": 6,
   "id": "480a3588-3e29-4152-a627-cd54184298b3",
   "metadata": {},
   "outputs": [],
   "source": [
    "all_p_vals_sorted = sorted(all_p_vals)\n",
    "bottom_ten = all_p_vals_sorted[:round(len(all_p_vals)/10)]"
   ]
  },
  {
   "cell_type": "code",
   "execution_count": 7,
   "id": "15727bca-087b-4853-b930-c312b67f7551",
   "metadata": {},
   "outputs": [
    {
     "data": {
      "image/png": "[encoded data removed]",
      "text/plain": [
       "<Figure size 720x720 with 1 Axes>"
      ]
     },
     "metadata": {
      "needs_background": "light"
     },
     "output_type": "display_data"
    }
   ],
   "source": [
    "plt.rcParams['figure.figsize'] =  [10, 10]\n",
    "\n",
    "sns.scatterplot(x=[i for i in range(len(bottom_ten))], y=bottom_ten)\n",
    "plt.title(\"Bottom 10% P Values Sorted\")\n",
    "plt.show()"
   ]
  },
  {
   "cell_type": "markdown",
   "id": "37f38c6a-8b37-4fcf-87aa-8b16f8391a88",
   "metadata": {},
   "source": [
    "#### Part 2"
   ]
  },
  {
   "cell_type": "markdown",
   "id": "0135235c-1881-477a-9bf9-ba7ad12687cf",
   "metadata": {},
   "source": [
    "Assume that different tests are independet; apply BH to select a set of winary pairs in which one winary is significantly better than the others while aiming for 0.05 false pairs. How many pairs were reported? is it more or less pairs than you discovered using Bonfferoni correction in HW4, Problem 4?"
   ]
  },
  {
   "cell_type": "markdown",
   "id": "146ed91a-9b02-470f-a4ce-309e9045fd1f",
   "metadata": {},
   "source": [
    "First, I'll reuse HW4 to see how many pairs are significant under Bonfferoni correction:"
   ]
  },
  {
   "cell_type": "code",
   "execution_count": 10,
   "id": "a1d4d669-3bcc-48fe-956f-6896ba632d20",
   "metadata": {},
   "outputs": [
    {
     "name": "stdout",
     "output_type": "stream",
     "text": [
      "Under Bonfferoni correction, we got 9 significant pairs.\n"
     ]
    }
   ],
   "source": [
    "m = len(all_p_vals)\n",
    "bonnferroni_sig_p_vals = [p for p in all_p_vals if p < ALPHA / 2 / m]\n",
    "print(f\"Under Bonfferoni correction, we got {len(bonnferroni_sig_p_vals)} significant pairs.\")"
   ]
  },
  {
   "cell_type": "code",
   "execution_count": 18,
   "id": "47b8d042-a440-49cb-a34f-02717adc990c",
   "metadata": {},
   "outputs": [
    {
     "name": "stdout",
     "output_type": "stream",
     "text": [
      "Under BH correction, we got 40 significant paris.\n",
      "Meaning, we got 31 more significant pairs under BH.\n"
     ]
    }
   ],
   "source": [
    "ell = np.arange(1,m+1) / m * ALPHA\n",
    "rejected = all_p_vals_sorted < ell\n",
    "print(f\"Under BH correction, we got {np.sum(rejected)} significant paris.\")\n",
    "print(f\"Meaning, we got {np.sum(rejected) - len(bonnferroni_sig_p_vals)} more significant pairs under BH.\")"
   ]
  },
  {
   "cell_type": "markdown",
   "id": "c59b73c2-f594-4236-9633-0cb4cc417ae0",
   "metadata": {},
   "source": [
    "Let's plot it, just to get un understanding of the data:"
   ]
  },
  {
   "cell_type": "code",
   "execution_count": 22,
   "id": "2dafb0f2-3511-4a6c-958d-a5890a305b87",
   "metadata": {},
   "outputs": [
    {
     "data": {
      "image/png": "[encoded data removed]",
      "text/plain": [
       "<Figure size 720x720 with 1 Axes>"
      ]
     },
     "metadata": {
      "needs_background": "light"
     },
     "output_type": "display_data"
    }
   ],
   "source": [
    "plt.scatter(np.arange(1, len(all_p_vals_sorted)+1), all_p_vals_sorted)\n",
    "\n",
    "ell = np.arange(1, m+1) / m * ALPHA\n",
    "plt.plot(np.arange(1,m+1), ell, '--b', label=\"Binjamini & Hochberg\")\n",
    "\n",
    "plt.plot([1, m], [ALPHA / m, ALPHA / m], '--r', alpha=.8, label=\"Bonefrrony correction\")\n",
    "plt.plot([1, m], [ALPHA, ALPHA], '--g',  alpha=.8, label=\"Alpha\")\n",
    "\n",
    "plt.ylabel('p-value')\n",
    "plt.xlabel('test #')\n",
    "plt.title(\"Significant Pairs - All Methods\")\n",
    "plt.legend()\n",
    "plt.show()"
   ]
  },
  {
   "cell_type": "markdown",
   "id": "840f042e-8272-4f6d-ba05-3f33aa0c0763",
   "metadata": {},
   "source": [
    "#### Part 3\n",
    "Repeat the last item without the independence assumption, i.e., use the harmonic sum correction."
   ]
  },
  {
   "cell_type": "code",
   "execution_count": 29,
   "id": "f8ae1220-eceb-4de3-9f7d-c95edc934753",
   "metadata": {},
   "outputs": [
    {
     "name": "stdout",
     "output_type": "stream",
     "text": [
      "Under BH correction without the indepedence assumption, we got 15 significant paris.\n",
      "Meaning, we got 0 more significant pairs with the independence assumption.\n"
     ]
    }
   ],
   "source": [
    "ell_dep = np.arange(1,m+1) / m * ALPHA / (np.log(m))\n",
    "\n",
    "rejected_dep = all_p_vals_sorted < ell_dep\n",
    "print(f\"Under BH correction without the indepedence assumption, we got {np.sum(rejected_dep)} significant paris.\")\n",
    "print(f\"Meaning, we got {np.sum(rejected) - np.sum(rejected)} more significant pairs with the independence assumption.\")"
   ]
  },
  {
   "cell_type": "markdown",
   "id": "1e68508a-e068-4348-a249-77880f9e221c",
   "metadata": {},
   "source": [
    "I'll add the new line to the plot showed before:"
   ]
  },
  {
   "cell_type": "code",
   "execution_count": 28,
   "id": "3db60617-d183-46d1-8078-2adb1a76a1ff",
   "metadata": {},
   "outputs": [
    {
     "data": {
      "image/png": "[encoded data removed]",
      "text/plain": [
       "<Figure size 720x720 with 1 Axes>"
      ]
     },
     "metadata": {
      "needs_background": "light"
     },
     "output_type": "display_data"
    }
   ],
   "source": [
    "plt.scatter(np.arange(1, len(all_p_vals_sorted)+1), all_p_vals_sorted)\n",
    "\n",
    "ell = np.arange(1, m+1) / m * ALPHA\n",
    "plt.plot(np.arange(1,m+1), ell, '--b', label=\"Binjamini & Hochberg Given Independence\")\n",
    "plt.plot(np.arange(1,m+1), ell_dep, '--y', label=\"Binjamini & Hochberg W/O Independence\")\n",
    "\n",
    "\n",
    "plt.plot([1, m], [ALPHA / m, ALPHA / m], '--r', alpha=.8, label=\"Bonefrrony correction\")\n",
    "plt.plot([1, m], [ALPHA, ALPHA], '--g',  alpha=.8, label=\"Alpha\")\n",
    "\n",
    "plt.ylabel('p-value')\n",
    "plt.xlabel('test #')\n",
    "plt.title(\"Significant Pairs - All Methods\")\n",
    "plt.legend()\n",
    "plt.show()"
   ]
  },
  {
   "cell_type": "markdown",
   "id": "c091a28c",
   "metadata": {},
   "source": [
    "## Problem 2 (contrasts)\n",
    "#### Continuation of Problem 1\n",
    "\n",
    "Using a single t-test, test the assumption that the average of the Golan area wineries: ``Bazelet HaGolan``, ``Gamla``, ``Golan Heights Winary`` have the same quality as the average of Judean Hills area wineries: ``Katlav``, ``Psagot``, ``Shiloh Winery``, ``Titora``, ``Yatir`` (the goal here is to construct a \"contrast\", hence you should take an arithmetic average of group averages. You should only consider the size of each individual group when evaluating the varaince of the contrast).\n",
    "\n",
    "Note: you can ignore the ``province`` filed in the data becasue it contains inaccurate information. You should also ignore the fact that in reality, ``Gamla`` is produced by ``Golan Heights Winary``. \n",
    "\n"
   ]
  },
  {
   "cell_type": "code",
   "execution_count": 34,
   "id": "6b99bbbb-fb24-473b-b345-15f98252fe16",
   "metadata": {},
   "outputs": [
    {
     "data": {
      "text/html": [
       "<div>\n",
       "<style scoped>\n",
       "    .dataframe tbody tr th:only-of-type {\n",
       "        vertical-align: middle;\n",
       "    }\n",
       "\n",
       "    .dataframe tbody tr th {\n",
       "        vertical-align: top;\n",
       "    }\n",
       "\n",
       "    .dataframe thead th {\n",
       "        text-align: right;\n",
       "    }\n",
       "</style>\n",
       "<table border=\"1\" class=\"dataframe\">\n",
       "  <thead>\n",
       "    <tr style=\"text-align: right;\">\n",
       "      <th></th>\n",
       "      <th>winery</th>\n",
       "      <th>points</th>\n",
       "    </tr>\n",
       "  </thead>\n",
       "  <tbody>\n",
       "    <tr>\n",
       "      <th>3870</th>\n",
       "      <td>Psagot</td>\n",
       "      <td>89</td>\n",
       "    </tr>\n",
       "    <tr>\n",
       "      <th>25481</th>\n",
       "      <td>Psagot</td>\n",
       "      <td>87</td>\n",
       "    </tr>\n",
       "    <tr>\n",
       "      <th>31440</th>\n",
       "      <td>Psagot</td>\n",
       "      <td>89</td>\n",
       "    </tr>\n",
       "    <tr>\n",
       "      <th>73331</th>\n",
       "      <td>Psagot</td>\n",
       "      <td>87</td>\n",
       "    </tr>\n",
       "    <tr>\n",
       "      <th>76752</th>\n",
       "      <td>Psagot</td>\n",
       "      <td>88</td>\n",
       "    </tr>\n",
       "    <tr>\n",
       "      <th>86014</th>\n",
       "      <td>Psagot</td>\n",
       "      <td>87</td>\n",
       "    </tr>\n",
       "    <tr>\n",
       "      <th>133804</th>\n",
       "      <td>Psagot</td>\n",
       "      <td>87</td>\n",
       "    </tr>\n",
       "  </tbody>\n",
       "</table>\n",
       "</div>"
      ],
      "text/plain": [
       "        winery  points\n",
       "3870    Psagot      89\n",
       "25481   Psagot      87\n",
       "31440   Psagot      89\n",
       "73331   Psagot      87\n",
       "76752   Psagot      88\n",
       "86014   Psagot      87\n",
       "133804  Psagot      87"
      ]
     },
     "execution_count": 34,
     "metadata": {},
     "output_type": "execute_result"
    }
   ],
   "source": [
    "wine_df[wine_df.winery == 'Psagot']"
   ]
  },
  {
   "cell_type": "code",
   "execution_count": 75,
   "id": "934ef4b7-c058-4e1e-82c3-4187e375c98f",
   "metadata": {},
   "outputs": [
    {
     "name": "stdout",
     "output_type": "stream",
     "text": [
      "We can reject the hypothesis that the average Golan area winery has the same quality as the average of Judean Hills area wineries at prob = 0.05\n"
     ]
    }
   ],
   "source": [
    "golan = ['Bazelet HaGolan', 'Gamla', 'Golan Heights Winary']\n",
    "judean = ['Katlav', 'Psagot', 'Shiloh Winery', 'Titora', 'Yatir']\n",
    "\n",
    "golan_df = pd.concat([wine_df[wine_df.winery == winery] for winery in golan])\n",
    "judean_df = pd.concat([wine_df[wine_df.winery == winery] for winery in judean])\n",
    "\n",
    "golan_n = len(golan_df)\n",
    "judean_n = len(judean_df)\n",
    "\n",
    "golan_gb = golan_df.groupby('winery')\n",
    "judean_gb = judean_df.groupby('winery')\n",
    "\n",
    "y_hat_sum_golan = np.sum(golan_gb.mean()['points'])\n",
    "y_hat_sum_judean = np.sum(judean_gb.mean()['points'])\n",
    "\n",
    "t_num = y_hat_sum_golan / len(golan) - y_hat_sum_judean / len(judean)\n",
    "\n",
    "s = np.sqrt(MSE_wit)\n",
    "\n",
    "golan_len_sum = (1 / golan_gb.count()['points']).sum()\n",
    "judean_len_sum = (1 / judean_gb.count()['points']).sum()\n",
    "\n",
    "t_den = s * np.sqrt(1 / len(golan) ** 2 * (golan_len_sum) + 1 / len(judean) ** 2 * (judean_len_sum))\n",
    "\n",
    "dof = len(wine_df) - len(golan) - len(judean)\n",
    "\n",
    "p_val = st.t.sf(abs(t_num / t_den), dof)\n",
    "can = \"can\" if p_val < ALPHA else \"can't\"\n",
    "\n",
    "print(f\"We {can} reject the hypothesis that the average Golan area winery has the same quality as the average of Judean Hills area wineries at prob = {ALPHA}\")"
   ]
  },
  {
   "cell_type": "markdown",
   "id": "ef723e7e",
   "metadata": {},
   "source": [
    "## Problem 3 (Exact size of Bonferroni's test)\n",
    "Suppose that we run multiple tests with independent data and obtain P-values $p_1,\\ldots,p_n$. We wish to test the null hypothesis:\n",
    "$$\n",
    "H_0\\,:\\,\\text{All tests are null}\n",
    "$$\n",
    "at the level $\\alpha$ (e.g., $\\alpha=0.05$). In class, we introduced Bonferroni's procedure which is equivalent to: Reject $H_0$ if $\\min p_i \\leq \\alpha/n$. \n",
    "1. Show that the  size of the test in Bonferroni's procedure is at most $\\alpha$, regardless if the hypotheses are independent or not. \n",
    "2. Assuming that the hypotheses are independent, find the exact size of the test in Bonferroni's procedure. \n",
    "3. For $\\alpha=0.05$, evalaute the difference between $\\alpha$ and the exact test's size for $n=2,...,50$. Discuss what you see. \n",
    "\n"
   ]
  },
  {
   "cell_type": "code",
   "execution_count": null,
   "id": "5a690923-c1d8-4904-9ea1-e6d1f1f377a1",
   "metadata": {},
   "outputs": [],
   "source": []
  },
  {
   "cell_type": "code",
   "execution_count": null,
   "id": "a676e92f-f83d-4f65-bc13-a1ab52a01473",
   "metadata": {},
   "outputs": [],
   "source": []
  },
  {
   "cell_type": "code",
   "execution_count": null,
   "id": "1e54c9ed-8d44-41d4-996a-afe0456c2c0e",
   "metadata": {},
   "outputs": [],
   "source": []
  },
  {
   "cell_type": "code",
   "execution_count": null,
   "id": "a0c33e74-d893-4c44-abc6-2c4c19431e82",
   "metadata": {},
   "outputs": [],
   "source": []
  },
  {
   "cell_type": "markdown",
   "id": "4a018f9f-2b88-4bf2-a7ee-7fb3f44cba9a",
   "metadata": {},
   "source": [
    "If the $n$ hypotheses are independent, we know that the test size "
   ]
  },
  {
   "cell_type": "markdown",
   "id": "9d5630e5-5ed4-4162-b1fb-36b41a1c1fb7",
   "metadata": {},
   "source": [
    "#### Part 3"
   ]
  },
  {
   "cell_type": "code",
   "execution_count": 93,
   "id": "d88f2eea-84b2-4169-8e85-5878ba23b091",
   "metadata": {},
   "outputs": [],
   "source": [
    "ALPHA = 0.05 \n",
    "\n",
    "bonferroni = [1 - ((1-ALPHA/i) ** i) for i in range(2,51)]\n",
    "test_size = [1 - (1-ALPHA) ** i for i in range(2,51)]"
   ]
  },
  {
   "cell_type": "markdown",
   "id": "54919f28-35b9-4703-8f0a-a421ee16a7a0",
   "metadata": {},
   "source": [
    "I'll plot the data to see understand it better:"
   ]
  },
  {
   "cell_type": "code",
   "execution_count": 94,
   "id": "ecabd730-a4d2-4b7e-82db-94ecd5a58dc7",
   "metadata": {},
   "outputs": [
    {
     "data": {
      "image/png": "[encoded data removed]",
      "text/plain": [
       "<Figure size 720x720 with 1 Axes>"
      ]
     },
     "metadata": {
      "needs_background": "light"
     },
     "output_type": "display_data"
    }
   ],
   "source": [
    "plt.scatter(np.arange(1, len(bonferroni)+1), bonferroni, label = \"Bonfferoni\")\n",
    "plt.scatter(np.arange(1, len(test_size)+1), test_size, label = \"Test Size\")\n",
    "plt.plot([1, 51], [ALPHA, ALPHA], '--g',  alpha=.8, label=\"Alpha\")\n",
    "plt.title(\"Diff Between alpha And Test Size\")\n",
    "plt.legend()\n",
    "plt.show()"
   ]
  },
  {
   "cell_type": "markdown",
   "id": "ab09b050-3082-4e0f-b330-0827848ce854",
   "metadata": {},
   "source": [
    "As visible, the more comparisons we perform, the higher the test size gets. However, the Bonfferoni adjustment stays relatively constant under $\\alpha$."
   ]
  },
  {
   "cell_type": "markdown",
   "id": "2bc5b806",
   "metadata": {},
   "source": [
    "## Problem 4 (Prediction in Simple Regression)\n",
    "Consider the linear model:\n",
    "$$\n",
    "    y_i = \\beta_0 + \\beta_1 x_i + \\epsilon_i,\\qquad \\epsilon_i \\simiid \\Ncal(0,\\sigma^2)\n",
    "$$\n",
    "$$\n",
    "    Z = \\begin{pmatrix}\n",
    "    1 & x_1 \\\\\n",
    "    \\vdots & \\vdots \\\\\n",
    "    1 & x_n\n",
    "    \\end{pmatrix},\\quad \\beta=\\begin{pmatrix}\n",
    "    \\beta_0 \\\\\n",
    "    \\beta_1\n",
    "    \\end{pmatrix},\\qquad \\hat{\\beta}=(Z^\\top Z)^{-1} Z^\\top y\n",
    "$$\n",
    "Suppose we get a new data point $x_{n+1}$ and want to predict $y_{n+1}$. We want an interval in which this prediction will likely to land. In class, we used that \n",
    "$$\n",
    "\\var[\\hat{\\beta}_0 + \\hat{\\beta}_1 x] = \\frac{\\sigma^2}{n} \\left( \\frac{1}{n} + \\frac{(x-\\bar{x})^2}{S_{XX }}\\right)\n",
    "$$\n",
    "to obtain a confidence interval for $\\beta_0 + \\beta_1 x$, and a confidence band for all $x \\in \\reals$. In this question, you will use a similar reasoning to get a confidence interval (and bands) for $y_{n+1}$.\n",
    "1. Find the varaince of $y_{n+1} - (\\hat{\\beta}_0 + \\hat{\\beta}_1 x_{n+1})$ in terms of $\\sigma^2$ and $x_1,\\ldots,x_n$ and $x_{n+1}$ (you can use $\\bar{x}$ and $S_{XX}$ or any other well-defined function of $x_1,\\ldots,x_n$). Explain intuitively why it makes sense that this variance is larger than the variance of  $\\hat{\\beta}_0 + \\hat{\\beta}_1 x_{n+1}$. \n",
    "2. Find a $1-\\alpha$ confidence interval for $y_{n+1}$. Is this interval wider or narrower than that of $\\hat{\\beta}_0 + \\hat{\\beta}_1 x_{n+1}$? For what value of $x_{n+1}$ this interval is the narrowest?\n",
    "3. Suppose that we take the average of two responses $y$'s at the same $x_{n+1}$, say \n",
    "$$\n",
    "y_{n+1} =  \\frac{y_{n+1}^{(1)} + y_{n+1}^{(2)}}{2}, \n",
    "$$\n",
    "where\n",
    "$$\n",
    "y_{n+1}^{(1)} = \\beta_0 + \\beta_1 x_{n+1} + \\epsilon_{n+1}^{(1)}\n",
    "$$\n",
    "and \n",
    "$$\n",
    "y_{n+1}^{(2)} = \\beta_0 + \\beta_1 x_{n+1} + \\epsilon_{n+1}^{(2)},\n",
    "$$\n",
    "where $\\epsilon_{n+1}^{(1)}$ and $\\epsilon_{n+1}^{(2)}$ are independent. Find a confidence interval for $y_{n+1}$. Is it wider or narrower than the interval in (2) ?\n",
    "\n",
    "Note: The confidence interval you derived in 2 is somewhat risky to use becasue it makes the strong assumption that $\\epsilon_{n+1}$ is normal. This is compared to, say, confidence intrvals for $\\hat{\\beta}_0$ and $\\hat{\\beta}_1$ which rely on averages over all observations $y_1,\\ldots,y_n$ so we can use the Central Limit Theorem to argue for normality. Thigs gets better both in terms of varaince and normality assumption when you can take multiple measurements at the same $x_{n+1}$ and average those. \n"
   ]
  },
  {
   "cell_type": "markdown",
   "id": "517002e0-92c2-446f-90e8-b7acb2b4c81c",
   "metadata": {},
   "source": [
    "#### Part 1\n",
    "1. Find the varaince of $y_{n+1} - (\\hat{\\beta}_0 + \\hat{\\beta}_1 x_{n+1})$ in terms of $\\sigma^2$ and $x_1,\\ldots,x_n$ and $x_{n+1}$ (you can use $\\bar{x}$ and $S_{XX}$ or any other well-defined function of $x_1,\\ldots,x_n$). Explain intuitively why it makes sense that this variance is larger than the variance of  $\\hat{\\beta}_0 + \\hat{\\beta}_1 x_{n+1}$. \n"
   ]
  },
  {
   "cell_type": "markdown",
   "id": "6aa19207-88fc-4d47-8a7f-804da5dc0934",
   "metadata": {},
   "source": [
    "Basically, $y_{n+1} - (\\hat{\\beta}_0 + \\hat{\\beta}_1 x_{n+1})$ is the difference between the real value and the predicted value. We can calculate the variance of the term by:\n",
    "\n",
    "$$\n",
    "Var[y_{n+1} - (\\hat{\\beta}_0 + \\hat{\\beta}_1 x_{n+1})] = Var[y_{n+1}] - Var[\\hat{\\beta}_0 + \\hat{\\beta}_1 x_{n+1}]\n",
    "$$\n",
    "$$\n",
    "= \\sigma ^ 2 - \\sigma^2 ( \\frac{1}{n} + \\frac{(x_{n+1}-\\bar{x})^2}{S_{xx}})\n",
    "$$\n",
    "$$\n",
    "= \\sigma ^ 2 [1 + \\frac{1}{n} + \\frac{(x_{n+1}-\\bar{x})^2}{S_{xx}}]\n",
    "$$"
   ]
  },
  {
   "cell_type": "markdown",
   "id": "d528156b-c56b-49a1-8999-72acd8c583eb",
   "metadata": {},
   "source": [
    "It makes sense that the expression mentioned above will be larger than the variance of $\\hat{\\beta}_0 + \\hat{\\beta}_1 x$, as $\\hat{\\beta}_0 + \\hat{\\beta}_1 x$ as the $\\beta$ coefficients were built based on $x_i, i \\in [1,...,n]$ and were adjusted by it. However, the variance of the new instance, $y_{n+1}$, was not previously seen, hence it makes sense that the predicted error is larger than the one on previously seen data points."
   ]
  },
  {
   "cell_type": "markdown",
   "id": "a21ab922-5d20-45d2-8b63-67d2581b0b06",
   "metadata": {},
   "source": [
    "#### Part 2\n",
    "Find a  1−𝛼  confidence interval for  𝑦𝑛+1 . Is this interval wider or narrower than that of  𝛽̂ 0+𝛽̂ 1𝑥𝑛+1 ? For what value of  𝑥𝑛+1  this interval is the narrowest?"
   ]
  },
  {
   "cell_type": "markdown",
   "id": "6dccf84b-4b1e-4bd8-a9ff-a9d64eed89c5",
   "metadata": {},
   "source": [
    "The confidence interval for $y_{n+1}$ as seen in class, is as follows:\n",
    "\n",
    "$$\n",
    "y_{n+1} \\in [\\hat{\\beta}_0 + \\hat{\\beta}_1 X_{n+1} \\pm t^{1-\\frac{\\alpha}{2}}_{n-2} s \\sqrt{1 + \\frac{1}{n} + \\frac{x_{n+1} - \\bar{x}}{S_{xx}}}]\n",
    "$$\n",
    "\n",
    "While the confidence interval for $\\hat{\\beta}_0 + \\hat{\\beta}_1 x_{n+1}$ is:\n",
    "\n",
    "$$\n",
    "\\hat{\\beta}_0 + \\hat{\\beta}_1 x_{n+1} \\in [\\hat{\\beta}_0 + \\hat{\\beta}_1 x_{n+1} \\pm t^{1-\\frac{\\alpha}{2}}_{n-2} s \\sqrt{\\frac{1}{n} + \\frac{x_{n+1} - \\bar{x}}{S_{xx}}} ] \n",
    "$$"
   ]
  },
  {
   "cell_type": "markdown",
   "id": "6f2cf702-6522-4d4b-8e9f-88729c094914",
   "metadata": {},
   "source": [
    "Since the latter does not have 1 in the root, it is narrower. It makes intuitive sense as the REAL value of $y_{n+1}$ should have a larger variance than the PREDICTED value, $\\hat{y}_{n+1}$.\n",
    "The invertal is at it's narrowest when $x_{n+1} = \\bar{x}$, which again makes a lot of sense - most of the data is centralized around the mean value of $X$, $\\bar{x}$, and around these values we are most confident in our prediction. "
   ]
  },
  {
   "cell_type": "markdown",
   "id": "65fd880c-20f2-431a-b251-bfe9988b8db8",
   "metadata": {},
   "source": [
    "#### Part 3\n",
    "Suppose that we take the average of two responses $y$'s at the same $x_{n+1}$, say \n",
    "$$\n",
    "y_{n+1} =  \\frac{y_{n+1}^{(1)} + y_{n+1}^{(2)}}{2}, \n",
    "$$\n",
    "where\n",
    "$$\n",
    "y_{n+1}^{(1)} = \\beta_0 + \\beta_1 x_{n+1} + \\epsilon_{n+1}^{(1)}\n",
    "$$\n",
    "and \n",
    "$$\n",
    "y_{n+1}^{(2)} = \\beta_0 + \\beta_1 x_{n+1} + \\epsilon_{n+1}^{(2)},\n",
    "$$\n",
    "where $\\epsilon_{n+1}^{(1)}$ and $\\epsilon_{n+1}^{(2)}$ are independent. Find a confidence interval for $y_{n+1}$. Is it wider or narrower than the interval in (2) ?\n"
   ]
  },
  {
   "cell_type": "code",
   "execution_count": null,
   "id": "56ba36a4-c01a-4b44-bbd4-38d1343c5e81",
   "metadata": {},
   "outputs": [],
   "source": []
  },
  {
   "cell_type": "code",
   "execution_count": null,
   "id": "feb41cd6-5ffa-44e4-aef2-751ad761c762",
   "metadata": {},
   "outputs": [],
   "source": []
  },
  {
   "cell_type": "code",
   "execution_count": null,
   "id": "5f2d6bff-cd69-413d-8ce8-b1581d14060e",
   "metadata": {},
   "outputs": [],
   "source": []
  },
  {
   "cell_type": "code",
   "execution_count": null,
   "id": "6bd97267-bef9-47dc-bf03-6a2a73db23f0",
   "metadata": {},
   "outputs": [],
   "source": []
  }
 ],
 "metadata": {
  "kernelspec": {
   "display_name": "Python 3",
   "language": "python",
   "name": "python3"
  },
  "language_info": {
   "codemirror_mode": {
    "name": "ipython",
    "version": 3
   },
   "file_extension": ".py",
   "mimetype": "text/x-python",
   "name": "python",
   "nbconvert_exporter": "python",
   "pygments_lexer": "ipython3",
   "version": "3.8.8"
  }
 },
 "nbformat": 4,
 "nbformat_minor": 5
}
