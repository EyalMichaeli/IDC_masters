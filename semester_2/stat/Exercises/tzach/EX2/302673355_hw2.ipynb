{
 "cells": [
  {
   "cell_type": "markdown",
   "id": "e6447ca2",
   "metadata": {},
   "source": [
    "#### Advanced Statistics for Data Science (Spring 2022)\n",
    "# Home Assignment 2\n",
    "#### Topics:\n",
    "- Probability review\n",
    "- Distributional Properties of the Linear Model\n",
    "\n",
    "\n",
    "#### Due: 05/04/2022 by 18:30\n",
    "\n",
    "#### Instructions:\n",
    "- Write your name, Student ID, and date in the cell below. \n",
    "- Submit a copy of this notebook with code filled in the relevant places as the solution of coding excercises.\n",
    "- For theoretic excercises, you can either write your solution in the notebook using $\\LaTeX$ or submit additional notes.\n",
    "\n",
    "<hr>\n",
    "<hr>"
   ]
  },
  {
   "cell_type": "markdown",
   "id": "4dc6a671",
   "metadata": {},
   "source": [
    "\n",
    "**Name**: \n",
    "\n",
    "**Student ID**:\n",
    "\n",
    "**Date**:\n",
    "\n",
    "$\n",
    "\\newcommand{\\Id}{{\\mathbf{I}}}  \n",
    "\\newcommand{\\SSE}{\\mathsf{SSE}}\n",
    "\\newcommand{\\SSR}{\\mathsf{SSR}}\n",
    "\\newcommand{\\MSE}{\\mathsf{MSE}}\n",
    "\\newcommand{\\simiid}{\\overset{iid}{\\sim}}\n",
    "\\newcommand{\\ex}{\\mathbb E}\n",
    "\\newcommand{\\var}{\\mathrm{Var}}\n",
    "\\newcommand{\\Cov}[2]{{\\mathrm{Cov}  \\left(#1, #2 \\right)}}\n",
    "\\newcommand{\\one}[1]{\\mathbf 1 {\\left\\{#1\\right\\}}}\n",
    "\\newcommand{\\SE}[1]{\\mathrm{SE} \\left[#1\\right]}\n",
    "\\newcommand{\\reals}{\\mathbb R}\n",
    "\\newcommand{\\Ncal}{\\mathcal N}\n",
    "\\newcommand{\\abs}[1]{\\ensuremath{\\left\\vert#1\\right\\vert}}\n",
    "\\newcommand{\\rank}{\\operatorname{rank}}\n",
    "\\newcommand{\\tr}{\\operatorname{Tr}}\n",
    "\\newcommand{\\diag}{\\operatorname{diag}}\n",
    "\\newcommand{\\sign}{\\operatorname{sign}}\n",
    "$\n"
   ]
  },
  {
   "cell_type": "markdown",
   "id": "ca313178",
   "metadata": {},
   "source": [
    "<hr>\n",
    "<hr>"
   ]
  },
  {
   "cell_type": "markdown",
   "id": "ec1bca5c",
   "metadata": {},
   "source": [
    "## Problem 1 (The Normal Distribution)\n",
    "\n",
    "1. Let $Z = (Z_1,\\ldots,Z_9)^\\top \\sim \\Ncal(\\mu, I_9)$ where $\\mu \\in \\reals^9$. Show that $Z_1+Z_2+Z_3+Z_4$ is independent of $Z_1 + Z_2 - Z_3 - Z_4 - Z_5$.\n",
    "\n",
    "2. Suppose that $Z \\sim \\Ncal(\\mu, I_n)$ and let $X = AZ$ and $Y = BZ$ for non-random matrices $A$ and $B$. Find conditions on $A$ and $B$ such that $X$ independent of $Y$.\n",
    "\n",
    "3. Suppose that $Z_{ij} \\simiid \\Ncal(0, 1)$ for $i= 1,\\ldots,I$ and $j=1,\\ldots,J$. Define \n",
    "$$\n",
    "\\bar{Z}_{i\\bullet} := \\frac{1}{J} \\sum_{j=1}^J Z_{ij},\\qquad \\bar{Z}_{\\bullet j} := \\frac{1}{I} \\sum_{i=1}^I Z_{ij}, \\qquad \\bar{Z}_{\\bullet \\bullet} := \\frac{1}{IJ} \\sum_{j=1}^J \\sum_{i=1}^I Z_{ij}\n",
    "$$\n",
    "    - Is $\\bar{Z}_{i\\bullet}$ independent of $\\bar{Z}_{\\bullet j}$ ?\n",
    "    - Is $\\bar{Z}_{1\\bullet}$ independent of $\\bar{Z}_{2\\bullet}$ ?\n",
    "    - Is $\\bar{Z}_{i\\bullet} - \\bar{Z}_{\\bullet \\bullet}$ independent of $\\bar{Z}_{i\\bullet}$ ?\n",
    "\n",
    "4. Consider the variance-covariance matrix \n",
    "$$\n",
    "\\bar{\\Sigma} = \\begin{bmatrix} 1 & .25 \\\\\n",
    ".25 & 1\n",
    "\\end{bmatrix}\n",
    "$$\n",
    "Using as many samples as you need from the standard normal distribution (e.g. ``numpy.random.randn``), generate $N = 1000$ independent samples from the bivaraite normal distribution $\\Ncal(0, \\bar{\\Sigma})$ (you'll get $N$ pairs). Illustrate these samples over a sactter plot. \n",
    "\n",
    "5. Consider the region in $\\reals^2$:\n",
    "$$\n",
    "A = \\{ (x,y)\\,: 0 \\leq x \\leq 1, 0 \\leq y \\leq 2x\\}\n",
    "$$\n",
    "For $(X_1, X_2) \\sim \\Ncal(0, \\bar{\\Sigma})$, estimate \n",
    "$$\n",
    "\\Pr\\left[ (X_1, X_2) \\in A \\right]\n",
    "$$\n",
    "in two ways: \n",
    "    1. By evaluating the integral over the Gaussian density function\n",
    "    2. By estimating the fraction of samples in 4 that falls in the region $A$\n"
   ]
  },
  {
   "cell_type": "markdown",
   "id": "35886c91-ccca-4924-a233-2ee3d134c312",
   "metadata": {},
   "source": [
    "1. Let $Z = (Z_1,\\ldots,Z_9)^\\top \\sim \\Ncal(\\mu, I_9)$ where $\\mu \\in \\reals^9$. Show that $Z_1 + Z_2 + Z_3 + Z_4$ is independent of $Z_1 + Z_2 - Z_3 - Z_4 - Z_5$.\n"
   ]
  },
  {
   "cell_type": "markdown",
   "id": "e4d64a35-db83-4dde-a109-17e54cc7b9cf",
   "metadata": {},
   "source": [
    "### Answer\n",
    "Given that $\\Sigma = I_9$, we know that $Z_1,..., Z_9$ are mutually independent (since uncorrelatedness implies independence for normal RVs). \n",
    "\n",
    "To prove that $Z_1 + Z_2 + Z_3 + Z_4$ is independent of $Z_1 + Z_2 - Z_3 - Z_4 - Z_5$ we need to prove that $Cov(Z_1 + Z_2 + Z_3 + Z_4,Z_1 + Z_2 - Z_3 - Z_4 - Z_5) = 0$. <br>\n",
    "\n",
    "I'll define \n",
    "$$\n",
    "Y = [Z_1 + Z_2 + Z_3 + Z_4, Z_1 + Z_2 - Z_3 - Z_4 - Z_5]^T \\sim \\Ncal([\\mu_1 + \\mu_2 + \\mu_3 + \\mu_4, \\mu_1 + \\mu_2 - \\mu_3 - \\mu_4 - \\mu_5]^T, \\Sigma)\n",
    "$$\n",
    "\n",
    "Where\n",
    "$$\n",
    "\\Sigma = \\begin{bmatrix} 1 & Cov(Z_1 + Z_2 + Z_3 + Z_4,Z_1 + Z_2 - Z_3 - Z_4 - Z_5) \\\\\n",
    "Cov(Z_1 + Z_2 + Z_3 + Z_4,Z_1 + Z_2 - Z_3 - Z_4 - Z_5)^T & 1\n",
    "\\end{bmatrix} \n",
    "$$\n",
    "\n",
    "\n",
    "Looking at \n",
    "$$\n",
    "Cov(Z_1 + Z_2 + Z_3 + Z_4,Z_1 + Z_2 - Z_3 - Z_4 - Z_5)$$ \n",
    "we can say that:\n",
    "$$\n",
    "Cov(Z_1 + Z_2 + Z_3 + Z_4,Z_1 + Z_2 - Z_3 - Z_4 - Z_5) = Cov(Z_1, Z_1) + Cov(Z_1, Z_2) -Cov(Z_1, Z_3) - Cov(Z_1, Z_4) - Cov(Z_1, Z_5) + Cov(Z_2, Z_1) + Cov(Z_2, Z_2) -Cov(Z_2, Z_3) - Cov(Z_2, Z_4) - Cov(Z_2, Z_5) + Cov(Z_3, Z_1) + Cov(Z_3, Z_2) -Cov(Z_3, Z_3) - Cov(Z_3, Z_4) - Cov(Z_3, Z_5) + Cov(Z_4, Z_1) + Cov(Z_4, Z_2) -Cov(Z_4, Z_3) - Cov(Z_4, Z_4) - Cov(Z_4, Z_5) \n",
    "$$\n",
    "\n",
    "And since $Cov(Z_i, Z_i) = Var(Z_i)$, we can plug in what we already know from the fact that the variance-covariance matrix is the identity matrix and get:\n",
    "\n",
    "$$\n",
    "Cov(Z_1 + Z_2 + Z_3 + Z_4,Z_1 + Z_2 - Z_3 - Z_4 - Z_5) = 1 + 0 - 0 - 0 - 0 +0 + 1 - 0 - 0 - 0 + 0 + 0 - 1 - 0 - 0 + 0 + 0 + 0 - 1 - 0 = 0\n",
    "$$\n",
    "\n",
    "Hence, $\\Sigma$ that was defined above actually equals \n",
    "$$\n",
    "\\Sigma = \\begin{bmatrix} 1 & 0 \\\\\n",
    "0 & 1\n",
    "\\end{bmatrix} \n",
    "$$\n",
    "\n",
    "And the two variables are independent"
   ]
  },
  {
   "cell_type": "markdown",
   "id": "be99dc58-75ea-4883-a320-f929f2d9de25",
   "metadata": {},
   "source": [
    "2. Suppose that $Z \\sim \\Ncal(\\mu, I_n)$ and let $X = AZ$ and $Y = BZ$ for non-random matrices $A$ and $B$. Find conditions on $A$ and $B$ such that $X$ independent of $Y$."
   ]
  },
  {
   "cell_type": "markdown",
   "id": "b01a008e-0106-42db-9e6c-1d6c38a2da4a",
   "metadata": {},
   "source": [
    "### Answer\n",
    "\n",
    "As we saw in the lecture, given non-random matrices $A$, $B$, we get that $Cov(AX, BY) = A Cov(X,Y) B^T$. <br>\n",
    "In our case, $Cov(X,Y) = Cov(AZ, BZ) = A Cov(Z,Z) B^T = A Var(Z) B^T$ and since we'd like to find coditions for which $X$, $Y$ are independent, we'll solve $Cov(X,Y) = 0$\n",
    "$$ Cov(X,Y) = 0 $$\n",
    "$$A Var(Z) B^T = 0 $$\n",
    "\n",
    "For this to occur, the following need to happen:\n",
    "1. $A, B \\in \\reals^{n \\times n} $\n",
    "2. $A Var(Z) = 0$ OR $Var(Z) B^T = 0$"
   ]
  },
  {
   "cell_type": "markdown",
   "id": "450071c5-a7dc-4afa-a53d-46d47be95a78",
   "metadata": {},
   "source": [
    "3. Suppose that $Z_{ij} \\simiid \\Ncal(0, 1)$ for $i= 1,\\ldots,I$ and $j=1,\\ldots,J$. Define \n",
    "$$\n",
    "\\bar{Z}_{i\\bullet} := \\frac{1}{J} \\sum_{j=1}^J Z_{ij},\\qquad \\bar{Z}_{\\bullet j} := \\frac{1}{I} \\sum_{i=1}^I Z_{ij}, \\qquad \\bar{Z}_{\\bullet \\bullet} := \\frac{1}{IJ} \\sum_{j=1}^J \\sum_{i=1}^I Z_{ij}\n",
    "$$\n",
    "    - Is $\\bar{Z}_{i\\bullet}$ independent of $\\bar{Z}_{\\bullet j}$ ?\n",
    "    - Is $\\bar{Z}_{1\\bullet}$ independent of $\\bar{Z}_{2\\bullet}$ ?\n",
    "    - Is $\\bar{Z}_{i\\bullet} - \\bar{Z}_{\\bullet \\bullet}$ independent of $\\bar{Z}_{i\\bullet}$ ?\n"
   ]
  },
  {
   "cell_type": "markdown",
   "id": "1c1bc352-c2b8-4007-b6bb-1a645e1d7964",
   "metadata": {},
   "source": [
    "### Answer\n",
    "I'll answer that in a similar fashion to the first section:\n",
    "\n",
    "* When calculating $cov(\\bar{Z}_{i\\bullet}, \\bar{Z}_{\\bullet j})$, we will necessarily iterate over the same $Z_{i}{j}$ several times. Meaning, the same iid normal RVs constitute both $\\bar{Z}_{i\\bullet}$, and $\\bar{Z}_{\\bullet j}$. When this is the case, there is no way that their covariance will be 0 and that they will be independent.\n",
    "* When calculuating $cov(\\bar{Z}_{1\\bullet}, \\bar{Z}_{2\\bullet})$, we see that we are iterating over completely different RVs. Since it is given that the RVs $Z_{i}{j}$ are Independent and identically distributed, we know that the two distinct RVs are indepedent. Hence, $cov(\\bar{Z}_{1\\bullet}, \\bar{Z}_{2\\bullet}) = 0$ and the variables are independent\n",
    "* $cov(\\bar{Z}_{i\\bullet} - \\bar{Z}_{\\bullet \\bullet}, \\bar{Z}_{i\\bullet}) = cov(\\bar{Z}_{i\\bullet}, \\bar{Z}_{i\\bullet}) - cov(\\bar{Z}_{\\bullet \\bullet}, \\bar{Z}_{i\\bullet}) = 1 - cov(\\bar{Z}_{\\bullet \\bullet}, \\bar{Z}_{i\\bullet})$. Since $\\bar{Z}_{\\bullet \\bullet}, \\bar{Z}_{i\\bullet}$ share $J$ normal RVs, we know that their covariance is $\\geq 1$ , hence the variables aren't independent."
   ]
  },
  {
   "cell_type": "markdown",
   "id": "d881b459-4eba-4abe-b128-7ac27d22310a",
   "metadata": {},
   "source": [
    "4. Consider the variance-covariance matrix \n",
    "$$\n",
    "\\bar{\\Sigma} = \\begin{bmatrix} 1 & .25 \\\\\n",
    ".25 & 1\n",
    "\\end{bmatrix}\n",
    "$$\n",
    "Using as many samples as you need from the standard normal distribution (e.g. ``numpy.random.randn``), generate $N = 1000$ independent samples from the bivaraite normal distribution $\\Ncal(0, \\bar{\\Sigma})$ (you'll get $N$ pairs). Illustrate these samples over a sactter plot. \n"
   ]
  },
  {
   "cell_type": "code",
<<<<<<< HEAD
   "execution_count": 27,
=======
   "execution_count": 3,
>>>>>>> d8a111b0b34e32464907b4892b1d7bc6fa39e993
   "id": "24f1f620-5639-4218-b214-52bf8509afb9",
   "metadata": {},
   "outputs": [],
   "source": [
    "import numpy as np\n",
    "import seaborn as sns\n",
    "import matplotlib.pyplot as plt"
   ]
  },
  {
   "cell_type": "code",
   "execution_count": 24,
   "id": "f8853069-c48d-4354-af3e-50da6e691949",
   "metadata": {},
   "outputs": [
    {
     "name": "stdout",
     "output_type": "stream",
     "text": [
      "Reached target covariance!\n"
     ]
    }
   ],
   "source": [
    "ITERATIONS = 1_000_000\n",
    "TARGET = 0.25\n",
    "pool = np.random.randn(1_000_000)\n",
    "batch_0, batch_1 = list(np.random.choice(pool, 1_000)), list(np.random.choice(pool, 1_000))\n",
    "cov = np.cov(batch_0, batch_1)[0][1]\n",
    "index = 0\n",
    "\n",
    "for i in range(ITERATIONS):\n",
    "    new_batch_0 = batch_0.copy()\n",
    "    new_batch_0[index] = np.random.choice(pool)\n",
    "    new_cov = np.cov(new_batch_0, batch_1)[0][1]\n",
    "    if (new_cov > cov and cov < TARGET) or (new_cov < cov and cov > TARGET):\n",
    "        index += 1\n",
    "        batch_0 = new_batch_0\n",
    "        cov = new_cov\n",
    "    \n",
    "    if abs(TARGET - cov) < 0.001:\n",
    "        print(f\"Reached target covariance!\")\n",
    "        break"
   ]
  },
  {
   "cell_type": "code",
   "execution_count": 38,
   "id": "0ed18005-94de-4422-91a5-65f52ca6b06b",
   "metadata": {},
   "outputs": [
    {
     "data": {
      "image/png": "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\n",
      "text/plain": [
       "<Figure size 576x576 with 1 Axes>"
      ]
     },
     "metadata": {
      "needs_background": "light"
     },
     "output_type": "display_data"
    }
   ],
   "source": [
    "plt.rcParams['figure.figsize'] =  [8, 8]\n",
    "\n",
    "sns.scatterplot(x=batch_0, y=batch_1)\n",
    "plt.title(f\"scatter plot two samples, covariance = {cov:.2f}\".title())\n",
    "plt.show()"
   ]
  },
  {
   "cell_type": "markdown",
   "id": "53998241-2c07-4e78-b9c4-25a795d77e1e",
   "metadata": {},
   "source": [
    "5. Consider the region in $\\reals^2$:\n",
    "$$\n",
    "A = \\{ (x,y)\\,: 0 \\leq x \\leq 1, 0 \\leq y \\leq 2x\\}\n",
    "$$\n",
    "For $(X_1, X_2) \\sim \\Ncal(0, \\bar{\\Sigma})$, estimate \n",
    "$$\n",
    "\\Pr\\left[ (X_1, X_2) \\in A \\right]\n",
    "$$\n",
    "in two ways: \n",
    "    1. By evaluating the integral over the Gaussian density function\n",
    "    2. By estimating the fraction of samples in 4 that falls in the region $A$\n"
   ]
  },
  {
   "cell_type": "markdown",
   "id": "e7c603d9-c9ca-4286-8c35-f0e065c26fba",
   "metadata": {},
   "source": [
    "### Answer"
   ]
  },
  {
   "cell_type": "code",
   "execution_count": null,
<<<<<<< HEAD
=======
   "id": "23a4a3a6-836b-4c36-b43a-532adbcd8688",
   "metadata": {},
   "outputs": [],
   "source": []
  },
  {
   "cell_type": "code",
   "execution_count": 4,
>>>>>>> d8a111b0b34e32464907b4892b1d7bc6fa39e993
   "id": "90a28c75-0932-4b7b-994b-586f9cef0684",
   "metadata": {},
   "outputs": [],
   "source": [
    "from scipy.integrate import dblquad\n",
    "import math"
   ]
  },
  {
   "cell_type": "code",
   "execution_count": 5,
   "id": "f9caaa95-6579-4d38-8a15-cd813d6d2390",
   "metadata": {},
   "outputs": [
    {
     "name": "stderr",
     "output_type": "stream",
     "text": [
      "<>:6: SyntaxWarning: list indices must be integers or slices, not tuple; perhaps you missed a comma?\n",
      "<>:6: SyntaxWarning: list indices must be integers or slices, not tuple; perhaps you missed a comma?\n",
      "/var/folders/41/21yq_s992776m2qf34b8yrq40000gn/T/ipykernel_3828/1397264870.py:6: SyntaxWarning: list indices must be integers or slices, not tuple; perhaps you missed a comma?\n",
      "  Sig = np.array([[1, 0.25]\n"
     ]
    },
    {
     "ename": "TypeError",
     "evalue": "list indices must be integers or slices, not tuple",
     "output_type": "error",
     "traceback": [
      "\u001b[0;31m---------------------------------------------------------------------------\u001b[0m",
      "\u001b[0;31mTypeError\u001b[0m                                 Traceback (most recent call last)",
      "\u001b[0;32m/var/folders/41/21yq_s992776m2qf34b8yrq40000gn/T/ipykernel_3828/1397264870.py\u001b[0m in \u001b[0;36m<module>\u001b[0;34m\u001b[0m\n\u001b[1;32m      4\u001b[0m     \u001b[0;32mreturn\u001b[0m \u001b[0mterm\u001b[0m\u001b[0;34m*\u001b[0m\u001b[0mexp\u001b[0m\u001b[0;34m\u001b[0m\u001b[0;34m\u001b[0m\u001b[0m\n\u001b[1;32m      5\u001b[0m \u001b[0;34m\u001b[0m\u001b[0m\n\u001b[0;32m----> 6\u001b[0;31m Sig = np.array([[1, 0.25]\n\u001b[0m\u001b[1;32m      7\u001b[0m                  [0.25, 1]])\n\u001b[1;32m      8\u001b[0m \u001b[0mpdf\u001b[0m \u001b[0;34m=\u001b[0m \u001b[0;32mlambda\u001b[0m \u001b[0my1\u001b[0m\u001b[0;34m,\u001b[0m \u001b[0my2\u001b[0m\u001b[0;34m:\u001b[0m \u001b[0;34m(\u001b[0m\u001b[0;36m1\u001b[0m\u001b[0;34m/\u001b[0m\u001b[0;34m(\u001b[0m\u001b[0;34m(\u001b[0m\u001b[0;36m2\u001b[0m\u001b[0;34m*\u001b[0m\u001b[0mmath\u001b[0m\u001b[0;34m.\u001b[0m\u001b[0mpi\u001b[0m\u001b[0;34m)\u001b[0m\u001b[0;34m^\u001b[0m\u001b[0mmath\u001b[0m\u001b[0;34m.\u001b[0m\u001b[0msqrt\u001b[0m\u001b[0;34m(\u001b[0m\u001b[0mnp\u001b[0m\u001b[0;34m.\u001b[0m\u001b[0mlinalg\u001b[0m\u001b[0;34m.\u001b[0m\u001b[0mdet\u001b[0m\u001b[0;34m(\u001b[0m\u001b[0mSigma\u001b[0m\u001b[0;34m)\u001b[0m\u001b[0;34m)\u001b[0m\u001b[0;34m)\u001b[0m\u001b[0;34m)\u001b[0m \u001b[0;34m*\u001b[0m \u001b[0mnp\u001b[0m\u001b[0;34m.\u001b[0m\u001b[0me\u001b[0m\u001b[0;34m^\u001b[0m\u001b[0;34m(\u001b[0m\u001b[0;34m-\u001b[0m\u001b[0;36m1\u001b[0m\u001b[0;34m/\u001b[0m\u001b[0;36m2\u001b[0m\u001b[0;34m*\u001b[0m\u001b[0;34m(\u001b[0m\u001b[0my\u001b[0m\u001b[0;34m-\u001b[0m\u001b[0mmu\u001b[0m\u001b[0;34m)\u001b[0m\u001b[0;34m.\u001b[0m\u001b[0mT\u001b[0m\u001b[0;34m*\u001b[0m\u001b[0mnp\u001b[0m\u001b[0;34m.\u001b[0m\u001b[0mlinalg\u001b[0m\u001b[0;34m.\u001b[0m\u001b[0minv\u001b[0m\u001b[0;34m(\u001b[0m\u001b[0mSigma\u001b[0m\u001b[0;34m)\u001b[0m\u001b[0;34m*\u001b[0m\u001b[0;34m(\u001b[0m\u001b[0;34m-\u001b[0m\u001b[0mmu\u001b[0m\u001b[0;34m)\u001b[0m\u001b[0;34m)\u001b[0m\u001b[0;34m\u001b[0m\u001b[0;34m\u001b[0m\u001b[0m\n",
      "\u001b[0;31mTypeError\u001b[0m: list indices must be integers or slices, not tuple"
     ]
    }
   ],
   "source": [
    "def pdf_func(m, Sigma, y, mu): \n",
    "    term = 1/((2*math.pi)^math.sqrt(np.linalg.det(Sigma)))\n",
    "    exp = np.e^(-1/2*(y-mu).T*np.linalg.inv(Sigma)*(y-mu))\n",
    "    return term*exp\n",
    "\n",
    "Sig = np.array([[1, 0.25]\n",
    "                 [0.25, 1]])\n",
    "pdf = lambda y1, y2: (1/((2*math.pi)^math.sqrt(np.linalg.det(Sigma)))) * np.e^(-1/2*(y-mu).T*np.linalg.inv(Sigma)*(-mu))\n",
    "pdf = pdf_func(m=2, Sigma=Sig, mu=0)\n",
    "dblquad()"
   ]
  },
  {
   "cell_type": "code",
   "execution_count": 58,
   "id": "36679a4e-8d52-4b9f-9dee-9f5f01923c41",
   "metadata": {},
   "outputs": [
    {
     "name": "stdout",
     "output_type": "stream",
     "text": [
      "There are 106 pairs in the aforementioned sample that fits the criteria. \n",
      "\n",
      "Meaning, 10.6% of the samples fall in the region A\n"
     ]
    }
   ],
   "source": [
    "zipped = zip(batch_0, batch_1)\n",
    "filtered_zipped = [(x,y) for x,y in zipped if 0<x<1 and 0<y<2*x]\n",
    "print(f\"There are {len(filtered_zipped)} pairs in the aforementioned sample that fits the criteria. \\n\" )\n",
    "print(f\"Meaning, {len(filtered_zipped)/len(batch_0)*100:.1f}% of the samples fall in the region A\")"
   ]
  },
  {
   "cell_type": "markdown",
   "id": "0a990953",
   "metadata": {
    "jp-MarkdownHeadingCollapsed": true,
    "tags": []
   },
   "source": [
    "## Problem 2 (Conditional Distribution)\n",
    "$\\newcommand{\\ex}{\\mathbb E}$\n",
    "\n",
    "\n",
    "For\n",
    "$$\n",
    "\\begin{bmatrix}\n",
    "X \\\\\n",
    "Y \\\\\n",
    "Z \n",
    "\\end{bmatrix} \\sim \\Ncal\\left( \\begin{bmatrix} 1 \\\\\n",
    "2\\\\\n",
    "3\n",
    "\\end{bmatrix}, \\begin{bmatrix}\n",
    " 4 & 1 & 3 \\\\\n",
    " 1 & 2 & 3 \\\\\n",
    " 3 & 3 & 8\n",
    "\\end{bmatrix}\n",
    "\\right)\n",
    "$$\n",
    "find (numerically):\n",
    "1. The distribution of $X$ given that $Y = 1$.\n",
    "2. The joint distribution of $X$ and $Y$ given $Z = 1$.\n",
    "3. The distribution of $Y$ given that $Z = 2$ and $X = 3$.\n",
    "4. $Pr(Y \\in [-1,1] | Z=2, X=3)$\n",
    "<hr>\n",
    "<hr>"
   ]
  },
  {
   "cell_type": "code",
   "execution_count": null,
   "id": "101d33bc-8be8-430a-a659-44dadc8d4620",
   "metadata": {},
   "outputs": [],
   "source": []
  },
  {
   "cell_type": "code",
   "execution_count": null,
   "id": "f8382206-d7b0-41c0-b4c1-27a2ab51f3f2",
   "metadata": {},
   "outputs": [],
   "source": []
  },
  {
   "cell_type": "code",
   "execution_count": null,
   "id": "6a62135f-03e2-4e32-ad03-d8c129a3a941",
   "metadata": {},
   "outputs": [],
   "source": []
  },
  {
   "cell_type": "code",
   "execution_count": null,
   "id": "491dbdc7-0ab4-4f08-9c60-d8781161090e",
   "metadata": {},
   "outputs": [],
   "source": []
  },
  {
   "cell_type": "code",
   "execution_count": null,
   "id": "f367c304-3757-4e9b-bc0d-ab4b7d43ca34",
   "metadata": {},
   "outputs": [],
   "source": []
  },
  {
   "cell_type": "markdown",
   "id": "3f1d6ca8",
   "metadata": {},
   "source": [
    "## Problem 3 (Distributional Properties of Least Squares)\n",
    "Cosnider a least squares model with one predcitor $p=1$ without an intercept term, i.e. $y_i = \\beta x_i + \\epsilon_i$, $i=1,\\ldots,n$.\n",
    "1. Write the least squares solution $\\hat{\\beta} \\in \\mathbb R$ in terms of $x = (x_1,\\ldots,x_n)^\\top$ and $y = (y_1,\\ldots,y_n)^\\top$.\n",
    "2. With $\\hat{y}_i = \\hat{\\beta} x_i$ and $\\hat{\\epsilon}_i = y_i - \\hat{y}_i$, show that\n",
    " - $\\sum_{i=1}^n \\hat{y}_i \\hat{\\epsilon}_i = 0$\n",
    " - $\\|\\hat{\\epsilon}\\|^2 = \\|y\\|^2 -  \\|\\hat{y}\\|^2$\n",
    "3. Suppose that $\\epsilon_i \\sim N(0, 1)$. \n",
    " - What is the distribution of the random vector $[ \\hat{\\epsilon}~~ \\hat{y}]^\\top$?\n",
    " - What is the distribution of the random vector $[\\hat{y}~~ \\hat{\\beta}]^\\top$?\n",
    "4. Set $\\|\\epsilon\\|_{\\infty} := \\max_{i=1}^n |\\epsilon_i|$. What is $Pr( \\|\\hat{\\epsilon}\\|_{\\infty} > 2)$? is it larger or smaller than $Pr(\\|\\epsilon\\|_{\\infty}  > 2)$? (the point, we want to know if the predicted residuals tend to have less or more extreme values than the true ones)\n",
    "\n",
    "<hr>\n",
    "<hr>\n"
   ]
  },
  {
   "cell_type": "markdown",
   "id": "df91ae79-bbbb-4f60-be63-cc1840415941",
   "metadata": {},
   "source": [
    "1. Write the least squares solution $\\hat{\\beta} \\in \\mathbb R$ in terms of $x = (x_1,\\ldots,x_n)^\\top$ and $y = (y_1,\\ldots,y_n)^\\top$."
   ]
  },
  {
   "cell_type": "markdown",
   "id": "5e18c863-05ff-41e6-889b-340eec30ba9f",
   "metadata": {},
   "source": [
    "### Answer\n",
    "\n",
    "The least squares solution holds that $\\hat{\\beta} = (Z{^\\top}Z)^{-1}Z{^\\top}y$. In our data we know that $Z = (x_1,\\ldots,x_n)^\\top$ and that $y = (y_1,\\ldots,y_n)^\\top$.\n",
    "Hence, $$\n",
    "\\hat{\\beta} = [(x_1,\\ldots,x_n) \\cdot (x_1,\\ldots,x_n)^\\top]^{-1} \\cdot (y_1,\\ldots,y_n)^\\top\n",
    "$$"
   ]
  },
  {
   "cell_type": "markdown",
   "id": "7362e956-58c6-45fa-b35e-a0be306cb6ab",
   "metadata": {},
   "source": [
    "2. With $\\hat{y}_i = \\hat{\\beta} x_i$ and $\\hat{\\epsilon}_i = y_i - \\hat{y}_i$, show that\n",
    " - $\\sum_{i=1}^n \\hat{y}_i \\hat{\\epsilon}_i = 0$\n",
    " - $\\|\\hat{\\epsilon}\\|^2 = \\|y\\|^2 -  \\|\\hat{y}\\|^2$"
   ]
  },
  {
   "cell_type": "markdown",
   "id": "24724fff-4d61-4293-94f3-b028972dcd61",
   "metadata": {},
   "source": [
    "### Answer\n",
    "\n",
    "1. $\\sum_{i=1}^n \\hat{y}_i \\hat{\\epsilon}_i = \\sum_{i=1}^n \\hat{\\beta}x_i \\cdot \\hat{\\epsilon}_i =  \n",
    "\\hat{\\beta} \\sum_{i=1}^n x_i \\cdot \\hat{\\epsilon}_i$\n",
    "\n",
    "When finding $\\hat{\\beta}$ we derived $\\sum_{i=1}^n y_i - \\beta x_i - \\epsilon$ by $\\beta$ and saw that $\\sum_{i=1}^n x_i \\cdot \\hat{\\epsilon}_i = 0$. Plug it in to the above equation and \n",
    "$ \\sum_{i=1}^n \\hat{\\beta} \\sum_{i=1}^n x_i \\cdot \\hat{\\epsilon}_i =  \\sum_{i=1}^n \\hat{\\beta} \\cdot 0 = 0$ \n",
    "\n",
    "$QED$\n",
    "\n",
    "\n",
    "2. $\\|\\hat{\\epsilon}\\|^2 = \\|y\\|^2 -  \\|\\hat{y}\\|^2$\n",
    "Since $\\|x+y\\|^2 = \\|x\\|^2 + \\|y\\|^2$, we can plug in $\\|\\hat{\\epsilon}\\|^2 = \\|y_i - \\hat{y}_i\\|^2$ \n",
    "\n",
    "$QED$\n"
   ]
  },
  {
   "cell_type": "markdown",
   "id": "5c34d31f-c7e2-4e41-8fe7-2150dcb3542e",
   "metadata": {},
   "source": [
    "3. Suppose that $\\epsilon_i \\sim N(0, 1)$. \n",
    " - What is the distribution of the random vector $[ \\hat{\\epsilon}~~ \\hat{y}]^\\top$?\n",
    " - What is the distribution of the random vector $[\\hat{y}~~ \\hat{\\beta}]^\\top$?"
   ]
  },
  {
   "cell_type": "markdown",
   "id": "0f8c4853-822d-48ce-8885-3987f6c57b88",
   "metadata": {},
   "source": [
    "### Answer\n",
    "\n",
    "1. Since $cov(\\hat{\\epsilon}, \\hat{y}) = 0$, meaning, they are independent, we can say that:\n",
    "$$ [ \\hat{\\epsilon}, \\hat{y}]^\\top \\sim \\Ncal[(0,Z\\beta)^\\top, \\begin{bmatrix} 1 & 0 \\\\\n",
    "0 & \\sigma^2I_n\n",
    "\\end{bmatrix}]\n",
    "$$"
   ]
  },
  {
   "cell_type": "markdown",
   "id": "cbe30306-059a-4b4c-9bb0-133a44f445f6",
   "metadata": {},
   "source": [
    "2. Since we know that $\\hat{beta} = x^T\\hat{\\beta}$, we can calculate the covarinace:\n",
    "$$ cov(\\hat{y},\\hat{\\beta}) = cov(x^\\top \\hat{\\beta}, \\hat{\\beta}) = cov(\\hat{\\beta}, \\hat{\\beta}) x = var( \\hat{\\beta}) x\n",
    "$$\n",
    "Since $var(\\hat{\\beta}) = \\sigma^2(x^Tx)^-1 $, and $\\sigma^2 = 1$ we can plug in and get \n",
    "$$\n",
    "cov(\\hat{y},\\hat{\\beta}) = (x^Tx)^-1 x\n",
    "$$\n",
    "And thus:\n",
    "$$[\\hat{y}~~ \\hat{\\beta}]^\\top \\sim \\Ncal[(Z\\beta, \\beta)^\\top, \\begin{bmatrix} \\sigma^2I_n & (x^Tx)^-1 x \\\\\n",
    "((x^Tx)^-1 x)^T & (x^Tx)^-1\n",
    "\\end{bmatrix}]\n",
    "$$"
   ]
  },
  {
   "cell_type": "markdown",
   "id": "deda49d2-7b51-462a-b33c-fa435878fc50",
   "metadata": {},
   "source": [
    "4. Set $\\|\\epsilon\\|_{\\infty} := \\max_{i=1}^n |\\epsilon_i|$. What is $Pr( \\|\\hat{\\epsilon}\\|_{\\infty} > 2)$? is it larger or smaller than $Pr(\\|\\epsilon\\|_{\\infty}  > 2)$? (the point, we want to know if the predicted residuals tend to have less or more extreme values than the true ones)"
   ]
  },
  {
   "cell_type": "markdown",
   "id": "1cb6f040-a408-4b73-b4c2-7c5026c9e73f",
   "metadata": {},
   "source": [
    "### Answer\n",
    "We know that $\\epsilon_i \\sim N(0, 1)$ and the $\\hat{\\epsilon}_i \\sim N(0, I-H)$.\n",
    "If $I-H > 1$, then $Pr( \\|\\hat{\\epsilon}\\|_{\\infty} > 2) > Pr(\\|\\epsilon\\|_{\\infty}  > 2)$ and vice versa."
   ]
  },
  {
   "cell_type": "markdown",
   "id": "e66c79f9",
   "metadata": {},
   "source": [
    "## Problem 4 (Model fitting and t-Test)\n",
    "Cosnider the house prices dataset from the EDA notebook, which you can obtain from kaggle via:"
   ]
  },
  {
   "cell_type": "code",
   "execution_count": null,
   "id": "e35018da",
   "metadata": {},
   "outputs": [],
   "source": [
    "!kaggle competitions download -c house-prices-advanced-regression-techniques\n",
    "!mkdir house-prices\n",
    "!unzip house-prices-advanced-regression-techniques.zip -d house-prices/"
   ]
  },
  {
   "cell_type": "markdown",
   "id": "171e9d76",
   "metadata": {},
   "source": [
    "Only consider houses of lot size smaller than $15,000$ square feet, e.g. by using"
   ]
  },
  {
   "cell_type": "code",
   "execution_count": null,
   "id": "38a83608",
   "metadata": {},
   "outputs": [],
   "source": [
    "import pandas as pd\n",
    "data_raw = pd.read_csv(\"house-prices/train.csv\")\n",
    "data = data_raw[data_raw.LotArea < 15000]  # we focus on small lots"
   ]
  },
  {
   "cell_type": "markdown",
   "id": "bc3d9e14",
   "metadata": {},
   "source": [
    "Consider predicting ``SalePrice`` via a linear model with predictors:"
   ]
  },
  {
   "cell_type": "code",
   "execution_count": null,
   "id": "aaea859b",
   "metadata": {},
   "outputs": [],
   "source": [
    "feat_set1 = ['LotArea',  'YearBuilt', 'YrSold', 'GarageCars',\n",
    "             'FullBath', 'TotalBsmtSF', 'GarageArea', 'OverallQual']"
   ]
  },
  {
   "cell_type": "markdown",
   "id": "e6a62625",
   "metadata": {},
   "source": [
    "plus a constant. "
   ]
  },
  {
   "cell_type": "markdown",
   "id": "b676571d",
   "metadata": {},
   "source": [
    "1. Find the least squares estimate $\\hat{\\beta}$ of this model.\n",
    "2. Find $R^2$ of this model.\n",
    "3. For each $\\beta_j$, $j=1,\\ldots,9$, evaluate the $t$ statistic corresponding to testing \n",
    "$$\n",
    "H_{0j}\\,:\\, \\beta_j=0\n",
    "$$\n",
    "and its P-values (identify first the number of degrees of freedom). \n",
    "4. Which of these statistics exceeds the $0.975$-th quantile of the corresponding $t$ distribution and below the $0.025$-th quantile? (values exceeding theses quantiles are strong evidence against $H_{0j}$)\n",
    "5. Consider a smaller model involving only ``LotArea``,  ``YearBuilt``, ``YrSold`` as predictors. Find the least squares estimate of this smaller model and its sum of sqaures. Is this model provides a valid representation of the data compared to the original larger one? Answer your question by evaluating the relevant $F$ statistic and report on the F-test's P-value. \n",
    "\n",
    "<hr>\n",
    "<hr>"
   ]
  },
  {
   "cell_type": "code",
   "execution_count": null,
   "id": "5409e12c",
   "metadata": {},
   "outputs": [],
   "source": []
  }
 ],
 "metadata": {
  "kernelspec": {
   "display_name": "Python 3 (ipykernel)",
   "language": "python",
   "name": "python3"
  },
  "language_info": {
   "codemirror_mode": {
    "name": "ipython",
    "version": 3
   },
   "file_extension": ".py",
   "mimetype": "text/x-python",
   "name": "python",
   "nbconvert_exporter": "python",
   "pygments_lexer": "ipython3",
   "version": "3.8.5"
  }
 },
 "nbformat": 4,
 "nbformat_minor": 5
}
