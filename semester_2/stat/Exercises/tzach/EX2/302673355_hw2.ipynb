{
 "cells": [
  {
   "cell_type": "markdown",
   "id": "e6447ca2",
   "metadata": {},
   "source": [
    "#### Advanced Statistics for Data Science (Spring 2022)\n",
    "# Home Assignment 2\n",
    "#### Topics:\n",
    "- Probability review\n",
    "- Distributional Properties of the Linear Model\n",
    "\n",
    "\n",
    "#### Due: 05/04/2022 by 18:30\n",
    "\n",
    "#### Instructions:\n",
    "- Write your name, Student ID, and date in the cell below. \n",
    "- Submit a copy of this notebook with code filled in the relevant places as the solution of coding excercises.\n",
    "- For theoretic excercises, you can either write your solution in the notebook using $\\LaTeX$ or submit additional notes.\n",
    "\n",
    "<hr>\n",
    "<hr>"
   ]
  },
  {
   "cell_type": "markdown",
   "id": "4dc6a671",
   "metadata": {},
   "source": [
    "\n",
    "**Name**: \n",
    "\n",
    "**Student ID**:\n",
    "\n",
    "**Date**:\n",
    "\n",
    "$\n",
    "\\newcommand{\\Id}{{\\mathbf{I}}}  \n",
    "\\newcommand{\\SSE}{\\mathsf{SSE}}\n",
    "\\newcommand{\\SSR}{\\mathsf{SSR}}\n",
    "\\newcommand{\\MSE}{\\mathsf{MSE}}\n",
    "\\newcommand{\\simiid}{\\overset{iid}{\\sim}}\n",
    "\\newcommand{\\ex}{\\mathbb E}\n",
    "\\newcommand{\\var}{\\mathrm{Var}}\n",
    "\\newcommand{\\Cov}[2]{{\\mathrm{Cov}  \\left(#1, #2 \\right)}}\n",
    "\\newcommand{\\one}[1]{\\mathbf 1 {\\left\\{#1\\right\\}}}\n",
    "\\newcommand{\\SE}[1]{\\mathrm{SE} \\left[#1\\right]}\n",
    "\\newcommand{\\reals}{\\mathbb R}\n",
    "\\newcommand{\\Ncal}{\\mathcal N}\n",
    "\\newcommand{\\abs}[1]{\\ensuremath{\\left\\vert#1\\right\\vert}}\n",
    "\\newcommand{\\rank}{\\operatorname{rank}}\n",
    "\\newcommand{\\tr}{\\operatorname{Tr}}\n",
    "\\newcommand{\\diag}{\\operatorname{diag}}\n",
    "\\newcommand{\\sign}{\\operatorname{sign}}\n",
    "$\n"
   ]
  },
  {
   "cell_type": "markdown",
   "id": "ca313178",
   "metadata": {},
   "source": [
    "<hr>\n",
    "<hr>"
   ]
  },
  {
   "cell_type": "markdown",
   "id": "ec1bca5c",
   "metadata": {},
   "source": [
    "## Problem 1 (The Normal Distribution)\n",
    "\n",
    "1. Let $Z = (Z_1,\\ldots,Z_9)^\\top \\sim \\Ncal(\\mu, I_9)$ where $\\mu \\in \\reals^9$. Show that $Z_1+Z_2+Z_3+Z_4$ is independent of $Z_1 + Z_2 - Z_3 - Z_4 - Z_5$.\n",
    "\n",
    "2. Suppose that $Z \\sim \\Ncal(\\mu, I_n)$ and let $X = AZ$ and $Y = BZ$ for non-random matrices $A$ and $B$. Find conditions on $A$ and $B$ such that $X$ independent of $Y$.\n",
    "\n",
    "3. Suppose that $Z_{ij} \\simiid \\Ncal(0, 1)$ for $i= 1,\\ldots,I$ and $j=1,\\ldots,J$. Define \n",
    "$$\n",
    "\\bar{Z}_{i\\bullet} := \\frac{1}{J} \\sum_{j=1}^J Z_{ij},\\qquad \\bar{Z}_{\\bullet j} := \\frac{1}{I} \\sum_{i=1}^I Z_{ij}, \\qquad \\bar{Z}_{\\bullet \\bullet} := \\frac{1}{IJ} \\sum_{j=1}^J \\sum_{i=1}^I Z_{ij}\n",
    "$$\n",
    "    - Is $\\bar{Z}_{i\\bullet}$ independent of $\\bar{Z}_{\\bullet j}$ ?\n",
    "    - Is $\\bar{Z}_{1\\bullet}$ independent of $\\bar{Z}_{2\\bullet}$ ?\n",
    "    - Is $\\bar{Z}_{i\\bullet} - \\bar{Z}_{\\bullet \\bullet}$ independent of $\\bar{Z}_{i\\bullet}$ ?\n",
    "\n",
    "4. Consider the variance-covariance matrix \n",
    "$$\n",
    "\\bar{\\Sigma} = \\begin{bmatrix} 1 & .25 \\\\\n",
    ".25 & 1\n",
    "\\end{bmatrix}\n",
    "$$\n",
    "Using as many samples as you need from the standard normal distribution (e.g. ``numpy.random.randn``), generate $N = 1000$ independent samples from the bivaraite normal distribution $\\Ncal(0, \\bar{\\Sigma})$ (you'll get $N$ pairs). Illustrate these samples over a sactter plot. \n",
    "\n",
    "5. Consider the region in $\\reals^2$:\n",
    "$$\n",
    "A = \\{ (x,y)\\,: 0 \\leq x \\leq 1, 0 \\leq y \\leq 2x\\}\n",
    "$$\n",
    "For $(X_1, X_2) \\sim \\Ncal(0, \\bar{\\Sigma})$, estimate \n",
    "$$\n",
    "\\Pr\\left[ (X_1, X_2) \\in A \\right]\n",
    "$$\n",
    "in two ways: \n",
    "    1. By evaluating the integral over the Gaussian density function\n",
    "    2. By estimating the fraction of samples in 4 that falls in the region $A$\n"
   ]
  },
  {
   "cell_type": "markdown",
   "id": "35886c91-ccca-4924-a233-2ee3d134c312",
   "metadata": {},
   "source": [
    "1. Let $Z = (Z_1,\\ldots,Z_9)^\\top \\sim \\Ncal(\\mu, I_9)$ where $\\mu \\in \\reals^9$. Show that $Z_1 + Z_2 + Z_3 + Z_4$ is independent of $Z_1 + Z_2 - Z_3 - Z_4 - Z_5$.\n"
   ]
  },
  {
   "cell_type": "markdown",
   "id": "e4d64a35-db83-4dde-a109-17e54cc7b9cf",
   "metadata": {},
   "source": [
    "### Answer\n",
    "Given that $\\Sigma = I_9$, we know that $Z_1,..., Z_9$ are mutually independent (since uncorrelatedness implies independence for normal RVs). \n",
    "\n",
    "To prove that $Z_1 + Z_2 + Z_3 + Z_4$ is independent of $Z_1 + Z_2 - Z_3 - Z_4 - Z_5$ we need to prove that $Cov(Z_1 + Z_2 + Z_3 + Z_4,Z_1 + Z_2 - Z_3 - Z_4 - Z_5) = 0$. <br>\n",
    "\n",
    "I'll define \n",
    "$$\n",
    "Y = [Z_1 + Z_2 + Z_3 + Z_4, Z_1 + Z_2 - Z_3 - Z_4 - Z_5]^T \\sim \\Ncal([\\mu_1 + \\mu_2 + \\mu_3 + \\mu_4, \\mu_1 + \\mu_2 - \\mu_3 - \\mu_4 - \\mu_5]^T, \\Sigma)\n",
    "$$\n",
    "\n",
    "Where\n",
    "$$\n",
    "\\Sigma = \\begin{bmatrix} 1 & Cov(Z_1 + Z_2 + Z_3 + Z_4,Z_1 + Z_2 - Z_3 - Z_4 - Z_5) \\\\\n",
    "Cov(Z_1 + Z_2 + Z_3 + Z_4,Z_1 + Z_2 - Z_3 - Z_4 - Z_5)^T & 1\n",
    "\\end{bmatrix} \n",
    "$$\n",
    "\n",
    "\n",
    "Looking at \n",
    "$$\n",
    "Cov(Z_1 + Z_2 + Z_3 + Z_4,Z_1 + Z_2 - Z_3 - Z_4 - Z_5)$$ \n",
    "we can say that:\n",
    "$$\n",
    "Cov(Z_1 + Z_2 + Z_3 + Z_4,Z_1 + Z_2 - Z_3 - Z_4 - Z_5) = Cov(Z_1, Z_1) + Cov(Z_1, Z_2) -Cov(Z_1, Z_3) - Cov(Z_1, Z_4) - Cov(Z_1, Z_5) + Cov(Z_2, Z_1) + Cov(Z_2, Z_2) -Cov(Z_2, Z_3) - Cov(Z_2, Z_4) - Cov(Z_2, Z_5) + Cov(Z_3, Z_1) + Cov(Z_3, Z_2) -Cov(Z_3, Z_3) - Cov(Z_3, Z_4) - Cov(Z_3, Z_5) + Cov(Z_4, Z_1) + Cov(Z_4, Z_2) -Cov(Z_4, Z_3) - Cov(Z_4, Z_4) - Cov(Z_4, Z_5) \n",
    "$$\n",
    "\n",
    "And since $Cov(Z_i, Z_i) = Var(Z_i)$, we can plug in what we already know from the fact that the variance-covariance matrix is the identity matrix and get:\n",
    "\n",
    "$$\n",
    "Cov(Z_1 + Z_2 + Z_3 + Z_4,Z_1 + Z_2 - Z_3 - Z_4 - Z_5) = 1 + 0 - 0 - 0 - 0 +0 + 1 - 0 - 0 - 0 + 0 + 0 - 1 - 0 - 0 + 0 + 0 + 0 - 1 - 0 = 0\n",
    "$$\n",
    "\n",
    "Hence, $\\Sigma$ that was defined above actually equals \n",
    "$$\n",
    "\\Sigma = \\begin{bmatrix} 1 & 0 \\\\\n",
    "0 & 1\n",
    "\\end{bmatrix} \n",
    "$$\n",
    "\n",
    "And the two variables are independent"
   ]
  },
  {
   "cell_type": "markdown",
   "id": "be99dc58-75ea-4883-a320-f929f2d9de25",
   "metadata": {},
   "source": [
    "2. Suppose that $Z \\sim \\Ncal(\\mu, I_n)$ and let $X = AZ$ and $Y = BZ$ for non-random matrices $A$ and $B$. Find conditions on $A$ and $B$ such that $X$ independent of $Y$."
   ]
  },
  {
   "cell_type": "markdown",
   "id": "b01a008e-0106-42db-9e6c-1d6c38a2da4a",
   "metadata": {},
   "source": [
    "### Answer\n",
    "\n",
    "As we saw in the lecture, given non-random matrices $A$, $B$, we get that $Cov(AX, BY) = A Cov(X,Y) B^T$. <br>\n",
    "In our case, $Cov(X,Y) = Cov(AZ, BZ) = A Cov(Z,Z) B^T = A Var(Z) B^T$ and since we'd like to find coditions for which $X$, $Y$ are independent, we'll solve $Cov(X,Y) = 0$\n",
    "$$ Cov(X,Y) = 0 $$\n",
    "$$A Var(Z) B^T = 0 $$\n",
    "\n",
    "For this to occur, the following need to happen:\n",
    "1. $A, B \\in \\reals^{n \\times n} $\n",
    "2. $A Var(Z) = 0$ OR $Var(Z) B^T = 0$"
   ]
  },
  {
   "cell_type": "markdown",
   "id": "450071c5-a7dc-4afa-a53d-46d47be95a78",
   "metadata": {},
   "source": [
    "3. Suppose that $Z_{ij} \\simiid \\Ncal(0, 1)$ for $i= 1,\\ldots,I$ and $j=1,\\ldots,J$. Define \n",
    "$$\n",
    "\\bar{Z}_{i\\bullet} := \\frac{1}{J} \\sum_{j=1}^J Z_{ij},\\qquad \\bar{Z}_{\\bullet j} := \\frac{1}{I} \\sum_{i=1}^I Z_{ij}, \\qquad \\bar{Z}_{\\bullet \\bullet} := \\frac{1}{IJ} \\sum_{j=1}^J \\sum_{i=1}^I Z_{ij}\n",
    "$$\n",
    "    - Is $\\bar{Z}_{i\\bullet}$ independent of $\\bar{Z}_{\\bullet j}$ ?\n",
    "    - Is $\\bar{Z}_{1\\bullet}$ independent of $\\bar{Z}_{2\\bullet}$ ?\n",
    "    - Is $\\bar{Z}_{i\\bullet} - \\bar{Z}_{\\bullet \\bullet}$ independent of $\\bar{Z}_{i\\bullet}$ ?\n"
   ]
  },
  {
   "cell_type": "markdown",
   "id": "1c1bc352-c2b8-4007-b6bb-1a645e1d7964",
   "metadata": {},
   "source": [
    "### Answer\n",
    "I'll answer that in a similar fashion to the first section:\n",
    "\n",
    "* When calculating $cov(\\bar{Z}_{i\\bullet}, \\bar{Z}_{\\bullet j})$, we will necessarily iterate over the same $Z_{i}{j}$ several times. Meaning, the same iid normal RVs constitute both $\\bar{Z}_{i\\bullet}$, and $\\bar{Z}_{\\bullet j}$. When this is the case, there is no way that their covariance will be 0 and that they will be independent.\n",
    "* When calculuating $cov(\\bar{Z}_{1\\bullet}, \\bar{Z}_{2\\bullet})$, we see that we are iterating over completely different RVs. Since it is given that the RVs $Z_{i}{j}$ are Independent and identically distributed, we know that the two distinct RVs are indepedent. Hence, $cov(\\bar{Z}_{1\\bullet}, \\bar{Z}_{2\\bullet}) = 0$ and the variables are independent\n",
    "* $cov(\\bar{Z}_{i\\bullet} - \\bar{Z}_{\\bullet \\bullet}, \\bar{Z}_{i\\bullet}) = cov(\\bar{Z}_{i\\bullet}, \\bar{Z}_{i\\bullet}) - cov(\\bar{Z}_{\\bullet \\bullet}, \\bar{Z}_{i\\bullet}) = 1 - cov(\\bar{Z}_{\\bullet \\bullet}, \\bar{Z}_{i\\bullet})$. Since $\\bar{Z}_{\\bullet \\bullet}, \\bar{Z}_{i\\bullet}$ share $J$ normal RVs, we know that their covariance is $\\geq 1$ , hence the variables aren't independent."
   ]
  },
  {
   "cell_type": "markdown",
   "id": "d881b459-4eba-4abe-b128-7ac27d22310a",
   "metadata": {},
   "source": [
    "4. Consider the variance-covariance matrix \n",
    "$$\n",
    "\\bar{\\Sigma} = \\begin{bmatrix} 1 & .25 \\\\\n",
    ".25 & 1\n",
    "\\end{bmatrix}\n",
    "$$\n",
    "Using as many samples as you need from the standard normal distribution (e.g. ``numpy.random.randn``), generate $N = 1000$ independent samples from the bivaraite normal distribution $\\Ncal(0, \\bar{\\Sigma})$ (you'll get $N$ pairs). Illustrate these samples over a sactter plot. \n"
   ]
  },
  {
   "cell_type": "code",
   "execution_count": 3,
   "id": "24f1f620-5639-4218-b214-52bf8509afb9",
   "metadata": {},
   "outputs": [],
   "source": [
    "import numpy as np\n",
    "import seaborn as sns"
   ]
  },
  {
   "cell_type": "code",
   "execution_count": null,
   "id": "9c85ba9f-d396-444b-81ca-ceeb23f82b89",
   "metadata": {},
   "outputs": [],
   "source": [
    "pool = np.random.randn(1_000_000)\n",
    "batch_0, batch_1 = list(np.random.randn(10)), list(np.random.randn(10))\n",
    "for iteration in range(1_000_000):\n",
    "    i = np.random.choice(pool)\n",
    "    j = np.random.choice(pool)\n",
    "#     print(np.cov(batch_0, batch_1))\n",
    "    if len(batch_0) == 1_000:\n",
    "        print(iteration)\n",
    "        print(np.cov(batch_0, batch_1))\n",
    "    new_batch_0, new_batch_1 = batch_0, batch_1\n",
    "    new_batch_0.append(i)\n",
    "    new_batch_1.append(j)\n",
    "#         print(batch_0)\n",
    "    cov = np.cov(batch_0, batch_1)[0][1]\n",
    "    new_cov = np.cov(new_batch_0, new_batch_1)[0][1]\n",
    "#         print(f\"new cov {new_cov}, old cov {cov}\")\n",
    "    if (cov < 0.25 and round(new_cov, 5) > round(cov, 5)) or (round(cov, 2) == round(new_cov, 2) == 0.25):\n",
    "        batch_0.append(i)\n",
    "        batch_1.append(j)\n",
    "#         print(cov, new_cov)\n"
   ]
  },
  {
   "cell_type": "code",
   "execution_count": null,
   "id": "e3b3729b-cf8a-4449-81bc-c96895b53ebb",
   "metadata": {},
   "outputs": [],
   "source": [
    "np.random.randint(0, 26*1000)"
   ]
  },
  {
   "cell_type": "code",
   "execution_count": null,
   "id": "f8853069-c48d-4354-af3e-50da6e691949",
   "metadata": {},
   "outputs": [],
   "source": [
    "pool = np.random.randn(1_000_000)\n",
    "TARGET = 0.25\n",
    "batch_0, batch_1 = list(np.random.choice(pool,1000)), list(np.random.choice(pool,1000))\n",
    "batch_cov = np.cov(batch_0, batch_1)[0][1]\n",
    "while abs(TARGET - batch_cov) > 0.01:\n",
    "    index = 0\n",
    "    new_batch_1 = batch_1\n",
    "    new_batch_1[index] = np.random.choice(pool)\n",
    "    new_cov = np.cov(batch_0, new_batch_1)[0][1]\n",
    "    if abs(TARGET - new_cov) >= abs(TARGET - batch_cov):\n",
    "        batch_1 = new_batch_1\n",
    "        batch_cov = np.cov(batch_0, batch_1)[0][1]\n",
    "    index += 1\n",
    "    \n",
    "    if index % 100 == 0:\n",
    "        print(f\"i is {i}, cov is {batch_cov}\")\n"
   ]
  },
  {
   "cell_type": "code",
   "execution_count": null,
   "id": "aed9ec3a-c360-4818-9939-efc740e768c5",
   "metadata": {},
   "outputs": [],
   "source": [
    "MAX_ITER = 100000000\n",
    "print_freq = 100  # iterations\n",
    "\n",
    "# question 4\n",
    "def create_samples_multivariate(wanted_cov=0.25, size=1000):\n",
    "    samples_normal = np.random.normal(loc=0, scale=1, size=size*1000)\n",
    "    \n",
    "    permute_half = np.random.permutation(size)\n",
    "    Z1 = samples_normal[permute_half]\n",
    "    \n",
    "    permute_half = np.random.permutation(size)\n",
    "    Z2 = list(samples_normal[permute_half])\n",
    "    \n",
    "    sample_cov = np.cov(Z1, np.array(Z2))[0][1]\n",
    "    index_to_replace = 0\n",
    "    for i in range(MAX_ITER):        \n",
    "        temp_sample = samples_normal[np.random.randint(0, size*1000)]\n",
    "        temp_Z2 = Z2.copy()\n",
    "        temp_Z2[index_to_replace] = temp_sample\n",
    "        temp_Z2 = np.array(temp_Z2)\n",
    "        temp_sample_cov = np.cov(Z1, temp_Z2)[0][1]\n",
    "        \n",
    "            \n",
    "        if (temp_sample_cov > sample_cov and sample_cov < wanted_cov) or (temp_sample_cov < sample_cov and sample_cov > wanted_cov):\n",
    "            index_to_replace += 1\n",
    "            Z2 = temp_Z2\n",
    "            sample_cov = temp_sample_cov\n",
    "            \n",
    "        if wanted_cov - 0.002 <= sample_cov <= wanted_cov + 0.002:\n",
    "            print(f\"\\n\\nFinished at iteration: {i}, with cov={sample_cov}\")\n",
    "            break\n",
    "        \n",
    "        if i % print_freq == 0:\n",
    "            print(f\"Iteration={i}, Cov={sample_cov}\")\n",
    "            \n",
    "    return Z1, Z2, sample_cov\n",
    "                  \n",
    "Z1, Z2, cov = create_samples_multivariate()  "
   ]
  },
  {
   "cell_type": "code",
   "execution_count": null,
   "id": "962bf977-d667-473e-9907-b2b31d280852",
   "metadata": {},
   "outputs": [],
   "source": []
  },
  {
   "cell_type": "code",
   "execution_count": null,
   "id": "78096611-bef5-460f-9da0-9f25d7c84315",
   "metadata": {},
   "outputs": [],
   "source": [
    "batch_0, batch_1 = list(np.random.randn(10)), list(np.random.randn(10))\n",
    "cov = np.cov(batch_0, batch_1) \n",
    "print(cov)\n",
    "print(cov[0][1])"
   ]
  },
  {
   "cell_type": "code",
   "execution_count": null,
   "id": "68ddf36f-10db-4e91-b380-3cdd589efdbe",
   "metadata": {},
   "outputs": [],
   "source": [
    "sns.histplot(pool)"
   ]
  },
  {
   "cell_type": "code",
   "execution_count": null,
   "id": "8ebb22a6-026a-4725-93df-024c2419bf11",
   "metadata": {},
   "outputs": [],
   "source": []
  },
  {
   "cell_type": "code",
   "execution_count": null,
   "id": "e53222c4-0442-4b4b-a4da-00038d717250",
   "metadata": {},
   "outputs": [],
   "source": []
  },
  {
   "cell_type": "code",
   "execution_count": null,
   "id": "5ec05066-ccca-45f4-aae7-b37f1e2d7bb0",
   "metadata": {},
   "outputs": [],
   "source": []
  },
  {
   "cell_type": "code",
   "execution_count": null,
   "id": "8c140d77-3412-4ece-b525-69bdd97ba048",
   "metadata": {},
   "outputs": [],
   "source": []
  },
  {
   "cell_type": "markdown",
   "id": "53998241-2c07-4e78-b9c4-25a795d77e1e",
   "metadata": {},
   "source": [
    "5. Consider the region in $\\reals^2$:\n",
    "$$\n",
    "A = \\{ (x,y)\\,: 0 \\leq x \\leq 1, 0 \\leq y \\leq 2x\\}\n",
    "$$\n",
    "For $(X_1, X_2) \\sim \\Ncal(0, \\bar{\\Sigma})$, estimate \n",
    "$$\n",
    "\\Pr\\left[ (X_1, X_2) \\in A \\right]\n",
    "$$\n",
    "in two ways: \n",
    "    1. By evaluating the integral over the Gaussian density function\n",
    "    2. By estimating the fraction of samples in 4 that falls in the region $A$\n"
   ]
  },
  {
   "cell_type": "markdown",
   "id": "e7c603d9-c9ca-4286-8c35-f0e065c26fba",
   "metadata": {},
   "source": [
    "### Answer"
   ]
  },
  {
   "cell_type": "code",
   "execution_count": null,
   "id": "23a4a3a6-836b-4c36-b43a-532adbcd8688",
   "metadata": {},
   "outputs": [],
   "source": []
  },
  {
   "cell_type": "code",
   "execution_count": 4,
   "id": "90a28c75-0932-4b7b-994b-586f9cef0684",
   "metadata": {},
   "outputs": [],
   "source": [
    "from scipy.integrate import dblquad\n",
    "import math"
   ]
  },
  {
   "cell_type": "code",
   "execution_count": 5,
   "id": "f9caaa95-6579-4d38-8a15-cd813d6d2390",
   "metadata": {},
   "outputs": [
    {
     "name": "stderr",
     "output_type": "stream",
     "text": [
      "<>:6: SyntaxWarning: list indices must be integers or slices, not tuple; perhaps you missed a comma?\n",
      "<>:6: SyntaxWarning: list indices must be integers or slices, not tuple; perhaps you missed a comma?\n",
      "/var/folders/41/21yq_s992776m2qf34b8yrq40000gn/T/ipykernel_3828/1397264870.py:6: SyntaxWarning: list indices must be integers or slices, not tuple; perhaps you missed a comma?\n",
      "  Sig = np.array([[1, 0.25]\n"
     ]
    },
    {
     "ename": "TypeError",
     "evalue": "list indices must be integers or slices, not tuple",
     "output_type": "error",
     "traceback": [
      "\u001b[0;31m---------------------------------------------------------------------------\u001b[0m",
      "\u001b[0;31mTypeError\u001b[0m                                 Traceback (most recent call last)",
      "\u001b[0;32m/var/folders/41/21yq_s992776m2qf34b8yrq40000gn/T/ipykernel_3828/1397264870.py\u001b[0m in \u001b[0;36m<module>\u001b[0;34m\u001b[0m\n\u001b[1;32m      4\u001b[0m     \u001b[0;32mreturn\u001b[0m \u001b[0mterm\u001b[0m\u001b[0;34m*\u001b[0m\u001b[0mexp\u001b[0m\u001b[0;34m\u001b[0m\u001b[0;34m\u001b[0m\u001b[0m\n\u001b[1;32m      5\u001b[0m \u001b[0;34m\u001b[0m\u001b[0m\n\u001b[0;32m----> 6\u001b[0;31m Sig = np.array([[1, 0.25]\n\u001b[0m\u001b[1;32m      7\u001b[0m                  [0.25, 1]])\n\u001b[1;32m      8\u001b[0m \u001b[0mpdf\u001b[0m \u001b[0;34m=\u001b[0m \u001b[0;32mlambda\u001b[0m \u001b[0my1\u001b[0m\u001b[0;34m,\u001b[0m \u001b[0my2\u001b[0m\u001b[0;34m:\u001b[0m \u001b[0;34m(\u001b[0m\u001b[0;36m1\u001b[0m\u001b[0;34m/\u001b[0m\u001b[0;34m(\u001b[0m\u001b[0;34m(\u001b[0m\u001b[0;36m2\u001b[0m\u001b[0;34m*\u001b[0m\u001b[0mmath\u001b[0m\u001b[0;34m.\u001b[0m\u001b[0mpi\u001b[0m\u001b[0;34m)\u001b[0m\u001b[0;34m^\u001b[0m\u001b[0mmath\u001b[0m\u001b[0;34m.\u001b[0m\u001b[0msqrt\u001b[0m\u001b[0;34m(\u001b[0m\u001b[0mnp\u001b[0m\u001b[0;34m.\u001b[0m\u001b[0mlinalg\u001b[0m\u001b[0;34m.\u001b[0m\u001b[0mdet\u001b[0m\u001b[0;34m(\u001b[0m\u001b[0mSigma\u001b[0m\u001b[0;34m)\u001b[0m\u001b[0;34m)\u001b[0m\u001b[0;34m)\u001b[0m\u001b[0;34m)\u001b[0m \u001b[0;34m*\u001b[0m \u001b[0mnp\u001b[0m\u001b[0;34m.\u001b[0m\u001b[0me\u001b[0m\u001b[0;34m^\u001b[0m\u001b[0;34m(\u001b[0m\u001b[0;34m-\u001b[0m\u001b[0;36m1\u001b[0m\u001b[0;34m/\u001b[0m\u001b[0;36m2\u001b[0m\u001b[0;34m*\u001b[0m\u001b[0;34m(\u001b[0m\u001b[0my\u001b[0m\u001b[0;34m-\u001b[0m\u001b[0mmu\u001b[0m\u001b[0;34m)\u001b[0m\u001b[0;34m.\u001b[0m\u001b[0mT\u001b[0m\u001b[0;34m*\u001b[0m\u001b[0mnp\u001b[0m\u001b[0;34m.\u001b[0m\u001b[0mlinalg\u001b[0m\u001b[0;34m.\u001b[0m\u001b[0minv\u001b[0m\u001b[0;34m(\u001b[0m\u001b[0mSigma\u001b[0m\u001b[0;34m)\u001b[0m\u001b[0;34m*\u001b[0m\u001b[0;34m(\u001b[0m\u001b[0;34m-\u001b[0m\u001b[0mmu\u001b[0m\u001b[0;34m)\u001b[0m\u001b[0;34m)\u001b[0m\u001b[0;34m\u001b[0m\u001b[0;34m\u001b[0m\u001b[0m\n",
      "\u001b[0;31mTypeError\u001b[0m: list indices must be integers or slices, not tuple"
     ]
    }
   ],
   "source": [
    "def pdf_func(m, Sigma, y, mu): \n",
    "    term = 1/((2*math.pi)^math.sqrt(np.linalg.det(Sigma)))\n",
    "    exp = np.e^(-1/2*(y-mu).T*np.linalg.inv(Sigma)*(y-mu))\n",
    "    return term*exp\n",
    "\n",
    "Sig = np.array([[1, 0.25]\n",
    "                 [0.25, 1]])\n",
    "pdf = lambda y1, y2: (1/((2*math.pi)^math.sqrt(np.linalg.det(Sigma)))) * np.e^(-1/2*(y-mu).T*np.linalg.inv(Sigma)*(-mu))\n",
    "pdf = pdf_func(m=2, Sigma=Sig, mu=0)\n",
    "dblquad()"
   ]
  },
  {
   "cell_type": "code",
   "execution_count": null,
   "id": "72983846-fb3c-43a1-83fa-8a9093c2c084",
   "metadata": {},
   "outputs": [],
   "source": []
  },
  {
   "cell_type": "code",
   "execution_count": null,
   "id": "36679a4e-8d52-4b9f-9dee-9f5f01923c41",
   "metadata": {},
   "outputs": [],
   "source": []
  },
  {
   "cell_type": "code",
   "execution_count": null,
   "id": "413c1855-a3cc-4543-836f-86effac53fe8",
   "metadata": {},
   "outputs": [],
   "source": []
  },
  {
   "cell_type": "code",
   "execution_count": null,
   "id": "aadf4c6e-c961-4194-90c2-219095a749f0",
   "metadata": {},
   "outputs": [],
   "source": []
  },
  {
   "cell_type": "markdown",
   "id": "0a990953",
   "metadata": {
    "jp-MarkdownHeadingCollapsed": true,
    "tags": []
   },
   "source": [
    "## Problem 2 (Conditional Distribution)\n",
    "$\\newcommand{\\ex}{\\mathbb E}$\n",
    "\n",
    "\n",
    "For\n",
    "$$\n",
    "\\begin{bmatrix}\n",
    "X \\\\\n",
    "Y \\\\\n",
    "Z \n",
    "\\end{bmatrix} \\sim \\Ncal\\left( \\begin{bmatrix} 1 \\\\\n",
    "2\\\\\n",
    "3\n",
    "\\end{bmatrix}, \\begin{bmatrix}\n",
    " 4 & 1 & 3 \\\\\n",
    " 1 & 2 & 3 \\\\\n",
    " 3 & 3 & 8\n",
    "\\end{bmatrix}\n",
    "\\right)\n",
    "$$\n",
    "find (numerically):\n",
    "1. The distribution of $X$ given that $Y = 1$.\n",
    "2. The joint distribution of $X$ and $Y$ given $Z = 1$.\n",
    "3. The distribution of $Y$ given that $Z = 2$ and $X = 3$.\n",
    "4. $Pr(Y \\in [-1,1] | Z=2, X=3)$\n",
    "<hr>\n",
    "<hr>"
   ]
  },
  {
   "cell_type": "markdown",
   "id": "3f1d6ca8",
   "metadata": {},
   "source": [
    "## Problem 3 (Distributional Properties of Least Squares)\n",
    "Cosnider a least squares model with one predcitor $p=1$ without an intercept term, i.e. $y_i = \\beta x_i + \\epsilon_i$, $i=1,\\ldots,n$.\n",
    "1. Write the least squares solution $\\hat{\\beta} \\in \\mathbb R$ in terms of $x = (x_1,\\ldots,x_n)^\\top$ and $y = (y_1,\\ldots,y_n)^\\top$.\n",
    "2. With $\\hat{y}_i = \\hat{\\beta} x_i$ and $\\hat{\\epsilon}_i = y_i - \\hat{y}_i$, show that\n",
    " - $\\sum_{i=1}^n \\hat{y}_i \\hat{\\epsilon}_i = 0$\n",
    " - $\\|\\hat{\\epsilon}\\|^2 = \\|y\\|^2 -  \\|\\hat{y}\\|^2$\n",
    "3. Suppose that $\\epsilon_i \\sim N(0, 1)$. \n",
    " - What is the distribution of the random vector $[ \\hat{\\epsilon}~~ \\hat{y}]^\\top$?\n",
    " - What is the distribution of the random vector $[\\hat{y}~~ \\hat{\\beta}]^\\top$?\n",
    "4. Set $\\|\\epsilon\\|_{\\infty} := \\max_{i=1}^n |\\epsilon_i|$. What is $Pr( \\|\\hat{\\epsilon}\\|_{\\infty} > 2)$? is it larger or smaller than $Pr(\\|\\epsilon\\|_{\\infty}  > 2)$? (the point, we want to know if the predicted residuals tend to have less or more extreme values than the true ones)\n",
    "\n",
    "<hr>\n",
    "<hr>\n"
   ]
  },
  {
   "cell_type": "markdown",
   "id": "e66c79f9",
   "metadata": {},
   "source": [
    "## Problem 4 (Model fitting and t-Test)\n",
    "Cosnider the house prices dataset from the EDA notebook, which you can obtain from kaggle via:"
   ]
  },
  {
   "cell_type": "code",
   "execution_count": null,
   "id": "e35018da",
   "metadata": {},
   "outputs": [],
   "source": [
    "!kaggle competitions download -c house-prices-advanced-regression-techniques\n",
    "!mkdir house-prices\n",
    "!unzip house-prices-advanced-regression-techniques.zip -d house-prices/"
   ]
  },
  {
   "cell_type": "markdown",
   "id": "171e9d76",
   "metadata": {},
   "source": [
    "Only consider houses of lot size smaller than $15,000$ square feet, e.g. by using"
   ]
  },
  {
   "cell_type": "code",
   "execution_count": null,
   "id": "38a83608",
   "metadata": {},
   "outputs": [],
   "source": [
    "import pandas as pd\n",
    "data_raw = pd.read_csv(\"house-prices/train.csv\")\n",
    "data = data_raw[data_raw.LotArea < 15000]  # we focus on small lots"
   ]
  },
  {
   "cell_type": "markdown",
   "id": "bc3d9e14",
   "metadata": {},
   "source": [
    "Consider predicting ``SalePrice`` via a linear model with predictors:"
   ]
  },
  {
   "cell_type": "code",
   "execution_count": null,
   "id": "aaea859b",
   "metadata": {},
   "outputs": [],
   "source": [
    "feat_set1 = ['LotArea',  'YearBuilt', 'YrSold', 'GarageCars',\n",
    "             'FullBath', 'TotalBsmtSF', 'GarageArea', 'OverallQual']"
   ]
  },
  {
   "cell_type": "markdown",
   "id": "e6a62625",
   "metadata": {},
   "source": [
    "plus a constant. "
   ]
  },
  {
   "cell_type": "markdown",
   "id": "b676571d",
   "metadata": {},
   "source": [
    "1. Find the least squares estimate $\\hat{\\beta}$ of this model.\n",
    "2. Find $R^2$ of this model.\n",
    "3. For each $\\beta_j$, $j=1,\\ldots,9$, evaluate the $t$ statistic corresponding to testing \n",
    "$$\n",
    "H_{0j}\\,:\\, \\beta_j=0\n",
    "$$\n",
    "and its P-values (identify first the number of degrees of freedom). \n",
    "4. Which of these statistics exceeds the $0.975$-th quantile of the corresponding $t$ distribution and below the $0.025$-th quantile? (values exceeding theses quantiles are strong evidence against $H_{0j}$)\n",
    "5. Consider a smaller model involving only ``LotArea``,  ``YearBuilt``, ``YrSold`` as predictors. Find the least squares estimate of this smaller model and its sum of sqaures. Is this model provides a valid representation of the data compared to the original larger one? Answer your question by evaluating the relevant $F$ statistic and report on the F-test's P-value. \n",
    "\n",
    "<hr>\n",
    "<hr>"
   ]
  },
  {
   "cell_type": "code",
   "execution_count": null,
   "id": "5409e12c",
   "metadata": {},
   "outputs": [],
   "source": []
  }
 ],
 "metadata": {
  "kernelspec": {
   "display_name": "Python 3 (ipykernel)",
   "language": "python",
   "name": "python3"
  },
  "language_info": {
   "codemirror_mode": {
    "name": "ipython",
    "version": 3
   },
   "file_extension": ".py",
   "mimetype": "text/x-python",
   "name": "python",
   "nbconvert_exporter": "python",
   "pygments_lexer": "ipython3",
   "version": "3.8.5"
  }
 },
 "nbformat": 4,
 "nbformat_minor": 5
}
