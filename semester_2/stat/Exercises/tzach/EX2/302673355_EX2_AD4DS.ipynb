{
 "cells": [
  {
   "cell_type": "markdown",
   "id": "e6447ca2",
   "metadata": {},
   "source": [
    "#### Advanced Statistics for Data Science (Spring 2022)\n",
    "# Home Assignment 2\n",
    "#### Topics:\n",
    "- Probability review\n",
    "- Distributional Properties of the Linear Model\n",
    "\n",
    "\n",
    "#### Due: 05/04/2022 by 18:30\n",
    "\n",
    "#### Instructions:\n",
    "- Write your name, Student ID, and date in the cell below. \n",
    "- Submit a copy of this notebook with code filled in the relevant places as the solution of coding excercises.\n",
    "- For theoretic excercises, you can either write your solution in the notebook using $\\LaTeX$ or submit additional notes.\n",
    "\n",
    "<hr>\n",
    "<hr>"
   ]
  },
  {
   "cell_type": "markdown",
   "id": "4dc6a671",
   "metadata": {},
   "source": [
    "\n",
    "**Name**: Tzach Larboni\n",
    "\n",
    "**Student ID**: 302673355\n",
    "\n",
    "**Date**: 03.04.2022\n",
    "\n",
    "$\n",
    "\\newcommand{\\Id}{{\\mathbf{I}}}  \n",
    "\\newcommand{\\SSE}{\\mathsf{SSE}}\n",
    "\\newcommand{\\SSR}{\\mathsf{SSR}}\n",
    "\\newcommand{\\MSE}{\\mathsf{MSE}}\n",
    "\\newcommand{\\simiid}{\\overset{iid}{\\sim}}\n",
    "\\newcommand{\\ex}{\\mathbb E}\n",
    "\\newcommand{\\var}{\\mathrm{Var}}\n",
    "\\newcommand{\\Cov}[2]{{\\mathrm{Cov}  \\left(#1, #2 \\right)}}\n",
    "\\newcommand{\\one}[1]{\\mathbf 1 {\\left\\{#1\\right\\}}}\n",
    "\\newcommand{\\SE}[1]{\\mathrm{SE} \\left[#1\\right]}\n",
    "\\newcommand{\\reals}{\\mathbb R}\n",
    "\\newcommand{\\Ncal}{\\mathcal N}\n",
    "\\newcommand{\\abs}[1]{\\ensuremath{\\left\\vert#1\\right\\vert}}\n",
    "\\newcommand{\\rank}{\\operatorname{rank}}\n",
    "\\newcommand{\\tr}{\\operatorname{Tr}}\n",
    "\\newcommand{\\diag}{\\operatorname{diag}}\n",
    "\\newcommand{\\sign}{\\operatorname{sign}}\n",
    "$\n"
   ]
  },
  {
   "cell_type": "markdown",
   "id": "ca313178",
   "metadata": {},
   "source": [
    "<hr>\n",
    "<hr>"
   ]
  },
  {
   "cell_type": "markdown",
   "id": "ec1bca5c",
   "metadata": {},
   "source": [
    "## Problem 1 (The Normal Distribution)\n",
    "\n",
    "1. Let $Z = (Z_1,\\ldots,Z_9)^\\top \\sim \\Ncal(\\mu, I_9)$ where $\\mu \\in \\reals^9$. Show that $Z_1+Z_2+Z_3+Z_4$ is independent of $Z_1 + Z_2 - Z_3 - Z_4 - Z_5$.\n",
    "\n",
    "2. Suppose that $Z \\sim \\Ncal(\\mu, I_n)$ and let $X = AZ$ and $Y = BZ$ for non-random matrices $A$ and $B$. Find conditions on $A$ and $B$ such that $X$ independent of $Y$.\n",
    "\n",
    "3. Suppose that $Z_{ij} \\simiid \\Ncal(0, 1)$ for $i= 1,\\ldots,I$ and $j=1,\\ldots,J$. Define \n",
    "$$\n",
    "\\bar{Z}_{i\\bullet} := \\frac{1}{J} \\sum_{j=1}^J Z_{ij},\\qquad \\bar{Z}_{\\bullet j} := \\frac{1}{I} \\sum_{i=1}^I Z_{ij}, \\qquad \\bar{Z}_{\\bullet \\bullet} := \\frac{1}{IJ} \\sum_{j=1}^J \\sum_{i=1}^I Z_{ij}\n",
    "$$\n",
    "    - Is $\\bar{Z}_{i\\bullet}$ independent of $\\bar{Z}_{\\bullet j}$ ?\n",
    "    - Is $\\bar{Z}_{1\\bullet}$ independent of $\\bar{Z}_{2\\bullet}$ ?\n",
    "    - Is $\\bar{Z}_{i\\bullet} - \\bar{Z}_{\\bullet \\bullet}$ independent of $\\bar{Z}_{i\\bullet}$ ?\n",
    "\n",
    "4. Consider the variance-covariance matrix \n",
    "$$\n",
    "\\bar{\\Sigma} = \\begin{bmatrix} 1 & .25 \\\\\n",
    ".25 & 1\n",
    "\\end{bmatrix}\n",
    "$$\n",
    "Using as many samples as you need from the standard normal distribution (e.g. ``numpy.random.randn``), generate $N = 1000$ independent samples from the bivaraite normal distribution $\\Ncal(0, \\bar{\\Sigma})$ (you'll get $N$ pairs). Illustrate these samples over a sactter plot. \n",
    "\n",
    "5. Consider the region in $\\reals^2$:\n",
    "$$\n",
    "A = \\{ (x,y)\\,: 0 \\leq x \\leq 1, 0 \\leq y \\leq 2x\\}\n",
    "$$\n",
    "For $(X_1, X_2) \\sim \\Ncal(0, \\bar{\\Sigma})$, estimate \n",
    "$$\n",
    "\\Pr\\left[ (X_1, X_2) \\in A \\right]\n",
    "$$\n",
    "in two ways: \n",
    "    1. By evaluating the integral over the Gaussian density function\n",
    "    2. By estimating the fraction of samples in 4 that falls in the region $A$\n"
   ]
  },
  {
   "cell_type": "markdown",
   "id": "e4d64a35-db83-4dde-a109-17e54cc7b9cf",
   "metadata": {},
   "source": [
    "### Q1\n",
    "Given that $\\Sigma = I_9$, we know that $Z_1,..., Z_9$ are mutually independent (since uncorrelatedness implies independence for normal RVs). \n",
    "\n",
    "To prove that $Z_1 + Z_2 + Z_3 + Z_4$ is independent of $Z_1 + Z_2 - Z_3 - Z_4 - Z_5$ we need to prove that $Cov(Z_1 + Z_2 + Z_3 + Z_4,Z_1 + Z_2 - Z_3 - Z_4 - Z_5) = 0$. <br>\n",
    "\n",
    "I'll define \n",
    "$$\n",
    "Y = [Z_1 + Z_2 + Z_3 + Z_4, Z_1 + Z_2 - Z_3 - Z_4 - Z_5]^T \\sim \\Ncal([\\mu_1 + \\mu_2 + \\mu_3 + \\mu_4, \\mu_1 + \\mu_2 - \\mu_3 - \\mu_4 - \\mu_5]^T, \\Sigma)\n",
    "$$\n",
    "\n",
    "Where\n",
    "$$\n",
    "\\Sigma = \\begin{bmatrix} 1 & Cov(Z_1 + Z_2 + Z_3 + Z_4,Z_1 + Z_2 - Z_3 - Z_4 - Z_5) \\\\\n",
    "Cov(Z_1 + Z_2 + Z_3 + Z_4,Z_1 + Z_2 - Z_3 - Z_4 - Z_5)^T & 1\n",
    "\\end{bmatrix} \n",
    "$$\n",
    "\n",
    "\n",
    "Looking at \n",
    "$$\n",
    "Cov(Z_1 + Z_2 + Z_3 + Z_4,Z_1 + Z_2 - Z_3 - Z_4 - Z_5)$$ \n",
    "we can say that:\n",
    "$$\n",
    "Cov(Z_1 + Z_2 + Z_3 + Z_4,Z_1 + Z_2 - Z_3 - Z_4 - Z_5) = Cov(Z_1, Z_1) + Cov(Z_1, Z_2) -Cov(Z_1, Z_3) - Cov(Z_1, Z_4) - Cov(Z_1, Z_5) + Cov(Z_2, Z_1) + Cov(Z_2, Z_2) -Cov(Z_2, Z_3) - Cov(Z_2, Z_4) - Cov(Z_2, Z_5) + Cov(Z_3, Z_1) + Cov(Z_3, Z_2) -Cov(Z_3, Z_3) - Cov(Z_3, Z_4) - Cov(Z_3, Z_5) + Cov(Z_4, Z_1) + Cov(Z_4, Z_2) -Cov(Z_4, Z_3) - Cov(Z_4, Z_4) - Cov(Z_4, Z_5) \n",
    "$$\n",
    "\n",
    "And since $Cov(Z_i, Z_i) = Var(Z_i)$, we can plug in what we already know from the fact that the variance-covariance matrix is the identity matrix and get:\n",
    "\n",
    "$$\n",
    "Cov(Z_1 + Z_2 + Z_3 + Z_4,Z_1 + Z_2 - Z_3 - Z_4 - Z_5) = 1 + 0 - 0 - 0 - 0 +0 + 1 - 0 - 0 - 0 + 0 + 0 - 1 - 0 - 0 + 0 + 0 + 0 - 1 - 0 = 0\n",
    "$$\n",
    "\n",
    "Hence, $\\Sigma$ that was defined above actually equals \n",
    "$$\n",
    "\\Sigma = \\begin{bmatrix} 1 & 0 \\\\\n",
    "0 & 1\n",
    "\\end{bmatrix} \n",
    "$$\n",
    "\n",
    "And the two variables are independent"
   ]
  },
  {
   "cell_type": "markdown",
   "id": "b01a008e-0106-42db-9e6c-1d6c38a2da4a",
   "metadata": {},
   "source": [
    "### Q2\n",
    "\n",
    "As we saw in the lecture, given non-random matrices $A$, $B$, we get that $Cov(AX, BY) = A Cov(X,Y) B^T$. <br>\n",
    "In our case, $Cov(X,Y) = Cov(AZ, BZ) = A Cov(Z,Z) B^T = A Var(Z) B^T$ and since we'd like to find coditions for which $X$, $Y$ are independent, we'll solve $Cov(X,Y) = 0$\n",
    "$$ Cov(X,Y) = 0 $$\n",
    "$$A Var(Z) B^T = 0 $$\n",
    "\n",
    "For this to occur, the following need to happen:\n",
    "1. $A, B \\in \\reals^{n \\times n} $\n",
    "2. $A Var(Z) = 0$ OR $Var(Z) B^T = 0$"
   ]
  },
  {
   "cell_type": "markdown",
   "id": "450071c5-a7dc-4afa-a53d-46d47be95a78",
   "metadata": {},
   "source": [
    "3. Suppose that $Z_{ij} \\simiid \\Ncal(0, 1)$ for $i= 1,\\ldots,I$ and $j=1,\\ldots,J$. Define \n",
    "$$\n",
    "\\bar{Z}_{i\\bullet} := \\frac{1}{J} \\sum_{j=1}^J Z_{ij},\\qquad \\bar{Z}_{\\bullet j} := \\frac{1}{I} \\sum_{i=1}^I Z_{ij}, \\qquad \\bar{Z}_{\\bullet \\bullet} := \\frac{1}{IJ} \\sum_{j=1}^J \\sum_{i=1}^I Z_{ij}\n",
    "$$\n",
    "    - Is $\\bar{Z}_{i\\bullet}$ independent of $\\bar{Z}_{\\bullet j}$ ?\n",
    "    - Is $\\bar{Z}_{1\\bullet}$ independent of $\\bar{Z}_{2\\bullet}$ ?\n",
    "    - Is $\\bar{Z}_{i\\bullet} - \\bar{Z}_{\\bullet \\bullet}$ independent of $\\bar{Z}_{i\\bullet}$ ?\n"
   ]
  },
  {
   "cell_type": "markdown",
   "id": "1c1bc352-c2b8-4007-b6bb-1a645e1d7964",
   "metadata": {},
   "source": [
    "### Q3\n",
    "I'll answer that in a similar fashion to the first section:\n",
    "\n",
    "* When calculating $cov(\\bar{Z}_{i\\bullet}, \\bar{Z}_{\\bullet j})$, we will necessarily iterate over the same $Z_{i}{j}$ several times. Meaning, the same iid normal RVs constitute both $\\bar{Z}_{i\\bullet}$, and $\\bar{Z}_{\\bullet j}$. When this is the case, there is no way that their covariance will be 0 and that they will be independent.\n",
    "* When calculuating $cov(\\bar{Z}_{1\\bullet}, \\bar{Z}_{2\\bullet})$, we see that we are iterating over completely different RVs. Since it is given that the RVs $Z_{i}{j}$ are Independent and identically distributed, we know that the two distinct RVs are indepedent. Hence, $cov(\\bar{Z}_{1\\bullet}, \\bar{Z}_{2\\bullet}) = 0$ and the variables are independent\n",
    "* $cov(\\bar{Z}_{i\\bullet} - \\bar{Z}_{\\bullet \\bullet}, \\bar{Z}_{i\\bullet}) = cov(\\bar{Z}_{i\\bullet}, \\bar{Z}_{i\\bullet}) - cov(\\bar{Z}_{\\bullet \\bullet}, \\bar{Z}_{i\\bullet}) = 1 - cov(\\bar{Z}_{\\bullet \\bullet}, \\bar{Z}_{i\\bullet})$. Since $\\bar{Z}_{\\bullet \\bullet}, \\bar{Z}_{i\\bullet}$ share $J$ normal RVs, we know that their covariance is $\\geq 1$ , hence the variables aren't independent."
   ]
  },
  {
   "cell_type": "markdown",
   "id": "d881b459-4eba-4abe-b128-7ac27d22310a",
   "metadata": {},
   "source": [
    "### Q4"
   ]
  },
  {
   "cell_type": "code",
   "execution_count": 1,
   "id": "24f1f620-5639-4218-b214-52bf8509afb9",
   "metadata": {},
   "outputs": [],
   "source": [
    "import numpy as np\n",
    "import seaborn as sns\n",
    "import matplotlib.pyplot as plt\n",
    "import scipy.stats as st"
   ]
  },
  {
   "cell_type": "code",
   "execution_count": 2,
   "id": "f8853069-c48d-4354-af3e-50da6e691949",
   "metadata": {},
   "outputs": [
    {
     "name": "stdout",
     "output_type": "stream",
     "text": [
      "Reached target covariance!\n"
     ]
    }
   ],
   "source": [
    "ITERATIONS = 1_000_000\n",
    "TARGET = 0.25\n",
    "pool = np.random.randn(1_000_000)\n",
    "batch_0, batch_1 = list(np.random.choice(pool, 1_000)), list(np.random.choice(pool, 1_000))\n",
    "cov = np.cov(batch_0, batch_1)[0][1]\n",
    "index = 0\n",
    "\n",
    "for i in range(ITERATIONS):\n",
    "    new_batch_0 = batch_0.copy()\n",
    "    new_batch_0[index] = np.random.choice(pool)\n",
    "    new_cov = np.cov(new_batch_0, batch_1)[0][1]\n",
    "    if (new_cov > cov and cov < TARGET) or (new_cov < cov and cov > TARGET):\n",
    "        index += 1\n",
    "        batch_0 = new_batch_0\n",
    "        cov = new_cov\n",
    "    \n",
    "    if abs(TARGET - cov) < 0.001:\n",
    "        print(f\"Reached target covariance!\")\n",
    "        break"
   ]
  },
  {
   "cell_type": "code",
   "execution_count": 3,
   "id": "0ed18005-94de-4422-91a5-65f52ca6b06b",
   "metadata": {},
   "outputs": [
    {
     "data": {
      "image/png": "[encoded data removed]",
      "text/plain": [
       "<Figure size 576x576 with 1 Axes>"
      ]
     },
     "metadata": {
      "needs_background": "light"
     },
     "output_type": "display_data"
    }
   ],
   "source": [
    "plt.rcParams['figure.figsize'] =  [8, 8]\n",
    "\n",
    "sns.scatterplot(x=batch_0, y=batch_1)\n",
    "plt.title(f\"scatter plot two samples, covariance = {cov:.2f}\".title())\n",
    "plt.show()"
   ]
  },
  {
   "cell_type": "markdown",
   "id": "e7c603d9-c9ca-4286-8c35-f0e065c26fba",
   "metadata": {},
   "source": [
    "### Q5\n",
    "* Evaluating the integral over the Gaussian density function:"
   ]
  },
  {
   "cell_type": "code",
   "execution_count": 4,
   "id": "0c73298e-915f-4d0d-8d46-03d1c2b9810a",
   "metadata": {},
   "outputs": [
    {
     "name": "stdout",
     "output_type": "stream",
     "text": [
      "9.9% of the samples fall in the region A using this method\n"
     ]
    }
   ],
   "source": [
    "N = 1_000\n",
    "cov_mat = np.cov(batch_0, batch_1)\n",
    "denom = 2 * np.pi * np.sqrt(np.linalg.det(cov_mat))\n",
    "\n",
    "x_y_vals = []\n",
    "xs = [0, 1]\n",
    "\n",
    "dx = 1 / N\n",
    "dy = 1 / N * (2*xs[1] - 2*xs[0])\n",
    "\n",
    "for x_i in range(N+1):\n",
    "    x = xs[0] + dx * x_i\n",
    "    ys = 2 * int(x / dy) + 1\n",
    "    for y_i in range(ys):\n",
    "        y = dy * y_i\n",
    "        x_y_vals.append((x,y))\n",
    "\n",
    "all_pdfs_sum = (1/denom * np.exp( -1/2 * (x_y_vals @ np.linalg.inv(cov_mat) * x_y_vals).sum(axis=1))).sum() * dx * dy \n",
    "\n",
    "print(f\"{all_pdfs_sum*100:.1f}% of the samples fall in the region A using this method\")"
   ]
  },
  {
   "cell_type": "markdown",
   "id": "88cf2f0c-2100-4eb3-9385-058f35971d13",
   "metadata": {},
   "source": [
    "    2. By estimating the fraction of samples in 4 that falls in the region $A$"
   ]
  },
  {
   "cell_type": "code",
   "execution_count": 5,
   "id": "36679a4e-8d52-4b9f-9dee-9f5f01923c41",
   "metadata": {},
   "outputs": [
    {
     "name": "stdout",
     "output_type": "stream",
     "text": [
      "There are 112 pairs in the aforementioned sample that fits the criteria. \n",
      "\n",
      "Meaning, 11.2% of the samples fall in the region A using this method\n"
     ]
    }
   ],
   "source": [
    "zipped = zip(batch_0, batch_1)\n",
    "filtered_zipped = [(x,y) for x,y in zipped if 0<x<1 and 0<y<2*x]\n",
    "print(f\"There are {len(filtered_zipped)} pairs in the aforementioned sample that fits the criteria. \\n\" )\n",
    "print(f\"Meaning, {len(filtered_zipped)/len(batch_0)*100:.1f}% of the samples fall in the region A using this method\")"
   ]
  },
  {
   "cell_type": "markdown",
   "id": "0a990953",
   "metadata": {},
   "source": [
    "## Problem 2 (Conditional Distribution)\n",
    "$\\newcommand{\\ex}{\\mathbb E}$\n",
    "\n",
    "\n",
    "For\n",
    "$$\n",
    "\\begin{bmatrix}\n",
    "X \\\\\n",
    "Y \\\\\n",
    "Z \n",
    "\\end{bmatrix} \\sim \\Ncal\\left( \\begin{bmatrix} 1 \\\\\n",
    "2\\\\\n",
    "3\n",
    "\\end{bmatrix}, \\begin{bmatrix}\n",
    " 4 & 1 & 3 \\\\\n",
    " 1 & 2 & 3 \\\\\n",
    " 3 & 3 & 8\n",
    "\\end{bmatrix}\n",
    "\\right)\n",
    "$$\n",
    "find (numerically):\n",
    "1. The distribution of $X$ given that $Y = 1$.\n",
    "2. The joint distribution of $X$ and $Y$ given $Z = 1$.\n",
    "3. The distribution of $Y$ given that $Z = 2$ and $X = 3$.\n",
    "4. $Pr(Y \\in [-1,1] | Z=2, X=3)$\n",
    "<hr>\n",
    "<hr>"
   ]
  },
  {
   "cell_type": "markdown",
   "id": "f0733654-0061-4093-966d-0697dfb48de9",
   "metadata": {},
   "source": [
    "#### Q1"
   ]
  },
  {
   "cell_type": "code",
   "execution_count": 6,
   "id": "f8382206-d7b0-41c0-b4c1-27a2ab51f3f2",
   "metadata": {},
   "outputs": [
    {
     "name": "stdout",
     "output_type": "stream",
     "text": [
      "Numerically, X given Y=1 distributes normally with a mean of (0.51 and variance of 3.50)\n"
     ]
    }
   ],
   "source": [
    "all_mu = np.array([1,2,3])\n",
    "all_cov_mat = np.array([[4, 1, 3],\n",
    "                       [1, 2, 3],\n",
    "                       [3, 3, 8]])\n",
    "N = 10_000_000\n",
    "samples = np.random.multivariate_normal(mean = all_mu, cov = all_cov_mat, size = N)\n",
    "# x_y_cov = np.array [[4, 1\n",
    "#                      1, 2]]\n",
    "# x_y_mu = np.array([1,2])\n",
    "x_samples = samples[:,0]\n",
    "y_samples = samples[:,1]\n",
    "z_samples = samples[:,2]\n",
    "\n",
    "x_y_zip = zip(x_samples, y_samples)\n",
    "x_given_y = [x for x,y in x_y_zip if abs(y - 1.0) < .01]\n",
    "\n",
    "print(f\"Numerically, X given Y=1 distributes normally with a mean of ({np.mean(x_given_y):.2f} and variance of {np.var(x_given_y):.2f})\")"
   ]
  },
  {
   "cell_type": "code",
   "execution_count": 7,
   "id": "6a62135f-03e2-4e32-ad03-d8c129a3a941",
   "metadata": {},
   "outputs": [
    {
     "data": {
      "image/png": "[encoded data removed]",
      "text/plain": [
       "<Figure size 576x576 with 1 Axes>"
      ]
     },
     "metadata": {
      "needs_background": "light"
     },
     "output_type": "display_data"
    }
   ],
   "source": [
    "sns.histplot(x_given_y)\n",
    "plt.title(f\"The distribution of X|Y=1, with a mean of {np.mean(x_given_y):.2f} and variance of {np.var(x_given_y):.2f}\")\n",
    "plt.show()"
   ]
  },
  {
   "cell_type": "markdown",
   "id": "e44078ee-ba5c-4724-b28d-338c2b255607",
   "metadata": {},
   "source": [
    "### Q2"
   ]
  },
  {
   "cell_type": "code",
   "execution_count": 8,
   "id": "f367c304-3757-4e9b-bc0d-ab4b7d43ca34",
   "metadata": {},
   "outputs": [],
   "source": [
    "x_y_z_zipped = zip(x_samples, y_samples, z_samples)\n",
    "x_y_given_z = np.array([(x,y) for x,y,z in x_y_z_zipped if abs(z - 1.0) < .01])\n",
    "# x_vals, y_vals = [comb[0] for comb in x_y_given_z], [comb[1] for comb in x_y_given_z]\n",
    "x_vals, y_vals = x_y_given_z[:,0], x_y_given_z[:,1]\n",
    "\n",
    "x_y_cov_mat = np.cov(x_vals, y_vals)\n",
    "x_y_mu = np.array(np.mean(x_vals), np.mean(y_vals))\n",
    "\n"
   ]
  },
  {
   "cell_type": "code",
   "execution_count": 9,
   "id": "8629fbc9-a0fe-49c2-a798-d03cccfc7d93",
   "metadata": {},
   "outputs": [
    {
     "name": "stdout",
     "output_type": "stream",
     "text": [
      "Numerically, X,Y|Z=1 is a Bivariate Nomral distribution with a mean vector of 0.25 and covariance matrix of [[ 2.8600279  -0.12502385]\n",
      " [-0.12502385  0.86716796]]\n",
      "Specifically, the variance of x is 2.86, the variance of y is 0.87 and the covariance between x and y is -0.13\n"
     ]
    }
   ],
   "source": [
    "print(f\"Numerically, X,Y|Z=1 is a Bivariate Nomral distribution with a mean vector of {x_y_mu.T:.2f} and covariance matrix of {x_y_cov_mat}\")\n",
    "print(f\"Specifically, the variance of x is {x_y_cov_mat[0][0]:.2f}, the variance of y is {x_y_cov_mat[1][1]:.2f} and the covariance between x and y is {x_y_cov_mat[0][1]:.2f}\")\n"
   ]
  },
  {
   "cell_type": "code",
   "execution_count": 10,
   "id": "e3127f1b-a7a6-4dc2-bf98-04026089c03f",
   "metadata": {},
   "outputs": [
    {
     "name": "stderr",
     "output_type": "stream",
     "text": [
      "/Users/mymac/opt/anaconda3/lib/python3.8/site-packages/seaborn/_decorators.py:36: FutureWarning: Pass the following variables as keyword args: x, y. From version 0.12, the only valid positional argument will be `data`, and passing other arguments without an explicit keyword will result in an error or misinterpretation.\n",
      "  warnings.warn(\n"
     ]
    },
    {
     "data": {
      "image/png": "[encoded data removed]",
      "text/plain": [
       "<Figure size 432x432 with 3 Axes>"
      ]
     },
     "metadata": {
      "needs_background": "light"
     },
     "output_type": "display_data"
    }
   ],
   "source": [
    "sns.jointplot(x_vals, y_vals, kind='hist')\n",
    "plt.title(\"the distribution of X,Y|Z=1\".title())\n",
    "plt.show()"
   ]
  },
  {
   "cell_type": "markdown",
   "id": "93cbbcef-2e06-448a-ac36-647d80c8da65",
   "metadata": {},
   "source": [
    "### Q3"
   ]
  },
  {
   "cell_type": "code",
   "execution_count": 11,
   "id": "f6c150ca-eb7f-4c1f-a274-6692b3acf972",
   "metadata": {},
   "outputs": [
    {
     "name": "stdout",
     "output_type": "stream",
     "text": [
      "Y given Z=2 and X=3 distributes normally with a a mean of 1.50 and variance of 0.87\n"
     ]
    }
   ],
   "source": [
    "x_y_z_zipped = zip(x_samples, y_samples, z_samples)\n",
    "y_given_x_z = [y for x,y,z in x_y_z_zipped if (abs(2 - z) < 0.1 and abs(3-x) < 0.1)]\n",
    "y_given_x_z_mean, y_given_x_z_var = np.mean(y_given_x_z), np.var(y_given_x_z)\n",
    "print(f\"Y given Z=2 and X=3 distributes normally with a a mean of {y_given_x_z_mean:.2f} and variance of {y_given_x_z_var:.2f}\")"
   ]
  },
  {
   "cell_type": "code",
   "execution_count": 12,
   "id": "dc6629a8-c0ff-46f5-a38d-f19f6b89f9b0",
   "metadata": {},
   "outputs": [
    {
     "data": {
      "image/png": "[encoded data removed]",
      "text/plain": [
       "<Figure size 576x576 with 1 Axes>"
      ]
     },
     "metadata": {
      "needs_background": "light"
     },
     "output_type": "display_data"
    }
   ],
   "source": [
    "sns.histplot(x_given_y)\n",
    "plt.title(f\"The distribution of Y|Z=2,X=3 , with a mean of {y_given_x_z_mean:.2f} and variance of {y_given_x_z_var:.2f}\")\n",
    "plt.show()"
   ]
  },
  {
   "cell_type": "markdown",
   "id": "f97b3929-ddeb-433b-8105-753e277aba88",
   "metadata": {},
   "source": [
    "### Q4"
   ]
  },
  {
   "cell_type": "code",
   "execution_count": 13,
   "id": "d4a33fb1-6aff-4998-9bcb-d5beca75d019",
   "metadata": {},
   "outputs": [
    {
     "name": "stdout",
     "output_type": "stream",
     "text": [
      "Numerically, the probabiliy Y is in the range of [-1, 1] is 0.30\n"
     ]
    }
   ],
   "source": [
    "y_in_range = [y for y in y_given_x_z if y>=-1 and y <=1]\n",
    "print(f\"Numerically, the probabiliy Y is in the range of [-1, 1] is {len(y_in_range)/len(y_given_x_z):.2f}\")"
   ]
  },
  {
   "cell_type": "markdown",
   "id": "a03c5275-a9eb-4cdf-9c06-d4034e3179b1",
   "metadata": {},
   "source": [
    "We can varify the answer using the normal library, using our already calculated mean and variance:"
   ]
  },
  {
   "cell_type": "code",
   "execution_count": 14,
   "id": "c46529c6-af44-4893-be72-b9f076130443",
   "metadata": {},
   "outputs": [
    {
     "name": "stdout",
     "output_type": "stream",
     "text": [
      "Theoretically, the probably Y is in the rage of [-1, 1] is 0.28\n"
     ]
    }
   ],
   "source": [
    "y_dist = st.norm(loc=y_given_x_z_mean, scale=y_given_x_z_var)\n",
    "prob = y_dist.cdf(1) - y_dist.cdf(-1)\n",
    "print(f\"Theoretically, the probably Y is in the rage of [-1, 1] is {prob:.2f}\")"
   ]
  },
  {
   "cell_type": "markdown",
   "id": "3f1d6ca8",
   "metadata": {},
   "source": [
    "## Problem 3 (Distributional Properties of Least Squares)\n",
    "Cosnider a least squares model with one predcitor $p=1$ without an intercept term, i.e. $y_i = \\beta x_i + \\epsilon_i$, $i=1,\\ldots,n$.\n",
    "1. Write the least squares solution $\\hat{\\beta} \\in \\mathbb R$ in terms of $x = (x_1,\\ldots,x_n)^\\top$ and $y = (y_1,\\ldots,y_n)^\\top$.\n",
    "2. With $\\hat{y}_i = \\hat{\\beta} x_i$ and $\\hat{\\epsilon}_i = y_i - \\hat{y}_i$, show that\n",
    " - $\\sum_{i=1}^n \\hat{y}_i \\hat{\\epsilon}_i = 0$\n",
    " - $\\|\\hat{\\epsilon}\\|^2 = \\|y\\|^2 -  \\|\\hat{y}\\|^2$\n",
    "3. Suppose that $\\epsilon_i \\sim N(0, 1)$. \n",
    " - What is the distribution of the random vector $[ \\hat{\\epsilon}~~ \\hat{y}]^\\top$?\n",
    " - What is the distribution of the random vector $[\\hat{y}~~ \\hat{\\beta}]^\\top$?\n",
    "4. Set $\\|\\epsilon\\|_{\\infty} := \\max_{i=1}^n |\\epsilon_i|$. What is $Pr( \\|\\hat{\\epsilon}\\|_{\\infty} > 2)$? is it larger or smaller than $Pr(\\|\\epsilon\\|_{\\infty}  > 2)$? (the point, we want to know if the predicted residuals tend to have less or more extreme values than the true ones)\n",
    "\n",
    "<hr>\n",
    "<hr>\n"
   ]
  },
  {
   "cell_type": "markdown",
   "id": "5e18c863-05ff-41e6-889b-340eec30ba9f",
   "metadata": {},
   "source": [
    "### Q1\n",
    "\n",
    "The least squares solution holds that $\\hat{\\beta} = (Z{^\\top}Z)^{-1}Z{^\\top}y$. In our data we know that $Z = (x_1,\\ldots,x_n)^\\top$ and that $y = (y_1,\\ldots,y_n)^\\top$.\n",
    "Hence, $$\n",
    "\\hat{\\beta} = [(x_1,\\ldots,x_n) \\cdot (x_1,\\ldots,x_n)^\\top]^{-1} \\cdot (y_1,\\ldots,y_n)^\\top\n",
    "$$"
   ]
  },
  {
   "cell_type": "markdown",
   "id": "7362e956-58c6-45fa-b35e-a0be306cb6ab",
   "metadata": {},
   "source": [
    "2. With $\\hat{y}_i = \\hat{\\beta} x_i$ and $\\hat{\\epsilon}_i = y_i - \\hat{y}_i$, show that\n",
    " - $\\sum_{i=1}^n \\hat{y}_i \\hat{\\epsilon}_i = 0$\n",
    " - $\\|\\hat{\\epsilon}\\|^2 = \\|y\\|^2 -  \\|\\hat{y}\\|^2$"
   ]
  },
  {
   "cell_type": "markdown",
   "id": "24724fff-4d61-4293-94f3-b028972dcd61",
   "metadata": {},
   "source": [
    "### Q2\n",
    "\n",
    "1. $\\sum_{i=1}^n \\hat{y}_i \\hat{\\epsilon}_i = \\sum_{i=1}^n \\hat{\\beta}x_i \\cdot \\hat{\\epsilon}_i =  \n",
    "\\hat{\\beta} \\sum_{i=1}^n x_i \\cdot \\hat{\\epsilon}_i$\n",
    "\n",
    "When finding $\\hat{\\beta}$ we derived $\\sum_{i=1}^n y_i - \\beta x_i - \\epsilon$ by $\\beta$ and saw that $\\sum_{i=1}^n x_i \\cdot \\hat{\\epsilon}_i = 0$. Plug it in to the above equation and \n",
    "$ \\sum_{i=1}^n \\hat{\\beta} \\sum_{i=1}^n x_i \\cdot \\hat{\\epsilon}_i =  \\sum_{i=1}^n \\hat{\\beta} \\cdot 0 = 0$ \n",
    "\n",
    "$QED$\n",
    "\n",
    "\n",
    "2. $\\|\\hat{\\epsilon}\\|^2 = \\|y\\|^2 -  \\|\\hat{y}\\|^2$\n",
    "From the first section in this q, we know that $\\hat{y}^T \\hat{\\epsilon} = 0$, meaning $\\hat{y}^T(y-\\hat{y})= \\hat{y}^T y - \\hat{y}^T \\hat{y} = 0$. <br>\n",
    "Moving sides and $\\hat{y}^T y = \\hat{y}^T \\hat{y}$. After transposing both parts we get $y^T\\hat{y} = \\hat{y}^T\\hat{y}$.\n",
    "\n",
    "$$\\|\\hat{\\epsilon}\\|^2 = \\hat{\\epsilon}^T\\hat{\\epsilon} = (y-\\hat{y})^T\\hat{\\epsilon} = y^T\\hat{\\epsilon} \\hat{y}^T\\hat{\\epsilon} = y^T(y-\\hat{y}) = y^Ty - y^T\\hat{y}$$ <br>\n",
    "\n",
    "Plugging in $y^T\\hat{y} = \\hat{y}^T\\hat{y}$:\n",
    "\n",
    "\n",
    "$$y^Ty - \\hat{y}^T\\hat{y} = \\|y\\|^2 - \\|\\hat{y}\\|^2 $$\n",
    "\n",
    "$QED$\n"
   ]
  },
  {
   "cell_type": "markdown",
   "id": "0f8c4853-822d-48ce-8885-3987f6c57b88",
   "metadata": {},
   "source": [
    "### Q3\n",
    "\n",
    "1. Since $cov(\\hat{\\epsilon}, \\hat{y}) = 0$, meaning, they are independent, we can say that:\n",
    "$$ [ \\hat{\\epsilon}, \\hat{y}]^\\top \\sim \\Ncal[(0,Z\\beta)^\\top, \\begin{bmatrix} 1 & 0 \\\\\n",
    "0 & \\sigma^2I_n\n",
    "\\end{bmatrix}]\n",
    "$$"
   ]
  },
  {
   "cell_type": "markdown",
   "id": "cbe30306-059a-4b4c-9bb0-133a44f445f6",
   "metadata": {},
   "source": [
    "2. Since we know that $\\hat{\\beta} = x^T\\hat{\\beta}$, we can calculate the covarinace:\n",
    "$$ cov(\\hat{y},\\hat{\\beta}) = cov(x^\\top \\hat{\\beta}, \\hat{\\beta}) = cov(\\hat{\\beta}, \\hat{\\beta}) x = var( \\hat{\\beta}) x\n",
    "$$\n",
    "Since $var(\\hat{\\beta}) = \\sigma^2(x^Tx)^-1 $, and $\\sigma^2 = 1$ we can plug in and get \n",
    "$$\n",
    "cov(\\hat{y},\\hat{\\beta}) = (x^Tx)^-1 x\n",
    "$$\n",
    "And thus:\n",
    "$$[\\hat{y}~~ \\hat{\\beta}]^\\top \\sim \\Ncal[(Z\\beta, \\beta)^\\top, \\begin{bmatrix} \\sigma^2I_n & (x^Tx)^-1 x \\\\\n",
    "((x^Tx)^-1 x)^T & (x^Tx)^-1\n",
    "\\end{bmatrix}]\n",
    "$$"
   ]
  },
  {
   "cell_type": "markdown",
   "id": "1cb6f040-a408-4b73-b4c2-7c5026c9e73f",
   "metadata": {},
   "source": [
    "### Q4\n",
    "We know that $\\epsilon_i \\sim N(0, 1)$ and the $\\hat{\\epsilon}_i \\sim N(0, I-H)$.\n",
    "If $I-H > 1$, then $Pr( \\|\\hat{\\epsilon}\\|_{\\infty} > 2) > Pr(\\|\\epsilon\\|_{\\infty}  > 2)$ and vice versa."
   ]
  },
  {
   "cell_type": "markdown",
   "id": "e66c79f9",
   "metadata": {},
   "source": [
    "## Problem 4 (Model fitting and t-Test)\n",
    "Cosnider the house prices dataset from the EDA notebook, which you can obtain from kaggle via:"
   ]
  },
  {
   "cell_type": "code",
   "execution_count": 15,
   "id": "e35018da",
   "metadata": {},
   "outputs": [
    {
     "name": "stdout",
     "output_type": "stream",
     "text": [
      "Traceback (most recent call last):\n",
      "  File \"/Users/mymac/opt/anaconda3/bin/kaggle\", line 5, in <module>\n",
      "    from kaggle.cli import main\n",
      "  File \"/Users/mymac/opt/anaconda3/lib/python3.8/site-packages/kaggle/__init__.py\", line 23, in <module>\n",
      "    api.authenticate()\n",
      "  File \"/Users/mymac/opt/anaconda3/lib/python3.8/site-packages/kaggle/api/kaggle_api_extended.py\", line 164, in authenticate\n",
      "    raise IOError('Could not find {}. Make sure it\\'s located in'\n",
      "OSError: Could not find kaggle.json. Make sure it's located in /Users/mymac/.kaggle. Or use the environment method.\n",
      "mkdir: house-prices: File exists\n",
      "unzip:  cannot find or open house-prices-advanced-regression-techniques.zip, house-prices-advanced-regression-techniques.zip.zip or house-prices-advanced-regression-techniques.zip.ZIP.\n"
     ]
    }
   ],
   "source": [
    "!kaggle competitions download -c house-prices-advanced-regression-techniques\n",
    "!mkdir house-prices\n",
    "!unzip house-prices-advanced-regression-techniques.zip -d house-prices/"
   ]
  },
  {
   "cell_type": "markdown",
   "id": "171e9d76",
   "metadata": {},
   "source": [
    "Only consider houses of lot size smaller than $15,000$ square feet, e.g. by using"
   ]
  },
  {
   "cell_type": "code",
   "execution_count": 16,
   "id": "38a83608",
   "metadata": {},
   "outputs": [],
   "source": [
    "import pandas as pd\n",
    "data_raw = pd.read_csv(\"house-prices/train.csv\")\n",
    "data = data_raw[data_raw.LotArea < 15000]  # we focus on small lots"
   ]
  },
  {
   "cell_type": "markdown",
   "id": "bc3d9e14",
   "metadata": {},
   "source": [
    "Consider predicting ``SalePrice`` via a linear model with predictors:"
   ]
  },
  {
   "cell_type": "code",
   "execution_count": 17,
   "id": "aaea859b",
   "metadata": {},
   "outputs": [],
   "source": [
    "feat_set1 = ['LotArea',  'YearBuilt', 'YrSold', 'GarageCars',\n",
    "             'FullBath', 'TotalBsmtSF', 'GarageArea', 'OverallQual']"
   ]
  },
  {
   "cell_type": "markdown",
   "id": "e6a62625",
   "metadata": {},
   "source": [
    "plus a constant. "
   ]
  },
  {
   "cell_type": "markdown",
   "id": "b676571d",
   "metadata": {},
   "source": [
    "1. Find the least squares estimate $\\hat{\\beta}$ of this model.\n",
    "2. Find $R^2$ of this model.\n",
    "3. For each $\\beta_j$, $j=1,\\ldots,9$, evaluate the $t$ statistic corresponding to testing \n",
    "$$\n",
    "H_{0j}\\,:\\, \\beta_j=0\n",
    "$$\n",
    "and its P-values (identify first the number of degrees of freedom). \n",
    "4. Which of these statistics exceeds the $0.975$-th quantile of the corresponding $t$ distribution and below the $0.025$-th quantile? (values exceeding theses quantiles are strong evidence against $H_{0j}$)\n",
    "5. Consider a smaller model involving only ``LotArea``,  ``YearBuilt``, ``YrSold`` as predictors. Find the least squares estimate of this smaller model and its sum of sqaures. Is this model provides a valid representation of the data compared to the original larger one? Answer your question by evaluating the relevant $F$ statistic and report on the F-test's P-value. \n",
    "\n",
    "<hr>\n",
    "<hr>"
   ]
  },
  {
   "cell_type": "markdown",
   "id": "5e555824-cad4-4bdd-8dc8-ebd56482bec4",
   "metadata": {},
   "source": [
    "### Q1"
   ]
  },
  {
   "cell_type": "code",
   "execution_count": 18,
   "id": "5409e12c",
   "metadata": {},
   "outputs": [
    {
     "name": "stdout",
     "output_type": "stream",
     "text": [
      "The LS estimator Beta hat is the vector [-930539.09, 4.14, 144.33, 271.63, 2796.73, 15624.23, 35.08, 42.14, 25411.43]^T\n"
     ]
    }
   ],
   "source": [
    "df = data.copy()\n",
    "X = df[feat_set1]\n",
    "y = df['SalePrice'].values\n",
    "Z = np.c_[np.ones_like(y), X]\n",
    "\n",
    "beta_hat = np.linalg.inv(Z.T @ Z) @ Z.T @ y\n",
    "\n",
    "print(f\"The LS estimator Beta hat is the vector {[round(b,2) for b in list(beta_hat)]}^T\")"
   ]
  },
  {
   "cell_type": "markdown",
   "id": "acc50cb8-7b1a-4bea-9274-a7e6a9a8f079",
   "metadata": {},
   "source": [
    "### Q2"
   ]
  },
  {
   "cell_type": "code",
   "execution_count": 19,
   "id": "d02f2c7d-e1f6-411a-8bd1-5acc5ee779fc",
   "metadata": {},
   "outputs": [
    {
     "name": "stdout",
     "output_type": "stream",
     "text": [
      "The R^2 of the model is 0.789\n"
     ]
    }
   ],
   "source": [
    "y_hat = Z @ beta_hat\n",
    "y_bar = np.mean(y)\n",
    "ss_fit = np.sum((y_hat - y_bar)**2)\n",
    "ss_tot = np.sum((y - y_bar)**2)\n",
    "\n",
    "r_squared = ss_fit / ss_tot\n",
    "\n",
    "print(f\"The R^2 of the model is {r_squared:.3f}\")"
   ]
  },
  {
   "cell_type": "code",
   "execution_count": 20,
   "id": "fe8441e3-c72a-4f0f-80ca-02956298d324",
   "metadata": {},
   "outputs": [
    {
     "name": "stdout",
     "output_type": "stream",
     "text": [
      "The t statistic p value for beta hat 0 is 1.4989\n",
      "The t statistic p value for beta hat 1 is 0.0000\n",
      "The t statistic p value for beta hat 2 is 0.0004\n",
      "The t statistic p value for beta hat 3 is 0.6930\n",
      "The t statistic p value for beta hat 4 is 0.3210\n",
      "The t statistic p value for beta hat 5 is 0.0000\n",
      "The t statistic p value for beta hat 6 is 0.0000\n",
      "The t statistic p value for beta hat 7 is 0.0000\n",
      "The t statistic p value for beta hat 8 is 0.0000\n"
     ]
    }
   ],
   "source": [
    "n = len(y)\n",
    "p = len(feat_set1) + 1\n",
    "dof = n-p\n",
    "epsilon = (y - y_hat)\n",
    "s = np.sqrt((np.linalg.norm(epsilon) ** 2) / dof)\n",
    "\n",
    "p_vals = []\n",
    "\n",
    "for i in range(len(beta_hat)):\n",
    "    c = np.zeros(p)\n",
    "    c[i] = 1\n",
    "    t_stat = (beta_hat[i] - 0) / (s * np.sqrt(c.T @ np.linalg.inv(Z.T @ Z) @ c))\n",
    "    p_val = 2 * (1 - st.t.cdf(t_stat, df=dof))\n",
    "    p_vals.append(p_val)\n",
    "    print(f\"The t statistic p value for beta hat {i} is {p_val:.4f}\")    "
   ]
  },
  {
   "cell_type": "code",
   "execution_count": 21,
   "id": "98cb6fa0-5970-4faf-b734-a094932d7915",
   "metadata": {},
   "outputs": [
    {
     "name": "stdout",
     "output_type": "stream",
     "text": [
      "The betas that meet this condition are [1, 2, 5, 6, 7, 8]\n"
     ]
    }
   ],
   "source": [
    "indices_p_vals_zipped = zip(range(len(beta_hat)), p_vals)\n",
    "indices_filtered = [index for index,p_val in indices_p_vals_zipped if (0.975 < p_val or p_val < 0.025) and p_val < 1]\n",
    "print(f\"The betas that meet this condition are {indices_filtered}\")"
   ]
  },
  {
   "cell_type": "markdown",
   "id": "c73e3416-abd5-4fe5-8034-b3d4fbabfc26",
   "metadata": {},
   "source": [
    "### Q4"
   ]
  },
  {
   "cell_type": "code",
   "execution_count": 22,
   "id": "d7990e07-8bc5-4ab6-9709-291573586ea8",
   "metadata": {},
   "outputs": [
    {
     "name": "stdout",
     "output_type": "stream",
     "text": [
      "The LS estimator Beta hat squig is the vector [-2544714.28, 9.07, 1299.56, 38.16]^T\n"
     ]
    }
   ],
   "source": [
    "feat_set_sub = ['LotArea', 'YearBuilt', 'YrSold']\n",
    "X_sub = df[feat_set_sub]\n",
    "Z_sub = np.c_[np.ones_like(y), X_sub]\n",
    "\n",
    "beta_hat_sub = np.linalg.inv(Z_sub.T @ Z_sub) @ Z_sub.T @ y\n",
    "\n",
    "print(f\"The LS estimator Beta hat squig is the vector {[round(b,2) for b in list(beta_hat_sub)]}^T\")"
   ]
  },
  {
   "cell_type": "code",
   "execution_count": 23,
   "id": "1b361cb2-9a42-4ba3-b506-d76be901230f",
   "metadata": {},
   "outputs": [
    {
     "name": "stdout",
     "output_type": "stream",
     "text": [
      "The SS of the smaller model is 3637040226479.570\n",
      "The R^2 of the smaller model is 0.476\n"
     ]
    }
   ],
   "source": [
    "y_hat_sub = Z_sub @ beta_hat_sub\n",
    "ss_fit_sub = np.sum((y_hat_sub - y_bar)**2)\n",
    "ss_tot_sub = np.sum((y - y_bar)**2)\n",
    "\n",
    "ss_sub = ss_tot_sub - ss_fit_sub\n",
    "r_squared_sub = ss_fit_sub / ss_tot_sub\n",
    "\n",
    "\n",
    "print(f\"The SS of the smaller model is {ss_tot_sub - ss_fit_sub:.3f}\")\n",
    "print(f\"The R^2 of the smaller model is {r_squared_sub:.3f}\")"
   ]
  },
  {
   "cell_type": "code",
   "execution_count": 24,
   "id": "9b3b5ee6-7e5f-4d1a-b76b-5ceab1c27ec7",
   "metadata": {},
   "outputs": [
    {
     "name": "stdout",
     "output_type": "stream",
     "text": [
      "The p value of the F-test is 0.0000. \n",
      " Meaning, we cannot say that the smaller model is significantly better than the larger model. \n",
      " Hence it does not provide a valid representation of the data, compared to the larger model.\n"
     ]
    }
   ],
   "source": [
    "ss_full = ss_tot - ss_fit\n",
    "q = len(feat_set_sub) + 1\n",
    "\n",
    "F = ((1/(p-q)) * (ss_sub - ss_full)) / (ss_full / dof)\n",
    "p_val_f = 2 * (1 - st.f.cdf(F, dfn=p-q, dfd=dof))\n",
    "print(f\"The p value of the F-test is {p_val_f:.4f}. \\n Meaning, we cannot say that the smaller model is significantly better than the larger model. \\n Hence it does not provide a valid representation of the data, compared to the larger model.\")"
   ]
  },
  {
   "cell_type": "code",
   "execution_count": null,
   "id": "5ce0a70a-ae29-4f0b-af12-3d3930476d1b",
   "metadata": {},
   "outputs": [],
   "source": []
  },
  {
   "cell_type": "code",
   "execution_count": null,
   "id": "0bf41389-05e6-4c06-808d-9ca88ee8180e",
   "metadata": {},
   "outputs": [],
   "source": []
  }
 ],
 "metadata": {
  "kernelspec": {
   "display_name": "Python 3",
   "language": "python",
   "name": "python3"
  },
  "language_info": {
   "codemirror_mode": {
    "name": "ipython",
    "version": 3
   },
   "file_extension": ".py",
   "mimetype": "text/x-python",
   "name": "python",
   "nbconvert_exporter": "python",
   "pygments_lexer": "ipython3",
   "version": "3.8.8"
  }
 },
 "nbformat": 4,
 "nbformat_minor": 5
}
