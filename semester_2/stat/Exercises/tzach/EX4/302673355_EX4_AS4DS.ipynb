{
 "cells": [
  {
   "cell_type": "markdown",
   "id": "85ecf83c",
   "metadata": {},
   "source": [
    "#### Advanced Statistics for Data Science (Spring 2022)\n",
    "# Home Assignment 4\n",
    "#### Topics:\n",
    "- ANOVA\n",
    "\n",
    "\n",
    "#### Due: 10/05/2022 by 18:30\n",
    "\n",
    "#### Instructions:\n",
    "- Write your name, Student ID, and date in the cell below. \n",
    "- Submit a copy of this notebook with code filled in the relevant places as the solution of coding excercises.\n",
    "- For theoretic excercises, you can either write your solution in the notebook using $\\LaTeX$ or submit additional notes.\n",
    "\n",
    "<hr>\n",
    "<hr>"
   ]
  },
  {
   "cell_type": "markdown",
   "id": "e9e979a6",
   "metadata": {},
   "source": [
    "\n",
    "**Name**: Tzach Larboni\n",
    "\n",
    "**Student ID**: 302673355\n",
    "\n",
    "**Date**: 10.05.2022\n",
    "\n",
    "$\n",
    "\\newcommand{\\Id}{{\\mathbf{I}}}  \n",
    "\\newcommand{\\SSE}{\\mathsf{SSE}}\n",
    "\\newcommand{\\SSR}{\\mathsf{SSR}}\n",
    "\\newcommand{\\MSE}{\\mathsf{MSE}}\n",
    "\\newcommand{\\simiid}{\\overset{iid}{\\sim}}\n",
    "\\newcommand{\\ex}{\\mathbb E}\n",
    "\\newcommand{\\var}{\\mathrm{Var}}\n",
    "\\newcommand{\\Cov}[2]{{\\mathrm{Cov}  \\left(#1, #2 \\right)}}\n",
    "\\newcommand{\\one}[1]{\\mathbf 1 {\\left\\{#1\\right\\}}}\n",
    "\\newcommand{\\SE}[1]{\\mathrm{SE} \\left[#1\\right]}\n",
    "\\newcommand{\\reals}{\\mathbb R}\n",
    "\\newcommand{\\Ncal}{\\mathcal N}\n",
    "\\newcommand{\\abs}[1]{\\ensuremath{\\left\\vert#1\\right\\vert}}\n",
    "\\newcommand{\\rank}{\\operatorname{rank}}\n",
    "\\newcommand{\\tr}{\\operatorname{Tr}}\n",
    "\\newcommand{\\diag}{\\operatorname{diag}}\n",
    "\\newcommand{\\sign}{\\operatorname{sign}}\n",
    "$\n"
   ]
  },
  {
   "cell_type": "markdown",
   "id": "24104bcd",
   "metadata": {},
   "source": [
    "<hr>\n",
    "<hr>"
   ]
  },
  {
   "cell_type": "markdown",
   "id": "0d8954a2",
   "metadata": {},
   "source": [
    "# Problem 1 (Solving LS using SVD)\n",
    "Consider the housing prices dataset (``housing_prices.csv``). Use houses of lot size smaller than 15000 ft.\n",
    "\n",
    "1. Find the least squares coefficient of the linear model with target variable ``SalePrice`` and the 16 predictors:\n",
    "``['LotArea',  'YearBuilt',\n",
    "  'GarageCars', 'YrSold', 'MoSold', 'Fireplaces',\n",
    "  'HalfBath', 'LowQualFinSF', 'TotalBsmtSF',\n",
    "  '1stFlrSF', 'LotFrontage', 'ScreenPorch',\n",
    "   'WoodDeckSF', 'OverallCond', 'BsmtUnfSF']`` \n",
    "plus a constant term. Remove all entries in which one or more of these predictors is missing. \n",
    " - By inverting the matrix $Z^\\top Z$. Denote the solution $\\hat{\\beta}$.\n",
    " - Using the SVD method. Here, decide that $\\sigma_i > 0$ if $\\sigma_i / \\sigma_1 > 10^{-6}$. Denote the solution $\\hat{\\beta}^{SVD}$.\n",
    " - In which method $R^2$ is smaller?\n",
    "2. Plot $\\hat{y}$ and $\\hat{y}^{SVD}$ over the same pannel to convince yourself that both methods resulted in similar fitted responses. \n",
    "3. Plot $\\log(|\\hat{\\beta}_i/\\hat{\\beta}^{SVD}_i|)$ vs. $i$ for $i=1,\\ldots,p$ and indicate the covariate whose coefficient exhibits the largest difference between the methods.\n",
    "\n",
    "The point: When there are many predictors, it is likely that $Z$ will be rank deficient in the sense that some of its singular values are very small. Removing those singular values is usually a good practice; it is important to observe how this removal affects the solution. "
   ]
  },
  {
   "cell_type": "markdown",
   "id": "87bf576e",
   "metadata": {},
   "source": [
    "The largest difference is for the first predictor, which is the constant covariate. We can check that this result makes sense by fiting a new model without the constant covaraite and test whether the residuals in the smaller new model are not significantly different than those in the original model. "
   ]
  },
  {
   "cell_type": "markdown",
   "id": "7164468f",
   "metadata": {},
   "source": [
    "You can use the code below to read and arrange the data"
   ]
  },
  {
   "cell_type": "code",
   "execution_count": 2,
   "id": "d8dff277-aa17-4812-a259-4150af7df07c",
   "metadata": {},
   "outputs": [],
   "source": [
    "import pandas as pd\n",
    "import numpy as np\n",
    "import matplotlib.pyplot as plt\n",
    "import math\n",
    "import seaborn as sns\n",
    "import scipy.stats as st\n",
    "import statsmodels.api as sm\n",
    "from statsmodels.formula.api import ols\n"
   ]
  },
  {
   "cell_type": "code",
   "execution_count": 3,
   "id": "26e5e4c6",
   "metadata": {},
   "outputs": [
    {
     "data": {
      "text/html": [
       "<div>\n",
       "<style scoped>\n",
       "    .dataframe tbody tr th:only-of-type {\n",
       "        vertical-align: middle;\n",
       "    }\n",
       "\n",
       "    .dataframe tbody tr th {\n",
       "        vertical-align: top;\n",
       "    }\n",
       "\n",
       "    .dataframe thead th {\n",
       "        text-align: right;\n",
       "    }\n",
       "</style>\n",
       "<table border=\"1\" class=\"dataframe\">\n",
       "  <thead>\n",
       "    <tr style=\"text-align: right;\">\n",
       "      <th></th>\n",
       "      <th>const</th>\n",
       "      <th>SalePrice</th>\n",
       "      <th>LotArea</th>\n",
       "      <th>YearBuilt</th>\n",
       "      <th>GarageCars</th>\n",
       "      <th>YrSold</th>\n",
       "      <th>MoSold</th>\n",
       "      <th>Fireplaces</th>\n",
       "      <th>HalfBath</th>\n",
       "      <th>LowQualFinSF</th>\n",
       "      <th>TotalBsmtSF</th>\n",
       "      <th>1stFlrSF</th>\n",
       "      <th>LotFrontage</th>\n",
       "      <th>ScreenPorch</th>\n",
       "      <th>WoodDeckSF</th>\n",
       "      <th>OverallCond</th>\n",
       "      <th>BsmtUnfSF</th>\n",
       "    </tr>\n",
       "  </thead>\n",
       "  <tbody>\n",
       "    <tr>\n",
       "      <th>0</th>\n",
       "      <td>1</td>\n",
       "      <td>208500</td>\n",
       "      <td>8450</td>\n",
       "      <td>2003</td>\n",
       "      <td>2</td>\n",
       "      <td>2008</td>\n",
       "      <td>2</td>\n",
       "      <td>0</td>\n",
       "      <td>1</td>\n",
       "      <td>0</td>\n",
       "      <td>856</td>\n",
       "      <td>856</td>\n",
       "      <td>65.0</td>\n",
       "      <td>0</td>\n",
       "      <td>0</td>\n",
       "      <td>5</td>\n",
       "      <td>150</td>\n",
       "    </tr>\n",
       "    <tr>\n",
       "      <th>1</th>\n",
       "      <td>1</td>\n",
       "      <td>181500</td>\n",
       "      <td>9600</td>\n",
       "      <td>1976</td>\n",
       "      <td>2</td>\n",
       "      <td>2007</td>\n",
       "      <td>5</td>\n",
       "      <td>1</td>\n",
       "      <td>0</td>\n",
       "      <td>0</td>\n",
       "      <td>1262</td>\n",
       "      <td>1262</td>\n",
       "      <td>80.0</td>\n",
       "      <td>0</td>\n",
       "      <td>298</td>\n",
       "      <td>8</td>\n",
       "      <td>284</td>\n",
       "    </tr>\n",
       "    <tr>\n",
       "      <th>2</th>\n",
       "      <td>1</td>\n",
       "      <td>223500</td>\n",
       "      <td>11250</td>\n",
       "      <td>2001</td>\n",
       "      <td>2</td>\n",
       "      <td>2008</td>\n",
       "      <td>9</td>\n",
       "      <td>1</td>\n",
       "      <td>1</td>\n",
       "      <td>0</td>\n",
       "      <td>920</td>\n",
       "      <td>920</td>\n",
       "      <td>68.0</td>\n",
       "      <td>0</td>\n",
       "      <td>0</td>\n",
       "      <td>5</td>\n",
       "      <td>434</td>\n",
       "    </tr>\n",
       "    <tr>\n",
       "      <th>3</th>\n",
       "      <td>1</td>\n",
       "      <td>140000</td>\n",
       "      <td>9550</td>\n",
       "      <td>1915</td>\n",
       "      <td>3</td>\n",
       "      <td>2006</td>\n",
       "      <td>2</td>\n",
       "      <td>1</td>\n",
       "      <td>0</td>\n",
       "      <td>0</td>\n",
       "      <td>756</td>\n",
       "      <td>961</td>\n",
       "      <td>60.0</td>\n",
       "      <td>0</td>\n",
       "      <td>0</td>\n",
       "      <td>5</td>\n",
       "      <td>540</td>\n",
       "    </tr>\n",
       "    <tr>\n",
       "      <th>4</th>\n",
       "      <td>1</td>\n",
       "      <td>250000</td>\n",
       "      <td>14260</td>\n",
       "      <td>2000</td>\n",
       "      <td>3</td>\n",
       "      <td>2008</td>\n",
       "      <td>12</td>\n",
       "      <td>1</td>\n",
       "      <td>1</td>\n",
       "      <td>0</td>\n",
       "      <td>1145</td>\n",
       "      <td>1145</td>\n",
       "      <td>84.0</td>\n",
       "      <td>0</td>\n",
       "      <td>192</td>\n",
       "      <td>5</td>\n",
       "      <td>490</td>\n",
       "    </tr>\n",
       "  </tbody>\n",
       "</table>\n",
       "</div>"
      ],
      "text/plain": [
       "   const  SalePrice  LotArea  YearBuilt  GarageCars  YrSold  MoSold  \\\n",
       "0      1     208500     8450       2003           2    2008       2   \n",
       "1      1     181500     9600       1976           2    2007       5   \n",
       "2      1     223500    11250       2001           2    2008       9   \n",
       "3      1     140000     9550       1915           3    2006       2   \n",
       "4      1     250000    14260       2000           3    2008      12   \n",
       "\n",
       "   Fireplaces  HalfBath  LowQualFinSF  TotalBsmtSF  1stFlrSF  LotFrontage  \\\n",
       "0           0         1             0          856       856         65.0   \n",
       "1           1         0             0         1262      1262         80.0   \n",
       "2           1         1             0          920       920         68.0   \n",
       "3           1         0             0          756       961         60.0   \n",
       "4           1         1             0         1145      1145         84.0   \n",
       "\n",
       "   ScreenPorch  WoodDeckSF  OverallCond  BsmtUnfSF  \n",
       "0            0           0            5        150  \n",
       "1            0         298            8        284  \n",
       "2            0           0            5        434  \n",
       "3            0           0            5        540  \n",
       "4            0         192            5        490  "
      ]
     },
     "execution_count": 3,
     "metadata": {},
     "output_type": "execute_result"
    }
   ],
   "source": [
    "target = 'SalePrice' \n",
    "lo_predictors = ['const', 'SalePrice', 'LotArea',  'YearBuilt',\n",
    "    'GarageCars', 'YrSold', 'MoSold', 'Fireplaces',\n",
    "    'HalfBath', 'LowQualFinSF', 'TotalBsmtSF',\n",
    "    '1stFlrSF', 'LotFrontage', 'ScreenPorch',\n",
    "     'WoodDeckSF', 'OverallCond', 'BsmtUnfSF']\n",
    "\n",
    "data = pd.read_csv(\"housing_prices.csv\")\n",
    "data = data[data.LotArea < 15000]  # we focus on small lots\n",
    "data['const'] = 1                  # add constant term\n",
    "data = data.filter(lo_predictors).dropna() # remove all other columns\n",
    "\n",
    "y = data[target].values\n",
    "X = data.drop(target, axis=1)\n",
    "Z = X.values\n",
    "n, p = Z.shape\n",
    "\n",
    "data.head()"
   ]
  },
  {
   "cell_type": "markdown",
   "id": "882e0d1d-12cd-4400-a24f-670c9787c0e3",
   "metadata": {},
   "source": [
    "#### Part 1"
   ]
  },
  {
   "cell_type": "markdown",
   "id": "2f59f753-1b75-4e1a-bae6-c020bb76b5af",
   "metadata": {},
   "source": [
    "##### Find $\\hat{\\beta}$ "
   ]
  },
  {
   "cell_type": "code",
   "execution_count": 4,
   "id": "8d391f51-997f-49e7-8349-496dd8333985",
   "metadata": {},
   "outputs": [
    {
     "name": "stdout",
     "output_type": "stream",
     "text": [
      "The LS estimator Beta hat is the vector [-3039719.75, 2.98, 616.84, 21256.55, 884.95, 983.79, 16763.36, 27915.65, 68.96, 43.9, 41.28, 0.73, 22.67, 30.83, 7715.94, -8.1]^T\n"
     ]
    }
   ],
   "source": [
    "beta_hat_ls = np.linalg.inv(Z.T @ Z) @ Z.T @ y\n",
    "print(f\"The LS estimator Beta hat is the vector {[round(b,2) for b in list(beta_hat_ls)]}^T\")"
   ]
  },
  {
   "cell_type": "markdown",
   "id": "c1395e72-9514-4129-a71a-0d97686491d2",
   "metadata": {},
   "source": [
    "\n",
    "##### Find $\\hat{\\beta}^{SVD}$ "
   ]
  },
  {
   "cell_type": "code",
   "execution_count": 28,
   "id": "032bcbe8-45df-49c7-bdee-cbc4cc9b292f",
   "metadata": {},
   "outputs": [
    {
     "name": "stdout",
     "output_type": "stream",
     "text": [
      "The LS estimator Beta hat is the vector [-0.27, 2.94, 612.37, 21197.77, -624.39, 866.65, 16647.23, 28030.11, 68.07, 44.1, 41.41, 6.73, 23.27, 31.8, 7708.39, -8.18]^T\n"
     ]
    }
   ],
   "source": [
    "u, sig, v_t = np.linalg.svd(Z)\n",
    "\n",
    "sig_filter = (sig / sig[0] > epsilon)\n",
    "\n",
    "y_star = u.T @ y\n",
    "y_star = y_star[:p]\n",
    "\n",
    "beta_star = np.zeros(p)\n",
    "beta_star[sig_filter] = y_star[sig_filter] / sig[sig_filter]\n",
    "\n",
    "beta_hat_svd = v_t.T @ beta_star\n",
    "print(f\"The LS estimator Beta hat is the vector {[round(b,2) for b in list(beta_hat_svd)]}^T\")\n"
   ]
  },
  {
   "cell_type": "markdown",
   "id": "0dbee1f3-3248-4cae-8141-6ce8e5e44f8d",
   "metadata": {},
   "source": [
    "##### Compre $R^2$"
   ]
  },
  {
   "cell_type": "code",
   "execution_count": 29,
   "id": "f6bd8173-e8c3-49b7-b05f-f7117f843d05",
   "metadata": {},
   "outputs": [],
   "source": [
    "def calc_r_squared(y, Z, beta_hat):\n",
    "    y_hat = Z @ beta_hat\n",
    "    y_bar = np.mean(y)\n",
    "    ss_fit = np.sum((y_hat - y_bar)**2)\n",
    "    ss_tot = np.sum((y - y_bar)**2)\n",
    "\n",
    "    r_squared = ss_fit / ss_tot\n",
    "    return r_squared"
   ]
  },
  {
   "cell_type": "code",
   "execution_count": 30,
   "id": "ddc767b3-631f-4d56-ab3c-bda94e3f87c7",
   "metadata": {},
   "outputs": [
    {
     "name": "stdout",
     "output_type": "stream",
     "text": [
      "The R^2 for the Z^T Z approach is 0.745 and for the SVD approach is 0.744.\n",
      "However, SVD have a slighly smaller R^2 value.\n"
     ]
    }
   ],
   "source": [
    "smaller_r_squared = \"LS\" if calc_r_squared(y, Z, beta_hat_ls) < calc_r_squared(y, Z, beta_hat_svd) else \"SVD\"\n",
    "\n",
    "print(f\"The R^2 for the Z^T Z approach is {calc_r_squared(y, Z, beta_hat_ls):.3f} and for the SVD approach is {calc_r_squared(y, Z, beta_hat_svd):.3f}.\\nHowever, {smaller_r_squared} have a slighly smaller R^2 value.\")\n"
   ]
  },
  {
   "cell_type": "markdown",
   "id": "0f760555-5ed5-43a7-90f8-83d023f08ef9",
   "metadata": {},
   "source": [
    "#### Part 2"
   ]
  },
  {
   "cell_type": "code",
   "execution_count": 31,
   "id": "761b7205-bd65-4077-b5cb-d9ac83203acf",
   "metadata": {},
   "outputs": [
    {
     "data": {
      "image/png": "[encoded data removed]",
      "text/plain": [
       "<Figure size 720x720 with 1 Axes>"
      ]
     },
     "metadata": {
      "needs_background": "light"
     },
     "output_type": "display_data"
    }
   ],
   "source": [
    "y_hat_mat = Z @ beta_hat_ls\n",
    "y_hat_svd = Z @ beta_hat_svd\n",
    "\n",
    "plt.rcParams['figure.figsize'] =  [10, 10]\n",
    "\n",
    "plt.plot(y_hat_mat)\n",
    "plt.plot(y_hat_svd)\n",
    "plt.title(r\"$\\hat{y}$ using $Z^TZ$ and $\\hat{y}$ using SVD\")\n",
    "plt.show()"
   ]
  },
  {
   "cell_type": "markdown",
   "id": "49bf6c4e-11ef-49bc-97cd-6c35afafed02",
   "metadata": {},
   "source": [
    "#### Part 3"
   ]
  },
  {
   "cell_type": "code",
   "execution_count": 32,
   "id": "8e6ec777-7c69-4cd2-826c-453474f5480b",
   "metadata": {},
   "outputs": [
    {
     "data": {
      "image/png": "[encoded data removed]",
      "text/plain": [
       "<Figure size 720x720 with 1 Axes>"
      ]
     },
     "metadata": {
      "needs_background": "light"
     },
     "output_type": "display_data"
    }
   ],
   "source": [
    "xs = []\n",
    "for i in range(p):\n",
    "    xs.append(np.log(abs(beta_hat_ls[i] / beta_hat_svd[i])))\n",
    "    \n",
    "plt.plot(xs)\n",
    "plt.xlabel(\"i\")\n",
    "plt.ylabel(r\"$log(|\\hat{\\beta} / \\hat{\\beta}^{SVD}|)$\")\n",
    "plt.title(\"Log Ratio of Beta for for each i in p\")\n",
    "plt.show()"
   ]
  },
  {
   "cell_type": "markdown",
   "id": "cdfc6c84-da17-49f6-ac7b-afd23ba5284b",
   "metadata": {},
   "source": [
    "As it seems, the 1st coefficient, the constant, has the largest difference between the two methods."
   ]
  },
  {
   "cell_type": "markdown",
   "id": "40894d3d",
   "metadata": {},
   "source": [
    "## Problem 2 ($t$-test is a kind of ANOVA)\n",
    "Consider the following two-sample problem. The data is\n",
    "$$\n",
    "y_{ij} = \\mu_i + \\epsilon_{ij},\\qquad j=1,\\ldots,n_i,\\quad i=0,1. \n",
    "$$\n",
    "\n",
    "1. Find the statistic $t$ for the two-sample $t$ test (using of the observable varaibles)\n",
    "2. Write the ANOVA table for $k=2$ and find the F statistic $F$ (using of the observable varaibles)\n",
    "3. Conclude that $t^2 = F$. \n",
    "4. Does the test that rejects when $|t| > t_{n-1}^{1-\\alpha/2}$ has larger power than the test that rejects when $F > F_{1,n-1}^{1-\\alpha}$ ? less? same? \n"
   ]
  },
  {
   "cell_type": "markdown",
   "id": "9e2052d7-a94f-4a27-abb0-fbdebb876b97",
   "metadata": {},
   "source": [
    "#### Part 1"
   ]
  },
  {
   "cell_type": "markdown",
   "id": "bb1bbd66-8446-4a97-83e1-31a09dc5d6fa",
   "metadata": {},
   "source": [
    "$$ t = \\frac{\\mu_0 - \\mu_1}{\\sqrt{\\frac{s^2}{n_0} + \\frac{s^2}{n_1}}}$$\n",
    "\n",
    "Where $$s^2 = \\frac {\\sum_{j=1}^{n_0}(y_{0j}-\\mu_0)^2 + \\sum_{j=1}^{n_1}(y_{1j}-\\mu_1)^2} {n_0+n_1-2} $$\n"
   ]
  },
  {
   "cell_type": "markdown",
   "id": "bd015ea6-882e-48b1-8421-2dc7f3a7aebc",
   "metadata": {},
   "source": [
    "#### Part 2"
   ]
  },
  {
   "cell_type": "markdown",
   "id": "dfe23107-ba73-4db7-b876-65159a473642",
   "metadata": {},
   "source": [
    "| Source | DoF | SS | MS | F |\n",
    "| :- | -: | :-: | :- | -: |\n",
    "| Groups | 1 | $SS_{between} = \\sum_{i=0}^{1}{n_i(\\mu_i - \\bar{y})^2}$ | $\\frac{SS_{bet}}{1}$ | $\\frac{MS_{bet}}{MS_{wit}}$ |  \n",
    "| Error | n - 2 | $SS_{within} = \\sum_{i=0}^{1} \\sum{j=1}^{n_i} ({y_{i,j} - \\mu_i)^2}$ | $\\frac{SS_wit}{n-2}$| |\n",
    "| Total | n - 1 | $SS_total = \\sum{i=0}^{1} \\sum{j=1}^{n_1} (y_{i,k} - \\hat{y})^2)$| | | "
   ]
  },
  {
   "cell_type": "markdown",
   "id": "fbc09be6-5dce-4fac-befa-fd87b9ec121b",
   "metadata": {},
   "source": [
    "#### Part 3"
   ]
  },
  {
   "cell_type": "markdown",
   "id": "1f3271dc-3578-4ebb-bbef-d0f82683af80",
   "metadata": {},
   "source": [
    "We know that $$ F = \\frac{MS_{bet}}{MS_{wit}} = \\frac{\\frac{SS_{bet}}{k-1}}{\\frac{SS_{wit}}{n-k}}$$ \n",
    "$$ t^2 = \\frac{(\\bar{y_0} - \\bar{y_1})^2}{s^2(\\frac{1}{n_0} + \\frac{1}{n_2})}$$\n",
    "\n",
    "While $k=2$. \n",
    "\n",
    "We can start by examining the numerator of $F$:\n",
    "$$ \\frac{SS_{bet}}{2-1} = SS_{bet} = \\sum_{i=0}^{1}{n_i(\\mu_i - \\bar{y})^2} = n_0(\\mu_0 - \\bar{y})^2 + n_1(\\mu_1 - \\bar{y})^2$$\n",
    "\n",
    "Since $ \\bar{y} = \\frac{n_0 \\mu_0+ n_1 \\mu_1}{n_0 + n_1} $, we'll plug it in and examine each argument, starting from the left:\n",
    "\n",
    "$$\n",
    "n_0 (\\mu_0 - \\frac{n_0 \\mu_0+ n_1 \\mu_1}{n})^2 = n_0 [\\frac{(n-n_0) \\mu_0 - n_1 \\mu_1}{n}]^2\n",
    "$$\n",
    "$$\n",
    "= n_0(\\frac{n_1 \\mu_0 - n_1 \\mu_1}{n})^2\n",
    "$$\n",
    "$$\n",
    "= \\frac{n_0n_1^2}{n^2}(\\mu_0 - \\mu_1)^2\n",
    "$$\n",
    "\n",
    "We'll do the same for the right argument and get:\n",
    "$$\n",
    "n_1(\\mu_1 - \\bar{y})^2 = \\frac{n_1n_0^2}{n^2}(\\mu_1 - \\mu_0)^2\n",
    "$$\n",
    "\n",
    "Meaning, \n",
    "\n",
    "$$\n",
    "SS_{bet} = \\frac{n_0n_1^2}{n^2}(\\mu_0 - \\mu_1)^2 + \\frac{n_1n_0^2}{n^2}(\\mu_1 - \\mu_0)^2 = (\\frac{n_0 n_1 ^2 + n_1 n_0^2}{n^2}) (\\mu_0 - \\mu_1)^2\n",
    "$$\n",
    "\n",
    "$$\n",
    "= \\frac{n_0 n_1 n}{n^2}(\\mu_0 - \\mu_1)^2 = \\frac {n_0 n_1}{n} (\\mu_0 - \\mu_1)^2\n",
    "$$\n",
    "\n",
    "$$\n",
    "= \\frac{1}{\\frac{n}{n_0 n_1}} (\\mu_0 - \\mu_1)^2 = \\frac{(\\mu_0 - \\mu_1)^2}{\\frac{1}{n_0} + \\frac {1}{n_1}} \n",
    "$$\n",
    "Moving on to the denominator:\n",
    "$${\\frac{SS_{wit}}{n-2}} = \\frac{\\sum_{j=1}^{n_0}(y_{0j} - \\bar{y_0})^2  + \\sum_{j=1}^{n_1}(y_{1j} - \\bar{y_1})^2}{n_0 + n_1 -2}$$\n",
    "\n",
    "If we'll recall the formula for $s^2$, we can see it's equivilant and get that \n",
    "$$ {\\frac{SS_{wit}}{n-2}} = s^2 $$\n",
    "\n",
    "And plugging it all back together we'll get:\n",
    "\n",
    "$$\n",
    "F = \\frac{SS_{bet}}{\\frac{SS_{wit}}{n-2}} = \\frac{(\\mu_0 - \\mu_1)^2} {s^2(\\frac{1}{n_0} + \\frac{1}{n_1})} = t^2\n",
    "$$\n",
    "\n",
    "$$ Q.E.D$$"
   ]
  },
  {
   "cell_type": "markdown",
   "id": "bc874972-a6d4-4d3c-a6c7-a01f02790a82",
   "metadata": {},
   "source": [
    "#### Part 4"
   ]
  },
  {
   "cell_type": "markdown",
   "id": "0614f06b-07eb-4752-b9fa-14c6944f013f",
   "metadata": {},
   "source": [
    "As I have just shown, $|t| > t_{n-1}^{1-\\alpha/2}$ is basically identical to $F > F_{1,n-1}^{1-\\alpha}$. Every $t$ value that we'll get can be squarred and will be identical to the $F$ score."
   ]
  },
  {
   "cell_type": "markdown",
   "id": "7777ba79",
   "metadata": {},
   "source": [
    "## Problem 3 (ANOVA Decomposition)\n",
    "In class, we considered the decomposition:\n",
    "$$\n",
    "\\begin{equation}\n",
    "\\mathrm{SS}_{tot} = \\mathrm{SS}_{within} + \\mathrm{SS}_{between}\n",
    "\\label{eq:ANOVA} \\tag{1}\n",
    "\\end{equation}\n",
    "$$\n",
    "where\n",
    "$$\n",
    "\\mathrm{SS}_{between} = \\sum_{i=1}^k n_i(\\bar{y}_{i\\cdot} - \\bar{y}_{\\cdot \\cdot})^2,\\qquad \\mathrm{SS}_{within} = \\sum_{i=1}^k \\sum_{j=1}^{n_i} (y_{ij} - \\bar{y}_{i\\cdot})^2\n",
    "$$\n",
    "Prove $\\eqref{eq:ANOVA}$ by expanding:\n",
    "$$\n",
    "\\mathrm{SS}_{tot} = \\sum_{i=1}^k \\sum_{j=1}^{n_i} (y_{ij} - \\bar{y}_{\\cdot \\cdot})^2 = \\sum_{i=1}^k \\sum_{j=1}^{n_i} (y_{ij} - \\bar{y}_{i\\cdot} + \\bar{y}_{i\\cdot} - \\bar{y}_{\\cdot \\cdot})^2 = ...\n",
    "$$"
   ]
  },
  {
   "cell_type": "markdown",
   "id": "297bb9c4-cdfe-463b-b545-049092edf3df",
   "metadata": {},
   "source": [
    "#### Answer"
   ]
  },
  {
   "cell_type": "markdown",
   "id": "7e64b164-cf27-4a7a-bf4e-6cec0a7947bb",
   "metadata": {},
   "source": [
    "$${SS}_{tot} = \\sum_{i=1}^k \\sum_{j=1}^{n_i} (y_{ij} - \\bar{y}_{\\cdot \\cdot})^2$$\n",
    "$$\\sum_{i=1}^k \\sum_{j=1}^{n_i} (y_{ij} - \\bar{y}_{i\\cdot} + \\bar{y}_{i\\cdot} - \\bar{y}_{\\cdot \\cdot})^2 $$\n",
    "\n",
    "We can treat it as $(a+b)^2 = a^2 + 2ab + b^2)$ and:\n",
    "\n",
    "$$\\sum_{i=1}^k \\sum_{j=1}^{n_i} [(y_{ij} - \\bar{y}_{i\\cdot})^2 + 2(\\bar{y}_{i\\cdot} - \\bar{y}_{\\cdot \\cdot})(y_{ij} - \\bar{y}_{i\\cdot}) + (\\bar{y}_{i\\cdot} - \\bar{y}_{\\cdot \\cdot})^2] $$\n",
    "\n",
    "We can open the summations:\n",
    "\n",
    "$$\\sum_{i=1}^k \\sum_{j=1}^{n_i} (y_{ij} - \\bar{y}_{i\\cdot})^2 + 2\\sum_{i=1}^k \\sum_{j=1}^{n_i} (\\bar{y}_{i\\cdot} - \\bar{y}_{\\cdot \\cdot})(y_{ij} - \\bar{y}_{i\\cdot}) + \\sum_{i=1}^k \\sum_{j=1}^{n_i}(\\bar{y}_{i\\cdot} - \\bar{y}_{\\cdot \\cdot})^2 $$\n",
    "\n",
    "We can see that the leftmost argument is basically $SS_{between}$ and that the rightmost argument is $SS_{within}$, therefore:\n",
    "\n",
    "$$ SS_{between} + 2\\sum_{i=1}^k \\sum_{j=1}^{n_i} (\\bar{y}_{i\\cdot} - \\bar{y}_{\\cdot \\cdot})(y_{ij} - \\bar{y}_{i\\cdot}) + SS_{within}$$\n",
    "\n",
    "We will now focus on the middle argument:\n",
    "\n",
    "$$ 2\\sum_{i=1}^k \\sum_{j=1}^{n_i} (\\bar{y}_{i\\cdot} - \\bar{y}_{\\cdot \\cdot})(y_{ij} - \\bar{y}_{i\\cdot})$$\n",
    "Since there is not j in the right argument, we can move the $j$ summation inside:\n",
    " $$2 \\sum_{i=1}^k (\\bar{y}_{i\\cdot} - \\bar{y}_{\\cdot \\cdot}) [\\sum_{j=1}^{n_i} (y_{ij} - \\bar{y}_{i\\cdot})]$$\n",
    " \n",
    "We can further play with the summation, converting on of it to simple multiplication:\n",
    "$$2 \\sum_{i=1}^k (\\bar{y}_{i\\cdot} - \\bar{y}_{\\cdot \\cdot}) [(\\sum_{j=1}^{n_i} (y_{ij}) - n\\bar{y}_{i\\cdot})]$$\n",
    "\n",
    "Since the two right most expresssions are identical we get:\n",
    "\n",
    "$$2 \\sum_{i=1}^k (\\bar{y}_{i\\cdot} - \\bar{y}_{\\cdot \\cdot}) \\times 0 = 0$$\n",
    "\n",
    "Hence:\n",
    "$$ SS_{tot} = SS_{between} + 0 + SS_{within}$$\n",
    "$$Q.E.D$$"
   ]
  },
  {
   "cell_type": "markdown",
   "id": "a284f3aa",
   "metadata": {},
   "source": [
    "## Problem 4 (ANOVA and multiple testing in Practice)"
   ]
  },
  {
   "cell_type": "markdown",
   "id": "b0d16fa4",
   "metadata": {},
   "source": [
    "Consider Israeli wines in the wine dataset ``winemag-data_first150k.csv`` used in class (downloaded from Kaggle https://www.kaggle.com/datasets/zynicide/wine-reviews?select=winemag-data_first150k.csv). Use ANOVA to measure the effect of winary (``winary``) on the quality (``points``) of wine of veriaty ``Cabernet Sauvignon``. \n",
    "1. Load dataset; keep only relevant records according to the fields ``country`` and ``veriaty``; remove winaries with 1 or less samples (because we cannot do ANOVA for those)\n",
    "2. Plot the boxplot with ``winary`` as the x-axis and ``points`` as the y-axis.\n",
    "3. Use ANOVA to figure out whether some winaries make better cabernets than others; print the ANOVA table and explain your conclusion\n",
    "4. Find which winaries have cabernets ranked higher than others:\n",
    " - Run all paired t-tests; how many of the test's P-values fall below 0.05? is it more than what is expceted if all tests are null?\n",
    " - Use Bonferroni's method to decide which winaries ranked singnificantly higher than others by reporting on the list of pairs whose P-value is significant after Bonferroni's correction. Also indicate which one is ranked higher out of each pair."
   ]
  },
  {
   "cell_type": "markdown",
   "id": "be9645d5-af59-4fec-80d9-c3678d8060fc",
   "metadata": {},
   "source": [
    "#### Part 1\n",
    "1. Load dataset; keep only relevant records according to the fields ``country`` and ``veriaty``; remove winaries with 1 or less samples (because we cannot do ANOVA for those)"
   ]
  },
  {
   "cell_type": "code",
   "execution_count": 33,
   "id": "14c26dd9",
   "metadata": {},
   "outputs": [
    {
     "data": {
      "text/html": [
       "<div>\n",
       "<style scoped>\n",
       "    .dataframe tbody tr th:only-of-type {\n",
       "        vertical-align: middle;\n",
       "    }\n",
       "\n",
       "    .dataframe tbody tr th {\n",
       "        vertical-align: top;\n",
       "    }\n",
       "\n",
       "    .dataframe thead th {\n",
       "        text-align: right;\n",
       "    }\n",
       "</style>\n",
       "<table border=\"1\" class=\"dataframe\">\n",
       "  <thead>\n",
       "    <tr style=\"text-align: right;\">\n",
       "      <th></th>\n",
       "      <th>winery</th>\n",
       "      <th>points</th>\n",
       "    </tr>\n",
       "  </thead>\n",
       "  <tbody>\n",
       "    <tr>\n",
       "      <th>81</th>\n",
       "      <td>Binyamina</td>\n",
       "      <td>91</td>\n",
       "    </tr>\n",
       "    <tr>\n",
       "      <th>355</th>\n",
       "      <td>Bazelet HaGolan</td>\n",
       "      <td>91</td>\n",
       "    </tr>\n",
       "    <tr>\n",
       "      <th>966</th>\n",
       "      <td>Segal's</td>\n",
       "      <td>90</td>\n",
       "    </tr>\n",
       "    <tr>\n",
       "      <th>970</th>\n",
       "      <td>Tabor</td>\n",
       "      <td>90</td>\n",
       "    </tr>\n",
       "    <tr>\n",
       "      <th>977</th>\n",
       "      <td>Yatir</td>\n",
       "      <td>90</td>\n",
       "    </tr>\n",
       "    <tr>\n",
       "      <th>1205</th>\n",
       "      <td>Carmel</td>\n",
       "      <td>90</td>\n",
       "    </tr>\n",
       "    <tr>\n",
       "      <th>1476</th>\n",
       "      <td>Carmel</td>\n",
       "      <td>90</td>\n",
       "    </tr>\n",
       "    <tr>\n",
       "      <th>1806</th>\n",
       "      <td>Or Haganuz</td>\n",
       "      <td>90</td>\n",
       "    </tr>\n",
       "    <tr>\n",
       "      <th>1812</th>\n",
       "      <td>Shiloh Winery</td>\n",
       "      <td>90</td>\n",
       "    </tr>\n",
       "    <tr>\n",
       "      <th>2671</th>\n",
       "      <td>Flam</td>\n",
       "      <td>90</td>\n",
       "    </tr>\n",
       "  </tbody>\n",
       "</table>\n",
       "</div>"
      ],
      "text/plain": [
       "               winery  points\n",
       "81          Binyamina      91\n",
       "355   Bazelet HaGolan      91\n",
       "966           Segal's      90\n",
       "970             Tabor      90\n",
       "977             Yatir      90\n",
       "1205           Carmel      90\n",
       "1476           Carmel      90\n",
       "1806       Or Haganuz      90\n",
       "1812    Shiloh Winery      90\n",
       "2671             Flam      90"
      ]
     },
     "execution_count": 33,
     "metadata": {},
     "output_type": "execute_result"
    }
   ],
   "source": [
    "wine_df = pd.read_csv('winemag-data_first150k.csv')\n",
    "wine_df = wine_df[(wine_df.country == 'Israel') & (wine_df.variety == 'Cabernet Sauvignon')]\n",
    "wine_df = wine_df[['winery', 'points']]\n",
    "v = wine_df.winery.value_counts()\n",
    "relevant_wineries = v.index[v.gt(1)]\n",
    "wine_df = wine_df[wine_df.winery.isin(relevant_wineries)]\n",
    "wine_df.head(10)"
   ]
  },
  {
   "cell_type": "markdown",
   "id": "bf30dd39-940e-4c81-83bf-0a0ba7cfce6f",
   "metadata": {},
   "source": [
    "#### Part 2\n",
    "2. Plot the boxplot with ``winary`` as the x-axis and ``points`` as the y-axis.\n"
   ]
  },
  {
   "cell_type": "code",
   "execution_count": 10,
   "id": "7f8d44b6-3995-4728-9d79-64253b032e10",
   "metadata": {},
   "outputs": [
    {
     "data": {
      "image/png": "[encoded data removed]",
      "text/plain": [
       "<Figure size 720x720 with 1 Axes>"
      ]
     },
     "metadata": {
      "needs_background": "light"
     },
     "output_type": "display_data"
    }
   ],
   "source": [
    "sns.boxplot(x='winery', y='points', data=wine_df)\n",
    "plt.title('winery <> points boxplot'.title())\n",
    "plt.show()"
   ]
  },
  {
   "cell_type": "markdown",
   "id": "f093cd05-005b-43a9-96bf-090a1f5eb862",
   "metadata": {},
   "source": [
    "#### Part 3\n",
    "3. Use ANOVA to figure out whether some winaries make better cabernets than others; print the ANOVA table and explain your conclusion"
   ]
  },
  {
   "cell_type": "code",
   "execution_count": 39,
   "id": "76e1f16a-5391-4b3d-bed7-d504b3cb266a",
   "metadata": {},
   "outputs": [
    {
     "name": "stdout",
     "output_type": "stream",
     "text": [
      "DoF: Wineries = 18, Error = 116, Total = 134\n",
      "SS: Wineries = 240.83, Error = 470.11, Total = 710.93\n",
      "MS: Wineries = 13.38, Error = 4.05\n",
      "F = 3.30\n",
      "Pvalue = 0.00005\n"
     ]
    }
   ],
   "source": [
    "def ssquares(x):\n",
    "    return np.sum((x - np.mean(x)) ** 2)\n",
    "\n",
    "ss_wit = wine_df.groupby('winery')['points'].agg(ssquares).sum()\n",
    "ss_tot = np.sum((wine_df['points'] -  wine_df['points'].mean()) ** 2)\n",
    "\n",
    "n, k = len(wine_df), len(relevant_wineries)\n",
    "\n",
    "ss_bet = ss_tot - ss_wit\n",
    "\n",
    "MSE_bet = ss_bet / (k-1)\n",
    "MSE_wit = ss_wit / (n-k)\n",
    "\n",
    "F = MSE_bet / MSE_wit\n",
    "print(f\"DoF: Wineries = {k-1}, Error = {n-k}, Total = {n-1}\")\n",
    "print(f\"SS: Wineries = {ss_bet:.2f}, Error = {ss_wit:.2f}, Total = {ss_tot:.2f}\")\n",
    "print(f\"MS: Wineries = {MSE_bet:.2f}, Error = {MSE_wit:.2f}\")\n",
    "print(f\"F = {F:.2f}\")\n",
    "print(f\"Pvalue = {st.f.sf(F, k-1, n-k):.5f}\")\n"
   ]
  },
  {
   "cell_type": "markdown",
   "id": "4a9eb0d5-f993-4381-86e6-f7c9d6c4b1da",
   "metadata": {},
   "source": [
    "Since all of the stats for the ANOVA table are written above, I would simply use the shelf function to print the ANOVA table itself, as was shown in class:"
   ]
  },
  {
   "cell_type": "code",
   "execution_count": 40,
   "id": "92dea4d3-5341-4171-8e92-8b2752b9df9b",
   "metadata": {},
   "outputs": [
    {
     "data": {
      "text/html": [
       "<div>\n",
       "<style scoped>\n",
       "    .dataframe tbody tr th:only-of-type {\n",
       "        vertical-align: middle;\n",
       "    }\n",
       "\n",
       "    .dataframe tbody tr th {\n",
       "        vertical-align: top;\n",
       "    }\n",
       "\n",
       "    .dataframe thead th {\n",
       "        text-align: right;\n",
       "    }\n",
       "</style>\n",
       "<table border=\"1\" class=\"dataframe\">\n",
       "  <thead>\n",
       "    <tr style=\"text-align: right;\">\n",
       "      <th></th>\n",
       "      <th>sum_sq</th>\n",
       "      <th>df</th>\n",
       "      <th>F</th>\n",
       "      <th>PR(&gt;F)</th>\n",
       "    </tr>\n",
       "  </thead>\n",
       "  <tbody>\n",
       "    <tr>\n",
       "      <th>winery</th>\n",
       "      <td>240.827276</td>\n",
       "      <td>18.0</td>\n",
       "      <td>3.301378</td>\n",
       "      <td>0.000051</td>\n",
       "    </tr>\n",
       "    <tr>\n",
       "      <th>Residual</th>\n",
       "      <td>470.106057</td>\n",
       "      <td>116.0</td>\n",
       "      <td>NaN</td>\n",
       "      <td>NaN</td>\n",
       "    </tr>\n",
       "  </tbody>\n",
       "</table>\n",
       "</div>"
      ],
      "text/plain": [
       "              sum_sq     df         F    PR(>F)\n",
       "winery    240.827276   18.0  3.301378  0.000051\n",
       "Residual  470.106057  116.0       NaN       NaN"
      ]
     },
     "execution_count": 40,
     "metadata": {},
     "output_type": "execute_result"
    }
   ],
   "source": [
    "model = ols('points ~ winery', data=wine_df).fit()\n",
    "anova = sm.stats.anova_lm(model, typ=2)\n",
    "anova"
   ]
  },
  {
   "cell_type": "markdown",
   "id": "7ab3e28b-6c6d-4950-82d3-ab2f26ee8674",
   "metadata": {},
   "source": [
    "As it seems, there are some wineries that have higher point average than others, as the p vlaue for the F test, assuming all point averages are equal, is lower than almost any $\\alpha$, and specifically $\\alpha = 0.05$."
   ]
  },
  {
   "cell_type": "markdown",
   "id": "443a7834-4a55-475d-9981-8954befa6319",
   "metadata": {},
   "source": [
    "#### Part 4\n",
    "4. Find which winaries have cabernets ranked higher than others:\n",
    " - Run all paired t-tests; how many of the test's P-values fall below 0.05? is it more than what is expceted if all tests are null?\n",
    " - Use Bonferroni's method to decide which winaries ranked singnificantly higher than others by reporting on the list of pairs whose P-value is significant after Bonferroni's correction. Also indicate which one is ranked higher out of each pair."
   ]
  },
  {
   "cell_type": "code",
   "execution_count": 41,
   "id": "f87e30d5-7a6b-4b3b-87d7-83a2175bbaf7",
   "metadata": {},
   "outputs": [],
   "source": [
    "alpha = 0.05\n",
    "\n",
    "def paired_t_test(wine_df, winery_i, winery_j, mse_bet, n=n, k=k):\n",
    "    \n",
    "    array_i = np.array(wine_df[wine_df.winery == winery_i]['points'])\n",
    "    array_j = np.array(wine_df[wine_df.winery == winery_j]['points'])\n",
    "    \n",
    "    y_i_bar, y_j_bar = np.mean(array_i), np.mean(array_j)\n",
    "    \n",
    "    n_i, n_j = len(array_i), len(array_j)\n",
    "    \n",
    "    dof = n_i + n_j - 2\n",
    "    \n",
    "    t_num = y_i_bar - y_j_bar\n",
    "    \n",
    "    s_squared = (1 / dof) * (np.sum((array_i - y_i_bar) **2) + np.sum((array_j - y_j_bar) ** 2))\n",
    "    s = np.sqrt(s_squared)\n",
    "    \n",
    "    t_den = s * np.sqrt(1 / n_i + 1 / n_j)\n",
    "    if t_den == 0:\n",
    "        t_den == np.finfo(float).eps\n",
    "    \n",
    "    p_val = st.t.sf(t_num / t_den, df=dof)\n",
    "    return {\"p_val\": 2 * p_val,\n",
    "           \"winery_i\": winery_i,\n",
    "           \"winery_j\": winery_j}\n",
    "\n",
    "\n",
    "def num_comparisons(n, r):\n",
    "    return math.floor(math.factorial(n) / (math.factorial(r) * math.factorial(n - r))) "
   ]
  },
  {
   "cell_type": "code",
   "execution_count": 42,
   "id": "5f0c5efa-dd41-4672-ae39-c07d4851c9fb",
   "metadata": {},
   "outputs": [
    {
     "name": "stdout",
     "output_type": "stream",
     "text": [
      "There are 59 significant comparisons out of 342 comparisons. We expected only 17 significant results.\n"
     ]
    },
    {
     "name": "stderr",
     "output_type": "stream",
     "text": [
      "<ipython-input-41-8af7da5ea8a2>:23: RuntimeWarning: divide by zero encountered in double_scalars\n",
      "  p_val = st.t.sf(t_num / t_den, df=dof)\n",
      "<ipython-input-41-8af7da5ea8a2>:23: RuntimeWarning: invalid value encountered in double_scalars\n",
      "  p_val = st.t.sf(t_num / t_den, df=dof)\n"
     ]
    }
   ],
   "source": [
    "sig_comparisons = 0\n",
    "tot_comparisons = 0\n",
    "compared_tuples = []\n",
    "for winery_i in relevant_wineries:\n",
    "    for winery_j in relevant_wineries:\n",
    "        \n",
    "        if winery_i == winery_j or sorted(winery_i, winery_j):\n",
    "            continue\n",
    "        \n",
    "        compared_tuples.append(tuple(winery_i, winery_j))\n",
    "        \n",
    "        \n",
    "        tot_comparisons += 1\n",
    "        \n",
    "        if paired_t_test(wine_df, winery_i, winery_j, MSE_bet)['p_val'] < alpha:\n",
    "            sig_comparisons += 1\n",
    "\n",
    "expected_rejects = alpha * tot_comparisons\n",
    "print (f\"There are {sig_comparisons} significant comparisons out of {tot_comparisons} comparisons. We expected only {round(expected_rejects)} significant results.\")"
   ]
  },
  {
   "cell_type": "markdown",
   "id": "dc94a3ff-60bf-4668-b38f-cde5d24976b6",
   "metadata": {},
   "source": [
    "Indeed, it seems that 44% of comparisons are significant, which is more than what was expected if all tests are null. I'll try again with the Bonferroni correction for multiple testing:"
   ]
  },
  {
   "cell_type": "code",
   "execution_count": 43,
   "id": "a27123c1-bc78-40ae-aed8-9fe90a199d6e",
   "metadata": {},
   "outputs": [
    {
     "name": "stdout",
     "output_type": "stream",
     "text": [
      "It seems that Shiloh Winery is has significantly higher rank than Kadesh Barnea. P value = 0.00018\n",
      "It seems that Shiloh Winery is has significantly higher rank than Katlav. P value = 0.00000\n",
      "It seems that Shiloh Winery is has significantly higher rank than Titora. P value = 0.00000\n",
      "It seems that Shiloh Winery is has significantly higher rank than Tishbi Estate. P value = 0.00000\n",
      "It seems that Bazelet HaGolan is has significantly higher rank than Recanati. P value = 0.00027\n",
      "It seems that Bazelet HaGolan is has significantly higher rank than Kadesh Barnea. P value = 0.00028\n",
      "It seems that Bazelet HaGolan is has significantly higher rank than Katlav. P value = 0.00013\n",
      "It seems that Tishbi Estate is has significantly higher rank than Katlav. P value = 0.00000\n",
      "It seems that Tishbi Estate is has significantly higher rank than Titora. P value = 0.00000\n",
      "There are 9 significant comparisons out of 342 comparisons.\n"
     ]
    },
    {
     "name": "stderr",
     "output_type": "stream",
     "text": [
      "<ipython-input-41-8af7da5ea8a2>:23: RuntimeWarning: divide by zero encountered in double_scalars\n",
      "  p_val = st.t.sf(t_num / t_den, df=dof)\n",
      "<ipython-input-41-8af7da5ea8a2>:23: RuntimeWarning: invalid value encountered in double_scalars\n",
      "  p_val = st.t.sf(t_num / t_den, df=dof)\n"
     ]
    }
   ],
   "source": [
    "sig_comparisons = 0\n",
    "tot_comparisons = 0\n",
    "for winery_i in relevant_wineries:\n",
    "    for winery_j in relevant_wineries:\n",
    "        \n",
    "        if winery_i == winery_j:\n",
    "            continue\n",
    "            \n",
    "        tot_comparisons += 1\n",
    "        \n",
    "        m = num_comparisons(len(relevant_wineries), 2)\n",
    "        p_val = paired_t_test(wine_df, winery_i, winery_j, MSE_bet)['p_val']\n",
    "        \n",
    "        if p_val < alpha / m:\n",
    "            sig_comparisons += 1\n",
    "            print(f\"It seems that {winery_i} is has significantly higher rank than {winery_j}. P value = {p_val:.5f}\")\n",
    "\n",
    "print (f\"There are {sig_comparisons} significant comparisons out of {tot_comparisons} comparisons.\")"
   ]
  },
  {
   "cell_type": "code",
   "execution_count": 35,
   "id": "85d1664c-37d3-465b-967b-0d2f25b9dfce",
   "metadata": {},
   "outputs": [
    {
     "data": {
      "text/plain": [
       "19"
      ]
     },
     "execution_count": 35,
     "metadata": {},
     "output_type": "execute_result"
    }
   ],
   "source": [
    "len(relevant_wineries)"
   ]
  },
  {
   "cell_type": "code",
   "execution_count": null,
   "id": "57b293e8-73f2-4a2b-b674-d8be24ae3f5a",
   "metadata": {},
   "outputs": [],
   "source": []
  },
  {
   "cell_type": "code",
   "execution_count": null,
   "id": "d81fab85-0aa5-453c-8581-820943eb38fb",
   "metadata": {},
   "outputs": [],
   "source": []
  }
 ],
 "metadata": {
  "kernelspec": {
   "display_name": "Python 3",
   "language": "python",
   "name": "python3"
  },
  "language_info": {
   "codemirror_mode": {
    "name": "ipython",
    "version": 3
   },
   "file_extension": ".py",
   "mimetype": "text/x-python",
   "name": "python",
   "nbconvert_exporter": "python",
   "pygments_lexer": "ipython3",
   "version": "3.8.8"
  }
 },
 "nbformat": 4,
 "nbformat_minor": 5
}
