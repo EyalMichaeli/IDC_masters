{
 "cells": [
  {
   "cell_type": "markdown",
   "id": "85ecf83c",
   "metadata": {},
   "source": [
    "#### Advanced Statistics for Data Science (Spring 2022)\n",
    "# Home Assignment 4\n",
    "#### Topics:\n",
    "- ANOVA\n",
    "\n",
    "\n",
    "#### Due: 10/05/2022 by 18:30\n",
    "\n",
    "#### Instructions:\n",
    "- Write your name, Student ID, and date in the cell below. \n",
    "- Submit a copy of this notebook with code filled in the relevant places as the solution of coding excercises.\n",
    "- For theoretic excercises, you can either write your solution in the notebook using $\\LaTeX$ or submit additional notes.\n",
    "\n",
    "<hr>\n",
    "<hr>"
   ]
  },
  {
   "cell_type": "markdown",
   "id": "e9e979a6",
   "metadata": {},
   "source": [
    "\n",
    "**Name**: \n",
    "\n",
    "**Student ID**:\n",
    "\n",
    "**Date**:\n",
    "\n",
    "$\n",
    "\\newcommand{\\Id}{{\\mathbf{I}}}  \n",
    "\\newcommand{\\SSE}{\\mathsf{SSE}}\n",
    "\\newcommand{\\SSR}{\\mathsf{SSR}}\n",
    "\\newcommand{\\MSE}{\\mathsf{MSE}}\n",
    "\\newcommand{\\simiid}{\\overset{iid}{\\sim}}\n",
    "\\newcommand{\\ex}{\\mathbb E}\n",
    "\\newcommand{\\var}{\\mathrm{Var}}\n",
    "\\newcommand{\\Cov}[2]{{\\mathrm{Cov}  \\left(#1, #2 \\right)}}\n",
    "\\newcommand{\\one}[1]{\\mathbf 1 {\\left\\{#1\\right\\}}}\n",
    "\\newcommand{\\SE}[1]{\\mathrm{SE} \\left[#1\\right]}\n",
    "\\newcommand{\\reals}{\\mathbb R}\n",
    "\\newcommand{\\Ncal}{\\mathcal N}\n",
    "\\newcommand{\\abs}[1]{\\ensuremath{\\left\\vert#1\\right\\vert}}\n",
    "\\newcommand{\\rank}{\\operatorname{rank}}\n",
    "\\newcommand{\\tr}{\\operatorname{Tr}}\n",
    "\\newcommand{\\diag}{\\operatorname{diag}}\n",
    "\\newcommand{\\sign}{\\operatorname{sign}}\n",
    "$\n"
   ]
  },
  {
   "cell_type": "markdown",
   "id": "24104bcd",
   "metadata": {},
   "source": [
    "<hr>\n",
    "<hr>"
   ]
  },
  {
   "cell_type": "markdown",
   "id": "0d8954a2",
   "metadata": {},
   "source": [
    "# Problem 1 (Solving LS using SVD)\n",
    "Consider the housing prices dataset (``housing_prices.csv``). Use houses of lot size smaller than 15000 ft.\n",
    "\n",
    "1. Find the least squares coefficient of the linear model with target variable ``SalePrice`` and the 16 predictors:\n",
    "``['LotArea',  'YearBuilt',\n",
    "  'GarageCars', 'YrSold', 'MoSold', 'Fireplaces',\n",
    "  'HalfBath', 'LowQualFinSF', 'TotalBsmtSF',\n",
    "  '1stFlrSF', 'LotFrontage', 'ScreenPorch',\n",
    "   'WoodDeckSF', 'OverallCond', 'BsmtUnfSF']`` \n",
    "plus a constant term. Remove all entries in which one or more of these predictors is missing. \n",
    " - By inverting the matrix $Z^\\top Z$. Denote the solution $\\hat{\\beta}$.\n",
    " - Using the SVD method. Here, decide that $\\sigma_i > 0$ if $\\sigma_i / \\sigma_1 > 10^{-6}$. Denote the solution $\\hat{\\beta}^{SVD}$.\n",
    " - In which method $R^2$ is smaller?\n",
    "2. Plot $\\hat{y}$ and $\\hat{y}^{SVD}$ over the same pannel to convince yourself that both methods resulted in similar fitted responses. \n",
    "3. Plot $\\log(|\\hat{\\beta}_i/\\hat{\\beta}^{SVD}_i|)$ vs. $i$ for $i=1,\\ldots,p$ and indicate the covariate whose coefficient exhibits the largest difference between the methods.\n",
    "\n",
    "The point: When there are many predictors, it is likely that $Z$ will be rank deficient in the sense that some of its singular values are very small. Removing those singular values is usually a good practice; it is important to observe how this removal affects the solution. "
   ]
  },
  {
   "cell_type": "markdown",
   "id": "87bf576e",
   "metadata": {},
   "source": [
    "The largest difference is for the first predictor, which is the constant covariate. We can check that this result makes sense by fiting a new model without the constant covaraite and test whether the residuals in the smaller new model are not significantly different than those in the original model. "
   ]
  },
  {
   "cell_type": "markdown",
   "id": "7164468f",
   "metadata": {},
   "source": [
    "You can use the code below to read and arrange the data"
   ]
  },
  {
   "cell_type": "code",
   "execution_count": 175,
   "id": "26e5e4c6",
   "metadata": {},
   "outputs": [],
   "source": [
    "import pandas as pd\n",
    "import numpy as np\n",
    "\n",
    "target = 'SalePrice' \n",
    "lo_predictors = ['const', 'SalePrice', 'LotArea',  'YearBuilt',\n",
    "    'GarageCars', 'YrSold', 'MoSold', 'Fireplaces',\n",
    "    'HalfBath', 'LowQualFinSF', 'TotalBsmtSF',\n",
    "    '1stFlrSF', 'LotFrontage', 'ScreenPorch',\n",
    "     'WoodDeckSF', 'OverallCond', 'BsmtUnfSF']\n",
    "\n",
    "data = pd.read_csv(\"housing_prices.csv\")\n",
    "data = data[data.LotArea < 15000]  # we focus on small lots\n",
    "data['const'] = 1                  # add constant term\n",
    "data = data.filter(lo_predictors).dropna() # remove all other columns\n",
    "\n",
    "y = data[target].values\n",
    "X = data.drop(target, axis=1)\n",
    "Z = X.values\n",
    "n, p = Z.shape"
   ]
  },
  {
   "cell_type": "markdown",
   "id": "40894d3d",
   "metadata": {},
   "source": [
    "## Problem 2 ($t$-test is a kind of ANOVA)\n",
    "Consider the following two-sample problem. The data is\n",
    "$$\n",
    "y_{ij} = \\mu_i + \\epsilon_{ij},\\qquad j=1,\\ldots,n_i,\\quad i=0,1. \n",
    "$$\n",
    "\n",
    "1. Find the statistic $t$ for the two-sample $t$ test (using of the observable varaibles)\n",
    "2. Write the ANOVA table for $k=2$ and find the F statistic $F$ (using of the observable varaibles)\n",
    "3. Conclude that $t^2 = F$. \n",
    "4. Does the test that rejects when $|t| > t_{n-1}^{1-\\alpha/2}$ has larger power than the test that rejects when $F > F_{1,n-1}^{1-\\alpha}$ ? less? same? \n"
   ]
  },
  {
   "cell_type": "markdown",
   "id": "7777ba79",
   "metadata": {},
   "source": [
    "## Problem 3 (ANOVA Decomposition)\n",
    "In class, we considered the decomposition:\n",
    "$$\n",
    "\\begin{equation}\n",
    "\\mathrm{SS}_{tot} = \\mathrm{SS}_{within} + \\mathrm{SS}_{between}\n",
    "\\label{eq:ANOVA} \\tag{1}\n",
    "\\end{equation}\n",
    "$$\n",
    "where\n",
    "$$\n",
    "\\mathrm{SS}_{between} = \\sum_{i=1}^k n_i(\\bar{y}_{i\\cdot} - \\bar{y}_{\\cdot \\cdot})^2,\\qquad \\mathrm{SS}_{within} = \\sum_{i=1}^k \\sum_{j=1}^{n_i} (y_{ij} - \\bar{y}_{i\\cdot})^2\n",
    "$$\n",
    "Prove $\\eqref{eq:ANOVA}$ by expanding:\n",
    "$$\n",
    "\\mathrm{SS}_{tot} = \\sum_{i=1}^k \\sum_{j=1}^{n_i} (y_{ij} - \\bar{y}_{\\cdot \\cdot})^2 = \\sum_{i=1}^k \\sum_{j=1}^{n_i} (y_{ij} - \\bar{y}_{i\\cdot} + \\bar{y}_{i\\cdot} - \\bar{y}_{\\cdot \\cdot})^2 = ...\n",
    "$$"
   ]
  },
  {
   "cell_type": "markdown",
   "id": "a284f3aa",
   "metadata": {},
   "source": [
    "## Problem 4 (ANOVA and multiple testing in Practice)"
   ]
  },
  {
   "cell_type": "markdown",
   "id": "b0d16fa4",
   "metadata": {},
   "source": [
    "Consider Israeli wines in the wine dataset ``winemag-data_first150k.csv`` used in class (downloaded from Kaggle https://www.kaggle.com/datasets/zynicide/wine-reviews?select=winemag-data_first150k.csv). Use ANOVA to measure the effect of winary (``winary``) on the quality (``points``) of wine of veriaty ``Cabernet Sauvignon``. \n",
    "1. Load dataset; keep only relevant records according to the fields ``country`` and ``veriaty``; remove winaries with 1 or less samples (because we cannot do ANOVA for those)\n",
    "2. Plot the boxplot with ``winary`` as the x-axis and ``points`` as the y-axis.\n",
    "3. Use ANOVA to figure out whether some winaries make better cabernets than others; print the ANOVA table and explain your conclusion\n",
    "4. Find which winaries have cabernets ranked higher than others:\n",
    " - Run all paired t-tests; how many of the test's P-values fall below 0.05? is it more than what is expceted if all tests are null?\n",
    " - Use Bonferroni's method to decide which winaries ranked singnificantly higher than others by reporting on the list of pairs whose P-value is significant after Bonferroni's correction. Also indicate which one is ranked higher out of each pair."
   ]
  },
  {
   "cell_type": "code",
   "execution_count": null,
   "id": "14c26dd9",
   "metadata": {},
   "outputs": [],
   "source": []
  }
 ],
 "metadata": {
  "kernelspec": {
   "display_name": "Python 3",
   "language": "python",
   "name": "python3"
  },
  "language_info": {
   "codemirror_mode": {
    "name": "ipython",
    "version": 3
   },
   "file_extension": ".py",
   "mimetype": "text/x-python",
   "name": "python",
   "nbconvert_exporter": "python",
   "pygments_lexer": "ipython3",
   "version": "3.8.5"
  }
 },
 "nbformat": 4,
 "nbformat_minor": 5
}
