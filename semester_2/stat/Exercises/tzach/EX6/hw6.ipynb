{
 "cells": [
  {
   "cell_type": "markdown",
   "id": "0bda1346",
   "metadata": {},
   "source": [
    "#### Advanced Statistics for Data Science (Spring 2022)\n",
    "# Home Assignment 6\n",
    "#### Topics:\n",
    "- Multiple Regression\n",
    "- Model/Variable Selection\n",
    "\n",
    "#### Due: 07/06/2022 by 18:30\n",
    "\n",
    "#### Instructions:\n",
    "- Write your name, Student ID, and date in the cell below. \n",
    "- Submit a copy of this notebook with code filled in the relevant places as the solution of coding excercises.\n",
    "- For theoretic excercises, you can either write your solution in the notebook using $\\LaTeX$ or submit additional notes.\n",
    "\n",
    "<hr>\n",
    "<hr>"
   ]
  },
  {
   "cell_type": "markdown",
   "id": "fec958d4",
   "metadata": {},
   "source": [
    "\n",
    "**Name**: \n",
    "\n",
    "**Student ID**:\n",
    "\n",
    "**Date**:\n",
    "\n",
    "$\n",
    "\\newcommand{\\Id}{{\\mathbf{I}}}  \n",
    "\\newcommand{\\SSE}{\\mathsf{SSE}}\n",
    "\\newcommand{\\SSR}{\\mathsf{SSR}}\n",
    "\\newcommand{\\MSE}{\\mathsf{MSE}}\n",
    "\\newcommand{\\simiid}{\\overset{iid}{\\sim}}\n",
    "\\newcommand{\\ex}{\\mathbb E}\n",
    "\\newcommand{\\var}{\\mathrm{Var}}\n",
    "\\newcommand{\\Cov}[2]{{\\mathrm{Cov}  \\left(#1, #2 \\right)}}\n",
    "\\newcommand{\\one}[1]{\\mathbf 1 {\\left\\{#1\\right\\}}}\n",
    "\\newcommand{\\SE}[1]{\\mathrm{SE} \\left[#1\\right]}\n",
    "\\newcommand{\\reals}{\\mathbb R}\n",
    "\\newcommand{\\Ncal}{\\mathcal N}\n",
    "\\newcommand{\\abs}[1]{\\ensuremath{\\left\\vert#1\\right\\vert}}\n",
    "\\newcommand{\\rank}{\\operatorname{rank}}\n",
    "\\newcommand{\\tr}{\\operatorname{Tr}}\n",
    "\\newcommand{\\diag}{\\operatorname{diag}}\n",
    "\\newcommand{\\sign}{\\operatorname{sign}}\n",
    "$\n"
   ]
  },
  {
   "cell_type": "markdown",
   "id": "6bd620e4",
   "metadata": {},
   "source": [
    "<hr>\n",
    "<hr>"
   ]
  },
  {
   "cell_type": "markdown",
   "id": "dd44bb71",
   "metadata": {},
   "source": [
    "## Problem 1 (Multiple Regression)\n",
    "\n",
    "Use the house prices dataset from class. Load it using the function ``load_house_prices_data``. We will use ``LogSalePrice`` as the targert variable (note that this is a transformed version of the original sale prince)\n",
    "\n",
    "1. Use all varaibles in the data reteruned by ``load_house_prices_data``. Find at least one pair of competing predictors.\n",
    "2. A constuction company is trying to figure out how to design a new development for maximal profit. They propose that since ``SecondFlrSF`` (second floor square footage, proportional to second floor square meter) is correlated with ``SalePrice``, they should try and maximize second floor area in their designs. Does this conclusion make sense considering that ``SecondFlrSF`` is correlated with``TotRmsAbvGrd``? offer a procedure that checks the effect of ``SecondFlrSF`` on ``SalePrice`` and gives more information to make such decision.\n"
   ]
  },
  {
   "cell_type": "code",
   "execution_count": 529,
   "id": "6f10b0ff",
   "metadata": {},
   "outputs": [],
   "source": [
    "def load_house_prices_data(path = \"housing_prices.csv\"):\n",
    "    \"\"\"\n",
    "    Args:\n",
    "    -----\n",
    "    path:  path to csv file\n",
    "    \n",
    "    Load and clean house prices data:\n",
    "        filters for numeric predictors only\n",
    "        filters for small lots only\n",
    "        renames varaibles so that all variable names begins with [a-z]\n",
    "        applies a variance stabilizing transformation to SalePrice\n",
    "        removes outliers\n",
    "        \n",
    "    \"\"\"\n",
    "    \n",
    "    \n",
    "    def detect_outliers(df, q=0.01):\n",
    "        lower_outliers = df < df.quantile(q)\n",
    "        upper_outliers = df > df.quantile(1-q)\n",
    "        return lower_outliers | upper_outliers\n",
    "    \n",
    "    data_raw = pd.read_csv(path)\n",
    "    data1 = data_raw[data_raw.LotArea < 15000]  # focus on small lots\n",
    "    data1 = data1.select_dtypes('number').dropna()\n",
    "    data1 = data1.rename( # stats model formula cannot have\n",
    "        # covaraite names starting with non letter\n",
    "        columns = {'1stFlrSF': 'FirstFlrSF',\n",
    "                   '2ndFlrSF': 'SecondFlrSF'}) \n",
    "                                                              \n",
    "    variables =[\n",
    "        'LogSalePrice',\n",
    "        'LotArea', \n",
    "        'YearBuilt',\n",
    "         'YrSold', 'MoSold', \n",
    "         'Fireplaces', \n",
    "        'GarageCars', 'ScreenPorch', \n",
    "         'HalfBath', 'FullBath',\n",
    "         'GrLivArea', \n",
    "         'BedroomAbvGr',\n",
    "        'FirstFlrSF', \n",
    "        'SecondFlrSF',\n",
    "        'TotRmsAbvGrd',\n",
    "        'LowQualFinSF', 'TotalBsmtSF',\n",
    "        'LotFrontage', 'WoodDeckSF',\n",
    "         'OverallQual',\n",
    "         'OverallCond'\n",
    "    ]\n",
    "\n",
    "    data1 = data1.filter(variables).dropna()\n",
    "    data1['LogSalePrice'] = np.log(1 + data1['SalePrice'])\n",
    "    data1 = data1.drop('SalePrice', axis=1)\n",
    "    \n",
    "    mask = detect_outliers(data1, .01).any(1)\n",
    "    print(f\"Masked a fraction of {mask.mean()} of the data due to outliers\")\n",
    "    return data1[~mask]\n"
   ]
  },
  {
   "cell_type": "markdown",
   "id": "f3289197",
   "metadata": {},
   "source": [
    "## Problem 2 (Variable Selection)\n",
    "\n",
    "Use the house prices dataset from class. Load it using the function ``load_house_prices_data``. \n",
    "\n",
    "1. Write the function ``backward_select`` (prototype below). Apply it on the house prices dataset and report the resulting model. \n",
    "2. Write a function that receives as an input a set of predictors and the response and evaluates the leave-one-out accuracy (n-fold cross validation). What is the CV-error of the model you found in 1 ?\n",
    "3. Consider the predictors ``OverallCond``, ``YearBuilt``, ``LotArea``, ``Fireplaces``. Go over all $2^4$ models. Evaluate $R^2$, AIC, BIC, and leave-one-out CV-error for every model and print the results. Report on the model with lowest AIC, BIC, CV-error. \n",
    "\n",
    "Hint: for 1, modify the ``forward_select`` function from class."
   ]
  },
  {
   "cell_type": "code",
   "execution_count": 301,
   "id": "a630b540",
   "metadata": {},
   "outputs": [],
   "source": [
    "def backward_select(data, response, sig_level=.05):\n",
    "    \"\"\"Linear model designed by forward selection.\n",
    "\n",
    "    Parameters:\n",
    "    -----------\n",
    "    data: pandas DataFrame with all possible predictors and response\n",
    "\n",
    "    response: string, name of response column in data\n",
    "    \n",
    "    sig_level:  significance level for F-test\n",
    "\n",
    "    Returns:\n",
    "    --------\n",
    "    model: an \"optimal\" fitted statsmodels linear model\n",
    "           with an intercept selected by backward selection\n",
    "           evaluated by R-squared and F-test for extra sum of squares\n",
    "    \"\"\"\n",
    "    # Your code goes here\n",
    "    pass\n"
   ]
  },
  {
   "cell_type": "markdown",
   "id": "3d204f41",
   "metadata": {},
   "source": [
    "## Problem 3 (Selecting Order of Regression using Cross-Validation)\n",
    "\n",
    "Consider the dataset ``AnneFrank.csv``, describing the number of searches of the term \"Anne Frank\" by hour over several days in February 2022. The cell below contains code you should use to arrange the data by hours. "
   ]
  },
  {
   "cell_type": "code",
   "execution_count": 518,
   "id": "940b4bee",
   "metadata": {},
   "outputs": [
    {
     "data": {
      "image/png": "[encoded data removed]",
      "text/plain": [
       "<Figure size 432x288 with 1 Axes>"
      ]
     },
     "metadata": {
      "needs_background": "light"
     },
     "output_type": "display_data"
    }
   ],
   "source": [
    "AnneFrank = pd.read_csv(\"AnneFrank.csv\", header=1, names=['time', 'events'])\n",
    "AnneFrank['date'] = pd.to_datetime(AnneFrank.time)\n",
    "AnneFrank['time'] = AnneFrank['date'].astype(int) / 3600000000000\n",
    "AnneFrank['time'] = AnneFrank['time'] - AnneFrank['time'].min()\n",
    "AnneFrank.plot(x='time', y='events'); plt.show()"
   ]
  },
  {
   "cell_type": "markdown",
   "id": "5ac465a9",
   "metadata": {},
   "source": [
    "In this question you will fit a model to the response based on $2p+1$ predictors of the form:\n",
    "$$\n",
    "\\begin{align}\n",
    "x_1 = [1,~\\ldots~,1]\n",
    "\\end{align}\n",
    "$$\n",
    "$$\n",
    "\\begin{align}\n",
    "x_{2k} & = \\sin(2 \\pi \\cdot k \\cdot t / 60) \\\\\n",
    "x_{2k+1} & = \\cos(2 \\pi \\cdot k \\cdot t / 60), \\qquad k=1,\\ldots,p.\n",
    "\\end{align}\n",
    "$$\n",
    "(these are sinusoids of increaasing frequency at a resolution of 1min) You will then use the selected model to predict the number of events in future times. \n",
    "\n",
    "1. Write a function ``generate_Z`` that recieves as inputs a vector of time indices (representing hours) ``t`` and ``p``. The function returns the design matrix $Z$ of size $n \\times (2p+1)$, where $n$ is the length of ``t``.\n",
    "2. For each $p=1,\\ldots,20$, fit a linear model to ``events`` based on $Z$ you obtain from ``generate_Z`` and evalaute its leave-one-out CV error. Plot the CV error versus $p$. \n",
    "3. Report on the model with the lowest CV error; plot its response over time along with the original response in the figure above. \n",
    "4. Using the model you found in 3, predict the number of event at times $t=168.\\ldots,190$. Plot your prediction over time in the same figure as above, i.e., interpolate the response curve to future value. \n",
    "5. For each $t$ in 4, construct a 0.95 confidence interval of your prediction of $y_t$, $t=168,\\ldots,190$. Plot the upper and lower limits of this interval over time (these lines define a prediction band). Here, you may ignore the danger of inference based on the t distribution after applying a model selection procedure. \n",
    "\n",
    "Hints: (2) In order to evalaute the CV error, you'll need the hat matrix (which you can get directly from Z) and the residuals in the LS fit (which you can get from the ``resid`` property of the fitted model object returned by ``statsmodels.api.OLS.fit``). (4) you can use the function ``predict`` of the fitted model object by passing new predictors that you generate using ``generate_Z``. For (5), $s^2$ is given by the property ``mse_resid`` (or ``ssr`` divided by the number of degrees of freedom). Also note that the number of degrees of freedom is $2p+1$ where $p$ is the number you found in 3. "
   ]
  },
  {
   "cell_type": "code",
   "execution_count": 482,
   "id": "1b14ad0e",
   "metadata": {},
   "outputs": [],
   "source": [
    "def generate_Z(t, p):\n",
    "    \"\"\"\n",
    "    Args:\n",
    "    ----\n",
    "    t:   vector of time samples (length n)\n",
    "    p:   number of frequencies (overal 2p+1 predictors)\n",
    "    \n",
    "    Returns:\n",
    "    --------\n",
    "    Z:  design matrix of size (n, 2p+1)\n",
    "    \"\"\"\n",
    "    \n",
    "    # Your code goes here\n",
    "    \n",
    "    pass"
   ]
  }
 ],
 "metadata": {
  "kernelspec": {
   "display_name": "Python 3",
   "language": "python",
   "name": "python3"
  },
  "language_info": {
   "codemirror_mode": {
    "name": "ipython",
    "version": 3
   },
   "file_extension": ".py",
   "mimetype": "text/x-python",
   "name": "python",
   "nbconvert_exporter": "python",
   "pygments_lexer": "ipython3",
   "version": "3.8.5"
  }
 },
 "nbformat": 4,
 "nbformat_minor": 5
}
