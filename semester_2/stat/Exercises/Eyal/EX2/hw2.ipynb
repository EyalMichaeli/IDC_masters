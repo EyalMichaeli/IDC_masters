{
 "cells": [
  {
   "cell_type": "markdown",
   "id": "e6447ca2",
   "metadata": {},
   "source": [
    "#### Advanced Statistics for Data Science (Spring 2022)\n",
    "# Home Assignment 2\n",
    "#### Topics:\n",
    "- Probability review\n",
    "- Distributional Properties of the Linear Model\n",
    "\n",
    "\n",
    "#### Due: 05/04/2022 by 18:30\n",
    "\n",
    "#### Instructions:\n",
    "- Write your name, Student ID, and date in the cell below. \n",
    "- Submit a copy of this notebook with code filled in the relevant places as the solution of coding excercises.\n",
    "- For theoretic excercises, you can either write your solution in the notebook using $\\LaTeX$ or submit additional notes.\n",
    "\n",
    "<hr>\n",
    "<hr>"
   ]
  },
  {
   "cell_type": "markdown",
   "id": "4dc6a671",
   "metadata": {},
   "source": [
    "\n",
    "**Name**: \n",
    "\n",
    "**Student ID**:\n",
    "\n",
    "**Date**:\n",
    "\n",
    "$\n",
    "\\newcommand{\\Id}{{\\mathbf{I}}}  \n",
    "\\newcommand{\\SSE}{\\mathsf{SSE}}\n",
    "\\newcommand{\\SSR}{\\mathsf{SSR}}\n",
    "\\newcommand{\\MSE}{\\mathsf{MSE}}\n",
    "\\newcommand{\\simiid}{\\overset{iid}{\\sim}}\n",
    "\\newcommand{\\ex}{\\mathbb E}\n",
    "\\newcommand{\\var}{\\mathrm{Var}}\n",
    "\\newcommand{\\Cov}[2]{{\\mathrm{Cov}  \\left(#1, #2 \\right)}}\n",
    "\\newcommand{\\one}[1]{\\mathbf 1 {\\left\\{#1\\right\\}}}\n",
    "\\newcommand{\\SE}[1]{\\mathrm{SE} \\left[#1\\right]}\n",
    "\\newcommand{\\reals}{\\mathbb R}\n",
    "\\newcommand{\\Ncal}{\\mathcal N}\n",
    "\\newcommand{\\abs}[1]{\\ensuremath{\\left\\vert#1\\right\\vert}}\n",
    "\\newcommand{\\rank}{\\operatorname{rank}}\n",
    "\\newcommand{\\tr}{\\operatorname{Tr}}\n",
    "\\newcommand{\\diag}{\\operatorname{diag}}\n",
    "\\newcommand{\\sign}{\\operatorname{sign}}\n",
    "$\n"
   ]
  },
  {
   "cell_type": "markdown",
   "id": "ca313178",
   "metadata": {},
   "source": [
    "<hr>\n",
    "<hr>"
   ]
  },
  {
   "cell_type": "markdown",
   "id": "ec1bca5c",
   "metadata": {},
   "source": [
    "## Problem 1 (The Normal Distribution)\n",
    "\n",
    "1. Let $Z = (Z_1,\\ldots,Z_9)^\\top \\sim \\Ncal(\\mu, I_9)$ where $\\mu \\in \\reals^9$. Show that $Z_1+Z_2+Z_3+Z_4$ is independent of $Z_1 + Z_2 - Z_3 - Z_4 - Z_5$.\n",
    "\n",
    "2. Suppose that $Z \\sim \\Ncal(\\mu, I_n)$ and let $X = AZ$ and $Y = BZ$ for non-random matrices $A$ and $B$. Find conditions on $A$ and $B$ such that $X$ independent of $Y$.\n",
    "\n",
    "3. Suppose that $Z_{ij} \\simiid \\Ncal(0, 1)$ for $i= 1,\\ldots,I$ and $j=1,\\ldots,J$. Define \n",
    "$$\n",
    "\\bar{Z}_{i\\bullet} := \\frac{1}{J} \\sum_{j=1}^J Z_{ij},\\qquad \\bar{Z}_{\\bullet j} := \\frac{1}{I} \\sum_{i=1}^I Z_{ij}, \\qquad \\bar{Z}_{\\bullet \\bullet} := \\frac{1}{IJ} \\sum_{j=1}^J \\sum_{i=1}^I Z_{ij}\n",
    "$$\n",
    "    - Is $\\bar{Z}_{i\\bullet}$ independent of $\\bar{Z}_{\\bullet j}$ ?\n",
    "    - Is $\\bar{Z}_{1\\bullet}$ independent of $\\bar{Z}_{2\\bullet}$ ?\n",
    "    - Is $\\bar{Z}_{i\\bullet} - \\bar{Z}_{\\bullet \\bullet}$ independent of $\\bar{Z}_{i\\bullet}$ ?\n",
    "\n",
    "4. Consider the variance-covariance matrix \n",
    "$$\n",
    "\\bar{\\Sigma} = \\begin{bmatrix} 1 & .25 \\\\\n",
    ".25 & 1\n",
    "\\end{bmatrix}\n",
    "$$\n",
    "Using as many samples as you need from the standard normal distribution (e.g. ``numpy.random.randn``), generate $N = 1000$ independent samples from the bivaraite normal distribution $\\Ncal(0, \\bar{\\Sigma})$ (you'll get $N$ pairs). Illustrate these samples over a sactter plot. \n",
    "\n",
    "5. Consider the region in $\\reals^2$:\n",
    "$$\n",
    "A = \\{ (x,y)\\,: 0 \\leq x \\leq 1, 0 \\leq y \\leq 2x\\}\n",
    "$$\n",
    "For $(X_1, X_2) \\sim \\Ncal(0, \\bar{\\Sigma})$, estimate \n",
    "$$\n",
    "\\Pr\\left[ (X_1, X_2) \\in A \\right]\n",
    "$$\n",
    "in two ways: \n",
    "    1. By evaluating the integral over the Gaussian density function\n",
    "    2. By estimating the fraction of samples in 4 that falls in the region $A$\n"
   ]
  },
  {
   "cell_type": "markdown",
   "id": "0a990953",
   "metadata": {},
   "source": [
    "## Problem 2 (Conditional Distribution)\n",
    "$\\newcommand{\\ex}{\\mathbb E}$\n",
    "\n",
    "\n",
    "For\n",
    "$$\n",
    "\\begin{bmatrix}\n",
    "X \\\\\n",
    "Y \\\\\n",
    "Z \n",
    "\\end{bmatrix} \\sim \\Ncal\\left( \\begin{bmatrix} 1 \\\\\n",
    "2\\\\\n",
    "3\n",
    "\\end{bmatrix}, \\begin{bmatrix}\n",
    " 4 & 1 & 3 \\\\\n",
    " 1 & 2 & 3 \\\\\n",
    " 3 & 3 & 8\n",
    "\\end{bmatrix}\n",
    "\\right)\n",
    "$$\n",
    "find (numerically):\n",
    "1. The distribution of $X$ given that $Y = 1$.\n",
    "2. The joint distribution of $X$ and $Y$ given $Z = 1$.\n",
    "3. The distribution of $Y$ given that $Z = 2$ and $X = 3$.\n",
    "4. $Pr(Y \\in [-1,1] | Z=2, X=3)$\n",
    "<hr>\n",
    "<hr>"
   ]
  },
  {
   "cell_type": "markdown",
   "id": "3f1d6ca8",
   "metadata": {},
   "source": [
    "## Problem 3 (Distributional Properties of Least Squares)\n",
    "Cosnider a least squares model with one predcitor $p=1$ without an intercept term, i.e. $y_i = \\beta x_i + \\epsilon_i$, $i=1,\\ldots,n$.\n",
    "1. Write the least squares solution $\\hat{\\beta} \\in \\mathbb R$ in terms of $x = (x_1,\\ldots,x_n)^\\top$ and $y = (y_1,\\ldots,y_n)^\\top$.\n",
    "2. With $\\hat{y}_i = \\hat{\\beta} x_i$ and $\\hat{\\epsilon}_i = y_i - \\hat{y}_i$, show that\n",
    " - $\\sum_{i=1}^n \\hat{y}_i \\hat{\\epsilon}_i = 0$\n",
    " - $\\|\\hat{\\epsilon}\\|^2 = \\|y\\|^2 -  \\|\\hat{y}\\|^2$\n",
    "3. Suppose that $\\epsilon_i \\sim N(0, 1)$. \n",
    " - What is the distribution of the random vector $[ \\hat{\\epsilon}~~ \\hat{y}]^\\top$?\n",
    " - What is the distribution of the random vector $[\\hat{y}~~ \\hat{\\beta}]^\\top$?\n",
    "4. Set $\\|\\epsilon\\|_{\\infty} := \\max_{i=1}^n |\\epsilon_i|$. What is $Pr( \\|\\hat{\\epsilon}\\|_{\\infty} > 2)$? is it larger or smaller than $Pr(\\|\\epsilon\\|_{\\infty}  > 2)$? (the point, we want to know if the predicted residuals tend to have less or more extreme values than the true ones)\n",
    "\n",
    "<hr>\n",
    "<hr>\n"
   ]
  },
  {
   "cell_type": "markdown",
   "id": "e66c79f9",
   "metadata": {},
   "source": [
    "## Problem 4 (Model fitting and t-Test)\n",
    "Cosnider the house prices dataset from the EDA notebook, which you can obtain from kaggle via:"
   ]
  },
  {
   "cell_type": "code",
   "execution_count": null,
   "id": "e35018da",
   "metadata": {},
   "outputs": [],
   "source": [
    "!kaggle competitions download -c house-prices-advanced-regression-techniques\n",
    "!mkdir house-prices\n",
    "!unzip house-prices-advanced-regression-techniques.zip -d house-prices/"
   ]
  },
  {
   "cell_type": "markdown",
   "id": "171e9d76",
   "metadata": {},
   "source": [
    "Only consider houses of lot size smaller than $15,000$ square feet, e.g. by using"
   ]
  },
  {
   "cell_type": "code",
   "execution_count": 20,
   "id": "38a83608",
   "metadata": {},
   "outputs": [],
   "source": [
    "import pandas as pd\n",
    "data_raw = pd.read_csv(\"house-prices/train.csv\")\n",
    "data = data_raw[data_raw.LotArea < 15000]  # we focus on small lots"
   ]
  },
  {
   "cell_type": "markdown",
   "id": "bc3d9e14",
   "metadata": {},
   "source": [
    "Consider predicting ``SalePrice`` via a linear model with predictors:"
   ]
  },
  {
   "cell_type": "code",
   "execution_count": 21,
   "id": "aaea859b",
   "metadata": {},
   "outputs": [],
   "source": [
    "feat_set1 = ['LotArea',  'YearBuilt', 'YrSold', 'GarageCars',\n",
    "             'FullBath', 'TotalBsmtSF', 'GarageArea', 'OverallQual']"
   ]
  },
  {
   "cell_type": "markdown",
   "id": "e6a62625",
   "metadata": {},
   "source": [
    "plus a constant. "
   ]
  },
  {
   "cell_type": "markdown",
   "id": "b676571d",
   "metadata": {},
   "source": [
    "1. Find the least squares estimate $\\hat{\\beta}$ of this model.\n",
    "2. Find $R^2$ of this model.\n",
    "3. For each $\\beta_j$, $j=1,\\ldots,9$, evaluate the $t$ statistic corresponding to testing \n",
    "$$\n",
    "H_{0j}\\,:\\, \\beta_j=0\n",
    "$$\n",
    "and its P-values (identify first the number of degrees of freedom). \n",
    "4. Which of these statistics exceeds the $0.975$-th quantile of the corresponding $t$ distribution and below the $0.025$-th quantile? (values exceeding theses quantiles are strong evidence against $H_{0j}$)\n",
    "5. Consider a smaller model involving only ``LotArea``,  ``YearBuilt``, ``YrSold`` as predictors. Find the least squares estimate of this smaller model and its sum of sqaures. Is this model provides a valid representation of the data compared to the original larger one? Answer your question by evaluating the relevant $F$ statistic and report on the F-test's P-value. \n",
    "\n",
    "<hr>\n",
    "<hr>"
   ]
  },
  {
   "cell_type": "code",
   "execution_count": null,
   "id": "5409e12c",
   "metadata": {},
   "outputs": [],
   "source": []
  }
 ],
 "metadata": {
  "kernelspec": {
   "display_name": "Python 3",
   "language": "python",
   "name": "python3"
  },
  "language_info": {
   "codemirror_mode": {
    "name": "ipython",
    "version": 3
   },
   "file_extension": ".py",
   "mimetype": "text/x-python",
   "name": "python",
   "nbconvert_exporter": "python",
   "pygments_lexer": "ipython3",
   "version": "3.8.5"
  }
 },
 "nbformat": 4,
 "nbformat_minor": 5
}
