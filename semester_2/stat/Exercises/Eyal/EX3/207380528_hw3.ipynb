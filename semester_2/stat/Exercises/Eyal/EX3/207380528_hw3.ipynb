{
 "cells": [
  {
   "cell_type": "markdown",
   "id": "9c7c2837",
   "metadata": {
    "tags": []
   },
   "source": [
    "#### Advanced Statistics for Data Science (Spring 2022)\n",
    "# Home Assignment 3\n",
    "#### Topics:\n",
    "- Statistical Estimation\n",
    "- Hypothesis Testing in one and two samples\n",
    "\n",
    "#### Due: 25/04/2022 by 18:30\n",
    "\n",
    "#### Instructions:\n",
    "- Write your name, Student ID, and date in the cell below. \n",
    "- Submit a copy of this notebook with code filled in the relevant places as the solution of coding excercises.\n",
    "- For theoretic excercises, you can either write your solution in the notebook using $\\LaTeX$ or submit additional notes.\n",
    "\n",
    "<hr>\n",
    "<hr>"
   ]
  },
  {
   "cell_type": "markdown",
   "id": "972793a2",
   "metadata": {},
   "source": [
    "\n",
    "**Name**: \n",
    "\n",
    "**Student ID**:\n",
    "\n",
    "**Date**:\n",
    "\n",
    "$\n",
    "\\newcommand{\\Id}{{\\mathbf{I}}}  \n",
    "\\newcommand{\\SSE}{\\mathsf{SSE}}\n",
    "\\newcommand{\\SSR}{\\mathsf{SSR}}\n",
    "\\newcommand{\\MSE}{\\mathsf{MSE}}\n",
    "\\newcommand{\\simiid}{\\overset{iid}{\\sim}}\n",
    "\\newcommand{\\ex}{\\mathbb E}\n",
    "\\newcommand{\\var}{\\mathrm{Var}}\n",
    "\\newcommand{\\Cov}[2]{{\\mathrm{Cov}  \\left(#1, #2 \\right)}}\n",
    "\\newcommand{\\one}[1]{\\mathbf 1 {\\left\\{#1\\right\\}}}\n",
    "\\newcommand{\\SE}[1]{\\mathrm{SE} \\left[#1\\right]}\n",
    "\\newcommand{\\reals}{\\mathbb R}\n",
    "\\newcommand{\\Ncal}{\\mathcal N}\n",
    "\\newcommand{\\abs}[1]{\\ensuremath{\\left\\vert#1\\right\\vert}}\n",
    "\\newcommand{\\rank}{\\operatorname{rank}}\n",
    "\\newcommand{\\tr}{\\operatorname{Tr}}\n",
    "\\newcommand{\\diag}{\\operatorname{diag}}\n",
    "\\newcommand{\\sign}{\\operatorname{sign}}\n",
    "$\n"
   ]
  },
  {
   "cell_type": "markdown",
   "id": "e50517ab",
   "metadata": {},
   "source": [
    "<hr>\n",
    "<hr>"
   ]
  },
  {
   "cell_type": "markdown",
   "id": "93acbbf2",
   "metadata": {
    "tags": []
   },
   "source": [
    "## Problem 1 (Variance Estimation)\n",
    "\n",
    "Consider the variance estimate\n",
    "$$\n",
    "s^2 = \\frac{1}{n-1} \\sum_{i=1}^n(y_i - \\bar{y})^2. \n",
    "$$\n",
    "If $Y_i \\simiid \\Ncal(\\mu,\\sigma^2)$, then \n",
    "$$\n",
    "\\frac{n-1}{\\sigma^2}s^2 \\sim \\chi^2_{n-1}.\n",
    "$$\n",
    "1. Use this information to derive a $1-\\alpha$ coinfidence interval for $\\sigma^2$ (express $L$ and $U$ in terms of $s^2$, $n$, and the relevant quantiles of the $\\chi^2$ distribution). \n",
    "2. For $n = 2,\\ldots,10$ and $\\alpha=0.05$, report on the lower ($L$) and upper ($U$) values of the coinfidence interval in terms of $s^2$. \n",
    "3. How large $n$ must be to obtain a $0.95$ coinfidence interval of size $0.1s^2$? \n",
    "\n",
    "The point: the number of degrees of freedom needed for a reasonable ($10\\%$ range) estimate of the variance can be very large. Sometimes, much larger than our data permit.\n",
    "\n",
    "\n"
   ]
  },
  {
   "cell_type": "markdown",
   "id": "ecfef8a1-73af-40a7-a88e-c0833da2c22a",
   "metadata": {},
   "source": [
    "## Solution"
   ]
  },
  {
   "cell_type": "markdown",
   "id": "299679d5-f08c-483e-a111-603f5bb0c3ac",
   "metadata": {
    "tags": []
   },
   "source": [
    "### Solution 1"
   ]
  },
  {
   "cell_type": "markdown",
   "id": "e91f5c6c-ba5e-4b95-9940-5b0b775c1215",
   "metadata": {},
   "source": [
    "We are given that $$\\frac{n-1}{\\sigma^2}s^2 \\sim \\chi^2_{n-1} $$\n",
    "--> $$ [\\chi^2_{n-1}]^{\\frac{\\alpha}{2}} < \\frac{n-1}{\\sigma^2}s^2 < [\\chi^2_{n-1}]^{1-\\frac{\\alpha}{2}}$$\n",
    "--> $$ \\frac{n-1}{[\\chi^2_{n-1}]^{1-\\frac{\\alpha}{2}}} s^2 < \\sigma^2 < \\frac{n-1}{[\\chi^2_{n-1}]^{\\frac{\\alpha}{2}}} s^2 $$\n",
    "</br>\n",
    "--> $$ L = \\frac{n-1}{[\\chi^2_{n-1}]^{1-\\frac{\\alpha}{2}}} s^2 $$\n",
    "--> $$ U = \\frac{n-1}{[\\chi^2_{n-1}]^{\\frac{\\alpha}{2}}} s^2 $$\n",
    "\n",
    "DONE."
   ]
  },
  {
   "cell_type": "markdown",
   "id": "05bb7261-10b9-4414-a1c5-65fee53cb3fb",
   "metadata": {
    "tags": []
   },
   "source": [
    "### Solution 2"
   ]
  },
  {
   "cell_type": "code",
   "execution_count": 21,
   "id": "553a3f76-debb-4697-accd-2a587225a26c",
   "metadata": {},
   "outputs": [],
   "source": [
    "import numpy as np\n",
    "import pandas as pd\n",
    "import scipy.stats as st\n",
    "import statsmodels as sm\n",
    "import math\n",
    "import matplotlib.pyplot as plt\n",
    "import seaborn as sns\n",
    "\n",
    "plt.style.use('seaborn')\n",
    "sns.set(style=\"darkgrid\")\n",
    "sns.set(font_scale=1.5)\n"
   ]
  },
  {
   "cell_type": "code",
   "execution_count": 2,
   "id": "edef09a9-caf3-4347-8ae1-2ac2debbe778",
   "metadata": {},
   "outputs": [],
   "source": [
    "ALPHA = 0.05\n",
    "\n",
    "def calc_c_i_for_chi_squared(n, alpha=ALPHA, to_print=True):\n",
    "    num = n - 1  \n",
    "    dof = n - 1\n",
    "    L = num / st.chi2.ppf(1 - alpha/2, dof)\n",
    "    U = num / st.chi2.ppf(alpha/2, dof)\n",
    "    if to_print:\n",
    "        print(f\"For n = {n}: L =    {L:.3f} * s^2,    U = {U:.3f} * s^2\")\n",
    "    \n",
    "    return L, U\n"
   ]
  },
  {
   "cell_type": "code",
   "execution_count": 3,
   "id": "70699b9c-2e35-4c65-9dd4-d85bd8fd5a13",
   "metadata": {},
   "outputs": [
    {
     "name": "stdout",
     "output_type": "stream",
     "text": [
      "For n = 2: L =    0.199 * s^2,    U = 1018.258 * s^2\n",
      "For n = 3: L =    0.271 * s^2,    U = 39.498 * s^2\n",
      "For n = 4: L =    0.321 * s^2,    U = 13.902 * s^2\n",
      "For n = 5: L =    0.359 * s^2,    U = 8.257 * s^2\n",
      "For n = 6: L =    0.390 * s^2,    U = 6.015 * s^2\n",
      "For n = 7: L =    0.415 * s^2,    U = 4.849 * s^2\n",
      "For n = 8: L =    0.437 * s^2,    U = 4.142 * s^2\n",
      "For n = 9: L =    0.456 * s^2,    U = 3.670 * s^2\n",
      "For n = 10: L =    0.473 * s^2,    U = 3.333 * s^2\n"
     ]
    }
   ],
   "source": [
    "for n in range(2, 11):\n",
    "    calc_c_i_for_chi_squared(n)"
   ]
  },
  {
   "cell_type": "markdown",
   "id": "0d896f82-47ef-4679-b658-cb0e8c2933ad",
   "metadata": {
    "tags": []
   },
   "source": [
    "### Solution 3"
   ]
  },
  {
   "cell_type": "code",
   "execution_count": 4,
   "id": "3fe5058b-0286-48f6-8010-3de34c7f38e8",
   "metadata": {},
   "outputs": [
    {
     "name": "stdout",
     "output_type": "stream",
     "text": [
      "For a CI with size 0.1 * s^2, n should be >= 3082\n"
     ]
    }
   ],
   "source": [
    "\n",
    "for n in range(2, 100000):\n",
    "    L, U = calc_c_i_for_chi_squared(n, to_print=False)  # this is in terms of S^2\n",
    "    \n",
    "    if U - L <= 0.1:\n",
    "        print(f\"For a CI with size 0.1 * s^2, n should be >= {n}\")\n",
    "        break\n",
    "        "
   ]
  },
  {
   "cell_type": "markdown",
   "id": "40e26160-a9ae-4ed1-a492-e9521556516a",
   "metadata": {
    "tags": []
   },
   "source": [
    "## Problem 2 (Correlated Data)\n",
    "\n",
    "Suppose that $Y_1,\\ldots,Y_n$ has each mean $\\mu$ and variance $\\sigma^2$, but \n",
    "$$\n",
    "\\rho_{ij} := \\mathrm{Corr}(Y_i,Y_j) = \\begin{cases}\n",
    "1 & i=j \\\\\n",
    "\\rho & |i-j| = 1 \\\\\n",
    "0 & |i-j| > 1\n",
    "\\end{cases}.\n",
    "$$\n",
    "This situation arise when an observation $i$ may depend to some extent on only the previous observation’s white noise: an one-lag \"holdeover effect\". This is also known as the \"lag-1 moving average\" model (MA(1)). \n",
    "\n",
    "1. Show that:\n",
    "  - $$\\mathrm{Var}(\\bar{Y}) = \\frac{\\sigma^2}{n}(1+ 2\\rho \\frac{n-1}{n})$$\n",
    "Namely, positive correlation increases varaince. Hint: use that $\\mathrm{Var}(U+V) = \\mathrm{Var}(U) + \\mathrm{Var}(V) + 2 \\mathrm{Cov}(U,V)$ and induction or recursive computation over $n$. Another option is to write $Y = \\Sigma^{1/2}Z$ where $Z\\sim \\Ncal(0,I)$ and $\\Sigma^{1/2}$ is symmetric with  $\\Sigma^{1/2}\\Sigma^{1/2} = \\Sigma$ has the desired covariance stracture.  "
   ]
  },
  {
   "cell_type": "markdown",
   "id": "fdd96f84-b65e-4aa5-b655-c8e887581ad1",
   "metadata": {
    "tags": []
   },
   "source": [
    "#### Answer"
   ]
  },
  {
   "cell_type": "markdown",
   "id": "21f71ac5-34ac-412f-adc8-86433b11d3b2",
   "metadata": {},
   "source": [
    "We will use induction.\n",
    "\n",
    "* Base-case  \n",
    "If $n = 1$, then \n",
    "$$\n",
    "var(\\bar{Y_1}) = var(Y_1) = \\sigma^2 = \\frac{\\sigma^2}{1}(1+ 2 \\rho \\frac{1 - 1}{1}) = \\frac{\\sigma^2}{1}(1 + 0) = \\sigma^2\n",
    "$$\n",
    "\n",
    "* Induction Hypothisis:\n",
    "We will assume Hypothisis correct for n=k.  \n",
    "$$\n",
    "Var(\\bar{Y_n}) = \\frac{\\sigma^2}{n}(1+ 2\\rho \\frac{n-1}{n})\n",
    "$$\n",
    "\n",
    "* Induction step:\n",
    "$$ Var(\\bar{Y_{n+1}} = Var(\\frac{1}{n+1}\\Sigma_{i=1}^{n+1}Y_i)$$\n",
    "\n",
    "-->\n",
    "\n",
    "$$ \n",
    "= Var(\\frac{n}{n+1} \\cdot \\frac{1}{n} \\Sigma_{i=1}^{n+1}Y_i) = (\\frac{n}{n+1})^2 Var(\\frac{1}{n} \\Sigma_{i=1}^{n+1}Y_i)\n",
    "$$\n",
    "\n",
    "$$ \n",
    "= (\\frac{n}{n+1})^2 Var(\\frac{1}{n} \\Sigma_{i=1}^{n}Y_i + \\frac{1}{n}Y_{n+1}) = (\\frac{n}{n+1})^2 [Var(\\bar{Y_n}) + Var(\\frac{1}{n} Y_{n+1}) + 2Cov(\\bar{Y_n},\\frac{1}{n} Y_{n+1})] \n",
    "$$\n",
    "\n",
    "$$ \n",
    "= (\\frac{n}{n+1})^2 [\\frac{\\sigma^2}{n}(1+ 2\\rho \\frac{n-1}{n}) + \\frac{1}{n^2} \\sigma^2 + 2Cov(\\bar{Y_n},\\frac{1}{n} Y_{n+1})] \n",
    "$$\n",
    "\n",
    "Let's isolate $ Cov(\\bar{Y_n},\\frac{1}{n} Y_{n+1}) $:\n",
    "$$ \n",
    "Cov(\\bar{Y_n},\\frac{1}{n} Y_{n+1}) = \\frac{1}{n^2}[Cov(Y_1,Y_{n+1}) + ... + Cov(Y_n,Y_{n+1}) = \\frac{1}{n^2} (0 + ... + \\rho \\sigma^2) = \\frac{\\rho \\sigma^2}{n^2} \n",
    "$$\n",
    "\n",
    "And continue:\n",
    "$$\n",
    "= Var(\\frac{n}{n+1} \\cdot \\frac{1}{n} \\Sigma_{i=1}^{n+1}Y_i) = (\\frac{n}{n+1})^2 [\\frac{\\sigma^2}{n}(1+ 2\\rho \\frac{n-1}{n}) + \\frac{1}{n^2} \\sigma^2 +2\\frac{\\rho \\sigma^2}{n^2}] \n",
    "$$\n",
    "\n",
    "$$ \n",
    "= (\\frac{n}{n+1})^2 \\cdot \\frac{\\sigma^2}{n}[1 + 2\\rho \\frac{n-1}{n} + \\frac{1}{n} + 2\\frac{\\rho}{n}] = (\\frac{n\\sigma^2}{(n+1)^2}) (\\frac{n + 2n\\rho - 2\\rho + 1 +2\\rho}{n}) \n",
    "$$\n",
    "\n",
    "$$ \n",
    "= (\\frac{\\sigma^2}{(n+1)^2}) (n + 2n\\rho + 1) = (\\frac{\\sigma^2}{n+1}) (\\frac{n + 1 + 2n\\rho}{n + 1}) = (\\frac{\\sigma^2}{n+1}) (1 + \\frac{2n\\rho}{n + 1})\n",
    "$$\n",
    "\n",
    "DONE.\n",
    "<br>\n",
    "<br>\n",
    "<br>\n",
    "<br>"
   ]
  },
  {
   "cell_type": "markdown",
   "id": "09fc859f-aba9-450d-8684-cb95d77b572e",
   "metadata": {
    "tags": []
   },
   "source": [
    "  - $$\\qquad \\ex[{s^2}] = \\sigma^2(1 - 2\\rho/n)$$\n",
    "  where $s^2$ is the standard varince estiamte. \n",
    "Namely, with positive correlation the \"variety\" in the data is smaller. "
   ]
  },
  {
   "cell_type": "markdown",
   "id": "2ea797a8-f4de-4807-a7ef-c4c6ebd789ab",
   "metadata": {
    "tags": []
   },
   "source": [
    "#### Answer"
   ]
  },
  {
   "cell_type": "markdown",
   "id": "c77a33a5-0bb5-4214-be3c-2a8778dddf2d",
   "metadata": {},
   "source": [
    "Let's remember:\n",
    "\n",
    "$$\n",
    "E[s^2] = E \\left[ \\frac{1}{n-1} \\sum_{i=1}^{n} (Y_i - \\bar{Y})^2 \\right] = \\frac{1}{n-1} E \\left[ \\sum_{i=1}^{n} {Y_i}^2 + \\sum_{i=1}^{n} {\\bar{Y}}^2 - \\sum_{i=1}^{n} 2 Y_i \\bar{Y} \\right] \n",
    "$$\n",
    "\n",
    "$$\n",
    "=\n",
    "\\frac{1}{n-1} E \\left[ \\sum_{i=1}^{n} {Y_i}^2 + n {\\bar{Y}}^2 - 2 \\bar{Y} \\sum_{i=1}^{n} Y_i \\right] \n",
    "$$\n",
    "\n",
    "$$\n",
    "=\n",
    "\\frac{1}{n-1} E \\left[ \\sum_{i=1}^{n} {Y_i}^2 + n {\\bar{Y}}^2 - 2 \\bar{Y} n \\bar{Y} \\right] = \\frac{1}{n-1} E \\left[ \\sum_{i=1}^{n} {Y_i}^2 - n {\\bar{Y}}^2 \\right] \n",
    "$$\n",
    "\n",
    "$$\n",
    "=\n",
    "\\frac{1}{n-1} \\sum_{i=1}^{n} E \\left[ {Y_i}^2 \\right] - \\frac{n}{n-1} E \\left[ {\\bar{Y}}^2  \\right]\n",
    "$$\n",
    "\n",
    "Before, we continue let's note that:\n",
    "$$\n",
    "var(X) = E[X^2]-E[X]^2 --> E[X^2] = var(X) + E[X]^2 --> E[Y_i^2] = \\mu^2 + \\sigma^2\n",
    "$$\n",
    "\n",
    "And, continue:\n",
    "$$\n",
    "=\n",
    "\\frac{1}{n-1} \\sum_{i=1}^{n} \\left[ \\sigma^2 + \\mu^2 \\right] - \\frac{n}{n-1} \\left[ \\frac{\\sigma^2}{n}(1+ 2\\rho \\frac{n-1}{n}) + \\mu^2  \\right]\n",
    "$$\n",
    "\n",
    "$$\n",
    "=\n",
    "\\frac{1}{n-1} \\left[ n \\sigma^2 + n \\mu^2 -n \\frac{\\sigma^2}{n}(1+ 2\\rho \\frac{n-1}{n}) - n \\mu^2  \\right]\n",
    "$$\n",
    "\n",
    "$$\n",
    "=\n",
    "\\frac{\\sigma^2}{n-1} \\left[ n - 1 - 2\\rho \\frac{n-1}{n} \\right] = \\sigma^2 \\left[ 1 - \\frac{2\\rho}{n} \\right]\n",
    "$$\n",
    "\n",
    "\n",
    "DONE.\n",
    "<br>\n",
    "<br>\n",
    "<br>\n",
    "<br>"
   ]
  },
  {
   "cell_type": "markdown",
   "id": "11ae6033-dd79-447a-b74c-a547f562db5b",
   "metadata": {
    "tags": []
   },
   "source": [
    "  - **(Bonus)** The t-statistic statisfies\n",
    "$$\n",
    "t = \\sqrt{n} \\frac{\\bar{Y}-\\mu}{s} \\to \\Ncal(0,1 + 2 \\rho),\\quad n \\to \\infty\n",
    "$$\n",
    "Hint: you may use the following version of Slutsky's Theorem: for two sequences of RV U_n and V_n, if $U_n \\overset{D}{\\to} U$ and $V_n \\overset{p}{\\to} c$ (constant), then $ V_n U_n \\overset{D}{\\to} cU$"
   ]
  },
  {
   "cell_type": "markdown",
   "id": "e8b73ed6-1b1e-4edc-a7d1-913e6c3a2449",
   "metadata": {
    "tags": []
   },
   "source": [
    "#### Answer"
   ]
  },
  {
   "cell_type": "markdown",
   "id": "049f8f30-3fc4-4fc3-b9c5-cd4891ee0f59",
   "metadata": {},
   "source": [
    "We know that for two sequences of RV U_n and V_n, if $U_n \\overset{D}{\\to} U$ and $V_n \\overset{p}{\\to} c$ (constant), then $ V_n U_n \\overset{D}{\\to} cU$\n",
    "\n",
    "#### TODO"
   ]
  },
  {
   "cell_type": "code",
   "execution_count": 5,
   "id": "02a5c7c7-a024-46cb-b389-d8da3b1563e2",
   "metadata": {},
   "outputs": [],
   "source": [
    "\n",
    "\n",
    "def genrate_correlated_data(n: int, rho: float, mu: float, sigma: float) -> np.ndarray:\n",
    "    \"\"\"\n",
    "    Generate samples from the model:\n",
    "    Yi ~ N(mu, sigma^2) and Corr(Yi,Yj) = ( i == j ) + rho * ( abs( i - j ) == 1 )\n",
    "    \n",
    "    Args:\n",
    "    -----\n",
    "    :n:     sample size\n",
    "    :rho:   desired one lag correlation between samples\n",
    "    :mu:    mean\n",
    "    :sigma: standard deviation\n",
    "    \n",
    "    \"\"\"\n",
    "    assert sigma > 0\n",
    "    \n",
    "    # build desired covariance matrix\n",
    "    Sig = np.zeros((n,n))\n",
    "    for i in range(n):\n",
    "        for j in range(n):\n",
    "            if i==j : \n",
    "                Sig[i,j] = 1\n",
    "            if np.abs(i-j) == 1:\n",
    "                Sig[i,j] = rho\n",
    "                Sig[j,i] = rho\n",
    "                \n",
    "    # get matrix square root of covariance matrix:\n",
    "    Sig_sqrt = np.linalg.cholesky(sigma**2 * Sig)\n",
    "    \n",
    "    # sample from the standard normal dist. and transform \n",
    "    # so that the result is a normal vector with the desired \n",
    "    # covaraince structure\n",
    "    return mu + Sig_sqrt @ np.random.randn(n)\n"
   ]
  },
  {
   "cell_type": "markdown",
   "id": "28fd0a7c-9bbc-41ec-92ec-a7fa545ed16a",
   "metadata": {
    "tags": []
   },
   "source": [
    "2. Verify your answer to the first two items in 1 using simulations. Use `nMonte = 10000` problem instances. In each instance, use a sample size of `n = 10` with $\\sigma=1$ and $\\rho \\in \\{\\pm 0.1, \\pm 0.3, \\pm0.5\\}$. The function `genrate_correlated_data` below generates noramlly distributed data satisfying the correlation model above. "
   ]
  },
  {
   "cell_type": "markdown",
   "id": "ec345df6-e468-4b82-920a-2d4afbc64d78",
   "metadata": {
    "tags": []
   },
   "source": [
    "#### Answer"
   ]
  },
  {
   "cell_type": "code",
   "execution_count": 6,
   "id": "6518c449-773b-4778-bcd8-86c8e09d2c1b",
   "metadata": {},
   "outputs": [],
   "source": [
    "nMonte = 10000\n",
    "n = 10\n",
    "mu, sigma = 0, 1\n",
    "rhos = [-0.1, 0.1, -0.3, 0.3, -0.5, 0.5]"
   ]
  },
  {
   "cell_type": "code",
   "execution_count": 7,
   "id": "55e78fa7-6816-4e7c-8174-b66ff606f28c",
   "metadata": {},
   "outputs": [
    {
     "name": "stdout",
     "output_type": "stream",
     "text": [
      "For rho  = -0.1\n",
      "\tThe theoretical y means var = 0.0820, the calculated one = 0.0823\n",
      "\tThe theoretical var mean = 1.0200, the calculated one = 1.0226\n",
      "********************************************************************************************************************************** \n",
      "\n",
      "For rho  = 0.1\n",
      "\tThe theoretical y means var = 0.1180, the calculated one = 0.1176\n",
      "\tThe theoretical var mean = 0.9800, the calculated one = 0.9870\n",
      "********************************************************************************************************************************** \n",
      "\n",
      "For rho  = -0.3\n",
      "\tThe theoretical y means var = 0.0460, the calculated one = 0.0455\n",
      "\tThe theoretical var mean = 1.0600, the calculated one = 1.0618\n",
      "********************************************************************************************************************************** \n",
      "\n",
      "For rho  = 0.3\n",
      "\tThe theoretical y means var = 0.1540, the calculated one = 0.1570\n",
      "\tThe theoretical var mean = 0.9400, the calculated one = 0.9389\n",
      "********************************************************************************************************************************** \n",
      "\n",
      "For rho  = -0.5\n",
      "\tThe theoretical y means var = 0.0100, the calculated one = 0.0101\n",
      "\tThe theoretical var mean = 1.1000, the calculated one = 1.1024\n",
      "********************************************************************************************************************************** \n",
      "\n",
      "For rho  = 0.5\n",
      "\tThe theoretical y means var = 0.1900, the calculated one = 0.1921\n",
      "\tThe theoretical var mean = 0.9000, the calculated one = 0.9045\n",
      "********************************************************************************************************************************** \n",
      "\n"
     ]
    }
   ],
   "source": [
    "for rho in rhos:    \n",
    "    correlated_data = np.asarray([genrate_correlated_data(n=n, rho=rho, mu=mu, sigma=sigma) for _ in range(nMonte)])\n",
    "    \n",
    "    # get emprical values\n",
    "    y_means = np.mean(correlated_data, axis=1).reshape(-1, 1)\n",
    "    var = (1 / (n - 1)) * np.sum((correlated_data - y_means) ** 2, axis=1)\n",
    "    y_means_var = np.var(y_means)\n",
    "    var_mean = np.mean(var) \n",
    "    \n",
    "    # calculus values\n",
    "    theory_y_bar_var = sigma**2 / n * (1 + 2 * rho * (n-1) * (1/n))\n",
    "    theory_sigma_squared_mean = sigma**2 * (1 - 2 * rho * (1/n))\n",
    "    \n",
    "    \n",
    "    print(f\"For rho  = {rho}\\n\\tThe theoretical y means var = {theory_y_bar_var:.4f}, the calculated one = {y_means_var:.4f}\")\n",
    "    print(f\"\\tThe theoretical var mean = {theory_sigma_squared_mean:.4f}, the calculated one = {var_mean:.4f}\")\n",
    "    print(\"*\" * 130, \"\\n\")"
   ]
  },
  {
   "cell_type": "markdown",
   "id": "90827b4e-e0fc-4c08-aa75-42a8c44b1fbf",
   "metadata": {
    "tags": []
   },
   "source": [
    "3. Suppose $\\rho>0$\n",
    " - Derive a $1-\\alpha$ confidence interval based on $s$ and the $t$-distribution with $n-1$ DoF. Does your interval \n",
    " contains the value of $\\mu$ more or less often than $1-\\alpha$? Verify using a simulation with `nMonte = 10000` problem instances of sampes size `n=100`. Also use $\\alpha=0.05$, $\\rho=.25$, $\\sigma =1$, and $\\mu_0=2$. \n",
    " "
   ]
  },
  {
   "cell_type": "markdown",
   "id": "8ad2773f-4571-44b0-8f69-eda3eb542d3e",
   "metadata": {
    "tags": []
   },
   "source": [
    "#### Answer"
   ]
  },
  {
   "cell_type": "code",
   "execution_count": 8,
   "id": "daf7f196-4e61-4ba2-ad18-e50db5bda629",
   "metadata": {},
   "outputs": [
    {
     "name": "stdout",
     "output_type": "stream",
     "text": [
      "********************************************************************************************************************************** \n",
      "\n",
      "For rho = 0.25, real mu appears in CI 89.31% of the times, and the expected is 95.0% of the times\n",
      "\n",
      "If we reject H0 whenever t-statistic exceeds the critical value t-critic, we would reject H0 5.24% of the times\n",
      "\n",
      "Obviously, the number of rejections under this model will be lower, probably by ~ half.\n",
      "And to be precise, we'd reject under a normal rejection model (abs(t-statistic) > t_critic) 10.69% of the times\n",
      "\n",
      "And as we thought, this model will reject 49.02% of the times the regular model would reject.\n",
      "********************************************************************************************************************************** \n",
      "\n"
     ]
    }
   ],
   "source": [
    "import scipy.stats as stats\n",
    "\n",
    "\n",
    "n = 100\n",
    "ALPHA = 0.05\n",
    "rho = 0.25\n",
    "rho_negative = -1 * rho\n",
    "mu, sigma = 2, 1\n",
    "nMonte = 10000 \n",
    "\n",
    "t_critic = stats.t.ppf(1 - ALPHA / 2, df=n-1)\n",
    "\n",
    "is_mu_in_ci_list, is_h0_rejected_larger_list, is_h0_rejected_regular_list = list(), list(), list()\n",
    "\n",
    "for _iteration in range(nMonte):\n",
    "    correlated_data = genrate_correlated_data(n=n, rho=rho, mu=mu, sigma=sigma)\n",
    "    y_mean = np.mean(correlated_data)\n",
    "    s_squared = np.sum((correlated_data - y_mean) ** 2) / (n-1)\n",
    "    s = np.sqrt(s_squared)\n",
    "    \n",
    "    # calculate CI\n",
    "    L = mu - s / np.sqrt(n) * t_critic\n",
    "    U = mu + s / np.sqrt(n) * t_critic\n",
    "    \n",
    "    # calculate t statistic\n",
    "    t_statistic_larger = np.sqrt(n) * (y_mean - mu) / s\n",
    "    t_statistic_regular = np.sqrt(n) * abs(y_mean - mu) / s\n",
    "\n",
    "    # check if you reject H0:\n",
    "    is_h0_rejected_larger = t_statistic_larger > t_critic\n",
    "    is_h0_rejected_larger_list.append(is_h0_rejected_larger)\n",
    "\n",
    "    is_h0_rejected_regular = t_statistic_regular > t_critic\n",
    "    is_h0_rejected_regular_list.append(is_h0_rejected_regular)\n",
    "\n",
    "    # check if mean is in Confidence Interval:\n",
    "    is_mu_in_ci = L <= y_mean <= U\n",
    "    is_mu_in_ci_list.append(is_mu_in_ci)\n",
    "\n",
    "# calculate ratios\n",
    "mu_in_ci_ratio = np.sum(is_mu_in_ci_list) / nMonte\n",
    "h0_rejected_ratio_regular = np.sum(is_h0_rejected_regular_list) / nMonte\n",
    "h0_rejected_ratio_larger = np.sum(is_h0_rejected_larger_list) / nMonte\n",
    "\n",
    "\n",
    "print(\"*\" * 130, \"\\n\")\n",
    "print(f\"For rho = {rho}, real mu appears in CI {mu_in_ci_ratio*100:.2f}% of the times, and the expected is {(1-ALPHA)*n}% of the times\\n\")\n",
    "print(f\"If we reject H0 whenever t-statistic exceeds the critical value t-critic, we would reject H0 {h0_rejected_ratio_larger*100:.2f}% of the times\\n\")\n",
    "print(\"Obviously, the number of rejections under this model will be lower, probably by ~ half.\")\n",
    "print(f\"And to be precise, we'd reject under a normal rejection model (abs(t-statistic) > t_critic) {h0_rejected_ratio_regular*100:.2f}% of the times\\n\")\n",
    "print(f\"And as we thought, this model will reject {h0_rejected_ratio_larger/h0_rejected_ratio_regular*100:.2f}% of the times the regular model would reject.\")\n",
    "print(\"*\" * 130, \"\\n\")\n",
    "                    \n",
    "                    "
   ]
  },
  {
   "cell_type": "markdown",
   "id": "e08e7bbc-3850-4f2c-b891-a1f99a47ac7c",
   "metadata": {},
   "source": [
    "We see the the postive rho causes us to reject more H0 (because it's not in the CI more)."
   ]
  },
  {
   "cell_type": "markdown",
   "id": "cc4a0773-4ce6-4276-9c0f-1a601307840a",
   "metadata": {
    "tags": []
   },
   "source": [
    " - Suppose that we reject $H_0\\,:\\,\\mu = \\mu_0$ whenever $t$ exceeds the critical value $t_{n-1}^{1-\\alpha/2}$. Would our P-value be too small or too large? Would we reject more or less often then $\\alpha$ if the null $\\mu = \\mu_0$ is true? Verify using a simulation with `nMonte = 10000` problem instances of sampes size `n=100`. Also use $\\alpha=0.05$, $\\rho=.25$, $\\sigma =1$, and $\\mu_0=2$. \n",
    " "
   ]
  },
  {
   "cell_type": "markdown",
   "id": "b0894abb-7ffa-4b72-b914-a1406ac6ca4c",
   "metadata": {
    "tags": []
   },
   "source": [
    "#### Answer"
   ]
  },
  {
   "cell_type": "markdown",
   "id": "dc6f416f-99bb-4fc0-899a-ff9a7e521ed9",
   "metadata": {},
   "source": [
    "As we printed above, we would reject less (about half the time) compared to a regular rejection model (see above). The p-value, will be too large in case of the t statistic will be lower than the negative of the t-critic. SO it would either not change, or be larger. \n",
    "<br>"
   ]
  },
  {
   "cell_type": "markdown",
   "id": "1aaae355-6652-496a-a3f8-4282cc619973",
   "metadata": {
    "tags": []
   },
   "source": [
    " - Would your answer to the preivous two items change if $\\rho < 0$? how?\n",
    "\n",
    "The point: correlation in our data is bad because it makes us make wrong descisions. The effect of correlation is much worst than non-nomrality since the latter diminishes with $n$ due to the CLT. "
   ]
  },
  {
   "cell_type": "markdown",
   "id": "a254c609-b25f-4196-a882-b0e38e305e43",
   "metadata": {
    "tags": []
   },
   "source": [
    "#### Answer"
   ]
  },
  {
   "cell_type": "markdown",
   "id": "c6e38cb3-c03b-48e3-8416-eb3dbe60b374",
   "metadata": {},
   "source": [
    "Yes, it would. It would be the opposite; Namely, it would cause mu to be more time in the CI than the expected and reject H0 less. It wouldn't change the answer to the last question, the p-value answer would still be the same. "
   ]
  },
  {
   "cell_type": "markdown",
   "id": "5581e1ca",
   "metadata": {
    "tags": []
   },
   "source": [
    "## Problem 3 (Regression and Hypothesis Testing)\n",
    "\n",
    "The dataset for this problem is available in the file temp_TLV_beach.csv, which was taken directly from the meterological service website (https://ims.data.gov.il/ims/1). \n",
    "\n",
    "We consider monitoring changes in rainfall/precipitation over the years at Station 136320 located at Tel-Aviv beach area. \n",
    "To do so, we will set up a standard linear model with $p = 3$ features, where for dates (times) $t \\in \\{0,1,\\ldots,366\\}$ (we have 366 for leap years) we set\n",
    "$$\n",
    "y_t = \\beta_0 + \\beta_1 \\cos( 2\\pi(t/365)) + \\beta_2 \\sin( 2\\pi(t/365)) + \\epsilon_t,\\qquad t=1,\\ldots,n. \n",
    "\\label{eq:model} \\tag{2}\n",
    "$$\n",
    "(note that the dataset does not contain measurments from all days in the range)"
   ]
  },
  {
   "cell_type": "markdown",
   "id": "53c92dbd",
   "metadata": {},
   "source": [
    "1) Set $y_t = \\texttt{Rainfall}$. \n",
    " - Plot $y_t$ versus $t=$`Date` and identify winter times.\n",
    "\n",
    "- Find the LS regression coefficients $\\beta$; plot the fitted response $\\hat{y}_t$ over time along with the original response $y_t$. \n",
    "\n",
    " - Test whether the fitted model significantly improves on the trival model $y_t = \\beta'_0 + \\epsilon_t$.\n",
    " \n",
    " - For each parameter $p$, report the P-value for testing $H_0\\,:\\,\\hat{\\beta}_p = 0$ and indicate whether this parameter is \n",
    "significantly different than $0$ at level $\\alpha = 0.01$. \n",
    "(for this item, you can either evaluate everything from the formulas provded in class or use a statistical package like `statsmodels`)\n",
    "\n",
    "You may use the code below to format the `Date` column correctly and extract other relevant information from it. "
   ]
  },
  {
   "cell_type": "markdown",
   "id": "ef471e3a-3bb5-422c-86e4-cf4480c4a4c3",
   "metadata": {},
   "source": [
    "## Solution"
   ]
  },
  {
   "cell_type": "markdown",
   "id": "0fde9fac-e980-47ff-a207-be3999b751c6",
   "metadata": {
    "tags": []
   },
   "source": [
    "### Solution 1"
   ]
  },
  {
   "cell_type": "markdown",
   "id": "3b5b65b1-2449-404a-b09a-016e5e1c3e61",
   "metadata": {},
   "source": [
    " - Plot $y_t$ versus $t=$`Date` and identify winter times.\n"
   ]
  },
  {
   "cell_type": "code",
   "execution_count": 12,
   "id": "0dde4de2",
   "metadata": {},
   "outputs": [
    {
     "data": {
      "text/html": [
       "<div>\n",
       "<style scoped>\n",
       "    .dataframe tbody tr th:only-of-type {\n",
       "        vertical-align: middle;\n",
       "    }\n",
       "\n",
       "    .dataframe tbody tr th {\n",
       "        vertical-align: top;\n",
       "    }\n",
       "\n",
       "    .dataframe thead th {\n",
       "        text-align: right;\n",
       "    }\n",
       "</style>\n",
       "<table border=\"1\" class=\"dataframe\">\n",
       "  <thead>\n",
       "    <tr style=\"text-align: right;\">\n",
       "      <th></th>\n",
       "      <th>StationCode</th>\n",
       "      <th>Date</th>\n",
       "      <th>Rainfall</th>\n",
       "      <th>DayOfYear</th>\n",
       "      <th>Month</th>\n",
       "      <th>Year</th>\n",
       "    </tr>\n",
       "  </thead>\n",
       "  <tbody>\n",
       "    <tr>\n",
       "      <th>0</th>\n",
       "      <td>136320</td>\n",
       "      <td>2005-10-18</td>\n",
       "      <td>0.1</td>\n",
       "      <td>291</td>\n",
       "      <td>10</td>\n",
       "      <td>2005</td>\n",
       "    </tr>\n",
       "    <tr>\n",
       "      <th>1</th>\n",
       "      <td>136320</td>\n",
       "      <td>2005-10-19</td>\n",
       "      <td>0.5</td>\n",
       "      <td>292</td>\n",
       "      <td>10</td>\n",
       "      <td>2005</td>\n",
       "    </tr>\n",
       "    <tr>\n",
       "      <th>2</th>\n",
       "      <td>136320</td>\n",
       "      <td>2005-10-20</td>\n",
       "      <td>0.1</td>\n",
       "      <td>293</td>\n",
       "      <td>10</td>\n",
       "      <td>2005</td>\n",
       "    </tr>\n",
       "    <tr>\n",
       "      <th>3</th>\n",
       "      <td>136320</td>\n",
       "      <td>2005-10-29</td>\n",
       "      <td>0.6</td>\n",
       "      <td>302</td>\n",
       "      <td>10</td>\n",
       "      <td>2005</td>\n",
       "    </tr>\n",
       "    <tr>\n",
       "      <th>4</th>\n",
       "      <td>136320</td>\n",
       "      <td>2005-10-30</td>\n",
       "      <td>5.3</td>\n",
       "      <td>303</td>\n",
       "      <td>10</td>\n",
       "      <td>2005</td>\n",
       "    </tr>\n",
       "  </tbody>\n",
       "</table>\n",
       "</div>"
      ],
      "text/plain": [
       "   StationCode       Date  Rainfall  DayOfYear  Month  Year\n",
       "0       136320 2005-10-18       0.1        291     10  2005\n",
       "1       136320 2005-10-19       0.5        292     10  2005\n",
       "2       136320 2005-10-20       0.1        293     10  2005\n",
       "3       136320 2005-10-29       0.6        302     10  2005\n",
       "4       136320 2005-10-30       5.3        303     10  2005"
      ]
     },
     "execution_count": 12,
     "metadata": {},
     "output_type": "execute_result"
    }
   ],
   "source": [
    "import pandas as pd\n",
    "import numpy as np \n",
    "import matplotlib.pyplot as plt\n",
    "import seaborn as sns\n",
    "\n",
    "\n",
    "path_to_data_file = \"rainfall_TLV_beach.csv\"\n",
    "data = pd.read_csv(path_to_data_file)\n",
    "\n",
    "data['Date'] = pd.to_datetime(data.Date, format=\"%d-%m-%Y\")\n",
    "data['DayOfYear'] = data.Date.dt.day_of_year\n",
    "data['Month'] = data.Date.dt.month\n",
    "data['Year'] = data.Date.dt.year\n",
    "y = data.Rainfall.values\n",
    "\n",
    "data.head()"
   ]
  },
  {
   "cell_type": "code",
   "execution_count": 13,
   "id": "1e0e70af-50a0-45e2-815e-220e86e77d4d",
   "metadata": {},
   "outputs": [
    {
     "data": {
      "text/html": [
       "<div>\n",
       "<style scoped>\n",
       "    .dataframe tbody tr th:only-of-type {\n",
       "        vertical-align: middle;\n",
       "    }\n",
       "\n",
       "    .dataframe tbody tr th {\n",
       "        vertical-align: top;\n",
       "    }\n",
       "\n",
       "    .dataframe thead th {\n",
       "        text-align: right;\n",
       "    }\n",
       "</style>\n",
       "<table border=\"1\" class=\"dataframe\">\n",
       "  <thead>\n",
       "    <tr style=\"text-align: right;\">\n",
       "      <th></th>\n",
       "      <th>StationCode</th>\n",
       "      <th>Rainfall</th>\n",
       "      <th>DayOfYear</th>\n",
       "      <th>Month</th>\n",
       "      <th>Year</th>\n",
       "    </tr>\n",
       "  </thead>\n",
       "  <tbody>\n",
       "    <tr>\n",
       "      <th>count</th>\n",
       "      <td>911.0</td>\n",
       "      <td>911.000000</td>\n",
       "      <td>911.000000</td>\n",
       "      <td>911.000000</td>\n",
       "      <td>911.000000</td>\n",
       "    </tr>\n",
       "    <tr>\n",
       "      <th>mean</th>\n",
       "      <td>136320.0</td>\n",
       "      <td>8.142261</td>\n",
       "      <td>158.167947</td>\n",
       "      <td>5.682766</td>\n",
       "      <td>2013.697036</td>\n",
       "    </tr>\n",
       "    <tr>\n",
       "      <th>std</th>\n",
       "      <td>0.0</td>\n",
       "      <td>11.711135</td>\n",
       "      <td>140.061444</td>\n",
       "      <td>4.575054</td>\n",
       "      <td>4.909554</td>\n",
       "    </tr>\n",
       "    <tr>\n",
       "      <th>min</th>\n",
       "      <td>136320.0</td>\n",
       "      <td>0.100000</td>\n",
       "      <td>1.000000</td>\n",
       "      <td>1.000000</td>\n",
       "      <td>2005.000000</td>\n",
       "    </tr>\n",
       "    <tr>\n",
       "      <th>25%</th>\n",
       "      <td>136320.0</td>\n",
       "      <td>0.900000</td>\n",
       "      <td>34.500000</td>\n",
       "      <td>2.000000</td>\n",
       "      <td>2010.000000</td>\n",
       "    </tr>\n",
       "    <tr>\n",
       "      <th>50%</th>\n",
       "      <td>136320.0</td>\n",
       "      <td>3.400000</td>\n",
       "      <td>83.000000</td>\n",
       "      <td>3.000000</td>\n",
       "      <td>2014.000000</td>\n",
       "    </tr>\n",
       "    <tr>\n",
       "      <th>75%</th>\n",
       "      <td>136320.0</td>\n",
       "      <td>10.350000</td>\n",
       "      <td>319.500000</td>\n",
       "      <td>11.000000</td>\n",
       "      <td>2018.000000</td>\n",
       "    </tr>\n",
       "    <tr>\n",
       "      <th>max</th>\n",
       "      <td>136320.0</td>\n",
       "      <td>102.600000</td>\n",
       "      <td>366.000000</td>\n",
       "      <td>12.000000</td>\n",
       "      <td>2022.000000</td>\n",
       "    </tr>\n",
       "  </tbody>\n",
       "</table>\n",
       "</div>"
      ],
      "text/plain": [
       "       StationCode    Rainfall   DayOfYear       Month         Year\n",
       "count        911.0  911.000000  911.000000  911.000000   911.000000\n",
       "mean      136320.0    8.142261  158.167947    5.682766  2013.697036\n",
       "std            0.0   11.711135  140.061444    4.575054     4.909554\n",
       "min       136320.0    0.100000    1.000000    1.000000  2005.000000\n",
       "25%       136320.0    0.900000   34.500000    2.000000  2010.000000\n",
       "50%       136320.0    3.400000   83.000000    3.000000  2014.000000\n",
       "75%       136320.0   10.350000  319.500000   11.000000  2018.000000\n",
       "max       136320.0  102.600000  366.000000   12.000000  2022.000000"
      ]
     },
     "execution_count": 13,
     "metadata": {},
     "output_type": "execute_result"
    }
   ],
   "source": [
    "data.describe()"
   ]
  },
  {
   "cell_type": "markdown",
   "id": "46e6bc59-b749-437f-b015-3608ab549709",
   "metadata": {},
   "source": [
    "Let's plot Rainfall by Date:"
   ]
  },
  {
   "cell_type": "code",
   "execution_count": 14,
   "id": "a6677d5c-57a0-4d3e-a0ac-e981cb351949",
   "metadata": {},
   "outputs": [
    {
     "data": {
      "image/png": "[encoded data removed]",
      "text/plain": [
       "<Figure size 720x432 with 1 Axes>"
      ]
     },
     "metadata": {
      "needs_background": "light"
     },
     "output_type": "display_data"
    }
   ],
   "source": [
    "plt.figure(figsize=(10, 6))\n",
    "sns.scatterplot(x=data.Date, y=y)\n",
    "plt.title('Scatter Plot Rainfall by Date'.title())\n",
    "plt.xlabel('Date')\n",
    "plt.ylabel('Rainfall')\n",
    "plt.show()"
   ]
  },
  {
   "cell_type": "markdown",
   "id": "9243725e-8b74-4d5f-8ad0-4406a233fac2",
   "metadata": {},
   "source": [
    "Too mush noise, we can't really indetift winter times this way.\n",
    "</br>\n",
    "So - let's group by month, to fully indentify the winter times:"
   ]
  },
  {
   "cell_type": "code",
   "execution_count": 15,
   "id": "679fafb6-2a74-4fe9-9ae4-4b5c437a0c68",
   "metadata": {},
   "outputs": [
    {
     "data": {
      "image/png": "[encoded data removed]",
      "text/plain": [
       "<Figure size 1008x576 with 1 Axes>"
      ]
     },
     "metadata": {
      "needs_background": "light"
     },
     "output_type": "display_data"
    }
   ],
   "source": [
    "# create a grouped dataframe\n",
    "data_to_plot = data.groupby(by=\"Month\").mean()\n",
    "data_to_plot[[\"Rainfall\"]]\n",
    "\n",
    "# plot the mean of the rainfall per month\n",
    "months = [1, 2, 3, 4, 5, 6, 9, 10, 11, 12]  # all months in the data\n",
    "plt.figure(figsize=(14, 8))\n",
    "sns.scatterplot(x=months, y=data_to_plot.Rainfall)\n",
    "plt.title('Mean Rainfall for each Month'.title())\n",
    "plt.xlabel('Month')\n",
    "plt.xticks(months)\n",
    "plt.ylabel('Rainfall')\n",
    "plt.show()"
   ]
  },
  {
   "cell_type": "markdown",
   "id": "ddc85b77-cef8-40ee-b095-c0900d5b882e",
   "metadata": {},
   "source": [
    "Let's also a boxplot of the Rainfall values, for each month"
   ]
  },
  {
   "cell_type": "code",
   "execution_count": 16,
   "id": "ad5b526d-4880-4bf0-a230-667bb9646241",
   "metadata": {},
   "outputs": [
    {
     "data": {
      "image/png": "[encoded data removed]",
      "text/plain": [
       "<Figure size 1008x576 with 1 Axes>"
      ]
     },
     "metadata": {
      "needs_background": "light"
     },
     "output_type": "display_data"
    }
   ],
   "source": [
    "\n",
    "plt.figure(figsize=(14, 8))\n",
    "sns.boxplot(x=\"Month\", y=\"Rainfall\", data=data)\n",
    "plt.title('Box Plot for Rainfall by Month'.title())\n",
    "plt.xlabel('Month')\n",
    "plt.ylabel('Rainfall')\n",
    "plt.show()"
   ]
  },
  {
   "cell_type": "markdown",
   "id": "d7c01a82-4356-4346-a319-5ef10cf6d9be",
   "metadata": {},
   "source": [
    "It seems obvious that winter is at (we didn't really define it mathematically - so I'll define it as the 4 months with the highest mean Rainfall):\n",
    "</br>\n",
    "12 (DEC)\n",
    "</br>\n",
    "11 (NOV)\n",
    "</br>\n",
    "1 (JAN)\n",
    "</br>\n",
    "2 (FEB)\n",
    "</br>\n",
    "</br>\n",
    "\n",
    "Note: It's safe to assume that July and August will probably contain the lowest amount of Rainfall..\n",
    "</br>\n",
    "</br>\n",
    "</br>\n"
   ]
  },
  {
   "cell_type": "markdown",
   "id": "7803f948-963d-469b-9127-f1d022a9f0ed",
   "metadata": {},
   "source": [
    "We consider monitoring changes in rainfall/precipitation over the years at Station 136320 located at Tel-Aviv beach area. \n",
    "To do so, we will set up a standard linear model with $p = 3$ features, where for dates (times) $t \\in \\{0,1,\\ldots,366\\}$ (we have 366 for leap years) we set\n",
    "$$\n",
    "y_t = \\beta_0 + \\beta_1 \\cos( 2\\pi(t/365)) + \\beta_2 \\sin( 2\\pi(t/365)) + \\epsilon_t,\\qquad t=1,\\ldots,n. \n",
    "\\label{eq:model} \\tag{2}\n",
    "$$\n",
    "(note that the dataset does not contain measurments from all days in the range)\n",
    "\n",
    "- Find the LS regression coefficients $\\beta$"
   ]
  },
  {
   "cell_type": "code",
   "execution_count": 36,
   "id": "f5905a72-c543-4f15-ae7f-ae0b95a4e7b2",
   "metadata": {},
   "outputs": [
    {
     "name": "stdout",
     "output_type": "stream",
     "text": [
      "beta_hat vector = [ 4.57230768  5.8623468  -0.96383133]\n",
      "\n",
      " B0 = 4.57 \n",
      " B1 = 5.86 \n",
      " B2 = -0.96\n"
     ]
    }
   ],
   "source": [
    "\n",
    "x1 = np.cos(2 * np.pi * data.DayOfYear / 366)  # we could also use modulo instead of divide, right?\n",
    "data[\"x1\"] = x1  # for later use for LS\n",
    "\n",
    "x2 = np.sin(2 * np.pi * data.DayOfYear / 366)\n",
    "data[\"x2\"] = x2  # for later use for LS\n",
    "\n",
    "\n",
    "y = data.Rainfall.values\n",
    "\n",
    "Z = np.vstack([np.ones_like(x1), x1, x2]).T\n",
    "\n",
    "A = np.dot(np.linalg.inv(np.dot(Z.T,Z)), Z.T)\n",
    "\n",
    "beta_hat = np.dot(A, y)\n",
    "\n",
    "print(f\"beta_hat vector = {beta_hat}\")\n",
    "print(f\"\\n B0 = {beta_hat[0]:.2f} \\n B1 = {beta_hat[1]:.2f} \\n B2 = {beta_hat[2]:.2f}\")"
   ]
  },
  {
   "cell_type": "markdown",
   "id": "5cbdd75f-7e0d-4879-93e3-a0c53370a004",
   "metadata": {},
   "source": [
    "- plot the fitted response $\\hat{y}_t$ over time along with the original response $y_t$. "
   ]
  },
  {
   "cell_type": "code",
   "execution_count": 37,
   "id": "4706190c-d1b1-44a4-a7b5-87d22972ef19",
   "metadata": {},
   "outputs": [
    {
     "data": {
      "image/png": "[encoded data removed]",
      "text/plain": [
       "<Figure size 864x576 with 1 Axes>"
      ]
     },
     "metadata": {},
     "output_type": "display_data"
    },
    {
     "name": "stdout",
     "output_type": "stream",
     "text": [
      "Model MSE: 130.199149150553\n"
     ]
    }
   ],
   "source": [
    "y_hat = np.matmul(Z, beta_hat)\n",
    "\n",
    "\n",
    "plt.rcParams['figure.figsize'] =  [12, 8]\n",
    "f, ax = plt.subplots(1, 1)\n",
    "\n",
    "plt.plot(data.Date, y, label=\"y\", linestyle=\"-\")\n",
    "plt.plot(data.Date, y_hat, label=\"$\\hat{y}$\", linestyle=\"-\")\n",
    "plt.title(r\"Response value - y and fitted response - $\\hat{y}$\")\n",
    "plt.legend()\n",
    "plt.show()\n",
    "\n",
    "print(f\"Model MSE: {np.mean((y-y_hat)**2)}\")"
   ]
  },
  {
   "cell_type": "markdown",
   "id": "4cfbd464-477c-470d-ab16-4163a6de70da",
   "metadata": {},
   "source": [
    " - Test whether the fitted model significantly improves on the trival model $y_t = \\beta'_0 + \\epsilon_t$."
   ]
  },
  {
   "cell_type": "markdown",
   "id": "4927f81b-ba4b-4be5-9839-6d14b9f6c686",
   "metadata": {},
   "source": [
    "We'll use an F-test. First, let's find B0:"
   ]
  },
  {
   "cell_type": "code",
   "execution_count": 38,
   "id": "81f87a52-1a07-470b-83ff-1c208fff9c0a",
   "metadata": {},
   "outputs": [
    {
     "name": "stdout",
     "output_type": "stream",
     "text": [
      "Model MSE: 137.0001349526039\n",
      "beta_hat vector = [8.14226125]\n"
     ]
    }
   ],
   "source": [
    "Z_trivial = np.vstack([np.ones_like(x1)]).T\n",
    "\n",
    "A_trivial = np.dot(np.linalg.inv(np.dot(Z_trivial.T,Z_trivial)), Z_trivial.T)\n",
    "\n",
    "beta_hat_trivial = np.dot(A_trivial, y)\n",
    "\n",
    "y_hat_trivial = np.matmul(Z_trivial, beta_hat_trivial)\n",
    "\n",
    "print(f\"Model MSE: {np.mean((y-y_hat_trivial)**2)}\")\n",
    "print(f\"beta_hat vector = {beta_hat_trivial}\")"
   ]
  },
  {
   "cell_type": "code",
   "execution_count": 40,
   "id": "0464b0b8-82e8-443a-8dda-7ee1b71566be",
   "metadata": {},
   "outputs": [
    {
     "name": "stdout",
     "output_type": "stream",
     "text": [
      "p_value of the F-test: 1.8272443527586088e-10\n",
      "\n",
      "Therefore, it seems that the more complex model is significantly better and than the current (trivial) model.\n",
      "the trivial model doesn't provide a valid representation of the data compared to the original larger one.\n"
     ]
    }
   ],
   "source": [
    "\n",
    "ss_full = np.sum( (y-y_hat) **2 )\n",
    "ss_sub = np.sum( (y-y_hat_trivial) **2 )\n",
    "\n",
    "assert ss_full < ss_sub\n",
    "\n",
    "p = 3\n",
    "q = 1\n",
    "n = len(y)\n",
    "\n",
    "f = ( (n-p) * (ss_sub - ss_full) ) / ( (p-q) * ss_full )\n",
    "\n",
    "p_value = 2*st.f.sf(f, dfn=p-q, dfd=n-p)\n",
    "\n",
    "print(f\"p_value of the F-test: {p_value}\")\n",
    "print(\"\\nTherefore, it seems that the more complex model is significantly better and than the current (trivial) model.\")\n",
    "print(\"the trivial model doesn't provide a valid representation of the data compared to the original larger one.\")"
   ]
  },
  {
   "cell_type": "markdown",
   "id": "324fe420-9a0d-4a7c-91ef-b6f456968b99",
   "metadata": {},
   "source": [
    " \n",
    " - For each parameter $p$, report the P-value for testing $H_0\\,:\\,\\hat{\\beta}_p = 0$ and indicate whether this parameter is \n",
    "significantly different than $0$ at level $\\alpha = 0.01$. \n",
    "(for this item, you can either evaluate everything from the formulas provded in class or use a statistical package like `statsmodels`)\n",
    "\n"
   ]
  },
  {
   "cell_type": "code",
   "execution_count": 41,
   "id": "7f33d9d4-49c5-41ae-9e28-94758e4a58ae",
   "metadata": {},
   "outputs": [
    {
     "name": "stdout",
     "output_type": "stream",
     "text": [
      "For feature: Intercept, this is the p-value: 0.0000, is significant = True\n",
      "For feature: cos, this is the p-value: 0.0000, is significant = True\n",
      "For feature: sin, this is the p-value: 0.1181, is significant = False\n"
     ]
    }
   ],
   "source": [
    "residuals = y - y_hat\n",
    "n = len(y)\n",
    "p = 3\n",
    "s = np.sqrt(np.sum( residuals**2 )) / np.sqrt(n-p)\n",
    "feat_set = [\"Intercept\", \"cos\", \"sin\"]\n",
    "\n",
    "p_values = np.array([])\n",
    "for i, beta in enumerate(beta_hat):\n",
    "    c = [0] * p\n",
    "    c[i] = 1\n",
    "    c_arr = np.array(c)\n",
    "        \n",
    "    numerator = beta - 0  # our hypothesis is that Beta_j = 0\n",
    "    denominator = s * np.sqrt( c_arr.T @ np.linalg.inv(np.dot(Z.T, Z)) @ c_arr ) \n",
    "    \n",
    "    t = numerator / denominator\n",
    "    \n",
    "    p_value = 2*st.t.sf(t, df=n-p)\n",
    "    p_values = np.append(p_values, p_value)\n",
    "    \n",
    "\n",
    "p_values = [p_val if p_val <= 1 else 2-p_val for p_val in p_values] \n",
    "\n",
    "for feature, p_val in zip(feat_set, p_values):\n",
    "    \n",
    "    print(f\"For feature: {feature}, this is the p-value: {p_val:.4f}, is significant = {p_val <= 0.01}\")\n",
    "    "
   ]
  },
  {
   "cell_type": "markdown",
   "id": "338a0fa5-49fd-4410-bfbc-b1cb5bf19e2c",
   "metadata": {},
   "source": [
    "Let's also use statmodels:"
   ]
  },
  {
   "cell_type": "code",
   "execution_count": 19,
   "id": "e0e91524-5225-4fc7-b006-fa3452766018",
   "metadata": {},
   "outputs": [
    {
     "data": {
      "text/html": [
       "<table class=\"simpletable\">\n",
       "<caption>OLS Regression Results</caption>\n",
       "<tr>\n",
       "  <th>Dep. Variable:</th>        <td>Rainfall</td>     <th>  R-squared:         </th> <td>   0.050</td>\n",
       "</tr>\n",
       "<tr>\n",
       "  <th>Model:</th>                   <td>OLS</td>       <th>  Adj. R-squared:    </th> <td>   0.047</td>\n",
       "</tr>\n",
       "<tr>\n",
       "  <th>Method:</th>             <td>Least Squares</td>  <th>  F-statistic:       </th> <td>   23.66</td>\n",
       "</tr>\n",
       "<tr>\n",
       "  <th>Date:</th>             <td>Sat, 30 Apr 2022</td> <th>  Prob (F-statistic):</th> <td>9.63e-11</td>\n",
       "</tr>\n",
       "<tr>\n",
       "  <th>Time:</th>                 <td>14:24:16</td>     <th>  Log-Likelihood:    </th> <td> -3510.6</td>\n",
       "</tr>\n",
       "<tr>\n",
       "  <th>No. Observations:</th>      <td>   911</td>      <th>  AIC:               </th> <td>   7027.</td>\n",
       "</tr>\n",
       "<tr>\n",
       "  <th>Df Residuals:</th>          <td>   908</td>      <th>  BIC:               </th> <td>   7042.</td>\n",
       "</tr>\n",
       "<tr>\n",
       "  <th>Df Model:</th>              <td>     2</td>      <th>                     </th>     <td> </td>   \n",
       "</tr>\n",
       "<tr>\n",
       "  <th>Covariance Type:</th>      <td>nonrobust</td>    <th>                     </th>     <td> </td>   \n",
       "</tr>\n",
       "</table>\n",
       "<table class=\"simpletable\">\n",
       "<tr>\n",
       "      <td></td>         <th>coef</th>     <th>std err</th>      <th>t</th>      <th>P>|t|</th>  <th>[0.025</th>    <th>0.975]</th>  \n",
       "</tr>\n",
       "<tr>\n",
       "  <th>Intercept</th> <td>    4.5509</td> <td>    0.757</td> <td>    6.015</td> <td> 0.000</td> <td>    3.066</td> <td>    6.036</td>\n",
       "</tr>\n",
       "<tr>\n",
       "  <th>x1</th>        <td>    5.8722</td> <td>    0.972</td> <td>    6.042</td> <td> 0.000</td> <td>    3.965</td> <td>    7.780</td>\n",
       "</tr>\n",
       "<tr>\n",
       "  <th>x2</th>        <td>   -0.9131</td> <td>    0.622</td> <td>   -1.469</td> <td> 0.142</td> <td>   -2.133</td> <td>    0.307</td>\n",
       "</tr>\n",
       "</table>\n",
       "<table class=\"simpletable\">\n",
       "<tr>\n",
       "  <th>Omnibus:</th>       <td>561.737</td> <th>  Durbin-Watson:     </th> <td>   1.612</td>\n",
       "</tr>\n",
       "<tr>\n",
       "  <th>Prob(Omnibus):</th> <td> 0.000</td>  <th>  Jarque-Bera (JB):  </th> <td>5734.453</td>\n",
       "</tr>\n",
       "<tr>\n",
       "  <th>Skew:</th>          <td> 2.707</td>  <th>  Prob(JB):          </th> <td>    0.00</td>\n",
       "</tr>\n",
       "<tr>\n",
       "  <th>Kurtosis:</th>      <td>14.035</td>  <th>  Cond. No.          </th> <td>    3.89</td>\n",
       "</tr>\n",
       "</table><br/><br/>Notes:<br/>[1] Standard Errors assume that the covariance matrix of the errors is correctly specified."
      ],
      "text/plain": [
       "<class 'statsmodels.iolib.summary.Summary'>\n",
       "\"\"\"\n",
       "                            OLS Regression Results                            \n",
       "==============================================================================\n",
       "Dep. Variable:               Rainfall   R-squared:                       0.050\n",
       "Model:                            OLS   Adj. R-squared:                  0.047\n",
       "Method:                 Least Squares   F-statistic:                     23.66\n",
       "Date:                Sat, 30 Apr 2022   Prob (F-statistic):           9.63e-11\n",
       "Time:                        14:24:16   Log-Likelihood:                -3510.6\n",
       "No. Observations:                 911   AIC:                             7027.\n",
       "Df Residuals:                     908   BIC:                             7042.\n",
       "Df Model:                           2                                         \n",
       "Covariance Type:            nonrobust                                         \n",
       "==============================================================================\n",
       "                 coef    std err          t      P>|t|      [0.025      0.975]\n",
       "------------------------------------------------------------------------------\n",
       "Intercept      4.5509      0.757      6.015      0.000       3.066       6.036\n",
       "x1             5.8722      0.972      6.042      0.000       3.965       7.780\n",
       "x2            -0.9131      0.622     -1.469      0.142      -2.133       0.307\n",
       "==============================================================================\n",
       "Omnibus:                      561.737   Durbin-Watson:                   1.612\n",
       "Prob(Omnibus):                  0.000   Jarque-Bera (JB):             5734.453\n",
       "Skew:                           2.707   Prob(JB):                         0.00\n",
       "Kurtosis:                      14.035   Cond. No.                         3.89\n",
       "==============================================================================\n",
       "\n",
       "Notes:\n",
       "[1] Standard Errors assume that the covariance matrix of the errors is correctly specified.\n",
       "\"\"\""
      ]
     },
     "execution_count": 19,
     "metadata": {},
     "output_type": "execute_result"
    }
   ],
   "source": [
    "import statsmodels.formula.api as smf\n",
    "\n",
    "model = smf.ols(formula=\"Rainfall ~  + x1 + x2\", data=data).fit()\n",
    "\n",
    "model.summary()"
   ]
  },
  {
   "cell_type": "markdown",
   "id": "88de1a78-daa9-45dc-84b3-ab929534621d",
   "metadata": {},
   "source": [
    "### Solution 1 - DONE"
   ]
  },
  {
   "cell_type": "markdown",
   "id": "a7343c68",
   "metadata": {},
   "source": [
    "2) We would like to test whether future data follows a similar distribution to past data. Consider two datasets modeled by\n",
    "$$\n",
    "\\begin{equation}\n",
    "y = Z \\beta + \\epsilon,\\qquad y_{new} = Z_{new} \\beta + \\epsilon_{new}\n",
    "\\label{eq:model} \\tag{2}\n",
    "\\end{equation}\n",
    "$$\n",
    "where $Z \\in \\reals^{m\\times p}$ and $Z_{new} \\in \\reals^{n\\times p}$ are the given design matrices which both assume to have rank $p$. We also assume that $\\epsilon$ and $\\epsilon_{new}$ are independent. We will think of $(Z, y)$ as the initial data pair and $(Z_{new},y_{new})$ as the new data.\n",
    "\n",
    "Let $\\hat{\\beta} = (Z \\top Z)^{-1}Z^\\top y$ be the usual least-squares (LS) estimate on the initial data. Define the predicted values as\n",
    " $$\n",
    " \\hat{y}_{new} := Z_{new} \\hat{\\beta}\n",
    " $$\n",
    " (note that $\\hat{y}_{new}$ is not the LS estiamte of $y_{new}$ from $Z_{new}$)\n",
    " "
   ]
  },
  {
   "cell_type": "markdown",
   "id": "f36d8718-4b0c-4137-8b7d-024e413e26a3",
   "metadata": {},
   "source": [
    " - Show that $\\mathrm{Cov}(y-\\hat{y},y_{new} - \\hat{y}_{new})=0$\n",
    " "
   ]
  },
  {
   "cell_type": "markdown",
   "id": "0644a63a-0814-4c39-9667-f1c72883842a",
   "metadata": {},
   "source": [
    "#### Answer\n",
    "</br>\n",
    "\n",
    "We know that \n",
    "$$\n",
    "\\begin{align*}\n",
    "\\mathrm{Cov}(y-\\hat{y}, y_{new} - \\hat{y}_{new}) & =\n",
    "\\mathrm{Cov}(\\hat{\\epsilon}, Z_{new} \\beta + \\epsilon_{new} - Z_{new}\\hat{\\beta}) \\\\\n",
    "& = \\mathrm{Cov}(\\hat{\\epsilon}, \\epsilon_{new} ) - \\mathrm{Cov}(\\hat{\\epsilon}, Z_{new} \\hat{\\beta} )\n",
    "\\end{align*} \n",
    "$$\n",
    "\n",
    "(where the last transition is beacuse that only $\\hat{\\beta}$, $\\epsilon_{new}$, and $\\hat{\\epsilon}$ are random variable)\n",
    " <br>\n",
    " \n",
    "$$\n",
    "=\n",
    "\\mathrm(\\hat{\\epsilon}, \\epsilon_{new}) - \\mathrm(\\hat{\\epsilon}, \\hat{\\beta}) Z_{new}^T\n",
    "$$\n",
    "\n",
    "note that $\\hat{\\epsilon}$, $\\hat{\\beta}$, are indepndent, so their covariance is 0.  \n",
    "\n",
    "-->\n",
    "\n",
    "$$\n",
    "=\n",
    "\\begin{align*}\n",
    "\\mathrm(\\hat{\\epsilon}, \\epsilon_{new}) - \\mathrm(\\hat{\\epsilon}, \\hat{\\beta}) Z_{new}^T = \\mathrm(\\hat{\\epsilon}, \\epsilon_{new}) - 0 = \\mathrm{Cov}(Z \\beta + \\epsilon - Z \\hat{\\beta}, \\epsilon_{new})\n",
    "\\end{align*} \n",
    "$$\n",
    "Again, $Z \\beta$ is not an RV, so:\n",
    "\n",
    "$$\n",
    "=\n",
    "cov(\\epsilon, \\epsilon_{new}) - cov(Z \\hat{\\beta}, \\epsilon_{new}) \n",
    "=\n",
    "cov(\\epsilon, \\epsilon_{new}) - Z \\cdot cov(\\hat{\\beta}, \\epsilon_{new}) \n",
    "$$\n",
    "\n",
    "We know that $\\epsilon$, $\\epsilon_{new}$, are indepndent, so their covariance is 0.  \n",
    "-->\n",
    "\n",
    "$$\n",
    "=\n",
    "-Z cov(\\hat{\\beta}, \\epsilon_{new}) \n",
    "=\n",
    "-Z cov((Z^t Z)^{-1} Z^T \\cdot y, \\epsilon_{new})\n",
    "=\n",
    "[-Z (Z^t Z)^{-1} Z^T] \\cdot cov(y, \\epsilon_{new})\n",
    "=\n",
    "[-Z (Z^t Z)^{-1} Z^T] \\cdot cov(Z \\beta + \\epsilon, \\epsilon_{new})\n",
    "$$\n",
    "\n",
    "\n",
    "Again, $Z \\beta$ is not an RV, so:\n",
    "\n",
    "$$\n",
    "cov(y - \\hat{y}, y_{new} - \\hat{y}_{new})\n",
    "=\n",
    "[-Z (Z^t Z)^{-1} Z^T] \\cdot cov(\\epsilon, \\epsilon_{new})\n",
    "$$\n",
    "\n",
    "We know that $\\epsilon$, $\\epsilon_{new}$, are indepndent, so their covariance is 0.  \n",
    "-->\n",
    "\n",
    "$$\n",
    "cov(y - \\hat{y}, y_{new} - \\hat{y}_{new}) = 0\n",
    "$$\n",
    "\n",
    "DONE.\n",
    "<br>\n",
    "<br>\n",
    "<br>\n",
    "<br>"
   ]
  },
  {
   "cell_type": "markdown",
   "id": "8aaa93b4-02aa-4156-8ba1-97611c180f63",
   "metadata": {},
   "source": [
    " - Assume $\\epsilon_{new} \\sim \\Ncal(0,\\sigma^2 I_n)$. Find a (symmetric, positive definite) matrix $M \\in \\reals^{n \\times n}$ so that\n",
    " $$\n",
    " M(y_{new} - \\hat{y}_{new}) \\sim \\Ncal(0, \\sigma^2 I_n).\n",
    " $$\n",
    " "
   ]
  },
  {
   "cell_type": "markdown",
   "id": "91cf709a-7ee8-400c-83aa-3a8ef0dbe914",
   "metadata": {
    "tags": []
   },
   "source": [
    "#### Answer\n",
    "</br>\n",
    "\n",
    "\n",
    "$$\n",
    "y_{new} - \\hat{y}_{new}\n",
    "=\n",
    "Z_{new} \\beta + \\epsilon_{new} - Z_{new} \\hat{\\beta}\n",
    "$$\n",
    "\n",
    "Also, we know that: \n",
    "$$\n",
    "\\hat{\\beta} \\sim \\Ncal(\\beta, \\sigma^2 (Z^t Z)^{-1})\n",
    "$$  \n",
    "-->\n",
    "\n",
    "$$\n",
    "Z_{new} \\hat{\\beta} \\sim \\Ncal(Z_{new} \\beta, Z_{new} \\sigma^2 (Z^t Z)^{-1} Z_{new}^T)\n",
    "$$  \n",
    "\n",
    "Also, we know that: \n",
    "$$\n",
    "\\epsilon_{new} \\sim \\Ncal(0, \\sigma^2 I)\n",
    "$$\n",
    "And that:\n",
    "$$\n",
    "cov(\\epsilon_{new}, \\hat{\\beta}) = 0\n",
    "$$  \n",
    "\n",
    "Hence -->\n",
    "\n",
    "$$\n",
    "y_{new} - \\hat{y}_{new}\n",
    "\\sim\n",
    "\\Ncal(0, \\sigma^2 (I - Z_{new} (Z^t Z)^{-1} Z_{new}^T))\n",
    "$$\n",
    "\n",
    "-->\n",
    "\n",
    "$$\n",
    "M(y_{new} - \\hat{y}_{new})\n",
    "\\sim\n",
    "\\Ncal(0, \\sigma^2 M (I - Z_{new} (Z^t Z)^{-1} Z_{new}^T) M^T)\n",
    "$$\n",
    "\n",
    "-->\n",
    "\n",
    "$$\n",
    "\\sigma^2 M (I - Z_{new} (Z^t Z)^{-1} Z_{new}^T) M^T = \\sigma^2 I\n",
    "$$  \n",
    "\n",
    "-->\n",
    "\n",
    "$$\n",
    "M (I - Z_{new} (Z^t Z)^{-1} Z_{new}^T) M^T = I\n",
    "$$  \n",
    "\n",
    "Define\n",
    "$$\n",
    "R = I - Z_{new} (Z^t Z)^{-1} Z_{new}^T\n",
    "$$\n",
    "\n",
    "Finally,\n",
    "\n",
    "$$\n",
    "M \\cdot R \\cdot M^T = I\n",
    "$$\n",
    "\n",
    "DONE.\n",
    "<br>\n",
    "<br>\n",
    "<br>\n",
    "<br>"
   ]
  },
  {
   "cell_type": "markdown",
   "id": "911dac9d-2dd0-411c-bad0-1ef66fad1fd8",
   "metadata": {},
   "source": [
    "- Give the distribution of the ratio\n",
    "$$\n",
    "\\begin{equation}\n",
    "A:= \\frac{\\frac{1}{n}\\left\\| M(Y_{new} - \\hat{Y}_{new})\\right\\|^2}{\\frac{1}{m-d} \\left\\| Y  - \\hat{Y} \\right\\|^2 }\n",
    "\\label{eq:A} \\tag{3}\n",
    "\\end{equation}\n",
    "$$\n",
    "under the null hypothesis:\n",
    "$$\n",
    "H_0\\,:\\,\\begin{cases} Y = Z \\beta + \\epsilon,\\qquad Y_{new} = Z_{new} \\beta + \\epsilon_{new} \\\\\n",
    "\\epsilon \\sim \\Ncal(0, \\sigma^2 I_m),\\qquad \\epsilon_{new} \\sim \\Ncal(0, \\sigma^2 I_n) \\\\\n",
    "\\text{$\\epsilon$ and $\\epsilon_{new}$ are independent}\n",
    "\\end{cases}\n",
    "$$\n"
   ]
  },
  {
   "cell_type": "markdown",
   "id": "bd8c3af9-9f3a-4aee-9875-93ce4c7e000e",
   "metadata": {
    "tags": []
   },
   "source": [
    "#### Answer\n",
    "\n",
    "$$\n",
    "\\left\\| M(Y_{new} - \\hat{Y}_{new})\\right\\|^2\n",
    "$$\n",
    "is a sum of squares of normal RVs (from the last sections).  \n",
    "-->\n",
    "It's distributed with a $\\chi^2$ distribution.\n",
    "\n",
    "$$\n",
    "\\left\\| Y  - \\hat{Y} \\right\\|^2\n",
    "$$ Are simply $\\hat{\\epsilon}$, which we know are normal RVs. \n",
    "\n",
    "So, same here\n",
    "-->\n",
    "\n",
    "It's distributed with a $\\chi^2$ distribution.\n",
    "\n",
    "To conclude,\n",
    "-->\n",
    "$$\n",
    "A \\sim F(n, m-d)\n",
    "$$\n",
    "\n",
    "<br>\n",
    "<br>\n",
    "<br>\n",
    "<br>"
   ]
  },
  {
   "cell_type": "markdown",
   "id": "922c1063-5cb7-4f3a-9dfe-2309e0549eca",
   "metadata": {},
   "source": [
    "We now consider implementing a series of hypothesis tests about whether daily rainfall is remaining consistent over the years or whether it is changing in some meaningful way. "
   ]
  },
  {
   "cell_type": "markdown",
   "id": "342bf275-91a6-401d-9483-be8b8778ea06",
   "metadata": {},
   "source": [
    "- For each of the years 2010, 2011,...,2021, repeat the following. Define a data matrix $Z$ using the features in $\\eqref{eq:model}$ consisting of all dates prior to that year (so that for 2010, $Z$ will be\n",
    "a data matrix for the years 2005–2009, for 2011, $Z$ will be the data for years 2005-2011, and\n",
    "so on). Define the responses $y$ to consist of rainfall for the given years. Define the new data matrix $Z_{new} \\in \\reals^{n \\times p}$ to consist of the $n$ days of measurements in the given year ($n\\leq 366$) and the responses $y_{new}$ to be the rainfall in those days. For this data, compute the statistic $A$ in $\\eqref{eq:A}$ and its p-value, that is, conditional on\n",
    "$A = a$, report\n",
    "$$\n",
    "p := \\Pr[A \\geq a] \\quad \\text{under $H_0$}\n",
    "$$"
   ]
  },
  {
   "cell_type": "markdown",
   "id": "b932a2b2-6a13-4cde-bf29-441f18668519",
   "metadata": {},
   "source": [
    "#### Answer\n",
    "</br>\n"
   ]
  },
  {
   "cell_type": "markdown",
   "id": "a992e60b-c000-4821-82ac-013f983a0379",
   "metadata": {},
   "source": [
    "We'll first define helper functions:"
   ]
  },
  {
   "cell_type": "code",
   "execution_count": 42,
   "id": "b702e7b9-6cdf-45e4-93dc-510e1e4672e2",
   "metadata": {},
   "outputs": [
    {
     "name": "stdout",
     "output_type": "stream",
     "text": [
      " For Year = 2010, A statistic = 1.0865, and p-value = 0.3462\n",
      "\n",
      " For Year = 2011, A statistic = 0.9098, and p-value = 0.6740\n",
      "\n",
      " For Year = 2012, A statistic = 0.7333, and p-value = 0.9352\n",
      "\n",
      " For Year = 2013, A statistic = 1.7546, and p-value = 0.0024\n",
      "\n",
      " For Year = 2014, A statistic = 0.9294, and p-value = 0.6002\n",
      "\n",
      " For Year = 2015, A statistic = 0.9122, and p-value = 0.6708\n",
      "\n",
      " For Year = 2016, A statistic = 0.9938, and p-value = 0.4895\n",
      "\n",
      " For Year = 2017, A statistic = 0.4410, and p-value = 0.9985\n",
      "\n",
      " For Year = 2018, A statistic = 1.7328, and p-value = 0.0006\n",
      "\n",
      " For Year = 2019, A statistic = 0.4994, and p-value = 0.9995\n",
      "\n",
      " For Year = 2020, A statistic = 2.9155, and p-value = 0.0000\n",
      "\n",
      " For Year = 2021, A statistic = 2.1947, and p-value = 0.0000\n",
      "\n"
     ]
    }
   ],
   "source": [
    "import scipy\n",
    "\n",
    "\n",
    "\n",
    "def get_M(Z, Z_new):    \n",
    "    n = len(Z_new)\n",
    "    I = np.identity(n)\n",
    "        \n",
    "    R = I - Z_new @ np.linalg.inv(Z.T @ Z) @ Z_new.T\n",
    "    R_inv = np.linalg.inv(R)\n",
    "        \n",
    "    M = scipy.linalg.solve_continuous_are(a=np.zeros_like(I), b=I, r=R_inv, q=I)\n",
    "    \n",
    "    return M\n",
    "\n",
    "def get_A_statistic(M, y, y_hat, y_new, y_new_hat):\n",
    "    n = len(Z_new)\n",
    "    m, p = Z.shape\n",
    "    \n",
    "    num = (1/n) * np.inner(M @ (y_new - y_new_hat), M @ (y_new - y_new_hat))\n",
    "    denom = (1 / (m-p)) * np.inner(y - y_hat, y - y_hat)\n",
    "    \n",
    "    A_statistic = num / denom\n",
    "    \n",
    "    return A_statistic\n",
    "\n",
    "\n",
    "\n",
    "# main loop\n",
    "p_values = list()\n",
    "\n",
    "for year in range(2010, 2022):\n",
    "    prior_data = data[data[\"Year\"] < year]  # the question has a mistake... the 2 examples of years are different, I chose it to be < year, not <= year.\n",
    "    y = prior_data['Rainfall'].values\n",
    "    Z = np.column_stack(\n",
    "        (np.ones_like(y),\n",
    "        prior_data[\"x1\"].values,\n",
    "        prior_data[\"x2\"].values)\n",
    "    )\n",
    "\n",
    "    # get beta hat\n",
    "    A = np.dot(np.linalg.inv(np.dot(Z.T, Z)), Z.T)\n",
    "    beta_hat = np.dot(A, y)\n",
    "\n",
    "    y_hat = Z @ beta_hat\n",
    "\n",
    "    year_data = data[data[\"Year\"] == year]\n",
    "    y_new = year_data['Rainfall'].values\n",
    "    Z_new = np.column_stack(\n",
    "        (np.ones_like(y_new),\n",
    "        year_data[\"x1\"].values,\n",
    "        year_data[\"x2\"].values)\n",
    "    )\n",
    "    y_new_hat = Z_new @ beta_hat  # use the beta hat that was previously calculated\n",
    "\n",
    "    M = get_M(Z, Z_new)\n",
    "\n",
    "    A_stat = get_A_statistic(M, y, y_hat, y_new, y_new_hat)  # aka f statistic\n",
    "\n",
    "    n = len(Z_new)\n",
    "    m, p = Z.shape\n",
    "    p_value = scipy.stats.f.sf(A_stat, n, m-p)\n",
    "    \n",
    "    p_values.append(p_value)\n",
    "\n",
    "    print(f\" For Year = {year}, A statistic = {A_stat:.4f}, and p-value = {p_value:.4f}\\n\")\n",
    "\n"
   ]
  },
  {
   "cell_type": "markdown",
   "id": "2326ef56-1161-4ef5-8e58-8163cf4fe837",
   "metadata": {},
   "source": [
    "\n",
    "Plot the P-values for each of the years and also print their values. Discuss briefly. "
   ]
  },
  {
   "cell_type": "code",
   "execution_count": 43,
   "id": "201c42da-2346-4789-9b14-ef1f93acb3a5",
   "metadata": {},
   "outputs": [
    {
     "data": {
      "image/png": "[encoded data removed]",
      "text/plain": [
       "<Figure size 1080x720 with 1 Axes>"
      ]
     },
     "metadata": {},
     "output_type": "display_data"
    }
   ],
   "source": [
    "# plot\n",
    "\n",
    "years_list = list(range(2010, 2022))\n",
    "\n",
    "plt.rcParams['figure.figsize'] =  [15, 10]\n",
    "f, ax = plt.subplots(1, 1)\n",
    "\n",
    "plt.scatter(years_list, p_values)\n",
    "plt.xticks(years_list)\n",
    "plt.title(\"P-value by Year\".title())\n",
    "\n",
    "plt.show()"
   ]
  },
  {
   "cell_type": "markdown",
   "id": "11cc402f-0142-4261-8f5f-1e1c07040eba",
   "metadata": {},
   "source": [
    "It seems that most of the p-values are not significant. However, there are some years with a very significant p-value (< 0.001) - 4 years to be exact.\n",
    "SO - if we'll take each test seperately, with alpha = 0.05, we'll reject the null hypothisis for years 2013, 2018, 2020, 2021.\n",
    "The p-values over time doesn't seem to have some kind of pattern to it.\n",
    "<br>\n",
    "<br>\n"
   ]
  },
  {
   "cell_type": "markdown",
   "id": "2b49fc83-ed05-4175-8873-b7103eed202a",
   "metadata": {},
   "source": [
    "- Suppose that you obtained a very small p-value of some year, say $p \\approx 10^{-5}$. Does rejecting the null hypothesis necessarily mean that the distribution of rainfall is changing over time? explain in 2-3 sentences. "
   ]
  },
  {
   "cell_type": "markdown",
   "id": "0da33e43-95fe-4f53-bf46-5593d28eeb25",
   "metadata": {
    "tags": []
   },
   "source": [
    "#### Answer"
   ]
  },
  {
   "cell_type": "markdown",
   "id": "4376cd29-957e-4c9d-98d0-d69c4d231fdd",
   "metadata": {},
   "source": [
    "NO. Let's start by pointing the definition of p-value:\n",
    "it is the probability of obtaining the observed results or even more extreme, assuming that the null hypothesis is true. (in our case: Rainfall is not changing over time).\n",
    "<br>\n",
    "So, that's enough for the answer to be negative.\n",
    "<br>\n",
    "BUT - we need to point out another fact, and that's p-hacking. When you do a lot of tests (12 in our case), then it is more likely, that some test will result in a p-value under the alpha you defined. So, there is a need to be even more careful when connducting a lot of tests. \n",
    "<br>\n",
    "There are a lot of ways to deal with them, for example, \"normlizing\" the p-values needed for rejecting the null hypothisis, or reporting an FDR value (False discovery rate).\n",
    "<br>\n",
    "<br>\n",
    "<br>\n"
   ]
  },
  {
   "cell_type": "markdown",
   "id": "47fb1005",
   "metadata": {},
   "source": [
    "3) Consider the total amount of rainfall within each month. Suppose that we assume that there is no change in the distribution over time across years, but we suspect that December is usuallly rainier than February. Design a test procedure that checks whether this is true. Use two apporaches:\n",
    " - Two-sample t-test \n",
    " - Paired t-test \n",
    " - Which approach seems more approproate here? "
   ]
  },
  {
   "cell_type": "markdown",
   "id": "b35966e1-1630-47e1-9203-c7c60fe33c6d",
   "metadata": {
    "tags": []
   },
   "source": [
    "#### Answer"
   ]
  },
  {
   "cell_type": "markdown",
   "id": "5222d17e-0521-4dda-bebe-9515d9c68fd0",
   "metadata": {},
   "source": [
    "First, we need to denote that it's not a two-sided test. We suspect that total_rainfall_december > total_rainfall_february.\n",
    "<br>\n",
    "Let's check that:"
   ]
  },
  {
   "cell_type": "markdown",
   "id": "c9e7d8db-9f8d-499e-96be-3ea208d73d91",
   "metadata": {},
   "source": [
    " - Two-sample t-test \n",
    " "
   ]
  },
  {
   "cell_type": "markdown",
   "id": "78dc7f8a-bed9-4707-9584-5f81213ce758",
   "metadata": {},
   "source": [
    "We can do it manually:"
   ]
  },
  {
   "cell_type": "code",
   "execution_count": 45,
   "id": "1711992f-38fb-486d-8087-df5f988ae654",
   "metadata": {},
   "outputs": [
    {
     "name": "stdout",
     "output_type": "stream",
     "text": [
      "In a Two-sample t-test, the t-statistic = 2.367, p-value = 0.0121, hence, we reject H0\n"
     ]
    }
   ],
   "source": [
    "from scipy.stats import t\n",
    "\n",
    "feb_data = data[data.Month == 2]\n",
    "dec_data = data[data.Month == 12]\n",
    "\n",
    "# group by year\n",
    "feb_data_grouped_summed_yearly = feb_data.groupby(\"Year\").sum().Rainfall.values\n",
    "dec_data_grouped_summed_yearly = dec_data.groupby(\"Year\").sum().Rainfall.values\n",
    "\n",
    "# calc means\n",
    "feb_total_rainfall_mean = feb_data_grouped_summed_yearly.mean()\n",
    "dec_total_rainfall_mean = dec_data_grouped_summed_yearly.mean()\n",
    "\n",
    "# calc stds\n",
    "feb_total_rainfall_std = np.std(feb_data_grouped_summed_yearly)\n",
    "dec_total_rainfall_std = np.std(dec_data_grouped_summed_yearly)\n",
    "\n",
    "# calc dof\n",
    "feb_n = len(feb_data_grouped_summed_yearly)\n",
    "dec_n = len(dec_data_grouped_summed_yearly)\n",
    "dof = feb_n + dec_n - 2\n",
    "\n",
    "# calc t-statistic\n",
    "\n",
    "s = np.sqrt(  ( ( (feb_n) * feb_total_rainfall_std**2) + ( (dec_n) * dec_total_rainfall_std**2 ) ) / dof )\n",
    "\n",
    "t_statistic = abs( (dec_total_rainfall_mean - feb_total_rainfall_mean) / ( s * np.sqrt((1/dec_n) + (1/feb_n))))\n",
    "\n",
    "# p_value\n",
    "p_val = t.sf(t_statistic, dof)\n",
    "\n",
    "\n",
    "print(f\"In a Two-sample t-test, the t-statistic = {t_statistic:.3f}, p-value = {p_val:.4f}, hence, we reject H0\")\n"
   ]
  },
  {
   "cell_type": "markdown",
   "id": "888648f0-3e3c-4e1c-aa72-684e9f7865aa",
   "metadata": {},
   "source": [
    "We can also do it with scipy.stats:"
   ]
  },
  {
   "cell_type": "code",
   "execution_count": 46,
   "id": "9d8cd858-73ca-482e-b181-58da9884cc5f",
   "metadata": {},
   "outputs": [
    {
     "name": "stdout",
     "output_type": "stream",
     "text": [
      "In a Two-sample t-test, using scipy.stats the t-statistic = 2.367, p-value = 0.0141, hence, we reject H0\n"
     ]
    }
   ],
   "source": [
    "from scipy.stats import ttest_ind as ttest\n",
    "\n",
    "t_statistic, p_val = ttest(dec_data_grouped_summed_yearly, feb_data_grouped_summed_yearly, equal_var=False, alternative=\"greater\")\n",
    "\n",
    "print(f\"In a Two-sample t-test, using scipy.stats the t-statistic = {t_statistic:.3f}, p-value = {p_val:.4f}, hence, we reject H0\")\n"
   ]
  },
  {
   "cell_type": "markdown",
   "id": "1490331e-a3cf-40b3-820e-ddb48629bd7a",
   "metadata": {},
   "source": [
    " - Paired t-test \n",
    " "
   ]
  },
  {
   "cell_type": "code",
   "execution_count": 47,
   "id": "2d122af1-ae01-4821-9650-64ab70ad2402",
   "metadata": {},
   "outputs": [
    {
     "name": "stdout",
     "output_type": "stream",
     "text": [
      "In a paired t-test, using scipy.stats the t-statistic = 2.138, p-value = 0.0241, hence, we reject H0\n"
     ]
    }
   ],
   "source": [
    "from scipy.stats import ttest_rel as ttest_paired\n",
    "\n",
    "\n",
    "t_statistic, p_val = ttest_paired(dec_data_grouped_summed_yearly, feb_data_grouped_summed_yearly, alternative=\"greater\")\n",
    "\n",
    "print(f\"In a paired t-test, using scipy.stats the t-statistic = {t_statistic:.3f}, p-value = {p_val:.4f}, hence, we reject H0\")"
   ]
  },
  {
   "cell_type": "markdown",
   "id": "4cda602c-2bc8-465e-ab0c-b04c59ea38e8",
   "metadata": {},
   "source": [
    " - Which approach seems more approproate here? "
   ]
  },
  {
   "cell_type": "markdown",
   "id": "99fa113f-daf0-450a-9d23-5b9fa156d751",
   "metadata": {},
   "source": [
    "In general, paired t test is more powerfull, because we use more information that we have. The main upside of it comes from the fact that the samples each year might be dependant some how (for example, one year was extra rainy); In that case, a paired t-test is a stronger choice. On the other hand, most of the years wasn't significantly different than the one fore them, so it shouldn't be much of a difference between the 2 test types (there is, a small one though of 0.01 in the p-value). To conclude: I'd use a paired t-test, because I don't see a downside for it."
   ]
  }
 ],
 "metadata": {
  "kernelspec": {
   "display_name": "Python 3 (ipykernel)",
   "language": "python",
   "name": "python3"
  },
  "language_info": {
   "codemirror_mode": {
    "name": "ipython",
    "version": 3
   },
   "file_extension": ".py",
   "mimetype": "text/x-python",
   "name": "python",
   "nbconvert_exporter": "python",
   "pygments_lexer": "ipython3",
   "version": "3.8.5"
  }
 },
 "nbformat": 4,
 "nbformat_minor": 5
}
