{
 "cells": [
  {
   "cell_type": "markdown",
   "id": "9c7c2837",
   "metadata": {
    "tags": []
   },
   "source": [
    "#### Advanced Statistics for Data Science (Spring 2022)\n",
    "# Home Assignment 3\n",
    "#### Topics:\n",
    "- Statistical Estimation\n",
    "- Hypothesis Testing in one and two samples\n",
    "\n",
    "#### Due: 25/04/2022 by 18:30\n",
    "\n",
    "#### Instructions:\n",
    "- Write your name, Student ID, and date in the cell below. \n",
    "- Submit a copy of this notebook with code filled in the relevant places as the solution of coding excercises.\n",
    "- For theoretic excercises, you can either write your solution in the notebook using $\\LaTeX$ or submit additional notes.\n",
    "\n",
    "<hr>\n",
    "<hr>"
   ]
  },
  {
   "cell_type": "markdown",
   "id": "972793a2",
   "metadata": {},
   "source": [
    "\n",
    "**Name**: \n",
    "\n",
    "**Student ID**:\n",
    "\n",
    "**Date**:\n",
    "\n",
    "$\n",
    "\\newcommand{\\Id}{{\\mathbf{I}}}  \n",
    "\\newcommand{\\SSE}{\\mathsf{SSE}}\n",
    "\\newcommand{\\SSR}{\\mathsf{SSR}}\n",
    "\\newcommand{\\MSE}{\\mathsf{MSE}}\n",
    "\\newcommand{\\simiid}{\\overset{iid}{\\sim}}\n",
    "\\newcommand{\\ex}{\\mathbb E}\n",
    "\\newcommand{\\var}{\\mathrm{Var}}\n",
    "\\newcommand{\\Cov}[2]{{\\mathrm{Cov}  \\left(#1, #2 \\right)}}\n",
    "\\newcommand{\\one}[1]{\\mathbf 1 {\\left\\{#1\\right\\}}}\n",
    "\\newcommand{\\SE}[1]{\\mathrm{SE} \\left[#1\\right]}\n",
    "\\newcommand{\\reals}{\\mathbb R}\n",
    "\\newcommand{\\Ncal}{\\mathcal N}\n",
    "\\newcommand{\\abs}[1]{\\ensuremath{\\left\\vert#1\\right\\vert}}\n",
    "\\newcommand{\\rank}{\\operatorname{rank}}\n",
    "\\newcommand{\\tr}{\\operatorname{Tr}}\n",
    "\\newcommand{\\diag}{\\operatorname{diag}}\n",
    "\\newcommand{\\sign}{\\operatorname{sign}}\n",
    "$\n"
   ]
  },
  {
   "cell_type": "markdown",
   "id": "e50517ab",
   "metadata": {},
   "source": [
    "<hr>\n",
    "<hr>"
   ]
  },
  {
   "cell_type": "markdown",
   "id": "93acbbf2",
   "metadata": {
    "tags": []
   },
   "source": [
    "## Problem 1 (Variance Estimation)\n",
    "\n",
    "Consider the variance estimate\n",
    "$$\n",
    "s^2 = \\frac{1}{n-1} \\sum_{i=1}^n(y_i - \\bar{y})^2. \n",
    "$$\n",
    "If $Y_i \\simiid \\Ncal(\\mu,\\sigma^2)$, then \n",
    "$$\n",
    "\\frac{n-1}{\\sigma^2}s^2 \\sim \\chi^2_{n-1}.\n",
    "$$\n",
    "1. Use this information to derive a $1-\\alpha$ coinfidence interval for $\\sigma^2$ (express $L$ and $U$ in terms of $s^2$, $n$, and the relevant quantiles of the $\\chi^2$ distribution). \n",
    "2. For $n = 2,\\ldots,10$ and $\\alpha=0.05$, report on the lower ($L$) and upper ($U$) values of the coinfidence interval in terms of $s^2$. \n",
    "3. How large $n$ must be to obtain a $0.95$ coinfidence interval of size $0.1s^2$? \n",
    "\n",
    "The point: the number of degrees of freedom needed for a reasonable ($10\\%$ range) estimate of the variance can be very large. Sometimes, much larger than our data permit.\n",
    "\n",
    "\n"
   ]
  },
  {
   "cell_type": "markdown",
   "id": "ecfef8a1-73af-40a7-a88e-c0833da2c22a",
   "metadata": {},
   "source": [
    "## Solution"
   ]
  },
  {
   "cell_type": "markdown",
   "id": "299679d5-f08c-483e-a111-603f5bb0c3ac",
   "metadata": {
    "tags": []
   },
   "source": [
    "### Solution 1"
   ]
  },
  {
   "cell_type": "markdown",
   "id": "e91f5c6c-ba5e-4b95-9940-5b0b775c1215",
   "metadata": {},
   "source": [
    "We are given that $$\\frac{n-1}{\\sigma^2}s^2 \\sim \\chi^2_{n-1} $$\n",
    "--> $$ [\\chi^2_{n-1}]^{\\frac{\\alpha}{2}} < \\frac{n-1}{\\sigma^2}s^2 < [\\chi^2_{n-1}]^{1-\\frac{\\alpha}{2}}$$\n",
    "--> $$ [\\chi^2_{n-1}]^{1-\\frac{\\alpha}{2}} s^2 < \\sigma^2 < \\frac{n-1}{[\\chi^2_{n-1}]^{\\frac{\\alpha}{2}}} s^2 $$\n",
    "</br>\n",
    "--> $$ L = \\frac{n-1}{[\\chi^2_{n-1}]^{1-\\frac{\\alpha}{2}}} s^2 $$\n",
    "--> $$ U = \\frac{n-1}{[\\chi^2_{n-1}]^{\\frac{\\alpha}{2}}} s^2 $$\n",
    "\n",
    "DONE."
   ]
  },
  {
   "cell_type": "markdown",
   "id": "05bb7261-10b9-4414-a1c5-65fee53cb3fb",
   "metadata": {
    "tags": []
   },
   "source": [
    "### Solution 2"
   ]
  },
  {
   "cell_type": "code",
   "execution_count": 350,
   "id": "553a3f76-debb-4697-accd-2a587225a26c",
   "metadata": {},
   "outputs": [],
   "source": [
    "import numpy as np\n",
    "import pandas as pd\n",
    "import scipy.stats as st\n",
    "import statsmodels as sm\n",
    "import math\n",
    "import matplotlib.pyplot as plt\n",
    "import seaborn as sns\n",
    "\n",
    "plt.style.use('seaborn')\n",
    "sns.set(style=\"darkgrid\")\n",
    "sns.set(font_scale=1.5)"
   ]
  },
  {
   "cell_type": "code",
   "execution_count": 289,
   "id": "edef09a9-caf3-4347-8ae1-2ac2debbe778",
   "metadata": {},
   "outputs": [],
   "source": [
    "ALPHA = 0.05\n",
    "\n",
    "def get_c_i(n, alpha=ALPHA, to_print=True):\n",
    "    num = n - 1  \n",
    "    dof = n - 1\n",
    "    L = num / st.chi2.ppf(1 - alpha/2, dof)\n",
    "    U = num / st.chi2.ppf(alpha/2, dof)\n",
    "    if to_print:\n",
    "        print(f\"For n = {n}: L =    {L:.3f} * s^2,    U = {U:.3f} * s^2\")\n",
    "    \n",
    "    return L, U\n"
   ]
  },
  {
   "cell_type": "code",
   "execution_count": 290,
   "id": "70699b9c-2e35-4c65-9dd4-d85bd8fd5a13",
   "metadata": {},
   "outputs": [
    {
     "name": "stdout",
     "output_type": "stream",
     "text": [
      "For n = 2: L =    0.199 * s^2,    U = 1018.258 * s^2\n",
      "For n = 3: L =    0.271 * s^2,    U = 39.498 * s^2\n",
      "For n = 4: L =    0.321 * s^2,    U = 13.902 * s^2\n",
      "For n = 5: L =    0.359 * s^2,    U = 8.257 * s^2\n",
      "For n = 6: L =    0.390 * s^2,    U = 6.015 * s^2\n",
      "For n = 7: L =    0.415 * s^2,    U = 4.849 * s^2\n",
      "For n = 8: L =    0.437 * s^2,    U = 4.142 * s^2\n",
      "For n = 9: L =    0.456 * s^2,    U = 3.670 * s^2\n",
      "For n = 10: L =    0.473 * s^2,    U = 3.333 * s^2\n"
     ]
    }
   ],
   "source": [
    "for n in range(2, 11):\n",
    "    get_c_i(n)"
   ]
  },
  {
   "cell_type": "markdown",
   "id": "0d896f82-47ef-4679-b658-cb0e8c2933ad",
   "metadata": {
    "tags": []
   },
   "source": [
    "### Solution 3"
   ]
  },
  {
   "cell_type": "code",
   "execution_count": 292,
   "id": "3fe5058b-0286-48f6-8010-3de34c7f38e8",
   "metadata": {},
   "outputs": [
    {
     "name": "stdout",
     "output_type": "stream",
     "text": [
      "For a CI with size 0.1 * s^2, n should be >= 3082\n"
     ]
    }
   ],
   "source": [
    "\n",
    "for n in range(2, 100000):\n",
    "    L, U = get_c_i(n, to_print=False)  # this is in terms of S^2\n",
    "    \n",
    "    if U - L <= 0.1:\n",
    "        print(f\"For a CI with size 0.1 * s^2, n should be >= {n}\")\n",
    "        break\n",
    "        "
   ]
  },
  {
   "cell_type": "markdown",
   "id": "f1e3f051",
   "metadata": {
    "tags": []
   },
   "source": [
    "## Problem 2 (Correlated Data)\n",
    "\n",
    "Suppose that $Y_1,\\ldots,Y_n$ has each mean $\\mu$ and variance $\\sigma^2$, but \n",
    "$$\n",
    "\\rho_{ij} := \\mathrm{Corr}(Y_i,Y_j) = \\begin{cases}\n",
    "1 & i=j \\\\\n",
    "\\rho & |i-j| = 1 \\\\\n",
    "0 & |i-j| > 1\n",
    "\\end{cases}.\n",
    "$$\n",
    "This situation arise when an observation $i$ may depend to some extent on only the previous observation’s white noise: an one-lag \"holdeover effect\". This is also known as the \"lag-1 moving average\" model (MA(1)). \n",
    "\n",
    "1. Show that:\n",
    "  - $$\\mathrm{Var}(\\bar{Y}) = \\frac{\\sigma^2}{n}(1+ 2\\rho \\frac{n-1}{n})$$\n",
    "Namely, positive correlation increases varaince. Hint: use that $\\mathrm{Var}(U+V) = \\mathrm{Var}(U) + \\mathrm{Var}(V) + 2 \\mathrm{Cov}(U,V)$ and induction or recursive computation over $n$. Another option is to write $Y = \\Sigma^{1/2}Z$ where $Z\\sim \\Ncal(0,I)$ and $\\Sigma^{1/2}$ is symmetric with  $\\Sigma^{1/2}\\Sigma^{1/2} = \\Sigma$ has the desired covariance stracture.  \n",
    "\n",
    "  - $$\\qquad \\ex[{s^2}] = \\sigma^2(1 - 2\\rho/n)$$\n",
    "  where $s^2$ is the standard varince estiamte. \n",
    "Namely, with positive correlation the \"variety\" in the data is smaller. \n",
    "\n",
    "  - **(Bonus)** The t-statistic statisfies\n",
    "$$\n",
    "t = \\sqrt{n} \\frac{\\bar{Y}-\\mu}{s} \\to \\Ncal(0,1 + 2 \\rho),\\quad n \\to \\infty\n",
    "$$\n",
    "Hint: you may use the following version of Slutsky's Theorem: for two sequences of RV U_n and V_n, if $U_n \\overset{D}{\\to} U$ and $V_n \\overset{p}{\\to} c$ (constant), then $ V_n U_n \\overset{D}{\\to} cU$\n",
    "2. Verify your answer to the first two items in 1 using simulations. Use `nMonte = 10000` problem instances. In each instance, use a sample size of `n = 10` with $\\sigma=1$ and $\\rho \\in \\{\\pm 0.1, \\pm 0.3, \\pm0.5\\}$. The function `genrate_correlated_data` below generates noramlly distributed data satisfying the correlation model above. \n",
    "\n",
    "3. Suppose $\\rho>0$\n",
    " - Derive a $1-\\alpha$ confidence interval based on $s$ and the $t$-distribution with $n-1$ DoF. Does your interval \n",
    " contains the value of $\\mu$ more or less often than $1-\\alpha$? Verify using a simulation with `nMonte = 10000` problem instances of sampes size `n=100`. Also use $\\alpha=0.05$, $\\rho=.25$, $\\sigma =1$, and $\\mu_0=2$. \n",
    " \n",
    " - Suppose that we reject $H_0\\,:\\,\\mu = \\mu_0$ whenever $t$ exceeds the critical value $t_{n-1}^{1-\\alpha/2}$. Would our P-value be too small or too large? Would we reject more or less often then $\\alpha$ if the null $\\mu = \\mu_0$ is true? Verify using a simulation with `nMonte = 10000` problem instances of sampes size `n=100`. Also use $\\alpha=0.05$, $\\rho=.25$, $\\sigma =1$, and $\\mu_0=2$. \n",
    " \n",
    " - Would your answer to the preivous two items change if $\\rho < 0$? how?\n",
    "\n",
    "The point: correlation in our data is bad because it makes us make wrong descisions. The effect of correlation is much worst than non-nomrality since the latter diminishes with $n$ due to the CLT. \n"
   ]
  },
  {
   "cell_type": "code",
   "execution_count": 255,
   "id": "06b05342-3920-4fc8-a6a3-0ae462222612",
   "metadata": {},
   "outputs": [
    {
     "data": {
      "text/plain": [
       "0.17750047616640202"
      ]
     },
     "execution_count": 255,
     "metadata": {},
     "output_type": "execute_result"
    }
   ],
   "source": [
    "n = 2\n",
    "\n",
    "samples2 = np.random.randn(n, ) * 2 + 0.4\n",
    "np.std(samples2) * np.sqrt(n)"
   ]
  },
  {
   "cell_type": "code",
   "execution_count": 141,
   "id": "60569626-58d2-4504-9885-624315b8740a",
   "metadata": {},
   "outputs": [
    {
     "name": "stdout",
     "output_type": "stream",
     "text": [
      "ztest: -5.659271675955328\n",
      "ttest: -5.659271675955328\n"
     ]
    }
   ],
   "source": [
    "import matplotlib.pyplot as plt\n",
    "from statsmodels.stats.weightstats import ztest\n",
    "from statsmodels.stats.weightstats import ttest_ind\n",
    "\n",
    "\n",
    "total_ztest, total_ttest = list(), list()\n",
    "\n",
    "for i in range(10000):\n",
    "    samples1 = np.random.randn(1000, ) + 0\n",
    "    samples2 = np.random.randn(1000, ) * 2 + 0\n",
    "    ztest_statistic = ztest(samples1, x2=samples2, value=0)\n",
    "    ttest_statistic = ttest_ind(samples1, x2=samples2, value=0)\n",
    "    total_ztest.append(ztest_statistic[0])  # z statistic\n",
    "    total_ttest.append(ttest_statistic[0])  # t statistic\n",
    "\n",
    "\n",
    "print(f\"ztest: {np.mean(total_ztest)}\")\n",
    "print(f\"ttest: {np.mean(total_ttest)}\")\n",
    "\n",
    "\n"
   ]
  },
  {
   "cell_type": "code",
   "execution_count": 272,
   "id": "892ce5ed-0fe5-4b3f-ad48-e6e60e5faab7",
   "metadata": {},
   "outputs": [
    {
     "data": {
      "text/plain": [
       "-0.0006772274335215957"
      ]
     },
     "execution_count": 272,
     "metadata": {},
     "output_type": "execute_result"
    }
   ],
   "source": [
    "samples1 = np.random.randn(10000 * 1000, ) + 0\n",
    "samples2 = np.random.randn(10000 * 1000, ) + 0\n",
    "\n",
    "(np.mean(samples2) - np.mean(samples1)) / np.sqrt(np.std(samples1)/len(samples1) + np.std(samples2) / len(samples1))\n",
    "(np.mean(samples2) - np.mean(samples1)) / np.std(samples1)"
   ]
  },
  {
   "cell_type": "code",
   "execution_count": 140,
   "id": "57c9eb32-b20b-42cb-96a1-48d8bb290e5d",
   "metadata": {},
   "outputs": [
    {
     "data": {
      "text/plain": [
       "(-565.1528548591299, -565.1528548591308)"
      ]
     },
     "execution_count": 140,
     "metadata": {},
     "output_type": "execute_result"
    }
   ],
   "source": [
    "samples1 = np.random.randn(10000 * 1000, ) + 0\n",
    "samples2 = np.random.randn(10000 * 1000, ) * 2 + 0.4\n",
    "\n",
    "ztest(samples1, x2=samples2, value=0)[0], ttest_ind(samples1, x2=samples2, value=0)[0]"
   ]
  },
  {
   "cell_type": "code",
   "execution_count": 131,
   "id": "c149e235-8f1a-4fbe-9438-d279af7e5886",
   "metadata": {},
   "outputs": [
    {
     "ename": "TypeError",
     "evalue": "'tuple' object is not callable",
     "output_type": "error",
     "traceback": [
      "\u001b[0;31m---------------------------------------------------------------------------\u001b[0m",
      "\u001b[0;31mTypeError\u001b[0m                                 Traceback (most recent call last)",
      "\u001b[0;32m/var/folders/41/21yq_s992776m2qf34b8yrq40000gn/T/ipykernel_95743/1984693609.py\u001b[0m in \u001b[0;36m<module>\u001b[0;34m\u001b[0m\n\u001b[0;32m----> 1\u001b[0;31m \u001b[0mztest\u001b[0m\u001b[0;34m(\u001b[0m\u001b[0msamples1\u001b[0m\u001b[0;34m,\u001b[0m \u001b[0mx2\u001b[0m\u001b[0;34m=\u001b[0m\u001b[0msamples2\u001b[0m\u001b[0;34m,\u001b[0m \u001b[0mvalue\u001b[0m\u001b[0;34m=\u001b[0m\u001b[0;36m0\u001b[0m\u001b[0;34m)\u001b[0m\u001b[0;34m\u001b[0m\u001b[0;34m\u001b[0m\u001b[0m\n\u001b[0m",
      "\u001b[0;31mTypeError\u001b[0m: 'tuple' object is not callable"
     ]
    }
   ],
   "source": [
    "ztest(samples1, x2=samples2, value=0)"
   ]
  },
  {
   "cell_type": "code",
   "execution_count": 1,
   "id": "210ea7bf",
   "metadata": {},
   "outputs": [],
   "source": [
    "\n",
    "\n",
    "def genrate_correlated_data(n: int, rho: float, mu: float, sigma: float) -> np.ndarray:\n",
    "    \"\"\"\n",
    "    Generate samples from the model:\n",
    "    Yi ~ N(mu, sigma^2) and Corr(Yi,Yj) = ( i == j ) + rho * ( abs( i - j ) == 1 )\n",
    "    \n",
    "    Args:\n",
    "    -----\n",
    "    :n:     sample size\n",
    "    :rho:   desired one lag correlation between samples\n",
    "    :mu:    mean\n",
    "    :sigma: standard deviation\n",
    "    \n",
    "    \"\"\"\n",
    "    assert sigma > 0\n",
    "    \n",
    "    # build desired covariance matrix\n",
    "    Sig = np.zeros((n,n))\n",
    "    for i in range(n):\n",
    "        for j in range(n):\n",
    "            if i==j : \n",
    "                Sig[i,j] = 1\n",
    "            if np.abs(i-j) == 1:\n",
    "                Sig[i,j] = rho\n",
    "                Sig[j,i] = rho\n",
    "                \n",
    "    # get matrix square root of covariance matrix:\n",
    "    Sig_sqrt = np.linalg.cholesky(sigma**2 * Sig)\n",
    "    \n",
    "    # sample from the standard normal dist. and transform \n",
    "    # so that the result is a normal vector with the desired \n",
    "    # covaraince structure\n",
    "    return mu + Sig_sqrt @ np.random.randn(n)\n"
   ]
  },
  {
   "cell_type": "markdown",
   "id": "5581e1ca",
   "metadata": {
    "tags": []
   },
   "source": [
    "## Problem 3 (Regression and Hypothesis Testing)\n",
    "\n",
    "The dataset for this problem is available in the file temp_TLV_beach.csv, which was taken directly from the meterological service website (https://ims.data.gov.il/ims/1). \n",
    "\n",
    "We consider monitoring changes in rainfall/precipitation over the years at Station 136320 located at Tel-Aviv beach area. \n",
    "To do so, we will set up a standard linear model with $p = 3$ features, where for dates (times) $t \\in \\{0,1,\\ldots,366\\}$ (we have 366 for leap years) we set\n",
    "$$\n",
    "y_t = \\beta_0 + \\beta_1 \\cos( 2\\pi(t/365)) + \\beta_2 \\sin( 2\\pi(t/365)) + \\epsilon_t,\\qquad t=1,\\ldots,n. \n",
    "\\label{eq:model} \\tag{2}\n",
    "$$\n",
    "(note that the dataset does not contain measurments from all days in the range)"
   ]
  },
  {
   "cell_type": "markdown",
   "id": "53c92dbd",
   "metadata": {},
   "source": [
    "1) Set $y_t = \\texttt{Rainfall}$. \n",
    " - Plot $y_t$ versus $t=$`Date` and identify winter times.\n",
    "\n",
    "- Find the LS regression coefficients $\\beta$; plot the fitted response $\\hat{y}_t$ over time along with the original response $y_t$. \n",
    "\n",
    " - Test whether the fitted model significantly improves on the trival model $y_t = \\beta'_0 + \\epsilon_t$.\n",
    " \n",
    " - For each parameter $p$, report the P-value for testing $H_0\\,:\\,\\hat{\\beta}_p = 0$ and indicate whether this parameter is \n",
    "significantly different than $0$ at level $\\alpha = 0.01$. \n",
    "(for this item, you can either evaluate everything from the formulas provded in class or use a statistical package like `statsmodels`)\n",
    "\n",
    "You may use the code below to format the `Date` column correctly and extract other relevant information from it. "
   ]
  },
  {
   "cell_type": "markdown",
   "id": "ef471e3a-3bb5-422c-86e4-cf4480c4a4c3",
   "metadata": {},
   "source": [
    "## Solution"
   ]
  },
  {
   "cell_type": "markdown",
   "id": "3b5b65b1-2449-404a-b09a-016e5e1c3e61",
   "metadata": {},
   "source": [
    " - Plot $y_t$ versus $t=$`Date` and identify winter times.\n"
   ]
  },
  {
   "cell_type": "code",
   "execution_count": 336,
   "id": "0dde4de2",
   "metadata": {},
   "outputs": [
    {
     "data": {
      "text/html": [
       "<div>\n",
       "<style scoped>\n",
       "    .dataframe tbody tr th:only-of-type {\n",
       "        vertical-align: middle;\n",
       "    }\n",
       "\n",
       "    .dataframe tbody tr th {\n",
       "        vertical-align: top;\n",
       "    }\n",
       "\n",
       "    .dataframe thead th {\n",
       "        text-align: right;\n",
       "    }\n",
       "</style>\n",
       "<table border=\"1\" class=\"dataframe\">\n",
       "  <thead>\n",
       "    <tr style=\"text-align: right;\">\n",
       "      <th></th>\n",
       "      <th>StationCode</th>\n",
       "      <th>Date</th>\n",
       "      <th>Rainfall</th>\n",
       "      <th>DayOfYear</th>\n",
       "      <th>Month</th>\n",
       "      <th>Year</th>\n",
       "    </tr>\n",
       "  </thead>\n",
       "  <tbody>\n",
       "    <tr>\n",
       "      <th>0</th>\n",
       "      <td>136320</td>\n",
       "      <td>2005-10-18</td>\n",
       "      <td>0.1</td>\n",
       "      <td>291</td>\n",
       "      <td>10</td>\n",
       "      <td>2005</td>\n",
       "    </tr>\n",
       "    <tr>\n",
       "      <th>1</th>\n",
       "      <td>136320</td>\n",
       "      <td>2005-10-19</td>\n",
       "      <td>0.5</td>\n",
       "      <td>292</td>\n",
       "      <td>10</td>\n",
       "      <td>2005</td>\n",
       "    </tr>\n",
       "    <tr>\n",
       "      <th>2</th>\n",
       "      <td>136320</td>\n",
       "      <td>2005-10-20</td>\n",
       "      <td>0.1</td>\n",
       "      <td>293</td>\n",
       "      <td>10</td>\n",
       "      <td>2005</td>\n",
       "    </tr>\n",
       "    <tr>\n",
       "      <th>3</th>\n",
       "      <td>136320</td>\n",
       "      <td>2005-10-29</td>\n",
       "      <td>0.6</td>\n",
       "      <td>302</td>\n",
       "      <td>10</td>\n",
       "      <td>2005</td>\n",
       "    </tr>\n",
       "    <tr>\n",
       "      <th>4</th>\n",
       "      <td>136320</td>\n",
       "      <td>2005-10-30</td>\n",
       "      <td>5.3</td>\n",
       "      <td>303</td>\n",
       "      <td>10</td>\n",
       "      <td>2005</td>\n",
       "    </tr>\n",
       "  </tbody>\n",
       "</table>\n",
       "</div>"
      ],
      "text/plain": [
       "   StationCode       Date  Rainfall  DayOfYear  Month  Year\n",
       "0       136320 2005-10-18       0.1        291     10  2005\n",
       "1       136320 2005-10-19       0.5        292     10  2005\n",
       "2       136320 2005-10-20       0.1        293     10  2005\n",
       "3       136320 2005-10-29       0.6        302     10  2005\n",
       "4       136320 2005-10-30       5.3        303     10  2005"
      ]
     },
     "execution_count": 336,
     "metadata": {},
     "output_type": "execute_result"
    }
   ],
   "source": [
    "import pandas as pd\n",
    "\n",
    "path_to_data_file = \"rainfall_TLV_beach.csv\"\n",
    "data = pd.read_csv(path_to_data_file)\n",
    "\n",
    "data['Date'] = pd.to_datetime(data.Date, format=\"%d-%m-%Y\")\n",
    "data['DayOfYear'] = data.Date.dt.day_of_year\n",
    "data['Month'] = data.Date.dt.month\n",
    "data['Year'] = data.Date.dt.year\n",
    "y = data.Rainfall.values\n",
    "\n",
    "data.head()"
   ]
  },
  {
   "cell_type": "code",
   "execution_count": 337,
   "id": "1e0e70af-50a0-45e2-815e-220e86e77d4d",
   "metadata": {},
   "outputs": [
    {
     "data": {
      "text/html": [
       "<div>\n",
       "<style scoped>\n",
       "    .dataframe tbody tr th:only-of-type {\n",
       "        vertical-align: middle;\n",
       "    }\n",
       "\n",
       "    .dataframe tbody tr th {\n",
       "        vertical-align: top;\n",
       "    }\n",
       "\n",
       "    .dataframe thead th {\n",
       "        text-align: right;\n",
       "    }\n",
       "</style>\n",
       "<table border=\"1\" class=\"dataframe\">\n",
       "  <thead>\n",
       "    <tr style=\"text-align: right;\">\n",
       "      <th></th>\n",
       "      <th>StationCode</th>\n",
       "      <th>Rainfall</th>\n",
       "      <th>DayOfYear</th>\n",
       "      <th>Month</th>\n",
       "      <th>Year</th>\n",
       "    </tr>\n",
       "  </thead>\n",
       "  <tbody>\n",
       "    <tr>\n",
       "      <th>count</th>\n",
       "      <td>911.0</td>\n",
       "      <td>911.000000</td>\n",
       "      <td>911.000000</td>\n",
       "      <td>911.000000</td>\n",
       "      <td>911.000000</td>\n",
       "    </tr>\n",
       "    <tr>\n",
       "      <th>mean</th>\n",
       "      <td>136320.0</td>\n",
       "      <td>8.142261</td>\n",
       "      <td>158.167947</td>\n",
       "      <td>5.682766</td>\n",
       "      <td>2013.697036</td>\n",
       "    </tr>\n",
       "    <tr>\n",
       "      <th>std</th>\n",
       "      <td>0.0</td>\n",
       "      <td>11.711135</td>\n",
       "      <td>140.061444</td>\n",
       "      <td>4.575054</td>\n",
       "      <td>4.909554</td>\n",
       "    </tr>\n",
       "    <tr>\n",
       "      <th>min</th>\n",
       "      <td>136320.0</td>\n",
       "      <td>0.100000</td>\n",
       "      <td>1.000000</td>\n",
       "      <td>1.000000</td>\n",
       "      <td>2005.000000</td>\n",
       "    </tr>\n",
       "    <tr>\n",
       "      <th>25%</th>\n",
       "      <td>136320.0</td>\n",
       "      <td>0.900000</td>\n",
       "      <td>34.500000</td>\n",
       "      <td>2.000000</td>\n",
       "      <td>2010.000000</td>\n",
       "    </tr>\n",
       "    <tr>\n",
       "      <th>50%</th>\n",
       "      <td>136320.0</td>\n",
       "      <td>3.400000</td>\n",
       "      <td>83.000000</td>\n",
       "      <td>3.000000</td>\n",
       "      <td>2014.000000</td>\n",
       "    </tr>\n",
       "    <tr>\n",
       "      <th>75%</th>\n",
       "      <td>136320.0</td>\n",
       "      <td>10.350000</td>\n",
       "      <td>319.500000</td>\n",
       "      <td>11.000000</td>\n",
       "      <td>2018.000000</td>\n",
       "    </tr>\n",
       "    <tr>\n",
       "      <th>max</th>\n",
       "      <td>136320.0</td>\n",
       "      <td>102.600000</td>\n",
       "      <td>366.000000</td>\n",
       "      <td>12.000000</td>\n",
       "      <td>2022.000000</td>\n",
       "    </tr>\n",
       "  </tbody>\n",
       "</table>\n",
       "</div>"
      ],
      "text/plain": [
       "       StationCode    Rainfall   DayOfYear       Month         Year\n",
       "count        911.0  911.000000  911.000000  911.000000   911.000000\n",
       "mean      136320.0    8.142261  158.167947    5.682766  2013.697036\n",
       "std            0.0   11.711135  140.061444    4.575054     4.909554\n",
       "min       136320.0    0.100000    1.000000    1.000000  2005.000000\n",
       "25%       136320.0    0.900000   34.500000    2.000000  2010.000000\n",
       "50%       136320.0    3.400000   83.000000    3.000000  2014.000000\n",
       "75%       136320.0   10.350000  319.500000   11.000000  2018.000000\n",
       "max       136320.0  102.600000  366.000000   12.000000  2022.000000"
      ]
     },
     "execution_count": 337,
     "metadata": {},
     "output_type": "execute_result"
    }
   ],
   "source": [
    "data.describe()"
   ]
  },
  {
   "cell_type": "markdown",
   "id": "46e6bc59-b749-437f-b015-3608ab549709",
   "metadata": {},
   "source": [
    "Let's plot Rainfall by Date:"
   ]
  },
  {
   "cell_type": "code",
   "execution_count": 318,
   "id": "a6677d5c-57a0-4d3e-a0ac-e981cb351949",
   "metadata": {},
   "outputs": [
    {
     "data": {
      "image/png": "[encoded data removed]",
      "text/plain": [
       "<Figure size 720x432 with 1 Axes>"
      ]
     },
     "metadata": {},
     "output_type": "display_data"
    }
   ],
   "source": [
    "plt.figure(figsize=(10, 6))\n",
    "sns.scatterplot(x=data.Date, y=y)\n",
    "plt.title('Scatter Plot Rainfall by Date'.title())\n",
    "plt.xlabel('Date')\n",
    "plt.ylabel('Rainfall')\n",
    "plt.show()"
   ]
  },
  {
   "cell_type": "markdown",
   "id": "9243725e-8b74-4d5f-8ad0-4406a233fac2",
   "metadata": {},
   "source": [
    "Too mush noise, we can't really indetift winter times this way.\n",
    "</br>\n",
    "So - let's group by month, to fully indentify the winter times:"
   ]
  },
  {
   "cell_type": "code",
   "execution_count": 319,
   "id": "679fafb6-2a74-4fe9-9ae4-4b5c437a0c68",
   "metadata": {},
   "outputs": [
    {
     "data": {
      "text/html": [
       "<div>\n",
       "<style scoped>\n",
       "    .dataframe tbody tr th:only-of-type {\n",
       "        vertical-align: middle;\n",
       "    }\n",
       "\n",
       "    .dataframe tbody tr th {\n",
       "        vertical-align: top;\n",
       "    }\n",
       "\n",
       "    .dataframe thead th {\n",
       "        text-align: right;\n",
       "    }\n",
       "</style>\n",
       "<table border=\"1\" class=\"dataframe\">\n",
       "  <thead>\n",
       "    <tr style=\"text-align: right;\">\n",
       "      <th></th>\n",
       "      <th>Rainfall</th>\n",
       "    </tr>\n",
       "    <tr>\n",
       "      <th>Month</th>\n",
       "      <th></th>\n",
       "    </tr>\n",
       "  </thead>\n",
       "  <tbody>\n",
       "    <tr>\n",
       "      <th>1</th>\n",
       "      <td>9.956338</td>\n",
       "    </tr>\n",
       "    <tr>\n",
       "      <th>2</th>\n",
       "      <td>7.084756</td>\n",
       "    </tr>\n",
       "    <tr>\n",
       "      <th>3</th>\n",
       "      <td>4.761765</td>\n",
       "    </tr>\n",
       "    <tr>\n",
       "      <th>4</th>\n",
       "      <td>3.898182</td>\n",
       "    </tr>\n",
       "    <tr>\n",
       "      <th>5</th>\n",
       "      <td>2.947059</td>\n",
       "    </tr>\n",
       "    <tr>\n",
       "      <th>6</th>\n",
       "      <td>0.875000</td>\n",
       "    </tr>\n",
       "    <tr>\n",
       "      <th>9</th>\n",
       "      <td>1.470000</td>\n",
       "    </tr>\n",
       "    <tr>\n",
       "      <th>10</th>\n",
       "      <td>5.667143</td>\n",
       "    </tr>\n",
       "    <tr>\n",
       "      <th>11</th>\n",
       "      <td>10.220792</td>\n",
       "    </tr>\n",
       "    <tr>\n",
       "      <th>12</th>\n",
       "      <td>11.072000</td>\n",
       "    </tr>\n",
       "  </tbody>\n",
       "</table>\n",
       "</div>"
      ],
      "text/plain": [
       "        Rainfall\n",
       "Month           \n",
       "1       9.956338\n",
       "2       7.084756\n",
       "3       4.761765\n",
       "4       3.898182\n",
       "5       2.947059\n",
       "6       0.875000\n",
       "9       1.470000\n",
       "10      5.667143\n",
       "11     10.220792\n",
       "12     11.072000"
      ]
     },
     "execution_count": 319,
     "metadata": {},
     "output_type": "execute_result"
    }
   ],
   "source": [
    "# create a grouped dataframe\n",
    "\n",
    "data_to_plot = data.groupby(by=\"Month\").mean()\n",
    "data_to_plot[[\"Rainfall\"]]"
   ]
  },
  {
   "cell_type": "code",
   "execution_count": 326,
   "id": "ad5b526d-4880-4bf0-a230-667bb9646241",
   "metadata": {},
   "outputs": [
    {
     "data": {
      "image/png": "[encoded data removed]",
      "text/plain": [
       "<Figure size 1008x576 with 1 Axes>"
      ]
     },
     "metadata": {},
     "output_type": "display_data"
    }
   ],
   "source": [
    "# plot\n",
    "months = [1, 2, 3, 4, 5, 6, 9, 10, 11, 12]  # all months in the data\n",
    "\n",
    "plt.figure(figsize=(14, 8))\n",
    "sns.scatterplot(x=months, y=data_to_plot.Rainfall)\n",
    "plt.title('Scatter Plot Rainfall by Date'.title())\n",
    "plt.xlabel('Month')\n",
    "plt.xticks(months)\n",
    "plt.ylabel('Rainfall')\n",
    "plt.show()"
   ]
  },
  {
   "cell_type": "markdown",
   "id": "d7c01a82-4356-4346-a319-5ef10cf6d9be",
   "metadata": {},
   "source": [
    "It seems obvious that winter is at (we didn't really define it mathematically - so I'll define it as the 4 months with the most Rainfall):\n",
    "</br>\n",
    "12 (DEC)\n",
    "</br>\n",
    "11 (NOV)\n",
    "</br>\n",
    "1 (JAN)\n",
    "</br>\n",
    "2 (FEB)\n",
    "</br>\n",
    "</br>\n",
    "\n",
    "Note: It's safe to assume that July and Augost will probably contain the lowest amount of Rainfall..\n",
    "</br>\n",
    "</br>\n",
    "</br>\n"
   ]
  },
  {
   "cell_type": "markdown",
   "id": "7803f948-963d-469b-9127-f1d022a9f0ed",
   "metadata": {},
   "source": [
    "We consider monitoring changes in rainfall/precipitation over the years at Station 136320 located at Tel-Aviv beach area. \n",
    "To do so, we will set up a standard linear model with $p = 3$ features, where for dates (times) $t \\in \\{0,1,\\ldots,366\\}$ (we have 366 for leap years) we set\n",
    "$$\n",
    "y_t = \\beta_0 + \\beta_1 \\cos( 2\\pi(t/365)) + \\beta_2 \\sin( 2\\pi(t/365)) + \\epsilon_t,\\qquad t=1,\\ldots,n. \n",
    "\\label{eq:model} \\tag{2}\n",
    "$$\n",
    "(note that the dataset does not contain measurments from all days in the range)\n",
    "\n",
    "- Find the LS regression coefficients $\\beta$"
   ]
  },
  {
   "cell_type": "code",
   "execution_count": 364,
   "id": "f5905a72-c543-4f15-ae7f-ae0b95a4e7b2",
   "metadata": {},
   "outputs": [
    {
     "name": "stdout",
     "output_type": "stream",
     "text": [
      "beta_hat vector = [ 4.55086224  5.87222444 -0.9130575 ]\n",
      "\n",
      " B0 = 4.55 \n",
      " B1 = 5.87 \n",
      " B2 = -0.91\n"
     ]
    }
   ],
   "source": [
    "\n",
    "x1 = np.cos(2 * np.pi * data.DayOfYear / 365)\n",
    "data[\"x1\"] = np.cos(2 * np.pi * data.DayOfYear / 365)\n",
    "\n",
    "x2 = np.sin(2 * np.pi * data.DayOfYear / 365)\n",
    "data[\"x2\"] = np.sin(2 * np.pi * data.DayOfYear / 365)\n",
    "\n",
    "\n",
    "y = data.Rainfall.values\n",
    "\n",
    "Z = np.vstack([np.ones_like(x1), x1, x2]).T\n",
    "\n",
    "A = np.dot(np.linalg.inv(np.dot(Z.T,Z)), Z.T)\n",
    "\n",
    "beta_hat = np.dot(A, y)\n",
    "\n",
    "print(f\"beta_hat vector = {beta_hat}\")\n",
    "print(f\"\\n B0 = {beta_hat[0]:.2f} \\n B1 = {beta_hat[1]:.2f} \\n B2 = {beta_hat[2]:.2f}\")"
   ]
  },
  {
   "cell_type": "markdown",
   "id": "5cbdd75f-7e0d-4879-93e3-a0c53370a004",
   "metadata": {},
   "source": [
    "- plot the fitted response $\\hat{y}_t$ over time along with the original response $y_t$. "
   ]
  },
  {
   "cell_type": "code",
   "execution_count": 343,
   "id": "4706190c-d1b1-44a4-a7b5-87d22972ef19",
   "metadata": {},
   "outputs": [
    {
     "data": {
      "image/png": "[encoded data removed]",
      "text/plain": [
       "<Figure size 864x576 with 1 Axes>"
      ]
     },
     "metadata": {},
     "output_type": "display_data"
    }
   ],
   "source": [
    "y_hat = np.matmul(Z, beta_hat)\n",
    "\n",
    "\n",
    "plt.rcParams['figure.figsize'] =  [12, 8]\n",
    "f, ax = plt.subplots(1, 1)\n",
    "\n",
    "plt.plot(data.Date, y, label=\"y\", linestyle=\"-\")\n",
    "plt.plot(data.Date, y_hat, label=\"$\\hat{y}$\", linestyle=\"-\")\n",
    "plt.title(r\"Response value - y and fitted response - $\\hat{y}$\")\n",
    "plt.legend()\n",
    "plt.show()"
   ]
  },
  {
   "cell_type": "markdown",
   "id": "4cfbd464-477c-470d-ab16-4163a6de70da",
   "metadata": {},
   "source": [
    " - Test whether the fitted model significantly improves on the trival model $y_t = \\beta'_0 + \\epsilon_t$."
   ]
  },
  {
   "cell_type": "markdown",
   "id": "4927f81b-ba4b-4be5-9839-6d14b9f6c686",
   "metadata": {},
   "source": [
    "We'll use an F-test. First, let's find B0:"
   ]
  },
  {
   "cell_type": "code",
   "execution_count": 347,
   "id": "81f87a52-1a07-470b-83ff-1c208fff9c0a",
   "metadata": {},
   "outputs": [
    {
     "name": "stdout",
     "output_type": "stream",
     "text": [
      "beta_hat vector = [8.14226125]\n"
     ]
    }
   ],
   "source": [
    "Z_trivial = np.vstack([np.ones_like(x1)]).T\n",
    "\n",
    "A_trivial = np.dot(np.linalg.inv(np.dot(Z_trivial.T,Z_trivial)), Z_trivial.T)\n",
    "\n",
    "beta_hat_trivial = np.dot(A_trivial, y)\n",
    "\n",
    "y_hat_trivial = np.matmul(Z_trivial, beta_hat_trivial)\n",
    "\n",
    "print(f\"beta_hat vector = {beta_hat_trivial}\")"
   ]
  },
  {
   "cell_type": "code",
   "execution_count": 362,
   "id": "0464b0b8-82e8-443a-8dda-7ee1b71566be",
   "metadata": {},
   "outputs": [
    {
     "name": "stdout",
     "output_type": "stream",
     "text": [
      "p_value of the F-test: 1.9262481637450059e-10\n",
      "\n",
      "Therefore, it seems that the more complex model is significantly better and than the current (trivial) model.\n",
      "the trivial model doesn't provide a valid representation of the data compared to the original larger one.\n"
     ]
    }
   ],
   "source": [
    "\n",
    "ss_full = np.sum( (y-y_hat) **2 )\n",
    "ss_sub = np.sum( (y-y_hat_trivial) **2 )\n",
    "\n",
    "assert ss_full < ss_sub\n",
    "\n",
    "p = 3\n",
    "q = 1\n",
    "n = len(y)\n",
    "\n",
    "f = ( (n-p) * (ss_sub - ss_full) ) / ( (p-q) * ss_full )\n",
    "\n",
    "p_value = 2*st.f.sf(f, dfn=p-q, dfd=n-p)\n",
    "\n",
    "print(f\"p_value of the F-test: {p_value}\")\n",
    "print(\"\\nTherefore, it seems that the more complex model is significantly better and than the current (trivial) model.\")\n",
    "print(\"the trivial model doesn't provide a valid representation of the data compared to the original larger one.\")"
   ]
  },
  {
   "cell_type": "markdown",
   "id": "324fe420-9a0d-4a7c-91ef-b6f456968b99",
   "metadata": {},
   "source": [
    " \n",
    " - For each parameter $p$, report the P-value for testing $H_0\\,:\\,\\hat{\\beta}_p = 0$ and indicate whether this parameter is \n",
    "significantly different than $0$ at level $\\alpha = 0.01$. \n",
    "(for this item, you can either evaluate everything from the formulas provded in class or use a statistical package like `statsmodels`)\n",
    "\n"
   ]
  },
  {
   "cell_type": "code",
   "execution_count": 377,
   "id": "7f33d9d4-49c5-41ae-9e28-94758e4a58ae",
   "metadata": {},
   "outputs": [
    {
     "name": "stdout",
     "output_type": "stream",
     "text": [
      "For feature: Intercept, this is the p-value: 0.0000, is significant = True\n",
      "For feature: cos, this is the p-value: 0.0000, is significant = True\n",
      "For feature: sin, this is the p-value: 0.1422, is significant = False\n"
     ]
    }
   ],
   "source": [
    "residuals = y - y_hat\n",
    "n = len(y)\n",
    "p = 3\n",
    "s = np.sqrt(np.sum( residuals**2 )) / np.sqrt(n-p)\n",
    "feat_set = [\"Intercept\", \"cos\", \"sin\"]\n",
    "\n",
    "p_values = np.array([])\n",
    "for i, beta in enumerate(beta_hat):\n",
    "    c = [0] * p\n",
    "    c[i] = 1\n",
    "    c_arr = np.array(c)\n",
    "        \n",
    "    numerator = beta - 0  # our hypothesis is that Beta_j = 0\n",
    "    denominator = s * np.sqrt( c_arr.T @ np.linalg.inv(np.dot(Z.T, Z)) @ c_arr ) \n",
    "    \n",
    "    t = numerator / denominator\n",
    "    \n",
    "    p_value = 2*st.t.sf(t, df=n-p)\n",
    "    p_values = np.append(p_values, p_value)\n",
    "    \n",
    "\n",
    "p_values = [p_val if p_val <= 1 else 2-p_val for p_val in p_values] \n",
    "\n",
    "for feature, p_val in zip(feat_set, p_values):\n",
    "    \n",
    "    print(f\"For feature: {feature}, this is the p-value: {p_val:.4f}, is significant = {p_val <= 0.01}\")\n",
    "    "
   ]
  },
  {
   "cell_type": "markdown",
   "id": "338a0fa5-49fd-4410-bfbc-b1cb5bf19e2c",
   "metadata": {},
   "source": [
    "Let's also use statmodels:"
   ]
  },
  {
   "cell_type": "code",
   "execution_count": 365,
   "id": "e0e91524-5225-4fc7-b006-fa3452766018",
   "metadata": {},
   "outputs": [
    {
     "data": {
      "text/html": [
       "<table class=\"simpletable\">\n",
       "<caption>OLS Regression Results</caption>\n",
       "<tr>\n",
       "  <th>Dep. Variable:</th>        <td>Rainfall</td>     <th>  R-squared:         </th> <td>   0.050</td>\n",
       "</tr>\n",
       "<tr>\n",
       "  <th>Model:</th>                   <td>OLS</td>       <th>  Adj. R-squared:    </th> <td>   0.047</td>\n",
       "</tr>\n",
       "<tr>\n",
       "  <th>Method:</th>             <td>Least Squares</td>  <th>  F-statistic:       </th> <td>   23.66</td>\n",
       "</tr>\n",
       "<tr>\n",
       "  <th>Date:</th>             <td>Sat, 23 Apr 2022</td> <th>  Prob (F-statistic):</th> <td>9.63e-11</td>\n",
       "</tr>\n",
       "<tr>\n",
       "  <th>Time:</th>                 <td>20:41:47</td>     <th>  Log-Likelihood:    </th> <td> -3510.6</td>\n",
       "</tr>\n",
       "<tr>\n",
       "  <th>No. Observations:</th>      <td>   911</td>      <th>  AIC:               </th> <td>   7027.</td>\n",
       "</tr>\n",
       "<tr>\n",
       "  <th>Df Residuals:</th>          <td>   908</td>      <th>  BIC:               </th> <td>   7042.</td>\n",
       "</tr>\n",
       "<tr>\n",
       "  <th>Df Model:</th>              <td>     2</td>      <th>                     </th>     <td> </td>   \n",
       "</tr>\n",
       "<tr>\n",
       "  <th>Covariance Type:</th>      <td>nonrobust</td>    <th>                     </th>     <td> </td>   \n",
       "</tr>\n",
       "</table>\n",
       "<table class=\"simpletable\">\n",
       "<tr>\n",
       "      <td></td>         <th>coef</th>     <th>std err</th>      <th>t</th>      <th>P>|t|</th>  <th>[0.025</th>    <th>0.975]</th>  \n",
       "</tr>\n",
       "<tr>\n",
       "  <th>Intercept</th> <td>    4.5509</td> <td>    0.757</td> <td>    6.015</td> <td> 0.000</td> <td>    3.066</td> <td>    6.036</td>\n",
       "</tr>\n",
       "<tr>\n",
       "  <th>x1</th>        <td>    5.8722</td> <td>    0.972</td> <td>    6.042</td> <td> 0.000</td> <td>    3.965</td> <td>    7.780</td>\n",
       "</tr>\n",
       "<tr>\n",
       "  <th>x2</th>        <td>   -0.9131</td> <td>    0.622</td> <td>   -1.469</td> <td> 0.142</td> <td>   -2.133</td> <td>    0.307</td>\n",
       "</tr>\n",
       "</table>\n",
       "<table class=\"simpletable\">\n",
       "<tr>\n",
       "  <th>Omnibus:</th>       <td>561.737</td> <th>  Durbin-Watson:     </th> <td>   1.612</td>\n",
       "</tr>\n",
       "<tr>\n",
       "  <th>Prob(Omnibus):</th> <td> 0.000</td>  <th>  Jarque-Bera (JB):  </th> <td>5734.453</td>\n",
       "</tr>\n",
       "<tr>\n",
       "  <th>Skew:</th>          <td> 2.707</td>  <th>  Prob(JB):          </th> <td>    0.00</td>\n",
       "</tr>\n",
       "<tr>\n",
       "  <th>Kurtosis:</th>      <td>14.035</td>  <th>  Cond. No.          </th> <td>    3.89</td>\n",
       "</tr>\n",
       "</table><br/><br/>Notes:<br/>[1] Standard Errors assume that the covariance matrix of the errors is correctly specified."
      ],
      "text/plain": [
       "<class 'statsmodels.iolib.summary.Summary'>\n",
       "\"\"\"\n",
       "                            OLS Regression Results                            \n",
       "==============================================================================\n",
       "Dep. Variable:               Rainfall   R-squared:                       0.050\n",
       "Model:                            OLS   Adj. R-squared:                  0.047\n",
       "Method:                 Least Squares   F-statistic:                     23.66\n",
       "Date:                Sat, 23 Apr 2022   Prob (F-statistic):           9.63e-11\n",
       "Time:                        20:41:47   Log-Likelihood:                -3510.6\n",
       "No. Observations:                 911   AIC:                             7027.\n",
       "Df Residuals:                     908   BIC:                             7042.\n",
       "Df Model:                           2                                         \n",
       "Covariance Type:            nonrobust                                         \n",
       "==============================================================================\n",
       "                 coef    std err          t      P>|t|      [0.025      0.975]\n",
       "------------------------------------------------------------------------------\n",
       "Intercept      4.5509      0.757      6.015      0.000       3.066       6.036\n",
       "x1             5.8722      0.972      6.042      0.000       3.965       7.780\n",
       "x2            -0.9131      0.622     -1.469      0.142      -2.133       0.307\n",
       "==============================================================================\n",
       "Omnibus:                      561.737   Durbin-Watson:                   1.612\n",
       "Prob(Omnibus):                  0.000   Jarque-Bera (JB):             5734.453\n",
       "Skew:                           2.707   Prob(JB):                         0.00\n",
       "Kurtosis:                      14.035   Cond. No.                         3.89\n",
       "==============================================================================\n",
       "\n",
       "Notes:\n",
       "[1] Standard Errors assume that the covariance matrix of the errors is correctly specified.\n",
       "\"\"\""
      ]
     },
     "execution_count": 365,
     "metadata": {},
     "output_type": "execute_result"
    }
   ],
   "source": [
    "import statsmodels.formula.api as smf\n",
    "\n",
    "model = smf.ols(formula=\"Rainfall ~  + x1 + x2\", data=data).fit()\n",
    "\n",
    "model.summary()"
   ]
  },
  {
   "cell_type": "markdown",
   "id": "a7343c68",
   "metadata": {},
   "source": [
    "2) We would like to test whether future data follows a similar distribution to past data. Consider two datasets modeled by\n",
    "$$\n",
    "\\begin{equation}\n",
    "y = Z \\beta + \\epsilon,\\qquad y_{new} = Z_{new} \\beta + \\epsilon_{new}\n",
    "\\label{eq:model} \\tag{2}\n",
    "\\end{equation}\n",
    "$$\n",
    "where $Z \\in \\reals^{m\\times p}$ and $Z_{new} \\in \\reals^{n\\times p}$ are the given design matrices which both assume to have rank $p$. We also assume that $\\epsilon$ and $\\epsilon_{new}$ are independent. We will think of $(Z, y)$ as the initial data pair and $(Z_{new},y_{new})$ as the new data.\n",
    "\n",
    "Let $\\hat{\\beta} = (Z \\top Z)^{-1}Z^\\top y$ be the usual least-squares (LS) estimate on the initial data. Define the predicted values as\n",
    " $$\n",
    " \\hat{y}_{new} := Z_{new} \\hat{\\beta}\n",
    " $$\n",
    " (note that $\\hat{y}_{new}$ is not the LS estiamte of $y_{new}$ from $Z_{new}$)\n",
    " \n",
    " - Show that $\\mathrm{Cov}(y-\\hat{y},y_{new} - \\hat{y}_{new})=0$\n",
    " \n",
    " - Assume $\\epsilon_{new} \\sim \\Ncal(0,\\sigma^2 I_n)$. Find a (symmetric, positive definite) matrix $M \\in \\reals^{n \\times n}$ so that\n",
    " $$\n",
    " M(y_{new} - \\hat{y}_{new}) \\sim \\Ncal(0, \\sigma^2 I_n).\n",
    " $$\n",
    " \n",
    "- Give the distribution of the ratio\n",
    "$$\n",
    "\\begin{equation}\n",
    "A:= \\frac{\\frac{1}{n}\\left\\| M(Y_{new} - \\hat{Y}_{new})\\right\\|^2}{\\frac{1}{m-d} \\left\\| Y  - \\hat{Y} \\right\\|^2 }\n",
    "\\label{eq:A} \\tag{3}\n",
    "\\end{equation}\n",
    "$$\n",
    "under the null hypothesis:\n",
    "$$\n",
    "H_0\\,:\\,\\begin{cases} Y = Z \\beta + \\epsilon,\\qquad Y_{new} = Z_{new} \\beta + \\epsilon_{new} \\\\\n",
    "\\epsilon \\sim \\Ncal(0, \\sigma^2 I_m),\\qquad \\epsilon_{new} \\sim \\Ncal(0, \\sigma^2 I_n) \\\\\n",
    "\\text{$\\epsilon$ and $\\epsilon_{new}$ are independent}\n",
    "\\end{cases}\n",
    "$$\n",
    "\n",
    "We now consider implementing a series of hypothesis tests about whether daily rainfall is remaining consistent over the years or whether it is changing in some meaningful way. \n",
    "\n",
    "- For each of the years 2010, 2011,...,2021, repeat the following. Define a data matrix $Z$ using the features in $\\eqref{eq:model}$ consisting of all dates prior to that year (so that for 2010, $Z$ will be\n",
    "a data matrix for the years 2005–2009, for 2011, $Z$ will be the data for years 2005-2011, and\n",
    "so on). Define the responses $y$ to consist of rainfall for the given years. Define the new data matrix $Z_{new} \\in \\reals^{n \\times p}$ to consist of the $n$ days of measurements in the given year ($n\\leq 366$) and the responses $y_{new}$ to be the rainfall in those days. For this data, compute the statistic $A$ in $\\eqref{eq:A}$ and its p-value, that is, conditional on\n",
    "$A = a$, report\n",
    "$$\n",
    "p := \\Pr[A \\geq a] \\quad \\text{under $H_0$}\n",
    "$$\n",
    "Plot the P-values for each of the years and also print their values. Discuss briefly. \n",
    "- Suppose that you obtained a very small p-value of some year, say $p \\approx 10^{-5}$. Does rejecting the null hypothesis necessarily mean that the distribution of rainfall is changing over time? explain in 2-3 sentences. "
   ]
  },
  {
   "cell_type": "markdown",
   "id": "47fb1005",
   "metadata": {},
   "source": [
    "3) Consider the total amount of rainfall within each month. Suppose that we assume that there is no change in the distribution over time across years, but we suspect that December is usuallly rainier than February. Design a test procedure that checks whether this is true. Use two apporaches:\n",
    " - Two-sample t-test \n",
    " - Paired t-test \n",
    " - Which approach seems more approproate here? "
   ]
  },
  {
   "cell_type": "code",
   "execution_count": null,
   "id": "4a71df9e",
   "metadata": {},
   "outputs": [],
   "source": []
  }
 ],
 "metadata": {
  "kernelspec": {
   "display_name": "Python 3 (ipykernel)",
   "language": "python",
   "name": "python3"
  },
  "language_info": {
   "codemirror_mode": {
    "name": "ipython",
    "version": 3
   },
   "file_extension": ".py",
   "mimetype": "text/x-python",
   "name": "python",
   "nbconvert_exporter": "python",
   "pygments_lexer": "ipython3",
   "version": "3.8.5"
  }
 },
 "nbformat": 4,
 "nbformat_minor": 5
}
