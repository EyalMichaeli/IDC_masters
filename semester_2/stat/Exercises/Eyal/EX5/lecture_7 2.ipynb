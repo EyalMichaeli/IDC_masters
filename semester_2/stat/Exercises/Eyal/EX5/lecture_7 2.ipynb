{
 "cells": [
  {
   "cell_type": "markdown",
   "id": "c987d913",
   "metadata": {},
   "source": [
    "#### Advanced Statistics for Data Science (Spring 2022)\n",
    "# Home Assignment 5\n",
    "#### Topics:\n",
    "- Contrasts\n",
    "- Multiple TestinFalse-Discovery Rate\n",
    "- Simple Regression\n",
    "\n",
    "#### Due: 24/05/2022 by 18:30\n",
    "\n",
    "#### Instructions:\n",
    "- Write your name, Student ID, and date in the cell below. \n",
    "- Submit a copy of this notebook with code filled in the relevant places as the solution of coding excercises.\n",
    "- For theoretic excercises, you can either write your solution in the notebook using $\\LaTeX$ or submit additional notes.\n",
    "\n",
    "<hr>\n",
    "<hr>"
   ]
  },
  {
   "cell_type": "markdown",
   "id": "cf26e332",
   "metadata": {},
   "source": [
    "\n",
    "**Name**: Saar Buchnik\n",
    "\n",
    "**Student ID**: 305248361\n",
    "\n",
    "**Date**: May 06th, 2022\n",
    "\n",
    "$\n",
    "\\newcommand{\\Id}{{\\mathbf{I}}}  \n",
    "\\newcommand{\\SSE}{\\mathsf{SSE}}\n",
    "\\newcommand{\\SSR}{\\mathsf{SSR}}\n",
    "\\newcommand{\\MSE}{\\mathsf{MSE}}\n",
    "\\newcommand{\\simiid}{\\overset{iid}{\\sim}}\n",
    "\\newcommand{\\ex}{\\mathbb E}\n",
    "\\newcommand{\\var}{\\mathrm{Var}}\n",
    "\\newcommand{\\Cov}[2]{{\\mathrm{Cov}  \\left(#1, #2 \\right)}}\n",
    "\\newcommand{\\one}[1]{\\mathbf 1 {\\left\\{#1\\right\\}}}\n",
    "\\newcommand{\\SE}[1]{\\mathrm{SE} \\left[#1\\right]}\n",
    "\\newcommand{\\reals}{\\mathbb R}\n",
    "\\newcommand{\\Ncal}{\\mathcal N}\n",
    "\\newcommand{\\abs}[1]{\\ensuremath{\\left\\vert#1\\right\\vert}}\n",
    "\\newcommand{\\rank}{\\operatorname{rank}}\n",
    "\\newcommand{\\tr}{\\operatorname{Tr}}\n",
    "\\newcommand{\\diag}{\\operatorname{diag}}\n",
    "\\newcommand{\\sign}{\\operatorname{sign}}\n",
    "$\n"
   ]
  },
  {
   "cell_type": "markdown",
   "id": "a6bc7ca3",
   "metadata": {},
   "source": [
    "<hr>\n",
    "<hr>"
   ]
  },
  {
   "cell_type": "markdown",
   "id": "1e247683",
   "metadata": {},
   "source": [
    "## Problem 1 (Multiple testing in Practice)\n",
    "#### Continuation of Problem 4 from HW4"
   ]
  },
  {
   "cell_type": "markdown",
   "id": "48c3f0df",
   "metadata": {},
   "source": [
    "In HW4, Problem 4 you used ANOVA to measure the effect of the winary (``winary``) on the quality (``points``) of wines from veriaty (``veriaty``) ``Cabernet Sauvignon``. Using the same dataset (reduced to Israeli wines and a specific veriaty). You used all t-tests involving pairs of winaries and reported pairs found significant after a Bonfferoni's correction. In this question, you will use Binjamini-Hochberg's (BH) FDR controlling procedure as an alternative to Bonfferoni. \n",
    " 1. Using HW4, Problem 4, consider P-values from all t-tests of pairs of winaries. Sort the P-values from small to large and plot the smallest 10% of the sorted list of P-values on a stem or a scatter plot in which the x-axis indicate the P-value rank (left most point is rank = 1, i.e., the smallest) and the y-axis the P-value's value. \n",
    " 2. Assume that different tests are independet; apply BH to select a set of winary pairs in which one winary is significantly better than the others while aiming for 0.05 false pairs. How many pairs were reported? is it more or less pairs than you discovered using Bonfferoni correction in HW4, Problem 4?\n",
    " 3. Repeat the last item without the independence assumption, i.e., use the harmonic sum correction.\n",
    " \n",
    "The point: FDR controlling using BH is a more liberal (less conservative) approach to identify significnat discoveries in the sense that it allows us to report on more discoveries if we are willing to replace family-wise error rate control with an expected false-discovery proportion guarantee.  "
   ]
  },
  {
   "cell_type": "markdown",
   "id": "14d73979",
   "metadata": {},
   "source": [
    "## Problem 1 - Solution\n",
    "\n",
    "----"
   ]
  },
  {
   "cell_type": "markdown",
   "id": "0f50518a",
   "metadata": {},
   "source": [
    "#### Required Code From HW4"
   ]
  },
  {
   "cell_type": "code",
   "execution_count": 2,
   "id": "f33e2576",
   "metadata": {},
   "outputs": [],
   "source": [
    "import pandas as pd\n",
    "import numpy as np\n",
    "from scipy.stats import t as ttest\n",
    "from matplotlib import pyplot as plt"
   ]
  },
  {
   "cell_type": "code",
   "execution_count": 3,
   "id": "b2d2fc54",
   "metadata": {},
   "outputs": [],
   "source": [
    "data = pd.read_csv(\"winemag-data_first150k.csv\")\n",
    "data = data[data.variety == \"Cabernet Sauvignon\"]\n",
    "data = data[data.country == \"Israel\"]\n",
    "data = data[data.groupby('winery').winery.transform('count') > 1]"
   ]
  },
  {
   "cell_type": "code",
   "execution_count": 4,
   "id": "7e09aeb7",
   "metadata": {},
   "outputs": [],
   "source": [
    "wineries, wineries_counts = np.unique(data.winery.values, return_counts=True)\n",
    "\n",
    "wineries_counts = {\n",
    "    winery: wineries_counts[idx]\n",
    "    for idx, winery in enumerate(wineries)\n",
    "}\n",
    "\n",
    "y_ij = {\n",
    "    winery: data[data.winery == winery].points.values\n",
    "    for winery in wineries\n",
    "}\n",
    "\n",
    "y_i_bar = {\n",
    "    winery: np.mean(y_ij[winery])\n",
    "    for winery in wineries\n",
    "}\n",
    "\n",
    "y_bar = np.mean(data.points.values)\n",
    "\n",
    "SS_within = np.sum(\n",
    "    [\n",
    "        np.sum(\n",
    "            (y_ij[winery] - y_i_bar[winery])**2\n",
    "        )\n",
    "        for winery in wineries\n",
    "    ]\n",
    ")\n",
    "\n",
    "SS_between = np.sum(\n",
    "    [\n",
    "        wineries_counts[winery] * (y_i_bar[winery] - y_bar)**2\n",
    "        for winery in wineries\n",
    "    ]\n",
    ")\n",
    "\n",
    "SS_tot = SS_within + SS_between\n",
    "\n",
    "n = len(data.points.values)\n",
    "k = len(wineries)\n",
    "\n",
    "MS_between = SS_between / (k-1)\n",
    "MS_within = SS_within / (n-k)"
   ]
  },
  {
   "cell_type": "code",
   "execution_count": 5,
   "id": "d033b595",
   "metadata": {},
   "outputs": [],
   "source": [
    "def two_sample_ttest(y0, y1, eps=10**-6):\n",
    "    n0 = len(y0)\n",
    "    n1 = len(y1)\n",
    "    dof = n0+n1-2\n",
    "    \n",
    "    y0_bar = np.mean(y0)\n",
    "    y1_bar = np.mean(y1)\n",
    "    \n",
    "    s_sqr = (1 / dof) * (np.sum((y0-y0_bar)**2) + np.sum((y1-y1_bar)**2))\n",
    "    s = np.sqrt(s_sqr)\n",
    "    \n",
    "    if s==0:\n",
    "        s = eps\n",
    "    \n",
    "    t_stat = (y1_bar - y0_bar) / (s * np.sqrt(1/n0 + 1/n1))\n",
    "    \n",
    "    return t_stat, dof"
   ]
  },
  {
   "cell_type": "code",
   "execution_count": 6,
   "id": "c98241fe",
   "metadata": {},
   "outputs": [],
   "source": [
    "wineries_ttest_pvals = {}\n",
    "\n",
    "for winery_0 in wineries:\n",
    "    for winery_1 in wineries:\n",
    "        if winery_0 == winery_1:\n",
    "            continue \n",
    "        \n",
    "        key = (winery_0, winery_1)\n",
    "        \n",
    "        if key in wineries_ttest_pvals or key[::-1] in wineries_ttest_pvals:\n",
    "            continue\n",
    "        \n",
    "        y0 = y_ij[winery_0]\n",
    "        y1 = y_ij[winery_1]\n",
    "        \n",
    "        t_stat, dof = two_sample_ttest(y0,y1)\n",
    "        t_stat_pvalue = ttest.sf(abs(t_stat), dof)\n",
    "\n",
    "        wineries_ttest_pvals[key] = t_stat_pvalue"
   ]
  },
  {
   "cell_type": "markdown",
   "id": "d537436c",
   "metadata": {},
   "source": [
    "### Part 1.1"
   ]
  },
  {
   "cell_type": "code",
   "execution_count": 7,
   "id": "651d0656",
   "metadata": {},
   "outputs": [],
   "source": [
    "# Sort The Pvalues dict\n",
    "wineries_ttest_pvals = dict(sorted(wineries_ttest_pvals.items(), key=lambda item: item[1]))"
   ]
  },
  {
   "cell_type": "code",
   "execution_count": 8,
   "id": "c6338e6b",
   "metadata": {},
   "outputs": [
    {
     "data": {
      "image/png": "[encoded data removed]",
      "text/plain": [
       "<Figure size 1080x576 with 1 Axes>"
      ]
     },
     "metadata": {
      "needs_background": "light"
     },
     "output_type": "display_data"
    }
   ],
   "source": [
    "# Plot Smallest Pvalues\n",
    "smallest_wineries_ttest_pvals = list(wineries_ttest_pvals.values())[:round(0.1 * len(wineries_ttest_pvals))]\n",
    "\n",
    "xs = range(1, len(smallest_wineries_ttest_pvals)+1)\n",
    "\n",
    "plt.rcParams['figure.figsize'] = [15, 8]\n",
    "plt.scatter(xs, smallest_wineries_ttest_pvals)\n",
    "plt.xticks(np.arange(min(xs), max(xs)+1, 1.0))\n",
    "plt.title(\"t-test 10% Smallest P-Values\")\n",
    "plt.show()"
   ]
  },
  {
   "cell_type": "markdown",
   "id": "865f0be1",
   "metadata": {},
   "source": [
    "### Part 1.2"
   ]
  },
  {
   "cell_type": "code",
   "execution_count": 9,
   "id": "59a48c50",
   "metadata": {},
   "outputs": [
    {
     "name": "stdout",
     "output_type": "stream",
     "text": [
      "Using FDR and assuming independent p-values,\n",
      "we detected 40/171 pairs in which one winary is significantly better than the other.\n",
      "It is more pairs than we reported using Bonfferoni correction (9/171 pairs)\n",
      "\n",
      "The Pairs:\n",
      "1 ('Katlav', 'Shiloh Winery') - p-value=0.0000\n",
      "2 ('Shiloh Winery', 'Titora') - p-value=0.0000\n",
      "3 ('Shiloh Winery', 'Tishbi Estate') - p-value=0.0000\n",
      "4 ('Katlav', 'Tishbi Estate') - p-value=0.0000\n",
      "5 ('Tishbi Estate', 'Titora') - p-value=0.0000\n",
      "6 ('Bazelet HaGolan', 'Katlav') - p-value=0.0001\n",
      "7 ('Kadesh Barnea', 'Shiloh Winery') - p-value=0.0001\n",
      "8 ('Bazelet HaGolan', 'Recanati') - p-value=0.0001\n",
      "9 ('Bazelet HaGolan', 'Kadesh Barnea') - p-value=0.0001\n",
      "10 ('Bazelet HaGolan', 'Psagot') - p-value=0.0002\n",
      "11 ('Psagot', 'Shiloh Winery') - p-value=0.0002\n",
      "12 ('Kadesh Barnea', 'Yatir') - p-value=0.0003\n",
      "13 ('Recanati', 'Shiloh Winery') - p-value=0.0004\n",
      "14 ('Bazelet HaGolan', 'Titora') - p-value=0.0005\n",
      "15 ('Katlav', 'Yatir') - p-value=0.0006\n",
      "16 ('Recanati', 'Yatir') - p-value=0.0009\n",
      "17 ('Bazelet HaGolan', 'Carmel') - p-value=0.0011\n",
      "18 ('Bazelet HaGolan', 'Tishbi Estate') - p-value=0.0015\n",
      "19 ('Alexander', 'Recanati') - p-value=0.0018\n",
      "20 ('Bazelet HaGolan', 'Golan Heights Winery') - p-value=0.0019\n",
      "21 ('Or Haganuz', 'Recanati') - p-value=0.0022\n",
      "22 ('Titora', 'Yatir') - p-value=0.0027\n",
      "23 ('Flam', 'Kadesh Barnea') - p-value=0.0029\n",
      "24 ('Alexander', 'Kadesh Barnea') - p-value=0.0033\n",
      "25 ('Katlav', 'Tabor') - p-value=0.0035\n",
      "26 ('Carmel', 'Shiloh Winery') - p-value=0.0036\n",
      "27 ('Kadesh Barnea', 'Tabor') - p-value=0.0037\n",
      "28 ('Kadesh Barnea', 'Psagot') - p-value=0.0041\n",
      "29 ('Golan Heights Winery', 'Shiloh Winery') - p-value=0.0046\n",
      "30 ('Kadesh Barnea', 'Or Haganuz') - p-value=0.0050\n",
      "31 ('Bazelet HaGolan', \"Segal's\") - p-value=0.0061\n",
      "32 ('Flam', 'Recanati') - p-value=0.0062\n",
      "33 ('Flam', 'Katlav') - p-value=0.0069\n",
      "34 ('Barkan', 'Bazelet HaGolan') - p-value=0.0077\n",
      "35 ('Gamla', 'Katlav') - p-value=0.0081\n",
      "36 ('Katlav', 'Psagot') - p-value=0.0083\n",
      "37 ('Recanati', 'Tabor') - p-value=0.0093\n",
      "38 ('Alexander', 'Katlav') - p-value=0.0100\n",
      "39 ('Psagot', 'Yatir') - p-value=0.0108\n",
      "40 ('Gamla', 'Kadesh Barnea') - p-value=0.0112\n"
     ]
    }
   ],
   "source": [
    "pvals = np.asarray(list(wineries_ttest_pvals.values()))\n",
    "alpha = 0.05\n",
    "m = len(pvals)\n",
    "inds = np.asarray(range(1, m+1))\n",
    "\n",
    "fdr_li = inds * alpha / m\n",
    "cutof_i = np.argmax(pvals>fdr_li)\n",
    "\n",
    "print(f\"Using FDR and assuming independent p-values,\\n\" \n",
    "      f\"we detected {cutof_i}/{m} pairs in which one winary is significantly better than the other.\\n\"\n",
    "      f\"It is more pairs than we reported using Bonfferoni correction (9/{m} pairs)\")\n",
    "\n",
    "print(\"\")\n",
    "print(\"The Pairs:\")\n",
    "for idx, pair in enumerate(list(wineries_ttest_pvals.keys())[:cutof_i]):\n",
    "    print(f\"{idx+1} {pair} - p-value={wineries_ttest_pvals[pair]:.4f}\")"
   ]
  },
  {
   "cell_type": "markdown",
   "id": "29ca3708",
   "metadata": {},
   "source": [
    "### Part 1.3"
   ]
  },
  {
   "cell_type": "code",
   "execution_count": 10,
   "id": "42a2c556",
   "metadata": {},
   "outputs": [
    {
     "name": "stdout",
     "output_type": "stream",
     "text": [
      "Using FDR and assuming general dependency structure for the p-values,\n",
      "we detected 15/171 pairs in which one winary is significantly better than the other.\n",
      "It is more pairs than we reported using Bonfferoni correction (9/171 pairs)\n",
      "\n",
      "The Pairs:\n",
      "1 ('Katlav', 'Shiloh Winery') - p-value=0.0000\n",
      "2 ('Shiloh Winery', 'Titora') - p-value=0.0000\n",
      "3 ('Shiloh Winery', 'Tishbi Estate') - p-value=0.0000\n",
      "4 ('Katlav', 'Tishbi Estate') - p-value=0.0000\n",
      "5 ('Tishbi Estate', 'Titora') - p-value=0.0000\n",
      "6 ('Bazelet HaGolan', 'Katlav') - p-value=0.0001\n",
      "7 ('Kadesh Barnea', 'Shiloh Winery') - p-value=0.0001\n",
      "8 ('Bazelet HaGolan', 'Recanati') - p-value=0.0001\n",
      "9 ('Bazelet HaGolan', 'Kadesh Barnea') - p-value=0.0001\n",
      "10 ('Bazelet HaGolan', 'Psagot') - p-value=0.0002\n",
      "11 ('Psagot', 'Shiloh Winery') - p-value=0.0002\n",
      "12 ('Kadesh Barnea', 'Yatir') - p-value=0.0003\n",
      "13 ('Recanati', 'Shiloh Winery') - p-value=0.0004\n",
      "14 ('Bazelet HaGolan', 'Titora') - p-value=0.0005\n",
      "15 ('Katlav', 'Yatir') - p-value=0.0006\n"
     ]
    }
   ],
   "source": [
    "cm = np.sum(1/inds)\n",
    "\n",
    "ind_fdr_li = inds * alpha / m * (1/cm)\n",
    "ind_fdr_cutof_i = np.argmax(pvals>ind_fdr_li)\n",
    "\n",
    "print(f\"Using FDR and assuming general dependency structure for the p-values,\\n\" \n",
    "      f\"we detected {ind_fdr_cutof_i}/{m} pairs in which one winary is significantly better than the other.\\n\"\n",
    "      f\"It is more pairs than we reported using Bonfferoni correction (9/{m} pairs)\")\n",
    "\n",
    "print(\"\")\n",
    "print(\"The Pairs:\")\n",
    "for idx, pair in enumerate(list(wineries_ttest_pvals.keys())[:ind_fdr_cutof_i]):\n",
    "    print(f\"{idx+1} {pair} - p-value={wineries_ttest_pvals[pair]:.4f}\")"
   ]
  },
  {
   "cell_type": "code",
   "execution_count": 11,
   "id": "7b866877",
   "metadata": {},
   "outputs": [
    {
     "data": {
      "image/png": "[encoded data removed]",
      "text/plain": [
       "<Figure size 1080x576 with 1 Axes>"
      ]
     },
     "metadata": {
      "needs_background": "light"
     },
     "output_type": "display_data"
    }
   ],
   "source": [
    "plt.rcParams['figure.figsize'] = [15, 8]\n",
    "plt.scatter(inds[:cutof_i+10], pvals[:cutof_i+10], label=\"p-values\", color=\"blue\")\n",
    "plt.plot(inds[:cutof_i+10], fdr_li[:cutof_i+10], label=\"FDR independent\", color=\"red\")\n",
    "plt.plot(inds[:cutof_i+10], ind_fdr_li[:cutof_i+10], label=\"FDR general\", color=\"orange\")\n",
    "plt.title(\"FDR\")\n",
    "plt.legend()\n",
    "plt.show()"
   ]
  },
  {
   "cell_type": "markdown",
   "id": "c091a28c",
   "metadata": {},
   "source": [
    "## Problem 2 (contrasts)\n",
    "#### Continuation of Problem 1\n",
    "\n",
    "Using a single t-test, test the assumption that the average of the Golan area wineries: ``Bazelet HaGolan``, ``Gamla``, ``Golan Heights Winary`` have the same quality as the average of Judean Hills area wineries: ``Katlav``, ``Psagot``, ``Shiloh Winery``, ``Titora``, ``Yatir`` (the goal here is to construct a \"contrast\", hence you should take an arithmetic average of group averages. You should only consider the size of each individual group when evaluating the varaince of the contrast).\n",
    "\n",
    "Note: you can ignore the ``province`` filed in the data becasue it contains inaccurate information. You should also ignore the fact that in reality, ``Gamla`` is produced by ``Golan Heights Winary``. \n",
    "\n"
   ]
  },
  {
   "cell_type": "markdown",
   "id": "24c72c22",
   "metadata": {},
   "source": [
    "## Problem 2 - Solution\n",
    "\n",
    "----"
   ]
  },
  {
   "cell_type": "code",
   "execution_count": 19,
   "id": "51141a8f",
   "metadata": {},
   "outputs": [],
   "source": [
    "s = np.sqrt(MS_within)\n",
    "\n",
    "golan_wineries = [\"Bazelet HaGolan\", \"Gamla\", \"Golan Heights Winery\"]\n",
    "judean_wineries = [\"Katlav\", \"Psagot\", \"Shiloh Winery\", \"Titora\", \"Yatir\"]\n",
    "\n",
    "y_bars = [y_i_bar[winery] for winery in golan_wineries] + \\\n",
    "         [y_i_bar[winery] for winery in judean_wineries]\n",
    "y_bars = np.asarray(y_bars)\n",
    "\n",
    "lambdas = [1/len(golan_wineries)] * len(golan_wineries) + \\\n",
    "          [-1/len(judean_wineries)] * len(judean_wineries)\n",
    "lambdas = np.asarray(lambdas)\n",
    "    \n",
    "n_factors = [len(y_ij[winery]) for winery in golan_wineries] + \\\n",
    "            [len(y_ij[winery]) for winery in judean_wineries]\n",
    "n_factors = np.asarray(n_factors)"
   ]
  },
  {
   "cell_type": "code",
   "execution_count": 20,
   "id": "e4a85ba0",
   "metadata": {},
   "outputs": [
    {
     "name": "stdout",
     "output_type": "stream",
     "text": [
      "We can't reject the null hypothesis (Golan area wineries have the same quality as Judean Hills area wineries) at level {alpha}, with p-value {t_stat_pvalue:.4f}\n"
     ]
    }
   ],
   "source": [
    "t_stat_numerator = np.sum(lambdas * y_bars)\n",
    "t_stat_denominator = s * np.sqrt(np.sum(lambdas**2 / n_factors))\n",
    "t_stat = t_stat_numerator / t_stat_denominator\n",
    "\n",
    "dof = np.sum(n_factors) - len(lambdas)\n",
    "t_stat_pvalue = ttest.sf(abs(t_stat), dof)\n",
    "\n",
    "alpha = 0.05\n",
    "reject = \"reject\" if t_stat_pvalue < alpha else \"can't reject\"\n",
    "print(f\"We {reject} the null hypothesis (Golan area wineries have the same quality as Judean Hills area wineries) \"\n",
    "      \"at level {alpha}, with p-value {t_stat_pvalue:.4f}\")"
   ]
  },
  {
   "cell_type": "code",
   "execution_count": null,
   "id": "e830f5fb-4f4f-414a-9763-960b3fbb6bd6",
   "metadata": {},
   "outputs": [
    {
     "data": {
      "text/plain": [
       "(176.52698412698413, 0.709939326284566)"
      ]
     },
     "execution_count": 18,
     "metadata": {},
     "output_type": "execute_result"
    }
   ],
   "source": [
    "t_stat_numerator, t_stat_denominator"
   ]
  },
  {
   "cell_type": "markdown",
   "id": "ef723e7e",
   "metadata": {},
   "source": [
    "## Problem 3 (Exact size of Bonferroni's test)\n",
    "Suppose that we run multiple tests with independent data and obtain P-values $p_1,\\ldots,p_n$. We wish to test the null hypothesis:\n",
    "$$\n",
    "H_0\\,:\\,\\text{All tests are null}\n",
    "$$\n",
    "at the level $\\alpha$ (e.g., $\\alpha=0.05$). In class, we introduced Bonferroni's procedure which is equivalent to: Reject $H_0$ if $\\min p_i \\leq \\alpha/n$. \n",
    "1. Show that the  size of the test in Bonferroni's procedure is at most $\\alpha$, regardless if the hypotheses are independent or not. \n",
    "2. Assuming that the hypotheses are independent, find the exact size of the test in Bonferroni's procedure. \n",
    "3. For $\\alpha=0.05$, evalaute the difference between $\\alpha$ and the exact test's size for $n=2,...,50$. Discuss what you see. \n",
    "\n"
   ]
  },
  {
   "cell_type": "markdown",
   "id": "75ea485a",
   "metadata": {},
   "source": [
    "## Problem 3 - Solution\n",
    "\n",
    "----"
   ]
  },
  {
   "cell_type": "markdown",
   "id": "ba20cf67",
   "metadata": {},
   "source": [
    "### Part 3.1"
   ]
  },
  {
   "cell_type": "markdown",
   "id": "cb1242f1",
   "metadata": {},
   "source": [
    "$\n",
    "\\mathbb{P} \\left( reject H_0 | H_0 \\right) \n",
    "=\n",
    "\\mathbb{P} \\left( \\min p_i \\leq \\frac{\\alpha}{n} \\right) \n",
    "=\n",
    "\\mathbb{P} \\left( p_1 \\leq \\frac{\\alpha}{n} \\cup p_2 \\leq \\frac{\\alpha}{n} \\cup ... \\cup p_n \\leq \\frac{\\alpha}{n}\\right)\n",
    "\\leq^{(*)}\n",
    "\\sum_{i=1}^{n} \\mathbb{P} \\left( p_i \\leq \\frac{\\alpha}{n} \\right) \n",
    "=^{(**)}\n",
    "\\sum_{i=1}^{n} \\frac{\\alpha}{n}\n",
    "=\n",
    "n \\frac{\\alpha}{n}\n",
    "= \n",
    "\\alpha\n",
    "$\n",
    "\n",
    "* $(*)$ - Union Bound\n",
    "* $(**)$ - The definition of a p-value"
   ]
  },
  {
   "cell_type": "markdown",
   "id": "f86ed028",
   "metadata": {},
   "source": [
    "### Part 3.2"
   ]
  },
  {
   "cell_type": "markdown",
   "id": "1225a5b7",
   "metadata": {},
   "source": [
    "$\n",
    "\\mathbb{P} \\left( reject H_0 | H_0 \\right) \n",
    "=\n",
    "\\mathbb{P} \\left( \\min p_i \\leq \\frac{\\alpha}{n} \\right) \n",
    "=\\\\\n",
    "\\mathbb{P} \\left( p_1 \\leq \\frac{\\alpha}{n} \\cup p_2 \\leq \\frac{\\alpha}{n} \\cup ... \\cup p_n \\leq \\frac{\\alpha}{n}\\right)\n",
    "=\\\\\n",
    "1 - \\mathbb{P} \\left( p_1 > \\frac{\\alpha}{n} \\cap p_2 > \\frac{\\alpha}{n} \\cap ... \\cap p_n > \\frac{\\alpha}{n}\\right)\n",
    "=\\\\\n",
    "1 - \\mathbb{P} \\left( p_1 > \\frac{\\alpha}{n} \\right) \\mathbb{P} \\left( p_2 > \\frac{\\alpha}{n} \\right) ... \\mathbb{P} \\left( p_n > \\frac{\\alpha}{n} \\right)\n",
    "= \\\\\n",
    "1 - \\prod_{i=1}^{n} \\mathbb{P} \\left( p_i > \\frac{\\alpha}{n} \\right)\n",
    "= \\\\\n",
    "1 - \\prod_{i=1}^{n} \\left( 1 - \\mathbb{P} \\left( p_i \\leq \\frac{\\alpha}{n} \\right) \\right)\n",
    "=\\\\\n",
    "1 - \\prod_{i=1}^{n} \\left( 1 - \\frac{\\alpha}{n} \\right)\n",
    "=\\\\\n",
    "1 - \\left( 1 - \\frac{\\alpha}{n} \\right)^n\n",
    "$"
   ]
  },
  {
   "cell_type": "markdown",
   "id": "ffe64639",
   "metadata": {},
   "source": [
    "### Part 3.3"
   ]
  },
  {
   "cell_type": "code",
   "execution_count": 13,
   "id": "682d9ca3",
   "metadata": {},
   "outputs": [
    {
     "data": {
      "image/png": "[encoded data removed]",
      "text/plain": [
       "<Figure size 1080x576 with 1 Axes>"
      ]
     },
     "metadata": {
      "needs_background": "light"
     },
     "output_type": "display_data"
    }
   ],
   "source": [
    "alpha = 0.05\n",
    "ns = np.asarray(range(2,51))\n",
    "\n",
    "exact_sizes = 1 - (1 - alpha / ns) ** ns\n",
    "diffs = alpha - exact_sizes\n",
    "\n",
    "exact_size_lim = 1 - np.exp(-alpha)\n",
    "\n",
    "plt.rcParams['figure.figsize'] = [15, 8]\n",
    "plt.plot(ns, [alpha] * len(ns), label=\"alpha\")\n",
    "plt.plot(ns, exact_sizes, label=\"exact size\")\n",
    "plt.plot(ns, [exact_size_lim] * len(ns), label=\"exact size n->inf\")\n",
    "plt.title(\"Alpha/Exact Sizes vs Number of tests\")\n",
    "plt.legend()\n",
    "plt.show()"
   ]
  },
  {
   "cell_type": "markdown",
   "id": "f5d974ef",
   "metadata": {},
   "source": [
    "- We see that the difference increases with the number of tests.\n",
    "- It means that Bonferoni gets more \"conservative\" as the number of tests increases (we will reject less hypotheses).\n",
    "- We note that the differecne converges to the limit:  \n",
    "  $\\lim_{n\\to\\infty} 1 - \\left( 1 - \\frac{\\alpha}{n} \\right)^n = 1 - e^{-\\alpha}$\n",
    "- Thus, even for large number of tests, the difference between $\\alpha$ and the exact test size will not diverge."
   ]
  },
  {
   "cell_type": "markdown",
   "id": "2bc5b806",
   "metadata": {},
   "source": [
    "## Problem 4 (Prediction in Simple Regression)\n",
    "Consider the linear model:\n",
    "$$\n",
    "    y_i = \\beta_0 + \\beta_1 x_i + \\epsilon_i,\\qquad \\epsilon_i \\simiid \\Ncal(0,\\sigma^2)\n",
    "$$\n",
    "$$\n",
    "    Z = \\begin{pmatrix}\n",
    "    1 & x_1 \\\\\n",
    "    \\vdots & \\vdots \\\\\n",
    "    1 & x_n\n",
    "    \\end{pmatrix},\\quad \\beta=\\begin{pmatrix}\n",
    "    \\beta_0 \\\\\n",
    "    \\beta_1\n",
    "    \\end{pmatrix},\\qquad \\hat{\\beta}=(Z^\\top Z)^{-1} Z^\\top y\n",
    "$$\n",
    "Suppose we get a new data point $x_{n+1}$ and want to predict $y_{n+1}$. We want an interval in which this prediction will likely to land. In class, we used that \n",
    "$$\n",
    "\\var[\\hat{\\beta}_0 + \\hat{\\beta}_1 x] = \\frac{\\sigma^2}{n} \\left( 1 + \\frac{(x-\\bar{x})^2}{S_{XX }}\\right)\n",
    "$$\n",
    "to obtain a confidence interval for $\\beta_0 + \\beta_1 x$, and a confidence band for all $x \\in \\reals$. In this question, you will use a similar reasoning to get a confidence interval (and bands) for $y_{n+1}$.\n",
    "1. Find the varaince of $y_{n+1} - (\\hat{\\beta}_0 + \\hat{\\beta}_1 x_{n+1})$ in terms of $\\sigma^2$ and $x_1,\\ldots,x_n$ and $x_{n+1}$ (you can use $\\bar{x}$ and $S_{XX}$ or any other well-defined function of $x_1,\\ldots,x_n$). Explain intuitively why it makes sense that this variance is larger than the variance of  $\\hat{\\beta}_0 + \\hat{\\beta}_1 x_{n+1}$. \n",
    "2. Find a $1-\\alpha$ confidence interval for $y_{n+1}$. Is this interval wider or narrower than that of $\\hat{\\beta}_0 + \\hat{\\beta}_1 x_{n+1}$? For what value of $x_{n+1}$ this interval is the narrowest?\n",
    "3. Suppose that we take the average of two responses $y$'s at the same $x_{n+1}$, say \n",
    "$$\n",
    "y_{n+1} =  \\frac{y_{n+1}^{(1)} + y_{n+1}^{(2)}}{2}, \n",
    "$$\n",
    "where\n",
    "$$\n",
    "y_{n+1}^{(1)} = \\beta_0 + \\beta_1 x_{n+1} + \\epsilon_{n+1}^{(1)}\n",
    "$$\n",
    "and \n",
    "$$\n",
    "y_{n+1}^{(2)} = \\beta_0 + \\beta_1 x_{n+1} + \\epsilon_{n+1}^{(2)},\n",
    "$$\n",
    "where $\\epsilon_{n+1}^{(1)}$ and $\\epsilon_{n+1}^{(2)}$ are independent. Find a confidence interval for $y_{n+1}$. Is it wider or narrower than the interval in (2) ?\n",
    "\n",
    "Note: The confidence interval you derived in 2 is somewhat risky to use becasue it makes the strong assumption that $\\epsilon_{n+1}$ is normal. This is compared to, say, confidence intrvals for $\\hat{\\beta}_0$ and $\\hat{\\beta}_1$ which rely on averages over all observations $y_1,\\ldots,y_n$ so we can use the Central Limit Theorem to argue for normality. Thigs gets better both in terms of varaince and normality assumption when you can take multiple measurements at the same $x_{n+1}$ and average those. \n"
   ]
  },
  {
   "cell_type": "markdown",
   "id": "e7611d83",
   "metadata": {},
   "source": [
    "## Problem 4 - Solution\n",
    "\n",
    "----"
   ]
  },
  {
   "cell_type": "markdown",
   "id": "18016193",
   "metadata": {},
   "source": [
    "### Part 4.1"
   ]
  },
  {
   "cell_type": "markdown",
   "id": "cba1e4fa",
   "metadata": {},
   "source": [
    "We note that:  \n",
    "* By definition of the linear model:  \n",
    "  $y_{n+1} = \\beta_0 + \\beta_1 x_{n+1} + \\epsilon_{n+1}$  \n",
    "  Where:  \n",
    "  $\\epsilon_{n+1} \\sim \\Ncal(0,\\sigma^2)$  \n",
    "  As $\\epsilon_{n+1}$ is the only RV, $\\beta_0,\\beta_1,x_{n+1}$ are constants, we get that:  \n",
    "  (1) $y_{n+1} \\sim \\Ncal(0,\\sigma^2)$  \n",
    "\n",
    "* \n",
    "$\n",
    "cov(y_{n+1}, \\hat{\\beta}_0 + \\hat{\\beta}_1 x_{n+1}) \n",
    "=\n",
    "cov(\\beta_0 + \\beta_1 x_{n+1} + \\epsilon_{n+1}, \\hat{\\beta}_0 + \\hat{\\beta}_1 x_{n+1})\n",
    "=^{*}\n",
    "cov(\\epsilon_{n+1}, \\hat{\\beta}_0 + \\hat{\\beta}_1 x_{n+1})\n",
    "=^{**}\n",
    "0\n",
    "$  \n",
    "(\\*) $\\beta_0,\\beta_1,x_{n+1}$ are constants  \n",
    "(\\*\\*) $\\epsilon_{n+1}$ is independent of $\\hat{\\beta}_0, \\hat{\\beta}_1$ (as they are only dependent on $\\epsilon_{1..n}$)  \n",
    "Thus:  \n",
    "(2) $cov(y_{n+1}, \\hat{\\beta}_0 + \\hat{\\beta}_1 x_{n+1}) = 0$\n",
    "\n",
    "Now we can calculate:  \n",
    "$\n",
    "\\var(y_{n+1} - (\\hat{\\beta}_0 + \\hat{\\beta}_1 x_{n+1}))\n",
    "=\n",
    "\\var(y_{n+1}) + \\var(\\hat{\\beta}_0 + \\hat{\\beta}_1 x_{n+1}) - 2 cov(y_{n+1}, \\hat{\\beta}_0 + \\hat{\\beta}_1 x_{n+1})\n",
    "$\n",
    "\n",
    "From (1) and (2):  \n",
    "$\n",
    "\\var(y_{n+1} - (\\hat{\\beta}_0 + \\hat{\\beta}_1 x_{n+1}))\n",
    "=\n",
    "\\sigma^2 + \\var(\\hat{\\beta}_0 + \\hat{\\beta}_1 x_{n+1})\n",
    "=\n",
    "\\sigma^2 + \\frac{\\sigma^2}{n} \\left( 1 + \\frac{(x_{n+1}-\\bar{x})^2}{S_{XX }}\\right)\n",
    "=\n",
    "\\sigma^2 \\left( 1 + \\frac{1}{n} + \\frac{(x_{n+1}-\\bar{x})^2}{S_{XX }}\\right)\n",
    "$\n",
    "\n",
    "We can easily see that this variance is larger than the variance of  $\\hat{\\beta}_0 + \\hat{\\beta}_1 x_{n+1}$ (we added a $1+..$ in the brackets).   \n",
    "It makes sense, we added another RV ($y_{n+1}$, or to be explicit - $\\epsilon_{n+1}$) which is not dependent on $\\hat{\\beta}_0, \\hat{\\beta}_1$, thus the variance will get bigger."
   ]
  },
  {
   "cell_type": "markdown",
   "id": "653ddf2f",
   "metadata": {},
   "source": [
    "### Part 4.2"
   ]
  },
  {
   "cell_type": "markdown",
   "id": "fd61e5fd",
   "metadata": {},
   "source": [
    "We have:  \n",
    "$\\frac{y_{n+1} - (\\hat{\\beta}_0 + \\hat{\\beta}_1 x_{n+1})}{s \\sqrt{\\var(y_{n+1} - (\\hat{\\beta}_0 + \\hat{\\beta}_1 x_{n+1}))}} \\sim t_{n-2}$\n",
    "\n",
    "We can plug in the variance we calculated:  \n",
    "$\\frac{y_{n+1} - (\\hat{\\beta}_0 + \\hat{\\beta}_1 x_{n+1})}{s \\sqrt{\\sigma^2 \\left( 1 + \\frac{1}{n} + \\frac{(x_{n+1}-\\bar{x})^2}{S_{XX }}\\right)}} \\sim t_{n-2}$\n",
    "\n",
    "And build the confidence interval:  \n",
    "$\n",
    "1 - \\alpha \n",
    "= \\\\\n",
    "\\mathbb{P} \n",
    "    \\left( \n",
    "    -t_{n-2}^{1-\\frac{\\alpha}{2}}\n",
    "    \\leq\n",
    "    \\frac{y_{n+1} - (\\hat{\\beta}_0 + \\hat{\\beta}_1 x_{n+1})}{s \\sqrt{\\sigma^2 \\left( 1 + \\frac{1}{n} + \\frac{(x_{n+1}-\\bar{x})^2}{S_{XX }}\\right)}}\n",
    "    \\leq\n",
    "    t_{n-2}^{1-\\frac{\\alpha}{2}}\n",
    "\\right)\n",
    "=\\\\\n",
    "\\mathbb{P} \n",
    "    \\left( \n",
    "    (\\hat{\\beta}_0 + \\hat{\\beta}_1 x_{n+1}) - t_{n-2}^{1-\\frac{\\alpha}{2}} \\cdot s \\sqrt{\\sigma^2 \\left( 1 + \\frac{1}{n} + \\frac{(x_{n+1}-\\bar{x})^2}{S_{XX }}\\right)}\n",
    "    \\leq\n",
    "    y_{n+1}\n",
    "    \\leq\n",
    "    (\\hat{\\beta}_0 + \\hat{\\beta}_1 x_{n+1}) + t_{n-2}^{1-\\frac{\\alpha}{2}} \\cdot s \\sqrt{\\sigma^2 \\left( 1 + \\frac{1}{n} + \\frac{(x_{n+1}-\\bar{x})^2}{S_{XX }}\\right)}\n",
    "\\right)\n",
    "$\n",
    "\n",
    "So, with probability $1 - \\alpha$:  \n",
    "$\n",
    "y_{n+1}\n",
    "\\in \n",
    "(\\hat{\\beta}_0 + \\hat{\\beta}_1 x_{n+1}) \\pm t_{n-2}^{1-\\frac{\\alpha}{2}} \\cdot s \\sqrt{\\sigma^2 \\left( 1 + \\frac{1}{n} + \\frac{(x_{n+1}-\\bar{x})^2}{S_{XX }}\\right)}\n",
    "$\n",
    "\n",
    "----\n",
    "* This interval is wider than the interval for $\\hat{\\beta}_0 + \\hat{\\beta}_1 x_{n+1}$.  \n",
    "  We can see that because there is an extra \"$1+$\" under the root.\n",
    "* This interval is the narrowest for $x_{n+1} = \\bar{x}$.  \n",
    "  This will zero out the only term in the interval that depends on $x_{n+1}$."
   ]
  },
  {
   "cell_type": "markdown",
   "id": "50d51428",
   "metadata": {},
   "source": [
    "### Part 4.3"
   ]
  },
  {
   "cell_type": "markdown",
   "id": "8c38459f",
   "metadata": {},
   "source": [
    "We wil first calculate the variance of $y_{n+1} - (\\hat{\\beta}_0 + \\hat{\\beta}_1 x_{n+1})$:\n",
    "\n",
    "$\n",
    "\\var(y_{n+1} - (\\hat{\\beta}_0 + \\hat{\\beta}_1 x_{n+1}))\n",
    "=\\\\\n",
    "\\var(\\frac{y_{n+1}^{(1)} + y_{n+1}^{(2)}}{2} - (\\hat{\\beta}_0 + \\hat{\\beta}_1 x_{n+1}))\n",
    "=\\\\\n",
    "\\var(\\frac{\\beta_0 + \\beta_1 x_{n+1} + \\epsilon_{n+1}^{(1)}}{2} + \\frac{\\beta_0 + \\beta_1 x_{n+1} + \\epsilon_{n+1}^{(2)}}{2} - (\\hat{\\beta}_0 + \\hat{\\beta}_1 x_{n+1}))\n",
    "=\\\\\n",
    "\\var((\\beta_0 + \\beta_1 x_{n+1}) + \\frac{1}{2}\\epsilon_{n+1}^{(1)} + \\frac{1}{2}\\epsilon_{n+1}^{(2)} - (\\hat{\\beta}_0 + \\hat{\\beta}_1 x_{n+1}))\n",
    "=^{(*)}\\\\\n",
    "\\var(\\frac{1}{2}\\epsilon_{n+1}^{(1)} + \\frac{1}{2}\\epsilon_{n+1}^{(2)} - (\\hat{\\beta}_0 + \\hat{\\beta}_1 x_{n+1}))\n",
    "= ^{(**)}\\\\\n",
    "\\var(\\frac{1}{2}\\epsilon_{n+1}^{(1)}) + \\var(\\frac{1}{2}\\epsilon_{n+1}^{(2)}) + \\var(\\hat{\\beta}_0 + \\hat{\\beta}_1 x_{n+1}))\n",
    "=\\\\\n",
    "\\frac{1}{4} \\var(\\epsilon_{n+1}^{(1)}) + \\frac{1}{4} \\var(\\epsilon_{n+1}^{(2)}) + \\var(\\hat{\\beta}_0 + \\hat{\\beta}_1 x_{n+1}))\n",
    "=\\\\\n",
    "\\frac{1}{2} \\sigma^2 + \\frac{\\sigma^2}{n} \\left( 1 + \\frac{(x_{n+1}-\\bar{x})^2}{S_{XX }}\\right)\n",
    "=\\\\\n",
    "\\sigma^2 \\left( \\frac{1}{2} + \\frac{1}{n} + \\frac{(x_{n+1}-\\bar{x})^2}{S_{XX }}\\right)\n",
    "$\n",
    "\n",
    "* (\\*) $\\beta_0,\\beta_1,x_{n+1}$ are constants  \n",
    "* (\\*\\*) $\\epsilon_{n+1}^{(1)}$, $\\epsilon_{n+1}^{(2)}$ are independent of each other, and independent of $\\hat{\\beta}_0, \\hat{\\beta}_1$ (as they are only dependent on $\\epsilon_{1..n}$).\n",
    "\n",
    "So to sum up so far, we got:  \n",
    "$\n",
    "\\var(y_{n+1} - (\\hat{\\beta}_0 + \\hat{\\beta}_1 x_{n+1}))\n",
    "=\n",
    "\\sigma^2 \\left( \\frac{1}{2} + \\frac{1}{n} + \\frac{(x_{n+1}-\\bar{x})^2}{S_{XX }}\\right)\n",
    "$\n",
    "\n",
    "Now, using the same logic from the previous section, we have:  \n",
    "$\\frac{y_{n+1} - (\\hat{\\beta}_0 + \\hat{\\beta}_1 x_{n+1})}{s \\sqrt{\\var(y_{n+1} - (\\hat{\\beta}_0 + \\hat{\\beta}_1 x_{n+1}))}} \\sim t_{n-2}$\n",
    "\n",
    "We can plug in the variance we calculated:  \n",
    "$\\frac{y_{n+1} - (\\hat{\\beta}_0 + \\hat{\\beta}_1 x_{n+1})}{s \\sqrt{\\sigma^2 \\left( \\frac{1}{2} + \\frac{1}{n} + \\frac{(x_{n+1}-\\bar{x})^2}{S_{XX }}\\right)}} \\sim t_{n-2}$\n",
    "\n",
    "And build the confidence interval:  \n",
    "$\n",
    "1 - \\alpha \n",
    "= \\\\\n",
    "\\mathbb{P} \n",
    "    \\left( \n",
    "    -t_{n-2}^{1-\\frac{\\alpha}{2}}\n",
    "    \\leq\n",
    "    \\frac{y_{n+1} - (\\hat{\\beta}_0 + \\hat{\\beta}_1 x_{n+1})}{s \\sqrt{\\sigma^2 \\left( \\frac{1}{2} + \\frac{1}{n} + \\frac{(x_{n+1}-\\bar{x})^2}{S_{XX }}\\right)}}\n",
    "    \\leq\n",
    "    t_{n-2}^{1-\\frac{\\alpha}{2}}\n",
    "\\right)\n",
    "=\\\\\n",
    "\\mathbb{P} \n",
    "    \\left( \n",
    "    (\\hat{\\beta}_0 + \\hat{\\beta}_1 x_{n+1}) - t_{n-2}^{1-\\frac{\\alpha}{2}} \\cdot s \\sqrt{\\sigma^2 \\left( \\frac{1}{2} + \\frac{1}{n} + \\frac{(x_{n+1}-\\bar{x})^2}{S_{XX }}\\right)}\n",
    "    \\leq\n",
    "    y_{n+1}\n",
    "    \\leq\n",
    "    (\\hat{\\beta}_0 + \\hat{\\beta}_1 x_{n+1}) + t_{n-2}^{1-\\frac{\\alpha}{2}} \\cdot s \\sqrt{\\sigma^2 \\left( \\frac{1}{2} + \\frac{1}{n} + \\frac{(x_{n+1}-\\bar{x})^2}{S_{XX }}\\right)}\n",
    "\\right)\n",
    "$\n",
    "\n",
    "So, with probability $1 - \\alpha$:  \n",
    "$\n",
    "y_{n+1}\n",
    "\\in \n",
    "(\\hat{\\beta}_0 + \\hat{\\beta}_1 x_{n+1}) \\pm t_{n-2}^{1-\\frac{\\alpha}{2}} \\cdot s \\sqrt{\\sigma^2 \\left( \\frac{1}{2} + \\frac{1}{n} + \\frac{(x_{n+1}-\\bar{x})^2}{S_{XX }}\\right)}\n",
    "$\n",
    "\n",
    "-----\n",
    "* This interval is narrower than the interval in (2) ($0.5 < 1$).\n",
    "* In fact, as we seen in class, the more samples we will take the narrower the interval will get.\n",
    "    * If we take the limit of $\\infty$ samples, we will get the same confidence interval as the one of $\\hat{\\beta}_0 + \\hat{\\beta}_1 x_{n+1}$."
   ]
  },
  {
   "cell_type": "code",
   "execution_count": null,
   "id": "083f8fd1",
   "metadata": {},
   "outputs": [],
   "source": []
  }
 ],
 "metadata": {
  "kernelspec": {
   "display_name": "Python 3 (ipykernel)",
   "language": "python",
   "name": "python3"
  },
  "language_info": {
   "codemirror_mode": {
    "name": "ipython",
    "version": 3
   },
   "file_extension": ".py",
   "mimetype": "text/x-python",
   "name": "python",
   "nbconvert_exporter": "python",
   "pygments_lexer": "ipython3",
   "version": "3.8.5"
  }
 },
 "nbformat": 4,
 "nbformat_minor": 5
}
