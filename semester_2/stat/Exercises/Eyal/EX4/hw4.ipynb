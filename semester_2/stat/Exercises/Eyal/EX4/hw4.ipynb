{
 "cells": [
  {
   "cell_type": "markdown",
   "id": "c3fd78bb",
   "metadata": {
    "tags": []
   },
   "source": [
    "#### Advanced Statistics for Data Science (Spring 2022)\n",
    "# Home Assignment 4\n",
    "#### Topics:\n",
    "- ANOVA\n",
    "\n",
    "\n",
    "#### Due: 10/05/2022 by 18:30\n",
    "\n",
    "#### Instructions:\n",
    "- Write your name, Student ID, and date in the cell below. \n",
    "- Submit a copy of this notebook with code filled in the relevant places as the solution of coding excercises.\n",
    "- For theoretic excercises, you can either write your solution in the notebook using $\\LaTeX$ or submit additional notes.\n",
    "\n",
    "<hr>\n",
    "<hr>"
   ]
  },
  {
   "cell_type": "markdown",
   "id": "c396f15b-0b61-4306-a6aa-54cfeed92ab5",
   "metadata": {},
   "source": [
    "\n",
    "**Name**: Eyal Michaeli\n",
    "\n",
    "**Student ID**: 207380528\n",
    "\n",
    "**Date**: 10.05.22\n",
    "\n",
    "$\n",
    "\\newcommand{\\Id}{{\\mathbf{I}}}  \n",
    "\\newcommand{\\SSE}{\\mathsf{SSE}}\n",
    "\\newcommand{\\SSR}{\\mathsf{SSR}}\n",
    "\\newcommand{\\MSE}{\\mathsf{MSE}}\n",
    "\\newcommand{\\simiid}{\\overset{iid}{\\sim}}\n",
    "\\newcommand{\\ex}{\\mathbb E}\n",
    "\\newcommand{\\var}{\\mathrm{Var}}\n",
    "\\newcommand{\\Cov}[2]{{\\mathrm{Cov}  \\left(#1, #2 \\right)}}\n",
    "\\newcommand{\\one}[1]{\\mathbf 1 {\\left\\{#1\\right\\}}}\n",
    "\\newcommand{\\SE}[1]{\\mathrm{SE} \\left[#1\\right]}\n",
    "\\newcommand{\\reals}{\\mathbb R}\n",
    "\\newcommand{\\Ncal}{\\mathcal N}\n",
    "\\newcommand{\\abs}[1]{\\ensuremath{\\left\\vert#1\\right\\vert}}\n",
    "\\newcommand{\\rank}{\\operatorname{rank}}\n",
    "\\newcommand{\\tr}{\\operatorname{Tr}}\n",
    "\\newcommand{\\diag}{\\operatorname{diag}}\n",
    "\\newcommand{\\sign}{\\operatorname{sign}}\n",
    "$\n"
   ]
  },
  {
   "cell_type": "markdown",
   "id": "109e448b",
   "metadata": {},
   "source": [
    "<hr>\n",
    "<hr>"
   ]
  },
  {
   "cell_type": "markdown",
   "id": "344b529d-54c4-4f16-b29e-f94206effb42",
   "metadata": {
    "tags": []
   },
   "source": [
    "# Problem 1 (Solving LS using SVD)\n",
    "Consider the housing prices dataset (``housing_prices.csv``). Use houses of lot size smaller than 15000 ft.\n",
    "\n",
    "1. Find the least squares coefficient of the linear model with target variable ``SalePrice`` and the 16 predictors:\n",
    "``['LotArea',  'YearBuilt',\n",
    "  'GarageCars', 'YrSold', 'MoSold', 'Fireplaces',\n",
    "  'HalfBath', 'LowQualFinSF', 'TotalBsmtSF',\n",
    "  '1stFlrSF', 'LotFrontage', 'ScreenPorch',\n",
    "   'WoodDeckSF', 'OverallCond', 'BsmtUnfSF']`` \n",
    "plus a constant term. Remove all entries in which one or more of these predictors is missing. "
   ]
  },
  {
   "cell_type": "code",
   "execution_count": 2,
   "id": "daf4c764-b9b5-49f3-a8a5-2cbf879bd570",
   "metadata": {},
   "outputs": [],
   "source": [
    "import matplotlib.pyplot as plt\n",
    "import seaborn as sns\n",
    "import scipy.stats as stats\n",
    "import statsmodels.api as sm\n",
    "import pandas as pd\n",
    "import numpy as np"
   ]
  },
  {
   "cell_type": "code",
   "execution_count": 4,
   "id": "106898aa-19f6-451a-b3c1-e7c4c4bf7fa9",
   "metadata": {},
   "outputs": [],
   "source": [
    "\n",
    "target = 'SalePrice' \n",
    "lo_predictors = ['const', 'SalePrice', 'LotArea',  'YearBuilt',\n",
    "    'GarageCars', 'YrSold', 'MoSold', 'Fireplaces',\n",
    "    'HalfBath', 'LowQualFinSF', 'TotalBsmtSF',\n",
    "    '1stFlrSF', 'LotFrontage', 'ScreenPorch',\n",
    "     'WoodDeckSF', 'OverallCond', 'BsmtUnfSF']\n",
    "\n",
    "data = pd.read_csv(\"housing_prices.csv\")\n",
    "data = data[data.LotArea < 15000]  # we focus on small lots\n",
    "data['const'] = 1                  # add constant term\n",
    "data = data.filter(lo_predictors).dropna() # remove all other columns\n",
    "\n",
    "y = data[target].values\n",
    "X = data.drop(target, axis=1)\n",
    "Z = X.values\n",
    "n, p = Z.shape"
   ]
  },
  {
   "cell_type": "markdown",
   "id": "c79d1913-c6f0-435b-b22a-c86ffa0b302d",
   "metadata": {
    "tags": []
   },
   "source": [
    " - By inverting the matrix $Z^\\top Z$. Denote the solution $\\hat{\\beta}$.\n",
    " "
   ]
  },
  {
   "cell_type": "code",
   "execution_count": 16,
   "id": "3e5bb41a-aa39-4cab-b170-08173656509d",
   "metadata": {},
   "outputs": [
    {
     "name": "stdout",
     "output_type": "stream",
     "text": [
      "B0 = -3039719.75\n",
      "B1 = 2.98\n",
      "B2 = 616.84\n",
      "B3 = 21256.55\n",
      "B4 = 884.95\n",
      "B5 = 983.79\n",
      "B6 = 16763.36\n",
      "B7 = 27915.65\n",
      "B8 = 68.96\n",
      "B9 = 43.90\n",
      "B10 = 41.28\n",
      "B11 = 0.73\n",
      "B12 = 22.67\n",
      "B13 = 30.83\n",
      "B14 = 7715.94\n",
      "B15 = -8.10\n",
      "\n"
     ]
    }
   ],
   "source": [
    "A = np.dot(np.linalg.inv(np.dot(Z.T,Z)), Z.T)\n",
    "\n",
    "betas_hat = np.dot(A, y)\n",
    "\n",
    "print( ''.join([f\"B{i} = {beta_value:.2f}\\n\" for i, beta_value in enumerate(betas_hat)]))"
   ]
  },
  {
   "cell_type": "markdown",
   "id": "baa5d268-c4dc-4546-8a9e-5c8ccff73a0c",
   "metadata": {
    "tags": []
   },
   "source": [
    " - Using the SVD method. Here, decide that $\\sigma_i > 0$ if $\\sigma_i / \\sigma_1 > 10^{-6}$. Denote the solution $\\hat{\\beta}^{SVD}$.\n",
    " "
   ]
  },
  {
   "cell_type": "code",
   "execution_count": 13,
   "id": "4dcbfb59-00c9-4b19-8cc6-9d707a98f969",
   "metadata": {},
   "outputs": [
    {
     "name": "stdout",
     "output_type": "stream",
     "text": [
      "The LS estimator Beta hat is the vector [-3039719.746823, 2.978147, 616.839678, 21256.547087, 884.947468, 983.794365, 16763.359425, 27915.651037, 68.960519, 43.896187, 41.27521, 0.733459, 22.668026, 30.830914, 7715.939211, -8.101915]^T\n"
     ]
    }
   ],
   "source": [
    "epsilon = 10 ** -6\n",
    "\n",
    "u, sig, v_t = np.linalg.svd(Z, full_matrices=False)\n",
    "# np.allclose((u * sig) @ v_t, Z) \n",
    "r = np.linalg.matrix_rank(Z, tol=epsilon)\n",
    "y_star = u.T @ y\n",
    "beta_star = y_star / sig\n",
    "beta_hat_svd = v_t.T @ beta_star\n",
    "\n",
    "print(f\"The LS estimator Beta hat is the vector {[round(b, 2) for b in list(beta_hat_svd)]}^T\")"
   ]
  },
  {
   "cell_type": "code",
   "execution_count": 18,
   "id": "b4742169-3160-4e88-8eab-435236b11b2c",
   "metadata": {},
   "outputs": [
    {
     "name": "stdout",
     "output_type": "stream",
     "text": [
      "B0 = -0.27\n",
      "B1 = 2.94\n",
      "B2 = 612.37\n",
      "B3 = 21197.77\n",
      "B4 = -624.39\n",
      "B5 = 866.65\n",
      "B6 = 16647.23\n",
      "B7 = 28030.11\n",
      "B8 = 68.07\n",
      "B9 = 44.10\n",
      "B10 = 41.41\n",
      "B11 = 6.73\n",
      "B12 = 23.27\n",
      "B13 = 31.80\n",
      "B14 = 7708.39\n",
      "B15 = -8.18\n",
      "\n"
     ]
    }
   ],
   "source": [
    "EPSILON = 10 ** -6\n",
    "\n",
    "u, s, v_t = np.linalg.svd(Z, full_matrices=False)\n",
    "\n",
    "s_filter = (s / s[0] > EPSILON)\n",
    "sigma = np.diag(s)\n",
    "\n",
    "y_star = np.matmul(u.T, y)[:p]\n",
    "\n",
    "betas_star = np.zeros(p)\n",
    "betas_star[s_filter] = y_star[s_filter] / s[s_filter]\n",
    "\n",
    "v = v_t.T\n",
    "betas_hat_svd = v @ betas_star\n",
    "\n",
    "print( ''.join([f\"B{i} = {beta_value:.2f}\\n\" for i, beta_value in enumerate(betas_hat_svd)]))"
   ]
  },
  {
   "cell_type": "markdown",
   "id": "fc6a9b0b-c5e6-47a1-8795-11e193696344",
   "metadata": {
    "tags": []
   },
   "source": [
    " - In which method $R^2$ is smaller?\n",
    " "
   ]
  },
  {
   "cell_type": "code",
   "execution_count": null,
   "id": "b9316b16-6aca-4881-b6c2-cc1cfea02c2b",
   "metadata": {},
   "outputs": [],
   "source": []
  },
  {
   "cell_type": "markdown",
   "id": "29a17d27-f662-4525-bf29-aba0a1ee233d",
   "metadata": {
    "tags": []
   },
   "source": [
    "2. Plot $\\hat{y}$ and $\\hat{y}^{SVD}$ over the same pannel to convince yourself that both methods resulted in similar fitted responses. "
   ]
  },
  {
   "cell_type": "code",
   "execution_count": null,
   "id": "6cf42a64-e31c-4899-aa1f-194d1febc7e8",
   "metadata": {},
   "outputs": [],
   "source": []
  },
  {
   "cell_type": "markdown",
   "id": "9deb31b2-8bf7-4279-a721-275f8c197255",
   "metadata": {
    "tags": []
   },
   "source": [
    "3. Plot $\\log(|\\hat{\\beta}_i/\\hat{\\beta}^{SVD}_i|)$ vs. $i$ for $i=1,\\ldots,p$ and indicate the covariate whose coefficient exhibits the largest difference between the methods.\n",
    "\n",
    "The point: When there are many predictors, it is likely that $Z$ will be rank deficient in the sense that some of its singular values are very small. Removing those singular values is usually a good practice; it is important to observe how this removal affects the solution. "
   ]
  },
  {
   "cell_type": "code",
   "execution_count": null,
   "id": "18e165e0-85cd-4633-b069-3934b3b84fcb",
   "metadata": {},
   "outputs": [],
   "source": []
  },
  {
   "cell_type": "markdown",
   "id": "5b3795c9",
   "metadata": {},
   "source": [
    "The largest difference is for the first predictor, which is the constant covariate. We can check that this result makes sense by fiting a new model without the constant covaraite and test whether the residuals in the smaller new model are not significantly different than those in the original model. "
   ]
  },
  {
   "cell_type": "markdown",
   "id": "518b0f4f",
   "metadata": {},
   "source": [
    "You can use the code below to read and arrange the data"
   ]
  },
  {
   "cell_type": "markdown",
   "id": "b558733e",
   "metadata": {
    "jp-MarkdownHeadingCollapsed": true,
    "tags": []
   },
   "source": [
    "## Problem 2 ($t$-test is a kind of ANOVA)\n",
    "Consider the following two-sample problem. The data is\n",
    "$$\n",
    "y_{ij} = \\mu_j + \\epsilon_{ij},\\qquad j=1,\\ldots,n_i,\\quad i=0,1. \n",
    "$$\n",
    "\n",
    "1. Find the statistic $t$ for the two-sample $t$ test (using of the observable varaibles)\n",
    "2. Write the ANOVA table for $k=2$ and find the F statistic $F$ (using of the observable varaibles)\n",
    "3. Conclude that $t^2 = F$. \n",
    "4. Does the test that rejects when $|t| > t_{n-1}^{1-\\alpha/2}$ has larger power than the test that rejects when $F > F_{1,n-1}^{1-\\alpha}$ ? less? same? \n"
   ]
  },
  {
   "cell_type": "markdown",
   "id": "b7e69e7f",
   "metadata": {},
   "source": [
    "## Problem 3 (ANOVA Decomposition)\n",
    "In class, we considered the decomposition:\n",
    "$$\n",
    "\\begin{equation}\n",
    "\\mathrm{SS}_{tot} = \\mathrm{SS}_{within} + \\mathrm{SS}_{between}\n",
    "\\label{eq:ANOVA} \\tag{1}\n",
    "\\end{equation}\n",
    "$$\n",
    "where\n",
    "$$\n",
    "\\mathrm{SS}_{between} = \\sum_{i=1}^k n_i(\\bar{y}_{i\\cdot} - \\bar{y}_{\\cdot \\cdot})^2,\\qquad \\mathrm{SS}_{within} = \\sum_{i=1}^k \\sum_{j=1}^{n_i} (y_{ij} - \\bar{y}_{i\\cdot})^2\n",
    "$$\n",
    "Prove $\\eqref{eq:ANOVA}$ by expanding:\n",
    "$$\n",
    "\\mathrm{SS}_{tot} = \\sum_{i=1}^k \\sum_{j=1}^{n_i} (y_{ij} - \\bar{y}_{\\cdot \\cdot})^2 = \\sum_{i=1}^k \\sum_{j=1}^{n_i} (y_{ij} - \\bar{y}_{i\\cdot} + \\bar{y}_{i\\cdot} - \\bar{y}_{\\cdot \\cdot})^2 = ...\n",
    "$$"
   ]
  },
  {
   "cell_type": "markdown",
   "id": "4d5cb694",
   "metadata": {},
   "source": [
    "## Problem 4 (ANOVA and multiple testing in Practice)"
   ]
  },
  {
   "cell_type": "markdown",
   "id": "9129f4e0",
   "metadata": {
    "tags": []
   },
   "source": [
    "Consider Israeli wines in the wine dataset ``winemag-data_first150k.csv`` used in class (downloaded from Kaggle https://www.kaggle.com/datasets/zynicide/wine-reviews?select=winemag-data_first150k.csv). Use ANOVA to measure the effect of winary (``winary``) on the quality (``points``) of wine of veriaty ``Cabernet Sauvignon``. \n",
    "1. Load dataset; keep only relevant records according to the fields ``country`` and ``veriaty``; remove winaries with 1 or less samples (because we cannot do ANOVA for those)\n",
    "2. Plot the boxplot with ``winary`` as the x-axis and ``points`` as the y-axis.\n",
    "3. Use ANOVA to figure out whether some winaries make better cabernets than others; print the ANOVA table and explain your conclusion\n",
    "4. Find which winaries have cabernets ranked higher than others:\n",
    " - Run all paired t-tests; how many of the test's P-values fall below 0.05? is it more than what is expceted if all tests are null?\n",
    " - Use Bonferroni's method to decide which winaries ranked singnificantly higher than others by reporting on the list of pairs whose P-value is significant after Bonferroni's correction. Also indicate which one is ranked higher out of each pair."
   ]
  },
  {
   "cell_type": "code",
   "execution_count": null,
   "id": "0489cbea",
   "metadata": {},
   "outputs": [],
   "source": []
  }
 ],
 "metadata": {
  "kernelspec": {
   "display_name": "Python 3 (ipykernel)",
   "language": "python",
   "name": "python3"
  },
  "language_info": {
   "codemirror_mode": {
    "name": "ipython",
    "version": 3
   },
   "file_extension": ".py",
   "mimetype": "text/x-python",
   "name": "python",
   "nbconvert_exporter": "python",
   "pygments_lexer": "ipython3",
   "version": "3.8.5"
  }
 },
 "nbformat": 4,
 "nbformat_minor": 5
}
