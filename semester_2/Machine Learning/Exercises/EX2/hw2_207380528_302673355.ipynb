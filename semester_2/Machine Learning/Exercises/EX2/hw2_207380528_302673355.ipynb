{
 "cells": [
  {
   "cell_type": "markdown",
   "metadata": {
    "nbgrader": {
     "grade": false,
     "grade_id": "cell-6bd0516e7cb654f5",
     "locked": true,
     "schema_version": 1,
     "solution": false
    }
   },
   "source": [
    "# Exercise 2: Decision Trees\n",
    "\n",
    "In this assignment you will implement a Decision Tree algorithm as learned in class.\n",
    "\n",
    "## Read the following instructions carefully:\n",
    "\n",
    "1. This jupyter notebook contains all the step by step instructions needed for this exercise.\n",
    "1. Submission includes this notebook only with the exercise number and your ID as the filename. For example: `hw2_123456789_987654321.ipynb` if you submitted in pairs and `hw2_123456789.ipynb` if you submitted the exercise alone.\n",
    "1. Write **efficient vectorized** code whenever possible. Some calculations in this exercise take several minutes when implemented efficiently, and might take much longer otherwise. Unnecessary loops will result in point deduction.\n",
    "1. You are responsible for the correctness of your code and should add as many tests as you see fit. Tests will not be graded nor checked.\n",
    "1. Write your functions in this notebook only. **Do not create Python modules and import them**.\n",
    "1. You are allowed to use functions and methods from the [Python Standard Library](https://docs.python.org/3/library/) and [numpy](https://www.numpy.org/devdocs/reference/) only. **Do not import anything else.**\n",
    "1. Your code must run without errors. Make sure your `numpy` version is at least 1.15.4 and that you are using at least python 3.6. Changes of the configuration we provided are at your own risk. Any code that cannot run will not be graded.\n",
    "1. Write your own code. Cheating will not be tolerated.\n",
    "1. Answers to qualitative questions should be written in **markdown** cells (with $\\LaTeX$ support). Answers that will be written in commented code blocks will not be checked.\n",
    "\n",
    "## In this exercise you will perform the following:\n",
    "1. Practice OOP in python.\n",
    "2. Implement two impurity measures: Gini and Entropy.\n",
    "3. Construct a decision tree algorithm.\n",
    "4. Prune the tree to achieve better results.\n",
    "5. Visualize your results."
   ]
  },
  {
   "cell_type": "markdown",
   "metadata": {},
   "source": [
    "# I have read and understood the instructions: *** 207380528, 302673355 ***"
   ]
  },
  {
   "cell_type": "code",
   "execution_count": null,
   "metadata": {
    "nbgrader": {
     "grade": false,
     "grade_id": "cell-ed9fe7b1026e33cb",
     "locked": true,
     "schema_version": 1,
     "solution": false
    }
   },
   "outputs": [],
   "source": [
    "import numpy as np\n",
    "import pandas as pd\n",
    "import matplotlib.pyplot as plt\n",
    "import seaborn as sns\n",
    "\n",
    "# make matplotlib figures appear inline in the notebook\n",
    "%matplotlib inline\n",
    "plt.rcParams['figure.figsize'] = (10.0, 8.0) # set default size of plots\n",
    "plt.rcParams['image.interpolation'] = 'nearest'\n",
    "plt.rcParams['image.cmap'] = 'gray'\n",
    "\n",
    "# Ignore warnings\n",
    "import warnings\n",
    "warnings.filterwarnings('ignore')"
   ]
  },
  {
   "cell_type": "markdown",
   "metadata": {
    "nbgrader": {
     "grade": false,
     "grade_id": "cell-c6ac605270c2b091",
     "locked": true,
     "schema_version": 1,
     "solution": false
    }
   },
   "source": [
    "## Warmup - OOP in python\n",
    "\n",
    "Our desicion tree will be implemented using a dedicated python class. Python classes are very similar to classes in Java.\n",
    "\n",
    "\n",
    "You can use the following [site](https://jeffknupp.com/blog/2014/06/18/improve-your-python-python-classes-and-object-oriented-programming/) to learn about classes in python."
   ]
  },
  {
   "cell_type": "code",
   "execution_count": 388,
   "metadata": {},
   "outputs": [],
   "source": [
    "class Node(object):\n",
    "    def __init__(self, data):\n",
    "        self.data = data\n",
    "        self.children = []\n",
    "\n",
    "    def add_child(self, node):\n",
    "        self.children.append(node)"
   ]
  },
  {
   "cell_type": "code",
   "execution_count": 389,
   "metadata": {},
   "outputs": [
    {
     "data": {
      "text/plain": [
       "[<__main__.Node at 0x7fbc209d0640>, <__main__.Node at 0x7fbc209d0e20>]"
      ]
     },
     "execution_count": 389,
     "metadata": {},
     "output_type": "execute_result"
    }
   ],
   "source": [
    "n = Node(5)\n",
    "p = Node(6)\n",
    "q = Node(7)\n",
    "n.add_child(p)\n",
    "n.add_child(q)\n",
    "n.children"
   ]
  },
  {
   "cell_type": "markdown",
   "metadata": {
    "nbgrader": {
     "grade": false,
     "grade_id": "cell-2f1ceb251c649b62",
     "locked": true,
     "schema_version": 1,
     "solution": false
    }
   },
   "source": [
    "## Data preprocessing\n",
    "\n",
    "For the following exercise, we will use a dataset containing mushroom data `agaricus-lepiota.csv`. \n",
    "\n",
    "This data set includes descriptions of hypothetical samples corresponding to 23 species of gilled mushrooms in the Agaricus and Lepiota Family. Each species is identified as definitely edible, definitely poisonous, or of unknown edibility and not recommended. This latter class was combined with the poisonous\n",
    "one (=there are only two classes **edible** and **poisonous**). \n",
    "    \n",
    "The dataset contains 8124 observations with 22 features:\n",
    "1. cap-shape: bell=b,conical=c,convex=x,flat=f,knobbed=k,sunken=s\n",
    "2. cap-surface: fibrous=f,grooves=g,scaly=y,smooth=s\n",
    "3. cap-color: brown=n,buff=b,cinnamon=c,gray=g,green=r,pink=p,purple=u,red=e,white=w,yellow=y\n",
    "4. bruises: bruises=t,no=f\n",
    "5. odor: almond=a,anise=l,creosote=c,fishy=y,foul=f, musty=m,none=n,pungent=p,spicy=s\n",
    "6. gill-attachment: attached=a,descending=d,free=f,notched=n\n",
    "7. gill-spacing: close=c,crowded=w,distant=d\n",
    "8. gill-size: broad=b,narrow=n\n",
    "9. gill-color: black=k,brown=n,buff=b,chocolate=h,gray=g,green=r,orange=o,pink=p,purple=u,red=e,white=w,yellow=y\n",
    "10. stalk-shape: enlarging=e,tapering=t\n",
    "11. stalk-root: bulbous=b,club=c,cup=u,equal=e,rhizomorphs=z,rooted=r\n",
    "12. stalk-surface-above-ring: fibrous=f,scaly=y,silky=k,smooth=s\n",
    "13. stalk-surface-below-ring: fibrous=f,scaly=y,silky=k,smooth=s\n",
    "14. stalk-color-above-ring: brown=n,buff=b,cinnamon=c,gray=g,orange=o,pink=p,red=e,white=w,yellow=y\n",
    "15. stalk-color-below-ring: brown=n,buff=b,cinnamon=c,gray=g,orange=o,pink=p,red=e,white=w,yellow=y\n",
    "16. veil-type: partial=p,universal=u\n",
    "17. veil-color: brown=n,orange=o,white=w,yellow=y\n",
    "18. ring-number: none=n,one=o,two=t\n",
    "19. ring-type: cobwebby=c,evanescent=e,flaring=f,large=l,none=n,pendant=p,sheathing=s,zone=z\n",
    "20. spore-print-color: black=k,brown=n,buff=b,chocolate=h,green=r,orange=o,purple=u,white=w,yellow=y\n",
    "21. population: abundant=a,clustered=c,numerous=n,scattered=s,several=v,solitary=y\n",
    "22. habitat: grasses=g,leaves=l,meadows=m,paths=p,urban=u,waste=w,woods=d\n",
    "\n",
    "First, we will read and explore the data using pandas and the `.read_csv` method. Pandas is an open source library providing high-performance, easy-to-use data structures and data analysis tools for the Python programming language."
   ]
  },
  {
   "cell_type": "code",
   "execution_count": 390,
   "metadata": {
    "nbgrader": {
     "grade": false,
     "grade_id": "cell-d79cb4542926ad3f",
     "locked": true,
     "schema_version": 1,
     "solution": false
    }
   },
   "outputs": [
    {
     "data": {
      "text/html": [
       "<div>\n",
       "<style scoped>\n",
       "    .dataframe tbody tr th:only-of-type {\n",
       "        vertical-align: middle;\n",
       "    }\n",
       "\n",
       "    .dataframe tbody tr th {\n",
       "        vertical-align: top;\n",
       "    }\n",
       "\n",
       "    .dataframe thead th {\n",
       "        text-align: right;\n",
       "    }\n",
       "</style>\n",
       "<table border=\"1\" class=\"dataframe\">\n",
       "  <thead>\n",
       "    <tr style=\"text-align: right;\">\n",
       "      <th></th>\n",
       "      <th>cap-shape</th>\n",
       "      <th>cap-surface</th>\n",
       "      <th>cap-color</th>\n",
       "      <th>bruises</th>\n",
       "      <th>odor</th>\n",
       "      <th>gill-attachment</th>\n",
       "      <th>gill-spacing</th>\n",
       "      <th>gill-size</th>\n",
       "      <th>gill-color</th>\n",
       "      <th>stalk-shape</th>\n",
       "      <th>...</th>\n",
       "      <th>stalk-color-above-ring</th>\n",
       "      <th>stalk-color-below-ring</th>\n",
       "      <th>veil-type</th>\n",
       "      <th>veil-color</th>\n",
       "      <th>ring-number</th>\n",
       "      <th>ring-type</th>\n",
       "      <th>spore-print-color</th>\n",
       "      <th>population</th>\n",
       "      <th>habitat</th>\n",
       "      <th>class</th>\n",
       "    </tr>\n",
       "  </thead>\n",
       "  <tbody>\n",
       "    <tr>\n",
       "      <th>0</th>\n",
       "      <td>x</td>\n",
       "      <td>s</td>\n",
       "      <td>n</td>\n",
       "      <td>t</td>\n",
       "      <td>p</td>\n",
       "      <td>f</td>\n",
       "      <td>c</td>\n",
       "      <td>n</td>\n",
       "      <td>k</td>\n",
       "      <td>e</td>\n",
       "      <td>...</td>\n",
       "      <td>w</td>\n",
       "      <td>w</td>\n",
       "      <td>p</td>\n",
       "      <td>w</td>\n",
       "      <td>o</td>\n",
       "      <td>p</td>\n",
       "      <td>k</td>\n",
       "      <td>s</td>\n",
       "      <td>u</td>\n",
       "      <td>p</td>\n",
       "    </tr>\n",
       "    <tr>\n",
       "      <th>1</th>\n",
       "      <td>x</td>\n",
       "      <td>s</td>\n",
       "      <td>y</td>\n",
       "      <td>t</td>\n",
       "      <td>a</td>\n",
       "      <td>f</td>\n",
       "      <td>c</td>\n",
       "      <td>b</td>\n",
       "      <td>k</td>\n",
       "      <td>e</td>\n",
       "      <td>...</td>\n",
       "      <td>w</td>\n",
       "      <td>w</td>\n",
       "      <td>p</td>\n",
       "      <td>w</td>\n",
       "      <td>o</td>\n",
       "      <td>p</td>\n",
       "      <td>n</td>\n",
       "      <td>n</td>\n",
       "      <td>g</td>\n",
       "      <td>e</td>\n",
       "    </tr>\n",
       "    <tr>\n",
       "      <th>2</th>\n",
       "      <td>b</td>\n",
       "      <td>s</td>\n",
       "      <td>w</td>\n",
       "      <td>t</td>\n",
       "      <td>l</td>\n",
       "      <td>f</td>\n",
       "      <td>c</td>\n",
       "      <td>b</td>\n",
       "      <td>n</td>\n",
       "      <td>e</td>\n",
       "      <td>...</td>\n",
       "      <td>w</td>\n",
       "      <td>w</td>\n",
       "      <td>p</td>\n",
       "      <td>w</td>\n",
       "      <td>o</td>\n",
       "      <td>p</td>\n",
       "      <td>n</td>\n",
       "      <td>n</td>\n",
       "      <td>m</td>\n",
       "      <td>e</td>\n",
       "    </tr>\n",
       "    <tr>\n",
       "      <th>3</th>\n",
       "      <td>x</td>\n",
       "      <td>y</td>\n",
       "      <td>w</td>\n",
       "      <td>t</td>\n",
       "      <td>p</td>\n",
       "      <td>f</td>\n",
       "      <td>c</td>\n",
       "      <td>n</td>\n",
       "      <td>n</td>\n",
       "      <td>e</td>\n",
       "      <td>...</td>\n",
       "      <td>w</td>\n",
       "      <td>w</td>\n",
       "      <td>p</td>\n",
       "      <td>w</td>\n",
       "      <td>o</td>\n",
       "      <td>p</td>\n",
       "      <td>k</td>\n",
       "      <td>s</td>\n",
       "      <td>u</td>\n",
       "      <td>p</td>\n",
       "    </tr>\n",
       "    <tr>\n",
       "      <th>4</th>\n",
       "      <td>x</td>\n",
       "      <td>s</td>\n",
       "      <td>g</td>\n",
       "      <td>f</td>\n",
       "      <td>n</td>\n",
       "      <td>f</td>\n",
       "      <td>w</td>\n",
       "      <td>b</td>\n",
       "      <td>k</td>\n",
       "      <td>t</td>\n",
       "      <td>...</td>\n",
       "      <td>w</td>\n",
       "      <td>w</td>\n",
       "      <td>p</td>\n",
       "      <td>w</td>\n",
       "      <td>o</td>\n",
       "      <td>e</td>\n",
       "      <td>n</td>\n",
       "      <td>a</td>\n",
       "      <td>g</td>\n",
       "      <td>e</td>\n",
       "    </tr>\n",
       "  </tbody>\n",
       "</table>\n",
       "<p>5 rows × 22 columns</p>\n",
       "</div>"
      ],
      "text/plain": [
       "  cap-shape cap-surface cap-color bruises odor gill-attachment gill-spacing  \\\n",
       "0         x           s         n       t    p               f            c   \n",
       "1         x           s         y       t    a               f            c   \n",
       "2         b           s         w       t    l               f            c   \n",
       "3         x           y         w       t    p               f            c   \n",
       "4         x           s         g       f    n               f            w   \n",
       "\n",
       "  gill-size gill-color stalk-shape  ... stalk-color-above-ring  \\\n",
       "0         n          k           e  ...                      w   \n",
       "1         b          k           e  ...                      w   \n",
       "2         b          n           e  ...                      w   \n",
       "3         n          n           e  ...                      w   \n",
       "4         b          k           t  ...                      w   \n",
       "\n",
       "  stalk-color-below-ring veil-type veil-color ring-number ring-type  \\\n",
       "0                      w         p          w           o         p   \n",
       "1                      w         p          w           o         p   \n",
       "2                      w         p          w           o         p   \n",
       "3                      w         p          w           o         p   \n",
       "4                      w         p          w           o         e   \n",
       "\n",
       "  spore-print-color population habitat class  \n",
       "0                 k          s       u     p  \n",
       "1                 n          n       g     e  \n",
       "2                 n          n       m     e  \n",
       "3                 k          s       u     p  \n",
       "4                 n          a       g     e  \n",
       "\n",
       "[5 rows x 22 columns]"
      ]
     },
     "execution_count": 390,
     "metadata": {},
     "output_type": "execute_result"
    }
   ],
   "source": [
    "# load dataset\n",
    "data = pd.read_csv('agaricus-lepiota.csv')\n",
    "data.head(5)"
   ]
  },
  {
   "cell_type": "markdown",
   "metadata": {},
   "source": [
    "One of the advantages of the Decision Tree algorithm is that almost no preprocessing is required. However, finding missing values is always required."
   ]
  },
  {
   "cell_type": "code",
   "execution_count": 391,
   "metadata": {},
   "outputs": [
    {
     "name": "stdout",
     "output_type": "stream",
     "text": [
      "There are no columns with missing values.\n"
     ]
    }
   ],
   "source": [
    "#############################################################################\n",
    "# TODO: Find columns with missing values and remove them from the data.#\n",
    "#############################################################################\n",
    "data.isna().any()\n",
    "data.dropna(axis=1)\n",
    "print(\"There are no columns with missing values.\")\n",
    "#############################################################################\n",
    "#                             END OF YOUR CODE                              #\n",
    "#############################################################################"
   ]
  },
  {
   "cell_type": "markdown",
   "metadata": {},
   "source": [
    "We will split the dataset to `Training` and `Testing` datasets."
   ]
  },
  {
   "cell_type": "code",
   "execution_count": 392,
   "metadata": {},
   "outputs": [
    {
     "name": "stdout",
     "output_type": "stream",
     "text": [
      "Training dataset shape:  (6093, 22)\n",
      "Testing dataset shape:  (2031, 22)\n"
     ]
    }
   ],
   "source": [
    "from sklearn.model_selection import train_test_split\n",
    "# Making sure the last column will hold the labels\n",
    "X, y = data.drop('class', axis=1), data['class']\n",
    "X = np.column_stack([X,y])\n",
    "# split dataset using random_state to get the same split each time\n",
    "X_train, X_test = train_test_split(X, random_state=99)\n",
    "\n",
    "print(\"Training dataset shape: \", X_train.shape)\n",
    "print(\"Testing dataset shape: \", X_test.shape)"
   ]
  },
  {
   "cell_type": "markdown",
   "metadata": {
    "nbgrader": {
     "grade": false,
     "grade_id": "cell-fd7b0191f3f1e897",
     "locked": true,
     "schema_version": 1,
     "solution": false
    }
   },
   "source": [
    "## Impurity Measures\n",
    "\n",
    "Impurity is a measure of how often a randomly chosen element from the set would be incorrectly labeled if it was randomly labeled according to the distribution of labels in the subset. Implement the functions `calc_gini` and `calc_entropy`. You are encouraged to test your implementation (10 points)."
   ]
  },
  {
   "cell_type": "code",
   "execution_count": 393,
   "metadata": {},
   "outputs": [
    {
     "data": {
      "text/plain": [
       "e    0.514771\n",
       "p    0.485229\n",
       "dtype: float64"
      ]
     },
     "execution_count": 393,
     "metadata": {},
     "output_type": "execute_result"
    }
   ],
   "source": [
    "pd.Series(X[:,-1]).value_counts(normalize=True)"
   ]
  },
  {
   "cell_type": "code",
   "execution_count": 394,
   "metadata": {},
   "outputs": [],
   "source": [
    "def calc_gini(data):\n",
    "    \"\"\"\n",
    "    Calculate gini impurity measure of a dataset.\n",
    " \n",
    "    Input:\n",
    "    - data: any dataset where the last column holds the labels.\n",
    " \n",
    "    Returns the gini impurity.    \n",
    "    \"\"\"\n",
    "    gini = 0.0\n",
    "    ###########################################################################\n",
    "    # TODO: Implement the function.                                           #\n",
    "    ###########################################################################\n",
    "    target_ratio_split = pd.Series(data[:,-1]).value_counts(normalize=True)\n",
    "    gini = 1 - sum([ratio ** 2 for ratio in target_ratio_split])\n",
    "    ###########################################################################\n",
    "    #                             END OF YOUR CODE                            #\n",
    "    ###########################################################################\n",
    "    return gini"
   ]
  },
  {
   "cell_type": "code",
   "execution_count": 395,
   "metadata": {},
   "outputs": [],
   "source": [
    "import math\n",
    "def calc_entropy(data):\n",
    "    \"\"\"\n",
    "    Calculate the entropy of a dataset.\n",
    "\n",
    "    Input:\n",
    "    - data: any dataset where the last column holds the labels.\n",
    "\n",
    "    Returns the entropy of the dataset.    \n",
    "    \"\"\"\n",
    "    entropy = 0.0\n",
    "    ###########################################################################\n",
    "    # TODO: Implement the function.                                           #\n",
    "    ###########################################################################\n",
    "    target_ratio_split = pd.Series(data[:,-1]).value_counts(normalize=True)\n",
    "    entropy = -sum([ratio * math.log2(ratio) for ratio in target_ratio_split])\n",
    "    ###########################################################################\n",
    "    #                             END OF YOUR CODE                            #\n",
    "    ###########################################################################\n",
    "    return entropy"
   ]
  },
  {
   "cell_type": "code",
   "execution_count": 396,
   "metadata": {
    "scrolled": true
   },
   "outputs": [],
   "source": [
    "##### Your Tests Here #####\n",
    "e_data = data[data.columns[-1]].value_counts(normalize=True)[0]\n",
    "p_data = data[data.columns[-1]].value_counts(normalize=True)[1]\n",
    "assert calc_gini(X) == 1 - (e_data ** 2 + p_data ** 2)\n",
    "assert calc_entropy(X) == -(e_data * math.log2(e_data)) + -(p_data * math.log2(p_data))"
   ]
  },
  {
   "cell_type": "markdown",
   "metadata": {},
   "source": [
    "## Goodness of Split\n",
    "\n",
    "Given a feature the Goodnees of Split measures the reduction in the impurity if we split the data according to the feature.\n",
    "$$\n",
    "\\Delta\\varphi(S, A) = \\varphi(S) - \\sum_{v\\in Values(A)} \\frac{|S_v|}{|S|}\\varphi(S_v)\n",
    "$$\n",
    "\n",
    "In our implementation the goodness_of_split function will return either the Goodness of Split or the Gain Ratio as learned in class. You'll control the return value with the `gain_ratio` parameter. If this parameter will set to False (the default value) it will return the regular Goodness of Split. If it will set to True it will return the Gain Ratio.\n",
    "$$\n",
    "GainRatio(S,A)=\\frac{InformationGain(S,A)}{SplitInformation(S,A)}\n",
    "$$\n",
    "Where:\n",
    "$$\n",
    "InformationGain(S,A)=Goodness\\ of\\ Split\\ calculated\\ with\\ Entropy\\ as\\ the\\ Impurity\\ function \\\\\n",
    "SplitInformation(S,A)=- \\sum_{a\\in A} \\frac{|S_a|}{|S|}\\log\\frac{|S_a|}{|S|}\n",
    "$$\n",
    "NOTE: you can add more parameters to the function and you can also add more returning variables (The given parameters and the given returning variable should not be touch). (10 Points)"
   ]
  },
  {
   "cell_type": "code",
   "execution_count": 397,
   "metadata": {},
   "outputs": [],
   "source": [
    "def goodness_of_split(data, feature, impurity_func, gain_ratio=False, spec_cat=None, initial_impurity=None):\n",
    "    \"\"\"\n",
    "    Calculate the goodness of split of a dataset given a feature and impurity function.\n",
    "\n",
    "    Input:\n",
    "    - data: any dataset where the last column holds the labels.\n",
    "    - feature: the feature index.\n",
    "    - impurity func: a function that calculates the impurity.\n",
    "    - gain_ratio: goodness of split or gain ratio flag.\n",
    "\n",
    "    Returns the goodness of split (or the Gain Ration).  \n",
    "    \"\"\"\n",
    "    ###########################################################################\n",
    "    # TODO: Implement the function.                                           #\n",
    "    ###########################################################################\n",
    "    categories = pd.Series(data[:,feature]).value_counts(normalize=True)\n",
    "    initial_impurity = initial_impurity if initial_impurity else impurity_func(data) \n",
    "    total_impurity = 0\n",
    "    split_info = 0\n",
    "    for c in categories.index:\n",
    "        if spec_cat and c != spec_cat:\n",
    "            continue\n",
    "\n",
    "        attr_impurity = impurity_func(data[np.where(data[:,feature] == c)])\n",
    "        attr_prob = categories.loc[c]\n",
    "        total_impurity += attr_prob * attr_impurity\n",
    "        split_info -= attr_prob * math.log2(attr_prob)\n",
    "\n",
    "    goodness = initial_impurity - total_impurity\n",
    "    \n",
    "    if gain_ratio:\n",
    "        initial_impurity = calc_entropy(data)\n",
    "        goodness = initial_impurity / split_info\n",
    "    ###########################################################################\n",
    "    #                             END OF YOUR CODE                            #\n",
    "    ###########################################################################\n",
    "    return goodness    "
   ]
  },
  {
   "cell_type": "markdown",
   "metadata": {},
   "source": [
    "## Building a Decision Tree\n",
    "\n",
    "Use a Python class to construct the decision tree. Your class should support the following functionality:\n",
    "\n",
    "1. Initiating a node for a decision tree. You will need to use several class methods and class attributes and you are free to use them as you see fit. We recommend that every node will hold the feature and value used for the split and its children.\n",
    "2. Your code should support both Gini and Entropy as impurity measures. \n",
    "3. The provided data includes categorical data. In this exercise, when splitting a node create the number of children needed according to the attribute unique values.\n",
    "\n",
    "Complete the class `DecisionNode`. The structure of this class is entirely up to you. \n",
    "\n",
    "Complete the function `build_tree`. This function should get the training dataset and the impurity as inputs, initiate a root for the decision tree and construct the tree according to the procedure you learned in class. (30 points)"
   ]
  },
  {
   "cell_type": "code",
   "execution_count": 398,
   "metadata": {},
   "outputs": [],
   "source": [
    "class DecisionNode:\n",
    "    \"\"\"\n",
    "    This class will hold everything you require to construct a decision tree.\n",
    "    The structure of this class is up to you. However, you need to support basic \n",
    "    functionality as described above. It is highly recommended that you \n",
    "    first read and understand the entire exercise before diving into this class.\n",
    "    \"\"\"\n",
    "    def __init__(self, data, depth, impurity_func, features_indexes, current_feature=None): \n",
    "        self.data = data # numpy array of the data\n",
    "        self.features_indexes = features_indexes \n",
    "        self.depth = depth\n",
    "        self.impurity_func = impurity_func\n",
    "        self.impurity = impurity_func(data)\n",
    "        self.current_feature = current_feature # name of the feature we SPLITTED on \n",
    "        self.is_leaf = False\n",
    "        self.labels_counts = {}\n",
    "        self.best_feature = None # column index of best_feature to split on\n",
    "        self.children = list()\n",
    "        self.parent = None\n",
    "        self.category = None\n",
    "        self.pred = None  # the most common label for this data\n",
    "\n",
    "\n",
    "        \n",
    "    def add_child(self, node):\n",
    "        self.children.append(node)\n",
    "    \n",
    "\n",
    "    def pick_best_feature(self, impurity_func, gain_ratio):\n",
    "        \"\"\"\n",
    "        pick best feature\n",
    "        \"\"\"\n",
    "        \n",
    "        features_and_goodness = {}\n",
    "        for feature_index in self.features_indexes:\n",
    "            \n",
    "            goodness = goodness_of_split(self.data, feature_index, impurity_func, gain_ratio=gain_ratio)\n",
    "            features_and_goodness.update({feature_index: goodness})\n",
    "        \n",
    "        best_feature, best_feature_goodness = [(k, v) for k, v in sorted(features_and_goodness.items(), key=lambda item: item[1], reverse=True)][0]\n",
    "        if best_feature_goodness == 0:\n",
    "            return -1\n",
    "        \n",
    "        return best_feature\n",
    "\n",
    "\n",
    "    def split_data(self, feature, cat):\n",
    "        \"\"\"\n",
    "        split the data based on a feature value.\n",
    "        \"\"\"\n",
    "        new_data = self.data[np.where(self.data[:, feature] == cat)]\n",
    "        return new_data\n",
    "\n",
    "\n",
    "    def create_children(self, feature):\n",
    "        \"\"\"\n",
    "        create all the chosen feature children nodes (after we chose the best feature to split on)\n",
    "        \"\"\"\n",
    "        categories = np.unique(self.data[:, feature]) # find categories of the feature\n",
    "        child_features_indexes = self.features_indexes.copy()\n",
    "        child_features_indexes.remove(feature)\n",
    "\n",
    "        for cat in categories:\n",
    "            self.create_child(feature, cat, child_features_indexes)\n",
    "\n",
    "\n",
    "    def create_child(self, feature, cat, child_features_indexes):\n",
    "        \"\"\"\n",
    "        create a child node based on a category of the given feature\n",
    "        \"\"\"\n",
    "        data = self.split_data(feature, cat)\n",
    "        if data is not None:\n",
    "            child = DecisionNode(data=data, depth=self.depth+1, impurity_func=self.impurity_func, features_indexes=child_features_indexes)  # take the parent impurity_func\n",
    "            child.category = cat \n",
    "            child.current_feature = feature  # feature we splitted on\n",
    "            # child.avb_features = [f for f in self.avb_features if f != feature]\n",
    "\n",
    "            # get most common target label\n",
    "            common_label_and_counts = child.get_common_label_and_counts(data)\n",
    "            child.pred = common_label_and_counts[\"pred\"]\n",
    "            child.labels_counts = common_label_and_counts[\"label_counts\"]\n",
    "            # add the child to children list\n",
    "            self.add_child(child)\n",
    "\n",
    "    @staticmethod\n",
    "    def get_common_label_and_counts(data):\n",
    "        labels, counts = np.unique(data[:, -1], return_counts=True)\n",
    "        label_counts = {}\n",
    "        for label, count in zip(labels, counts):\n",
    "            label_counts.update({label: count})\n",
    "\n",
    "        pred = labels[np.argmax(counts)]  # choose the most frequent label\n",
    "        return {\"pred\": pred, \"label_counts\": label_counts}\n",
    "\n",
    "               "
   ]
  },
  {
   "cell_type": "code",
   "execution_count": 399,
   "metadata": {},
   "outputs": [],
   "source": [
    "from queue import Queue\n",
    "\n",
    "\n",
    "def build_tree(data, impurity_func, gain_ratio=False, min_samples_split=1, max_depth=1000):\n",
    "    \"\"\"\n",
    "    Build a tree using the given impurity measure and training dataset. \n",
    "    You are required to fully grow the tree until all leaves are pure. \n",
    "\n",
    "    Input:\n",
    "    - data: the training dataset.\n",
    "    - impurity: the chosen impurity measure. Notice that you can send a function\n",
    "                as an argument in python.\n",
    "    - gain_ratio: goodness of split or gain ratio flag\n",
    "    - min_samples_split: the minimum number of samples required to split an internal node\n",
    "    - max_depth: the allowable depth of the tree\n",
    "\n",
    "    Output: the root node of the tree.\n",
    "    \"\"\"\n",
    "    root = None\n",
    "    ###########################################################################\n",
    "    # TODO: Implement the function.                                           #\n",
    "    ###########################################################################\n",
    "    nodes_que = Queue()\n",
    "    features_indexes=list(range(data.shape[1]))[: -1]\n",
    "    root = DecisionNode(data=data, depth=0, impurity_func=impurity_func, features_indexes=features_indexes, current_feature=None)\n",
    "    nodes_que.put_nowait(root)\n",
    "    # start the loop:\n",
    "    while not nodes_que.empty(): \n",
    "        node = nodes_que.get_nowait()\n",
    "\n",
    "        s = pd.Series(node.data[:, -1]).value_counts()\n",
    "        if len(s) == 1:\n",
    "            node.is_leaf = True\n",
    "            #print(f\"No need to split feature {node.current_feature}, {node.category} since all its labels are the same\")\n",
    "            continue\n",
    "\n",
    "        if any([i <= min_samples_split for i in s]):\n",
    "            #print(f\"No need to split feature {node.current_feature}, {node.category} because the samples_number is lower than min_samples_split\")\n",
    "            node.is_leaf = True\n",
    "            continue\n",
    "        \n",
    "        if len(node.features_indexes) == 0:\n",
    "            node.is_leaf = True\n",
    "            continue\n",
    "        \n",
    "        if node.depth >= max_depth:\n",
    "            #print(f\"No need to split feature {node.current_feature}, {node.category} because the tree reached its max depth\")\n",
    "            node.is_leaf = True\n",
    "            continue\n",
    "        \n",
    "        best_feature = node.pick_best_feature(impurity_func=impurity_func, gain_ratio=gain_ratio)  # A\n",
    "        if best_feature == -1:\n",
    "            continue\n",
    "#         print(best_feature)\n",
    "        node.best_feature = best_feature\n",
    "\n",
    "        node.create_children(feature=best_feature)\n",
    "        # add new children nodes to queue\n",
    "        for child in node.children:  # the node.childres was updated in create_children()\n",
    "            nodes_que.put(child)\n",
    "\n",
    "    ###########################################################################\n",
    "    #                             END OF YOUR CODE                            #\n",
    "    ###########################################################################\n",
    "    return root"
   ]
  },
  {
   "cell_type": "code",
   "execution_count": 400,
   "metadata": {},
   "outputs": [],
   "source": [
    "# python supports passing a function as an argument to another function.\n",
    "tree_gini = build_tree(data=X_train, impurity_func=calc_gini) # gini and goodness of split\n",
    "tree_entropy = build_tree(data=X_train, impurity_func=calc_entropy) # entropy and goodness of split\n",
    "tree_entropy_gain_ratio = build_tree(data=X_train, impurity_func=calc_entropy, gain_ratio=True) # entropy and gain ratio"
   ]
  },
  {
   "cell_type": "markdown",
   "metadata": {},
   "source": [
    "## Tree evaluation\n",
    "\n",
    "Complete the functions `predict` and `calc_accuracy`. (10 points)"
   ]
  },
  {
   "cell_type": "code",
   "execution_count": 401,
   "metadata": {},
   "outputs": [],
   "source": [
    "def predict(root, instance):\n",
    "    \"\"\"\n",
    "    Predict a given instance using the decision tree\n",
    " \n",
    "    Input:\n",
    "    - root: the root of the decision tree.\n",
    "    - instance: a row vector from the dataset. Note that the last element \n",
    "                of this vector is the label of the instance.\n",
    " \n",
    "    Output: the prediction of the instance.\n",
    "    \"\"\"\n",
    "    pred = None\n",
    "    ###########################################################################\n",
    "    # TODO: Implement the function.                                           #\n",
    "    ###########################################################################\n",
    "    node = root\n",
    "\n",
    "    instance_branch_contradiction_flag = False\n",
    "    \n",
    "    while node.is_leaf == False:\n",
    "        if len(node.children) == 0 or instance_branch_contradiction_flag:\n",
    "            return node.pred\n",
    "        \n",
    "        instance_category = instance[node.best_feature]\n",
    "           \n",
    "        for child in node.children:\n",
    "            if child.category == instance_category:\n",
    "                node = child\n",
    "                instance_branch_contradiction_flag = False\n",
    "                break\n",
    "\n",
    "            else:\n",
    "                instance_branch_contradiction_flag = True\n",
    "\n",
    "    ###########################################################################\n",
    "    #                             END OF YOUR CODE                            #\n",
    "    ###########################################################################\n",
    "    return node.pred"
   ]
  },
  {
   "cell_type": "code",
   "execution_count": 402,
   "metadata": {},
   "outputs": [],
   "source": [
    "def calc_accuracy(node, dataset):\n",
    "    \"\"\"\n",
    "    Predict a given dataset using the decision tree\n",
    " \n",
    "    Input:\n",
    "    - node: a node in the decision tree.\n",
    "    - dataset: the dataset on which the accuracy is evaluated\n",
    " \n",
    "    Output: the accuracy of the decision tree on the given dataset (%).\n",
    "    \"\"\"\n",
    "    accuracy = 0\n",
    "    ###########################################################################\n",
    "    # TODO: Implement the function.                                           #\n",
    "    ###########################################################################\n",
    "    predictions = np.array([predict(node, row) for row in dataset])\n",
    "    accuracy = np.sum(predictions == dataset[: , -1]) / len(dataset)\n",
    "    ###########################################################################\n",
    "    #                             END OF YOUR CODE                            #\n",
    "    ###########################################################################\n",
    "    return accuracy "
   ]
  },
  {
   "cell_type": "markdown",
   "metadata": {},
   "source": [
    "After building the three trees using the training set, you should calculate the accuracy on the test set. For each tree print the training and test accuracy. Select the tree that gave you the best test accuracy. For the rest of the exercise, use that tree (when you asked to build another tree use the same impurity function and same gain_ratio flag). "
   ]
  },
  {
   "cell_type": "code",
   "execution_count": 403,
   "metadata": {},
   "outputs": [
    {
     "name": "stdout",
     "output_type": "stream",
     "text": [
      "For the tree: tree_gini: accuracy for train: 0.9261, accuracy for test: 0.8291\n",
      "For the tree: tree_entropy: accuracy for train: 0.9270, accuracy for test: 0.8301\n",
      "For the tree: tree_entropy_gain_ratio: accuracy for train: 0.9176, accuracy for test: 0.8685\n"
     ]
    }
   ],
   "source": [
    "#### Your code here ####\n",
    "trees = {'tree_gini': tree_gini, \n",
    "         'tree_entropy': tree_entropy,\n",
    "         'tree_entropy_gain_ratio': tree_entropy_gain_ratio}\n",
    "\n",
    "for tree_name, tree in trees.items():\n",
    "    train_acc = calc_accuracy(tree, X_train)\n",
    "    test_acc = calc_accuracy(tree, X_test)\n",
    "    print(f\"For the tree: {tree_name}: accuracy for train: {train_acc:.4f}, accuracy for test: {test_acc:.4f}\")\n",
    "    "
   ]
  },
  {
   "cell_type": "markdown",
   "metadata": {},
   "source": [
    "## Depth pruning\n",
    "\n",
    "(15 points)\n",
    "\n",
    "Consider the following max_depth values: [1, 2, 3, 4, 5, 6, 7, 8]. For each value, construct a tree and prune it according to the max_depth value = don't let the tree to grow beyond this depth. Next, calculate the training and testing accuracy.<br>\n",
    "On a single plot, draw the training and testing accuracy as a function of the max_depth. Mark the best result on the graph with red circle."
   ]
  },
  {
   "cell_type": "code",
   "execution_count": 404,
   "metadata": {},
   "outputs": [
    {
     "name": "stdout",
     "output_type": "stream",
     "text": [
      "The best max_depth is: 8\n"
     ]
    },
    {
     "data": {
      "image/png": "[encoded data removed]",
      "text/plain": [
       "<Figure size 720x576 with 1 Axes>"
      ]
     },
     "metadata": {
      "needs_background": "light"
     },
     "output_type": "display_data"
    }
   ],
   "source": [
    "#### Your code here ####\n",
    "depths = [1, 2, 3, 4, 5, 6, 7, 8]\n",
    "\n",
    "train_acc_list = list()\n",
    "test_acc_list = list()\n",
    "\n",
    "for max_depth in depths:\n",
    "    tree = build_tree(X_train[: , 0: 22], calc_entropy, gain_ratio=True, min_samples_split=1, max_depth=max_depth)\n",
    "    train_acc_list.append(calc_accuracy(tree, X_train))\n",
    "    test_acc_list.append(calc_accuracy(tree, X_test))\n",
    "\n",
    "best_train_acc = train_acc_list.index(max(train_acc_list)) \n",
    "best_test_acc = test_acc_list.index(max(test_acc_list)) \n",
    "\n",
    "best_max_depth = depths[best_train_acc]\n",
    "print(f\"The best max_depth is: {best_max_depth}\")\n",
    "\n",
    "fig, ax = plt.subplots(1)\n",
    "plt.plot(depths, train_acc_list, label='Train Accuracy', markevery=[best_train_acc], marker = \"o\", markerfacecolor = 'red')\n",
    "plt.plot(depths, test_acc_list, label='Test Accuracy', markevery=[best_test_acc], marker = \"o\", markerfacecolor = 'red')\n",
    "plt.title('Accuracy as a function of max_depth', fontsize=20)\n",
    "plt.xlabel('max_depth')\n",
    "plt.ylabel('Accuracy (%)')\n",
    "plt.legend()\n",
    "plt.show()\n",
    "\n"
   ]
  },
  {
   "cell_type": "markdown",
   "metadata": {},
   "source": [
    "## Min Samples Split\n",
    "\n",
    "(15 points)\n",
    "\n",
    "Consider the following min_samples_split values: [1, 5, 10, 20, 50]. For each value, construct a tree and prune it according to the min_samples_split value = don't split a node if the number of sample in it is less or equal to the min_samples_split value. Next, calculate the training and testing accuracy.<br>\n",
    "On a single plot, draw the training and testing accuracy as a function of the min_samples_split. Mark the best result on the graph with red circle. (make sure that the x-axis ticks represent the values of min_samples_split)"
   ]
  },
  {
   "cell_type": "code",
   "execution_count": 405,
   "metadata": {},
   "outputs": [],
   "source": [
    "min_samples_split_values = [1, 5, 10, 20, 50]\n",
    "\n",
    "train_acc_list = list()\n",
    "test_acc_list = list()\n",
    "\n",
    "for val in min_samples_split_values:\n",
    "    tree = build_tree(X_train[: , 0: 22], calc_entropy, gain_ratio=True, min_samples_split=val, max_depth=1000)\n",
    "    train_acc_list.append(calc_accuracy(tree, X_train))\n",
    "    test_acc_list.append(calc_accuracy(tree, X_test))\n"
   ]
  },
  {
   "cell_type": "code",
   "execution_count": 406,
   "metadata": {},
   "outputs": [
    {
     "name": "stdout",
     "output_type": "stream",
     "text": [
      "The best min_samples_split is: 5\n"
     ]
    },
    {
     "data": {
      "image/png": "[encoded data removed]",
      "text/plain": [
       "<Figure size 720x576 with 1 Axes>"
      ]
     },
     "metadata": {
      "needs_background": "light"
     },
     "output_type": "display_data"
    }
   ],
   "source": [
    "\n",
    "best_train_acc = train_acc_list.index(max(train_acc_list)) \n",
    "best_test_acc = test_acc_list.index(max(test_acc_list)) \n",
    "\n",
    "best_min_samples_split = min_samples_split_values[best_test_acc]\n",
    "print(f\"The best min_samples_split is: {best_min_samples_split}\")\n",
    "\n",
    "fig, ax = plt.subplots(1)\n",
    "plt.plot(min_samples_split_values, train_acc_list, label='Train Accuracy', markevery=[best_train_acc], marker = \"o\", markerfacecolor = 'red')\n",
    "plt.plot(min_samples_split_values, test_acc_list, label='Test Accuracy', markevery=[best_test_acc], marker = \"o\", markerfacecolor = 'red')\n",
    "plt.title('Accuracy as a function of min_samples_split', fontsize=20)\n",
    "plt.xlabel('min_samples_split')\n",
    "plt.ylabel('Accuracy (%)')\n",
    "plt.legend()\n",
    "plt.show()"
   ]
  },
  {
   "cell_type": "markdown",
   "metadata": {},
   "source": [
    "Build the best 2 trees:\n",
    "1. tree_max_depth - the best tree according to max_depth pruning\n",
    "1. tree_min_samples_split - the best tree according to min_samples_split pruning"
   ]
  },
  {
   "cell_type": "code",
   "execution_count": 407,
   "metadata": {},
   "outputs": [],
   "source": [
    "#### Your code here ####\n",
    "\n",
    "# we picked according to test accuracy, and we are using all of the data\n",
    "INPURITY_FUNC = calc_entropy\n",
    "GAIN_RATIO = True\n",
    "best_tree_max_depth = build_tree(X, impurity_func=INPURITY_FUNC, gain_ratio=GAIN_RATIO, min_samples_split=1, max_depth=best_max_depth)\n",
    "tree_min_samples_split = build_tree(X, impurity_func=INPURITY_FUNC, gain_ratio=GAIN_RATIO, min_samples_split=best_min_samples_split, max_depth=1000)"
   ]
  },
  {
   "cell_type": "markdown",
   "metadata": {},
   "source": [
    "## Number of Nodes\n",
    "\n",
    "(5 points)\n",
    "\n",
    "Complete the function counts_nodes and print the number of nodes in each tree and print the number of nodes of the two trees above"
   ]
  },
  {
   "cell_type": "code",
   "execution_count": 408,
   "metadata": {},
   "outputs": [],
   "source": [
    "def count_nodes(node):\n",
    "    \"\"\"\n",
    "    Count the number of nodes in a given tree\n",
    " \n",
    "    Input:\n",
    "    - node: a node in the decision tree.\n",
    " \n",
    "    Output: the number of node in the tree.\n",
    "    \"\"\"\n",
    "    ###########################################################################\n",
    "    # TODO: Implement the function.                                           #\n",
    "    ###########################################################################\n",
    "    count = 1\n",
    "\n",
    "    if node.is_leaf:\n",
    "        return 1\n",
    "        \n",
    "    for child in node.children:\n",
    "        count += count_nodes(child)\n",
    "\n",
    "    return count\n",
    "    ###########################################################################\n",
    "    #                             END OF YOUR CODE                            #\n",
    "    ###########################################################################\n",
    "    "
   ]
  },
  {
   "cell_type": "code",
   "execution_count": 409,
   "metadata": {},
   "outputs": [
    {
     "name": "stdout",
     "output_type": "stream",
     "text": [
      "The number of nodes for tree tree_gini is 1368\n",
      "The number of nodes for tree tree_entropy is 1366\n",
      "The number of nodes for tree tree_entropy_gain_ratio is 1695\n",
      "The number of nodes for tree best_tree_max_depth is 47\n",
      "The number of nodes for tree tree_min_samples_split is 585\n"
     ]
    }
   ],
   "source": [
    "trees.update({\n",
    "    \"best_tree_max_depth\": best_tree_max_depth,\n",
    "    \"tree_min_samples_split\": tree_min_samples_split\n",
    "})\n",
    "for tree_name, tree in trees.items():\n",
    "    print(f\"The number of nodes for tree {tree_name} is {count_nodes(tree)}\")"
   ]
  },
  {
   "cell_type": "markdown",
   "metadata": {},
   "source": [
    "## Print the tree\n",
    "\n",
    "Complete the function `print_tree`. Your tree should be visualized clearly. You can use the following example as a reference:\n",
    "```\n",
    "[ROOT, feature=X0],\n",
    "  [X0=a, feature=X2]\n",
    "    [X2=c, leaf]: [{1.0: 10}]\n",
    "    [X2=d, leaf]: [{0.0: 10}]\n",
    "  [X0=y, feature=X5], \n",
    "    [X5=a, leaf]: [{1.0: 5}]\n",
    "    [X5=s, leaf]: [{0.0: 10}]\n",
    "  [X0=e, leaf]: [{0.0: 25, 1.0: 50}]\n",
    "```\n",
    "In each brackets:\n",
    "* The first argument is the parent feature with the value that led to current node\n",
    "* The second argument is the selected feature of the current node\n",
    "* If the current node is a leaf, you need to print also the labels and their counts\n",
    "\n",
    "(5 points)"
   ]
  },
  {
   "cell_type": "code",
   "execution_count": 410,
   "metadata": {},
   "outputs": [],
   "source": [
    "# you can change the function signeture\n",
    "def print_tree(node, depth=0, parent_feature='ROOT', feature_val='ROOT'):\n",
    "    '''\n",
    "    prints the tree according to the example above\n",
    "\n",
    "    Input:\n",
    "    - node: a node in the decision tree\n",
    "\n",
    "    This function has no return value\n",
    "    '''\n",
    "    ###########################################################################\n",
    "    # TODO: Implement the function.                                           #\n",
    "    ###########################################################################\n",
    "\n",
    "    if node.is_leaf: # dealing with a leaf\n",
    "        print(depth * \" \" + f\"[X{node.current_feature}={node.category}, leaf]: [{node.labels_counts.get('p', 0)}: {node.labels_counts.get('e', 0)}]\")\n",
    "        depth -= 3\n",
    "        \n",
    "    else: # dealing with a node\n",
    "        if node.current_feature == None:\n",
    "            print(f\"[Root, feature=X{node.best_feature}]\")\n",
    "\n",
    "        else:\n",
    "            print(depth * \" \" + f\"[X{node.current_feature}={node.category}, feature=X{node.best_feature}]\")\n",
    "            depth += 3\n",
    "\n",
    "    for child in node.children:\n",
    "        print_tree(child, depth)\n",
    "    ###########################################################################\n",
    "    #                             END OF YOUR CODE                            #\n",
    "    ###########################################################################"
   ]
  },
  {
   "cell_type": "markdown",
   "metadata": {},
   "source": [
    "print the tree with the best test accuracy and with less than 50 nodes (from the two pruning methods)"
   ]
  },
  {
   "cell_type": "code",
   "execution_count": 411,
   "metadata": {},
   "outputs": [
    {
     "name": "stdout",
     "output_type": "stream",
     "text": [
      "The tree with the best accuracy and less than 50 nodes from the two pruning methods is best_tree_max_depth\n",
      "[Root, feature=X14]\n",
      "[X14=p, feature=X5]\n",
      "   [X5=a, feature=X3]\n",
      "      [X3=f, feature=X6]\n",
      "         [X6=c, feature=X7]\n",
      "            [X7=b, feature=X9]\n",
      "               [X9=e, feature=X2]\n",
      "                  [X2=c, leaf]: [6: 0]\n",
      "                  [X2=e, leaf]: [5: 1]\n",
      "                  [X2=n, feature=X1]\n",
      "                     [X1=s, leaf]: [22: 170]\n",
      "                     [X1=y, leaf]: [6: 0]\n",
      "   [X5=f, feature=X15]\n",
      "      [X15=w, feature=X16]\n",
      "         [X16=n, feature=X1]\n",
      "            [X1=y, feature=X3]\n",
      "               [X3=f, feature=X4]\n",
      "                  [X4=m, feature=X6]\n",
      "                     [X6=c, leaf]: [15: 3]\n",
      "         [X16=o, feature=X6]\n",
      "            [X6=c, feature=X7]\n",
      "               [X7=b, feature=X3]\n",
      "                  [X3=f, feature=X4]\n",
      "                     [X4=f, leaf]: [1139: 157]\n",
      "                  [X3=t, feature=X17]\n",
      "                     [X17=p, leaf]: [507: 2213]\n",
      "               [X7=n, feature=X3]\n",
      "                  [X3=f, feature=X19]\n",
      "                     [X19=s, leaf]: [40: 8]\n",
      "                     [X19=v, leaf]: [1642: 238]\n",
      "                     [X19=y, leaf]: [6: 66]\n",
      "                  [X3=t, feature=X4]\n",
      "                     [X4=p, leaf]: [243: 13]\n",
      "            [X6=w, feature=X12]\n",
      "               [X12=w, feature=X13]\n",
      "                  [X13=n, feature=X3]\n",
      "                     [X3=f, leaf]: [6: 42]\n",
      "                  [X13=w, feature=X3]\n",
      "                     [X3=f, leaf]: [168: 696]\n",
      "                     [X3=t, leaf]: [18: 86]\n",
      "         [X16=t, feature=X4]\n",
      "            [X4=n, feature=X7]\n",
      "               [X7=b, feature=X9]\n",
      "                  [X9=e, feature=X18]\n",
      "                     [X18=r, leaf]: [64: 8]\n",
      "                     [X18=w, leaf]: [47: 481]\n",
      "      [X15=y, leaf]: [8: 0]\n"
     ]
    }
   ],
   "source": [
    "#### Your code here ####\n",
    "print(\"The tree with the best accuracy and less than 50 nodes from the two pruning methods is best_tree_max_depth\")\n",
    "print_tree(best_tree_max_depth)"
   ]
  },
  {
   "cell_type": "code",
   "execution_count": null,
   "metadata": {},
   "outputs": [],
   "source": []
  }
 ],
 "metadata": {
  "celltoolbar": "Create Assignment",
  "kernelspec": {
   "display_name": "Python 3",
   "language": "python",
   "name": "python3"
  },
  "language_info": {
   "codemirror_mode": {
    "name": "ipython",
    "version": 3
   },
   "file_extension": ".py",
   "mimetype": "text/x-python",
   "name": "python",
   "nbconvert_exporter": "python",
   "pygments_lexer": "ipython3",
   "version": "3.8.5"
  }
 },
 "nbformat": 4,
 "nbformat_minor": 4
}
