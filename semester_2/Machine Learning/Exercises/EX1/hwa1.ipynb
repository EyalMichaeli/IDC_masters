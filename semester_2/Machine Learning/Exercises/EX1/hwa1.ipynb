{
 "cells": [
  {
   "cell_type": "markdown",
   "metadata": {
    "nbgrader": {
     "grade": false,
     "grade_id": "cell-35def0d0f4b47a0a",
     "locked": true,
     "schema_version": 1,
     "solution": false
    }
   },
   "source": [
    "# Exercise 1: Linear Regression\n",
    "\n",
    "### This notebook is executed automatically. Failing to meet any of the submission requirements will results in a 25 point fine or your submission not being graded at all. Kindly reminder: the homework assignments grade is 50% of the final grade. \n",
    "\n",
    "### Make sure you restart the notebook and check the filename before submission. Appeals based on wrong filenames and errors due to syntax and execution errors will not be accepted.\n",
    "\n",
    "### Do not start the exercise until you fully understand the submission guidelines.\n",
    "\n",
    "## Read the following instructions carefully:\n",
    "\n",
    "1. This jupyter notebook contains all the step by step instructions needed for this exercise.\n",
    "1. Submission includes this notebook only with the exercise number and your ID as the filename. For example: `hw1_123456789_987654321.ipynb` if you submitted in pairs and `hw1_123456789.ipynb` if you submitted the exercise alone.\n",
    "1. Write **efficient vectorized** code whenever possible. Some calculations in this exercise take several minutes when implemented efficiently, and might take much longer otherwise. Unnecessary loops will result in point deduction.\n",
    "1. You are responsible for the correctness of your code and should add as many tests as you see fit. Tests will not be graded nor checked.\n",
    "1. Write your functions in this notebook only. **Do not create Python modules and import them**.\n",
    "1. You are allowed to use functions and methods from the [Python Standard Library](https://docs.python.org/3/library/) and [numpy](https://www.numpy.org/devdocs/reference/) only. **Do not import anything else.**\n",
    "1. Your code must run without errors. Make sure your `numpy` version is at least 1.15.4 and that you are using at least python 3.6. Changes of the configuration we provided are at your own risk. Any code that cannot run will not be graded.\n",
    "1. Write your own code. Cheating will not be tolerated.\n",
    "1. Answers to qualitative questions should be written in **markdown** cells (with $\\LaTeX$ support). Answers that will be written in commented code blocks will not be checked.\n",
    "\n",
    "## In this exercise you will perform the following:\n",
    "1. Load a dataset and perform basic data exploration using a powerful data science library called [pandas](https://pandas.pydata.org/pandas-docs/stable/).\n",
    "1. Preprocess the data for linear regression.\n",
    "1. Compute the cost and perform gradient descent in pure numpy in vectorized form.\n",
    "1. Fit a linear regression model using a single feature.\n",
    "1. Visualize your results using matplotlib.\n",
    "1. Perform multivariate linear regression.\n",
    "1. Perform polynomial regression.\n",
    "1. Experiment with adaptive learning rates."
   ]
  },
  {
   "cell_type": "markdown",
   "metadata": {},
   "source": [
    "# I have read and understood the instructions: *** YOUR ID HERE ***"
   ]
  },
  {
   "cell_type": "code",
   "execution_count": 1,
   "metadata": {
    "nbgrader": {
     "grade": false,
     "grade_id": "cell-5ed0076cec86f623",
     "locked": true,
     "schema_version": 1,
     "solution": false
    }
   },
   "outputs": [],
   "source": [
    "import numpy as np # used for scientific computing\n",
    "import pandas as pd # used for data analysis and manipulation\n",
    "import matplotlib.pyplot as plt # used for visualization and plotting\n",
    "\n",
    "np.random.seed(42) \n",
    "\n",
    "# make matplotlib figures appear inline in the notebook\n",
    "%matplotlib inline\n",
    "plt.rcParams['figure.figsize'] = (14.0, 8.0) # set default size of plots\n",
    "plt.rcParams['image.interpolation'] = 'nearest'\n",
    "plt.rcParams['image.cmap'] = 'gray'"
   ]
  },
  {
   "cell_type": "markdown",
   "metadata": {
    "nbgrader": {
     "grade": false,
     "grade_id": "cell-916f46de8cde2ca7",
     "locked": true,
     "schema_version": 1,
     "solution": false
    }
   },
   "source": [
    "## Part 1: Data Preprocessing (10 Points)\n",
    "\n",
    "For the following exercise, we will use a dataset containing housing prices in King County, USA. The dataset contains 5,000 observations with 18 features and a single target value - the house price. \n",
    "\n",
    "First, we will read and explore the data using pandas and the `.read_csv` method. Pandas is an open source library providing high-performance, easy-to-use data structures and data analysis tools for the Python programming language."
   ]
  },
  {
   "cell_type": "code",
   "execution_count": 2,
   "metadata": {
    "nbgrader": {
     "grade": false,
     "grade_id": "cell-9ef8b2769c2c1949",
     "locked": true,
     "schema_version": 1,
     "solution": false
    }
   },
   "outputs": [],
   "source": [
    "# Read comma separated data\n",
    "df = pd.read_csv('data.csv') # Make sure this cell runs regardless of your absolute path.\n",
    "# df stands for dataframe, which is the default format for datasets in pandas"
   ]
  },
  {
   "cell_type": "markdown",
   "metadata": {
    "nbgrader": {
     "grade": false,
     "grade_id": "cell-6966afc155aa6616",
     "locked": true,
     "schema_version": 1,
     "solution": false
    }
   },
   "source": [
    "### Data Exploration\n",
    "A good practice in any data-oriented project is to first try and understand the data. Fortunately, pandas is built for that purpose. Start by looking at the top of the dataset using the `df.head()` command. This will be the first indication that you read your data properly, and that the headers are correct. Next, you can use `df.describe()` to show statistics on the data and check for trends and irregularities."
   ]
  },
  {
   "cell_type": "code",
   "execution_count": 3,
   "metadata": {},
   "outputs": [
    {
     "data": {
      "text/plain": "           id             date     price  bedrooms  bathrooms  sqft_living  \\\n0  7129300520  20141013T000000  221900.0         3       1.00         1180   \n1  6414100192  20141209T000000  538000.0         3       2.25         2570   \n2  5631500400  20150225T000000  180000.0         2       1.00          770   \n3  2487200875  20141209T000000  604000.0         4       3.00         1960   \n4  1954400510  20150218T000000  510000.0         3       2.00         1680   \n\n   sqft_lot  floors  waterfront  view  condition  grade  sqft_above  yr_built  \\\n0      5650     1.0           0     0          3      7        1180      1955   \n1      7242     2.0           0     0          3      7        2170      1951   \n2     10000     1.0           0     0          3      6         770      1933   \n3      5000     1.0           0     0          5      7        1050      1965   \n4      8080     1.0           0     0          3      8        1680      1987   \n\n   yr_renovated  zipcode      lat     long  sqft_living15  sqft_lot15  \n0             0    98178  47.5112 -122.257           1340        5650  \n1          1991    98125  47.7210 -122.319           1690        7639  \n2             0    98028  47.7379 -122.233           2720        8062  \n3             0    98136  47.5208 -122.393           1360        5000  \n4             0    98074  47.6168 -122.045           1800        7503  ",
      "text/html": "<div>\n<style scoped>\n    .dataframe tbody tr th:only-of-type {\n        vertical-align: middle;\n    }\n\n    .dataframe tbody tr th {\n        vertical-align: top;\n    }\n\n    .dataframe thead th {\n        text-align: right;\n    }\n</style>\n<table border=\"1\" class=\"dataframe\">\n  <thead>\n    <tr style=\"text-align: right;\">\n      <th></th>\n      <th>id</th>\n      <th>date</th>\n      <th>price</th>\n      <th>bedrooms</th>\n      <th>bathrooms</th>\n      <th>sqft_living</th>\n      <th>sqft_lot</th>\n      <th>floors</th>\n      <th>waterfront</th>\n      <th>view</th>\n      <th>condition</th>\n      <th>grade</th>\n      <th>sqft_above</th>\n      <th>yr_built</th>\n      <th>yr_renovated</th>\n      <th>zipcode</th>\n      <th>lat</th>\n      <th>long</th>\n      <th>sqft_living15</th>\n      <th>sqft_lot15</th>\n    </tr>\n  </thead>\n  <tbody>\n    <tr>\n      <th>0</th>\n      <td>7129300520</td>\n      <td>20141013T000000</td>\n      <td>221900.0</td>\n      <td>3</td>\n      <td>1.00</td>\n      <td>1180</td>\n      <td>5650</td>\n      <td>1.0</td>\n      <td>0</td>\n      <td>0</td>\n      <td>3</td>\n      <td>7</td>\n      <td>1180</td>\n      <td>1955</td>\n      <td>0</td>\n      <td>98178</td>\n      <td>47.5112</td>\n      <td>-122.257</td>\n      <td>1340</td>\n      <td>5650</td>\n    </tr>\n    <tr>\n      <th>1</th>\n      <td>6414100192</td>\n      <td>20141209T000000</td>\n      <td>538000.0</td>\n      <td>3</td>\n      <td>2.25</td>\n      <td>2570</td>\n      <td>7242</td>\n      <td>2.0</td>\n      <td>0</td>\n      <td>0</td>\n      <td>3</td>\n      <td>7</td>\n      <td>2170</td>\n      <td>1951</td>\n      <td>1991</td>\n      <td>98125</td>\n      <td>47.7210</td>\n      <td>-122.319</td>\n      <td>1690</td>\n      <td>7639</td>\n    </tr>\n    <tr>\n      <th>2</th>\n      <td>5631500400</td>\n      <td>20150225T000000</td>\n      <td>180000.0</td>\n      <td>2</td>\n      <td>1.00</td>\n      <td>770</td>\n      <td>10000</td>\n      <td>1.0</td>\n      <td>0</td>\n      <td>0</td>\n      <td>3</td>\n      <td>6</td>\n      <td>770</td>\n      <td>1933</td>\n      <td>0</td>\n      <td>98028</td>\n      <td>47.7379</td>\n      <td>-122.233</td>\n      <td>2720</td>\n      <td>8062</td>\n    </tr>\n    <tr>\n      <th>3</th>\n      <td>2487200875</td>\n      <td>20141209T000000</td>\n      <td>604000.0</td>\n      <td>4</td>\n      <td>3.00</td>\n      <td>1960</td>\n      <td>5000</td>\n      <td>1.0</td>\n      <td>0</td>\n      <td>0</td>\n      <td>5</td>\n      <td>7</td>\n      <td>1050</td>\n      <td>1965</td>\n      <td>0</td>\n      <td>98136</td>\n      <td>47.5208</td>\n      <td>-122.393</td>\n      <td>1360</td>\n      <td>5000</td>\n    </tr>\n    <tr>\n      <th>4</th>\n      <td>1954400510</td>\n      <td>20150218T000000</td>\n      <td>510000.0</td>\n      <td>3</td>\n      <td>2.00</td>\n      <td>1680</td>\n      <td>8080</td>\n      <td>1.0</td>\n      <td>0</td>\n      <td>0</td>\n      <td>3</td>\n      <td>8</td>\n      <td>1680</td>\n      <td>1987</td>\n      <td>0</td>\n      <td>98074</td>\n      <td>47.6168</td>\n      <td>-122.045</td>\n      <td>1800</td>\n      <td>7503</td>\n    </tr>\n  </tbody>\n</table>\n</div>"
     },
     "execution_count": 3,
     "metadata": {},
     "output_type": "execute_result"
    }
   ],
   "source": [
    "df.head(5)"
   ]
  },
  {
   "cell_type": "code",
   "execution_count": 4,
   "metadata": {
    "nbgrader": {
     "grade": true,
     "grade_id": "cell-5bd0d6844b64ea1a",
     "locked": false,
     "points": 1,
     "schema_version": 1,
     "solution": true
    }
   },
   "outputs": [
    {
     "data": {
      "text/html": [
       "<div>\n",
       "<style scoped>\n",
       "    .dataframe tbody tr th:only-of-type {\n",
       "        vertical-align: middle;\n",
       "    }\n",
       "\n",
       "    .dataframe tbody tr th {\n",
       "        vertical-align: top;\n",
       "    }\n",
       "\n",
       "    .dataframe thead th {\n",
       "        text-align: right;\n",
       "    }\n",
       "</style>\n",
       "<table border=\"1\" class=\"dataframe\">\n",
       "  <thead>\n",
       "    <tr style=\"text-align: right;\">\n",
       "      <th></th>\n",
       "      <th>id</th>\n",
       "      <th>price</th>\n",
       "      <th>bedrooms</th>\n",
       "      <th>bathrooms</th>\n",
       "      <th>sqft_living</th>\n",
       "      <th>sqft_lot</th>\n",
       "      <th>floors</th>\n",
       "      <th>waterfront</th>\n",
       "      <th>view</th>\n",
       "      <th>condition</th>\n",
       "      <th>grade</th>\n",
       "      <th>sqft_above</th>\n",
       "      <th>yr_built</th>\n",
       "      <th>yr_renovated</th>\n",
       "      <th>zipcode</th>\n",
       "      <th>lat</th>\n",
       "      <th>long</th>\n",
       "      <th>sqft_living15</th>\n",
       "      <th>sqft_lot15</th>\n",
       "    </tr>\n",
       "  </thead>\n",
       "  <tbody>\n",
       "    <tr>\n",
       "      <th>count</th>\n",
       "      <td>5.000000e+03</td>\n",
       "      <td>5.000000e+03</td>\n",
       "      <td>5000.0000</td>\n",
       "      <td>5000.000000</td>\n",
       "      <td>5000.000000</td>\n",
       "      <td>5.000000e+03</td>\n",
       "      <td>5000.000000</td>\n",
       "      <td>5000.000000</td>\n",
       "      <td>5000.000000</td>\n",
       "      <td>5000.000000</td>\n",
       "      <td>5000.000000</td>\n",
       "      <td>5000.000000</td>\n",
       "      <td>5000.000000</td>\n",
       "      <td>5000.000000</td>\n",
       "      <td>5000.000000</td>\n",
       "      <td>5000.000000</td>\n",
       "      <td>5000.000000</td>\n",
       "      <td>5000.00000</td>\n",
       "      <td>5000.000000</td>\n",
       "    </tr>\n",
       "    <tr>\n",
       "      <th>mean</th>\n",
       "      <td>4.630823e+09</td>\n",
       "      <td>5.394699e+05</td>\n",
       "      <td>3.3714</td>\n",
       "      <td>2.062150</td>\n",
       "      <td>2061.036800</td>\n",
       "      <td>1.615893e+04</td>\n",
       "      <td>1.432600</td>\n",
       "      <td>0.009400</td>\n",
       "      <td>0.243000</td>\n",
       "      <td>3.455000</td>\n",
       "      <td>7.595200</td>\n",
       "      <td>1753.151000</td>\n",
       "      <td>1966.660800</td>\n",
       "      <td>95.052800</td>\n",
       "      <td>98078.812600</td>\n",
       "      <td>47.559312</td>\n",
       "      <td>-122.215864</td>\n",
       "      <td>1976.84520</td>\n",
       "      <td>13451.164600</td>\n",
       "    </tr>\n",
       "    <tr>\n",
       "      <th>std</th>\n",
       "      <td>2.870890e+09</td>\n",
       "      <td>3.873115e+05</td>\n",
       "      <td>0.9104</td>\n",
       "      <td>0.773592</td>\n",
       "      <td>923.727509</td>\n",
       "      <td>4.600220e+04</td>\n",
       "      <td>0.510793</td>\n",
       "      <td>0.096506</td>\n",
       "      <td>0.774643</td>\n",
       "      <td>0.677692</td>\n",
       "      <td>1.166537</td>\n",
       "      <td>818.390844</td>\n",
       "      <td>28.286855</td>\n",
       "      <td>425.234932</td>\n",
       "      <td>54.126332</td>\n",
       "      <td>0.139521</td>\n",
       "      <td>0.141807</td>\n",
       "      <td>674.73601</td>\n",
       "      <td>26514.749009</td>\n",
       "    </tr>\n",
       "    <tr>\n",
       "      <th>min</th>\n",
       "      <td>1.000102e+06</td>\n",
       "      <td>7.500000e+04</td>\n",
       "      <td>0.0000</td>\n",
       "      <td>0.000000</td>\n",
       "      <td>380.000000</td>\n",
       "      <td>6.090000e+02</td>\n",
       "      <td>1.000000</td>\n",
       "      <td>0.000000</td>\n",
       "      <td>0.000000</td>\n",
       "      <td>1.000000</td>\n",
       "      <td>3.000000</td>\n",
       "      <td>380.000000</td>\n",
       "      <td>1900.000000</td>\n",
       "      <td>0.000000</td>\n",
       "      <td>98001.000000</td>\n",
       "      <td>47.155900</td>\n",
       "      <td>-122.514000</td>\n",
       "      <td>620.00000</td>\n",
       "      <td>660.000000</td>\n",
       "    </tr>\n",
       "    <tr>\n",
       "      <th>25%</th>\n",
       "      <td>2.154075e+09</td>\n",
       "      <td>3.179062e+05</td>\n",
       "      <td>3.0000</td>\n",
       "      <td>1.500000</td>\n",
       "      <td>1410.000000</td>\n",
       "      <td>5.400000e+03</td>\n",
       "      <td>1.000000</td>\n",
       "      <td>0.000000</td>\n",
       "      <td>0.000000</td>\n",
       "      <td>3.000000</td>\n",
       "      <td>7.000000</td>\n",
       "      <td>1190.000000</td>\n",
       "      <td>1949.000000</td>\n",
       "      <td>0.000000</td>\n",
       "      <td>98033.000000</td>\n",
       "      <td>47.463675</td>\n",
       "      <td>-122.329000</td>\n",
       "      <td>1490.00000</td>\n",
       "      <td>5391.500000</td>\n",
       "    </tr>\n",
       "    <tr>\n",
       "      <th>50%</th>\n",
       "      <td>4.022900e+09</td>\n",
       "      <td>4.490000e+05</td>\n",
       "      <td>3.0000</td>\n",
       "      <td>2.000000</td>\n",
       "      <td>1890.000000</td>\n",
       "      <td>7.875000e+03</td>\n",
       "      <td>1.000000</td>\n",
       "      <td>0.000000</td>\n",
       "      <td>0.000000</td>\n",
       "      <td>3.000000</td>\n",
       "      <td>7.000000</td>\n",
       "      <td>1530.000000</td>\n",
       "      <td>1968.000000</td>\n",
       "      <td>0.000000</td>\n",
       "      <td>98070.000000</td>\n",
       "      <td>47.572850</td>\n",
       "      <td>-122.235000</td>\n",
       "      <td>1820.00000</td>\n",
       "      <td>7800.000000</td>\n",
       "    </tr>\n",
       "    <tr>\n",
       "      <th>75%</th>\n",
       "      <td>7.345078e+09</td>\n",
       "      <td>6.500000e+05</td>\n",
       "      <td>4.0000</td>\n",
       "      <td>2.500000</td>\n",
       "      <td>2500.000000</td>\n",
       "      <td>1.123400e+04</td>\n",
       "      <td>2.000000</td>\n",
       "      <td>0.000000</td>\n",
       "      <td>0.000000</td>\n",
       "      <td>4.000000</td>\n",
       "      <td>8.000000</td>\n",
       "      <td>2130.000000</td>\n",
       "      <td>1990.000000</td>\n",
       "      <td>0.000000</td>\n",
       "      <td>98118.000000</td>\n",
       "      <td>47.679200</td>\n",
       "      <td>-122.129000</td>\n",
       "      <td>2340.00000</td>\n",
       "      <td>10469.250000</td>\n",
       "    </tr>\n",
       "    <tr>\n",
       "      <th>max</th>\n",
       "      <td>9.842300e+09</td>\n",
       "      <td>7.060000e+06</td>\n",
       "      <td>9.0000</td>\n",
       "      <td>6.750000</td>\n",
       "      <td>10040.000000</td>\n",
       "      <td>1.651359e+06</td>\n",
       "      <td>3.500000</td>\n",
       "      <td>1.000000</td>\n",
       "      <td>4.000000</td>\n",
       "      <td>5.000000</td>\n",
       "      <td>13.000000</td>\n",
       "      <td>7680.000000</td>\n",
       "      <td>2015.000000</td>\n",
       "      <td>2015.000000</td>\n",
       "      <td>98199.000000</td>\n",
       "      <td>47.777600</td>\n",
       "      <td>-121.315000</td>\n",
       "      <td>5790.00000</td>\n",
       "      <td>434728.000000</td>\n",
       "    </tr>\n",
       "  </tbody>\n",
       "</table>\n",
       "</div>"
      ],
      "text/plain": [
       "                 id         price   bedrooms    bathrooms   sqft_living  \\\n",
       "count  5.000000e+03  5.000000e+03  5000.0000  5000.000000   5000.000000   \n",
       "mean   4.630823e+09  5.394699e+05     3.3714     2.062150   2061.036800   \n",
       "std    2.870890e+09  3.873115e+05     0.9104     0.773592    923.727509   \n",
       "min    1.000102e+06  7.500000e+04     0.0000     0.000000    380.000000   \n",
       "25%    2.154075e+09  3.179062e+05     3.0000     1.500000   1410.000000   \n",
       "50%    4.022900e+09  4.490000e+05     3.0000     2.000000   1890.000000   \n",
       "75%    7.345078e+09  6.500000e+05     4.0000     2.500000   2500.000000   \n",
       "max    9.842300e+09  7.060000e+06     9.0000     6.750000  10040.000000   \n",
       "\n",
       "           sqft_lot       floors   waterfront         view    condition  \\\n",
       "count  5.000000e+03  5000.000000  5000.000000  5000.000000  5000.000000   \n",
       "mean   1.615893e+04     1.432600     0.009400     0.243000     3.455000   \n",
       "std    4.600220e+04     0.510793     0.096506     0.774643     0.677692   \n",
       "min    6.090000e+02     1.000000     0.000000     0.000000     1.000000   \n",
       "25%    5.400000e+03     1.000000     0.000000     0.000000     3.000000   \n",
       "50%    7.875000e+03     1.000000     0.000000     0.000000     3.000000   \n",
       "75%    1.123400e+04     2.000000     0.000000     0.000000     4.000000   \n",
       "max    1.651359e+06     3.500000     1.000000     4.000000     5.000000   \n",
       "\n",
       "             grade   sqft_above     yr_built  yr_renovated       zipcode  \\\n",
       "count  5000.000000  5000.000000  5000.000000   5000.000000   5000.000000   \n",
       "mean      7.595200  1753.151000  1966.660800     95.052800  98078.812600   \n",
       "std       1.166537   818.390844    28.286855    425.234932     54.126332   \n",
       "min       3.000000   380.000000  1900.000000      0.000000  98001.000000   \n",
       "25%       7.000000  1190.000000  1949.000000      0.000000  98033.000000   \n",
       "50%       7.000000  1530.000000  1968.000000      0.000000  98070.000000   \n",
       "75%       8.000000  2130.000000  1990.000000      0.000000  98118.000000   \n",
       "max      13.000000  7680.000000  2015.000000   2015.000000  98199.000000   \n",
       "\n",
       "               lat         long  sqft_living15     sqft_lot15  \n",
       "count  5000.000000  5000.000000     5000.00000    5000.000000  \n",
       "mean     47.559312  -122.215864     1976.84520   13451.164600  \n",
       "std       0.139521     0.141807      674.73601   26514.749009  \n",
       "min      47.155900  -122.514000      620.00000     660.000000  \n",
       "25%      47.463675  -122.329000     1490.00000    5391.500000  \n",
       "50%      47.572850  -122.235000     1820.00000    7800.000000  \n",
       "75%      47.679200  -122.129000     2340.00000   10469.250000  \n",
       "max      47.777600  -121.315000     5790.00000  434728.000000  "
      ]
     },
     "execution_count": 4,
     "metadata": {},
     "output_type": "execute_result"
    }
   ],
   "source": [
    "df.describe()"
   ]
  },
  {
   "cell_type": "markdown",
   "metadata": {
    "nbgrader": {
     "grade": false,
     "grade_id": "cell-9b9bd1b387905904",
     "locked": true,
     "schema_version": 1,
     "solution": false
    }
   },
   "source": [
    "We will start with one variable linear regression by extracting the target column and the `sqft_living` variable from the dataset. We use pandas and select both columns as separate variables and transform them into a numpy array."
   ]
  },
  {
   "cell_type": "code",
   "execution_count": 5,
   "metadata": {
    "nbgrader": {
     "grade": true,
     "grade_id": "cell-c7cd243e8b5fe5aa",
     "locked": false,
     "points": 1,
     "schema_version": 1,
     "solution": true
    }
   },
   "outputs": [],
   "source": [
    "X = df['sqft_living'].values\n",
    "y = df['price'].values"
   ]
  },
  {
   "cell_type": "markdown",
   "metadata": {
    "nbgrader": {
     "grade": false,
     "grade_id": "cell-508e7e1a13f9bbe4",
     "locked": true,
     "schema_version": 1,
     "solution": false
    }
   },
   "source": [
    "## Preprocessing\n",
    "\n",
    "As the number of features grows, calculating gradients gets computationally expensive. We can speed this up by normalizing the input data to ensure all values are within the same range. This is especially important for datasets with high standard deviations or differences in the ranges of the attributes. Use [mean normalization](https://en.wikipedia.org/wiki/Feature_scaling) for the fearures (`X`) and the true labels (`y`).\n",
    "\n",
    "Implement the cost function `preprocess`."
   ]
  },
  {
   "cell_type": "code",
   "execution_count": 6,
   "metadata": {},
   "outputs": [],
   "source": [
    "def preprocess(X, y):\n",
    "    \"\"\"\n",
    "    Perform mean normalization on the features and true labels.\n",
    "\n",
    "    Input:\n",
    "    - X: Inputs (n features over m instances).\n",
    "    - y: True labels.\n",
    "\n",
    "    Returns a two vales:\n",
    "    - X: The mean normalized inputs.\n",
    "    - y: The mean normalized labels.\n",
    "    \"\"\"\n",
    "    ###########################################################################\n",
    "    # TODO: Implement the normalization function.                             #\n",
    "    ###########################################################################\n",
    "\n",
    "    X = (X - X.mean(axis=0)) / (np.max(X, axis=0) - np.min(X, axis=0))\n",
    "    y = (y - y.mean(axis=0)) / (np.max(y, axis=0) - np.min(y, axis=0))\n",
    "    \n",
    "    ###########################################################################\n",
    "    #                             END OF YOUR CODE                            #\n",
    "    ###########################################################################\n",
    "    return X, y"
   ]
  },
  {
   "cell_type": "code",
   "execution_count": 7,
   "metadata": {
    "nbgrader": {
     "grade": true,
     "grade_id": "cell-9bb6a28b6b6932fa",
     "locked": false,
     "points": 5,
     "schema_version": 1,
     "solution": true
    }
   },
   "outputs": [],
   "source": [
    "X, y = preprocess(X, y)"
   ]
  },
  {
   "cell_type": "markdown",
   "metadata": {},
   "source": [
    "We will split the data into two datasets: \n",
    "1. The training dataset will contain 80% of the data and will always be used for model training.\n",
    "2. The validation dataset will contain the remaining 20% of the data and will be used for model evaluation. For example, we will pick the best alpha and the best features using the validation dataset, while still training the model using the training dataset."
   ]
  },
  {
   "cell_type": "code",
   "execution_count": 8,
   "metadata": {},
   "outputs": [],
   "source": [
    "# training and validation split\n",
    "np.random.seed(42)\n",
    "indices = np.random.permutation(X.shape[0])\n",
    "idx_train, idx_val = indices[:int(0.8*X.shape[0])], indices[int(0.8*X.shape[0]):]\n",
    "X_train, X_val = X[idx_train], X[idx_val]\n",
    "y_train, y_val = y[idx_train], y[idx_val]"
   ]
  },
  {
   "cell_type": "markdown",
   "metadata": {
    "nbgrader": {
     "grade": false,
     "grade_id": "cell-0c168d036748663e",
     "locked": true,
     "schema_version": 1,
     "solution": false
    }
   },
   "source": [
    "## Data Visualization\n",
    "Another useful tool is data visualization. Since this problem has only two parameters, it is possible to create a two-dimensional scatter plot to visualize the data. Note that many real-world datasets are highly dimensional and cannot be visualized naively. We will be using `matplotlib` for all data visualization purposes since it offers a wide range of visualization tools and is easy to use."
   ]
  },
  {
   "cell_type": "code",
   "execution_count": 9,
   "metadata": {
    "nbgrader": {
     "grade": false,
     "grade_id": "cell-cbad8871e083093f",
     "locked": true,
     "schema_version": 1,
     "solution": false
    }
   },
   "outputs": [
    {
     "data": {
      "image/png": "[encoded data removed]",
      "text/plain": [
       "<Figure size 1008x576 with 1 Axes>"
      ]
     },
     "metadata": {
      "needs_background": "light"
     },
     "output_type": "display_data"
    }
   ],
   "source": [
    "plt.plot(X_train, y_train, 'ro', ms=1, mec='k') # the parameters control the size, shape and color of the scatter plot\n",
    "plt.ylabel('Price in USD')\n",
    "plt.xlabel('sq.ft')\n",
    "plt.show()"
   ]
  },
  {
   "cell_type": "markdown",
   "metadata": {
    "nbgrader": {
     "grade": false,
     "grade_id": "cell-c50f0a0e569142ed",
     "locked": true,
     "schema_version": 1,
     "solution": false
    }
   },
   "source": [
    "## Bias Trick\n",
    "\n",
    "Make sure that `X` takes into consideration the bias $\\theta_0$ in the linear model. Hint, recall that the predications of our linear model are of the form:\n",
    "\n",
    "$$\n",
    "\\hat{y} = h_\\theta(x) = \\theta^T x = \\theta_0 + \\theta_1 x_1\n",
    "$$\n",
    "\n",
    "Add columns of ones as the zeroth column of the features (do this for both the training and validation sets)."
   ]
  },
  {
   "cell_type": "code",
   "execution_count": 10,
   "metadata": {
    "nbgrader": {
     "grade": true,
     "grade_id": "cell-44853962dc1651df",
     "locked": false,
     "points": 2,
     "schema_version": 1,
     "solution": true
    }
   },
   "outputs": [],
   "source": [
    "###########################################################################\n",
    "#                            START OF YOUR CODE                           #\n",
    "###########################################################################\n",
    "X_train = np.column_stack([np.ones(X_train.shape[0]), X_train])\n",
    "X_val = np.column_stack([np.ones(X_val.shape[0]), X_val])\n",
    "\n",
    "###########################################################################\n",
    "#                             END OF YOUR CODE                            #\n",
    "###########################################################################"
   ]
  },
  {
   "cell_type": "code",
   "execution_count": 11,
   "metadata": {},
   "outputs": [
    {
     "data": {
      "text/plain": [
       "array([[ 1.        , -0.07464149],\n",
       "       [ 1.        , -0.02081126],\n",
       "       [ 1.        ,  0.15931296],\n",
       "       ...,\n",
       "       [ 1.        , -0.08188787],\n",
       "       [ 1.        , -0.03116323],\n",
       "       [ 1.        , -0.02598725]])"
      ]
     },
     "execution_count": 11,
     "metadata": {},
     "output_type": "execute_result"
    }
   ],
   "source": [
    "X_train"
   ]
  },
  {
   "cell_type": "markdown",
   "metadata": {
    "nbgrader": {
     "grade": false,
     "grade_id": "cell-c7d7fd68c1b24943",
     "locked": true,
     "schema_version": 1,
     "solution": false
    }
   },
   "source": [
    "## Part 2: Single Variable Linear Regression (40 Points)\n",
    "Simple linear regression is a linear regression model with a single explanatory varaible and a single target value. \n",
    "\n",
    "$$\n",
    "\\hat{y} = h_\\theta(x) = \\theta^T x = \\theta_0 + \\theta_1 x_1\n",
    "$$\n",
    "\n",
    "## Gradient Descent \n",
    "\n",
    "Our task is to find the best possible linear line that explains all the points in our dataset. We start by guessing initial values for the linear regression parameters $\\theta$ and updating the values using gradient descent. \n",
    "\n",
    "The objective of linear regression is to minimize the cost function $J$:\n",
    "\n",
    "$$\n",
    "J(\\theta) = \\frac{1}{2m} \\sum_{i=1}^{n}(h_\\theta(x^{(i)})-y^{(i)})^2\n",
    "$$\n",
    "\n",
    "where the hypothesis (model) $h_\\theta(x)$ is given by a **linear** model:\n",
    "\n",
    "$$\n",
    "h_\\theta(x) = \\theta^T x = \\theta_0 + \\theta_1 x_1\n",
    "$$\n",
    "\n",
    "$\\theta_j$ are parameters of your model. and by changing those values accordingly you will be able to lower the cost function $J(\\theta)$. One way to accopmlish this is to use gradient descent:\n",
    "\n",
    "$$\n",
    "\\theta_j = \\theta_j - \\alpha \\frac{1}{m} \\sum_{i=1}^m (h_\\theta(x^{(i)})-y^{(i)})x_j^{(i)}\n",
    "$$\n",
    "\n",
    "In linear regresion, we know that with each step of gradient descent, the parameters $\\theta_j$ get closer to the optimal values that will achieve the lowest cost $J(\\theta)$."
   ]
  },
  {
   "cell_type": "markdown",
   "metadata": {
    "nbgrader": {
     "grade": false,
     "grade_id": "cell-0f83af93c0436542",
     "locked": true,
     "schema_version": 1,
     "solution": false
    }
   },
   "source": [
    "Implement the cost function `compute_cost`. (10 points)"
   ]
  },
  {
   "cell_type": "code",
   "execution_count": 12,
   "metadata": {},
   "outputs": [
    {
     "data": {
      "text/plain": [
       "array([[2., 2., 2.],\n",
       "       [2., 2., 2.],\n",
       "       [2., 2., 2.]])"
      ]
     },
     "execution_count": 12,
     "metadata": {},
     "output_type": "execute_result"
    }
   ],
   "source": [
    "a = np.ones((3, 3)) * 2\n",
    "a"
   ]
  },
  {
   "cell_type": "code",
   "execution_count": 13,
   "metadata": {},
   "outputs": [
    {
     "data": {
      "text/plain": [
       "array([[4., 4., 4.],\n",
       "       [4., 4., 4.],\n",
       "       [4., 4., 4.]])"
      ]
     },
     "execution_count": 13,
     "metadata": {},
     "output_type": "execute_result"
    }
   ],
   "source": [
    "a ** 2"
   ]
  },
  {
   "cell_type": "code",
   "execution_count": 20,
   "metadata": {},
   "outputs": [],
   "source": [
    "def compute_cost(X, y, theta):\n",
    "    \"\"\"\n",
    "    Computes the average squared difference between an obserbation's actual and\n",
    "    predicted values for linear regression.  \n",
    "\n",
    "    Input:\n",
    "    - X: inputs  (n features over m instances).\n",
    "    - y: true labels (1 value over m instances).\n",
    "    - theta: the parameters (weights) of the model being learned.\n",
    "\n",
    "    Returns a single value:\n",
    "    - J: the cost associated with the current set of parameters (single number).\n",
    "    \"\"\"\n",
    "    \n",
    "    J = 0  # Use J for the cost.\n",
    "    ###########################################################################\n",
    "    # TODO: Implement the MSE cost function.                                  #\n",
    "    ###########################################################################\n",
    "\n",
    "    y_hat = np.matmul(X, theta)\n",
    "    J = np.sum( (y_hat - y)**2 ) / (X.shape[0] * 2.0)\n",
    "    \n",
    "    ###########################################################################\n",
    "    #                             END OF YOUR CODE                            #\n",
    "    ###########################################################################\n",
    "    return J"
   ]
  },
  {
   "cell_type": "code",
   "execution_count": 21,
   "metadata": {
    "nbgrader": {
     "grade": false,
     "grade_id": "cell-4c1cfec24e144479",
     "locked": true,
     "schema_version": 1,
     "solution": false
    }
   },
   "outputs": [
    {
     "data": {
      "text/plain": [
       "0.5110382451954535"
      ]
     },
     "execution_count": 21,
     "metadata": {},
     "output_type": "execute_result"
    }
   ],
   "source": [
    "theta = np.array([-1, 2])\n",
    "J = compute_cost(X_train, y_train, theta)\n",
    "J"
   ]
  },
  {
   "cell_type": "markdown",
   "metadata": {
    "nbgrader": {
     "grade": false,
     "grade_id": "cell-afdc527b73d275bb",
     "locked": true,
     "schema_version": 1,
     "solution": false
    }
   },
   "source": [
    "Implement the gradient descent function `gradient_descent`. (10 points)"
   ]
  },
  {
   "cell_type": "code",
   "execution_count": 49,
   "metadata": {},
   "outputs": [],
   "source": [
    "def gradient_descent(X, y, theta, alpha, num_iters):\n",
    "    \"\"\"\n",
    "    Learn the parameters of the model using gradient descent using \n",
    "    the *training set*. Gradient descent is an optimization algorithm \n",
    "    used to minimize some (loss) function by iteratively moving in \n",
    "    the direction of steepest descent as defined by the negative of \n",
    "    the gradient. We use gradient descent to update the parameters\n",
    "    (weights) of our model.\n",
    "\n",
    "    Input:\n",
    "    - X: Inputs  (n features over m instances).\n",
    "    - y: True labels (1 value over m instances).\n",
    "    - theta: The parameters (weights) of the model being learned.\n",
    "    - alpha: The learning rate of your model.\n",
    "    - num_iters: The number of updates performed.\n",
    "\n",
    "    Returns two values:\n",
    "    - theta: The learned parameters of your model.\n",
    "    - J_history: the loss value for every iteration.\n",
    "    \"\"\"\n",
    "    \n",
    "    J_history = [] # Use a python list to save cost in every iteration\n",
    "    theta = theta.copy() # avoid changing the original thetas\n",
    "    ###########################################################################\n",
    "    # TODO: Implement the gradient descent optimization algorithm.            #\n",
    "    ###########################################################################\n",
    "    m = X.shape[0]\n",
    "    for _ in range(num_iters):\n",
    "        # cost\n",
    "        J = compute_cost(X, y, theta)\n",
    "        J_history.append(J)\n",
    "\n",
    "        y_hat = np.matmul(X, theta)\n",
    "\n",
    "        dJ_dtheta = np.matmul(X.T, (y_hat - y)) / m \n",
    "        \n",
    "        theta = theta - alpha * dJ_dtheta\n",
    "    ###########################################################################\n",
    "    #                             END OF YOUR CODE                            #\n",
    "    ###########################################################################\n",
    "    return theta, J_history"
   ]
  },
  {
   "cell_type": "code",
   "execution_count": 55,
   "metadata": {
    "nbgrader": {
     "grade": false,
     "grade_id": "cell-59b95cbea13e7fc1",
     "locked": true,
     "schema_version": 1,
     "solution": false
    }
   },
   "outputs": [
    {
     "data": {
      "text/plain": [
       "(array([1.94301549e-04, 4.08751964e-01]),\n",
       " [0.07244667608564788,\n",
       "  0.059090085022239225,\n",
       "  0.04827077592584294,\n",
       "  0.03950666558098808,\n",
       "  0.03240726667985373,\n",
       "  0.026656284581135458,\n",
       "  0.021997520688276852,\n",
       "  0.01822345418871241,\n",
       "  0.0151659932649833,\n",
       "  0.01268898357762763,\n",
       "  0.010682140137849605,\n",
       "  0.009056132125619266,\n",
       "  0.007738601593335899,\n",
       "  0.006670938616607399,\n",
       "  0.005805669167039374,\n",
       "  0.005104339289727086,\n",
       "  0.004535801287455524,\n",
       "  0.004074825530251001,\n",
       "  0.00370097602140111,\n",
       "  0.003397699606160233,\n",
       "  0.0031515882309867743,\n",
       "  0.002951781373675797,\n",
       "  0.0027894820118883356,\n",
       "  0.0026575645577588676,\n",
       "  0.002550257285007331,\n",
       "  0.0024628850949646253,\n",
       "  0.002391661157105737,\n",
       "  0.0023335181379240577,\n",
       "  0.0022859714963540108,\n",
       "  0.0022470087530912473,\n",
       "  0.0022149997987645966,\n",
       "  0.002188624243573623,\n",
       "  0.002166812570509875,\n",
       "  0.002148698469478078,\n",
       "  0.0021335802279440355,\n",
       "  0.0021208894573672833,\n",
       "  0.0021101657616179248,\n",
       "  0.002101036218399421,\n",
       "  0.002093198759205237,\n",
       "  0.002086408707087106,\n",
       "  0.0020804678722500655,\n",
       "  0.0020752157194866548,\n",
       "  0.0020705222138004123,\n",
       "  0.002066282025362364,\n",
       "  0.002062409835526952,\n",
       "  0.0020588365347058916,\n",
       "  0.0020555061426467632,\n",
       "  0.0020523733138593033,\n",
       "  0.00204940131701119,\n",
       "  0.00204656039823905,\n",
       "  0.002043826455430692,\n",
       "  0.002041179964393988,\n",
       "  0.002038605109053879,\n",
       "  0.0020360890769121225,\n",
       "  0.002033621488369823,\n",
       "  0.0020311939344788,\n",
       "  0.0020287996025202793,\n",
       "  0.002026432972723705,\n",
       "  0.0020240895726090376,\n",
       "  0.0020217657780040557,\n",
       "  0.002019458651868412,\n",
       "  0.0020171658137411405,\n",
       "  0.002014885333993162,\n",
       "  0.0020126156481718267,\n",
       "  0.002010355487620016,\n",
       "  0.0020081038232776104,\n",
       "  0.002005859820160695,\n",
       "  0.0020036228004897154,\n",
       "  0.0020013922138232905,\n",
       "  0.0019991676128665987,\n",
       "  0.001996948633876169,\n",
       "  0.001994734980787768,\n",
       "  0.0019925264123599796,\n",
       "  0.001990322731760505,\n",
       "  0.0019881237781310644,\n",
       "  0.00198592941975496,\n",
       "  0.001983739548522805,\n",
       "  0.0019815540754497523,\n",
       "  0.0019793729270444534,\n",
       "  0.001977196042367907,\n",
       "  0.0019750233706511207,\n",
       "  0.001972854869365417,\n",
       "  0.001970690502659373,\n",
       "  0.0019685302400927404,\n",
       "  0.0019663740556109116,\n",
       "  0.0019642219267142374,\n",
       "  0.001962073833785166,\n",
       "  0.0019599297595432248,\n",
       "  0.001957789688603546,\n",
       "  0.001955653607119272,\n",
       "  0.0019535215024918968,\n",
       "  0.0019513933631366402,\n",
       "  0.001949269178292392,\n",
       "  0.0019471489378677655,\n",
       "  0.0019450326323163973,\n",
       "  0.0019429202525359306,\n",
       "  0.001940811789786192,\n",
       "  0.0019387072356229055,\n",
       "  0.0019366065818440025,\n",
       "  0.0019345098204461187,\n",
       "  0.0019324169435893626,\n",
       "  0.001930327943568766,\n",
       "  0.0019282428127911557,\n",
       "  0.0019261615437564182,\n",
       "  0.0019240841290423143,\n",
       "  0.0019220105612921788,\n",
       "  0.0019199408332049495,\n",
       "  0.0019178749375270898,\n",
       "  0.0019158128670460357,\n",
       "  0.00191375461458489,\n",
       "  0.0019117001729981138,\n",
       "  0.0019096495351680364,\n",
       "  0.0019076026940020225,\n",
       "  0.0019055596424301714,\n",
       "  0.001903520373403451,\n",
       "  0.0019014848798921827,\n",
       "  0.0018994531548848044,\n",
       "  0.0018974251913868702,\n",
       "  0.001895400982420233,\n",
       "  0.001893380521022376,\n",
       "  0.00189136380024587,\n",
       "  0.001889350813157929,\n",
       "  0.0018873415528400416,\n",
       "  0.001885336012387674,\n",
       "  0.0018833341849100206,\n",
       "  0.001881336063529799,\n",
       "  0.0018793416413830802,\n",
       "  0.0018773509116191444,\n",
       "  0.0018753638674003635,\n",
       "  0.0018733805019020963,\n",
       "  0.0018714008083126044,\n",
       "  0.0018694247798329772,\n",
       "  0.0018674524096770652,\n",
       "  0.0018654836910714265,\n",
       "  0.0018635186172552718,\n",
       "  0.001861557181480423,\n",
       "  0.0018595993770112705,\n",
       "  0.0018576451971247354,\n",
       "  0.0018556946351102348,\n",
       "  0.0018537476842696507,\n",
       "  0.0018518043379172973,\n",
       "  0.0018498645893798927,\n",
       "  0.001847928431996531,\n",
       "  0.001845995859118655,\n",
       "  0.001844066864110031,\n",
       "  0.0018421414403467216,\n",
       "  0.0018402195812170623,\n",
       "  0.001838301280121637,\n",
       "  0.0018363865304732527,\n",
       "  0.001834475325696917,\n",
       "  0.0018325676592298135,\n",
       "  0.0018306635245212797,\n",
       "  0.0018287629150327825,\n",
       "  0.0018268658242378967,\n",
       "  0.001824972245622282,\n",
       "  0.001823082172683658,\n",
       "  0.0018211955989317849,\n",
       "  0.0018193125178884398,\n",
       "  0.001817432923087392,\n",
       "  0.0018155568080743848,\n",
       "  0.0018136841664071102,\n",
       "  0.001811814991655187,\n",
       "  0.0018099492774001401,\n",
       "  0.0018080870172353775,\n",
       "  0.0018062282047661671,\n",
       "  0.0018043728336096171,\n",
       "  0.0018025208973946527,\n",
       "  0.0018006723897619936,\n",
       "  0.0017988273043641335,\n",
       "  0.001796985634865317,\n",
       "  0.0017951473749415186,\n",
       "  0.0017933125182804219,\n",
       "  0.0017914810585813949,\n",
       "  0.001789652989555472,\n",
       "  0.00178782830492533,\n",
       "  0.0017860069984252673,\n",
       "  0.0017841890638011831,\n",
       "  0.0017823744948105534,\n",
       "  0.0017805632852224127,\n",
       "  0.0017787554288173303,\n",
       "  0.0017769509193873913,\n",
       "  0.0017751497507361722,\n",
       "  0.0017733519166787221,\n",
       "  0.0017715574110415404,\n",
       "  0.001769766227662556,\n",
       "  0.0017679783603911066,\n",
       "  0.0017661938030879144,\n",
       "  0.0017644125496250713,\n",
       "  0.0017626345938860104,\n",
       "  0.0017608599297654916,\n",
       "  0.0017590885511695755,\n",
       "  0.0017573204520156067,\n",
       "  0.0017555556262321898,\n",
       "  0.00175379406775917,\n",
       "  0.0017520357705476115,\n",
       "  0.001750280728559778,\n",
       "  0.00174852893576911,\n",
       "  0.0017467803861602068,\n",
       "  0.0017450350737288026,\n",
       "  0.0017432929924817496,\n",
       "  0.0017415541364369936,\n",
       "  0.001739818499623556,\n",
       "  0.0017380860760815126,\n",
       "  0.0017363568598619736,\n",
       "  0.0017346308450270618,\n",
       "  0.0017329080256498933,\n",
       "  0.0017311883958145567,\n",
       "  0.0017294719496160943,\n",
       "  0.001727758681160479,\n",
       "  0.0017260485845645968,\n",
       "  0.0017243416539562237,\n",
       "  0.00172263788347401,\n",
       "  0.0017209372672674548,\n",
       "  0.0017192397994968897,\n",
       "  0.0017175454743334575,\n",
       "  0.0017158542859590916,\n",
       "  0.0017141662285664982,\n",
       "  0.001712481296359133,\n",
       "  0.001710799483551185,\n",
       "  0.0017091207843675533,\n",
       "  0.001707445193043829,\n",
       "  0.0017057727038262748,\n",
       "  0.001704103310971807,\n",
       "  0.0017024370087479733,\n",
       "  0.001700773791432934,\n",
       "  0.0016991136533154431,\n",
       "  0.0016974565886948285,\n",
       "  0.0016958025918809704,\n",
       "  0.0016941516571942854,\n",
       "  0.001692503778965703,\n",
       "  0.0016908589515366504,\n",
       "  0.0016892171692590283,\n",
       "  0.0016875784264951963,\n",
       "  0.0016859427176179496,\n",
       "  0.0016843100370105021,\n",
       "  0.0016826803790664668,\n",
       "  0.0016810537381898348,\n",
       "  0.0016794301087949578,\n",
       "  0.0016778094853065301,\n",
       "  0.0016761918621595651,\n",
       "  0.0016745772337993805,\n",
       "  0.0016729655946815779,\n",
       "  0.001671356939272023,\n",
       "  0.001669751262046827,\n",
       "  0.0016681485574923285,\n",
       "  0.0016665488201050725,\n",
       "  0.0016649520443917942,\n",
       "  0.0016633582248693983,\n",
       "  0.0016617673560649403,\n",
       "  0.001660179432515608,\n",
       "  0.0016585944487687032,\n",
       "  0.0016570123993816229,\n",
       "  0.0016554332789218383,\n",
       "  0.001653857081966881,\n",
       "  0.0016522838031043196,\n",
       "  0.0016507134369317428,\n",
       "  0.001649145978056743,\n",
       "  0.0016475814210968934,\n",
       "  0.0016460197606797333,\n",
       "  0.0016444609914427484,\n",
       "  0.0016429051080333514,\n",
       "  0.001641352105108866,\n",
       "  0.0016398019773365053,\n",
       "  0.001638254719393357,\n",
       "  0.0016367103259663617,\n",
       "  0.0016351687917522976,\n",
       "  0.0016336301114577606,\n",
       "  0.001632094279799146,\n",
       "  0.0016305612915026315,\n",
       "  0.0016290311413041584,\n",
       "  0.0016275038239494139,\n",
       "  0.0016259793341938127,\n",
       "  0.0016244576668024782,\n",
       "  0.0016229388165502256,\n",
       "  0.0016214227782215451,\n",
       "  0.0016199095466105816,\n",
       "  0.0016183991165211178,\n",
       "  0.0016168914827665568,\n",
       "  0.0016153866401699033,\n",
       "  0.0016138845835637467,\n",
       "  0.0016123853077902438,\n",
       "  0.0016108888077010994,\n",
       "  0.0016093950781575499,\n",
       "  0.0016079041140303456,\n",
       "  0.0016064159101997326,\n",
       "  0.0016049304615554354,\n",
       "  0.0016034477629966396,\n",
       "  0.0016019678094319747,\n",
       "  0.0016004905957794945,\n",
       "  0.0015990161169666635,\n",
       "  0.0015975443679303349,\n",
       "  0.0015960753436167372,\n",
       "  0.0015946090389814542,\n",
       "  0.0015931454489894103,\n",
       "  0.0015916845686148493,\n",
       "  0.0015902263928413212,\n",
       "  0.0015887709166616624,\n",
       "  0.0015873181350779797,\n",
       "  0.001585868043101632,\n",
       "  0.001584420635753215,\n",
       "  0.0015829759080625428,\n",
       "  0.0015815338550686298,\n",
       "  0.0015800944718196766,\n",
       "  0.0015786577533730508,\n",
       "  0.0015772236947952693,\n",
       "  0.001575792291161985,\n",
       "  0.0015743635375579654,\n",
       "  0.001572937429077078,\n",
       "  0.0015715139608222745,\n",
       "  0.0015700931279055723,\n",
       "  0.0015686749254480378,\n",
       "  0.0015672593485797693,\n",
       "  0.0015658463924398825,\n",
       "  0.0015644360521764919,\n",
       "  0.0015630283229466939,\n",
       "  0.0015616231999165515,\n",
       "  0.001560220678261076,\n",
       "  0.0015588207531642135,\n",
       "  0.0015574234198188232,\n",
       "  0.0015560286734266674,\n",
       "  0.0015546365091983882,\n",
       "  0.0015532469223534977,\n",
       "  0.0015518599081203565,\n",
       "  0.0015504754617361595,\n",
       "  0.0015490935784469191,\n",
       "  0.0015477142535074491,\n",
       "  0.0015463374821813492,\n",
       "  0.0015449632597409862,\n",
       "  0.0015435915814674805,\n",
       "  0.0015422224426506887,\n",
       "  0.0015408558385891866,\n",
       "  0.001539491764590256,\n",
       "  0.0015381302159698641,\n",
       "  0.001536771188052652,\n",
       "  0.0015354146761719148,\n",
       "  0.0015340606756695887,\n",
       "  0.0015327091818962328,\n",
       "  0.001531360190211014,\n",
       "  0.0015300136959816918,\n",
       "  0.0015286696945846002,\n",
       "  0.0015273281814046343,\n",
       "  0.001525989151835233,\n",
       "  0.0015246526012783637,\n",
       "  0.0015233185251445065,\n",
       "  0.0015219869188526378,\n",
       "  0.0015206577778302157,\n",
       "  0.0015193310975131625,\n",
       "  0.0015180068733458524,\n",
       "  0.0015166851007810905,\n",
       "  0.0015153657752801036,\n",
       "  0.0015140488923125206,\n",
       "  0.001512734447356355,\n",
       "  0.001511422435897996,\n",
       "  0.0015101128534321853,\n",
       "  0.0015088056954620087,\n",
       "  0.0015075009574988755,\n",
       "  0.001506198635062506,\n",
       "  0.0015048987236809135,\n",
       "  0.0015036012188903922,\n",
       "  0.001502306116235499,\n",
       "  0.0015010134112690404,\n",
       "  0.0014997230995520544,\n",
       "  0.0014984351766538003,\n",
       "  0.001497149638151737,\n",
       "  0.0014958664796315127,\n",
       "  0.0014945856966869478,\n",
       "  0.0014933072849200198,\n",
       "  0.0014920312399408484,\n",
       "  0.001490757557367682,\n",
       "  0.0014894862328268792,\n",
       "  0.0014882172619528965,\n",
       "  0.001486950640388273,\n",
       "  0.0014856863637836145,\n",
       "  0.0014844244277975784,\n",
       "  0.0014831648280968608,\n",
       "  0.00148190756035618,\n",
       "  0.001480652620258261,\n",
       "  0.0014794000034938218,\n",
       "  0.0014781497057615599,\n",
       "  0.0014769017227681336,\n",
       "  0.0014756560502281516,\n",
       "  0.0014744126838641557,\n",
       "  0.0014731716194066062,\n",
       "  0.001471932852593869,\n",
       "  0.0014706963791721987,\n",
       "  0.0014694621948957258,\n",
       "  0.001468230295526441,\n",
       "  0.001467000676834181,\n",
       "  0.001465773334596614,\n",
       "  0.001464548264599226,\n",
       "  0.0014633254626353045,\n",
       "  0.0014621049245059255,\n",
       "  0.0014608866460199387,\n",
       "  0.0014596706229939532,\n",
       "  0.0014584568512523229,\n",
       "  0.001457245326627132,\n",
       "  0.0014560360449581812,\n",
       "  0.0014548290020929737,\n",
       "  0.0014536241938866996,\n",
       "  0.0014524216162022233,\n",
       "  0.001451221264910068,\n",
       "  0.0014500231358884007,\n",
       "  0.0014488272250230228,\n",
       "  0.0014476335282073488,\n",
       "  0.001446442041342398,\n",
       "  0.0014452527603367785,\n",
       "  0.0014440656811066717,\n",
       "  0.0014428807995758204,\n",
       "  0.0014416981116755138,\n",
       "  0.0014405176133445744,\n",
       "  0.0014393393005293423,\n",
       "  0.0014381631691836622,\n",
       "  0.001436989215268871,\n",
       "  0.0014358174347537818,\n",
       "  0.0014346478236146702,\n",
       "  0.0014334803778352622,\n",
       "  0.0014323150934067188,\n",
       "  0.0014311519663276228,\n",
       "  0.001429990992603965,\n",
       "  0.0014288321682491309,\n",
       "  0.0014276754892838866,\n",
       "  0.001426520951736364,\n",
       "  0.0014253685516420495,\n",
       "  0.001424218285043769,\n",
       "  0.001423070147991674,\n",
       "  0.00142192413654323,\n",
       "  0.0014207802467631997,\n",
       "  0.0014196384747236315,\n",
       "  0.0014184988165038476,\n",
       "  0.0014173612681904267,\n",
       "  0.0014162258258771936,\n",
       "  0.001415092485665205,\n",
       "  0.001413961243662735,\n",
       "  0.0014128320959852633,\n",
       "  0.0014117050387554616,\n",
       "  0.0014105800681031785,\n",
       "  0.0014094571801654297,\n",
       "  0.0014083363710863806,\n",
       "  0.0014072176370173357,\n",
       "  0.0014061009741167258,\n",
       "  0.0014049863785500925,\n",
       "  0.0014038738464900765,\n",
       "  0.0014027633741164056,\n",
       "  0.0014016549576158785,\n",
       "  0.0014005485931823545,\n",
       "  0.0013994442770167389,\n",
       "  0.0013983420053269708,\n",
       "  0.0013972417743280102,\n",
       "  0.001396143580241823,\n",
       "  0.0013950474192973709,\n",
       "  0.0013939532877305975,\n",
       "  0.0013928611817844128,\n",
       "  0.001391771097708685,\n",
       "  0.0013906830317602236,\n",
       "  0.0013895969802027687,\n",
       "  0.001388512939306977,\n",
       "  0.0013874309053504104,\n",
       "  0.001386350874617521,\n",
       "  0.001385272843399641,\n",
       "  0.001384196807994968,\n",
       "  0.0013831227647085526,\n",
       "  0.0013820507098522867,\n",
       "  0.00138098063974489,\n",
       "  0.0013799125507118974,\n",
       "  0.001378846439085647,\n",
       "  0.001377782301205266,\n",
       "  0.0013767201334166598,\n",
       "  0.0013756599320724995,\n",
       "  0.0013746016935322074,\n",
       "  0.0013735454141619466,\n",
       "  0.0013724910903346074,\n",
       "  0.0013714387184297946,\n",
       "  0.0013703882948338172,\n",
       "  0.0013693398159396728,\n",
       "  0.0013682932781470378,\n",
       "  0.001367248677862254,\n",
       "  0.001366206011498315,\n",
       "  0.0013651652754748571,\n",
       "  0.0013641264662181442,\n",
       "  0.0013630895801610562,\n",
       "  0.001362054613743077,\n",
       "  0.001361021563410283,\n",
       "  0.00135999042561533,\n",
       "  0.0013589611968174405,\n",
       "  0.0013579338734823923,\n",
       "  0.0013569084520825068,\n",
       "  0.0013558849290966361,\n",
       "  0.0013548633010101515,\n",
       "  0.0013538435643149307,\n",
       "  0.0013528257155093462,\n",
       "  0.0013518097510982526,\n",
       "  0.0013507956675929775,\n",
       "  0.0013497834615113047,\n",
       "  0.0013487731293774661,\n",
       "  0.0013477646677221282,\n",
       "  0.00134675807308238,\n",
       "  0.0013457533420017226,\n",
       "  0.0013447504710300557,\n",
       "  0.0013437494567236656,\n",
       "  0.001342750295645215,\n",
       "  0.001341752984363731,\n",
       "  0.0013407575194545913,\n",
       "  0.0013397638974995143,\n",
       "  0.0013387721150865466,\n",
       "  0.001337782168810052,\n",
       "  0.0013367940552706985,\n",
       "  0.0013358077710754488,\n",
       "  0.0013348233128375462,\n",
       "  0.0013338406771765039,\n",
       "  0.0013328598607180945,\n",
       "  0.0013318808600943375,\n",
       "  0.0013309036719434863,\n",
       "  0.0013299282929100193,\n",
       "  0.001328954719644627,\n",
       "  0.0013279829488042,\n",
       "  0.0013270129770518197,\n",
       "  0.0013260448010567435,\n",
       "  0.001325078417494396,\n",
       "  0.0013241138230463564,\n",
       "  0.0013231510144003482,\n",
       "  0.0013221899882502265,\n",
       "  0.0013212307412959676,\n",
       "  0.001320273270243657,\n",
       "  0.001319317571805478,\n",
       "  0.0013183636426997013,\n",
       "  0.0013174114796506739,\n",
       "  0.0013164610793888055,\n",
       "  0.0013155124386505608,\n",
       "  0.0013145655541784448,\n",
       "  0.0013136204227209944,\n",
       "  0.0013126770410327655,\n",
       "  0.001311735405874323,\n",
       "  0.001310795514012228,\n",
       "  0.00130985736221903,\n",
       "  0.001308920947273251,\n",
       "  0.0013079862659593788,\n",
       "  0.0013070533150678538,\n",
       "  0.0013061220913950591,\n",
       "  0.001305192591743307,\n",
       "  0.0013042648129208316,\n",
       "  0.0013033387517417752,\n",
       "  0.0013024144050261786,\n",
       "  0.0013014917695999696,\n",
       "  0.0013005708422949526,\n",
       "  0.0012996516199487967,\n",
       "  0.0012987340994050267,\n",
       "  0.0012978182775130107,\n",
       "  0.0012969041511279493,\n",
       "  0.0012959917171108655,\n",
       "  0.0012950809723285934,\n",
       "  0.0012941719136537685,\n",
       "  0.001293264537964816,\n",
       "  0.0012923588421459384,\n",
       "  0.0012914548230871094,\n",
       "  0.0012905524776840585,\n",
       "  0.0012896518028382626,\n",
       "  0.0012887527954569364,\n",
       "  0.001287855452453018,\n",
       "  0.0012869597707451635,\n",
       "  0.0012860657472577313,\n",
       "  0.001285173378920775,\n",
       "  0.0012842826626700318,\n",
       "  0.0012833935954469117,\n",
       "  0.0012825061741984875,\n",
       "  0.0012816203958774832,\n",
       "  0.001280736257442265,\n",
       "  0.0012798537558568308,\n",
       "  0.0012789728880907977,\n",
       "  0.001278093651119395,\n",
       "  0.00127721604192345,\n",
       "  0.0012763400574893808,\n",
       "  0.0012754656948091847,\n",
       "  0.0012745929508804269,\n",
       "  0.0012737218227062321,\n",
       "  0.0012728523072952729,\n",
       "  0.0012719844016617597,\n",
       "  0.001271118102825431,\n",
       "  0.0012702534078115424,\n",
       "  0.0012693903136508577,\n",
       "  0.0012685288173796367,\n",
       "  0.0012676689160396263,\n",
       "  0.0012668106066780513,\n",
       "  0.0012659538863476017,\n",
       "  0.0012650987521064243,\n",
       "  0.001264245201018113,\n",
       "  0.0012633932301516972,\n",
       "  0.0012625428365816336,\n",
       "  0.0012616940173877942,\n",
       "  0.001260846769655457,\n",
       "  0.0012600010904752965,\n",
       "  0.001259156976943374,\n",
       "  0.0012583144261611263,\n",
       "  0.0012574734352353565,\n",
       "  0.0012566340012782242,\n",
       "  0.0012557961214072354,\n",
       "  0.0012549597927452322,\n",
       "  0.0012541250124203844,\n",
       "  0.0012532917775661776,\n",
       "  0.0012524600853214044,\n",
       "  0.0012516299328301542,\n",
       "  0.001250801317241805,\n",
       "  0.001249974235711011,\n",
       "  0.001249148685397695,\n",
       "  0.0012483246634670366,\n",
       "  0.0012475021670894653,\n",
       "  0.0012466811934406475,\n",
       "  0.0012458617397014796,\n",
       "  0.0012450438030580768,\n",
       "  0.001244227380701763,\n",
       "  0.0012434124698290638,\n",
       "  0.0012425990676416929,\n",
       "  0.0012417871713465453,\n",
       "  0.0012409767781556883,\n",
       "  0.0012401678852863491,\n",
       "  0.0012393604899609075,\n",
       "  0.0012385545894068853,\n",
       "  0.0012377501808569368,\n",
       "  0.0012369472615488407,\n",
       "  0.0012361458287254887,\n",
       "  0.0012353458796348774,\n",
       "  0.0012345474115300979,\n",
       "  0.0012337504216693267,\n",
       "  0.0012329549073158167,\n",
       "  0.0012321608657378876,\n",
       "  0.001231368294208916,\n",
       "  0.0012305771900073266,\n",
       "  0.001229787550416583,\n",
       "  0.0012289993727251773,\n",
       "  0.0012282126542266223,\n",
       "  0.001227427392219441,\n",
       "  0.0012266435840071579,\n",
       "  0.00122586122689829,\n",
       "  0.0012250803182063366,\n",
       "  0.001224300855249771,\n",
       "  0.0012235228353520303,\n",
       "  0.0012227462558415084,\n",
       "  0.0012219711140515435,\n",
       "  0.0012211974073204118,\n",
       "  0.001220425132991317,\n",
       "  0.0012196542884123814,\n",
       "  0.0012188848709366368,\n",
       "  0.0012181168779220152,\n",
       "  0.0012173503067313411,\n",
       "  0.0012165851547323203,\n",
       "  0.0012158214192975318,\n",
       "  0.0012150590978044203,\n",
       "  0.0012142981876352836,\n",
       "  0.0012135386861772672,\n",
       "  0.0012127805908223538,\n",
       "  0.0012120238989673546,\n",
       "  0.0012112686080138991,\n",
       "  0.0012105147153684288,\n",
       "  0.0012097622184421856,\n",
       "  0.0012090111146512046,\n",
       "  0.001208261401416305,\n",
       "  0.0012075130761630803,\n",
       "  0.0012067661363218908,\n",
       "  0.0012060205793278538,\n",
       "  0.0012052764026208346,\n",
       "  0.001204533603645439,\n",
       "  0.0012037921798510039,\n",
       "  0.0012030521286915871,\n",
       "  0.001202313447625961,\n",
       "  0.0012015761341176022,\n",
       "  0.001200840185634683,\n",
       "  0.0012001055996500646,\n",
       "  0.0011993723736412848,\n",
       "  0.0011986405050905522,\n",
       "  0.0011979099914847366,\n",
       "  0.0011971808303153611,\n",
       "  0.001196453019078592,\n",
       "  0.0011957265552752312,\n",
       "  0.0011950014364107081,\n",
       "  0.0011942776599950702,\n",
       "  0.0011935552235429743,\n",
       "  0.0011928341245736785,\n",
       "  0.0011921143606110345,\n",
       "  0.0011913959291834767,\n",
       "  0.0011906788278240174,\n",
       "  0.0011899630540702338,\n",
       "  0.0011892486054642637,\n",
       "  0.0011885354795527939,\n",
       "  0.0011878236738870544,\n",
       "  0.001187113186022808,\n",
       "  0.0011864040135203427,\n",
       "  0.0011856961539444633,\n",
       "  0.0011849896048644825,\n",
       "  0.0011842843638542146,\n",
       "  0.0011835804284919637,\n",
       "  0.001182877796360519,\n",
       "  0.0011821764650471432,\n",
       "  0.0011814764321435671,\n",
       "  0.00118077769524598,\n",
       "  0.0011800802519550202,\n",
       "  0.0011793840998757699,\n",
       "  0.001178689236617743,\n",
       "  0.001177995659794881,\n",
       "  0.001177303367025542,\n",
       "  0.0011766123559324932,\n",
       "  0.0011759226241429028,\n",
       "  0.0011752341692883325,\n",
       "  0.0011745469890047286,\n",
       "  0.0011738610809324144,\n",
       "  0.0011731764427160805,\n",
       "  0.0011724930720047792,\n",
       "  0.0011718109664519152,\n",
       "  0.0011711301237152373,\n",
       "  0.0011704505414568303,\n",
       "  0.0011697722173431078,\n",
       "  0.0011690951490448036,\n",
       "  0.0011684193342369634,\n",
       "  0.0011677447705989374,\n",
       "  0.0011670714558143728,\n",
       "  0.0011663993875712046,\n",
       "  0.0011657285635616476,\n",
       "  0.0011650589814821903,\n",
       "  0.0011643906390335851,\n",
       "  0.0011637235339208413,\n",
       "  0.0011630576638532173,\n",
       "  0.0011623930265442118,\n",
       "  0.0011617296197115575,\n",
       "  0.001161067441077211,\n",
       "  0.001160406488367348,\n",
       "  0.0011597467593123527,\n",
       "  0.0011590882516468119,\n",
       "  0.001158430963109506,\n",
       "  0.0011577748914434018,\n",
       "  0.0011571200343956445,\n",
       "  0.0011564663897175502,\n",
       "  0.0011558139551645983,\n",
       "  0.0011551627284964242,\n",
       "  0.001154512707476809,\n",
       "  0.001153863889873676,\n",
       "  0.00115321627345908,\n",
       "  0.0011525698560091997,\n",
       "  0.0011519246353043325,\n",
       "  0.001151280609128884,\n",
       "  0.0011506377752713624,\n",
       "  0.0011499961315243692,\n",
       "  0.0011493556756845935,\n",
       "  0.0011487164055528033,\n",
       "  0.0011480783189338375,\n",
       "  0.0011474414136366001,\n",
       "  0.0011468056874740507,\n",
       "  0.001146171138263198,\n",
       "  0.0011455377638250924,\n",
       "  0.0011449055619848186,\n",
       "  0.0011442745305714872,\n",
       "  0.0011436446674182284,\n",
       "  0.0011430159703621834,\n",
       "  0.0011423884372444982,\n",
       "  0.0011417620659103153,\n",
       "  0.0011411368542087671,\n",
       "  0.0011405127999929675,\n",
       "  0.0011398899011200048,\n",
       "  0.0011392681554509348,\n",
       "  0.0011386475608507738,\n",
       "  0.0011380281151884902,\n",
       "  0.0011374098163369972,\n",
       "  0.0011367926621731472,\n",
       "  0.0011361766505777226,\n",
       "  0.001135561779435429,\n",
       "  0.0011349480466348878,\n",
       "  0.001134335450068631,\n",
       "  0.0011337239876330902,\n",
       "  0.0011331136572285932,\n",
       "  0.0011325044567593533,\n",
       "  0.0011318963841334656,\n",
       "  0.0011312894372628964,\n",
       "  0.0011306836140634793,\n",
       "  0.001130078912454905,\n",
       "  0.0011294753303607164,\n",
       "  0.0011288728657083001,\n",
       "  0.0011282715164288805,\n",
       "  0.001127671280457512,\n",
       "  0.0011270721557330712,\n",
       "  0.001126474140198251,\n",
       "  0.001125877231799553,\n",
       "  0.001125281428487281,\n",
       "  0.0011246867282155325,\n",
       "  0.001124093128942194,\n",
       "  0.0011235006286289318,\n",
       "  0.0011229092252411856,\n",
       "  0.0011223189167481624,\n",
       "  0.0011217297011228292,\n",
       "  0.001121141576341905,\n",
       "  0.0011205545403858547,\n",
       "  0.0011199685912388823,\n",
       "  0.001119383726888924,\n",
       "  0.0011187999453276408,\n",
       "  0.0011182172445504115,\n",
       "  0.0011176356225563264,\n",
       "  0.0011170550773481804,\n",
       "  0.0011164756069324655,\n",
       "  0.0011158972093193648,\n",
       "  0.0011153198825227448,\n",
       "  0.0011147436245601495,\n",
       "  0.0011141684334527932,\n",
       "  0.001113594307225553,\n",
       "  0.001113021243906963,\n",
       "  0.0011124492415292074,\n",
       "  0.0011118782981281129,\n",
       "  0.0011113084117431431,\n",
       "  0.0011107395804173911,\n",
       "  0.0011101718021975732,\n",
       "  0.0011096050751340215,\n",
       "  0.001109039397280677,\n",
       "  0.0011084747666950852,\n",
       "  0.0011079111814383867,\n",
       "  0.0011073486395753113,\n",
       "  0.0011067871391741723,\n",
       "  0.0011062266783068593,\n",
       "  0.0011056672550488309,\n",
       "  0.0011051088674791094,\n",
       "  0.001104551513680273,\n",
       "  0.0011039951917384497,\n",
       "  0.0011034398997433108,\n",
       "  0.001102885635788065,\n",
       "  0.0011023323979694496,\n",
       "  0.0011017801843877274,\n",
       "  0.0011012289931466768,\n",
       "  0.0011006788223535875,\n",
       "  0.0011001296701192527,\n",
       "  0.001099581534557964,\n",
       "  0.0010990344137875034,\n",
       "  0.0010984883059291383,\n",
       "  0.0010979432091076126,\n",
       "  0.0010973991214511445,\n",
       "  0.001096856041091415,\n",
       "  0.0010963139661635658,\n",
       "  0.0010957728948061908,\n",
       "  0.0010952328251613293,\n",
       "  0.0010946937553744608,\n",
       "  0.0010941556835944975,\n",
       "  0.00109361860797378,\n",
       "  0.0010930825266680685,\n",
       "  0.0010925474378365382,\n",
       "  0.0010920133396417717,\n",
       "  0.001091480230249753,\n",
       "  0.0010909481078298624,\n",
       "  0.0010904169705548692,\n",
       "  0.0010898868166009249,\n",
       "  0.001089357644147558,\n",
       "  0.001088829451377668,\n",
       "  0.0010883022364775168,\n",
       "  0.0010877759976367256,\n",
       "  0.001087250733048267,\n",
       "  0.0010867264409084587,\n",
       "  0.0010862031194169574,\n",
       "  0.0010856807667767535,\n",
       "  0.0010851593811941644,\n",
       "  0.0010846389608788276,\n",
       "  0.0010841195040436958,\n",
       "  0.0010836010089050293,\n",
       "  0.0010830834736823914,\n",
       "  0.0010825668965986416,\n",
       "  0.0010820512758799293,\n",
       "  0.0010815366097556877,\n",
       "  0.0010810228964586285,\n",
       "  0.0010805101342247357,\n",
       "  0.0010799983212932572,\n",
       "  0.0010794874559067024,\n",
       "  0.0010789775363108341,\n",
       "  0.0010784685607546623,\n",
       "  0.0010779605274904391,\n",
       "  0.0010774534347736523,\n",
       "  0.0010769472808630194,\n",
       "  0.001076442064020481,\n",
       "  0.0010759377825111964,\n",
       "  0.0010754344346035364,\n",
       "  0.0010749320185690777,\n",
       "  0.001074430532682596,\n",
       "  0.0010739299752220623,\n",
       "  0.001073430344468635,\n",
       "  0.0010729316387066547,\n",
       "  0.0010724338562236389,\n",
       "  0.0010719369953102742,\n",
       "  0.001071441054260413,\n",
       "  0.0010709460313710654,\n",
       "  0.0010704519249423957,\n",
       "  0.001069958733277714,\n",
       "  0.0010694664546834715,\n",
       "  0.0010689750874692554,\n",
       "  0.0010684846299477825,\n",
       "  0.0010679950804348929,\n",
       "  0.0010675064372495443,\n",
       "  0.0010670186987138078,\n",
       "  0.0010665318631528599,\n",
       "  0.001066045928894978,\n",
       "  0.0010655608942715348,\n",
       "  0.0010650767576169922,\n",
       "  0.0010645935172688948,\n",
       "  0.0010641111715678662,\n",
       "  0.0010636297188576012,\n",
       "  0.0010631491574848609,\n",
       "  0.001062669485799468,\n",
       "  0.0010621907021542989,\n",
       "  0.0010617128049052816,\n",
       "  0.0010612357924113854,\n",
       "  0.0010607596630346193,\n",
       "  0.0010602844151400242,\n",
       "  0.0010598100470956679,\n",
       "  0.00105933655727264,\n",
       "  0.0010588639440450446,\n",
       "  0.001058392205789997,\n",
       "  0.001057921340887617,\n",
       "  0.0010574513477210226,\n",
       "  0.001056982224676326,\n",
       "  0.0010565139701426268,\n",
       "  0.0010560465825120069,\n",
       "  0.0010555800601795256,\n",
       "  0.0010551144015432125,\n",
       "  0.0010546496050040646,\n",
       "  0.001054185668966037,\n",
       "  0.0010537225918360418,\n",
       "  0.001053260372023939,\n",
       "  0.001052799007942533,\n",
       "  0.0010523384980075674,\n",
       "  0.0010518788406377174,\n",
       "  0.0010514200342545865,\n",
       "  0.0010509620772827008,\n",
       "  0.001050504968149502,\n",
       "  0.0010500487052853447,\n",
       "  0.001049593287123488,\n",
       "  0.0010491387121000927,\n",
       "  0.0010486849786542137,\n",
       "  0.001048232085227797,\n",
       "  0.0010477800302656718,\n",
       "  0.0010473288122155478,\n",
       "  0.0010468784295280076,\n",
       "  0.0010464288806565024,\n",
       "  0.0010459801640573475,\n",
       "  0.001045532278189715,\n",
       "  0.0010450852215156293,\n",
       "  0.0010446389924999638,\n",
       "  0.0010441935896104326,\n",
       "  0.0010437490113175871,\n",
       "  0.00104330525609481,\n",
       "  0.0010428623224183107,\n",
       "  0.0010424202087671193,\n",
       "  0.0010419789136230815,\n",
       "  0.0010415384354708545,\n",
       "  0.0010410987727979004,\n",
       "  0.0010406599240944815,\n",
       "  0.0010402218878536548,\n",
       "  0.001039784662571268,\n",
       "  0.0010393482467459531,\n",
       "  0.0010389126388791216,\n",
       "  0.0010384778374749595,\n",
       "  0.0010380438410404222,\n",
       "  0.001037610648085229,\n",
       "  0.0010371782571218578,\n",
       "  0.0010367466666655414,\n",
       "  0.0010363158752342617,\n",
       "  0.001035885881348742,\n",
       "  0.0010354566835324474,\n",
       "  0.0010350282803115744,\n",
       "  0.0010346006702150485,\n",
       "  0.0010341738517745194,\n",
       "  0.001033747823524354,\n",
       "  0.0010333225840016343,\n",
       "  0.0010328981317461483,\n",
       "  0.0010324744653003896,\n",
       "  0.0010320515832095494,\n",
       "  0.0010316294840215115,\n",
       "  0.0010312081662868493,\n",
       "  0.001030787628558819,\n",
       "  0.0010303678693933547,\n",
       "  0.001029948887349065,\n",
       "  0.0010295306809872265,\n",
       "  0.0010291132488717792,\n",
       "  0.0010286965895693221,\n",
       "  0.0010282807016491079,\n",
       "  0.0010278655836830374,\n",
       "  0.0010274512342456567,\n",
       "  0.0010270376519141498,\n",
       "  0.0010266248352683353,\n",
       "  0.0010262127828906604,\n",
       "  0.001025801493366198,\n",
       "  0.0010253909652826391,\n",
       "  0.0010249811972302902,\n",
       "  0.0010245721878020676,\n",
       "  0.0010241639355934922,\n",
       "  0.0010237564392026855,\n",
       "  0.0010233496972303642,\n",
       "  0.0010229437082798353,\n",
       "  0.001022538470956992,\n",
       "  0.0010221339838703085,\n",
       "  0.0010217302456308347,\n",
       "  0.0010213272548521921,\n",
       "  0.0010209250101505696,\n",
       "  0.001020523510144717,\n",
       "  0.0010201227534559418,\n",
       "  0.0010197227387081038,\n",
       "  0.001019323464527611,\n",
       "  0.0010189249295434134,\n",
       "  0.001018527132387,\n",
       "  0.001018130071692393,\n",
       "  0.0010177337460961446,\n",
       "  0.0010173381542373297,\n",
       "  ...])"
      ]
     },
     "execution_count": 55,
     "metadata": {},
     "output_type": "execute_result"
    }
   ],
   "source": [
    "np.random.seed(42)\n",
    "theta = np.random.random(size=2)\n",
    "iterations = 40000\n",
    "alpha = 0.1\n",
    "theta, J_history = gradient_descent(X_train ,y_train, theta, alpha, iterations)\n",
    "theta, J_history"
   ]
  },
  {
   "cell_type": "markdown",
   "metadata": {
    "nbgrader": {
     "grade": false,
     "grade_id": "cell-86125cd57f0fdb89",
     "locked": true,
     "schema_version": 1,
     "solution": false
    }
   },
   "source": [
    "You can evaluate the learning process by monitoring the loss as training progress. In the following graph, we visualize the loss as a function of the iterations. This is possible since we are saving the loss value at every iteration in the `J_history` array. This visualization might help you find problems with your code. Notice that since the network converges quickly, we are using logarithmic scale for the number of iterations. "
   ]
  },
  {
   "cell_type": "code",
   "execution_count": 56,
   "metadata": {
    "nbgrader": {
     "grade": false,
     "grade_id": "cell-a565f1f721f6377f",
     "locked": true,
     "schema_version": 1,
     "solution": false
    }
   },
   "outputs": [
    {
     "data": {
      "image/png": "[encoded data removed]",
      "text/plain": [
       "<Figure size 1008x576 with 1 Axes>"
      ]
     },
     "metadata": {
      "needs_background": "light"
     },
     "output_type": "display_data"
    }
   ],
   "source": [
    "plt.plot(np.arange(iterations), J_history)\n",
    "plt.xscale('log')\n",
    "plt.xlabel('Iterations')\n",
    "plt.ylabel('Loss')\n",
    "plt.title('Loss as a function of iterations')\n",
    "plt.show()"
   ]
  },
  {
   "cell_type": "markdown",
   "metadata": {
    "nbgrader": {
     "grade": false,
     "grade_id": "cell-3bdd058ecc5db0eb",
     "locked": true,
     "schema_version": 1,
     "solution": false
    }
   },
   "source": [
    "Implement the pseudo-inverse function `pinv`. **Do not use `np.linalg.pinv`**, instead use only direct matrix multiplication as you saw in class (you can calculate the inverse of a matrix using `np.linalg.inv`). (10 points)"
   ]
  },
  {
   "cell_type": "code",
   "execution_count": null,
   "metadata": {},
   "outputs": [],
   "source": [
    "def pinv(X, y):\n",
    "    \"\"\"\n",
    "    Calculate the optimal values of the parameters using the pseudoinverse\n",
    "    approach as you saw in class using the *training set*.\n",
    "\n",
    "    Input:\n",
    "    - X: Inputs  (n features over m instances).\n",
    "    - y: True labels (1 value over m instances).\n",
    "\n",
    "    Returns two values:\n",
    "    - theta: The optimal parameters of your model.\n",
    "\n",
    "    ########## DO NOT USE np.linalg.pinv ##############\n",
    "    \"\"\"\n",
    "    \n",
    "    pinv_theta = []\n",
    "    ###########################################################################\n",
    "    # TODO: Implement the pseudoinverse algorithm.                            #\n",
    "    ###########################################################################\n",
    "    pass\n",
    "    ###########################################################################\n",
    "    #                             END OF YOUR CODE                            #\n",
    "    ###########################################################################\n",
    "    return pinv_theta"
   ]
  },
  {
   "cell_type": "code",
   "execution_count": null,
   "metadata": {
    "nbgrader": {
     "grade": false,
     "grade_id": "cell-ee89ac06af3087ae",
     "locked": true,
     "schema_version": 1,
     "solution": false
    }
   },
   "outputs": [],
   "source": [
    "theta_pinv = pinv(X_train ,y_train)\n",
    "J_pinv = compute_cost(X_train, y_train, theta_pinv)"
   ]
  },
  {
   "cell_type": "markdown",
   "metadata": {},
   "source": [
    "We can add the loss value for the theta calculated using the psuedo-inverse to our graph. This is another sanity check as the loss of our model should converge to the psuedo-inverse loss."
   ]
  },
  {
   "cell_type": "code",
   "execution_count": null,
   "metadata": {
    "nbgrader": {
     "grade": false,
     "grade_id": "cell-639b53fc41479335",
     "locked": true,
     "schema_version": 1,
     "solution": false
    }
   },
   "outputs": [],
   "source": [
    "plt.plot(np.arange(iterations), J_history)\n",
    "plt.xscale('log')\n",
    "plt.xlabel('Iterations')\n",
    "plt.ylabel('Loss')\n",
    "plt.title('Loss as a function of iterations')\n",
    "plt.hlines(y = J_pinv, xmin = 0, xmax = len(J_history), color='r',\n",
    "           linewidth = 1, linestyle = 'dashed')\n",
    "plt.show()"
   ]
  },
  {
   "cell_type": "markdown",
   "metadata": {
    "nbgrader": {
     "grade": false,
     "grade_id": "cell-5043aa5363cbe5c9",
     "locked": true,
     "schema_version": 1,
     "solution": false
    }
   },
   "source": [
    "We can use a better approach for the implementation of `gradient_descent`. Instead of performing 40,000 iterations, we wish to stop when the improvement of the loss value is smaller than `1e-8` from one iteration to the next. Implement the function `efficient_gradient_descent`. (5 points)"
   ]
  },
  {
   "cell_type": "code",
   "execution_count": null,
   "metadata": {},
   "outputs": [],
   "source": [
    "def efficient_gradient_descent(X, y, theta, alpha, num_iters):\n",
    "    \"\"\"\n",
    "    Learn the parameters of your model using the *training set*, but stop \n",
    "    the learning process once the improvement of the loss value is smaller \n",
    "    than 1e-8. This function is very similar to the gradient descent \n",
    "    function you already implemented.\n",
    "\n",
    "    Input:\n",
    "    - X: Inputs  (n features over m instances).\n",
    "    - y: True labels (1 value over m instances).\n",
    "    - theta: The parameters (weights) of the model being learned.\n",
    "    - alpha: The learning rate of your model.\n",
    "    - num_iters: The number of updates performed.\n",
    "\n",
    "    Returns two values:\n",
    "    - theta: The learned parameters of your model.\n",
    "    - J_history: the loss value for every iteration.\n",
    "    \"\"\"\n",
    "    \n",
    "    J_history = [] # Use a python list to save cost in every iteration\n",
    "    theta = theta.copy() # avoid changing the original thetas\n",
    "    ###########################################################################\n",
    "    # TODO: Implement the gradient descent optimization algorithm.            #\n",
    "    ###########################################################################\n",
    "    pass\n",
    "    ###########################################################################\n",
    "    #                             END OF YOUR CODE                            #\n",
    "    ###########################################################################\n",
    "    return theta, J_history"
   ]
  },
  {
   "cell_type": "markdown",
   "metadata": {
    "nbgrader": {
     "grade": false,
     "grade_id": "cell-6e2524d07523d950",
     "locked": true,
     "schema_version": 1,
     "solution": false
    }
   },
   "source": [
    "The learning rate is another factor that determines the performance of our model in terms of speed and accuracy. Complete the function `find_best_alpha`. Make sure you use the training dataset to learn the parameters (thetas) and use those parameters with the validation dataset to compute the cost."
   ]
  },
  {
   "cell_type": "code",
   "execution_count": null,
   "metadata": {},
   "outputs": [],
   "source": [
    "def find_best_alpha(X_train, y_train, X_val, y_val, iterations):\n",
    "    \"\"\"\n",
    "    Iterate over provided values of alpha and train a model using the \n",
    "    *training* dataset. maintain a python dictionary with alpha as the \n",
    "    key and the loss on the *validation* set as the value.\n",
    "\n",
    "    Input:\n",
    "    - X_train, y_train, X_val, y_val: the training and validation data\n",
    "    - iterations: maximum number of iterations\n",
    "\n",
    "    Returns:\n",
    "    - alpha_dict: A python dictionary - {key (alpha) : value (validation loss)}\n",
    "    \"\"\"\n",
    "    \n",
    "    alphas = [0.00001, 0.00003, 0.0001, 0.0003, 0.001, 0.003, 0.01, 0.03, 0.1, 0.3, 1, 2, 3]\n",
    "    alpha_dict = {}\n",
    "    ###########################################################################\n",
    "    # TODO: Implement the function.                                           #\n",
    "    ###########################################################################\n",
    "    pass\n",
    "    ###########################################################################\n",
    "    #                             END OF YOUR CODE                            #\n",
    "    ###########################################################################\n",
    "    return alpha_dict"
   ]
  },
  {
   "cell_type": "code",
   "execution_count": null,
   "metadata": {
    "nbgrader": {
     "grade": false,
     "grade_id": "cell-a8b088fe7a10910a",
     "locked": true,
     "schema_version": 1,
     "solution": false
    }
   },
   "outputs": [],
   "source": [
    "alpha_dict = find_best_alpha(X_train, y_train, X_val, y_val, 40000)"
   ]
  },
  {
   "cell_type": "markdown",
   "metadata": {
    "nbgrader": {
     "grade": false,
     "grade_id": "cell-5bd93130c022d3e1",
     "locked": true,
     "schema_version": 1,
     "solution": false
    }
   },
   "source": [
    "Obtain the best learning rate from the dictionary `alpha_dict`. This can be done in a single line using built-in functions."
   ]
  },
  {
   "cell_type": "code",
   "execution_count": null,
   "metadata": {
    "nbgrader": {
     "grade": false,
     "grade_id": "cell-4f81cf375ac46b73",
     "locked": false,
     "schema_version": 1,
     "solution": true
    }
   },
   "outputs": [],
   "source": [
    "best_alpha = None\n",
    "###########################################################################\n",
    "#                            START OF YOUR CODE                           #\n",
    "###########################################################################\n",
    "pass\n",
    "###########################################################################\n",
    "#                             END OF YOUR CODE                            #\n",
    "###########################################################################\n",
    "print(best_alpha)"
   ]
  },
  {
   "cell_type": "markdown",
   "metadata": {
    "nbgrader": {
     "grade": false,
     "grade_id": "cell-d16367ecb7183996",
     "locked": true,
     "schema_version": 1,
     "solution": false
    }
   },
   "source": [
    "Pick the best three alpha values you just calculated and provide **one** graph with three lines indicating the training loss as a function of iterations (Use 10,000 iterations). Note you are required to provide general code for this purpose (no hard-coding). Make sure the visualization is clear and informative. (5 points)"
   ]
  },
  {
   "cell_type": "code",
   "execution_count": null,
   "metadata": {
    "nbgrader": {
     "grade": true,
     "grade_id": "cell-448638e817503ca3",
     "locked": false,
     "points": 0,
     "schema_version": 1,
     "solution": true
    }
   },
   "outputs": [],
   "source": [
    "###########################################################################\n",
    "#                            START OF YOUR CODE                           #\n",
    "###########################################################################\n",
    "pass\n",
    "###########################################################################\n",
    "#                             END OF YOUR CODE                            #\n",
    "###########################################################################"
   ]
  },
  {
   "cell_type": "markdown",
   "metadata": {
    "nbgrader": {
     "grade": false,
     "grade_id": "cell-b73893d236bff1d5",
     "locked": true,
     "schema_version": 1,
     "solution": false
    }
   },
   "source": [
    "This is yet another sanity check. This function plots the regression lines of your model and the model based on the pseudoinverse calculation. Both models should exhibit the same trend through the data. "
   ]
  },
  {
   "cell_type": "code",
   "execution_count": null,
   "metadata": {
    "nbgrader": {
     "grade": false,
     "grade_id": "cell-c7ee7d8763464371",
     "locked": true,
     "schema_version": 1,
     "solution": false
    }
   },
   "outputs": [],
   "source": [
    "plt.figure(figsize=(7, 7))\n",
    "plt.plot(X_train[:,1], y_train, 'ro', ms=1, mec='k')\n",
    "plt.ylabel('Price in USD')\n",
    "plt.xlabel('sq.ft')\n",
    "plt.plot(X_train[:, 1], np.dot(X_train, theta), 'o')\n",
    "plt.plot(X_train[:, 1], np.dot(X_train, theta_pinv), '-')\n",
    "\n",
    "plt.legend(['Training data', 'Linear regression', 'Best theta']);"
   ]
  },
  {
   "cell_type": "markdown",
   "metadata": {
    "nbgrader": {
     "grade": false,
     "grade_id": "cell-e77c602466fab37d",
     "locked": true,
     "schema_version": 1,
     "solution": false
    }
   },
   "source": [
    "## Part 2: Multivariate Linear Regression (30 points)\n",
    "\n",
    "In most cases, you will deal with databases that have more than one feature. It can be as little as two features and up to thousands of features. In those cases, we use a multiple linear regression model. The regression equation is almost the same as the simple linear regression equation:\n",
    "\n",
    "$$\n",
    "\\hat{y} = h_\\theta(\\vec{x}) = \\theta^T \\vec{x} = \\theta_0 + \\theta_1 x_1 + ... + \\theta_n x_n\n",
    "$$\n",
    "\n",
    "\n",
    "If you wrote vectorized code, this part should be straightforward. If your code is not vectorized, you should go back and edit your functions such that they support both multivariate and single variable regression. **Your code should not check the dimensionality of the input before running**."
   ]
  },
  {
   "cell_type": "code",
   "execution_count": null,
   "metadata": {
    "nbgrader": {
     "grade": false,
     "grade_id": "cell-15626dda8db26550",
     "locked": true,
     "schema_version": 1,
     "solution": false
    }
   },
   "outputs": [],
   "source": [
    "# Read comma separated data\n",
    "df = pd.read_csv('data.csv')\n",
    "df.head()"
   ]
  },
  {
   "cell_type": "markdown",
   "metadata": {
    "nbgrader": {
     "grade": false,
     "grade_id": "cell-2dc0f4dc3491520c",
     "locked": true,
     "schema_version": 1,
     "solution": false
    }
   },
   "source": [
    "## Preprocessing\n",
    "\n",
    "Like in the single variable case, we need to create a numpy array from the dataframe. Before doing so, we should notice that some of the features are clearly irrelevant."
   ]
  },
  {
   "cell_type": "code",
   "execution_count": null,
   "metadata": {
    "nbgrader": {
     "grade": true,
     "grade_id": "cell-a87b4027bd3bda4b",
     "locked": false,
     "points": 0,
     "schema_version": 1,
     "solution": true
    }
   },
   "outputs": [],
   "source": [
    "X = df.drop(columns=['price', 'id', 'date']).values\n",
    "y = df['price'].values"
   ]
  },
  {
   "cell_type": "markdown",
   "metadata": {
    "nbgrader": {
     "grade": false,
     "grade_id": "cell-1aa12f54513b1efa",
     "locked": true,
     "schema_version": 1,
     "solution": false
    }
   },
   "source": [
    "Use the **same** `preprocess` function you implemented previously. Notice that proper vectorized implementation should work regardless of the dimensionality of the input. You might want to check that your code in the previous parts still works."
   ]
  },
  {
   "cell_type": "code",
   "execution_count": null,
   "metadata": {
    "nbgrader": {
     "grade": false,
     "grade_id": "cell-f40a9df530db9399",
     "locked": true,
     "schema_version": 1,
     "solution": false
    }
   },
   "outputs": [],
   "source": [
    "# preprocessing\n",
    "X, y = preprocess(X, y)"
   ]
  },
  {
   "cell_type": "code",
   "execution_count": null,
   "metadata": {},
   "outputs": [],
   "source": [
    "# training and validation split\n",
    "np.random.seed(42)\n",
    "indices = np.random.permutation(X.shape[0])\n",
    "idx_train, idx_val = indices[:int(0.8*X.shape[0])], indices[int(0.8*X.shape[0]):]\n",
    "X_train, X_val = X[idx_train,:], X[idx_val,:]\n",
    "y_train, y_val = y[idx_train], y[idx_val]"
   ]
  },
  {
   "cell_type": "markdown",
   "metadata": {},
   "source": [
    "Using 3D visualization, we can still observe trends in the data. Visualizing additional dimensions requires advanced techniques we will learn later in the course."
   ]
  },
  {
   "cell_type": "code",
   "execution_count": null,
   "metadata": {
    "nbgrader": {
     "grade": false,
     "grade_id": "cell-0c68216a26a9b5af",
     "locked": true,
     "schema_version": 1,
     "solution": false
    }
   },
   "outputs": [],
   "source": [
    "%matplotlib inline\n",
    "import mpl_toolkits.mplot3d.axes3d as p3\n",
    "fig = plt.figure(figsize=(5,5))\n",
    "ax = p3.Axes3D(fig)\n",
    "xx = X_train[:, 1][:1000]\n",
    "yy = X_train[:, 2][:1000]\n",
    "zz = y_train[:1000]\n",
    "ax.scatter(xx, yy, zz, marker='o')\n",
    "ax.set_xlabel('bathrooms')\n",
    "ax.set_ylabel('sqft_living')\n",
    "ax.set_zlabel('price')\n",
    "plt.show()"
   ]
  },
  {
   "cell_type": "markdown",
   "metadata": {
    "nbgrader": {
     "grade": false,
     "grade_id": "cell-70fcd47d69caea00",
     "locked": true,
     "schema_version": 1,
     "solution": false
    }
   },
   "source": [
    "Use the bias trick again (add a column of ones as the zeroth column in the both the training and validation datasets)."
   ]
  },
  {
   "cell_type": "code",
   "execution_count": null,
   "metadata": {
    "nbgrader": {
     "grade": true,
     "grade_id": "cell-2985911f4b7af3e1",
     "locked": false,
     "points": 0,
     "schema_version": 1,
     "solution": true
    }
   },
   "outputs": [],
   "source": [
    "###########################################################################\n",
    "#                            START OF YOUR CODE                           #\n",
    "###########################################################################\n",
    "pass\n",
    "###########################################################################\n",
    "#                             END OF YOUR CODE                            #\n",
    "###########################################################################"
   ]
  },
  {
   "cell_type": "markdown",
   "metadata": {
    "nbgrader": {
     "grade": false,
     "grade_id": "cell-2b89288ff61c80ac",
     "locked": true,
     "schema_version": 1,
     "solution": false
    }
   },
   "source": [
    "Make sure the functions `compute_cost` (10 points), `gradient_descent` (15 points), and `pinv` (5 points) work on the multi-dimensional dataset. If you make any changes, make sure your code still works on the single variable regression model. "
   ]
  },
  {
   "cell_type": "code",
   "execution_count": null,
   "metadata": {
    "nbgrader": {
     "grade": false,
     "grade_id": "cell-81ab741781b2f6ec",
     "locked": true,
     "schema_version": 1,
     "solution": false
    }
   },
   "outputs": [],
   "source": [
    "shape = X_train.shape[1]\n",
    "theta = np.ones(shape)\n",
    "J = compute_cost(X_train, y_train, theta)"
   ]
  },
  {
   "cell_type": "code",
   "execution_count": null,
   "metadata": {
    "nbgrader": {
     "grade": false,
     "grade_id": "cell-6f25fb05bd6c648a",
     "locked": true,
     "schema_version": 1,
     "solution": false
    }
   },
   "outputs": [],
   "source": [
    "np.random.seed(42)\n",
    "shape = X_train.shape[1]\n",
    "theta = np.random.random(shape)\n",
    "iterations = 40000\n",
    "theta, J_history = gradient_descent(X_train ,y_train, theta, best_alpha, iterations)"
   ]
  },
  {
   "cell_type": "code",
   "execution_count": null,
   "metadata": {
    "nbgrader": {
     "grade": false,
     "grade_id": "cell-827d1de1293be51f",
     "locked": true,
     "schema_version": 1,
     "solution": false
    }
   },
   "outputs": [],
   "source": [
    "theta_pinv = pinv(X_train ,y_train)\n",
    "J_pinv = compute_cost(X_train, y_train, theta_pinv)"
   ]
  },
  {
   "cell_type": "markdown",
   "metadata": {},
   "source": [
    "We can use visualization to make sure the code works well. Notice we use logarithmic scale for the number of iterations, since gradient descent converges after ~500 iterations."
   ]
  },
  {
   "cell_type": "code",
   "execution_count": null,
   "metadata": {
    "nbgrader": {
     "grade": false,
     "grade_id": "cell-4fa207b72d2445c2",
     "locked": true,
     "schema_version": 1,
     "solution": false
    }
   },
   "outputs": [],
   "source": [
    "plt.plot(np.arange(iterations), J_history)\n",
    "plt.xscale('log')\n",
    "plt.xlabel('Iterations')\n",
    "plt.ylabel('Loss')\n",
    "plt.title('Loss as a function of iterations - multivariate linear regression')\n",
    "plt.hlines(y = J_pinv, xmin = 0, xmax = len(J_history), color='r',\n",
    "           linewidth = 1, linestyle = 'dashed')\n",
    "plt.show()"
   ]
  },
  {
   "cell_type": "markdown",
   "metadata": {
    "nbgrader": {
     "grade": false,
     "grade_id": "cell-cad652570cee3629",
     "locked": true,
     "schema_version": 1,
     "solution": false
    }
   },
   "source": [
    "## Part 3: Polynomial Regression (10 points)\n",
    "\n",
    "Linear Regression allows us to explore linear relationships but if we need a model that describes non-linear dependencies we can also use Polynomial Regression. In order to perform polynomial regression, we create additional features using a function of the original features and use standard linear regression on the new features. For example, consider the following single variable $(x)$ cubic regression:\n",
    "\n",
    "$$ x_0 = 1, \\space x_1 = x, \\space x_2 = x^2, \\space x_3 = x^3$$\n",
    "\n",
    "And after using standard linear regression:\n",
    "\n",
    "$$ f(x) = \\theta_0 + \\theta_1 x + \\theta_2 x^2 +  \\theta_3 x^3$$\n",
    "\n",
    "As required. \n",
    "\n",
    "For this exercise, use polynomial regression by using all **quadratic** feature combinations: \n",
    "\n",
    "$$ 1, x, y, z, x^2, y^2, z^2, xy, xz, yz, ...$$\n",
    "\n",
    "and evaluate the MSE cost on the training and testing datasets."
   ]
  },
  {
   "cell_type": "code",
   "execution_count": null,
   "metadata": {},
   "outputs": [],
   "source": [
    "columns_to_drop = ['price', 'id', 'date']\n",
    "all_features = df.drop(columns=columns_to_drop)\n",
    "all_features.head(5)"
   ]
  },
  {
   "cell_type": "code",
   "execution_count": null,
   "metadata": {},
   "outputs": [],
   "source": [
    "### Your code here ###"
   ]
  },
  {
   "cell_type": "markdown",
   "metadata": {},
   "source": [
    "Give an explanations to the results and compare them to regular linear regression. Do they make sense?"
   ]
  },
  {
   "cell_type": "markdown",
   "metadata": {},
   "source": [
    "### Use this Markdown cell for your answer"
   ]
  },
  {
   "cell_type": "markdown",
   "metadata": {},
   "source": [
    "## Part 4: Adaptive Learning Rate (10 points)\n",
    "\n",
    "So far, we kept the learning rate alpha constant during training. However, changing alpha during training might improve convergence in terms of the global minimum found and running time. Implement the adaptive learning rate method based on the gradient descent algorithm above. \n",
    "\n",
    "**Your task is to find proper hyper-parameter values for the adaptive technique and compare this technique to the constant learning rate. Use clear visualizations of the validation loss and the learning rate as a function of the iteration**. \n",
    "\n",
    "Time based decay: this method reduces the learning rate every iteration according to the following formula:\n",
    "\n",
    "$$\\alpha = \\frac{\\alpha_0}{1 + D \\cdot t}$$\n",
    "\n",
    "Where $\\alpha_0$ is the original learning rate, $D$ is a decay factor and $t$ is the current iteration."
   ]
  },
  {
   "cell_type": "code",
   "execution_count": null,
   "metadata": {},
   "outputs": [],
   "source": [
    "### Your code here ###"
   ]
  }
 ],
 "metadata": {
  "celltoolbar": "Create Assignment",
  "kernelspec": {
   "display_name": "Python 3 (ipykernel)",
   "language": "python",
   "name": "python3"
  },
  "language_info": {
   "codemirror_mode": {
    "name": "ipython",
    "version": 3
   },
   "file_extension": ".py",
   "mimetype": "text/x-python",
   "name": "python",
   "nbconvert_exporter": "python",
   "pygments_lexer": "ipython3",
   "version": "3.8.5"
  }
 },
 "nbformat": 4,
 "nbformat_minor": 4
}