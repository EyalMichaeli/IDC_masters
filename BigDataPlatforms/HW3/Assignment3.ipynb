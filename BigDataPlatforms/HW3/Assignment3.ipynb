{
 "cells": [
  {
   "cell_type": "markdown",
   "metadata": {},
   "source": [
    "# Big Data Platform\n",
    "## Assignment 3: ServerLess"
   ]
  },
  {
   "cell_type": "markdown",
   "metadata": {},
   "source": [
    "**By:**  \n",
    "\n",
    "John Doe, 300123123  \n",
    "Jane Doe, 200123123\n",
    "\n",
    "<br><br>"
   ]
  },
  {
   "cell_type": "markdown",
   "metadata": {},
   "source": [
    "**The goal of this assignment is to:**\n",
    "- Understand and practice the details of Serverless\n",
    "\n",
    "**Instructions:**\n",
    "- Students will form teams of two people each, and submit a single homework for each team.\n",
    "- The same score for the homework will be given to each member of your team.\n",
    "- Your solution is in the form of a Jupyter notebook file (with extension ipynb).\n",
    "- Images/Graphs/Tables should be submitted inside the notebook.\n",
    "- The notebook should be runnable and properly documented. \n",
    "- Please answer all the questions and include all your code.\n",
    "- You are expected to submit a clear and pythonic code.\n",
    "- You can change functions signatures/definitions.\n",
    "\n",
    "**Submission:**\n",
    "- Submission of the homework will be done via Moodle by uploading (not Zip):\n",
    "    - Jupyter Notebook\n",
    "    - 2 Log files\n",
    "    - Additional local scripts\n",
    "- The homework needs to be entirely in English.\n",
    "- The deadline for submission is on Moodle.\n",
    "- Late submission won't be allowed.\n",
    "\n",
    "  \n",
    "- In case of identical code submissions - both groups will get a Zero. \n",
    "- Some groups might be selected randomly to present their code.\n",
    "\n",
    "**Requirements:**  \n",
    "- Python 3.6 should be used.  \n",
    "- You should implement the algorithms by yourself using only basic Python libraries (such as numpy,pandas,etc.)\n",
    "\n",
    "<br><br><br><br>"
   ]
  },
  {
   "cell_type": "markdown",
   "metadata": {},
   "source": [
    "**Grading:**\n",
    "- Q0 - 10 points - Setup\n",
    "- Q1 - 40 points - Serverless MapReduceEngine\n",
    "- Q2 - 20 points - MapReduce job to calculate inverted index\n",
    "- Q3 - 30 points - Shuffle\n",
    "\n",
    "`Total: 100`"
   ]
  },
  {
   "cell_type": "markdown",
   "metadata": {},
   "source": [
    "<br><br>"
   ]
  },
  {
   "cell_type": "markdown",
   "metadata": {},
   "source": [
    "# Question 0\n",
    "## Setup\n",
    "\n",
    "1. Navigate to IBM Cloud and open a trial account. No need to provide a credit card\n",
    "2. Choose IBM Cloud Object Storage service from the catalog\n",
    "3. Create a new bucket in IBM Cloud Object Storage\n",
    "4. Create credentials for the bucket with HMAC (access key and secret key)\n",
    "5. Choose IBM Cloud Functions service from the catalog and create a service\n",
    "\n",
    "\n",
    "#### Lithops setup\n",
    "1. By using “git” tool, install master branch of the Lithops project from\n",
    "https://github.com/lithops-cloud/lithops\n",
    "2. Follow Lithops documentation and configure Lithops against IBM Cloud Functions and IBM Cloud Object Storage\n",
    "3. Configure Lithops log level to be in DEBUG mode\n",
    "4. Run Hello World example by using Futures API and verify all is working properly.\n",
    "\n",
    "\n",
    "#### IBM Cloud Object Storage setup\n",
    "1. Upload all the input CSV files that you used in homework 2 into the bucket you created in IBM Cloud Object Storage\n",
    "\n",
    "\n",
    "<br><br><br>"
   ]
  },
  {
   "cell_type": "code",
   "execution_count": 1,
   "outputs": [],
   "source": [
    "import sqlite3\n",
    "import traceback\n",
    "from pathlib import Path\n",
    "from typing import List\n",
    "import numpy as np\n",
    "import pandas as pd"
   ],
   "metadata": {
    "collapsed": false,
    "pycharm": {
     "name": "#%%\n"
    }
   }
  },
  {
   "cell_type": "code",
   "execution_count": 2,
   "outputs": [
    {
     "name": "stderr",
     "output_type": "stream",
     "text": [
      "2022-01-07 10:42:47,706 [INFO] lithops.config -- Lithops v2.5.8\n",
      "2022-01-07 10:42:47,708 [DEBUG] lithops.config -- Loading Serverless backend module: ibm_cf\n",
      "2022-01-07 10:42:47,915 [DEBUG] lithops.config -- Loading Storage backend module: ibm_cos\n",
      "2022-01-07 10:42:47,994 [DEBUG] lithops.storage.backends.ibm_cos.ibm_cos -- Creating IBM COS client\n",
      "2022-01-07 10:42:47,996 [DEBUG] lithops.storage.backends.ibm_cos.ibm_cos -- Set IBM COS Endpoint to https://s3.eu-de.cloud-object-storage.appdomain.cloud\n",
      "2022-01-07 10:42:47,999 [DEBUG] lithops.storage.backends.ibm_cos.ibm_cos -- Using access_key and secret_key\n",
      "2022-01-07 10:42:48,249 [INFO] lithops.storage.backends.ibm_cos.ibm_cos -- IBM COS client created - Region: eu-de\n",
      "2022-01-07 10:42:48,252 [DEBUG] lithops.serverless.backends.ibm_cf.ibm_cf -- Creating IBM Cloud Functions client\n",
      "2022-01-07 10:42:48,253 [DEBUG] lithops.serverless.backends.ibm_cf.ibm_cf -- Set IBM CF Namespace to eyal.michaeli@post.idc.ac.il_dev\n",
      "2022-01-07 10:42:48,255 [DEBUG] lithops.serverless.backends.ibm_cf.ibm_cf -- Set IBM CF Endpoint to https://eu-gb.functions.cloud.ibm.com\n",
      "2022-01-07 10:42:48,256 [INFO] lithops.serverless.backends.ibm_cf.ibm_cf -- IBM CF client created - Region: eu-gb - Namespace: eyal.michaeli@post.idc.ac.il_dev\n",
      "2022-01-07 10:42:48,260 [DEBUG] lithops.invokers -- ExecutorID 5727d7-0 - Invoker initialized. Max workers: 1200\n",
      "2022-01-07 10:42:48,261 [DEBUG] lithops.invokers -- ExecutorID 5727d7-0 - Serverless invoker created\n",
      "2022-01-07 10:42:48,267 [DEBUG] lithops.executors -- Function executor for ibm_cf created with ID: 5727d7-0\n",
      "2022-01-07 10:42:48,268 [INFO] lithops.invokers -- ExecutorID 5727d7-0 | JobID A000 - Selected Runtime: lithopscloud/ibmcf-python-v38 - 256MB\n",
      "2022-01-07 10:42:48,271 [DEBUG] lithops.storage.storage -- Runtime metadata found in local disk cache\n",
      "2022-01-07 10:42:48,273 [DEBUG] lithops.job.job -- ExecutorID 5727d7-0 | JobID A000 - Serializing function and data\n",
      "2022-01-07 10:42:48,274 [DEBUG] lithops.job.serialize -- Referenced modules: None\n",
      "2022-01-07 10:42:48,276 [DEBUG] lithops.job.serialize -- Modules to transmit: None\n",
      "2022-01-07 10:42:48,276 [DEBUG] lithops.job.job -- ExecutorID 5727d7-0 | JobID A000 - Uploading function and modules to the storage backend\n",
      "2022-01-07 10:42:48,745 [DEBUG] lithops.storage.backends.ibm_cos.ibm_cos -- PUT Object lithops.jobs/5727d7-0/c5056f629a18572f1a5e0350f349a5fb.func.pickle - Size: 532.0B - OK\n",
      "2022-01-07 10:42:48,750 [DEBUG] lithops.job.job -- ExecutorID 5727d7-0 | JobID A000 - Data per activation is < 8.0KiB. Passing data through invocation payload\n",
      "2022-01-07 10:42:48,752 [INFO] lithops.invokers -- ExecutorID 5727d7-0 | JobID A000 - Starting function invocation: hello_world() - Total: 1 activations\n",
      "2022-01-07 10:42:48,757 [DEBUG] lithops.invokers -- ExecutorID 5727d7-0 | JobID A000 - Worker processes: 1 - Chunksize: 1\n",
      "2022-01-07 10:42:48,758 [DEBUG] lithops.invokers -- ExecutorID 5727d7-0 - Async invoker 0 started\n",
      "2022-01-07 10:42:48,760 [DEBUG] lithops.invokers -- ExecutorID 5727d7-0 - Async invoker 1 started\n",
      "2022-01-07 10:42:48,761 [DEBUG] lithops.invokers -- ExecutorID 5727d7-0 | JobID A000 - Free workers: 1200 - Going to run 1 activations in 1 workers\n",
      "2022-01-07 10:42:48,766 [INFO] lithops.invokers -- ExecutorID 5727d7-0 | JobID A000 - View execution logs at /private/var/folders/41/21yq_s992776m2qf34b8yrq40000gn/T/lithops/logs/5727d7-0-A000.log\n",
      "2022-01-07 10:42:48,768 [DEBUG] lithops.monitor -- ExecutorID 5727d7-0 - Starting Storage job monitor\n",
      "2022-01-07 10:42:48,770 [INFO] lithops.wait -- ExecutorID 5727d7-0 - Getting results from functions\n",
      "2022-01-07 10:42:49,019 [DEBUG] lithops.invokers -- ExecutorID 5727d7-0 | JobID A000 - Calls 00000 invoked (0.255s) - Activation ID: 2b351d85160d454ab51d85160d054ad0\n",
      "2022-01-07 10:42:51,332 [DEBUG] lithops.monitor -- ExecutorID 5727d7-0 - Pending: 0 - Running: 0 - Done: 1\n",
      "2022-01-07 10:42:51,332 [DEBUG] lithops.monitor -- ExecutorID 5727d7-0 - Storage job monitor finished\n",
      "2022-01-07 10:42:51,788 [DEBUG] lithops.future -- ExecutorID 5727d7-0 | JobID A000 - Got status from call 00000 - Activation ID: 2b351d85160d454ab51d85160d054ad0 - Time: 0.25 seconds\n",
      "2022-01-07 10:42:51,854 [DEBUG] lithops.future -- ExecutorID 5727d7-0 | JobID A000 - Got output from call 00000 - Activation ID: 2b351d85160d454ab51d85160d054ad0\n",
      "2022-01-07 10:42:51,856 [INFO] lithops.executors -- ExecutorID 5727d7-0 - Cleaning temporary data\n",
      "2022-01-07 10:42:51,867 [DEBUG] lithops.executors -- ExecutorID 5727d7-0 - Finished getting results\n"
     ]
    },
    {
     "name": "stdout",
     "output_type": "stream",
     "text": [
      "Hello World!\n"
     ]
    }
   ],
   "source": [
    "import lithops\n",
    "\n",
    "config = {'lithops': {'backend': 'ibm_cf',\n",
    "                      \"storage\": 'ibm_cos',\n",
    "                      \"log_level\": \"DEBUG\"},\n",
    "\n",
    "          'ibm_cf':  {'endpoint': 'https://eu-gb.functions.cloud.ibm.com',\n",
    "                      'namespace': 'eyal.michaeli@post.idc.ac.il_dev',\n",
    "                      'api_key': '8fb50be4-51a4-49e8-87d1-32fb9294fb3d:ohx288bRYbo4gl8A4dT1uO2Tyl5ReFZsqMFmmjaYk6KLgk3ixhpHwwktaRY7Axs2'},\n",
    "\n",
    "          'ibm_cos': {'storage_bucket': 'cloud-object-storage-oh-cos-standard-o3j',\n",
    "                      'region': 'eu-de',\n",
    "                      'access_key': '58f33d9962c241fdb8bcfcb8b4f17339',\n",
    "                      \"secret_key\": \"628211522fb519c62c0dd6debd505d103662d21dcb64c5e3\"}}\n",
    "\n",
    "BUCKET = config['ibm_cos']['storage_bucket']  # for later use\n",
    "\n",
    "def hello_world(name):\n",
    "    return 'Hello {}!'.format(name)\n",
    "\n",
    "fexec = lithops.FunctionExecutor(config=config)\n",
    "fexec.call_async(hello_world, 'World')\n",
    "print(fexec.get_result())\n"
   ],
   "metadata": {
    "collapsed": false,
    "pycharm": {
     "name": "#%%\n"
    }
   }
  },
  {
   "cell_type": "markdown",
   "metadata": {},
   "source": [
    "# Question 1\n",
    "## Serverless MapReduceEngine\n",
    "\n",
    "Modify MapReduceEngine from homework 2 into the MapReduceServerlessEngine where map and reduce tasks executed as a serverless actions, instead of local threads. In particular:\n",
    "1. Deploy all map tasks as a serverless actions by using Lithops against IBM Cloud Functions.\n",
    "2. Collect results from all map tasks and store them in the same SQLite as you used in MapReduceEngine and use the same code for the sort and shuffle phase.\n",
    "3. Deploy reduce tasks by using Lithops against IBM Cloud Functions. Instead of persisting results from reduce tasks, return results back to the MapReduceServerlessEngine and proceed with the same workflow as in MapReduceEngine\n",
    "4. Return results of reduce tasks to the user\n",
    "\n",
    "**Please attach:**  \n",
    "Text file with all log messages Lithops printed to console during the execution. Make\n",
    "sure log level is set to DEBUG mode.\n",
    "\n",
    "#### Code:"
   ]
  },
  {
   "cell_type": "code",
   "execution_count": 3,
   "outputs": [],
   "source": [
    "# insert your path here(it's only for the Data Base):\n",
    "my_path = \"/Users/eyalmichaeli/Desktop/School/Master's/IDC_masters/big_data_platforms_ex2\"\n",
    "\n",
    "path = Path(my_path)"
   ],
   "metadata": {
    "collapsed": false,
    "pycharm": {
     "name": "#%%\n"
    }
   }
  },
  {
   "cell_type": "code",
   "execution_count": 4,
   "outputs": [],
   "source": [
    "# Create the database \"temp_results.db\", then close it.\n",
    "conn = None\n",
    "cursor = None\n",
    "try:\n",
    "    conn = sqlite3.connect(str(path / \"temp_results.db\"))\n",
    "    cursor = conn.cursor()\n",
    "    cursor.execute(\"CREATE TABLE IF NOT EXISTS temp_results (key, value);\")\n",
    "\n",
    "except Exception:\n",
    "    traceback.print_exc()\n",
    "\n",
    "finally:\n",
    "    cursor.close()\n",
    "    if conn:\n",
    "        conn.close()"
   ],
   "metadata": {
    "collapsed": false,
    "pycharm": {
     "name": "#%%\n"
    }
   }
  },
  {
   "cell_type": "code",
   "execution_count": 5,
   "outputs": [],
   "source": [
    "class MapReduceServerlessEngine:\n",
    "    \"\"\"\n",
    "    a class that implements MapReduce. Gets an Sqlite connection in its __init__.\n",
    "    calls the functions: inverted_map and inverted_reduce in its execute method,\n",
    "    which constitutes the MapReduce engine.\n",
    "    \"\"\"\n",
    "\n",
    "    def __init__(self, conn):\n",
    "        self.conn = conn\n",
    "\n",
    "    def execute(self, input_data: List[str], map_function, reduce_function, params: dict, print_file_name=False):\n",
    "        # map part\n",
    "        try:\n",
    "            fexec = lithops.FunctionExecutor(config=config)\n",
    "            map_arguments = list(zip(input_data, [params['column_index'] for i in range(len(input_data))]))\n",
    "            fexec.map(map_function, map_arguments)\n",
    "            map_returns = np.array(fexec.get_result()).reshape(10*20, 2)\n",
    "            pd.DataFrame(map_returns, columns=['key', 'value']).to_sql(name='temp_results', con=self.conn, if_exists='replace', index=False)\n",
    "\n",
    "            # shuffle and sort part\n",
    "            results_df = pd.read_sql_query(\"SELECT key, GROUP_CONCAT(value) as value \"\n",
    "                                           \"FROM temp_results \"\n",
    "                                           \"GROUP BY key \"\n",
    "                                           \"ORDER BY key\",\n",
    "                                           conn)\n",
    "\n",
    "            # reduce part\n",
    "            if print_file_name:\n",
    "                # just for debug purposes\n",
    "                bool_arr = np.ones(len(results_df))  # 1 is like True\n",
    "                reduce_arguments = list(zip(results_df[\"key\"].values, results_df[\"value\"].values, bool_arr))\n",
    "            else:\n",
    "                reduce_arguments = list(zip(results_df[\"key\"].values, results_df[\"value\"].values))\n",
    "\n",
    "            fexec.map(reduce_function, reduce_arguments)\n",
    "            reduce_returns = np.array(fexec.get_result())\n",
    "\n",
    "        except Exception:\n",
    "            print(\"Mapreduce failed\")\n",
    "            traceback.print_exc()\n",
    "            # close connection to db\n",
    "            if conn:\n",
    "                conn.close()\n",
    "            return\n",
    "\n",
    "        finally:\n",
    "            # close connection to db\n",
    "            if conn:\n",
    "                conn.close()\n",
    "\n",
    "        print('MapReduce Completed')\n",
    "        return reduce_returns\n"
   ],
   "metadata": {
    "collapsed": false,
    "pycharm": {
     "name": "#%%\n"
    }
   }
  },
  {
   "cell_type": "code",
   "execution_count": 6,
   "outputs": [],
   "source": [
    "from lithops import Storage\n",
    "from io import StringIO\n",
    "\n",
    "def inverted_map(document_name: str, column_index: int) -> List[tuple]:\n",
    "    \"\"\"\n",
    "    reads the CSV document from the local disc and returns a list that contains entries of the form (key_value, document name) for the specific column_index provided.\n",
    "    :param document_name: csv file name.\n",
    "    :param column_index: column index in the csv file (Note: starting from 1)\n",
    "    :return: List[tuple] where each tuple contains 2 strings\n",
    "    \"\"\"\n",
    "    obj_path = Path(document_name)\n",
    "    csv_file = obj_path.name\n",
    "\n",
    "    # access IBM storage\n",
    "    storage = Storage(config=config)\n",
    "\n",
    "    # convert to string, read to a df\n",
    "    data = StringIO(storage.get_object(BUCKET, csv_file).decode('utf-8'))\n",
    "    df = pd.read_csv(data, sep=\",\")\n",
    "\n",
    "    # return a list of tuples of key-value pairs\n",
    "    col_series = df[df.columns[column_index-1]]\n",
    "    document_path_list = [document_name] * len(df)\n",
    "    return list(zip(col_series.values, document_path_list))\n"
   ],
   "metadata": {
    "collapsed": false,
    "pycharm": {
     "name": "#%%\n"
    }
   }
  },
  {
   "cell_type": "code",
   "execution_count": 7,
   "outputs": [],
   "source": [
    "def inverted_reduce(key: str, documents: str, print_file_name: bool = False) -> List[str]:\n",
    "    \"\"\"\n",
    "    reduce function\n",
    "    :param key: key value (for example: if the column is 'first_name' it could be 'Albert'.\n",
    "    :param documents: a string (list) of all CSV documents per given key.\n",
    "    :param print_file_name: assign print_file_name True if you want the reduce function to print the file names (it's more readable than CSV). and for debugging purposes\n",
    "    :return: List: [key, documents_formatted_unique]\n",
    "    \"\"\"\n",
    "    documents_formatted_unique = ', '.join(set(documents.replace(', ', ',').split(',')))[: -2] # the [: -2] is to remove the last ', '\n",
    "\n",
    "    if print_file_name:\n",
    "        list_of_file_names = [Path(obj_path).name for obj_path in documents_formatted_unique.split(', ')]\n",
    "        total_files = len(list_of_file_names)\n",
    "        file_names = '\\n'.join(sorted(list_of_file_names))\n",
    "        print(f\"This key: '{key}' has appeared in {total_files} files.\\n\"\n",
    "              f\"it's in the following files: \\n{file_names}\\n\\n\")\n",
    "\n",
    "    return [key, documents_formatted_unique]"
   ],
   "metadata": {
    "collapsed": false,
    "pycharm": {
     "name": "#%%\n"
    }
   }
  },
  {
   "cell_type": "markdown",
   "metadata": {},
   "source": [
    "# Task 2\n",
    "## Submit MapReduce job to calculate inverted index\n",
    "1. Use input_data: `cos://bucket/<path to CSV data>`\n",
    "2. Submit MapReduce job with reduce and map functions as you used in homework 2, as follows\n",
    "\n",
    "    `mapreduce = MapReduceServerlessEngine()`  \n",
    "    `results = mapreduce.execute(input_data, inverted_map, inverted_index)`   \n",
    "    `print(results)`\n",
    "\n",
    "**Please attach:**  \n",
    "Text file with all log messages Lithops printed to console during the execution. Make\n",
    "sure log level is set to DEBUG mode.\n",
    "\n",
    "#### Code:"
   ]
  },
  {
   "cell_type": "code",
   "execution_count": 8,
   "outputs": [],
   "source": [
    "input_data = [f'cos://eu-de/cloud-object-storage-oh-cos-standard-o3j/myCSV{i}.csv' for i in range(1, 21)]"
   ],
   "metadata": {
    "collapsed": false,
    "pycharm": {
     "name": "#%%\n"
    }
   }
  },
  {
   "cell_type": "code",
   "execution_count": 9,
   "outputs": [
    {
     "name": "stderr",
     "output_type": "stream",
     "text": [
      "2022-01-07 10:42:51,972 [INFO] lithops.config -- Lithops v2.5.8\n",
      "2022-01-07 10:42:51,975 [DEBUG] lithops.config -- Loading Serverless backend module: ibm_cf\n",
      "2022-01-07 10:42:51,977 [DEBUG] lithops.config -- Loading Storage backend module: ibm_cos\n",
      "2022-01-07 10:42:51,981 [DEBUG] lithops.storage.backends.ibm_cos.ibm_cos -- Creating IBM COS client\n",
      "2022-01-07 10:42:51,982 [DEBUG] lithops.storage.backends.ibm_cos.ibm_cos -- Set IBM COS Endpoint to https://s3.eu-de.cloud-object-storage.appdomain.cloud\n",
      "2022-01-07 10:42:51,984 [DEBUG] lithops.storage.backends.ibm_cos.ibm_cos -- Using access_key and secret_key\n",
      "2022-01-07 10:42:51,999 [INFO] lithops.storage.backends.ibm_cos.ibm_cos -- IBM COS client created - Region: eu-de\n",
      "2022-01-07 10:42:52,003 [DEBUG] lithops.serverless.backends.ibm_cf.ibm_cf -- Creating IBM Cloud Functions client\n",
      "2022-01-07 10:42:52,006 [DEBUG] lithops.serverless.backends.ibm_cf.ibm_cf -- Set IBM CF Namespace to eyal.michaeli@post.idc.ac.il_dev\n",
      "2022-01-07 10:42:52,022 [DEBUG] lithops.serverless.backends.ibm_cf.ibm_cf -- Set IBM CF Endpoint to https://eu-gb.functions.cloud.ibm.com\n",
      "2022-01-07 10:42:52,029 [INFO] lithops.serverless.backends.ibm_cf.ibm_cf -- IBM CF client created - Region: eu-gb - Namespace: eyal.michaeli@post.idc.ac.il_dev\n",
      "2022-01-07 10:42:52,032 [DEBUG] lithops.invokers -- ExecutorID 5727d7-1 - Invoker initialized. Max workers: 1200\n",
      "2022-01-07 10:42:52,034 [DEBUG] lithops.invokers -- ExecutorID 5727d7-1 - Serverless invoker created\n",
      "2022-01-07 10:42:52,037 [DEBUG] lithops.executors -- Function executor for ibm_cf created with ID: 5727d7-1\n",
      "2022-01-07 10:42:52,040 [INFO] lithops.invokers -- ExecutorID 5727d7-1 | JobID M000 - Selected Runtime: lithopscloud/ibmcf-python-v38 - 256MB\n",
      "2022-01-07 10:42:52,043 [DEBUG] lithops.storage.storage -- Runtime metadata found in local memory cache\n",
      "2022-01-07 10:42:52,045 [DEBUG] lithops.job.job -- ExecutorID 5727d7-1 | JobID M000 - Serializing function and data\n",
      "2022-01-07 10:42:52,053 [DEBUG] lithops.job.serialize -- Referenced modules: /Users/eyalmichaeli/anaconda3/lib/python3.8/site-packages/lithops/storage/storage.py, _io, /Users/eyalmichaeli/anaconda3/lib/python3.8/site-packages/pandas/__init__.py, /Users/eyalmichaeli/anaconda3/lib/python3.8/pathlib.py\n",
      "2022-01-07 10:42:52,054 [DEBUG] lithops.job.serialize -- Modules to transmit: None\n",
      "2022-01-07 10:42:52,054 [DEBUG] lithops.job.job -- ExecutorID 5727d7-1 | JobID M000 - Uploading function and modules to the storage backend\n",
      "2022-01-07 10:42:52,478 [DEBUG] lithops.storage.backends.ibm_cos.ibm_cos -- PUT Object lithops.jobs/5727d7-1/9474982cbb8189ccc5ddbe322a8ac2d6.func.pickle - Size: 1.9KiB - OK\n",
      "2022-01-07 10:42:52,479 [DEBUG] lithops.job.job -- ExecutorID 5727d7-1 | JobID M000 - Data per activation is < 8.0KiB. Passing data through invocation payload\n",
      "2022-01-07 10:42:52,480 [INFO] lithops.invokers -- ExecutorID 5727d7-1 | JobID M000 - Starting function invocation: inverted_map() - Total: 20 activations\n",
      "2022-01-07 10:42:52,481 [DEBUG] lithops.invokers -- ExecutorID 5727d7-1 | JobID M000 - Worker processes: 1 - Chunksize: 1\n",
      "2022-01-07 10:42:52,482 [DEBUG] lithops.invokers -- ExecutorID 5727d7-1 - Async invoker 0 started\n",
      "2022-01-07 10:42:52,483 [DEBUG] lithops.invokers -- ExecutorID 5727d7-1 - Async invoker 1 started\n",
      "2022-01-07 10:42:52,483 [DEBUG] lithops.invokers -- ExecutorID 5727d7-1 | JobID M000 - Free workers: 1200 - Going to run 20 activations in 20 workers\n",
      "2022-01-07 10:42:52,518 [INFO] lithops.invokers -- ExecutorID 5727d7-1 | JobID M000 - View execution logs at /private/var/folders/41/21yq_s992776m2qf34b8yrq40000gn/T/lithops/logs/5727d7-1-M000.log\n",
      "2022-01-07 10:42:52,519 [DEBUG] lithops.monitor -- ExecutorID 5727d7-1 - Starting Storage job monitor\n",
      "2022-01-07 10:42:52,520 [INFO] lithops.wait -- ExecutorID 5727d7-1 - Getting results from functions\n",
      "2022-01-07 10:42:52,734 [DEBUG] lithops.invokers -- ExecutorID 5727d7-1 | JobID M000 - Calls 00004 invoked (0.238s) - Activation ID: 729c631005044b699c63100504ab696f\n",
      "2022-01-07 10:42:52,739 [DEBUG] lithops.invokers -- ExecutorID 5727d7-1 | JobID M000 - Calls 00010 invoked (0.233s) - Activation ID: 98b5d23d4e974a55b5d23d4e97ea5549\n",
      "2022-01-07 10:42:52,740 [DEBUG] lithops.invokers -- ExecutorID 5727d7-1 | JobID M000 - Calls 00008 invoked (0.238s) - Activation ID: 020141be9e864b1b8141be9e867b1b4b\n",
      "2022-01-07 10:42:52,742 [DEBUG] lithops.invokers -- ExecutorID 5727d7-1 | JobID M000 - Calls 00001 invoked (0.250s) - Activation ID: 5cfbd6e08f644edfbbd6e08f646edf43\n",
      "2022-01-07 10:42:52,745 [DEBUG] lithops.invokers -- ExecutorID 5727d7-1 | JobID M000 - Calls 00009 invoked (0.241s) - Activation ID: 0cdd2d9cb45549d89d2d9cb455e9d8c6\n",
      "2022-01-07 10:42:52,746 [DEBUG] lithops.invokers -- ExecutorID 5727d7-1 | JobID M000 - Calls 00003 invoked (0.253s) - Activation ID: 10bbfc3973cb4224bbfc3973cb2224a6\n",
      "2022-01-07 10:42:52,747 [DEBUG] lithops.invokers -- ExecutorID 5727d7-1 | JobID M000 - Calls 00006 invoked (0.247s) - Activation ID: 144b709ba8cc407d8b709ba8cc007d91\n",
      "2022-01-07 10:42:52,747 [DEBUG] lithops.invokers -- ExecutorID 5727d7-1 | JobID M000 - Calls 00005 invoked (0.249s) - Activation ID: a2a3cf8542bd4a40a3cf8542bd8a4003\n",
      "2022-01-07 10:42:52,751 [DEBUG] lithops.invokers -- ExecutorID 5727d7-1 | JobID M000 - Calls 00007 invoked (0.250s) - Activation ID: f9910c95b77c4de1910c95b77cede181\n",
      "2022-01-07 10:42:52,752 [DEBUG] lithops.invokers -- ExecutorID 5727d7-1 | JobID M000 - Calls 00012 invoked (0.244s) - Activation ID: 89f1e85946fd48c3b1e85946fdb8c35f\n",
      "2022-01-07 10:42:52,752 [DEBUG] lithops.invokers -- ExecutorID 5727d7-1 | JobID M000 - Calls 00011 invoked (0.245s) - Activation ID: c71df245705848fa9df245705818fa64\n",
      "2022-01-07 10:42:52,754 [DEBUG] lithops.invokers -- ExecutorID 5727d7-1 | JobID M000 - Calls 00016 invoked (0.238s) - Activation ID: 0d69c459f8fb4703a9c459f8fba7033f\n",
      "2022-01-07 10:42:52,760 [DEBUG] lithops.invokers -- ExecutorID 5727d7-1 | JobID M000 - Calls 00015 invoked (0.244s) - Activation ID: e97ab5e98a6d4c2bbab5e98a6dac2bd0\n",
      "2022-01-07 10:42:52,760 [DEBUG] lithops.invokers -- ExecutorID 5727d7-1 | JobID M000 - Calls 00000 invoked (0.272s) - Activation ID: 498f1ad205b8447e8f1ad205b8247ec6\n",
      "2022-01-07 10:42:52,769 [DEBUG] lithops.invokers -- ExecutorID 5727d7-1 | JobID M000 - Calls 00002 invoked (0.277s) - Activation ID: c9126f5689d949da926f5689d919da13\n",
      "2022-01-07 10:42:52,773 [DEBUG] lithops.invokers -- ExecutorID 5727d7-1 | JobID M000 - Calls 00019 invoked (0.256s) - Activation ID: 5cea5e3699234febaa5e369923dfeb91\n",
      "2022-01-07 10:42:52,776 [DEBUG] lithops.invokers -- ExecutorID 5727d7-1 | JobID M000 - Calls 00014 invoked (0.262s) - Activation ID: f1d2c19fd80e47bf92c19fd80ee7bfaa\n",
      "2022-01-07 10:42:52,783 [DEBUG] lithops.invokers -- ExecutorID 5727d7-1 | JobID M000 - Calls 00018 invoked (0.265s) - Activation ID: 39d2c3e13a2a49ac92c3e13a2a09acba\n",
      "2022-01-07 10:42:52,795 [DEBUG] lithops.invokers -- ExecutorID 5727d7-1 | JobID M000 - Calls 00017 invoked (0.279s) - Activation ID: 93a39cc624ed425fa39cc624ed725f75\n",
      "2022-01-07 10:42:52,802 [DEBUG] lithops.invokers -- ExecutorID 5727d7-1 | JobID M000 - Calls 00013 invoked (0.293s) - Activation ID: 5bf25b49e9b34181b25b49e9b3e18120\n",
      "2022-01-07 10:42:54,626 [DEBUG] lithops.monitor -- ExecutorID 5727d7-1 - Pending: 0 - Running: 20 - Done: 0\n",
      "2022-01-07 10:42:57,366 [DEBUG] lithops.monitor -- ExecutorID 5727d7-1 - Pending: 0 - Running: 0 - Done: 20\n",
      "2022-01-07 10:42:57,366 [DEBUG] lithops.monitor -- ExecutorID 5727d7-1 - Storage job monitor finished\n",
      "2022-01-07 10:42:57,549 [DEBUG] lithops.future -- ExecutorID 5727d7-1 | JobID M000 - Got status from call 00000 - Activation ID: 498f1ad205b8447e8f1ad205b8247ec6 - Time: 2.56 seconds\n",
      "2022-01-07 10:42:57,550 [DEBUG] lithops.future -- ExecutorID 5727d7-1 | JobID M000 - Got status from call 00003 - Activation ID: 10bbfc3973cb4224bbfc3973cb2224a6 - Time: 2.62 seconds\n",
      "2022-01-07 10:42:57,552 [DEBUG] lithops.future -- ExecutorID 5727d7-1 | JobID M000 - Got status from call 00001 - Activation ID: 5cfbd6e08f644edfbbd6e08f646edf43 - Time: 2.51 seconds\n",
      "2022-01-07 10:42:57,556 [DEBUG] lithops.future -- ExecutorID 5727d7-1 | JobID M000 - Got status from call 00002 - Activation ID: c9126f5689d949da926f5689d919da13 - Time: 2.58 seconds\n",
      "2022-01-07 10:42:57,556 [DEBUG] lithops.future -- ExecutorID 5727d7-1 | JobID M000 - Got status from call 00004 - Activation ID: 729c631005044b699c63100504ab696f - Time: 2.49 seconds\n",
      "2022-01-07 10:42:57,557 [DEBUG] lithops.future -- ExecutorID 5727d7-1 | JobID M000 - Got status from call 00010 - Activation ID: 98b5d23d4e974a55b5d23d4e97ea5549 - Time: 2.14 seconds\n",
      "2022-01-07 10:42:57,557 [DEBUG] lithops.future -- ExecutorID 5727d7-1 | JobID M000 - Got status from call 00005 - Activation ID: a2a3cf8542bd4a40a3cf8542bd8a4003 - Time: 2.75 seconds\n",
      "2022-01-07 10:42:57,559 [DEBUG] lithops.future -- ExecutorID 5727d7-1 | JobID M000 - Got status from call 00009 - Activation ID: 0cdd2d9cb45549d89d2d9cb455e9d8c6 - Time: 2.83 seconds\n",
      "2022-01-07 10:42:57,560 [DEBUG] lithops.future -- ExecutorID 5727d7-1 | JobID M000 - Got status from call 00007 - Activation ID: f9910c95b77c4de1910c95b77cede181 - Time: 2.74 seconds\n",
      "2022-01-07 10:42:57,561 [DEBUG] lithops.future -- ExecutorID 5727d7-1 | JobID M000 - Got status from call 00006 - Activation ID: 144b709ba8cc407d8b709ba8cc007d91 - Time: 2.72 seconds\n",
      "2022-01-07 10:42:57,561 [DEBUG] lithops.future -- ExecutorID 5727d7-1 | JobID M000 - Got status from call 00008 - Activation ID: 020141be9e864b1b8141be9e867b1b4b - Time: 2.71 seconds\n",
      "2022-01-07 10:42:57,561 [DEBUG] lithops.future -- ExecutorID 5727d7-1 | JobID M000 - Got status from call 00011 - Activation ID: c71df245705848fa9df245705818fa64 - Time: 2.83 seconds\n",
      "2022-01-07 10:42:57,566 [DEBUG] lithops.future -- ExecutorID 5727d7-1 | JobID M000 - Got status from call 00012 - Activation ID: 89f1e85946fd48c3b1e85946fdb8c35f - Time: 2.78 seconds\n",
      "2022-01-07 10:42:57,569 [DEBUG] lithops.future -- ExecutorID 5727d7-1 | JobID M000 - Got status from call 00013 - Activation ID: 5bf25b49e9b34181b25b49e9b3e18120 - Time: 2.60 seconds\n",
      "2022-01-07 10:42:57,572 [DEBUG] lithops.future -- ExecutorID 5727d7-1 | JobID M000 - Got status from call 00014 - Activation ID: f1d2c19fd80e47bf92c19fd80ee7bfaa - Time: 2.67 seconds\n",
      "2022-01-07 10:42:57,573 [DEBUG] lithops.future -- ExecutorID 5727d7-1 | JobID M000 - Got status from call 00015 - Activation ID: e97ab5e98a6d4c2bbab5e98a6dac2bd0 - Time: 2.67 seconds\n",
      "2022-01-07 10:42:57,573 [DEBUG] lithops.future -- ExecutorID 5727d7-1 | JobID M000 - Got status from call 00017 - Activation ID: 93a39cc624ed425fa39cc624ed725f75 - Time: 2.58 seconds\n",
      "2022-01-07 10:42:57,573 [DEBUG] lithops.future -- ExecutorID 5727d7-1 | JobID M000 - Got status from call 00016 - Activation ID: 0d69c459f8fb4703a9c459f8fba7033f - Time: 2.68 seconds\n",
      "2022-01-07 10:42:57,574 [DEBUG] lithops.future -- ExecutorID 5727d7-1 | JobID M000 - Got status from call 00019 - Activation ID: 5cea5e3699234febaa5e369923dfeb91 - Time: 2.78 seconds\n",
      "2022-01-07 10:42:57,576 [DEBUG] lithops.future -- ExecutorID 5727d7-1 | JobID M000 - Got status from call 00018 - Activation ID: 39d2c3e13a2a49ac92c3e13a2a09acba - Time: 2.79 seconds\n",
      "2022-01-07 10:42:57,637 [DEBUG] lithops.future -- ExecutorID 5727d7-1 | JobID M000 - Got output from call 00001 - Activation ID: 5cfbd6e08f644edfbbd6e08f646edf43\n",
      "2022-01-07 10:42:57,641 [DEBUG] lithops.future -- ExecutorID 5727d7-1 | JobID M000 - Got output from call 00002 - Activation ID: c9126f5689d949da926f5689d919da13\n",
      "2022-01-07 10:42:57,644 [DEBUG] lithops.future -- ExecutorID 5727d7-1 | JobID M000 - Got output from call 00000 - Activation ID: 498f1ad205b8447e8f1ad205b8247ec6\n",
      "2022-01-07 10:42:57,646 [DEBUG] lithops.future -- ExecutorID 5727d7-1 | JobID M000 - Got output from call 00003 - Activation ID: 10bbfc3973cb4224bbfc3973cb2224a6\n",
      "2022-01-07 10:42:57,649 [DEBUG] lithops.future -- ExecutorID 5727d7-1 | JobID M000 - Got output from call 00004 - Activation ID: 729c631005044b699c63100504ab696f\n",
      "2022-01-07 10:42:57,655 [DEBUG] lithops.future -- ExecutorID 5727d7-1 | JobID M000 - Got output from call 00007 - Activation ID: f9910c95b77c4de1910c95b77cede181\n",
      "2022-01-07 10:42:57,657 [DEBUG] lithops.future -- ExecutorID 5727d7-1 | JobID M000 - Got output from call 00009 - Activation ID: 0cdd2d9cb45549d89d2d9cb455e9d8c6\n",
      "2022-01-07 10:42:57,659 [DEBUG] lithops.future -- ExecutorID 5727d7-1 | JobID M000 - Got output from call 00006 - Activation ID: 144b709ba8cc407d8b709ba8cc007d91\n",
      "2022-01-07 10:42:57,661 [DEBUG] lithops.future -- ExecutorID 5727d7-1 | JobID M000 - Got output from call 00010 - Activation ID: 98b5d23d4e974a55b5d23d4e97ea5549\n",
      "2022-01-07 10:42:57,663 [DEBUG] lithops.future -- ExecutorID 5727d7-1 | JobID M000 - Got output from call 00005 - Activation ID: a2a3cf8542bd4a40a3cf8542bd8a4003\n",
      "2022-01-07 10:42:57,670 [DEBUG] lithops.future -- ExecutorID 5727d7-1 | JobID M000 - Got output from call 00011 - Activation ID: c71df245705848fa9df245705818fa64\n",
      "2022-01-07 10:42:57,673 [DEBUG] lithops.future -- ExecutorID 5727d7-1 | JobID M000 - Got output from call 00012 - Activation ID: 89f1e85946fd48c3b1e85946fdb8c35f\n",
      "2022-01-07 10:42:57,675 [DEBUG] lithops.future -- ExecutorID 5727d7-1 | JobID M000 - Got output from call 00008 - Activation ID: 020141be9e864b1b8141be9e867b1b4b\n",
      "2022-01-07 10:42:57,678 [DEBUG] lithops.future -- ExecutorID 5727d7-1 | JobID M000 - Got output from call 00013 - Activation ID: 5bf25b49e9b34181b25b49e9b3e18120\n",
      "2022-01-07 10:42:57,680 [DEBUG] lithops.future -- ExecutorID 5727d7-1 | JobID M000 - Got output from call 00014 - Activation ID: f1d2c19fd80e47bf92c19fd80ee7bfaa\n",
      "2022-01-07 10:42:57,687 [DEBUG] lithops.future -- ExecutorID 5727d7-1 | JobID M000 - Got output from call 00015 - Activation ID: e97ab5e98a6d4c2bbab5e98a6dac2bd0\n",
      "2022-01-07 10:42:57,689 [DEBUG] lithops.future -- ExecutorID 5727d7-1 | JobID M000 - Got output from call 00017 - Activation ID: 93a39cc624ed425fa39cc624ed725f75\n",
      "2022-01-07 10:42:57,690 [DEBUG] lithops.future -- ExecutorID 5727d7-1 | JobID M000 - Got output from call 00016 - Activation ID: 0d69c459f8fb4703a9c459f8fba7033f\n",
      "2022-01-07 10:42:57,708 [DEBUG] lithops.future -- ExecutorID 5727d7-1 | JobID M000 - Got output from call 00019 - Activation ID: 5cea5e3699234febaa5e369923dfeb91\n",
      "2022-01-07 10:42:57,712 [DEBUG] lithops.future -- ExecutorID 5727d7-1 | JobID M000 - Got output from call 00018 - Activation ID: 39d2c3e13a2a49ac92c3e13a2a09acba\n",
      "2022-01-07 10:42:57,727 [INFO] lithops.executors -- ExecutorID 5727d7-1 - Cleaning temporary data\n",
      "2022-01-07 10:42:57,739 [DEBUG] lithops.executors -- ExecutorID 5727d7-1 - Finished getting results\n",
      "2022-01-07 10:42:57,943 [INFO] lithops.invokers -- ExecutorID 5727d7-1 | JobID M001 - Selected Runtime: lithopscloud/ibmcf-python-v38 - 256MB\n",
      "2022-01-07 10:42:57,944 [DEBUG] lithops.storage.storage -- Runtime metadata found in local memory cache\n",
      "2022-01-07 10:42:57,944 [DEBUG] lithops.job.job -- ExecutorID 5727d7-1 | JobID M001 - Serializing function and data\n",
      "2022-01-07 10:42:57,952 [DEBUG] lithops.job.serialize -- Referenced modules: None\n",
      "2022-01-07 10:42:57,953 [DEBUG] lithops.job.serialize -- Modules to transmit: None\n",
      "2022-01-07 10:42:57,954 [DEBUG] lithops.job.job -- ExecutorID 5727d7-1 | JobID M001 - Uploading function and modules to the storage backend\n",
      "2022-01-07 10:42:58,155 [DEBUG] lithops.storage.backends.ibm_cos.ibm_cos -- PUT Object lithops.jobs/5727d7-1/13b695faff69a0e3665519a44c3daf7d.func.pickle - Size: 1.5KiB - OK\n",
      "2022-01-07 10:42:58,156 [DEBUG] lithops.job.job -- ExecutorID 5727d7-1 | JobID M001 - Data per activation is < 8.0KiB. Passing data through invocation payload\n",
      "2022-01-07 10:42:58,157 [INFO] lithops.invokers -- ExecutorID 5727d7-1 | JobID M001 - Starting function invocation: inverted_reduce() - Total: 8 activations\n",
      "2022-01-07 10:42:58,158 [DEBUG] lithops.invokers -- ExecutorID 5727d7-1 | JobID M001 - Worker processes: 1 - Chunksize: 1\n",
      "2022-01-07 10:42:58,159 [DEBUG] lithops.invokers -- ExecutorID 5727d7-1 | JobID M001 - Free workers: 1180 - Going to run 8 activations in 8 workers\n",
      "2022-01-07 10:42:58,160 [INFO] lithops.invokers -- ExecutorID 5727d7-1 | JobID M001 - View execution logs at /private/var/folders/41/21yq_s992776m2qf34b8yrq40000gn/T/lithops/logs/5727d7-1-M001.log\n",
      "2022-01-07 10:42:58,171 [DEBUG] lithops.monitor -- ExecutorID 5727d7-1 - Starting Storage job monitor\n",
      "2022-01-07 10:42:58,172 [INFO] lithops.wait -- ExecutorID 5727d7-1 - Getting results from functions\n",
      "2022-01-07 10:42:58,412 [DEBUG] lithops.invokers -- ExecutorID 5727d7-1 | JobID M001 - Calls 00007 invoked (0.243s) - Activation ID: 151ee20a9a0f4c4a9ee20a9a0f0c4afc\n",
      "2022-01-07 10:42:58,417 [DEBUG] lithops.invokers -- ExecutorID 5727d7-1 | JobID M001 - Calls 00000 invoked (0.256s) - Activation ID: 50a64b28f2a24aa5a64b28f2a22aa549\n",
      "2022-01-07 10:42:58,418 [DEBUG] lithops.invokers -- ExecutorID 5727d7-1 | JobID M001 - Calls 00002 invoked (0.254s) - Activation ID: 6a70783462ac4c5ab0783462ac4c5ad8\n",
      "2022-01-07 10:42:58,419 [DEBUG] lithops.invokers -- ExecutorID 5727d7-1 | JobID M001 - Calls 00001 invoked (0.257s) - Activation ID: 488a175fab7d40638a175fab7da063c3\n",
      "2022-01-07 10:42:58,444 [DEBUG] lithops.invokers -- ExecutorID 5727d7-1 | JobID M001 - Calls 00004 invoked (0.277s) - Activation ID: 73c161d36d2d45088161d36d2d750860\n",
      "2022-01-07 10:42:58,448 [DEBUG] lithops.invokers -- ExecutorID 5727d7-1 | JobID M001 - Calls 00005 invoked (0.281s) - Activation ID: 41b833fd68b44118b833fd68b471182f\n",
      "2022-01-07 10:42:58,454 [DEBUG] lithops.invokers -- ExecutorID 5727d7-1 | JobID M001 - Calls 00003 invoked (0.288s) - Activation ID: 3159a388310845fa99a3883108a5fa5d\n",
      "2022-01-07 10:42:58,489 [DEBUG] lithops.invokers -- ExecutorID 5727d7-1 | JobID M001 - Calls 00006 invoked (0.322s) - Activation ID: 807a2f7054814badba2f7054811bad0d\n",
      "2022-01-07 10:43:00,586 [DEBUG] lithops.monitor -- ExecutorID 5727d7-1 - Pending: 0 - Running: 0 - Done: 8\n",
      "2022-01-07 10:43:00,586 [DEBUG] lithops.monitor -- ExecutorID 5727d7-1 - Storage job monitor finished\n",
      "2022-01-07 10:43:01,190 [DEBUG] lithops.future -- ExecutorID 5727d7-1 | JobID M001 - Got status from call 00000 - Activation ID: 50a64b28f2a24aa5a64b28f2a22aa549 - Time: 0.76 seconds\n",
      "2022-01-07 10:43:01,195 [DEBUG] lithops.future -- ExecutorID 5727d7-1 | JobID M001 - Got status from call 00005 - Activation ID: 41b833fd68b44118b833fd68b471182f - Time: 0.73 seconds\n",
      "2022-01-07 10:43:01,196 [DEBUG] lithops.future -- ExecutorID 5727d7-1 | JobID M001 - Got status from call 00002 - Activation ID: 6a70783462ac4c5ab0783462ac4c5ad8 - Time: 0.80 seconds\n",
      "2022-01-07 10:43:01,196 [DEBUG] lithops.future -- ExecutorID 5727d7-1 | JobID M001 - Got status from call 00001 - Activation ID: 488a175fab7d40638a175fab7da063c3 - Time: 0.29 seconds\n",
      "2022-01-07 10:43:01,197 [DEBUG] lithops.future -- ExecutorID 5727d7-1 | JobID M001 - Got status from call 00004 - Activation ID: 73c161d36d2d45088161d36d2d750860 - Time: 0.26 seconds\n",
      "2022-01-07 10:43:01,199 [DEBUG] lithops.future -- ExecutorID 5727d7-1 | JobID M001 - Got status from call 00003 - Activation ID: 3159a388310845fa99a3883108a5fa5d - Time: 0.76 seconds\n",
      "2022-01-07 10:43:01,200 [DEBUG] lithops.future -- ExecutorID 5727d7-1 | JobID M001 - Got status from call 00006 - Activation ID: 807a2f7054814badba2f7054811bad0d - Time: 0.71 seconds\n",
      "2022-01-07 10:43:01,200 [DEBUG] lithops.future -- ExecutorID 5727d7-1 | JobID M001 - Got status from call 00007 - Activation ID: 151ee20a9a0f4c4a9ee20a9a0f0c4afc - Time: 0.73 seconds\n",
      "2022-01-07 10:43:01,264 [DEBUG] lithops.future -- ExecutorID 5727d7-1 | JobID M001 - Got output from call 00005 - Activation ID: 41b833fd68b44118b833fd68b471182f\n",
      "2022-01-07 10:43:01,266 [DEBUG] lithops.future -- ExecutorID 5727d7-1 | JobID M001 - Got output from call 00000 - Activation ID: 50a64b28f2a24aa5a64b28f2a22aa549\n",
      "2022-01-07 10:43:01,282 [DEBUG] lithops.future -- ExecutorID 5727d7-1 | JobID M001 - Got output from call 00001 - Activation ID: 488a175fab7d40638a175fab7da063c3\n",
      "2022-01-07 10:43:01,285 [DEBUG] lithops.future -- ExecutorID 5727d7-1 | JobID M001 - Got output from call 00004 - Activation ID: 73c161d36d2d45088161d36d2d750860\n",
      "2022-01-07 10:43:01,287 [DEBUG] lithops.future -- ExecutorID 5727d7-1 | JobID M001 - Got output from call 00002 - Activation ID: 6a70783462ac4c5ab0783462ac4c5ad8\n",
      "2022-01-07 10:43:01,289 [DEBUG] lithops.future -- ExecutorID 5727d7-1 | JobID M001 - Got output from call 00003 - Activation ID: 3159a388310845fa99a3883108a5fa5d\n",
      "2022-01-07 10:43:01,293 [DEBUG] lithops.future -- ExecutorID 5727d7-1 | JobID M001 - Got output from call 00006 - Activation ID: 807a2f7054814badba2f7054811bad0d\n",
      "2022-01-07 10:43:01,333 [DEBUG] lithops.future -- ExecutorID 5727d7-1 | JobID M001 - Got output from call 00007 - Activation ID: 151ee20a9a0f4c4a9ee20a9a0f0c4afc\n",
      "2022-01-07 10:43:01,341 [INFO] lithops.executors -- ExecutorID 5727d7-1 - Cleaning temporary data\n",
      "2022-01-07 10:43:01,344 [DEBUG] lithops.executors -- ExecutorID 5727d7-1 - Finished getting results\n"
     ]
    },
    {
     "name": "stdout",
     "output_type": "stream",
     "text": [
      "MapReduce Completed\n",
      "[['Albert'\n",
      "  'cos://eu-de/cloud-object-storage-oh-cos-standard-o3j/myCSV11.csv, cos://eu-de/cloud-object-storage-oh-cos-standard-o3j/myCSV16.csv, cos://eu-de/cloud-object-storage-oh-cos-standard-o3j/myCSV6.csv, cos://eu-de/cloud-object-storage-oh-cos-standard-o3j/myCSV18.csv, cos://eu-de/cloud-object-storage-oh-cos-standard-o3j/myCSV14.csv, cos://eu-de/cloud-object-storage-oh-cos-standard-o3j/myCSV5.csv, cos://eu-de/cloud-object-storage-oh-cos-standard-o3j/myCSV12.csv, cos://eu-de/cloud-object-storage-oh-cos-standard-o3j/myCSV15.csv, cos://eu-de/cloud-object-storage-oh-cos-standard-o3j/myCSV10.csv, cos://eu-de/cloud-object-storage-oh-cos-standard-o3j/myCSV7.csv, cos://eu-de/cloud-object-storage-oh-cos-standard-o3j/myCSV9.csv, cos://eu-de/cloud-object-storage-oh-cos-standard-o3j/myCSV19.csv, cos://eu-de/cloud-object-storage-oh-cos-standard-o3j/myCSV4.csv, cos://eu-de/cloud-object-storage-oh-cos-standard-o3j/myCSV20.csv, cos://eu-de/cloud-object-storage-oh-cos-standard-o3j/myCSV8.csv, cos://eu-de/cloud-object-storage-oh-cos-standard-o3j/myCSV13.csv, cos://eu-de/cloud-object-storage-oh-cos-standard-o3j/myCSV1.csv, cos://eu-de/cloud-object-storage-oh-cos-standard-o3j/myCSV2.c']\n",
      " ['Dana'\n",
      "  'cos://eu-de/cloud-object-storage-oh-cos-standard-o3j/myCSV17.csv, cos://eu-de/cloud-object-storage-oh-cos-standard-o3j/myCSV14.csv, cos://eu-de/cloud-object-storage-oh-cos-standard-o3j/myCSV2.csv, cos://eu-de/cloud-object-storage-oh-cos-standard-o3j/myCSV20.csv, cos://eu-de/cloud-object-storage-oh-cos-standard-o3j/myCSV7.csv, cos://eu-de/cloud-object-storage-oh-cos-standard-o3j/myCSV16.csv, cos://eu-de/cloud-object-storage-oh-cos-standard-o3j/myCSV8.csv, cos://eu-de/cloud-object-storage-oh-cos-standard-o3j/myCSV5.csv, cos://eu-de/cloud-object-storage-oh-cos-standard-o3j/myCSV11.csv, cos://eu-de/cloud-object-storage-oh-cos-standard-o3j/myCSV10.csv, cos://eu-de/cloud-object-storage-oh-cos-standard-o3j/myCSV13.csv, cos://eu-de/cloud-object-storage-oh-cos-standard-o3j/myCSV9.csv, cos://eu-de/cloud-object-storage-oh-cos-standard-o3j/myCSV6.csv, cos://eu-de/cloud-object-storage-oh-cos-standard-o3j/myCSV3.csv, cos://eu-de/cloud-object-storage-oh-cos-standard-o3j/myCSV18.csv, cos://eu-de/cloud-object-storage-oh-cos-standard-o3j/myCSV19.csv, cos://eu-de/cloud-object-storage-oh-cos-standard-o3j/myCSV15.c']\n",
      " ['Johanna'\n",
      "  'cos://eu-de/cloud-object-storage-oh-cos-standard-o3j/myCSV19.csv, cos://eu-de/cloud-object-storage-oh-cos-standard-o3j/myCSV12.csv, cos://eu-de/cloud-object-storage-oh-cos-standard-o3j/myCSV10.csv, cos://eu-de/cloud-object-storage-oh-cos-standard-o3j/myCSV13.csv, cos://eu-de/cloud-object-storage-oh-cos-standard-o3j/myCSV14.csv, cos://eu-de/cloud-object-storage-oh-cos-standard-o3j/myCSV16.csv, cos://eu-de/cloud-object-storage-oh-cos-standard-o3j/myCSV6.csv, cos://eu-de/cloud-object-storage-oh-cos-standard-o3j/myCSV17.csv, cos://eu-de/cloud-object-storage-oh-cos-standard-o3j/myCSV7.csv, cos://eu-de/cloud-object-storage-oh-cos-standard-o3j/myCSV11.csv, cos://eu-de/cloud-object-storage-oh-cos-standard-o3j/myCSV20.csv, cos://eu-de/cloud-object-storage-oh-cos-standard-o3j/myCSV9.csv, cos://eu-de/cloud-object-storage-oh-cos-standard-o3j/myCSV18.csv, cos://eu-de/cloud-object-storage-oh-cos-standard-o3j/myCSV8.csv, cos://eu-de/cloud-object-storage-oh-cos-standard-o3j/myCSV4.c']\n",
      " ['John'\n",
      "  'cos://eu-de/cloud-object-storage-oh-cos-standard-o3j/myCSV3.csv, cos://eu-de/cloud-object-storage-oh-cos-standard-o3j/myCSV13.csv, cos://eu-de/cloud-object-storage-oh-cos-standard-o3j/myCSV19.csv, cos://eu-de/cloud-object-storage-oh-cos-standard-o3j/myCSV9.csv, cos://eu-de/cloud-object-storage-oh-cos-standard-o3j/myCSV2.csv, cos://eu-de/cloud-object-storage-oh-cos-standard-o3j/myCSV11.csv, cos://eu-de/cloud-object-storage-oh-cos-standard-o3j/myCSV18.csv, cos://eu-de/cloud-object-storage-oh-cos-standard-o3j/myCSV7.csv, cos://eu-de/cloud-object-storage-oh-cos-standard-o3j/myCSV5.csv, cos://eu-de/cloud-object-storage-oh-cos-standard-o3j/myCSV4.csv, cos://eu-de/cloud-object-storage-oh-cos-standard-o3j/myCSV14.csv, cos://eu-de/cloud-object-storage-oh-cos-standard-o3j/myCSV15.csv, cos://eu-de/cloud-object-storage-oh-cos-standard-o3j/myCSV12.csv, cos://eu-de/cloud-object-storage-oh-cos-standard-o3j/myCSV6.csv, cos://eu-de/cloud-object-storage-oh-cos-standard-o3j/myCSV10.c']\n",
      " ['Marc'\n",
      "  'cos://eu-de/cloud-object-storage-oh-cos-standard-o3j/myCSV19.csv, cos://eu-de/cloud-object-storage-oh-cos-standard-o3j/myCSV20.csv, cos://eu-de/cloud-object-storage-oh-cos-standard-o3j/myCSV16.csv, cos://eu-de/cloud-object-storage-oh-cos-standard-o3j/myCSV13.csv, cos://eu-de/cloud-object-storage-oh-cos-standard-o3j/myCSV14.csv, cos://eu-de/cloud-object-storage-oh-cos-standard-o3j/myCSV15.csv, cos://eu-de/cloud-object-storage-oh-cos-standard-o3j/myCSV3.csv, cos://eu-de/cloud-object-storage-oh-cos-standard-o3j/myCSV4.csv, cos://eu-de/cloud-object-storage-oh-cos-standard-o3j/myCSV12.csv, cos://eu-de/cloud-object-storage-oh-cos-standard-o3j/myCSV17.csv, cos://eu-de/cloud-object-storage-oh-cos-standard-o3j/myCSV5.csv, cos://eu-de/cloud-object-storage-oh-cos-standard-o3j/myCSV7.csv, cos://eu-de/cloud-object-storage-oh-cos-standard-o3j/myCSV1.csv, cos://eu-de/cloud-object-storage-oh-cos-standard-o3j/myCSV8.csv, cos://eu-de/cloud-object-storage-oh-cos-standard-o3j/myCSV11.csv, cos://eu-de/cloud-object-storage-oh-cos-standard-o3j/myCSV2.csv, cos://eu-de/cloud-object-storage-oh-cos-standard-o3j/myCSV10.c']\n",
      " ['Michael'\n",
      "  'cos://eu-de/cloud-object-storage-oh-cos-standard-o3j/myCSV5.csv, cos://eu-de/cloud-object-storage-oh-cos-standard-o3j/myCSV19.csv, cos://eu-de/cloud-object-storage-oh-cos-standard-o3j/myCSV4.csv, cos://eu-de/cloud-object-storage-oh-cos-standard-o3j/myCSV12.csv, cos://eu-de/cloud-object-storage-oh-cos-standard-o3j/myCSV17.csv, cos://eu-de/cloud-object-storage-oh-cos-standard-o3j/myCSV1.csv, cos://eu-de/cloud-object-storage-oh-cos-standard-o3j/myCSV3.csv, cos://eu-de/cloud-object-storage-oh-cos-standard-o3j/myCSV6.csv, cos://eu-de/cloud-object-storage-oh-cos-standard-o3j/myCSV2.csv, cos://eu-de/cloud-object-storage-oh-cos-standard-o3j/myCSV16.csv, cos://eu-de/cloud-object-storage-oh-cos-standard-o3j/myCSV10.csv, cos://eu-de/cloud-object-storage-oh-cos-standard-o3j/myCSV15.c']\n",
      " ['Scott'\n",
      "  'cos://eu-de/cloud-object-storage-oh-cos-standard-o3j/myCSV3.csv, cos://eu-de/cloud-object-storage-oh-cos-standard-o3j/myCSV8.csv, cos://eu-de/cloud-object-storage-oh-cos-standard-o3j/myCSV13.csv, cos://eu-de/cloud-object-storage-oh-cos-standard-o3j/myCSV20.csv, cos://eu-de/cloud-object-storage-oh-cos-standard-o3j/myCSV7.csv, cos://eu-de/cloud-object-storage-oh-cos-standard-o3j/myCSV11.csv, cos://eu-de/cloud-object-storage-oh-cos-standard-o3j/myCSV6.csv, cos://eu-de/cloud-object-storage-oh-cos-standard-o3j/myCSV15.csv, cos://eu-de/cloud-object-storage-oh-cos-standard-o3j/myCSV5.csv, cos://eu-de/cloud-object-storage-oh-cos-standard-o3j/myCSV9.csv, cos://eu-de/cloud-object-storage-oh-cos-standard-o3j/myCSV1.csv, cos://eu-de/cloud-object-storage-oh-cos-standard-o3j/myCSV12.csv, cos://eu-de/cloud-object-storage-oh-cos-standard-o3j/myCSV17.csv, cos://eu-de/cloud-object-storage-oh-cos-standard-o3j/myCSV4.csv, cos://eu-de/cloud-object-storage-oh-cos-standard-o3j/myCSV19.csv, cos://eu-de/cloud-object-storage-oh-cos-standard-o3j/myCSV18.csv, cos://eu-de/cloud-object-storage-oh-cos-standard-o3j/myCSV14.c']\n",
      " ['Steven'\n",
      "  'cos://eu-de/cloud-object-storage-oh-cos-standard-o3j/myCSV17.csv, cos://eu-de/cloud-object-storage-oh-cos-standard-o3j/myCSV1.csv, cos://eu-de/cloud-object-storage-oh-cos-standard-o3j/myCSV20.csv, cos://eu-de/cloud-object-storage-oh-cos-standard-o3j/myCSV14.csv, cos://eu-de/cloud-object-storage-oh-cos-standard-o3j/myCSV19.csv, cos://eu-de/cloud-object-storage-oh-cos-standard-o3j/myCSV15.csv, cos://eu-de/cloud-object-storage-oh-cos-standard-o3j/myCSV16.csv, cos://eu-de/cloud-object-storage-oh-cos-standard-o3j/myCSV3.csv, cos://eu-de/cloud-object-storage-oh-cos-standard-o3j/myCSV4.csv, cos://eu-de/cloud-object-storage-oh-cos-standard-o3j/myCSV18.c']]\n"
     ]
    }
   ],
   "source": [
    "conn = sqlite3.connect(str(path / \"temp_results.db\"))\n",
    "mapreduce = MapReduceServerlessEngine(conn=conn)\n",
    "status = mapreduce.execute(input_data,\n",
    "                           inverted_map,\n",
    "                           inverted_reduce,\n",
    "                           params={'column_index': 1},\n",
    "                           print_file_name=True) # assign print_file_name True if you want the reduce function to print the file names (it's more readable than CSV), and for debugging purposes\n",
    "print(status)"
   ],
   "metadata": {
    "collapsed": false,
    "pycharm": {
     "name": "#%%\n"
    }
   }
  },
  {
   "cell_type": "code",
   "execution_count": 10,
   "outputs": [],
   "source": [
    "# close db connection\n",
    "if conn:\n",
    "    conn.close()"
   ],
   "metadata": {
    "collapsed": false,
    "pycharm": {
     "name": "#%%\n"
    }
   }
  },
  {
   "cell_type": "markdown",
   "source": [
    "# Question 3\n",
    "## Shuffle\n",
    "\n",
    "MapReduceServerlessEngine deploys both map and reduce tasks as serverless invocations.\n",
    "However, once map stage completed, the result are transferred from the map tasks to the SQLite database located on the client machine (laptop in your case), then performed local shuffle and then invoked reduce tasks passing them relevant parameters.\n",
    "\n",
    "(To support your answers, feel free to use examples, Images, etc.)\n",
    "<br><br>"
   ],
   "metadata": {
    "collapsed": false
   }
  },
  {
   "cell_type": "markdown",
   "metadata": {},
   "source": [
    "**1. Explain why this approach is not efficient and what are cons and pros of such architecture in general. In broader scope you may assume that MapReduceServerlessEngine executed in some powerful machine and not just laptop.**"
   ]
  },
  {
   "cell_type": "markdown",
   "metadata": {},
   "source": [
    "\\<your answer here>"
   ]
  },
  {
   "cell_type": "markdown",
   "metadata": {},
   "source": [
    "<br><br>\n",
    "**2. Suggest how can you improve shuffle so intermediate data will not be downloaded to the client at all and shuffle performed in the cloud as well. Explain pros and cons of the approaches you suggest.**\n"
   ]
  },
  {
   "cell_type": "markdown",
   "metadata": {},
   "source": [
    "\\<your answer here>"
   ]
  },
  {
   "cell_type": "markdown",
   "metadata": {},
   "source": [
    "<br><br>\n",
    "**3. Can you make serverless shuffle?**\n"
   ]
  },
  {
   "cell_type": "markdown",
   "metadata": {},
   "source": [
    "\\<your answer here>"
   ]
  },
  {
   "cell_type": "markdown",
   "metadata": {},
   "source": [
    "<br><br><br><br>\n",
    "Good Luck :) "
   ]
  }
 ],
 "metadata": {
  "kernelspec": {
   "display_name": "Python 3",
   "language": "python",
   "name": "python3"
  },
  "language_info": {
   "codemirror_mode": {
    "name": "ipython",
    "version": 3
   },
   "file_extension": ".py",
   "mimetype": "text/x-python",
   "name": "python",
   "nbconvert_exporter": "python",
   "pygments_lexer": "ipython3",
   "version": "3.8.5"
  }
 },
 "nbformat": 4,
 "nbformat_minor": 4
}