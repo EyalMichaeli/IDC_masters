{
 "cells": [
  {
   "cell_type": "markdown",
   "metadata": {},
   "source": [
    "### IDs:\n",
    "Insert yours IDs to the cell below"
   ]
  },
  {
   "cell_type": "markdown",
   "metadata": {},
   "source": [
    "ID #1: 302673355\n",
    "\n",
    "ID #2:\n"
   ]
  },
  {
   "cell_type": "markdown",
   "metadata": {},
   "source": [
    "## Read the following instructions carefully:\n",
    "\n",
    "1. This jupyter notebook contains all the step by step instructions needed for this exercise.\n",
    "1. You are free to add cells.\n",
    "1. Write your functions and your answers in this jupyter notebook only.\n",
    "1. Answers to theoretical questions should be written in **markdown cells (with $\\LaTeX$ support)**.\n",
    "1. Submit this jupyter notebook only using your ID as a filename. Not to use ZIP or RAR. For example, your Moodle submission file name should look like this (two id numbers): `123456789_987654321.ipynb`."
   ]
  },
  {
   "cell_type": "code",
   "execution_count": 1,
   "outputs": [],
   "source": [
    "import pandas as pd\n",
    "import scipy.stats as stats\n",
    "import numpy as np\n",
    "import seaborn as sns\n",
    "import matplotlib.pyplot as plt\n",
    "import itertools"
   ],
   "metadata": {
    "collapsed": false,
    "pycharm": {
     "name": "#%%\n"
    }
   }
  },
  {
   "cell_type": "markdown",
   "metadata": {},
   "source": [
    "### Question 1 - Correlations (15 points)"
   ]
  },
  {
   "cell_type": "markdown",
   "metadata": {},
   "source": [
    "Provide example datapoints matching the following descriptions. Each example should be constructed over n=50 datapoints. Provide a table description of the example data as well as a jointplot (see example below). \n",
    "If you think that the situation described is impossible then clearly explain why (you don’t need to give a rigorous proof).<br>\n",
    "Pearson(x,y) = Pearson correlation<br>\n",
    "τ(x,y) = Kendall rank correlation<br>\n",
    "ρ(x,y) = Spearman rank correlation <br>\n",
    "<img src=\"jointplot.png\">"
   ]
  },
  {
   "cell_type": "markdown",
   "metadata": {},
   "source": [
    "#### 1.A\n",
    "Data in which  $Pearson(x,y) < -0.9$ but where $n-1$ points can be selected so that for the vectors restricted to those we have $Pearson(x_{n-1},y_{n-1}) > -0.2$"
   ]
  },
  {
   "cell_type": "markdown",
   "source": [
    "#### Answer\n",
    "Since the Pearson coefficient is sensitive to extremes, we'll first generate data that answer the second requirement, and afterwards add extreme observations to it, to ensure the Pearson coefficient will be small\n"
   ],
   "metadata": {
    "collapsed": false,
    "pycharm": {
     "name": "#%% md\n"
    }
   }
  },
  {
   "cell_type": "code",
   "execution_count": 2,
   "metadata": {},
   "outputs": [
    {
     "name": "stdout",
     "output_type": "stream",
     "text": [
      "           x         y\n",
      "0   0.885495 -0.702020\n",
      "1   1.676545 -1.453111\n",
      "2   1.795270 -0.698365\n",
      "3   1.487053 -0.540786\n",
      "4  -0.608489 -1.542833\n",
      "5   1.730130  0.093576\n",
      "6   2.903528 -0.428112\n",
      "7   0.423121 -1.014504\n",
      "8   1.380480 -0.254536\n",
      "9   0.504941 -1.537624\n",
      "10 -0.467623 -2.319011\n",
      "11  1.318483 -0.484104\n",
      "12 -0.552303 -2.345591\n",
      "13 -0.617380 -1.859892\n",
      "14  2.294843 -0.745835\n",
      "15  1.191572  0.937552\n",
      "16  1.459875 -0.328573\n",
      "17  1.439033 -2.149521\n",
      "18 -0.465464 -1.991404\n",
      "19  1.796121 -1.624462\n",
      "20 -0.250431  0.825496\n",
      "21  0.361873 -1.833444\n",
      "22  1.255605  0.041600\n",
      "23  3.520081  0.706216\n",
      "24  0.150328  0.042645\n",
      "25  2.172465 -0.117884\n",
      "26  2.975830  0.874883\n",
      "27  1.155866 -1.153610\n",
      "28  1.183367 -1.646240\n",
      "29  1.413760  0.634229\n",
      "30  1.110133 -1.166742\n",
      "31  1.673576 -0.671513\n",
      "32  0.601035 -2.383686\n",
      "33  1.370370  0.135086\n",
      "34  2.060699 -2.350615\n",
      "35  0.756282 -1.348867\n",
      "36  1.351719  0.668709\n",
      "37 -0.532445  0.176345\n",
      "38  0.261211 -0.552501\n",
      "39  2.338316 -1.370685\n",
      "40  2.224095 -2.342668\n",
      "41  1.372232 -0.499772\n",
      "42  2.865065  0.005568\n",
      "43  2.095521 -1.621545\n",
      "44  0.060404 -2.992657\n",
      "45 -1.884652 -0.228700\n",
      "46  2.218790  0.627341\n",
      "47  1.020653 -1.785808\n",
      "48  0.223392  0.134422\n",
      "Pearson correlation coefficient for n-1 observations is 0.27 \n",
      "\n",
      "             x           y\n",
      "0     0.885495   -0.702020\n",
      "1     1.676545   -1.453111\n",
      "2     1.795270   -0.698365\n",
      "3     1.487053   -0.540786\n",
      "4    -0.608489   -1.542833\n",
      "5     1.730130    0.093576\n",
      "6     2.903528   -0.428112\n",
      "7     0.423121   -1.014504\n",
      "8     1.380480   -0.254536\n",
      "9     0.504941   -1.537624\n",
      "10   -0.467623   -2.319011\n",
      "11    1.318483   -0.484104\n",
      "12   -0.552303   -2.345591\n",
      "13   -0.617380   -1.859892\n",
      "14    2.294843   -0.745835\n",
      "15    1.191572    0.937552\n",
      "16    1.459875   -0.328573\n",
      "17    1.439033   -2.149521\n",
      "18   -0.465464   -1.991404\n",
      "19    1.796121   -1.624462\n",
      "20   -0.250431    0.825496\n",
      "21    0.361873   -1.833444\n",
      "22    1.255605    0.041600\n",
      "23    3.520081    0.706216\n",
      "24    0.150328    0.042645\n",
      "25    2.172465   -0.117884\n",
      "26    2.975830    0.874883\n",
      "27    1.155866   -1.153610\n",
      "28    1.183367   -1.646240\n",
      "29    1.413760    0.634229\n",
      "30    1.110133   -1.166742\n",
      "31    1.673576   -0.671513\n",
      "32    0.601035   -2.383686\n",
      "33    1.370370    0.135086\n",
      "34    2.060699   -2.350615\n",
      "35    0.756282   -1.348867\n",
      "36    1.351719    0.668709\n",
      "37   -0.532445    0.176345\n",
      "38    0.261211   -0.552501\n",
      "39    2.338316   -1.370685\n",
      "40    2.224095   -2.342668\n",
      "41    1.372232   -0.499772\n",
      "42    2.865065    0.005568\n",
      "43    2.095521   -1.621545\n",
      "44    0.060404   -2.992657\n",
      "45   -1.884652   -0.228700\n",
      "46    2.218790    0.627341\n",
      "47    1.020653   -1.785808\n",
      "48    0.223392    0.134422\n",
      "0   100.000000 -100.000000\n",
      "Pearson correlation coefficient for n observations is -0.99\n",
      ":\n"
     ]
    },
    {
     "data": {
      "text/plain": "<Figure size 432x432 with 3 Axes>",
      "image/png": "[encoded data removed]"
     },
     "metadata": {
      "needs_background": "light"
     },
     "output_type": "display_data"
    },
    {
     "data": {
      "text/plain": "<Figure size 432x432 with 3 Axes>",
      "image/png": "[encoded data removed]"
     },
     "metadata": {
      "needs_background": "light"
     },
     "output_type": "display_data"
    }
   ],
   "source": [
    "sig = np.array([[1,0.2],[0.2,1]])\n",
    "X = stats.multivariate_normal([1,-1],sig)\n",
    "df_high = pd.DataFrame(X.rvs(49), columns=['x', 'y'])\n",
    "pearson_high = stats.pearsonr(df_high['x'], df_high['y'])[0]\n",
    "print(df_high)\n",
    "print(f\"Pearson correlation coefficient for n-1 observations is {pearson_high:.2f} \\n\")\n",
    "\n",
    "df_low = pd.concat([df_high, pd.DataFrame([[100, -100]], columns=['x','y'])], axis=0)\n",
    "pearson_low = stats.pearsonr(df_low['x'], df_low['y'])[0]\n",
    "print(df_low)\n",
    "print(f\"Pearson correlation coefficient for n observations is {pearson_low:.2f}\\n:\")\n",
    "\n",
    "high = sns.jointplot(x=df_high['x'],y=df_high['y'])\n",
    "high.fig.suptitle(\"N-1 Data Points - High Pearson Coefficient\")\n",
    "high.fig.tight_layout()\n",
    "high.fig.subplots_adjust(top=0.95)\n",
    "low = sns.jointplot(x=df_low['x'],y=df_low['y'])\n",
    "low.fig.suptitle(\"N-1 Data Points - Low Pearson Coefficient\")\n",
    "low.fig.tight_layout()\n",
    "low.fig.subplots_adjust(top=0.95)"
   ]
  },
  {
   "cell_type": "markdown",
   "metadata": {},
   "source": [
    "#### 1.B\n",
    "Data with τ(x,y) > ρ(x,y) + 0.45"
   ]
  },
  {
   "cell_type": "markdown",
   "source": [
    "#### Answer\n",
    "\n",
    "Since Spearman Rho is sensitive to the volume of the rank mismatches and Kendall Tau is not, we'll create two identical arrays mess up the order of one the arrays:"
   ],
   "metadata": {
    "collapsed": false,
    "pycharm": {
     "name": "#%% md\n"
    }
   }
  },
  {
   "cell_type": "code",
   "execution_count": 3,
   "outputs": [
    {
     "name": "stdout",
     "output_type": "stream",
     "text": [
      "     x   y  x_rank  y_rank  rank_diff\n",
      "0    0  50     1.0    26.0       25.0\n",
      "1    1  51     2.0    27.0       25.0\n",
      "2    2  52     3.0    28.0       25.0\n",
      "3    3  53     4.0    29.0       25.0\n",
      "4    4  54     5.0    30.0       25.0\n",
      "5    5  55     6.0    31.0       25.0\n",
      "6    6  56     7.0    32.0       25.0\n",
      "7    7  57     8.0    33.0       25.0\n",
      "8    8  58     9.0    34.0       25.0\n",
      "9    9  59    10.0    35.0       25.0\n",
      "10  10  60    11.0    36.0       25.0\n",
      "11  11  61    12.0    37.0       25.0\n",
      "12  12  62    13.0    38.0       25.0\n",
      "13  13  63    14.0    39.0       25.0\n",
      "14  14  64    15.0    40.0       25.0\n",
      "15  15  65    16.0    41.0       25.0\n",
      "16  16  66    17.0    42.0       25.0\n",
      "17  17  67    18.0    43.0       25.0\n",
      "18  18  68    19.0    44.0       25.0\n",
      "19  19  69    20.0    45.0       25.0\n",
      "20  20  70    21.0    46.0       25.0\n",
      "21  21  71    22.0    47.0       25.0\n",
      "22  22  72    23.0    48.0       25.0\n",
      "23  23  73    24.0    49.0       25.0\n",
      "24  24  74    25.0    50.0       25.0\n",
      "25  25  25    26.0     1.0       25.0\n",
      "26  26  26    27.0     2.0       25.0\n",
      "27  27  27    28.0     3.0       25.0\n",
      "28  28  28    29.0     4.0       25.0\n",
      "29  29  29    30.0     5.0       25.0\n",
      "30  30  30    31.0     6.0       25.0\n",
      "31  31  31    32.0     7.0       25.0\n",
      "32  32  32    33.0     8.0       25.0\n",
      "33  33  33    34.0     9.0       25.0\n",
      "34  34  34    35.0    10.0       25.0\n",
      "35  35  35    36.0    11.0       25.0\n",
      "36  36  36    37.0    12.0       25.0\n",
      "37  37  37    38.0    13.0       25.0\n",
      "38  38  38    39.0    14.0       25.0\n",
      "39  39  39    40.0    15.0       25.0\n",
      "40  40  40    41.0    16.0       25.0\n",
      "41  41  41    42.0    17.0       25.0\n",
      "42  42  42    43.0    18.0       25.0\n",
      "43  43  43    44.0    19.0       25.0\n",
      "44  44  44    45.0    20.0       25.0\n",
      "45  45  45    46.0    21.0       25.0\n",
      "46  46  46    47.0    22.0       25.0\n",
      "47  47  47    48.0    23.0       25.0\n",
      "48  48  48    49.0    24.0       25.0\n",
      "49  49  49    50.0    25.0       25.0\n",
      "Kendall Tau is -0.020 and Spearman is -0.501. \n",
      "Kendall is greater than Spearman by 0.480\n"
     ]
    },
    {
     "data": {
      "text/plain": "<Figure size 432x432 with 3 Axes>",
      "image/png": "[encoded data removed]"
     },
     "metadata": {
      "needs_background": "light"
     },
     "output_type": "display_data"
    }
   ],
   "source": [
    "x = np.arange(0,50)\n",
    "y = x*1\n",
    "y[:25] = x[:25] + 50\n",
    "df = pd.DataFrame([x,y]).T\n",
    "df.columns=['x','y']\n",
    "df['x_rank'] = df['x'].rank()\n",
    "df['y_rank'] = df['y'].rank()\n",
    "df['rank_diff'] = abs(df['x_rank'] - df['y_rank'])\n",
    "kendall = df.corr(method='kendall').loc['x'].iloc[1]\n",
    "spearman = df.corr(method='spearman').loc['x'].iloc[1]\n",
    "k_s = sns.jointplot(x=df['x'], y=df['y'])\n",
    "k_s.fig.suptitle(\"Kendall > Spearman + 0.45\")\n",
    "k_s.fig.tight_layout()\n",
    "k_s.fig.subplots_adjust(top=0.95)\n",
    "print(df)\n",
    "print(f'Kendall Tau is {kendall:.3f} and Spearman is {spearman:.3f}. \\nKendall is greater than Spearman by {(kendall - spearman):.3f}')"
   ],
   "metadata": {
    "collapsed": false,
    "pycharm": {
     "name": "#%%\n"
    }
   }
  },
  {
   "cell_type": "markdown",
   "metadata": {},
   "source": [
    "#### 1.C\n",
    "Data with τ(x,y) < ρ(x,y) – 0.45"
   ]
  },
  {
   "cell_type": "code",
   "execution_count": 4,
   "metadata": {},
   "outputs": [
    {
     "name": "stdout",
     "output_type": "stream",
     "text": [
      "     x   y  x_rank  y_rank  rank_diff\n",
      "0   50   0    26.0    50.0       24.0\n",
      "1   51  -1    27.0    49.0       22.0\n",
      "2   52  -2    28.0    48.0       20.0\n",
      "3   53  -3    29.0    47.0       18.0\n",
      "4   54  -4    30.0    46.0       16.0\n",
      "5   55  -5    31.0    45.0       14.0\n",
      "6   56  -6    32.0    44.0       12.0\n",
      "7   57  -7    33.0    43.0       10.0\n",
      "8   58  -8    34.0    42.0        8.0\n",
      "9   59  -9    35.0    41.0        6.0\n",
      "10  60 -10    36.0    40.0        4.0\n",
      "11  61 -11    37.0    39.0        2.0\n",
      "12  62 -12    38.0    38.0        0.0\n",
      "13  63 -13    39.0    37.0        2.0\n",
      "14  64 -14    40.0    36.0        4.0\n",
      "15  65 -15    41.0    35.0        6.0\n",
      "16  66 -16    42.0    34.0        8.0\n",
      "17  67 -17    43.0    33.0       10.0\n",
      "18  68 -18    44.0    32.0       12.0\n",
      "19  69 -19    45.0    31.0       14.0\n",
      "20  70 -20    46.0    30.0       16.0\n",
      "21  71 -21    47.0    29.0       18.0\n",
      "22  72 -22    48.0    28.0       20.0\n",
      "23  73 -23    49.0    27.0       22.0\n",
      "24  74 -24    50.0    26.0       24.0\n",
      "25  25 -25     1.0    25.0       24.0\n",
      "26  26 -26     2.0    24.0       22.0\n",
      "27  27 -27     3.0    23.0       20.0\n",
      "28  28 -28     4.0    22.0       18.0\n",
      "29  29 -29     5.0    21.0       16.0\n",
      "30  30 -30     6.0    20.0       14.0\n",
      "31  31 -31     7.0    19.0       12.0\n",
      "32  32 -32     8.0    18.0       10.0\n",
      "33  33 -33     9.0    17.0        8.0\n",
      "34  34 -34    10.0    16.0        6.0\n",
      "35  35 -35    11.0    15.0        4.0\n",
      "36  36 -36    12.0    14.0        2.0\n",
      "37  37 -37    13.0    13.0        0.0\n",
      "38  38 -38    14.0    12.0        2.0\n",
      "39  39 -39    15.0    11.0        4.0\n",
      "40  40 -40    16.0    10.0        6.0\n",
      "41  41 -41    17.0     9.0        8.0\n",
      "42  42 -42    18.0     8.0       10.0\n",
      "43  43 -43    19.0     7.0       12.0\n",
      "44  44 -44    20.0     6.0       14.0\n",
      "45  45 -45    21.0     5.0       16.0\n",
      "46  46 -46    22.0     4.0       18.0\n",
      "47  47 -47    23.0     3.0       20.0\n",
      "48  48 -48    24.0     2.0       22.0\n",
      "49  49 -49    25.0     1.0       24.0\n",
      "Kendall Tau is 0.020 and Spearman is 0.501. \n",
      "Spearman is greater than Kendall by 0.480\n"
     ]
    },
    {
     "data": {
      "text/plain": "<Figure size 432x432 with 3 Axes>",
      "image/png": "[encoded data removed]"
     },
     "metadata": {
      "needs_background": "light"
     },
     "output_type": "display_data"
    }
   ],
   "source": [
    "x = np.arange(0,50)\n",
    "y = x*-1\n",
    "x[:25] = x[:25] + 50\n",
    "df = pd.DataFrame([x,y]).T\n",
    "df.columns=['x','y']\n",
    "df['x_rank'] = df['x'].rank()\n",
    "df['y_rank'] = df['y'].rank()\n",
    "df['rank_diff'] = abs(df['x_rank'] - df['y_rank'])\n",
    "kendall = df.corr(method='kendall').loc['x'].iloc[1]\n",
    "spearman = df.corr(method='spearman').loc['x'].iloc[1]\n",
    "s_k = sns.jointplot(x=df['x'], y=df['y'])\n",
    "s_k.fig.suptitle(\"Kendall < Spearman - 0.45\")\n",
    "s_k.fig.tight_layout()\n",
    "s_k.fig.subplots_adjust(top=0.95)\n",
    "print(df)\n",
    "print(f'Kendall Tau is {kendall:.3f} and Spearman is {spearman:.3f}. \\nSpearman is greater than Kendall by {(spearman - kendall):.3f}')"
   ]
  },
  {
   "cell_type": "markdown",
   "metadata": {},
   "source": [
    "#### 1.D\n",
    "Data with Pearson(x,y) < ρ(x,y) – 0.6"
   ]
  },
  {
   "cell_type": "code",
   "execution_count": 5,
   "metadata": {},
   "outputs": [
    {
     "name": "stdout",
     "output_type": "stream",
     "text": [
      "Pearson is -0.993 and Spearman is 0.164. \n",
      "Pearson is lower than Spearman by 1.157\n"
     ]
    },
    {
     "data": {
      "text/plain": "<Figure size 432x432 with 3 Axes>",
      "image/png": "[encoded data removed]"
     },
     "metadata": {
      "needs_background": "light"
     },
     "output_type": "display_data"
    }
   ],
   "source": [
    "spearman_low = df_low.corr(method='spearman').loc['x'].iloc[1]\n",
    "p_s = sns.jointplot(x=df_low['x'], y=df_low['y'])\n",
    "p_s.fig.suptitle(\"Pearson < Spearman - 0.6\")\n",
    "p_s.fig.tight_layout()\n",
    "p_s.fig.subplots_adjust(top=0.95)\n",
    "print(f'Pearson is {pearson_low:.3f} and Spearman is {spearman_low:.3f}. \\nPearson is lower than Spearman by {(spearman_low - pearson_low):.3f}')"
   ]
  },
  {
   "cell_type": "markdown",
   "metadata": {},
   "source": [
    "#### 1.E\n",
    "Data with Pearson(x,y) > ρ(x,y) + 1.2"
   ]
  },
  {
   "cell_type": "code",
   "execution_count": null,
   "metadata": {
    "pycharm": {
     "is_executing": true
    }
   },
   "outputs": [
    {
     "name": "stdout",
     "output_type": "stream",
     "text": [
      "               x             y  rank_diff\n",
      "0   10000.000000  10000.000000        0.0\n",
      "1       0.020408      0.979592       47.0\n",
      "2       0.040816      0.959184       45.0\n",
      "3       0.061224      0.938776       43.0\n",
      "4       0.081633      0.918367       41.0\n",
      "5       0.102041      0.897959       39.0\n",
      "6       0.122449      0.877551       37.0\n",
      "7       0.142857      0.857143       35.0\n",
      "8       0.163265      0.836735       33.0\n",
      "9       0.183673      0.816327       31.0\n",
      "10      0.204082      0.795918       29.0\n",
      "11      0.224490      0.775510       27.0\n",
      "12      0.244898      0.755102       25.0\n",
      "13      0.265306      0.734694       23.0\n",
      "14      0.285714      0.714286       21.0\n",
      "15      0.306122      0.693878       19.0\n",
      "16      0.326531      0.673469       17.0\n",
      "17      0.346939      0.653061       15.0\n",
      "18      0.367347      0.632653       13.0\n",
      "19      0.387755      0.612245       11.0\n",
      "20      0.408163      0.591837        9.0\n",
      "21      0.428571      0.571429        7.0\n",
      "22      0.448980      0.551020        5.0\n",
      "23      0.469388      0.530612        3.0\n",
      "24      0.489796      0.510204        1.0\n",
      "25      0.510204      0.489796        1.0\n",
      "26      0.530612      0.469388        3.0\n",
      "27      0.551020      0.448980        5.0\n",
      "28      0.571429      0.428571        7.0\n",
      "29      0.591837      0.408163        9.0\n",
      "30      0.612245      0.387755       11.0\n",
      "31      0.632653      0.367347       13.0\n",
      "32      0.653061      0.346939       15.0\n",
      "33      0.673469      0.326531       17.0\n",
      "34      0.693878      0.306122       19.0\n",
      "35      0.714286      0.285714       21.0\n",
      "36      0.734694      0.265306       23.0\n",
      "37      0.755102      0.244898       25.0\n",
      "38      0.775510      0.224490       27.0\n",
      "39      0.795918      0.204082       29.0\n",
      "40      0.816327      0.183673       31.0\n",
      "41      0.836735      0.163265       33.0\n",
      "42      0.857143      0.142857       35.0\n",
      "43      0.877551      0.122449       37.0\n",
      "44      0.897959      0.102041       39.0\n",
      "45      0.918367      0.081633       41.0\n",
      "46      0.938776      0.061224       43.0\n",
      "47      0.959184      0.040816       45.0\n",
      "48      0.979592      0.020408       47.0\n",
      "49  10000.000000  10000.000000        0.0\n",
      "Pearson is 1.000 and Spearman is -0.769. \n",
      "Pearson is higher than Spearman by 1.769\n"
     ]
    }
   ],
   "source": [
    "x = np.linspace(0, 1, 50)\n",
    "y = x[::-1]\n",
    "x[0] = y[0] = 10000\n",
    "df = pd.DataFrame([x,y]).T\n",
    "df.columns=['x','y']\n",
    "df['rank_diff'] = abs(df['x'].rank() - df['y'].rank())\n",
    "print(df)\n",
    "spearman_e = df.corr(method='spearman').loc['x'].iloc[1]\n",
    "pearson_e = df.corr().loc['x'].iloc[1]\n",
    "p_s = sns.jointplot(x=df['x'], y=df['y'])\n",
    "p_s.fig.suptitle(\"Pearson > Spearman + 1.2\")\n",
    "p_s.fig.tight_layout()\n",
    "p_s.fig.subplots_adjust(top=0.95)\n",
    "\n",
    "print(f'Pearson is {pearson_e:.3f} and Spearman is {spearman_e:.3f}. \\nPearson is higher than Spearman by {(pearson_e - spearman_e):.3f}')\n"
   ]
  },
  {
   "cell_type": "markdown",
   "metadata": {},
   "source": [
    "#### 1.F\n",
    "Data with τ(x,y) < ρ(x,y) – 1.2 "
   ]
  },
  {
   "cell_type": "markdown",
   "metadata": {
    "pycharm": {
     "name": "#%% md\n"
    }
   },
   "source": [
    "#### Answer\n",
    "\n",
    "Since both Spearman and Kendall are rank-based correlation coefficient, they cannot have opposite directions. As shown above, they are both sensitive to different issues, but both have to go in the same direction. Since both of them range between -1 and 1, it's impossible fore one to be greater than the other by more than 1."
   ]
  },
  {
   "cell_type": "markdown",
   "metadata": {},
   "source": [
    "### Question 2 - Analysis of the UCI Heart Disease dataset  (40 points)"
   ]
  },
  {
   "cell_type": "markdown",
   "metadata": {},
   "source": [
    "Perform data analysis on the UCI Heart Disease Dataset\n",
    "References:\n",
    "1. Detrano, R., Janosi, A., Steinbrunn, W., Pfisterer, M., Schmid, J., Sandhu, S., Guppy, K., Lee, S., & Froelicher, V. (1989). International application of a new probability algorithm for the diagnosis of coronary artery disease. American Journal of Cardiology, 64,304--310.\n",
    "2. David W. Aha & Dennis Kibler. \"Instance-based prediction of heart-disease presence with the Cleveland database.\"\n",
    "3. Gennari, J.H., Langley, P, & Fisher, D. (1989). Models of incremental concept formation. Artificial Intelligence, 40, 11--61.\n",
    "\n",
    "Use the following links to find the details of the data: \n",
    "1. https://archive.ics.uci.edu/ml/datasets/heart+disease\n",
    "2. https://www.kaggle.com/ronitf/heart-disease-uci\n",
    "\n",
    "In the follwong cells write a report for your analysis. In your report provide a clear description of the analysis methods and of the results. This should include a graphical representation of the results and the conclusions. Provide p-values or other indicators of the statistical significance where appropriate. <br>\n",
    "Design your report to be concise but still cover interesting findings.\n",
    "\n",
    "There are missing values in the data. Find them and impute them by using the median (for numerical features) or the mode (for categorical features) value of the relevant feature (column).\n",
    "Address the following questions:\n",
    "* Using confidence intervals determine for which numerical features you can state with confidence of 95% that the healthy population (target = 0) mean is larger/smaller than the disease population (target = 1) mean. \n",
    "* Draw histograms for each numerical feature. Inspect the observed distributions and then use MLE to plot, on the same figures, fits of the distributions.\n",
    "* For each pair of numerical feature, calculate correlations and indicate whether you find them significant. For select pairs, with significant correlations, draw joint plot with marginal histograms (see Seaborn joint plot) and find bivariate normal fits. Then use the example code below to draw plots of the bivariate pdfs (you may edit the code as you see fit).\n",
    "* Are there pairs that are significantly correlated in males but not in females? The opposite? How about healthy vs disease? Can you graphically represent this?\n",
    "* For each numerical feature, except age, plot the distribution for this feature against bins of age. In each bin provide a split violin plot, with different colors for healthy and disease.\n",
    "\n",
    "Suggest, state and address at least one original question.\n"
   ]
  },
  {
   "cell_type": "code",
   "execution_count": null,
   "metadata": {
    "pycharm": {
     "is_executing": true
    }
   },
   "outputs": [],
   "source": [
    "# Example code for bivariate pdfs\n",
    "from scipy.stats import multivariate_normal as mn\n",
    "import numpy as np\n",
    "import matplotlib.pyplot as plt\n",
    "%matplotlib inline\n",
    "\n",
    "def plot_2d_Gaussian_pdf(means, cov):\n",
    "    n = 100\n",
    "    x1 = np.linspace(means[0] - 3 * np.sqrt(cov[0][0]), means[0] + 3 * np.sqrt(cov[0][0]), n)\n",
    "    x2 = np.linspace(means[1] - 3 * np.sqrt(cov[1][1]), means[1] + 3 * np.sqrt(cov[1][1]), n)\n",
    "    x1_v, x2_v = np.meshgrid(x1, x2)\n",
    "    Xgrid = np.vstack([x1_v.ravel(), x2_v.ravel()]).T\n",
    "    Y = mn.pdf(Xgrid, means, cov)\n",
    "    fig, ax = plt.subplots()\n",
    "    ax.pcolorfast(x1, x2, Y.reshape(x1_v.shape), alpha=0.5, cmap='Blues')\n",
    "    ax.contour(x1_v, x2_v, Y.reshape(x1_v.shape),\n",
    "               levels=[0.05, 0.1, 0.15, 0.2], alpha=0.3, colors='b')\n",
    "    ax.axis('equal')\n",
    "    ax.grid(alpha=0.2)\n",
    "    plt.show()\n",
    "    \n",
    "means = [3, 2]\n",
    "cov = [[1, 0.5], [0.5, 0.8]]\n",
    "plot_2d_Gaussian_pdf(means, cov)"
   ]
  },
  {
   "cell_type": "code",
   "execution_count": null,
   "metadata": {
    "pycharm": {
     "is_executing": true
    }
   },
   "outputs": [],
   "source": [
    "df = pd.read_csv('heart.csv', index_col=False, sep='\\t')"
   ]
  },
  {
   "cell_type": "code",
   "execution_count": null,
   "metadata": {
    "pycharm": {
     "is_executing": true
    }
   },
   "outputs": [],
   "source": [
    "df.head()"
   ]
  },
  {
   "cell_type": "code",
   "execution_count": null,
   "metadata": {
    "pycharm": {
     "is_executing": true
    }
   },
   "outputs": [],
   "source": [
    "df.describe()"
   ]
  },
  {
   "cell_type": "code",
   "execution_count": null,
   "metadata": {
    "pycharm": {
     "is_executing": true
    }
   },
   "outputs": [],
   "source": [
    "df.info()"
   ]
  },
  {
   "cell_type": "markdown",
   "metadata": {
    "pycharm": {
     "name": "#%% md\n"
    }
   },
   "source": [
    "###### Handle missing values\n",
    "First, we'll find the columns with missing values. Then, we'll map them by their type. Lastly, we'll fill the missing values according to their type:"
   ]
  },
  {
   "cell_type": "code",
   "execution_count": null,
   "metadata": {
    "pycharm": {
     "is_executing": true
    }
   },
   "outputs": [],
   "source": [
    "na = df.isna().sum().sort_values(ascending=False)\n",
    "na = na[na > 0]\n",
    "na"
   ]
  },
  {
   "cell_type": "code",
   "execution_count": null,
   "outputs": [],
   "source": [
    "CATEGORICAL_COLUMNS = {'sex', 'cp', 'fbs', 'restecg', 'exang', 'slope', 'ca', 'thal'}\n",
    "NUMERICAL_COLUMNS = {'age', 'trestbps', 'chol', 'thalach', 'oldpeak'}\n",
    "for i in na.index:\n",
    "    if i in CATEGORICAL_COLUMNS:\n",
    "        df[i].fillna(df[i].mode(), inplace=True)\n",
    "    df[i].fillna(df[i].median(), inplace=True)\n",
    "\n",
    "df.isna().sum().sort_values(ascending=False)"
   ],
   "metadata": {
    "collapsed": false,
    "pycharm": {
     "name": "#%%\n",
     "is_executing": true
    }
   }
  },
  {
   "cell_type": "markdown",
   "source": [
    "To check whether the healthy population's mean is larger/smaller than the disease population's mean, we'll compute the confidence interval of the two population and see if they overlap. If they do, then we can't say that the difference in means in significant. Otherwise, we'll compute whether the healthy population's mean is larger or smaller."
   ],
   "metadata": {
    "collapsed": false,
    "pycharm": {
     "name": "#%% md\n"
    }
   }
  },
  {
   "cell_type": "code",
   "execution_count": null,
   "outputs": [],
   "source": [
    "ALPHA = 0.95\n",
    "def compare_mean(col: str, a=ALPHA):\n",
    "    healthy_s, disease_s = df[df.target == 0][col], df[df.target == 1][col]\n",
    "    healthy_ci = stats.t.interval(alpha=a, df=len(healthy_s)-1, loc=healthy_s.mean(), scale=stats.sem(healthy_s))\n",
    "    disease_ci = stats.t.interval(alpha=a, df=len(disease_s)-1, loc=disease_s.mean(), scale=stats.sem(disease_s))\n",
    "    if check_overlap(healthy_ci, disease_ci, col)['is_overlapping']:\n",
    "        return check_overlap(healthy_ci, disease_ci, col)['direction']\n",
    "    return f'The difference in means for {col} is not significant.'\n",
    "\n",
    "def check_overlap(healthy_ci: tuple, disease_ci: tuple, col: str):\n",
    "    for t in healthy_ci:\n",
    "        if disease_ci[0] < t < disease_ci[1]:\n",
    "            return {\n",
    "                'is_overlapping': False\n",
    "            }\n",
    "    if healthy_ci[0] > disease_ci[1]:\n",
    "        return {\n",
    "            'is_overlapping': True,\n",
    "            'direction': f\"Healthy population's mean for {col} is higher than the disease population's mean\"\n",
    "        }\n",
    "    return {\n",
    "        'is_overlapping': True,\n",
    "        'direction': f\"Healthy population's mean for {col} is lower than the disease population's mean\"\n",
    "    }\n"
   ],
   "metadata": {
    "collapsed": false,
    "pycharm": {
     "name": "#%%\n",
     "is_executing": true
    }
   }
  },
  {
   "cell_type": "code",
   "execution_count": null,
   "outputs": [],
   "source": [
    "for col in NUMERICAL_COLUMNS:\n",
    "    print(compare_mean(col))"
   ],
   "metadata": {
    "collapsed": false,
    "pycharm": {
     "name": "#%%\n",
     "is_executing": true
    }
   }
  },
  {
   "cell_type": "code",
   "execution_count": null,
   "outputs": [],
   "source": [
    "sns.histplot(df['age'], bins=100, kde=True).set_title('Age Histogram')"
   ],
   "metadata": {
    "collapsed": false,
    "pycharm": {
     "name": "#%%\n",
     "is_executing": true
    }
   }
  },
  {
   "cell_type": "markdown",
   "source": [
    "The distribution seems like a Gaussian mixture:"
   ],
   "metadata": {
    "collapsed": false,
    "pycharm": {
     "name": "#%% md\n"
    }
   }
  },
  {
   "cell_type": "code",
   "execution_count": null,
   "outputs": [],
   "source": [
    "sns.distplot(df['trestbps'], bins=50, kde=True).set_title('Trestbps Histogram')"
   ],
   "metadata": {
    "collapsed": false,
    "pycharm": {
     "name": "#%%\n",
     "is_executing": true
    }
   }
  },
  {
   "cell_type": "markdown",
   "source": [
    "`Trstbps` looks like a Gaussian distribution"
   ],
   "metadata": {
    "collapsed": false,
    "pycharm": {
     "name": "#%% md\n"
    }
   }
  },
  {
   "cell_type": "code",
   "execution_count": null,
   "outputs": [],
   "source": [
    "sns.distplot(df['trestbps'], bins=50, kde=True, fit=stats.norm).set_title('Trestbps Histogram')"
   ],
   "metadata": {
    "collapsed": false,
    "pycharm": {
     "name": "#%%\n",
     "is_executing": true
    }
   }
  },
  {
   "cell_type": "code",
   "execution_count": null,
   "outputs": [],
   "source": [
    "sns.distplot(df['chol'], bins=50, kde=True).set_title('Chol Histogram')"
   ],
   "metadata": {
    "collapsed": false,
    "pycharm": {
     "name": "#%%\n",
     "is_executing": true
    }
   }
  },
  {
   "cell_type": "markdown",
   "source": [
    "`chol` looks like a Normal distribution as well:"
   ],
   "metadata": {
    "collapsed": false,
    "pycharm": {
     "name": "#%% md\n"
    }
   }
  },
  {
   "cell_type": "code",
   "execution_count": null,
   "outputs": [],
   "source": [
    "sns.distplot(df['chol'], bins=50, kde=True, fit=stats.norm).set_title('Chol Histogram')"
   ],
   "metadata": {
    "collapsed": false,
    "pycharm": {
     "name": "#%%\n",
     "is_executing": true
    }
   }
  },
  {
   "cell_type": "code",
   "execution_count": null,
   "outputs": [],
   "source": [
    "sns.distplot(df['thalach'], bins=50, kde=True).set_title('Thalach Histogram')"
   ],
   "metadata": {
    "collapsed": false,
    "pycharm": {
     "name": "#%%\n",
     "is_executing": true
    }
   }
  },
  {
   "cell_type": "markdown",
   "source": [
    "`thalach` looks like a Normal distribution as well:"
   ],
   "metadata": {
    "collapsed": false,
    "pycharm": {
     "name": "#%% md\n"
    }
   }
  },
  {
   "cell_type": "code",
   "execution_count": null,
   "outputs": [],
   "source": [
    "sns.distplot(df['thalach'], bins=50, kde=True, fit=stats.norm).set_title('Thalach Histogram')"
   ],
   "metadata": {
    "collapsed": false,
    "pycharm": {
     "name": "#%%\n",
     "is_executing": true
    }
   }
  },
  {
   "cell_type": "code",
   "execution_count": null,
   "outputs": [],
   "source": [
    "sns.distplot(df['oldpeak'], bins=50, kde=True).set_title('Oldpeak Histogram')"
   ],
   "metadata": {
    "collapsed": false,
    "pycharm": {
     "name": "#%%\n",
     "is_executing": true
    }
   }
  },
  {
   "cell_type": "markdown",
   "source": [
    "`oldpeak` looks like an Exponential distribution"
   ],
   "metadata": {
    "collapsed": false,
    "pycharm": {
     "name": "#%% md\n"
    }
   }
  },
  {
   "cell_type": "code",
   "execution_count": null,
   "outputs": [],
   "source": [
    "sns.distplot(df['oldpeak'], bins=50, kde=True, fit=stats.expon).set_title('Oldpeak Histogram')"
   ],
   "metadata": {
    "collapsed": false,
    "pycharm": {
     "name": "#%%\n",
     "is_executing": true
    }
   }
  },
  {
   "cell_type": "code",
   "execution_count": null,
   "outputs": [],
   "source": [
    "# * Are there pairs that are significantly correlated in males but not in females? The opposite? How about healthy vs disease? Can you graphically represent this?\n"
   ],
   "metadata": {
    "collapsed": false,
    "pycharm": {
     "name": "#%%\n",
     "is_executing": true
    }
   }
  },
  {
   "cell_type": "code",
   "execution_count": null,
   "outputs": [],
   "source": [
    "combs = list(itertools.combinations(NUMERICAL_COLUMNS, 2))\n",
    "for comb in combs:\n",
    "    pearson_pval_female = stats.pearsonr(df[comb[0]][df.sex == 0], df[comb[1]][df.sex == 0])[1]\n",
    "    pearson_pval_male = stats.pearsonr(df[comb[0]][df.sex == 1], df[comb[1]][df.sex == 1])[1]\n",
    "    male_and_not_female = pearson_pval_male < 0.05 and pearson_pval_female > 0.05\n",
    "    not_male_and_female = pearson_pval_male > 0.05 and pearson_pval_female < 0.05\n",
    "    if male_and_not_female:\n",
    "       print(f'The Pearson coefficient between {comb[0]} and {comb[1]} is significant for males and not for females')\n",
    "    if not_male_and_female:\n",
    "       print(f'The Pearson coefficient between {comb[0]} and {comb[1]} is significant for females and not for males')"
   ],
   "metadata": {
    "collapsed": false,
    "pycharm": {
     "name": "#%%\n",
     "is_executing": true
    }
   }
  },
  {
   "cell_type": "code",
   "execution_count": null,
   "outputs": [],
   "source": [
    "# * For each numerical feature, except age, plot the distribution for this feature against bins of age. In each bin provide a split violin plot, with different colors for healthy and disease.\n"
   ],
   "metadata": {
    "collapsed": false,
    "pycharm": {
     "name": "#%%\n",
     "is_executing": true
    }
   }
  },
  {
   "cell_type": "code",
   "execution_count": null,
   "outputs": [],
   "source": [],
   "metadata": {
    "collapsed": false,
    "pycharm": {
     "name": "#%%\n",
     "is_executing": true
    }
   }
  },
  {
   "cell_type": "code",
   "execution_count": null,
   "outputs": [],
   "source": [],
   "metadata": {
    "collapsed": false,
    "pycharm": {
     "name": "#%%\n",
     "is_executing": true
    }
   }
  },
  {
   "cell_type": "code",
   "execution_count": null,
   "outputs": [],
   "source": [],
   "metadata": {
    "collapsed": false,
    "pycharm": {
     "name": "#%%\n",
     "is_executing": true
    }
   }
  },
  {
   "cell_type": "code",
   "execution_count": null,
   "outputs": [],
   "source": [],
   "metadata": {
    "collapsed": false,
    "pycharm": {
     "name": "#%%\n",
     "is_executing": true
    }
   }
  },
  {
   "cell_type": "code",
   "execution_count": null,
   "outputs": [],
   "source": [],
   "metadata": {
    "collapsed": false,
    "pycharm": {
     "name": "#%%\n",
     "is_executing": true
    }
   }
  },
  {
   "cell_type": "markdown",
   "metadata": {},
   "source": [
    "### Question 3 - Heavy Tailed Distributions and the Exponential Distribution (15 points)"
   ]
  },
  {
   "cell_type": "markdown",
   "metadata": {},
   "source": [
    "### Heavy Tailed Distributions\n",
    "\n",
    "Recall the definition of Heavy Tailed distribution from the lectures.\n",
    "\n",
    "*A distribution is said to have a heavy right tail if its tail probabilities vanish slower than any exponential*\n",
    "$$ \\forall t>0, \\lim_{x\\to\\infty} e^{tx}P(X>x)=\\infty $$"
   ]
  },
  {
   "cell_type": "markdown",
   "metadata": {},
   "source": [
    "Does the standard log-normal distribution have a heavy right tail? prove your answer."
   ]
  },
  {
   "cell_type": "markdown",
   "metadata": {},
   "source": [
    "##### Answer:\n",
    "<b>Yes, it does<b>.\n",
    "\n",
    "</br>\n",
    "</br>\n",
    "\n",
    "Let $Y = e^{X}$ be a random variable which is log-normal distributed, and X is standard normal distributed.\n",
    "\n",
    "$$\\lim_{x\\to\\infty} e^{tx}P(Y > x) = \\lim_{x\\to\\infty} e^{tx}\\big(1-P(e^X \\leq x)\\big) = \\lim_{x\\to\\infty} e^{tx}\\big(1-P(X \\leq ln x)\\big) = \\lim_{x\\to\\infty} e^{tx}\\big(1-\\Phi(ln x)\\big) = \\lim_{x\\to\\infty} \\frac{1-\\Phi(ln x)}{e^{-tx}}$$\n",
    "\n",
    "lopital rule --->\n",
    "$$\\lim_{x\\to\\infty} \\frac{1-\\Phi(ln x)}{e^{-tx}} = \\lim_{x\\to\\infty} \\frac{\\phi(ln x)}{t \\cdot e^{-tx}} = \\lim_{x\\to\\infty} \\frac{\\frac{1}{\\sqrt{2\\pi}}e^{-\\frac{1}{2} (ln x)^2}}{t \\cdot x \\cdot e^{-tx}} = \\lim_{x\\to\\infty} \\frac{e^{tx}} {\\sqrt{2\\pi} \\cdot e^{\\frac {(ln x)^2}{2}} \\cdot t \\cdot x} = \\lim_{x\\to\\infty} \\frac{e^{tx}} {\\sqrt{2\\pi} \\cdot e^{0.5} \\cdot t \\cdot x^3}$$\n",
    "\n",
    "more lopitals --->\n",
    "\n",
    "$$\\lim_{x\\to\\infty} \\frac{e^{tx}} {\\sqrt{2\\pi} \\cdot e^{0.5} \\cdot t \\cdot x^3} = .. = .. = \\infty$$\n",
    "\n",
    "\n",
    "To conclude,\n",
    "\n",
    "\n",
    "$$\\forall t > 0, \\lim_{x\\to\\infty} e^{tx}P(Y > x) = \\infty$$"
   ]
  },
  {
   "cell_type": "markdown",
   "metadata": {},
   "source": [
    "### Special Properties of the Exponential Distribution\n",
    "\n",
    "Let $X_1 \\sim exp(\\lambda_1)$ and $X_2 \\sim exp(\\lambda_2)$ be two independent exponential random variables.\n",
    "\n",
    "Calculate $P(X_1 < X_2)$."
   ]
  },
  {
   "cell_type": "markdown",
   "metadata": {},
   "source": [
    "$P(X_1 < X_2) = \n",
    "\\int_0^\\infty PDF_2(y) * CDF_1(X_1 < y) \\;dy = \\int_0^\\infty \\lambda_2 \\cdot e^{-\\lambda_2 y } (1 - e^{-\\lambda_1 y }) \\;dy = \\frac{\\lambda_1} {\\lambda_1 + \\lambda_2}\n",
    "$"
   ]
  },
  {
   "cell_type": "markdown",
   "metadata": {},
   "source": [
    "### Question 4 - CLT for Markov chains (15 points)"
   ]
  },
  {
   "cell_type": "markdown",
   "metadata": {},
   "source": [
    "In this exercise you will construct trajectories of Markovian dice rolling results in the following way.<br>\n",
    "The first roll, X0, is Unif(1..6)<br>\n",
    "After i rolls are determined the i+1st, Xi+1, is drawn according to the row that corresponds to the value of Xi in the matrix T below. <br>\n",
    "In other words, T is the transition matrix of a Markov chain and the initial distribution is uniform.\n",
    "\n",
    "\\begin{equation*}\n",
    "T = \n",
    "\\begin{pmatrix}\n",
    "0.4 & 0.2 & 0.1 & 0 & 0.1 & 0.2 \\\\\n",
    "0.2 & 0.4 & 0.2 & 0.1 & 0 & 0.1 \\\\\n",
    "0.1 & 0.2 & 0.4 & 0.2 & 0.1 & 0 \\\\\n",
    "0 & 0.1 & 0.2 & 0.4 & 0.2 & 0.1 \\\\\n",
    "0.1 & 0 & 0.1 & 0.2 & 0.4 & 0.2 \\\\\n",
    "0.2 & 0.1 & 0 & 0.1 & 0.2 & 0.4\n",
    "\\end{pmatrix}\n",
    "\\end{equation*}"
   ]
  },
  {
   "cell_type": "markdown",
   "metadata": {},
   "source": [
    "#### 4.A\n",
    "Construct 1000 trajectories, each of length 30.\n",
    "1. What do you expect the average value of all 30 numbers in a trajectory to be?\n",
    "2. Compute the average value of each such trajectory. Draw a histogram of the 1000 numbers you received, using 20 bins.\n",
    "3. What does the distribution look like? What are the empirical mean and the std?"
   ]
  },
  {
   "cell_type": "code",
   "execution_count": null,
   "metadata": {
    "pycharm": {
     "is_executing": true
    }
   },
   "outputs": [],
   "source": []
  },
  {
   "cell_type": "markdown",
   "metadata": {},
   "source": [
    "##### 4.B\n",
    "Construct 1000 trajectories, each of length 500.\n",
    "1. What do you expect the average value of all 500 numbers in a trajectory to be?\n",
    "2. Compute the average value of each such trajectory. Draw a histogram of the 1000 numbers you received, using 20 bins.\n",
    "3. What does the distribution look like? What are the empirical mean and the std?"
   ]
  },
  {
   "cell_type": "code",
   "execution_count": null,
   "metadata": {
    "pycharm": {
     "is_executing": true
    }
   },
   "outputs": [],
   "source": []
  },
  {
   "cell_type": "markdown",
   "metadata": {},
   "source": [
    "#### 4.C\n",
    "Draw normal fit curves on your two histograms."
   ]
  },
  {
   "cell_type": "code",
   "execution_count": null,
   "metadata": {
    "pycharm": {
     "is_executing": true
    }
   },
   "outputs": [],
   "source": []
  },
  {
   "cell_type": "markdown",
   "metadata": {},
   "source": [
    "#### 4.D\n",
    "Write a python code to calculate $Cov(X_0,X_i)$ for $i=1,..,500$ based on $\\pi_0$ and $T$. \n",
    "\n",
    "Compute the values for our case."
   ]
  },
  {
   "cell_type": "code",
   "execution_count": null,
   "metadata": {
    "pycharm": {
     "is_executing": true
    }
   },
   "outputs": [],
   "source": []
  },
  {
   "cell_type": "markdown",
   "metadata": {},
   "source": [
    "#### 4.E - Bonus (5 Points)\n",
    "Let $\\bar{X_n}$ be the sample average for a single trajectory of length $n$.\n",
    "1. Show that **in our case**:\n",
    "$$E(\\bar{X_n}) =E(X_0)$$\n",
    "What is it in our case ($\\pi_0$ and $T$ as defined above)?\n",
    "2. Show that \n",
    "$$Var(\\bar{X_n}) = \\frac{1}{n}\\sigma_0^2 + \\frac{2}{n^2}\\sum_{d=1}^{n-1}(n-d)Cov(X_0, X_d)$$\n",
    "Calculate it for our case.\n",
    "3. Formulate the CLT for Markov Chains.\n",
    "4. Graphically show that the CLT holds for n=500 in our case."
   ]
  },
  {
   "cell_type": "code",
   "execution_count": null,
   "metadata": {
    "pycharm": {
     "is_executing": true
    }
   },
   "outputs": [],
   "source": []
  },
  {
   "cell_type": "markdown",
   "metadata": {},
   "source": [
    "### Question 5 - Distributions (15 Points)\n",
    "\n",
    "Let $X$ be a random variable with a median value $Med(X) = m$. Recall that this means that $P(X\\le m)=0.5$.\n",
    "\n",
    "Consider a sample $\\vec{x}(n) = x_1,...,x_n$ sampled independently from $X$. Without loss generality, assume that the observations are sorted. That is, $x_1 \\le x_2 \\le ... \\le x_n$. Also assume that $n$ is odd and $n > 100$.\n",
    "\n",
    "Let $R(\\vec{x}(n))$ be the largest index $i \\in {1,...,n}$ such that $x_i \\le m$.\n",
    "\n",
    "1. What is the distribution of $R$?\n",
    "1. Given $n$, compute a function $\\lambda (n)$ so that $P(x_{\\lambda (n)} \\le m) \\ge 0.95)$ and $P(x_{\\lambda (n)+1} \\le m) < 0.95)$."
   ]
  },
  {
   "cell_type": "markdown",
   "metadata": {},
   "source": [
    "#### #1"
   ]
  },
  {
   "cell_type": "markdown",
   "metadata": {},
   "source": [
    "We can look at: $R(\\vec{x}(n))$ from another perspective: the number of samples that are lower than or equal to M.\n",
    "</br>\n",
    "What is the range R can take?\n",
    "</br>\n",
    "We \"know\" the median value of X. But that doesn't gurentee entything regarding samples.\n",
    "</br>\n",
    "So, R is in [0, n]. That is, all the samples could be bigger than M (R = 0) or all the samples could be lower than or equal to M (R = n, # of samples).\n",
    "</br>\n",
    "#### The Distribution of R ~ Binomial(p = $P(X\\le m) = 0.5$, n = n = # of samples))\n",
    "</br>"
   ]
  },
  {
   "cell_type": "markdown",
   "metadata": {},
   "source": [
    "#### #2"
   ]
  },
  {
   "cell_type": "markdown",
   "metadata": {},
   "source": [
    "Again, we can ask this question as follows: \n",
    "</br>\n",
    "what is the <number_of_samples_given_n>(=$\\lambda(n)$), that the probabilty to get at least <number_of_samples> lower than or equal to M is greater than or equal to 95% \n",
    "</br>\n",
    "AND\n",
    "</br>\n",
    "the probabilty to get at least (<number_of_samples_given_n> + 1)(=$\\lambda(n)$ + 1) lower than or equal to M is lower than 95% "
   ]
  },
  {
   "cell_type": "code",
   "execution_count": null,
   "metadata": {
    "pycharm": {
     "is_executing": true
    }
   },
   "outputs": [],
   "source": [
    "from scipy.stats import binom\n",
    "\n",
    "\n",
    "def return_lambda(n: int):\n",
    "    \n",
    "    binom_var = binom(p=0.5, n=n)\n",
    "    # binom_var is the number of \"successes\", in this case: the number of samples lower than M\n",
    "    \n",
    "    for k in range(1, n):\n",
    "        #print(1-binom_var.cdf(k))  # the probabilty for at least k samples to be <= M\n",
    "        \n",
    "        if (1-binom_var.cdf(k)) >= 0.95 and (1-binom_var.cdf(k+1)) < 0.95:\n",
    "            result_lambda = k\n",
    "            print(f\"Lambda: {result_lambda}\\n\"\n",
    "            f\"1-binom_var.cdf({k}) = {1-binom_var.cdf(k):.3f}\\n\"\n",
    "            f\"1-binom_var.cdf({k+1}) = {1-binom_var.cdf(k+1):.3f}\\n\")\n",
    "                  \n",
    "            return result_lambda\n",
    "        \n",
    "    print(\"No such lambda found!\")\n"
   ]
  },
  {
   "cell_type": "code",
   "execution_count": null,
   "metadata": {
    "pycharm": {
     "is_executing": true
    }
   },
   "outputs": [],
   "source": [
    "return_lambda(10001)"
   ]
  },
  {
   "cell_type": "code",
   "execution_count": null,
   "metadata": {
    "pycharm": {
     "is_executing": true
    }
   },
   "outputs": [],
   "source": []
  }
 ],
 "metadata": {
  "kernelspec": {
   "display_name": "Python 3",
   "language": "python",
   "name": "python3"
  },
  "language_info": {
   "codemirror_mode": {
    "name": "ipython",
    "version": 3
   },
   "file_extension": ".py",
   "mimetype": "text/x-python",
   "name": "python",
   "nbconvert_exporter": "python",
   "pygments_lexer": "ipython3",
   "version": "3.8.5"
  }
 },
 "nbformat": 4,
 "nbformat_minor": 4
}