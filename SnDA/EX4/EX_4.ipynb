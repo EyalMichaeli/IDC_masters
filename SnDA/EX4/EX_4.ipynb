{
 "cells": [
  {
   "cell_type": "code",
   "execution_count": 1,
   "metadata": {
    "collapsed": true
   },
   "outputs": [],
   "source": [
    "import pandas as pd\n",
    "import numpy as np\n",
    "import math\n",
    "import scipy.stats as st\n",
    "import matplotlib.pyplot as plt\n",
    "import seaborn as sns\n",
    "sns.set(style=\"whitegrid\")"
   ]
  },
  {
   "cell_type": "code",
   "execution_count": 12,
   "outputs": [
    {
     "name": "stderr",
     "output_type": "stream",
     "text": [
      "/Users/mymac/opt/anaconda3/lib/python3.8/site-packages/IPython/core/interactiveshell.py:3165: DtypeWarning: Columns (1,2,3,4,5,6,7,8,9,10,11,12,13,14,15,16,17,18,19,20,21,22,23,24,25,26,27,28,29,30,31,32,33,34,35,36,37,38,39,40,41,42,43,44,45,46,47,48,49,50,51,52,53,54,55,56,57,58,59,60,61,62,63,64,65,66,67,68,69,70,71,72,73,74,75,76,77,78,79,80,81,82,83,84,85,86,87,88,89,90,91,92,93,94,95,96,97,98,99) have mixed types.Specify dtype option on import or set low_memory=False.\n",
      "  has_raised = await self.run_ast_nodes(code_ast.body, cell_name,\n"
     ]
    },
    {
     "data": {
      "text/plain": "Class         1007_s_at      1053_at       117_at       121_at    1255_g_at  \\\nID_REF                                                                        \nGSM1620819  5.866377893   8.22579012   6.17973231  6.179477974  2.792047952   \nGSM1620820  4.948736331  7.525865369  6.628137025   6.58288903   2.69571445   \nGSM1620821  5.148384393  7.764636529  5.859151477  6.602134766  2.580181122   \nGSM1620822  5.064418945  7.198461482  5.974135101  6.545904723  2.712123845   \nGSM1620823  5.017832878  7.831450258  6.793079158  5.911542321  2.723686912   \n...                 ...          ...          ...          ...          ...   \nGSM1620913  6.472517225  8.261421952  6.367759272  6.440978114   3.73013912   \nGSM1620914  5.678815851  6.925752665  6.835755831  6.955883278  2.914867562   \nGSM1620915  5.653286378  7.918424183  7.577034915  6.499215058  3.013901455   \nGSM1620916  6.013841046  7.442701377  7.147417202  6.587065112  2.729319786   \nGSM1620917  5.465333944  9.225221352   6.48112813  6.897590966  3.151449425   \n\nClass           1294_at      1316_at      1320_at    1405_i_at      1431_at  \\\nID_REF                                                                        \nGSM1620819  9.290410779  6.998285145  5.348943925    10.742427  7.270560667   \nGSM1620820  9.462275035  6.558214949  5.410884095  9.865655308  4.810194735   \nGSM1620821  9.116776316  6.851622539  5.254073031    10.148454  7.822844272   \nGSM1620822  9.134584186  7.357827486  5.242139865  10.87991277  5.690417407   \nGSM1620823  9.582343511  7.283872601  5.219483996  10.09052505  7.089369391   \n...                 ...          ...          ...          ...          ...   \nGSM1620913  7.355729877  6.206879166  6.217929861  5.375997385  6.133231971   \nGSM1620914  7.944294937  6.638364166  5.992343792  9.613538724   3.89680742   \nGSM1620915  8.563122679  7.379567509  5.766028609  9.312493837  5.545193595   \nGSM1620916  8.699221635  6.598349589  5.577456268  9.617118255   4.14747677   \nGSM1620917  8.194374083  6.133298023  6.193797335  9.372334641  4.693670402   \n\nClass       ... AFFX-r2-Ec-bioD-5_at AFFX-r2-P1-cre-3_at AFFX-r2-P1-cre-5_at  \\\nID_REF      ...                                                                \nGSM1620819  ...            13.266235            14.57123           14.276568   \nGSM1620820  ...            13.517013           14.738834           14.341233   \nGSM1620821  ...            13.416583           14.627181           14.318568   \nGSM1620822  ...            13.494827           14.754124           14.363297   \nGSM1620823  ...            13.330192           14.548389           14.263677   \n...         ...                  ...                 ...                 ...   \nGSM1620913  ...             5.942308            7.290514            8.988511   \nGSM1620914  ...            14.163706           14.884506           14.792506   \nGSM1620915  ...            13.682425           14.884506           14.783801   \nGSM1620916  ...            13.551593           14.858066           14.778166   \nGSM1620917  ...            13.867425           14.882728           14.792506   \n\nClass      AFFX-ThrX-3_at AFFX-ThrX-5_at AFFX-ThrX-M_at AFFX-TrpnX-3_at  \\\nID_REF                                                                    \nGSM1620819       4.504659       3.139334       2.747015        2.651554   \nGSM1620820       4.409226       3.039961       2.638606        2.643615   \nGSM1620821       4.310076       3.220109       2.495261        2.626028   \nGSM1620822       4.439311       3.263782       2.544199        2.504958   \nGSM1620823       4.562883       3.138524        2.50663        2.609707   \n...                   ...            ...            ...             ...   \nGSM1620913       5.567947        5.55878       5.429437         4.48794   \nGSM1620914       4.902195       3.416999       2.834741        2.782356   \nGSM1620915       5.239906       3.699181       3.249683        3.056727   \nGSM1620916       4.556134        3.48528       2.711413        2.833818   \nGSM1620917       5.573425       4.211922       3.346835        3.069542   \n\nClass      AFFX-TrpnX-5_at AFFX-TrpnX-M_at class  \nID_REF                                            \nGSM1620819        3.413429        3.140612     H  \nGSM1620820        3.399063        3.132691     H  \nGSM1620821         3.53997        3.698396     H  \nGSM1620822        3.396225        3.638612     H  \nGSM1620823         3.43472        3.577649     H  \n...                    ...             ...   ...  \nGSM1620913        4.254286        5.375811     M  \nGSM1620914         3.88208        3.744138     M  \nGSM1620915        3.649827        4.021536     M  \nGSM1620916         3.52341        3.812564     M  \nGSM1620917        4.108475        4.592122     M  \n\n[99 rows x 54676 columns]",
      "text/html": "<div>\n<style scoped>\n    .dataframe tbody tr th:only-of-type {\n        vertical-align: middle;\n    }\n\n    .dataframe tbody tr th {\n        vertical-align: top;\n    }\n\n    .dataframe thead th {\n        text-align: right;\n    }\n</style>\n<table border=\"1\" class=\"dataframe\">\n  <thead>\n    <tr style=\"text-align: right;\">\n      <th>Class</th>\n      <th>1007_s_at</th>\n      <th>1053_at</th>\n      <th>117_at</th>\n      <th>121_at</th>\n      <th>1255_g_at</th>\n      <th>1294_at</th>\n      <th>1316_at</th>\n      <th>1320_at</th>\n      <th>1405_i_at</th>\n      <th>1431_at</th>\n      <th>...</th>\n      <th>AFFX-r2-Ec-bioD-5_at</th>\n      <th>AFFX-r2-P1-cre-3_at</th>\n      <th>AFFX-r2-P1-cre-5_at</th>\n      <th>AFFX-ThrX-3_at</th>\n      <th>AFFX-ThrX-5_at</th>\n      <th>AFFX-ThrX-M_at</th>\n      <th>AFFX-TrpnX-3_at</th>\n      <th>AFFX-TrpnX-5_at</th>\n      <th>AFFX-TrpnX-M_at</th>\n      <th>class</th>\n    </tr>\n    <tr>\n      <th>ID_REF</th>\n      <th></th>\n      <th></th>\n      <th></th>\n      <th></th>\n      <th></th>\n      <th></th>\n      <th></th>\n      <th></th>\n      <th></th>\n      <th></th>\n      <th></th>\n      <th></th>\n      <th></th>\n      <th></th>\n      <th></th>\n      <th></th>\n      <th></th>\n      <th></th>\n      <th></th>\n      <th></th>\n      <th></th>\n    </tr>\n  </thead>\n  <tbody>\n    <tr>\n      <th>GSM1620819</th>\n      <td>5.866377893</td>\n      <td>8.22579012</td>\n      <td>6.17973231</td>\n      <td>6.179477974</td>\n      <td>2.792047952</td>\n      <td>9.290410779</td>\n      <td>6.998285145</td>\n      <td>5.348943925</td>\n      <td>10.742427</td>\n      <td>7.270560667</td>\n      <td>...</td>\n      <td>13.266235</td>\n      <td>14.57123</td>\n      <td>14.276568</td>\n      <td>4.504659</td>\n      <td>3.139334</td>\n      <td>2.747015</td>\n      <td>2.651554</td>\n      <td>3.413429</td>\n      <td>3.140612</td>\n      <td>H</td>\n    </tr>\n    <tr>\n      <th>GSM1620820</th>\n      <td>4.948736331</td>\n      <td>7.525865369</td>\n      <td>6.628137025</td>\n      <td>6.58288903</td>\n      <td>2.69571445</td>\n      <td>9.462275035</td>\n      <td>6.558214949</td>\n      <td>5.410884095</td>\n      <td>9.865655308</td>\n      <td>4.810194735</td>\n      <td>...</td>\n      <td>13.517013</td>\n      <td>14.738834</td>\n      <td>14.341233</td>\n      <td>4.409226</td>\n      <td>3.039961</td>\n      <td>2.638606</td>\n      <td>2.643615</td>\n      <td>3.399063</td>\n      <td>3.132691</td>\n      <td>H</td>\n    </tr>\n    <tr>\n      <th>GSM1620821</th>\n      <td>5.148384393</td>\n      <td>7.764636529</td>\n      <td>5.859151477</td>\n      <td>6.602134766</td>\n      <td>2.580181122</td>\n      <td>9.116776316</td>\n      <td>6.851622539</td>\n      <td>5.254073031</td>\n      <td>10.148454</td>\n      <td>7.822844272</td>\n      <td>...</td>\n      <td>13.416583</td>\n      <td>14.627181</td>\n      <td>14.318568</td>\n      <td>4.310076</td>\n      <td>3.220109</td>\n      <td>2.495261</td>\n      <td>2.626028</td>\n      <td>3.53997</td>\n      <td>3.698396</td>\n      <td>H</td>\n    </tr>\n    <tr>\n      <th>GSM1620822</th>\n      <td>5.064418945</td>\n      <td>7.198461482</td>\n      <td>5.974135101</td>\n      <td>6.545904723</td>\n      <td>2.712123845</td>\n      <td>9.134584186</td>\n      <td>7.357827486</td>\n      <td>5.242139865</td>\n      <td>10.87991277</td>\n      <td>5.690417407</td>\n      <td>...</td>\n      <td>13.494827</td>\n      <td>14.754124</td>\n      <td>14.363297</td>\n      <td>4.439311</td>\n      <td>3.263782</td>\n      <td>2.544199</td>\n      <td>2.504958</td>\n      <td>3.396225</td>\n      <td>3.638612</td>\n      <td>H</td>\n    </tr>\n    <tr>\n      <th>GSM1620823</th>\n      <td>5.017832878</td>\n      <td>7.831450258</td>\n      <td>6.793079158</td>\n      <td>5.911542321</td>\n      <td>2.723686912</td>\n      <td>9.582343511</td>\n      <td>7.283872601</td>\n      <td>5.219483996</td>\n      <td>10.09052505</td>\n      <td>7.089369391</td>\n      <td>...</td>\n      <td>13.330192</td>\n      <td>14.548389</td>\n      <td>14.263677</td>\n      <td>4.562883</td>\n      <td>3.138524</td>\n      <td>2.50663</td>\n      <td>2.609707</td>\n      <td>3.43472</td>\n      <td>3.577649</td>\n      <td>H</td>\n    </tr>\n    <tr>\n      <th>...</th>\n      <td>...</td>\n      <td>...</td>\n      <td>...</td>\n      <td>...</td>\n      <td>...</td>\n      <td>...</td>\n      <td>...</td>\n      <td>...</td>\n      <td>...</td>\n      <td>...</td>\n      <td>...</td>\n      <td>...</td>\n      <td>...</td>\n      <td>...</td>\n      <td>...</td>\n      <td>...</td>\n      <td>...</td>\n      <td>...</td>\n      <td>...</td>\n      <td>...</td>\n      <td>...</td>\n    </tr>\n    <tr>\n      <th>GSM1620913</th>\n      <td>6.472517225</td>\n      <td>8.261421952</td>\n      <td>6.367759272</td>\n      <td>6.440978114</td>\n      <td>3.73013912</td>\n      <td>7.355729877</td>\n      <td>6.206879166</td>\n      <td>6.217929861</td>\n      <td>5.375997385</td>\n      <td>6.133231971</td>\n      <td>...</td>\n      <td>5.942308</td>\n      <td>7.290514</td>\n      <td>8.988511</td>\n      <td>5.567947</td>\n      <td>5.55878</td>\n      <td>5.429437</td>\n      <td>4.48794</td>\n      <td>4.254286</td>\n      <td>5.375811</td>\n      <td>M</td>\n    </tr>\n    <tr>\n      <th>GSM1620914</th>\n      <td>5.678815851</td>\n      <td>6.925752665</td>\n      <td>6.835755831</td>\n      <td>6.955883278</td>\n      <td>2.914867562</td>\n      <td>7.944294937</td>\n      <td>6.638364166</td>\n      <td>5.992343792</td>\n      <td>9.613538724</td>\n      <td>3.89680742</td>\n      <td>...</td>\n      <td>14.163706</td>\n      <td>14.884506</td>\n      <td>14.792506</td>\n      <td>4.902195</td>\n      <td>3.416999</td>\n      <td>2.834741</td>\n      <td>2.782356</td>\n      <td>3.88208</td>\n      <td>3.744138</td>\n      <td>M</td>\n    </tr>\n    <tr>\n      <th>GSM1620915</th>\n      <td>5.653286378</td>\n      <td>7.918424183</td>\n      <td>7.577034915</td>\n      <td>6.499215058</td>\n      <td>3.013901455</td>\n      <td>8.563122679</td>\n      <td>7.379567509</td>\n      <td>5.766028609</td>\n      <td>9.312493837</td>\n      <td>5.545193595</td>\n      <td>...</td>\n      <td>13.682425</td>\n      <td>14.884506</td>\n      <td>14.783801</td>\n      <td>5.239906</td>\n      <td>3.699181</td>\n      <td>3.249683</td>\n      <td>3.056727</td>\n      <td>3.649827</td>\n      <td>4.021536</td>\n      <td>M</td>\n    </tr>\n    <tr>\n      <th>GSM1620916</th>\n      <td>6.013841046</td>\n      <td>7.442701377</td>\n      <td>7.147417202</td>\n      <td>6.587065112</td>\n      <td>2.729319786</td>\n      <td>8.699221635</td>\n      <td>6.598349589</td>\n      <td>5.577456268</td>\n      <td>9.617118255</td>\n      <td>4.14747677</td>\n      <td>...</td>\n      <td>13.551593</td>\n      <td>14.858066</td>\n      <td>14.778166</td>\n      <td>4.556134</td>\n      <td>3.48528</td>\n      <td>2.711413</td>\n      <td>2.833818</td>\n      <td>3.52341</td>\n      <td>3.812564</td>\n      <td>M</td>\n    </tr>\n    <tr>\n      <th>GSM1620917</th>\n      <td>5.465333944</td>\n      <td>9.225221352</td>\n      <td>6.48112813</td>\n      <td>6.897590966</td>\n      <td>3.151449425</td>\n      <td>8.194374083</td>\n      <td>6.133298023</td>\n      <td>6.193797335</td>\n      <td>9.372334641</td>\n      <td>4.693670402</td>\n      <td>...</td>\n      <td>13.867425</td>\n      <td>14.882728</td>\n      <td>14.792506</td>\n      <td>5.573425</td>\n      <td>4.211922</td>\n      <td>3.346835</td>\n      <td>3.069542</td>\n      <td>4.108475</td>\n      <td>4.592122</td>\n      <td>M</td>\n    </tr>\n  </tbody>\n</table>\n<p>99 rows × 54676 columns</p>\n</div>"
     },
     "execution_count": 12,
     "metadata": {},
     "output_type": "execute_result"
    }
   ],
   "source": [
    "df = pd.read_csv('AMI_GSE66360_series_matrix.csv', skiprows=59)\n",
    "df = df.T\n",
    "df.columns = df.iloc[0]\n",
    "df.drop('Class', inplace=True)\n",
    "df['class'] = df.index\n",
    "df['class'] = df['class'].apply(lambda x: x[0])\n",
    "df.set_index('ID_REF', inplace=True)\n",
    "df"
   ],
   "metadata": {
    "collapsed": false,
    "pycharm": {
     "name": "#%%\n"
    }
   }
  },
  {
   "cell_type": "markdown",
   "source": [
    "\n",
    "### a. High level description of the data and some pre-processing"
   ],
   "metadata": {
    "collapsed": false,
    "pycharm": {
     "name": "#%% md\n"
    }
   }
  },
  {
   "cell_type": "markdown",
   "source": [
    "1) How many genes profiled?"
   ],
   "metadata": {
    "collapsed": false,
    "pycharm": {
     "name": "#%% md\n"
    }
   }
  },
  {
   "cell_type": "code",
   "execution_count": 13,
   "outputs": [
    {
     "name": "stdout",
     "output_type": "stream",
     "text": [
      "There are 54675 genes were profiled.\n"
     ]
    }
   ],
   "source": [
    "num_genes = df.shape[1] - 1\n",
    "print(f'There are {num_genes} genes were profiled.')"
   ],
   "metadata": {
    "collapsed": false,
    "pycharm": {
     "name": "#%%\n"
    }
   }
  },
  {
   "cell_type": "markdown",
   "source": [
    "2) How many samples (subjects/patients) in total?"
   ],
   "metadata": {
    "collapsed": false,
    "pycharm": {
     "name": "#%% md\n"
    }
   }
  },
  {
   "cell_type": "code",
   "execution_count": 15,
   "outputs": [
    {
     "name": "stdout",
     "output_type": "stream",
     "text": [
      "There were 99 subjects in the study.\n"
     ]
    }
   ],
   "source": [
    "num_samples = df.shape[0]\n",
    "print(f'There were {num_samples} subjects in the study.')"
   ],
   "metadata": {
    "collapsed": false,
    "pycharm": {
     "name": "#%%\n"
    }
   }
  },
  {
   "cell_type": "markdown",
   "source": [
    "3) How many samples in each class?"
   ],
   "metadata": {
    "collapsed": false,
    "pycharm": {
     "name": "#%% md\n"
    }
   }
  },
  {
   "cell_type": "code",
   "execution_count": 17,
   "outputs": [
    {
     "name": "stdout",
     "output_type": "stream",
     "text": [
      "There are 50 healthy samples (class = H). The rest (49) have Myocardial Infraction.\n"
     ]
    }
   ],
   "source": [
    "num_of_class_h = len(df[df['class'] == 'H'])\n",
    "print(f'There are {num_of_class_h} healthy samples (class = H). The rest ({num_samples - num_of_class_h}) have Myocardial Infraction.')"
   ],
   "metadata": {
    "collapsed": false,
    "pycharm": {
     "name": "#%%\n"
    }
   }
  },
  {
   "cell_type": "markdown",
   "source": [
    "4) If there are missing values, then remove the entire row (gene) from the data matrix. How many rows left now?"
   ],
   "metadata": {
    "collapsed": false,
    "pycharm": {
     "name": "#%% md\n"
    }
   }
  },
  {
   "cell_type": "code",
   "execution_count": 20,
   "outputs": [
    {
     "name": "stdout",
     "output_type": "stream",
     "text": [
      "There were 45 genes with missing values. After dropping, we're left with 54628 genes.\n"
     ]
    }
   ],
   "source": [
    "df.dropna(axis=1, inplace=True)\n",
    "print(f\"There were {num_genes-df.shape[1] -1} genes with missing values. After dropping, we're left with {df.shape[1] -1} genes.\")\n",
    "num_genes = df.shape[1] -1"
   ],
   "metadata": {
    "collapsed": false,
    "pycharm": {
     "name": "#%%\n"
    }
   }
  },
  {
   "cell_type": "markdown",
   "source": [
    "5) Pick 20 genes at random. Draw 20 pair boxplots in one figure comparing expression levels of each of these genes in the two classes M and H."
   ],
   "metadata": {
    "collapsed": false,
    "pycharm": {
     "name": "#%% md\n"
    }
   }
  },
  {
   "cell_type": "code",
   "execution_count": 21,
   "outputs": [
    {
     "ename": "IndexError",
     "evalue": "too many indices for array: array is 1-dimensional, but 2 were indexed",
     "output_type": "error",
     "traceback": [
      "\u001B[0;31m---------------------------------------------------------------------------\u001B[0m",
      "\u001B[0;31mIndexError\u001B[0m                                Traceback (most recent call last)",
      "\u001B[0;32m<ipython-input-21-4f7ba9fc8faa>\u001B[0m in \u001B[0;36m<module>\u001B[0;34m\u001B[0m\n\u001B[1;32m      5\u001B[0m \u001B[0mfig\u001B[0m\u001B[0;34m,\u001B[0m \u001B[0maxs\u001B[0m \u001B[0;34m=\u001B[0m \u001B[0mplt\u001B[0m\u001B[0;34m.\u001B[0m\u001B[0msubplots\u001B[0m\u001B[0;34m(\u001B[0m\u001B[0;36m1\u001B[0m\u001B[0;34m,\u001B[0m\u001B[0;36m2\u001B[0m\u001B[0;34m)\u001B[0m\u001B[0;34m\u001B[0m\u001B[0;34m\u001B[0m\u001B[0m\n\u001B[1;32m      6\u001B[0m \u001B[0;31m# for i in range(2):\u001B[0m\u001B[0;34m\u001B[0m\u001B[0;34m\u001B[0m\u001B[0;34m\u001B[0m\u001B[0m\n\u001B[0;32m----> 7\u001B[0;31m \u001B[0maxs\u001B[0m\u001B[0;34m[\u001B[0m\u001B[0;36m0\u001B[0m\u001B[0;34m,\u001B[0m\u001B[0;36m0\u001B[0m\u001B[0;34m]\u001B[0m \u001B[0;34m=\u001B[0m \u001B[0msns\u001B[0m\u001B[0;34m.\u001B[0m\u001B[0mboxplot\u001B[0m\u001B[0;34m(\u001B[0m\u001B[0mx\u001B[0m\u001B[0;34m=\u001B[0m\u001B[0msample_df\u001B[0m\u001B[0;34m[\u001B[0m\u001B[0msample_df\u001B[0m\u001B[0;34m.\u001B[0m\u001B[0mcolumns\u001B[0m\u001B[0;34m[\u001B[0m\u001B[0;36m0\u001B[0m\u001B[0;34m]\u001B[0m\u001B[0;34m]\u001B[0m\u001B[0;34m[\u001B[0m\u001B[0msample_df\u001B[0m\u001B[0;34m[\u001B[0m\u001B[0;34m'class'\u001B[0m\u001B[0;34m]\u001B[0m\u001B[0;34m==\u001B[0m\u001B[0;34m'M'\u001B[0m\u001B[0;34m]\u001B[0m\u001B[0;34m.\u001B[0m\u001B[0mvalues\u001B[0m\u001B[0;34m)\u001B[0m\u001B[0;34m\u001B[0m\u001B[0;34m\u001B[0m\u001B[0m\n\u001B[0m\u001B[1;32m      8\u001B[0m     \u001B[0;31m# axs[i,0].set_title(f'Gene {sample_df.columns[i]}, Sick Population')\u001B[0m\u001B[0;34m\u001B[0m\u001B[0;34m\u001B[0m\u001B[0;34m\u001B[0m\u001B[0m\n\u001B[1;32m      9\u001B[0m \u001B[0maxs\u001B[0m\u001B[0;34m[\u001B[0m\u001B[0;36m1\u001B[0m\u001B[0;34m,\u001B[0m\u001B[0;36m1\u001B[0m\u001B[0;34m]\u001B[0m \u001B[0;34m=\u001B[0m \u001B[0msns\u001B[0m\u001B[0;34m.\u001B[0m\u001B[0mboxplot\u001B[0m\u001B[0;34m(\u001B[0m\u001B[0mx\u001B[0m\u001B[0;34m=\u001B[0m\u001B[0msample_df\u001B[0m\u001B[0;34m[\u001B[0m\u001B[0msample_df\u001B[0m\u001B[0;34m.\u001B[0m\u001B[0mcolumns\u001B[0m\u001B[0;34m[\u001B[0m\u001B[0mi\u001B[0m\u001B[0;34m]\u001B[0m\u001B[0;34m]\u001B[0m\u001B[0;34m[\u001B[0m\u001B[0msample_df\u001B[0m\u001B[0;34m[\u001B[0m\u001B[0;34m'class'\u001B[0m\u001B[0;34m]\u001B[0m\u001B[0;34m==\u001B[0m\u001B[0;34m'H'\u001B[0m\u001B[0;34m]\u001B[0m\u001B[0;34m.\u001B[0m\u001B[0mvalues\u001B[0m\u001B[0;34m)\u001B[0m\u001B[0;34m\u001B[0m\u001B[0;34m\u001B[0m\u001B[0m\n",
      "\u001B[0;31mIndexError\u001B[0m: too many indices for array: array is 1-dimensional, but 2 were indexed"
     ]
    },
    {
     "data": {
      "text/plain": "<Figure size 432x288 with 2 Axes>",
      "image/png": "[encoded data removed]"
     },
     "metadata": {},
     "output_type": "display_data"
    }
   ],
   "source": [
    "sample_df = df.sample(n=20, axis='columns')\n",
    "sample_df['class'] = df['class']\n",
    "# sns.boxplot(x=sample_df[sample_df.columns[0]][sample_df['class']=='M'])#, hue='class', data=sample_df)\n",
    "# sns.boxplot(x=sample_df[sample_df.columns[0]][sample_df['class']=='H'])#, hue='class', data=sample_df)\n",
    "fig, axs = plt.subplots(1,2)\n",
    "# for i in range(2):\n",
    "axs[0,0] = sns.boxplot(x=sample_df[sample_df.columns[0]][sample_df['class']=='M'].values)\n",
    "    # axs[i,0].set_title(f'Gene {sample_df.columns[i]}, Sick Population')\n",
    "axs[1,1] = sns.boxplot(x=sample_df[sample_df.columns[i]][sample_df['class']=='H'].values)\n",
    "    # axs[i,1].set_title(f'Gene {sample_df.columns[i]}, Healthy Population')\n",
    "fig.tight_layout()\n",
    "\n",
    "# for ax in axs.flat:\n",
    "#     ax.set(xlabel='x-label', ylabel='y-label')\n",
    "# for ax in axs.flat:\n",
    "#     ax.label_outer()\n",
    "# sns.boxplot(y=sample_df['M'].iloc[0], x='M')"
   ],
   "metadata": {
    "collapsed": false,
    "pycharm": {
     "name": "#%%\n"
    }
   }
  },
  {
   "cell_type": "markdown",
   "source": [
    "### WRS for differential expression(DE)"
   ],
   "metadata": {
    "collapsed": false,
    "pycharm": {
     "name": "#%% md\n"
    }
   }
  },
  {
   "cell_type": "markdown",
   "source": [
    "1) Consider some gene, g. Under the null model (which assumes that for g there is no M vs H DE), what is the expected sum of ranks of g’s expression levels measured for samples labeled M?"
   ],
   "metadata": {
    "collapsed": false,
    "pycharm": {
     "name": "#%% md\n"
    }
   }
  },
  {
   "cell_type": "code",
   "execution_count": 22,
   "outputs": [
    {
     "name": "stdout",
     "output_type": "stream",
     "text": [
      "The expected rank sum is 2450.0\n"
     ]
    }
   ],
   "source": [
    "n = len(df)\n",
    "b = len(df[df['class'] == 'M'])\n",
    "mu = b * ((n + 1) / 2)\n",
    "print(f\"The expected rank sum is {mu}\")"
   ],
   "metadata": {
    "collapsed": false,
    "pycharm": {
     "name": "#%%\n"
    }
   }
  },
  {
   "cell_type": "markdown",
   "source": [
    "2) Denote this sum of ranks by RS(g). What is the maximal value, c, that RS(g) can take?"
   ],
   "metadata": {
    "collapsed": false,
    "pycharm": {
     "name": "#%% md\n"
    }
   }
  },
  {
   "cell_type": "code",
   "execution_count": 23,
   "outputs": [
    {
     "name": "stdout",
     "output_type": "stream",
     "text": [
      "The maximal value will be achieved if all of the top ranks would be from the M population. In this case 3725\n"
     ]
    }
   ],
   "source": [
    "c = sum([i for i in range(b +1, n +1)])\n",
    "print(f\"The maximal value will be achieved if all of the top ranks would be from the M population. In this case {c}\")"
   ],
   "metadata": {
    "collapsed": false,
    "pycharm": {
     "name": "#%%\n"
    }
   }
  },
  {
   "cell_type": "markdown",
   "source": [
    "3) Under the null model, what is the probability of RS(g) = c? (Provide a formula for this and explain it)"
   ],
   "metadata": {
    "collapsed": false
   }
  },
  {
   "cell_type": "code",
   "execution_count": 24,
   "outputs": [
    {
     "name": "stdout",
     "output_type": "stream",
     "text": [
      "There is only one permutation in which the the rank sum equals the maximal rank sum, hence the probability is 1/all possible probabilities: 1.98e-29\n"
     ]
    }
   ],
   "source": [
    "num_combs = math.comb(n, b)\n",
    "p_c = 1 / num_combs\n",
    "print(f\"There is only one permutation in which the the rank sum equals the maximal rank sum, hence the probability is 1/all possible probabilities: {p_c:.3}\")"
   ],
   "metadata": {
    "collapsed": false,
    "pycharm": {
     "name": "#%%\n"
    }
   }
  },
  {
   "cell_type": "markdown",
   "source": [
    "4) Under the null model,what is the probability of RS(g)=c-1? what is the probability of RS(g) = c-2?\n",
    "(Provide formulas and explain them)\n"
   ],
   "metadata": {
    "collapsed": false,
    "pycharm": {
     "name": "#%% md\n"
    }
   }
  },
  {
   "cell_type": "markdown",
   "source": [
    "To calculate $RS(g) = c-1$, we'll use the CLT and calculate the p value of $RS(g) \\le c-1$ and deduct the p value of $RS(g) = c$"
   ],
   "metadata": {
    "collapsed": false,
    "pycharm": {
     "name": "#%% md\n"
    }
   }
  },
  {
   "cell_type": "code",
   "execution_count": 25,
   "outputs": [
    {
     "name": "stdout",
     "output_type": "stream",
     "text": [
      "P(RS(g) = c-1) = 4.83e-19\n"
     ]
    }
   ],
   "source": [
    "sig = math.sqrt(b*(n-b)*(n+1)/12)\n",
    "z = (c-1 - mu) / sig\n",
    "p_c_minus_1 = st.norm.sf(abs(z))*2 #Two sided - is it right?\n",
    "print(f\"P(RS(g) = c-1) = {p_c_minus_1 - p_c:.3}\")"
   ],
   "metadata": {
    "collapsed": false,
    "pycharm": {
     "name": "#%%\n"
    }
   }
  },
  {
   "cell_type": "markdown",
   "source": [
    "We'll do the same for $RS(g) = c-2$:"
   ],
   "metadata": {
    "collapsed": false,
    "pycharm": {
     "name": "#%% md\n"
    }
   }
  },
  {
   "cell_type": "code",
   "execution_count": 26,
   "outputs": [
    {
     "name": "stdout",
     "output_type": "stream",
     "text": [
      "P(RS(g) = c-1) = 3.15e-20\n"
     ]
    }
   ],
   "source": [
    "z = (c-2 - mu) / sig\n",
    "p_c_minus_2 = st.norm.sf(abs(z))*2\n",
    "print(f\"P(RS(g) = c-1) = {p_c_minus_2 - p_c_minus_1 - p_c:.3}\")"
   ],
   "metadata": {
    "collapsed": false,
    "pycharm": {
     "name": "#%%\n"
    }
   }
  },
  {
   "cell_type": "markdown",
   "source": [
    "5) Draw a histogram of the values of RS(g) in the dataset. Here g ranges over all genes in the data (after the clean-up). Compute the IQR for this distribution and present it on the plot with the histogram."
   ],
   "metadata": {
    "collapsed": false,
    "pycharm": {
     "name": "#%% md\n"
    }
   }
  },
  {
   "cell_type": "code",
   "execution_count": 27,
   "outputs": [
    {
     "data": {
      "text/plain": "[2304.0,\n 2604.0,\n 2963.0,\n 2540.0,\n 2598.0,\n 2308.0,\n 2010.0,\n 2691.0,\n 2697.0,\n 1924.0,\n 2569.0,\n 2602.0,\n 2616.0,\n 2614.0,\n 2263.0,\n 2491.5,\n 2427.0,\n 2366.0,\n 2280.0,\n 2488.0,\n 2595.5,\n 2705.0,\n 2423.5,\n 2478.0,\n 2499.0,\n 2786.0,\n 2086.0,\n 2478.0,\n 2697.0,\n 2200.5,\n 2632.0,\n 2061.0,\n 1966.0,\n 2267.0,\n 2694.0,\n 2710.0,\n 2394.0,\n 2755.0,\n 2312.0,\n 2255.0,\n 2085.0,\n 2532.5,\n 2227.0,\n 2299.0,\n 2296.0,\n 2442.0,\n 2476.5,\n 2112.0,\n 2500.0,\n 2246.5,\n 2465.0,\n 2121.0,\n 1899.0,\n 2264.5,\n 2597.0,\n 2155.0,\n 2159.0,\n 2421.5,\n 2170.0,\n 2337.0,\n 2562.0,\n 2194.0,\n 2883.0,\n 2262.0,\n 2561.0,\n 2021.0,\n 3060.0,\n 2713.0,\n 2640.0,\n 2412.5,\n 2145.0,\n 2338.0,\n 1960.0,\n 2577.5,\n 2701.0,\n 2653.0,\n 2928.0,\n 2189.0,\n 2293.0,\n 2096.0,\n 2566.5,\n 2399.0,\n 2476.0,\n 2524.0,\n 2659.0,\n 2577.5,\n 2483.0,\n 2385.0,\n 2335.0,\n 2691.0,\n 2588.0,\n 2495.0,\n 2856.0,\n 2749.5,\n 2580.0,\n 2523.0,\n 2419.5,\n 2482.0,\n 2432.5,\n 2341.5,\n 2398.0,\n 2700.5,\n 2742.0,\n 2750.0,\n 2745.0,\n 2696.5,\n 2490.0,\n 2695.0,\n 2468.0,\n 2562.0,\n 2513.0,\n 2596.0,\n 2468.5,\n 2449.0,\n 2473.0,\n 2516.5,\n 2467.0,\n 2725.0,\n 2604.5,\n 2556.0,\n 2504.0,\n 2960.0,\n 2707.0,\n 2470.5,\n 2758.0,\n 2090.0,\n 2737.0,\n 2835.0,\n 2669.0,\n 2289.5,\n 2488.0,\n 2658.0,\n 2712.0,\n 2487.5,\n 2743.0,\n 2711.0,\n 2554.5,\n 2263.0,\n 2565.0,\n 2725.0,\n 2552.0,\n 2402.0,\n 2605.0,\n 2546.0,\n 2542.0,\n 2607.0,\n 2584.0,\n 2561.0,\n 2814.0,\n 2607.5,\n 2338.5,\n 2556.0,\n 2648.0,\n 2599.5,\n 2496.0,\n 2351.0,\n 2320.0,\n 2113.0,\n 2629.0,\n 2616.0,\n 2900.0,\n 2603.0,\n 2580.0,\n 2459.0,\n 2490.0,\n 2725.0,\n 2520.0,\n 2492.0,\n 2892.0,\n 2645.0,\n 2584.0,\n 2990.0,\n 2513.5,\n 2687.0,\n 2560.0,\n 2714.0,\n 2325.0,\n 2428.0,\n 2686.0,\n 2544.0,\n 2272.5,\n 2669.0,\n 2960.0,\n 2349.0,\n 2244.5,\n 2513.5,\n 2543.0,\n 2515.0,\n 2504.0,\n 2664.0,\n 2606.5,\n 2590.0,\n 2350.0,\n 2532.0,\n 2650.0,\n 2071.0,\n 2632.5,\n 2730.5,\n 2649.0,\n 2130.0,\n 2753.0,\n 2393.0,\n 2559.0,\n 2760.0,\n 2627.0,\n 2675.0,\n 2512.0,\n 2612.5,\n 2658.0,\n 2444.0,\n 2753.0,\n 2602.0,\n 2256.0,\n 2047.0,\n 2436.0,\n 2645.0,\n 2464.0,\n 2689.5,\n 2638.0,\n 2686.5,\n 2400.0,\n 2445.0,\n 2261.0,\n 2678.0,\n 2522.0,\n 2664.0,\n 2540.0,\n 2569.0,\n 2143.0,\n 2598.5,\n 2746.0,\n 2417.0,\n 2615.0,\n 2301.0,\n 2625.0,\n 2752.0,\n 2677.0,\n 2545.5,\n 2467.0,\n 2715.0,\n 2599.0,\n 2530.0,\n 2251.0,\n 2641.0,\n 2703.0,\n 2168.0,\n 2227.0,\n 2361.0,\n 2445.0,\n 2680.0,\n 2456.5,\n 2605.0,\n 2432.0,\n 2387.0,\n 2842.0,\n 2333.0,\n 2340.0,\n 2497.0,\n 1936.0,\n 2559.0,\n 2655.0,\n 2353.0,\n 2771.0,\n 2633.5,\n 2313.0,\n 2331.0,\n 2193.0,\n 2597.0,\n 2546.0,\n 2537.0,\n 2427.0,\n 2260.0,\n 2846.0,\n 2080.0,\n 2147.0,\n 2729.0,\n 2717.0,\n 2585.5,\n 2385.0,\n 2900.0,\n 2523.0,\n 2357.0,\n 2635.0,\n 2715.5,\n 2621.0,\n 2394.0,\n 2496.0,\n 2610.5,\n 1991.5,\n 2593.0,\n 3110.0,\n 2661.0,\n 2634.5,\n 2244.0,\n 2545.0,\n 2225.0,\n 2593.0,\n 2207.0,\n 2347.0,\n 2564.0,\n 2487.0,\n 2637.0,\n 2587.0,\n 2272.0,\n 2728.0,\n 2507.0,\n 1993.0,\n 2574.0,\n 2301.0,\n 2371.0,\n 2443.0,\n 2368.0,\n 2242.0,\n 2735.0,\n 2178.0,\n 2351.0,\n 2307.0,\n 2661.0,\n 2745.0,\n 2506.0,\n 2469.0,\n 2157.0,\n 2567.0,\n 2227.0,\n 2330.0,\n 2559.0,\n 2297.0,\n 2510.0,\n 2688.0,\n 2624.0,\n 2443.0,\n 2538.0,\n 2756.0,\n 2284.0,\n 2420.0,\n 2336.0,\n 2629.0,\n 2269.0,\n 2637.5,\n 2576.0,\n 2229.0,\n 2169.0,\n 2349.0,\n 2383.0,\n 2698.0,\n 2623.0,\n 2456.0,\n 2450.0,\n 2644.0,\n 2485.0,\n 2492.5,\n 2696.0,\n 2586.0,\n 2445.0,\n 2791.0,\n 2430.5,\n 2682.5,\n 2278.0,\n 2408.0,\n 2605.5,\n 2396.5,\n 2612.0,\n 2609.0,\n 2086.0,\n 2691.0,\n 3186.5,\n 2970.0,\n 2650.0,\n 2639.5,\n 2432.0,\n 2641.0,\n 2625.0,\n 2540.0,\n 2052.0,\n 1913.0,\n 2088.0,\n 1891.0,\n 1892.0,\n 2785.0,\n 2479.0,\n 2457.0,\n 2372.0,\n 2443.0,\n 2316.0,\n 3106.0,\n 2773.0,\n 2644.0,\n 2682.5,\n 2510.0,\n 2588.5,\n 2757.5,\n 2717.0,\n 2705.0,\n 2476.0,\n 2725.5,\n 2490.0,\n 2670.0,\n 2802.0,\n 2611.0,\n 2226.0,\n 2639.5,\n 2596.0,\n 2647.0,\n 2598.5,\n 2525.5,\n 2801.5,\n 2513.0,\n 2667.0,\n 2642.5,\n 2628.0,\n 2405.0,\n 2350.0,\n 2615.5,\n 2625.0,\n 2691.0,\n 2099.0,\n 2223.0,\n 2767.0,\n 2467.0,\n 2228.0,\n 2505.0,\n 2537.0,\n 2711.0,\n 2638.0,\n 2702.5,\n 2661.5,\n 2407.5,\n 2691.0,\n 2266.0,\n 2640.0,\n 2637.0,\n 2563.0,\n 2630.0,\n 2541.5,\n 2543.0,\n 2693.0,\n 1875.0,\n 2444.5,\n 2557.0,\n 2649.0,\n 2361.5,\n 2680.5,\n 2132.0,\n 2651.5,\n 2578.5,\n 2712.0,\n 2645.0,\n 2124.0,\n 2665.0,\n 2623.5,\n 2496.0,\n 2345.0,\n 2443.5,\n 2439.0,\n 2299.0,\n 2618.0,\n 2612.0,\n 2461.0,\n 2359.5,\n 2477.0,\n 2598.0,\n 2623.0,\n 1919.0,\n 2201.5,\n 2566.5,\n 2845.0,\n 2432.0,\n 2333.0,\n 2484.0,\n 2619.0,\n 2427.0,\n 2385.0,\n 2547.0,\n 2657.0,\n 2961.0,\n 2511.0,\n 2006.0,\n 2750.0,\n 2786.0,\n 2595.5,\n 2686.0,\n 2056.0,\n 2533.0,\n 2589.0,\n 2749.0,\n 2636.5,\n 2614.0,\n 2725.0,\n 2317.0,\n 2372.0,\n 2719.5,\n 2622.5,\n 2649.5,\n 2468.0,\n 2450.0,\n 2620.5,\n 2292.0,\n 2765.0,\n 2499.5,\n 2850.0,\n 2790.5,\n 2418.5,\n 2379.0,\n 2479.0,\n 2599.5,\n 2333.5,\n 2619.0,\n 2408.0,\n 2438.0,\n 2712.5,\n 2576.0,\n 2230.0,\n 2243.0,\n 2733.0,\n 2744.0,\n 2621.0,\n 2362.0,\n 2666.5,\n 2302.0,\n 2637.0,\n 2520.0,\n 2406.5,\n 2731.0,\n 2569.0,\n 2700.0,\n 2666.0,\n 2680.0,\n 2558.0,\n 2520.5,\n 2522.0,\n 2578.5,\n 2605.0,\n 2373.0,\n 2511.0,\n 2660.0,\n 2657.0,\n 2788.0,\n 2504.5,\n 2576.5,\n 2380.0,\n 2517.0,\n 2541.0,\n 2516.0,\n 2559.5,\n 2578.0,\n 2464.0,\n 2514.0,\n 2370.0,\n 2313.0,\n 2618.0,\n 2822.0,\n 2850.0,\n 2499.0,\n 3075.0,\n 3041.0,\n 2737.0,\n 2779.0,\n 2745.0,\n 2494.0,\n 2526.5,\n 2607.0,\n 2700.0,\n 2689.0,\n 2024.0,\n 2492.0,\n 2839.0,\n 2632.0,\n 2568.0,\n 2631.0,\n 2476.5,\n 2609.0,\n 2552.0,\n 2250.5,\n 2154.0,\n 2701.0,\n 2735.0,\n 2582.0,\n 2593.0,\n 2484.5,\n 2516.0,\n 2368.5,\n 2548.5,\n 2652.0,\n 2479.0,\n 2589.0,\n 2371.5,\n 2404.0,\n 2320.0,\n 2471.0,\n 2664.5,\n 2559.0,\n 2913.0,\n 2536.0,\n 2588.0,\n 2432.0,\n 2691.5,\n 2642.0,\n 2522.0,\n 2567.0,\n 2087.0,\n 2515.0,\n 2671.0,\n 2522.5,\n 2468.5,\n 2423.0,\n 2316.0,\n 2128.0,\n 2268.0,\n 2704.0,\n 2151.0,\n 3008.0,\n 2428.0,\n 2477.0,\n 2626.0,\n 2688.0,\n 2376.0,\n 2528.0,\n 2557.0,\n 2755.0,\n 2653.0,\n 2362.0,\n 3094.0,\n 3025.0,\n 2703.0,\n 2716.0,\n 2559.0,\n 2588.0,\n 2451.0,\n 2595.0,\n 2490.0,\n 2097.0,\n 2590.5,\n 2646.0,\n 2743.0,\n 2457.5,\n 2620.0,\n 2590.0,\n 2575.5,\n 2553.0,\n 2300.0,\n 2280.0,\n 2352.5,\n 2247.5,\n 2723.0,\n 2224.0,\n 2758.5,\n 2727.0,\n 2613.0,\n 2669.0,\n 2581.0,\n 2400.5,\n 2863.0,\n 2458.0,\n 2694.5,\n 2710.0,\n 2770.5,\n 2602.0,\n 2698.0,\n 2784.0,\n 2694.0,\n 2513.0,\n 2545.0,\n 2566.0,\n 2791.5,\n 2699.5,\n 2477.0,\n 2197.0,\n 2690.0,\n 2150.5,\n 2395.0,\n 2473.0,\n 2466.0,\n 2529.0,\n 2732.5,\n 2449.0,\n 2444.0,\n 2645.5,\n 2517.5,\n 2362.5,\n 2593.5,\n 2115.0,\n 2238.5,\n 2351.0,\n 2427.5,\n 1869.0,\n 2242.5,\n 2374.0,\n 2150.0,\n 2725.0,\n 2632.0,\n 2232.5,\n 2355.0,\n 2437.0,\n 2310.5,\n 2248.0,\n 2717.0,\n 2588.0,\n 2549.5,\n 2603.0,\n 2713.0,\n 2684.0,\n 2462.0,\n 2256.0,\n 2514.0,\n 2138.0,\n 2410.0,\n 2788.0,\n 2470.0,\n 2627.0,\n 2667.0,\n 2560.0,\n 2482.0,\n 2559.0,\n 2468.0,\n 2578.0,\n 2830.0,\n 2588.0,\n 2633.0,\n 2631.0,\n 2928.0,\n 3121.0,\n 2616.0,\n 2037.0,\n 2396.0,\n 2367.0,\n 2121.0,\n 2613.0,\n 2703.5,\n 2320.0,\n 2300.0,\n 2768.0,\n 2628.0,\n 2607.5,\n 2250.0,\n 2501.0,\n 2252.0,\n 2379.5,\n 2370.5,\n 2569.0,\n 2701.5,\n 2292.5,\n 2858.0,\n 2660.5,\n 2365.0,\n 2442.0,\n 2288.0,\n 2575.0,\n 2486.0,\n 2586.0,\n 2784.0,\n 2237.0,\n 2231.0,\n 2535.0,\n 2233.0,\n 2175.0,\n 2251.0,\n 2520.0,\n 2746.0,\n 2327.5,\n 2637.0,\n 2378.0,\n 2475.0,\n 2719.5,\n 2649.0,\n 2526.0,\n 2838.0,\n 2513.0,\n 2383.0,\n 2782.0,\n 2645.0,\n 2522.0,\n 2891.0,\n 2225.0,\n 2524.0,\n 2491.0,\n 2905.0,\n 2242.5,\n 2311.0,\n 2413.0,\n 2606.0,\n 2778.5,\n 2426.0,\n 2583.0,\n 2507.0,\n 2706.0,\n 2408.0,\n 2705.0,\n 2600.0,\n 2709.5,\n 2461.0,\n 2538.0,\n 2591.0,\n 2766.0,\n 2738.0,\n 2311.0,\n 2479.0,\n 2364.0,\n 2495.0,\n 2437.0,\n 2656.0,\n 2394.0,\n 2259.0,\n 2356.0,\n 2636.0,\n 2673.0,\n 2817.5,\n 2065.0,\n 2225.0,\n 2379.0,\n 2605.0,\n 2272.0,\n 2467.0,\n 2580.0,\n 1845.0,\n 2602.0,\n 2703.0,\n 2280.0,\n 2613.0,\n 2008.5,\n 2545.0,\n 2607.0,\n 2519.5,\n 2530.0,\n 2267.0,\n 2635.0,\n 2705.0,\n 2422.0,\n 2534.5,\n 2718.0,\n 2541.0,\n 2526.0,\n 2482.0,\n 2585.0,\n 2604.0,\n 2268.0,\n 2700.0,\n 2576.0,\n 2593.0,\n 2653.5,\n 2700.0,\n 2602.0,\n 2645.0,\n 2660.0,\n 2538.0,\n 2322.0,\n 2658.5,\n 2775.0,\n 2575.0,\n 2477.0,\n 2502.0,\n 2285.5,\n 2664.0,\n 2743.0,\n 2646.0,\n 2833.0,\n 2563.0,\n 2550.5,\n 2511.0,\n 2599.0,\n 2479.0,\n 2525.0,\n 2472.0,\n 2622.0,\n 2411.0,\n 2438.5,\n 2568.0,\n 2256.0,\n 2588.0,\n 2490.0,\n 2518.0,\n 2449.0,\n 2597.5,\n 2698.5,\n 2521.0,\n 2668.0,\n 2459.0,\n 2608.0,\n 2398.0,\n 2341.0,\n 2578.5,\n 2451.0,\n 2580.0,\n 2681.5,\n 2431.0,\n 2734.0,\n 2463.0,\n 2510.0,\n 2336.0,\n 2601.5,\n 2680.0,\n 2647.0,\n 2683.0,\n 2527.0,\n 2508.5,\n 2659.5,\n 2512.0,\n 2863.0,\n 2568.0,\n 2414.0,\n 2544.0,\n 2620.0,\n 2568.0,\n 2559.0,\n 2402.0,\n 2355.0,\n 2667.0,\n 2630.0,\n 2805.5,\n 3145.0,\n 2624.0,\n 2273.0,\n 2708.0,\n 2415.0,\n 2544.5,\n 2572.0,\n 2791.5,\n 2624.0,\n 2553.0,\n 2649.0,\n 2208.0,\n 2665.0,\n 2380.0,\n 2407.5,\n 2740.0,\n 2714.5,\n 2506.0,\n 2679.0,\n 2534.0,\n 2236.0,\n 2353.0,\n 2555.5,\n 2438.0,\n 2575.0,\n 2615.0,\n 2871.0,\n 2605.5,\n 2368.5,\n 2792.0,\n 2592.0,\n 2497.5,\n 2633.0,\n 2438.0,\n 2440.0,\n 2658.5,\n 2631.0,\n 2600.0,\n 2418.0,\n 2514.5,\n 2288.0,\n 2486.0,\n 2702.0,\n 2585.0,\n 2637.5,\n 2495.0,\n 2655.5,\n 2560.5,\n 2633.5,\n 2671.5,\n 2600.0,\n 2523.0,\n 2639.0,\n 2288.0,\n 2703.0,\n 2451.5,\n 2520.0,\n 2537.0,\n 2697.0,\n 2311.0,\n 2392.0,\n 2745.0,\n 2590.0,\n 2674.5,\n 2694.0,\n 2376.0,\n 2616.0,\n 2551.0,\n 2628.0,\n 2193.5,\n 2566.0,\n 2630.0,\n 2676.0,\n 2782.0,\n 2767.0,\n 2869.0,\n 2540.0,\n 2277.0,\n 2403.0,\n 2545.0,\n 2409.0,\n 2479.0,\n 2655.5,\n 2239.0,\n 2409.0,\n 2531.5,\n 2597.0,\n 2308.0,\n 2732.5,\n 2470.0,\n 2493.0,\n 2477.0,\n ...]"
     },
     "execution_count": 27,
     "metadata": {},
     "output_type": "execute_result"
    }
   ],
   "source": [
    "rss = [st.ranksums(df[df.columns[i]][df['class']== 'M'], df[df.columns[i]][df['class']== 'H'])[0] * sig + mu for i in range(num_genes)]\n",
    "rss\n",
    "# TODO: There are non round values here. WTF?"
   ],
   "metadata": {
    "collapsed": false,
    "pycharm": {
     "name": "#%%\n"
    }
   }
  },
  {
   "cell_type": "code",
   "execution_count": 28,
   "outputs": [
    {
     "data": {
      "text/plain": "<Figure size 432x288 with 1 Axes>",
      "image/png": "[encoded data removed]"
     },
     "metadata": {},
     "output_type": "display_data"
    }
   ],
   "source": [
    "iqr = st.iqr(rss)\n",
    "sf, ax = plt.subplots(1)\n",
    "sns.histplot(rss)\n",
    "ax.annotate(\"IQR\", xy=(iqr, 0.25 + 0.02), color='black', fontsize=14)\n",
    "ax.axhline(y=0.25, color='red')\n",
    "plt.ylabel(\"RS(g)\")\n",
    "plt.xlabel(\"g\")\n",
    "plt.title(\"RS(g) Histogram\".title())\n",
    "plt.show()"
   ],
   "metadata": {
    "collapsed": false,
    "pycharm": {
     "name": "#%%\n"
    }
   }
  },
  {
   "cell_type": "markdown",
   "source": [
    "### c. DifferentialExpression\n",
    "The purpose is to determine the statistical significance of differential expression (DE) observed for each gene in H vs M. Evaluate the DE in both one-sided directions for every gene, using both Student t-test and WRS test.\n",
    "Report the number of genes overexpressed in M vs H (M > H) at a p-value better (≤) than 0.07 and separately genes underexpressed in M vs H (M < H) at a p-value better than 0.07. For both directions use both a Student t-test and a WRS test."
   ],
   "metadata": {
    "collapsed": false,
    "pycharm": {
     "name": "#%% md\n"
    }
   }
  },
  {
   "cell_type": "code",
   "execution_count": 31,
   "outputs": [
    {
     "ename": "TypeError",
     "evalue": "ranksums() got an unexpected keyword argument 'alternative'",
     "output_type": "error",
     "traceback": [
      "\u001B[0;31m---------------------------------------------------------------------------\u001B[0m",
      "\u001B[0;31mTypeError\u001B[0m                                 Traceback (most recent call last)",
      "\u001B[0;32m<ipython-input-31-ecf45d24d306>\u001B[0m in \u001B[0;36m<module>\u001B[0;34m\u001B[0m\n\u001B[1;32m      1\u001B[0m \u001B[0;31m# WRS\u001B[0m\u001B[0;34m\u001B[0m\u001B[0;34m\u001B[0m\u001B[0;34m\u001B[0m\u001B[0m\n\u001B[0;32m----> 2\u001B[0;31m \u001B[0mp_vals_m_over_h\u001B[0m \u001B[0;34m=\u001B[0m \u001B[0;34m[\u001B[0m\u001B[0mst\u001B[0m\u001B[0;34m.\u001B[0m\u001B[0mranksums\u001B[0m\u001B[0;34m(\u001B[0m\u001B[0mdf\u001B[0m\u001B[0;34m[\u001B[0m\u001B[0mdf\u001B[0m\u001B[0;34m.\u001B[0m\u001B[0mcolumns\u001B[0m\u001B[0;34m[\u001B[0m\u001B[0mi\u001B[0m\u001B[0;34m]\u001B[0m\u001B[0;34m]\u001B[0m\u001B[0;34m[\u001B[0m\u001B[0mdf\u001B[0m\u001B[0;34m[\u001B[0m\u001B[0;34m'class'\u001B[0m\u001B[0;34m]\u001B[0m\u001B[0;34m==\u001B[0m \u001B[0;34m'M'\u001B[0m\u001B[0;34m]\u001B[0m\u001B[0;34m,\u001B[0m \u001B[0mdf\u001B[0m\u001B[0;34m[\u001B[0m\u001B[0mdf\u001B[0m\u001B[0;34m.\u001B[0m\u001B[0mcolumns\u001B[0m\u001B[0;34m[\u001B[0m\u001B[0mi\u001B[0m\u001B[0;34m]\u001B[0m\u001B[0;34m]\u001B[0m\u001B[0;34m[\u001B[0m\u001B[0mdf\u001B[0m\u001B[0;34m[\u001B[0m\u001B[0;34m'class'\u001B[0m\u001B[0;34m]\u001B[0m\u001B[0;34m==\u001B[0m \u001B[0;34m'H'\u001B[0m\u001B[0;34m]\u001B[0m\u001B[0;34m,\u001B[0m \u001B[0malternative\u001B[0m\u001B[0;34m=\u001B[0m\u001B[0;34m'greater'\u001B[0m\u001B[0;34m)\u001B[0m\u001B[0;34m[\u001B[0m\u001B[0;36m1\u001B[0m\u001B[0;34m]\u001B[0m \u001B[0;32mfor\u001B[0m \u001B[0mi\u001B[0m \u001B[0;32min\u001B[0m \u001B[0mrange\u001B[0m\u001B[0;34m(\u001B[0m\u001B[0mnum_genes\u001B[0m\u001B[0;34m)\u001B[0m\u001B[0;34m]\u001B[0m\u001B[0;34m\u001B[0m\u001B[0;34m\u001B[0m\u001B[0m\n\u001B[0m\u001B[1;32m      3\u001B[0m \u001B[0mp_vals_m_over_h\u001B[0m \u001B[0;34m=\u001B[0m \u001B[0;34m[\u001B[0m\u001B[0mi\u001B[0m \u001B[0;32mfor\u001B[0m \u001B[0mi\u001B[0m \u001B[0;32min\u001B[0m \u001B[0mp_vals_m_over_h\u001B[0m \u001B[0;32mif\u001B[0m \u001B[0mi\u001B[0m \u001B[0;34m<=\u001B[0m \u001B[0;36m0.07\u001B[0m\u001B[0;34m]\u001B[0m\u001B[0;34m\u001B[0m\u001B[0;34m\u001B[0m\u001B[0m\n\u001B[1;32m      4\u001B[0m \u001B[0mprint\u001B[0m\u001B[0;34m(\u001B[0m\u001B[0;34mf\"Under WRS test, there are {len(p_vals_m_over_h)} genes in which M > H at a p-value better than 0.07\"\u001B[0m\u001B[0;34m)\u001B[0m\u001B[0;34m\u001B[0m\u001B[0;34m\u001B[0m\u001B[0m\n\u001B[1;32m      5\u001B[0m \u001B[0mp_vals_h_over_m\u001B[0m \u001B[0;34m=\u001B[0m \u001B[0;34m[\u001B[0m\u001B[0mst\u001B[0m\u001B[0;34m.\u001B[0m\u001B[0mranksums\u001B[0m\u001B[0;34m(\u001B[0m\u001B[0mdf\u001B[0m\u001B[0;34m[\u001B[0m\u001B[0mdf\u001B[0m\u001B[0;34m.\u001B[0m\u001B[0mcolumns\u001B[0m\u001B[0;34m[\u001B[0m\u001B[0mi\u001B[0m\u001B[0;34m]\u001B[0m\u001B[0;34m]\u001B[0m\u001B[0;34m[\u001B[0m\u001B[0mdf\u001B[0m\u001B[0;34m[\u001B[0m\u001B[0;34m'class'\u001B[0m\u001B[0;34m]\u001B[0m\u001B[0;34m==\u001B[0m \u001B[0;34m'H'\u001B[0m\u001B[0;34m]\u001B[0m\u001B[0;34m,\u001B[0m \u001B[0mdf\u001B[0m\u001B[0;34m[\u001B[0m\u001B[0mdf\u001B[0m\u001B[0;34m.\u001B[0m\u001B[0mcolumns\u001B[0m\u001B[0;34m[\u001B[0m\u001B[0mi\u001B[0m\u001B[0;34m]\u001B[0m\u001B[0;34m]\u001B[0m\u001B[0;34m[\u001B[0m\u001B[0mdf\u001B[0m\u001B[0;34m[\u001B[0m\u001B[0;34m'class'\u001B[0m\u001B[0;34m]\u001B[0m\u001B[0;34m==\u001B[0m \u001B[0;34m'M'\u001B[0m\u001B[0;34m]\u001B[0m\u001B[0;34m,\u001B[0m \u001B[0malternative\u001B[0m\u001B[0;34m=\u001B[0m\u001B[0;34m'greater'\u001B[0m\u001B[0;34m)\u001B[0m\u001B[0;34m[\u001B[0m\u001B[0;36m1\u001B[0m\u001B[0;34m]\u001B[0m \u001B[0;32mfor\u001B[0m \u001B[0mi\u001B[0m \u001B[0;32min\u001B[0m \u001B[0mrange\u001B[0m\u001B[0;34m(\u001B[0m\u001B[0mnum_genes\u001B[0m\u001B[0;34m)\u001B[0m\u001B[0;34m]\u001B[0m\u001B[0;34m\u001B[0m\u001B[0;34m\u001B[0m\u001B[0m\n",
      "\u001B[0;32m<ipython-input-31-ecf45d24d306>\u001B[0m in \u001B[0;36m<listcomp>\u001B[0;34m(.0)\u001B[0m\n\u001B[1;32m      1\u001B[0m \u001B[0;31m# WRS\u001B[0m\u001B[0;34m\u001B[0m\u001B[0;34m\u001B[0m\u001B[0;34m\u001B[0m\u001B[0m\n\u001B[0;32m----> 2\u001B[0;31m \u001B[0mp_vals_m_over_h\u001B[0m \u001B[0;34m=\u001B[0m \u001B[0;34m[\u001B[0m\u001B[0mst\u001B[0m\u001B[0;34m.\u001B[0m\u001B[0mranksums\u001B[0m\u001B[0;34m(\u001B[0m\u001B[0mdf\u001B[0m\u001B[0;34m[\u001B[0m\u001B[0mdf\u001B[0m\u001B[0;34m.\u001B[0m\u001B[0mcolumns\u001B[0m\u001B[0;34m[\u001B[0m\u001B[0mi\u001B[0m\u001B[0;34m]\u001B[0m\u001B[0;34m]\u001B[0m\u001B[0;34m[\u001B[0m\u001B[0mdf\u001B[0m\u001B[0;34m[\u001B[0m\u001B[0;34m'class'\u001B[0m\u001B[0;34m]\u001B[0m\u001B[0;34m==\u001B[0m \u001B[0;34m'M'\u001B[0m\u001B[0;34m]\u001B[0m\u001B[0;34m,\u001B[0m \u001B[0mdf\u001B[0m\u001B[0;34m[\u001B[0m\u001B[0mdf\u001B[0m\u001B[0;34m.\u001B[0m\u001B[0mcolumns\u001B[0m\u001B[0;34m[\u001B[0m\u001B[0mi\u001B[0m\u001B[0;34m]\u001B[0m\u001B[0;34m]\u001B[0m\u001B[0;34m[\u001B[0m\u001B[0mdf\u001B[0m\u001B[0;34m[\u001B[0m\u001B[0;34m'class'\u001B[0m\u001B[0;34m]\u001B[0m\u001B[0;34m==\u001B[0m \u001B[0;34m'H'\u001B[0m\u001B[0;34m]\u001B[0m\u001B[0;34m,\u001B[0m \u001B[0malternative\u001B[0m\u001B[0;34m=\u001B[0m\u001B[0;34m'greater'\u001B[0m\u001B[0;34m)\u001B[0m\u001B[0;34m[\u001B[0m\u001B[0;36m1\u001B[0m\u001B[0;34m]\u001B[0m \u001B[0;32mfor\u001B[0m \u001B[0mi\u001B[0m \u001B[0;32min\u001B[0m \u001B[0mrange\u001B[0m\u001B[0;34m(\u001B[0m\u001B[0mnum_genes\u001B[0m\u001B[0;34m)\u001B[0m\u001B[0;34m]\u001B[0m\u001B[0;34m\u001B[0m\u001B[0;34m\u001B[0m\u001B[0m\n\u001B[0m\u001B[1;32m      3\u001B[0m \u001B[0mp_vals_m_over_h\u001B[0m \u001B[0;34m=\u001B[0m \u001B[0;34m[\u001B[0m\u001B[0mi\u001B[0m \u001B[0;32mfor\u001B[0m \u001B[0mi\u001B[0m \u001B[0;32min\u001B[0m \u001B[0mp_vals_m_over_h\u001B[0m \u001B[0;32mif\u001B[0m \u001B[0mi\u001B[0m \u001B[0;34m<=\u001B[0m \u001B[0;36m0.07\u001B[0m\u001B[0;34m]\u001B[0m\u001B[0;34m\u001B[0m\u001B[0;34m\u001B[0m\u001B[0m\n\u001B[1;32m      4\u001B[0m \u001B[0mprint\u001B[0m\u001B[0;34m(\u001B[0m\u001B[0;34mf\"Under WRS test, there are {len(p_vals_m_over_h)} genes in which M > H at a p-value better than 0.07\"\u001B[0m\u001B[0;34m)\u001B[0m\u001B[0;34m\u001B[0m\u001B[0;34m\u001B[0m\u001B[0m\n\u001B[1;32m      5\u001B[0m \u001B[0mp_vals_h_over_m\u001B[0m \u001B[0;34m=\u001B[0m \u001B[0;34m[\u001B[0m\u001B[0mst\u001B[0m\u001B[0;34m.\u001B[0m\u001B[0mranksums\u001B[0m\u001B[0;34m(\u001B[0m\u001B[0mdf\u001B[0m\u001B[0;34m[\u001B[0m\u001B[0mdf\u001B[0m\u001B[0;34m.\u001B[0m\u001B[0mcolumns\u001B[0m\u001B[0;34m[\u001B[0m\u001B[0mi\u001B[0m\u001B[0;34m]\u001B[0m\u001B[0;34m]\u001B[0m\u001B[0;34m[\u001B[0m\u001B[0mdf\u001B[0m\u001B[0;34m[\u001B[0m\u001B[0;34m'class'\u001B[0m\u001B[0;34m]\u001B[0m\u001B[0;34m==\u001B[0m \u001B[0;34m'H'\u001B[0m\u001B[0;34m]\u001B[0m\u001B[0;34m,\u001B[0m \u001B[0mdf\u001B[0m\u001B[0;34m[\u001B[0m\u001B[0mdf\u001B[0m\u001B[0;34m.\u001B[0m\u001B[0mcolumns\u001B[0m\u001B[0;34m[\u001B[0m\u001B[0mi\u001B[0m\u001B[0;34m]\u001B[0m\u001B[0;34m]\u001B[0m\u001B[0;34m[\u001B[0m\u001B[0mdf\u001B[0m\u001B[0;34m[\u001B[0m\u001B[0;34m'class'\u001B[0m\u001B[0;34m]\u001B[0m\u001B[0;34m==\u001B[0m \u001B[0;34m'M'\u001B[0m\u001B[0;34m]\u001B[0m\u001B[0;34m,\u001B[0m \u001B[0malternative\u001B[0m\u001B[0;34m=\u001B[0m\u001B[0;34m'greater'\u001B[0m\u001B[0;34m)\u001B[0m\u001B[0;34m[\u001B[0m\u001B[0;36m1\u001B[0m\u001B[0;34m]\u001B[0m \u001B[0;32mfor\u001B[0m \u001B[0mi\u001B[0m \u001B[0;32min\u001B[0m \u001B[0mrange\u001B[0m\u001B[0;34m(\u001B[0m\u001B[0mnum_genes\u001B[0m\u001B[0;34m)\u001B[0m\u001B[0;34m]\u001B[0m\u001B[0;34m\u001B[0m\u001B[0;34m\u001B[0m\u001B[0m\n",
      "\u001B[0;31mTypeError\u001B[0m: ranksums() got an unexpected keyword argument 'alternative'"
     ]
    }
   ],
   "source": [
    "# WRS\n",
    "wrs_p_vals_m_over_h = [st.ranksums(df[df.columns[i]][df['class'] == 'M'], df[df.columns[i]][df['class'] == 'H'])[1] for i in range(num_genes)]\n",
    "wrs_p_vals_m_over_h = [i for i in wrs_p_vals_m_over_h if i <= 0.07]\n",
    "print(f\"Under WRS test, there are {len(wrs_p_vals_m_over_h)} genes in which M > H at a p-value better than 0.07\")\n",
    "wrs_p_vals_h_over_m = [st.ranksums(df[df.columns[i]][df['class'] == 'H'], df[df.columns[i]][df['class'] == 'M'])[1] for i in range(num_genes)]\n",
    "wrs_p_vals_h_over_m = [i for i in wrs_p_vals_h_over_m if i <= 0.07]\n",
    "print(f\"Under WRS test, there are {len(wrs_p_vals_m_over_h)} genes in which M < H at a p-value better than 0.07\")\n",
    "#  alternative='greater'"
   ],
   "metadata": {
    "collapsed": false,
    "pycharm": {
     "name": "#%%\n"
    }
   }
  },
  {
   "cell_type": "code",
   "execution_count": 10,
   "outputs": [
    {
     "data": {
      "text/plain": "(99, 54629)"
     },
     "execution_count": 10,
     "metadata": {},
     "output_type": "execute_result"
    }
   ],
   "source": [
    "# Student T-Test\n",
    "t_p_vals_h_over_m = [st.ttest_ind(df[df.columns[i]][df['class']== 'H'], df[df.columns[i]][df['class']== 'M'], alternative='greater')[1] for i in range(num_genes)]"
   ],
   "metadata": {
    "collapsed": false,
    "pycharm": {
     "name": "#%%\n"
    }
   }
  },
  {
   "cell_type": "code",
   "execution_count": 11,
   "outputs": [
    {
     "data": {
      "text/plain": "54675"
     },
     "execution_count": 11,
     "metadata": {},
     "output_type": "execute_result"
    }
   ],
   "source": [
    "num_genes"
   ],
   "metadata": {
    "collapsed": false,
    "pycharm": {
     "name": "#%%\n"
    }
   }
  },
  {
   "cell_type": "code",
   "execution_count": null,
   "outputs": [],
   "source": [],
   "metadata": {
    "collapsed": false,
    "pycharm": {
     "name": "#%%\n"
    }
   }
  },
  {
   "cell_type": "code",
   "execution_count": null,
   "outputs": [],
   "source": [],
   "metadata": {
    "collapsed": false,
    "pycharm": {
     "name": "#%%\n"
    }
   }
  },
  {
   "cell_type": "code",
   "execution_count": null,
   "outputs": [],
   "source": [],
   "metadata": {
    "collapsed": false,
    "pycharm": {
     "name": "#%%\n"
    }
   }
  }
 ],
 "metadata": {
  "kernelspec": {
   "display_name": "Python 3",
   "language": "python",
   "name": "python3"
  },
  "language_info": {
   "codemirror_mode": {
    "name": "ipython",
    "version": 2
   },
   "file_extension": ".py",
   "mimetype": "text/x-python",
   "name": "python",
   "nbconvert_exporter": "python",
   "pygments_lexer": "ipython2",
   "version": "2.7.6"
  }
 },
 "nbformat": 4,
 "nbformat_minor": 0
}