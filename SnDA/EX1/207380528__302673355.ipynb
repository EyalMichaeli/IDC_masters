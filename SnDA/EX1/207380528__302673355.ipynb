{
  "nbformat": 4,
  "nbformat_minor": 0,
  "metadata": {
    "kernelspec": {
      "display_name": "Python 3",
      "language": "python",
      "name": "python3"
    },
    "language_info": {
      "codemirror_mode": {
        "name": "ipython",
        "version": 3
      },
      "file_extension": ".py",
      "mimetype": "text/x-python",
      "name": "python",
      "nbconvert_exporter": "python",
      "pygments_lexer": "ipython3",
      "version": "3.8.8"
    },
    "colab": {
      "name": "207380528_ 302673355.ipynb",
      "provenance": [],
      "collapsed_sections": [
        "NRVrV8A39tZU"
      ]
    }
  },
  "cells": [
    {
      "cell_type": "markdown",
      "metadata": {
        "id": "KPWQ9bYJ9tZO"
      },
      "source": [
        "### IDs:\n",
        "Insert yours IDs to the cell below"
      ]
    },
    {
      "cell_type": "markdown",
      "metadata": {
        "id": "HELBICTo9tZS"
      },
      "source": [
        "ID #1: 207380528\n",
        "\n",
        "ID #2: 302673355\n"
      ]
    },
    {
      "cell_type": "markdown",
      "metadata": {
        "id": "pC4i2Emt9tZT"
      },
      "source": [
        "## Read the following instructions carefully:\n",
        "\n",
        "1. This jupyter notebook contains all the step by step instructions needed for this exercise.\n",
        "1. You are free to add cells.\n",
        "1. Write your functions and your answers in this jupyter notebook only.\n",
        "1. Answers to theoretical questions should be written in **markdown cells (with $\\LaTeX$ support)**.\n",
        "1. Submit this jupyter notebook only using your ID as a filename. Not to use ZIP or RAR. For example, your Moodle submission file name should look like this (two id numbers): `123456789_987654321.ipynb`."
      ]
    },
    {
      "cell_type": "code",
      "metadata": {
        "id": "ZR4mBF2eqxop"
      },
      "source": [
        "import pandas as pd\n",
        "import numpy as np\n",
        "import matplotlib.pyplot as plt\n",
        "import seaborn as sns\n",
        "import scipy.stats as stats\n",
        "import math\n",
        "import sys\n",
        "\n",
        "sns.set_style(\"dark\")\n",
        "%matplotlib inline\n"
      ],
      "execution_count": null,
      "outputs": []
    },
    {
      "cell_type": "markdown",
      "metadata": {
        "id": "nA7hwZF39tZT"
      },
      "source": [
        "### Question 1 - Defective products"
      ]
    },
    {
      "cell_type": "markdown",
      "metadata": {
        "id": "c7bqecaP9tZU"
      },
      "source": [
        "In a manufacturing pipeline products are 3% defective. We are interested in examining a defective product to see what goes wrong on the belt. We need to ask the facility manager to send us a set of independent samples for examination."
      ]
    },
    {
      "cell_type": "markdown",
      "metadata": {
        "id": "NRVrV8A39tZU"
      },
      "source": [
        "#### 1.A\n",
        "\n",
        "How many independent samples should we ask for in order to have a 85% probability of having at least one defective product in the batch sent? You should write a function."
      ]
    },
    {
      "cell_type": "markdown",
      "metadata": {
        "id": "mkmRZsO-9tZV"
      },
      "source": [
        "#### Answer\n",
        "Define a random variable that counts the probability of getting a defective product: $X$~$Binom(0.03,n)$.\n",
        "We'll calculate $1-P(k=0)=0.85$\n",
        "\n",
        "$1-P(k=0)=1-$ ${n}\\choose{0}$ $\\cdot 0.03^0 \\cdot 0.97^n = 0.85$\n",
        "\n",
        "$-0.97^n=-0.15$\n",
        "\n",
        "$log_{0.97}{0.15}=n$"
      ]
    },
    {
      "cell_type": "code",
      "metadata": {
        "id": "lW9S7_cj9tZW",
        "colab": {
          "base_uri": "https://localhost:8080/"
        },
        "outputId": "4ee63938-6337-4f70-d5fd-4f4e5771019e"
      },
      "source": [
        "def solve_for_n(binom_p, desired_p):\n",
        "    return math.ceil(math.log(1-desired_p, 1-binom_p)) # ceil because we can't ask for a <float> number.\n",
        "\n",
        "print(f'We would need {solve_for_n(0.03, 0.85)} products')"
      ],
      "execution_count": null,
      "outputs": [
        {
          "output_type": "stream",
          "name": "stdout",
          "text": [
            "We would need 63 products\n"
          ]
        }
      ]
    },
    {
      "cell_type": "markdown",
      "metadata": {
        "id": "UDQ6q6Em9tZZ"
      },
      "source": [
        "#### 1.B\n",
        "Answer this part again with the following changes: products are 4% defective and we want a 95% probability of at least one defective product in the batch."
      ]
    },
    {
      "cell_type": "markdown",
      "metadata": {
        "id": "wknN8sG4KEOV"
      },
      "source": [
        "#### Answer"
      ]
    },
    {
      "cell_type": "code",
      "metadata": {
        "id": "VomnYjqg9tZZ",
        "colab": {
          "base_uri": "https://localhost:8080/"
        },
        "outputId": "19ccf8ba-b93a-4676-8e1d-d455138eff76"
      },
      "source": [
        "print(f'We would need {solve_for_n(0.04, 0.95)} products')"
      ],
      "execution_count": null,
      "outputs": [
        {
          "output_type": "stream",
          "name": "stdout",
          "text": [
            "We would need 74 products\n"
          ]
        }
      ]
    },
    {
      "cell_type": "markdown",
      "metadata": {
        "id": "xT7V0Tab9tZa"
      },
      "source": [
        "#### 1.C \n",
        "\n",
        "Consider the following cases and calculate how many independent samples are required: \n",
        "\n",
        "1. Products are 10% defective and we want a 90% probability of at least 5 defective products in the batch.\n",
        "1. Products are 30% defective and we want a 90% probability of at least 15 defective products in the batch.\n",
        "\n",
        "Explain the difference between the two results. You should use mathematical reasoning based on the properties of distributions you saw in class and visualizations in your answer."
      ]
    },
    {
      "cell_type": "markdown",
      "metadata": {
        "id": "pk73lmYuKHmY"
      },
      "source": [
        "#### Answer"
      ]
    },
    {
      "cell_type": "markdown",
      "metadata": {
        "id": "WKuaJqfG9tZa"
      },
      "source": [
        "We'll set a new random variable, Y, as a negative binomial. \n",
        "\n",
        "$Y \\sim NegBinom(p,r)$ where $p$ is the probability to get a defective product and $r$ is the number of successes - number of defective products. And then we'll try differnet values of x until we find the $P(X \\leq x) \\geq 0.9$"
      ]
    },
    {
      "cell_type": "code",
      "metadata": {
        "id": "_cGMaIVUmYyf"
      },
      "source": [
        "from scipy.stats import nbinom\n",
        "\n",
        "\n",
        "p = 0.1 # p in a NB distibution\n",
        "n_defective = 5 # Kth success in a NB distibution\n",
        "\n",
        "confidence_p = 0.9 # target probability\n",
        "\n",
        "# the n_defective/ (p **2) is just some intuitive proxy. \n",
        "# I will stop once it reaches the right probabilty.\n",
        "x_range = np.arange(n_defective, n_defective/ p / 0.5) \n",
        "\n",
        "cdf = [nbinom.cdf(x, n_defective, p, loc=0) for x in x_range]\n"
      ],
      "execution_count": null,
      "outputs": []
    },
    {
      "cell_type": "markdown",
      "metadata": {
        "id": "8gZHa4Qpvopc"
      },
      "source": [
        "Let's plot the CDF values with their corresponding x values:"
      ]
    },
    {
      "cell_type": "code",
      "metadata": {
        "colab": {
          "base_uri": "https://localhost:8080/",
          "height": 651
        },
        "id": "boL2-aWJt6Qx",
        "outputId": "fe81e17e-375e-42bf-dce3-e1f474adefa7"
      },
      "source": [
        "fig, ax = plt.subplots(1, 1, figsize=(12, 10))\n",
        "ax.plot(x_range, cdf, 'bo', ms=8, label='NB CDF')\n",
        "ax.plot(x_range, cdf, 'bo', ms=8, label='NB CDF')\n",
        "\n",
        "plt.ylabel(\"CDF value\", fontsize=\"18\")\n",
        "plt.xlabel(\"X - number of samples\".title(), fontsize=\"18\")\n",
        "\n",
        "plt.title(\"Negative Binomial CDF - No. of samples & its corresponding CDF\", fontsize=\"18\")\n",
        "\n",
        "ax.vlines(x_range, 0, cdf, colors='b', lw=5, alpha=0.5)"
      ],
      "execution_count": null,
      "outputs": [
        {
          "output_type": "execute_result",
          "data": {
            "text/plain": [
              "<matplotlib.collections.LineCollection at 0x7fa1c8b2af10>"
            ]
          },
          "metadata": {},
          "execution_count": 5
        },
        {
          "output_type": "display_data",
          "data": {
            "image/png": "[encoded data removed]",
            "text/plain": [
              "<Figure size 864x720 with 1 Axes>"
            ]
          },
          "metadata": {
            "needs_background": "light"
          }
        }
      ]
    },
    {
      "cell_type": "markdown",
      "metadata": {
        "id": "UbI0cxyQvyZy"
      },
      "source": [
        "And now, let's get a real value so we can say how many sample we need exactly:"
      ]
    },
    {
      "cell_type": "code",
      "metadata": {
        "colab": {
          "base_uri": "https://localhost:8080/"
        },
        "id": "7-I0vUQev6kL",
        "outputId": "b2cc9814-25f3-491b-997c-6a77d9adc8f9"
      },
      "source": [
        "higher_then_threshold = [cdf_val for cdf_val in cdf if cdf_val > confidence_p]\n",
        "highest_and_closest_to_p_index = cdf.index(min(higher_then_threshold))\n",
        "\n",
        "needed_samples = x_range[highest_and_closest_to_p_index]\n",
        "\n",
        "print(f\"Needed samples: {needed_samples}\")\n"
      ],
      "execution_count": null,
      "outputs": [
        {
          "output_type": "stream",
          "name": "stdout",
          "text": [
            "Needed samples: 73.0\n"
          ]
        }
      ]
    },
    {
      "cell_type": "markdown",
      "metadata": {
        "id": "2OpOPRQ_2Om3"
      },
      "source": [
        "Let's make sure it's really the minimum probabilty that is higher than 0.9."
      ]
    },
    {
      "cell_type": "code",
      "metadata": {
        "id": "S9drzBDZ1eBJ",
        "colab": {
          "base_uri": "https://localhost:8080/"
        },
        "outputId": "6bd9208b-a615-4ab1-b56f-735c815c80b5"
      },
      "source": [
        "compare = [nbinom.cdf(x, n_defective, p, loc=0) for x in (needed_samples-1, needed_samples, needed_samples+1)]\n",
        "print(f\"P for needed_samples-1: {compare[0]:.4f}, P for needed_samples: {compare[1]:.4f}, P for needed_samples+1: {compare[2]:.4f}\")"
      ],
      "execution_count": null,
      "outputs": [
        {
          "output_type": "stream",
          "name": "stdout",
          "text": [
            "P for needed_samples-1: 0.8944, P for needed_samples: 0.9006, P for needed_samples+1: 0.9065\n"
          ]
        }
      ]
    },
    {
      "cell_type": "markdown",
      "metadata": {
        "id": "9XtRAUur9tZc"
      },
      "source": [
        "### Question 2 - Rent distributions in Randomistan"
      ]
    },
    {
      "cell_type": "markdown",
      "metadata": {
        "id": "dEqzEyx_9tZc"
      },
      "source": [
        "The state of Randomistan conducted a survey to study the distribution of rent paid in two neighboring towns, Stochastic Heights and Random Grove, to be denoted SH and RG.<br> \n",
        "\n",
        "Here are some findings of the survey:\n",
        "* The population of SH and RG is 16,000 and 22,000 respectively. <br>\n",
        "* The mean rent in SH and RG is 6300RCU and 4200RCU respectively.\n",
        "* The median rent is 4600RCU in both towns.\n",
        "* The IQR of the rent is smaller in SH than in RG.\n",
        "\n",
        "All data generated in this question needs to be consistent with these findings."
      ]
    },
    {
      "cell_type": "markdown",
      "metadata": {
        "id": "BO2QtomZ9tZc"
      },
      "source": [
        "#### 2.A\n",
        "Draw histograms that describe 2 different scenarii of possible distributions of rent in the two towns.\u000bYour histograms should:<br>\n",
        "* Use bins of 100RCU each.\n",
        "* Have at least 10 non zero bins."
      ]
    },
    {
      "cell_type": "markdown",
      "metadata": {
        "id": "mKTi_28w9tZc"
      },
      "source": [
        "#### Answer\n",
        "\n",
        "First, we'll map out the requirements and the testing function, to ensure we can test our solutions easily:"
      ]
    },
    {
      "cell_type": "code",
      "metadata": {
        "id": "n4Cqz7cF9tZd"
      },
      "source": [
        "SH = {'pop': 16000, 'rent_mean': 6300, 'rent_median': 4600}\n",
        "RG = {'pop': 22000, 'rent_mean': 4200, 'rent_median': 4600}\n",
        "\n",
        "epsilon = sys.float_info.epsilon\n",
        "\n",
        "def calc_iqr(array):\n",
        "  q75, q25 = np.percentile(array, [75, 25])\n",
        "  return q75 - q25\n",
        "\n",
        "\n",
        "\n",
        "def verify_stats(sh_rent_array, rg_rent_array, sh_phi_array=None, rg_phi_array=None, phi_flag=False):\n",
        "    print('Verfying pop size stat...')\n",
        "    if len(sh_rent_array) - SH['pop'] > epsilon:\n",
        "      print(f'The generated data for SH has a diff of {len(sh_rent_array) - SH[\"pop\"]} observations')\n",
        "    elif len(rg_rent_array) - RG['pop'] > epsilon:\n",
        "      print(f'The generated data for RG has a diff of {len(rg_rent_array) - RG[\"pop\"]} observations')\n",
        "    else:\n",
        "      print('Seems fine.')\n",
        "      \n",
        "    print('Verfying rent mean stat...')\n",
        "    if np.mean(sh_rent_array) - SH['rent_mean'] > epsilon:\n",
        "      print(f'The generated data for SH has a diff of {np.mean(sh_rent_array) - SH[\"rent_mean\"]:.3f} in mean rent')\n",
        "    elif np.mean(rg_rent_array) - RG['rent_mean'] > epsilon:\n",
        "      print(f'The generated data for RG has a diff of {np.mean(rg_rent_array) - RG[\"rent_mean\"]:.3f} in mean rent')\n",
        "    else:\n",
        "      print('Seems fine.')\n",
        "\n",
        "    print(\"Verfying rent median stat...\")\n",
        "    if np.median(sh_rent_array) - SH['rent_median'] > epsilon:\n",
        "      print(f'The generated data for SH has a diff of {np.median(sh_rent_array) - SH[\"rent_median\"]:.3f} in median rent')\n",
        "    if np.mean(rg_rent_array) - RG['rent_mean'] > epsilon:\n",
        "      print(f'The generated data for RG has a diff of {np.median(rg_rent_array) - RG[\"rent_median\"]:.3f} in median rent')\n",
        "    else:\n",
        "      print('Seems fine.')\n",
        "\n",
        "\n",
        "    print(\"Verfying rent IQR stat...\")\n",
        "    if calc_iqr(sh_rent_array) >= calc_iqr(rg_rent_array):\n",
        "      print(f'In the generated data SH does not have a lower IQR than RG. SH IQR is {calc_iqr(sh_rent_array):.0f} while RG IQR is {calc_iqr(rg_rent_array):.0f}.')\n",
        "    else:\n",
        "        print('Seems fine.')\n",
        "    \n",
        "    if phi_flag:\n",
        "      print('Verfying PHI mean stat...')\n",
        "      if np.mean(sh_phi_array) - SH['phi_mean'] > epsilon:\n",
        "        print(f'The generated data for SH has a diff of {np.mean(sh_phi_array) - SH[\"phi_mean\"]:.3f} in mean phi')\n",
        "      elif np.mean(rg_phi_array) - RG['phi_mean'] > epsilon:\n",
        "        print(f'The generated data for RG has a diff of {np.mean(rg_phi_array) - RG[\"phi_mean\"]:.3f} in mean phi')\n",
        "      else:\n",
        "        print('Seems fine.')\n",
        "\n",
        "      print(\"Verfying PHI median stat...\")\n",
        "      if np.median(sh_phi_array) - SH['phi_median'] > epsilon:\n",
        "        print(f'The generated data for SH has a diff of {np.median(sh_phi_array) - SH[\"phi_median\"]:.3f} in median phi')\n",
        "      if np.mean(rg_phi_array) - RG['phi_mean'] > epsilon:\n",
        "        print(f'The generated data for RG has a diff of {np.median(rg_phi_array) - RG[\"phi_median\"]:.3f} in median phi')\n",
        "      else:\n",
        "        print('Seems fine.')\n",
        "    \n",
        "    print('Evaluation completed')\n",
        "    return None"
      ],
      "execution_count": null,
      "outputs": []
    },
    {
      "cell_type": "markdown",
      "metadata": {
        "id": "0WMr1LnQ70q5"
      },
      "source": [
        "To create the distribtuions, for each city we'll generate two populations - poor population, who pays less rent, and a rich population, who pays a higher rent. These sub-populations will be mutually exclusive, and have will contain $n\\div2 -1$ inhabitants. To these, we'll add 2 addition observations of the desired median. Each of the poor and rich populations will be then adjusted, to fit the desire mean. In addition, we'll correct the observations later on by adding or substracting a constant, to avoid negative results.   "
      ]
    },
    {
      "cell_type": "code",
      "metadata": {
        "colab": {
          "base_uri": "https://localhost:8080/"
        },
        "id": "SHkDWL2-G2Wf",
        "outputId": "b8e8a724-c808-43f3-9343-30470700fec3"
      },
      "source": [
        "def find_dist(city, upper_ineq_factor, rich_sig, lower_ineq_facotr, poor_sig, var='rent'):\n",
        "  poor_pop = np.random.normal(loc=city[var+'_mean']/lower_ineq_facotr, scale=poor_sig, size=math.floor(city['pop']/2)-1)\n",
        "  rich_pop = np.random.normal(loc=city[var+'_mean']*upper_ineq_factor, scale=rich_sig, size=math.floor(city['pop']/2)-1)\n",
        "  final_pop_sum = city[var+'_mean']* city['pop']\n",
        "  extarnally_added_obs = 2\n",
        "  sample_sum = np.sum([poor_pop, rich_pop]) + city[var+'_median'] * extarnally_added_obs \n",
        "  diff = (final_pop_sum - sample_sum) / (city['pop'] - extarnally_added_obs)\n",
        "  pop_norm = np.concatenate([poor_pop + diff + 1000, rich_pop + diff - 1000, np.array([city[var+'_median']] * extarnally_added_obs)])\n",
        "  return pop_norm\n",
        "\n",
        "sh_rent_1 = find_dist(SH, upper_ineq_factor=1.1, rich_sig=100, lower_ineq_facotr=12, poor_sig=100)\n",
        "rg_rent_1 = find_dist(RG, upper_ineq_factor=2.5, rich_sig=100, lower_ineq_facotr=1.2, poor_sig=100)\n",
        "verify_stats(sh_rent_1, rg_rent_1)"
      ],
      "execution_count": null,
      "outputs": [
        {
          "output_type": "stream",
          "name": "stdout",
          "text": [
            "Verfying pop size stat...\n",
            "Seems fine.\n",
            "Verfying rent mean stat...\n",
            "Seems fine.\n",
            "Verfying rent median stat...\n",
            "Seems fine.\n",
            "Verfying rent IQR stat...\n",
            "Seems fine.\n",
            "Evaluation completed\n"
          ]
        }
      ]
    },
    {
      "cell_type": "markdown",
      "metadata": {
        "id": "4Gx2CyaC9SyP"
      },
      "source": [
        "In the second variation, we'll use the same function, only with different parameters:"
      ]
    },
    {
      "cell_type": "code",
      "metadata": {
        "colab": {
          "base_uri": "https://localhost:8080/"
        },
        "id": "UeBYumhPPn7D",
        "outputId": "adb6e8f7-cb65-4844-a8a4-831219465cae"
      },
      "source": [
        "sh_rent_2 = find_dist(SH, upper_ineq_factor=1.2, rich_sig=1000, lower_ineq_facotr=6, poor_sig=100)\n",
        "rg_rent_2 = find_dist(RG, upper_ineq_factor=2.8, rich_sig=1000, lower_ineq_facotr=1 ,poor_sig=100)\n",
        "verify_stats(sh_rent_array=sh_rent_2, rg_rent_array=rg_rent_2)"
      ],
      "execution_count": null,
      "outputs": [
        {
          "output_type": "stream",
          "name": "stdout",
          "text": [
            "Verfying pop size stat...\n",
            "Seems fine.\n",
            "Verfying rent mean stat...\n",
            "Seems fine.\n",
            "Verfying rent median stat...\n",
            "Seems fine.\n",
            "Verfying rent IQR stat...\n",
            "Seems fine.\n",
            "Evaluation completed\n"
          ]
        }
      ]
    },
    {
      "cell_type": "code",
      "metadata": {
        "colab": {
          "base_uri": "https://localhost:8080/",
          "height": 730
        },
        "id": "xM2OogEaC45y",
        "outputId": "581fe3c9-989e-4a51-9dbb-aae1171f6c72"
      },
      "source": [
        "legend_font_size = 10\n",
        "bin_size = 100\n",
        "\n",
        "fig, ax = plt.subplots(2, 2, figsize=(16, 12))\n",
        "\n",
        "q25, q75 = np.percentile(sh_rent_1, [25, 75])\n",
        "iqr = q75 - q25\n",
        "ax[0][0].hist(sh_rent_1, bins=np.arange(min(sh_rent_1), max(sh_rent_1) + bin_size, bin_size), color=\"blue\")\n",
        "ax[0][0].set_xlabel('RCU')\n",
        "ax[0][0].set_ylabel('Houses')\n",
        "ax[0][0].legend([f\"mean: {np.mean(sh_rent_1):10.2f}\\nmedian: {np.median(sh_rent_1):7.2f}\\niqr {iqr:16.2f}\\nstd: {(np.std(sh_rent_1)):14.2f}\"], prop={'size': legend_font_size})\n",
        "ax[0][0].title.set_text(f\"SH 1\")\n",
        "\n",
        "\n",
        "q25, q75 = np.percentile(sh_rent_2, [25, 75])\n",
        "iqr = q75 - q25\n",
        "ax[0][1].hist(sh_rent_2, bins=np.arange(min(sh_rent_2), max(sh_rent_2) + bin_size, bin_size), color=\"blue\")\n",
        "ax[0][1].set_xlabel('RCU')\n",
        "ax[0][1].set_ylabel('Houses')\n",
        "ax[0][1].legend([f\"mean: {np.mean(sh_rent_2):10.2f}\\nmedian: {np.median(sh_rent_2):7.2f}\\nstd:\"\n",
        "  f\" {(np.std(sh_rent_2)):14.2f}\"], prop={'size': legend_font_size})\n",
        "ax[0][1].title.set_text(f\"SH 2\")\n",
        "\n",
        "\n",
        "q25, q75 = np.percentile(rg_rent_1, [25, 75])\n",
        "iqr = q75 - q25\n",
        "ax[1][0].hist(rg_rent_1, bins=np.arange(min(rg_rent_1), max(rg_rent_1) + bin_size, bin_size), color='red')\n",
        "ax[1][0].set_xlabel('RCU')\n",
        "ax[1][0].set_ylabel('Houses')\n",
        "ax[1][0].legend([f\"mean: {np.mean(rg_rent_1):10.2f}\\nmedian: {np.median(rg_rent_1):7.2f}\\niqr {iqr:16.2f}\\nstd: {(np.std(rg_rent_1)):14.2f}\"], prop={'size': legend_font_size})\n",
        "ax[1][0].title.set_text(f\"RG 1\")\n",
        "\n",
        "\n",
        "q25, q75 = np.percentile(rg_rent_2, [25, 75])\n",
        "iqr = q75 - q25\n",
        "ax[1][1].hist(rg_rent_2, bins=np.arange(min(rg_rent_2), max(rg_rent_2) + bin_size, bin_size), color='red')\n",
        "ax[1][1].set_xlabel('RCU')\n",
        "ax[1][1].set_ylabel('Houses')\n",
        "ax[1][1].legend([f\"mean: {np.mean(rg_rent_2):10.2f}\\nmedian: {np.median(rg_rent_2):7.2f}\\nstd:\"\n",
        "  f\" {(np.std(rg_rent_2)):14.2f}\"], prop={'size': legend_font_size})\n",
        "ax[1][1].title.set_text(f\"RG 2\")"
      ],
      "execution_count": null,
      "outputs": [
        {
          "output_type": "display_data",
          "data": {
            "image/png": "[encoded data removed]",
            "text/plain": [
              "<Figure size 1152x864 with 4 Axes>"
            ]
          },
          "metadata": {
            "needs_background": "light"
          }
        }
      ]
    },
    {
      "cell_type": "markdown",
      "metadata": {
        "id": "p078LDwJ9tZf"
      },
      "source": [
        "#### 2.B\n",
        "Draw a histogram of a third scenario with the same properties. <br>\n",
        "In addition, in this scenario the rent in SH should have a higher variance than the rent in RG."
      ]
    },
    {
      "cell_type": "markdown",
      "metadata": {
        "id": "BQP7Pj7q9b1d"
      },
      "source": [
        "#### Answer\n",
        "\n",
        "In this part we'll divide the populations to 4. We'll manipulate the median in the same fashion, but here we'll have a more direct way to control the IQR of the two cities AND their overall variance. A larger inequality factor for both the rich and the poor population (more \"dramatic\" mu of their distribution) will result in larger variance, and a smaller inequality factor to the medium populations will result in lower IQR. We'll test the variance requirement and the standard requirements as well: "
      ]
    },
    {
      "cell_type": "code",
      "metadata": {
        "colab": {
          "base_uri": "https://localhost:8080/"
        },
        "id": "k_H7q3FR5hid",
        "outputId": "0cc9ab3a-ab84-49e0-8a11-cc582a474257"
      },
      "source": [
        "def generate_pop_by_qs(city, extr_rich_ineq_fact,  extr_rich_sig, extr_poor_ineq_fact, extr_poor_sig):\n",
        "  very_poor_pop = np.random.normal(loc=city['rent_mean']/extr_poor_ineq_fact, scale=extr_poor_sig, size=math.floor(city['pop']/4)-1).round().astype(np.int)\n",
        "  poor_pop = np.random.normal(loc=city['rent_mean']/extr_poor_ineq_fact/2, scale=extr_poor_sig, size=math.floor(city['pop']/4)-1).round().astype(np.int)\n",
        "  rich_pop = np.random.normal(loc=city['rent_mean']*extr_rich_ineq_fact/2, scale=extr_rich_sig, size=math.floor(city['pop']/4)-1).round().astype(np.int)\n",
        "  very_rich_pop = np.random.normal(loc=city['rent_mean']*extr_rich_ineq_fact, scale=extr_rich_sig, size=math.floor(city['pop']/4)-1).round().astype(np.int)\n",
        "  final_pop_sum = city['rent_mean']* city['pop']\n",
        "  extarnally_added_obs = 4\n",
        "  sample_sum = np.sum([very_poor_pop, poor_pop, rich_pop, very_rich_pop]) + city['rent_median'] * extarnally_added_obs \n",
        "  diff = (final_pop_sum - sample_sum) / (city['pop'] - extarnally_added_obs)\n",
        "  pop_norm = np.concatenate([very_poor_pop + diff + 1000, poor_pop + diff + 2000, rich_pop + diff, very_rich_pop + diff - 3000, np.array([city['rent_median']] * extarnally_added_obs)])\n",
        "  return pop_norm\n",
        "\n",
        "sh_rent_3 = generate_pop_by_qs(SH, extr_rich_ineq_fact=2.5,  extr_rich_sig=200, extr_poor_ineq_fact=1.4, extr_poor_sig=100)\n",
        "rg_rent_3 = generate_pop_by_qs(RG, extr_rich_ineq_fact=3.1,  extr_rich_sig=100, extr_poor_ineq_fact=2.5, extr_poor_sig=40)\n",
        "print('Verfiying variance...')\n",
        "if np.var(sh_rent_3) <= np.var(rg_rent_3):\n",
        "  print('SH variance is not larger than RG variance')\n",
        "else:\n",
        "  print('Seems fine.')\n",
        "verify_stats(sh_rent_array=sh_rent_3, rg_rent_array=rg_rent_3)"
      ],
      "execution_count": null,
      "outputs": [
        {
          "output_type": "stream",
          "name": "stdout",
          "text": [
            "Verfiying variance...\n",
            "Seems fine.\n",
            "Verfying pop size stat...\n",
            "Seems fine.\n",
            "Verfying rent mean stat...\n",
            "Seems fine.\n",
            "Verfying rent median stat...\n",
            "Seems fine.\n",
            "Verfying rent IQR stat...\n",
            "Seems fine.\n",
            "Evaluation completed\n"
          ]
        }
      ]
    },
    {
      "cell_type": "code",
      "metadata": {
        "colab": {
          "base_uri": "https://localhost:8080/",
          "height": 730
        },
        "id": "vysob-PRLaA_",
        "outputId": "30c4489a-e3dc-4b11-d64b-af122204a0f6"
      },
      "source": [
        "fig, ax = plt.subplots(2, 1, figsize=(16, 12))\n",
        "\n",
        "q25, q75 = np.percentile(sh_rent_3, [25, 75])\n",
        "iqr = q75 - q25\n",
        "ax[0].hist(sh_rent_3, bins=math.ceil((np.max(sh_rent_3) - np.min(sh_rent_3)) / bin_size), color=\"blue\")\n",
        "ax[0].set_xlabel('RCU')\n",
        "ax[0].set_ylabel('Houses')\n",
        "ax[0].legend([f\"mean: {np.mean(sh_rent_3):10.2f}\\nmedian: {np.median(sh_rent_3):7.2f}\\nstd:\"\n",
        "  f\" {(np.std(sh_rent_3)):14.2f}\"], prop={'size': legend_font_size})\n",
        "ax[0].title.set_text(f\"SH 3\")\n",
        "\n",
        "\n",
        "q25, q75 = np.percentile(rg_rent_3, [25, 75])\n",
        "iqr = q75 - q25\n",
        "ax[1].hist(rg_rent_3, bins=math.ceil((np.max(rg_rent_3) - np.min(rg_rent_3)) / bin_size), color='red')\n",
        "ax[1].set_xlabel('RCU')\n",
        "ax[1].set_ylabel('Houses')\n",
        "ax[1].legend([f\"mean: {np.mean(rg_rent_3):10.2f}\\nmedian: {np.median(rg_rent_3):7.2f}\\niqr {iqr:16.2f}\\nstd: {(np.std(rg_rent_3)):14.2f}\"], prop={'size': legend_font_size})\n",
        "ax[1].title.set_text(f\"RG 3\".title())"
      ],
      "execution_count": null,
      "outputs": [
        {
          "output_type": "display_data",
          "data": {
            "image/png": "[encoded data removed]",
            "text/plain": [
              "<Figure size 1152x864 with 2 Axes>"
            ]
          },
          "metadata": {
            "needs_background": "light"
          }
        }
      ]
    },
    {
      "cell_type": "markdown",
      "metadata": {
        "id": "9Kcf-FMu9tZg"
      },
      "source": [
        "\n",
        "The survey also examined the per household income (PHI) in these two places.<br>\n",
        "\n",
        "It found that:<br>\n",
        "* The mean of PHI in SH is 12500 and in RG is 8500.\n",
        "* The median is 12000 in SH and 8000 in RG.\n",
        "* The covariance of the rent and the PHI was observed to be as in the formula below with $\\alpha=97\\%$ and $\\alpha=89\\%$ in SH and in RG respectively.<br><br>\n",
        "$$Cov(rent, PHI) = \\alpha * \\sqrt{Var(rent)} * \\sqrt{Var(PHI)}$$\n",
        "\n",
        "#### 2.C\n",
        "Produce rent and PHI data for the two cities, that is consistent with these findings. The covariances in your data can deviate by up to 1% from the numbers given $\\alpha$."
      ]
    },
    {
      "cell_type": "markdown",
      "metadata": {
        "id": "n9z1UDHYKVbp"
      },
      "source": [
        "#### Answer"
      ]
    },
    {
      "cell_type": "code",
      "metadata": {
        "id": "AAVc4dK4loft"
      },
      "source": [
        "SH.update({'phi_mean': 12500, 'phi_median': 12000, 'a':0.97})\n",
        "RG.update({'phi_mean': 8500, 'phi_median': 8000, 'a':0.89})"
      ],
      "execution_count": null,
      "outputs": []
    },
    {
      "cell_type": "markdown",
      "metadata": {
        "id": "7hN0pgdN-ePE"
      },
      "source": [
        "We'll use the same function as before to generate PHI distributions with a poor and a rich population, and test the covariance requirement in addition to the base requirements:"
      ]
    },
    {
      "cell_type": "code",
      "metadata": {
        "colab": {
          "base_uri": "https://localhost:8080/"
        },
        "id": "cd_b3kRDoFXw",
        "outputId": "9b712a15-9661-4bb4-8cb4-314a5230dbef"
      },
      "source": [
        "sh_rent_4 = find_dist(SH, upper_ineq_factor=1.2, rich_sig=500, lower_ineq_facotr=6, poor_sig=100)\n",
        "rg_rent_4 = find_dist(RG, upper_ineq_factor=2.8, rich_sig=100, lower_ineq_facotr=1 ,poor_sig=100)\n",
        "sh_phi = find_dist(SH, upper_ineq_factor=2.1, rich_sig=2000, lower_ineq_facotr=1.65, poor_sig=70 ,var='phi')\n",
        "rg_phi = find_dist(RG, upper_ineq_factor=1.1, rich_sig=700, lower_ineq_facotr=2.15, poor_sig=1000 ,var='phi')\n",
        "\n",
        "print('Verfiying Pearson coef...')\n",
        "if np.cov(sh_rent_4, sh_phi)[0,1]/ (np.std(sh_rent_4) * np.std(sh_phi)) > SH['a'] + 0.01 or np.cov(sh_rent_4, sh_phi)[0,1]/ (np.std(sh_rent_4) * np.std(sh_phi)) < SH['a'] - 0.01:\n",
        "  print('Perason coef seems wrong for SH')\n",
        "if np.cov(rg_rent_4, rg_phi)[0,1]/ (np.std(rg_phi) * np.std(rg_rent_4)) > RG['a'] + 0.01 or np.cov(rg_rent_4, rg_phi)[0,1]/ (np.std(rg_phi) * np.std(rg_rent_4)) < RG['a'] - 0.01:\n",
        "  print('Perason coef seems wrong for RG')\n",
        "else:\n",
        "  print('Seems fine.')\n",
        "verify_stats(sh_rent_4, rg_rent_4, sh_phi, rg_phi, phi_flag=True)"
      ],
      "execution_count": null,
      "outputs": [
        {
          "output_type": "stream",
          "name": "stdout",
          "text": [
            "Verfiying Pearson coef...\n",
            "Seems fine.\n",
            "Verfying pop size stat...\n",
            "Seems fine.\n",
            "Verfying rent mean stat...\n",
            "Seems fine.\n",
            "Verfying rent median stat...\n",
            "Seems fine.\n",
            "Verfying rent IQR stat...\n",
            "Seems fine.\n",
            "Verfying PHI mean stat...\n",
            "Seems fine.\n",
            "Verfying PHI median stat...\n",
            "Seems fine.\n",
            "Evaluation completed\n"
          ]
        }
      ]
    },
    {
      "cell_type": "markdown",
      "metadata": {
        "id": "MkaH2BkP9tZg"
      },
      "source": [
        "#### 2.D\n",
        "Produce two heatmaps that describe these two bivariate joint distributions. Make sure you carefully consider the selected binning resolution."
      ]
    },
    {
      "cell_type": "code",
      "metadata": {
        "id": "--QfLRIe9tZg",
        "colab": {
          "base_uri": "https://localhost:8080/",
          "height": 573
        },
        "outputId": "e3954a21-fa54-4cdb-c4f4-febf637b8ccb"
      },
      "source": [
        "plt.hist2d(x=sh_rent_4,y=sh_phi ,cmap='viridis',bins=10)\n",
        "plt.xlabel('SH Rent')\n",
        "plt.ylabel('SH PHI')\n",
        "plt.title('SH Rent <> PHI Heatmap')\n",
        "plt.show()\n",
        "\n",
        "plt.hist2d(x=rg_rent_4,y=rg_phi ,cmap='viridis',bins=10)\n",
        "plt.xlabel('RG Rent')\n",
        "plt.ylabel('RG PHI')\n",
        "plt.title('RG Rent <> PHI Heatmap')\n",
        "plt.show()"
      ],
      "execution_count": null,
      "outputs": [
        {
          "output_type": "display_data",
          "data": {
            "image/png": "[encoded data removed]",
            "text/plain": [
              "<Figure size 432x288 with 1 Axes>"
            ]
          },
          "metadata": {
            "needs_background": "light"
          }
        },
        {
          "output_type": "display_data",
          "data": {
            "image/png": "[encoded data removed]",
            "text/plain": [
              "<Figure size 432x288 with 1 Axes>"
            ]
          },
          "metadata": {
            "needs_background": "light"
          }
        }
      ]
    },
    {
      "cell_type": "markdown",
      "metadata": {
        "id": "wUGOWyrN9tZg"
      },
      "source": [
        "### Question 3 - Multinomial Distributions\n",
        "\n",
        "1. Let $X \\sim Multinomial(n,\\vec{p})$ be a multinomial random variable where $n=20$ and $\\vec{p} = (0.2,  0.1,  0.1,  0.1,  0.2,  0.3)$. Note that X is a vector of counts.\n",
        "\n",
        "\n",
        "2. Let $Y = X_2 + X_3 + X_4$ be a random variable.\n",
        "\n",
        "\n",
        "3. Create $k=100$ experiments where $X$ is sampled using Python. Calculate the empirical centralized third moment of $Y$ based on your $k$ experiments.\n",
        "\n",
        "\n",
        "4. Compare your result to the calculation in class for the centralized third moment of the **binomial** distribution and explain your observation."
      ]
    },
    {
      "cell_type": "markdown",
      "metadata": {
        "id": "tH3U34owKYuj"
      },
      "source": [
        "#### Answer"
      ]
    },
    {
      "cell_type": "code",
      "metadata": {
        "id": "BfVNz53hO2GP",
        "colab": {
          "base_uri": "https://localhost:8080/"
        },
        "outputId": "c35fc31a-cbbe-4e4b-ce73-d0119935a8f6"
      },
      "source": [
        "from scipy.stats import multinomial\n",
        "\n",
        "k = 100\n",
        "n = 20\n",
        "p = [0.2,0.1,0.1,0.1,0.2,0.3]\n",
        "\n",
        "X = multinomial(n, p)\n",
        "sample = X.rvs(size=k)\n",
        "y_cols = sample[:, 1:4]\n",
        "y = y_cols.sum(axis=1)\n",
        "y_mean = y.mean()\n",
        "moment = ((y - y_mean)**3).sum() / k \n",
        "print(f'The empirical centralized third moment of  𝑌  based on {k}  experiments is {moment:.3f}')"
      ],
      "execution_count": null,
      "outputs": [
        {
          "output_type": "stream",
          "name": "stdout",
          "text": [
            "The empirical centralized third moment of  𝑌  based on 100  experiments is -0.120\n"
          ]
        }
      ]
    },
    {
      "cell_type": "markdown",
      "metadata": {
        "id": "BoCE2uTwv7ew"
      },
      "source": [
        "In class, we've calculated the 3rd moment of a Binomial RV, by viewing it as a summation of n Bernouli experiments. Each of the Bernouli experiments' expected value is p, and so we calculated the moment mathematically. \n",
        "\n",
        "Here, we've used Multinomial distribution, which is constructed by several Binomial random variables. We've generated the data ourselves, and instead of relying on the theoretical expected value of the each Binomial distribution, we've calculated it ourselves, using our observation's statistics."
      ]
    },
    {
      "cell_type": "markdown",
      "metadata": {
        "id": "sEJ1ZHPO9tZh"
      },
      "source": [
        "### Question 4 - Covariance and independence"
      ]
    },
    {
      "cell_type": "markdown",
      "metadata": {
        "id": "59gvMSau9tZh"
      },
      "source": [
        "What is the variance of the sum X +Y + Z of three random variables in terms of the variances of X, Y and Z and the covariances between each pair of random variables? What happens if X,Y,Z are pairwise independent? If X,Y,Z are pairwise independent, are they necessarily collectively independent? Prove your answer."
      ]
    },
    {
      "cell_type": "markdown",
      "metadata": {
        "id": "XPZhccAPVTXk"
      },
      "source": [
        "#### Answer\n",
        "\n",
        "Let $A = X+Y+Z$, a convolution of three RVs $X, Y, Z$:\n",
        "\n",
        "$var(A) = cov(A,A)$ by definition. Plug in the $X,Y,Z$ RVs:\n",
        "\n",
        "$var(A) = cov(X+Y+Z,X+Y+z)$ \n",
        "\n",
        "$var(A) = cov(X,X) + cov(Y,Y) + cov(Z,Z) + 2cov(X,Y) + 2cov(X,Z) + 2cov(Y,Z)$ As $cov(α,α) = var(α)$ we get\n",
        "\n",
        "$var(A) = var(X) + var(Y) + var(Z) + 2cov(X,Y) + 2cov(X,Z) + 2cov(Y,Z)$"
      ]
    },
    {
      "cell_type": "markdown",
      "metadata": {
        "id": "-QcYn-BdXpP3"
      },
      "source": [
        "If $X, Y, Z$ are pairwise independent, it means that the result of each of $cov(α,β) = 0$ for any pair of the three. Hence, $cov(X,Y) = cov(X,Z) = cov(Y,Z) = 0$, and then $var(X+Y+Z) = var(X) + var(Y) + var(Z)$"
      ]
    },
    {
      "cell_type": "markdown",
      "metadata": {
        "id": "uqpCZJTpYcB9"
      },
      "source": [
        "If X,Y,Z are pairwise independent it does NOT mean that that they are collectively independent, as collective independence demands that $P(X \\cap Y \\cap Z) = 0$ as well.\n",
        "\n",
        "\n",
        "If $X\\sim Binom(n, p)$, $Y\\sim Binom(n, 1-p)$ and $Z$ is define by sucesses of both $X$ and $Y$, then all are pairwise independent but not can't be collectively idependent. \n",
        "\n",
        "For example, if player A makes a free throw (RV $X$), player B makes a free throw (RV $Y$) and $Z$ denotes if both players make their free throws OR both players miss their free throws. \n",
        "\n",
        "Player A's success is independent of player B's success and vice versa. Also, $Z$'s result does not give us any additional informatin regarding $X$ or $Y$; If $Z=1$, with regards to player A, it will not change their probablity of hitting or missing the shot.\n",
        "\n",
        "However, the outcome of both of player A and B's shots decide $Z$. Hence, the three are pairwise independent and NOT collectively independent."
      ]
    },
    {
      "cell_type": "markdown",
      "metadata": {
        "id": "kXA48RnO9tZh"
      },
      "source": [
        "### Question 5 - Convolutions"
      ]
    },
    {
      "cell_type": "markdown",
      "metadata": {
        "id": "N7ygB10t9tZh"
      },
      "source": [
        "#### 5.A\n",
        "Write a program, `Q = NFoldConv(P , n)`, that takes as input:\n",
        "* A distribution, P, of a random variable that takes finitely many integer values\n",
        "* An integer n\n",
        "\n",
        "and produces the distribution, Q, of the sum of n independent repeats of random variables, each of which has the distribution P."
      ]
    },
    {
      "cell_type": "markdown",
      "metadata": {
        "id": "hrKOIecNEVwe"
      },
      "source": [
        "#### Answer\n",
        "\n",
        "We'll set our input $P$ to be a dictionary of $probs$ and matching $values$.\n",
        "\n",
        "As we cannot be sure that our input will have be a series of following values (1,2,3,4.. as opposed to 1,2,45,65), and as $Q$ is supposed to report sum of all values, we'll create a helper function to get all possible output values.\n",
        "\n",
        "To generate the matching probabilities for each of the newly generated values, we'll use $fftconvolve$."
      ]
    },
    {
      "cell_type": "code",
      "metadata": {
        "id": "pKIx0oQTPUaw"
      },
      "source": [
        "def get_possible_values(values1, values2):\n",
        "  \"\"\"\n",
        "  Helper function, the unique sum of all the combinations unique values\n",
        "  \"\"\"\n",
        "  return np.unique(np.array(np.meshgrid(values1, values2)).T.reshape(-1, 2).sum(axis=1))"
      ],
      "execution_count": null,
      "outputs": []
    },
    {
      "cell_type": "code",
      "metadata": {
        "id": "7enXGSxKEaG3"
      },
      "source": [
        "from scipy.signal import fftconvolve\n",
        "\n",
        "def NFoldConv(P , n):\n",
        "  \"\"\"\n",
        "  P is:\n",
        "  {\n",
        "  \"probs\": [...]\n",
        "  \"values\": [...]\n",
        "  }\n",
        "  \"\"\"\n",
        "  if n == 0:\n",
        "    return None\n",
        "  \n",
        "  if n == 1:\n",
        "    return P\n",
        "\n",
        "  values = P[\"values\"] # \n",
        "  conv_pdf = fftconvolve(P[\"probs\"], P[\"probs\"], 'full')\n",
        "\n",
        "  new_values = get_possible_values(values, values)\n",
        "  if n == 2:\n",
        "    Q = {\"probs\": conv_pdf,\n",
        "         \"values\": new_values}\n",
        "    return Q\n",
        "\n",
        "  for i in range(n-2):\n",
        "    new_values = get_possible_values(new_values, values)\n",
        "    conv_pdf = fftconvolve(conv_pdf, P[\"probs\"], 'full')\n",
        "  \n",
        "  Q = {\"probs\": conv_pdf,\n",
        "         \"values\": new_values}\n",
        "  \n",
        "  return Q\n"
      ],
      "execution_count": null,
      "outputs": []
    },
    {
      "cell_type": "markdown",
      "metadata": {
        "id": "KbjRkvxU9tZi"
      },
      "source": [
        "#### 5.B\n",
        "Compute the distribution of the sum of the results of rolling a fair octahedron 17 times.\n",
        "\n",
        "<img src=\"https://upload.wikimedia.org/wikipedia/commons/2/27/Octahedron.jpg\" width=\"200\">\n"
      ]
    },
    {
      "cell_type": "markdown",
      "metadata": {
        "id": "0tjtYy4nKg2Y"
      },
      "source": [
        "#### Answer"
      ]
    },
    {
      "cell_type": "code",
      "metadata": {
        "id": "qNATsJdFH9Fr"
      },
      "source": [
        "P = {\"probs\": [1/8] * 8,\n",
        "     \"values\": list(range(1, 9))}\n",
        "\n",
        "n = 17\n",
        "Q = NFoldConv(P, n)"
      ],
      "execution_count": null,
      "outputs": []
    },
    {
      "cell_type": "code",
      "metadata": {
        "colab": {
          "base_uri": "https://localhost:8080/",
          "height": 651
        },
        "id": "KwVFoQPA-p41",
        "outputId": "cfcefc62-6f0b-4088-c52e-deb85050b02f"
      },
      "source": [
        "fig, ax = plt.subplots(1, 1, figsize=(12, 10))\n",
        "ax.plot(Q[\"values\"], Q[\"probs\"], 'bo', ms=8, label='RV PDF')\n",
        "\n",
        "plt.ylabel(\"P\", fontsize=\"18\")\n",
        "plt.xlabel(\"X\".title(), fontsize=\"18\")\n",
        "\n",
        "plt.title(\"RV PDF\", fontsize=\"18\")\n",
        "\n",
        "ax.vlines(Q[\"values\"], 0, Q[\"probs\"], colors='b', lw=5, alpha=0.5)"
      ],
      "execution_count": null,
      "outputs": [
        {
          "output_type": "execute_result",
          "data": {
            "text/plain": [
              "<matplotlib.collections.LineCollection at 0x7fa1b804c510>"
            ]
          },
          "metadata": {},
          "execution_count": 94
        },
        {
          "output_type": "display_data",
          "data": {
            "image/png": "[encoded data removed]",
            "text/plain": [
              "<Figure size 864x720 with 1 Axes>"
            ]
          },
          "metadata": {
            "needs_background": "light"
          }
        }
      ]
    }
  ]
}