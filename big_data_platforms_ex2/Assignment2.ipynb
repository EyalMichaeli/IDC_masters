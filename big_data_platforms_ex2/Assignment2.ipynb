{
 "cells": [
  {
   "cell_type": "markdown",
   "metadata": {},
   "source": [
    "# Big Data Platform\n",
    "## Assignment 2: MapReduce"
   ]
  },
  {
   "cell_type": "markdown",
   "metadata": {},
   "source": [
    "**By:**  \n",
    "\n",
    "Eyal Michaeli, 207380528\n",
    "Tzach Labroni, 302673355\n",
    "\n",
    "<br><br>"
   ]
  },
  {
   "cell_type": "markdown",
   "metadata": {},
   "source": [
    "**The goal of this assignment is to:**\n",
    "- Understand and practice the details of MapReduceEngine\n",
    "\n",
    "**Instructions:**\n",
    "- Students will form teams of two people each, and submit a single homework for each team.\n",
    "- The same score for the homework will be given to each member of your team.\n",
    "- Your solution is in the form of a Jupyter notebook file (with extension ipynb).\n",
    "- Images/Graphs/Tables should be submitted inside the notebook.\n",
    "- The notebook should be runnable and properly documented. \n",
    "- Please answer all the questions and include all your code.\n",
    "- You are expected to submit a clear and pythonic code.\n",
    "- You can change functions signatures/definitions.\n",
    "\n",
    "**Submission:**\n",
    "- Submission of the homework will be done via Moodle by uploading a Jupyter notebook.\n",
    "- The homework needs to be entirely in English.\n",
    "- The deadline for submission is on Moodle.\n",
    "- Late submission won't be allowed.\n",
    "  \n",
    "  \n",
    "- In case of identical code submissions - both groups will get a Zero. \n",
    "- Some groups might be selected randomly to present their code.\n",
    "\n",
    "**Requirements:**  \n",
    "- Python 3.6 should be used.  \n",
    "- You should implement the algorithms by yourself using only basic Python libraries (such as numpy,pandas,etc.)\n",
    "\n",
    "<br><br><br><br>"
   ]
  },
  {
   "cell_type": "markdown",
   "metadata": {},
   "source": [
    "**Grading:**\n",
    "- Q1 - 5 points - Initial Steps\n",
    "- Q2 - 50 points - MapReduceEngine\n",
    "- Q3 - 30 points - Implement the MapReduce Inverted index of the JSON documents\n",
    "- Q4 - 5 points - Testing Your MapReduce\n",
    "- Q5 - 10 points - Final Thoughts \n",
    "\n",
    "`Total: 100`"
   ]
  },
  {
   "cell_type": "markdown",
   "metadata": {},
   "source": [
    "**Prerequisites**"
   ]
  },
  {
   "cell_type": "code",
   "execution_count": 476,
   "metadata": {},
   "outputs": [],
   "source": [
    "# example\n",
    "#!pip install --quiet zipfile36"
   ]
  },
  {
   "cell_type": "markdown",
   "metadata": {},
   "source": [
    "**Imports**"
   ]
  },
  {
   "cell_type": "code",
   "execution_count": 477,
   "metadata": {},
   "outputs": [],
   "source": [
    "# general\n",
    "import os\n",
    "import random\n",
    "import warnings\n",
    "import concurrent\n",
    "import sqlite3\n",
    "import traceback\n",
    "import shutil\n",
    "from pathlib import Path\n",
    "from typing import List\n",
    "\n",
    "# ml\n",
    "import numpy as np\n",
    "import pandas as pd"
   ]
  },
  {
   "cell_type": "markdown",
   "metadata": {},
   "source": [
    "**Hide Warnings**"
   ]
  },
  {
   "cell_type": "code",
   "execution_count": 478,
   "metadata": {},
   "outputs": [],
   "source": [
    "\n",
    "warnings.filterwarnings('ignore')"
   ]
  },
  {
   "cell_type": "markdown",
   "metadata": {},
   "source": [
    "**Disable Autoscrolling**"
   ]
  },
  {
   "cell_type": "code",
   "execution_count": 479,
   "metadata": {},
   "outputs": [
    {
     "data": {
      "text/plain": "<IPython.core.display.Javascript object>",
      "application/javascript": "IPython.OutputArea.prototype._should_scroll = function(lines) {\n    return false;\n}\n"
     },
     "metadata": {},
     "output_type": "display_data"
    }
   ],
   "source": [
    "%%javascript\n",
    "IPython.OutputArea.prototype._should_scroll = function(lines) {\n",
    "    return false;\n",
    "}"
   ]
  },
  {
   "cell_type": "markdown",
   "metadata": {},
   "source": [
    "**Set Random Seed**"
   ]
  },
  {
   "cell_type": "code",
   "execution_count": 480,
   "metadata": {},
   "outputs": [],
   "source": [
    "random.seed(123)"
   ]
  },
  {
   "cell_type": "markdown",
   "metadata": {},
   "source": [
    "<br><br><br><br>\n",
    "# Question 1\n",
    "# Initial Steps\n",
    "\n",
    "Write Python code to create 20 different CSV files in this format:  `myCSV[Number].csv`, where each file contains 10 records. \n",
    "\n",
    "The schema is `(‘firstname’,’secondname’,city’)`  \n",
    "\n",
    "Values should be randomly chosen from the lists: \n",
    "- `firstname` : `[John, Dana, Scott, Marc, Steven, Michael, Albert, Johanna]`  \n",
    "- `city` : `[New York, Haifa, München, London, Palo Alto,  Tel Aviv, Kiel, Hamburg]`  \n",
    "- `secondname`: any value  "
   ]
  },
  {
   "cell_type": "code",
   "execution_count": 481,
   "metadata": {
    "pycharm": {
     "name": "#%%\n"
    }
   },
   "outputs": [],
   "source": [
    "# insert your path here:\n",
    "my_path = \"/Users/eyalmichaeli/Desktop/School/Master's/IDC_masters/big_data_platforms_ex2\"\n",
    "\n",
    "path = Path(my_path)"
   ]
  },
  {
   "cell_type": "code",
   "execution_count": 482,
   "metadata": {},
   "outputs": [
    {
     "name": "stdout",
     "output_type": "stream",
     "text": [
      "Created 20 CSV files\n"
     ]
    }
   ],
   "source": [
    "firstname = ['John', 'Dana', 'Scott', 'Marc', 'Steven', 'Michael', 'Albert', 'Johanna']\n",
    "city = ['NewYork', 'Haifa', 'Munchen', 'London', 'PaloAlto', 'TelAviv', 'Kiel', 'Hamburg']\n",
    "secondname = ['Lennon', 'McCartney', 'Starr', 'Harrison', 'Ono', 'Sutcliffe', 'Epstein', 'Preston']\n",
    "\n",
    "csvs_path = Path(path / \"csvs\")\n",
    "csvs_path.mkdir(parents=True, exist_ok=True)\n",
    "for i in range(1, 21):\n",
    "    temp_df = pd.DataFrame({\"firstname\": np.random.choice(firstname, 10),\n",
    "                            \"secondname\": np.random.choice(secondname, 10),\n",
    "                            \"city\": np.random.choice(city, 10),\n",
    "                            })\n",
    "    temp_df.to_csv(str(csvs_path / f\"myCSV{i}.csv\"), index=False)\n",
    "\n",
    "print(\"Created 20 CSV files\")"
   ]
  },
  {
   "cell_type": "markdown",
   "metadata": {},
   "source": [
    "Use python to Create `mapreducetemp` and `mapreducefinal` folders"
   ]
  },
  {
   "cell_type": "code",
   "execution_count": 483,
   "metadata": {},
   "outputs": [
    {
     "name": "stdout",
     "output_type": "stream",
     "text": [
      "Created folders\n"
     ]
    }
   ],
   "source": [
    "mapreducetemp_folder = Path(path / \"mapreducetemp\")\n",
    "mapreducetemp_folder.mkdir(parents=True, exist_ok=True)\n",
    "\n",
    "mapreducefinal_folder = Path(path / \"mapreducefinal\")\n",
    "mapreducefinal_folder.mkdir(parents=True, exist_ok=True)\n",
    "\n",
    "print(\"Created folders\")"
   ]
  },
  {
   "cell_type": "markdown",
   "metadata": {},
   "source": [
    "<br><br><br>\n",
    "# Question 2\n",
    "## MapReduceEngine"
   ]
  },
  {
   "cell_type": "markdown",
   "metadata": {},
   "source": [
    "Write Python code to create an SQLite database with the following table\n",
    "\n",
    "`TableName: temp_results`   \n",
    "`schema: (key:TEXT,value:TEXT)`"
   ]
  },
  {
   "cell_type": "code",
   "execution_count": 484,
   "metadata": {},
   "outputs": [],
   "source": [
    "# Create the database \"temp_results.db\", then close it.\n",
    "conn = None\n",
    "cursor = None\n",
    "try:\n",
    "    conn = sqlite3.connect(str(path / \"temp_results.db\"))\n",
    "    cursor = conn.cursor()\n",
    "    cursor.execute(\"CREATE TABLE IF NOT EXISTS temp_results (key, value);\")\n",
    "\n",
    "except Exception:\n",
    "    traceback.print_exc()\n",
    "\n",
    "finally:\n",
    "    cursor.close()\n",
    "    if conn:\n",
    "        conn.close()"
   ]
  },
  {
   "cell_type": "markdown",
   "metadata": {},
   "source": [
    "1. **Create a Python class** `MapReduceEngine` with method `def execute(input_data, map_function, reduce_function)`, such that:\n",
    "    - `input_data`: is an array of elements\n",
    "    - `map_function`: is a pointer to the Python function that returns a list where each entry of the form (key,value) \n",
    "    - `reduce_function`: is pointer to the Python function that returns a list where each entry of the form (key,value)\n",
    "\n",
    "<br><br>\n",
    "\n",
    "**Implement** the following functionality in the `execute(...)` function:\n",
    "\n",
    "<br>\n",
    "\n",
    "1. For each key  from the  input_data, start a new Python thread that executes map_function(key) \n",
    "<br><br>\n",
    "2. Each thread will store results of the map_function into mapreducetemp/part-tmp-X.csv where X is a unique number per each thread. \n",
    "<br><br>\n",
    "3. Keep the list of all threads and check whether they are completed.\n",
    "<br><br>\n",
    "4. Once all threads completed, load content of all CSV files into the temp_results table in SQLite.\n",
    "\n",
    "    Remark: Easiest way to loop over all CSV files and load them into Pandas first, then load into SQLite\n",
    "    `data = pd.read_csv(path to csv)`\n",
    "    `data.to_sql(‘temp_results’,sql_conn, if_exists=’append’,index=False)`\n",
    "<br><br>\n",
    "\n",
    "5. **Write SQL statement** that generates a sorted list by key of the form `(key, value)` where value is concatenation of ALL values in the value column that match specific key. For example, if table has records\n",
    "<table>\n",
    "    <tbody>\n",
    "            <tr>\n",
    "                <td style=\"text-align:center\">John</td>\n",
    "                <td style=\"text-align:center\">myCSV1.csv</td>\n",
    "            </tr>\n",
    "            <tr>\n",
    "                <td style=\"text-align:center\">Dana</td>\n",
    "                <td style=\"text-align:center\">myCSV5.csv</td>\n",
    "            </tr>\n",
    "            <tr>\n",
    "                <td style=\"text-align:center\">John</td>\n",
    "                <td style=\"text-align:center\">myCSV7.csv</td>\n",
    "            </tr>\n",
    "    </tbody>\n",
    "</table>\n",
    "\n",
    "    Then SQL statement will return `(‘John’,’myCSV1.csv, myCSV7.csv’)`  \n",
    "    Remark: use GROUP_CONCAT and also GROUP BY ORDER BY\n",
    "<br><br><br>\n",
    "6. **Start a new thread** for each value from the generated list in the previous step, to execute `reduce_function(key,value)` \n",
    "<br>    \n",
    "7. Each thread will store results of reduce_function into `mapreducefinal/part-X-final.csv` file  \n",
    "<br>\n",
    "8. Keep list of all threads and check whether they are completed  \n",
    "<br>\n",
    "9. Once all threads completed, print on the screen `MapReduce Completed` otherwise print `MapReduce Failed` \n",
    "\n"
   ]
  },
  {
   "cell_type": "code",
   "execution_count": 485,
   "outputs": [],
   "source": [
    "\n",
    "class MapReduceEngine:\n",
    "    \"\"\"\n",
    "    a class that implements the Map Reduce Engine. Gets an Sqlite connection in its __init__.\n",
    "    Also, calls the functions: inverted_map(), inverted_reduce() in its execute method,\n",
    "    which performs the Map Reduce Engine.\n",
    "    \"\"\"\n",
    "\n",
    "    def __init__(self, conn):\n",
    "        self.conn = conn\n",
    "\n",
    "    def execute(self, input_data: List[str], map_function, reduce_function, params: dict, print_file_name=False):\n",
    "        thread_list = list()\n",
    "        csvs_paths = list()\n",
    "        exec_1 = concurrent.futures.ThreadPoolExecutor()\n",
    "        for csv_key in input_data:\n",
    "            t = exec_1.submit(map_function, csv_key, params['column_index'])\n",
    "            threads_returns = t.result()\n",
    "            csv_index = input_data.index(csv_key)  # an index of the relative csv in the input_array\n",
    "            csv_path = f'{mapreducetemp_folder}/part-tmp-{csv_index}.csv'\n",
    "            csvs_paths.append(csv_path)\n",
    "            pd.DataFrame(threads_returns).to_csv(csv_path,\n",
    "                                                 header=['key', 'value'],\n",
    "                                                 index=False)\n",
    "            thread_list.append(t)\n",
    "\n",
    "        # wait until the threads are completed\n",
    "        exec_1.shutdown(wait=True)\n",
    "\n",
    "        # Once all threads completed, load content of all CSV files into the temp_results table in Sqlite\n",
    "        for path_to_csv in csvs_paths:\n",
    "            data = pd.read_csv(path_to_csv)\n",
    "            data.to_sql(name='temp_results', con=self.conn, if_exists='append', index=False)\n",
    "\n",
    "\n",
    "        results_df = pd.read_sql_query(\"SELECT key, GROUP_CONCAT(value) as value \"\n",
    "                                       \"FROM temp_results \"\n",
    "                                       \"GROUP BY key \"\n",
    "                                       \"ORDER BY key\",\n",
    "                                       conn)\n",
    "\n",
    "        exec_2 = concurrent.futures.ThreadPoolExecutor()\n",
    "        for res_i in range(len(results_df)):\n",
    "            try:\n",
    "                key = results_df[\"key\"].iloc[res_i]\n",
    "                value = results_df[\"value\"].iloc[res_i]\n",
    "                t = exec_2.submit(reduce_function, key, value, print_file_name)\n",
    "                t_results = t.result() # t_results is one list, in which the 1st index is the key and the 2nd is a concat of all of the files it appears in.\n",
    "                csv_path = f'{mapreducefinal_folder}/part-{res_i}-final.csv'\n",
    "                csvs_paths.append(csv_path)\n",
    "                pd.DataFrame({'key': t_results[0], 'value': t_results[1]}, index=[0]).to_csv(csv_path,\n",
    "                                                     index=False)\n",
    "                thread_list.append(t)\n",
    "\n",
    "            except Exception:\n",
    "                print(f\"Mapreduce failed for result index: {res_i} with key: {key}, value: {value}\")\n",
    "                traceback.print_exc()\n",
    "                # close connection to db\n",
    "                if conn:\n",
    "                    conn.close()\n",
    "\n",
    "        # wait until the threads are completed\n",
    "        exec_2.shutdown(wait=True)\n",
    "\n",
    "        # close connection to db\n",
    "        if conn:\n",
    "            conn.close()\n",
    "\n",
    "        return 'MapReduce Completed'\n"
   ],
   "metadata": {
    "collapsed": false,
    "pycharm": {
     "name": "#%%\n"
    }
   }
  },
  {
   "cell_type": "markdown",
   "metadata": {},
   "source": [
    "<br><br><br><br>\n",
    "\n",
    "# Question 3\n",
    "## Implement the MapReduce Inverted index of the JSON documents"
   ]
  },
  {
   "cell_type": "markdown",
   "metadata": {},
   "source": [
    "Implement a function `inverted_map(document_name)` which reads the CSV document from the local disc and return a list that contains entries of the form (key_value, document name).\n",
    "\n",
    "For example, if myCSV4.csv document has values like:  \n",
    "`{‘firstname’:’John’,‘secondname’:’Rambo’,‘city’:’Palo Alto’}`\n",
    "\n",
    "Then `inverted_map(‘myCSV4.csv’)` function will return a list:  \n",
    "`[(‘firstname_John’,’ myCSV4.csv’),(‘secondname_Rambo’,’ myCSV4.csv’), (‘city_Palo Alto’,’ myCSV4.csv’)]`"
   ]
  },
  {
   "cell_type": "code",
   "execution_count": 486,
   "metadata": {},
   "outputs": [],
   "source": [
    "def inverted_map(document_name: str, column_index: int) -> List[tuple]:\n",
    "    \"\"\"\n",
    "    reads the CSV document from the local disc and return a list that contains entries of the form (key_value, document name) for the specific column_index provided.\n",
    "    :param document_name: csv file name.\n",
    "    :param column_index: column index in the csv file (Note: starting from 1)\n",
    "    :return: List[tuple] where each tuple contains 2 strings\n",
    "    \"\"\"\n",
    "    csv_path = str(path / 'csvs'/ document_name)\n",
    "    df = pd.read_csv(csv_path)\n",
    "    col_series = df[df.columns[column_index-1]]\n",
    "    csv_path_list = [csv_path] * len(df)\n",
    "    return list(zip(col_series.values, csv_path_list))"
   ]
  },
  {
   "cell_type": "markdown",
   "source": [
    "Write a reduce function `inverted_reduce(value, documents)`, where the field “documents” contains a list of all CSV documents per given value.\n",
    "This list might have duplicates.\n",
    "Reduce function will return new list without duplicates.\n",
    "\n",
    "For example,\n",
    "calling the function `inverted_reduce(‘firstname_Albert’,’myCSV2.csv, myCSV5.csv,myCSV2.csv’)`\n",
    "will return a list `[‘firstname_Albert’,’myCSV2.csv, myCSV5.csv,myCSV2.csv’]`"
   ],
   "metadata": {
    "collapsed": false
   }
  },
  {
   "cell_type": "code",
   "execution_count": 487,
   "metadata": {},
   "outputs": [],
   "source": [
    "def inverted_reduce(key: str, documents: str, print_file_name: bool) -> List[str]:\n",
    "    \"\"\"\n",
    "    reduce function\n",
    "    :param key: key value (for example: if the column is 'first_name' it could be 'Albert'.\n",
    "    :param documents: a string (list) of all CSV documents per given key.\n",
    "    :param print_file_name: assign print_file_name True if you want the reduce function to print the file names (it's more readable than CSV). and for debugging purposes\n",
    "    :return: List: [key, documents_formatted_unique]\n",
    "    \"\"\"\n",
    "    documents_formatted_unique = ', '.join(set(documents.replace(', ', ',').split(',')))[: -2]\n",
    "    # the [: -2] is to remove the last ', '\n",
    "\n",
    "    if print_file_name:\n",
    "        list_of_file_names = [Path(csv_path).name for csv_path in documents_formatted_unique.split(', ')]\n",
    "        total_files = len(list_of_file_names)\n",
    "        file_names = '\\n'.join(sorted(list_of_file_names))\n",
    "        print(f\"This key: '{key}' has appeared in {total_files} files.\\n\"\n",
    "              f\"it's in the following files: \\n{file_names}\\n\\n\")\n",
    "\n",
    "    return [key, documents_formatted_unique]"
   ]
  },
  {
   "cell_type": "markdown",
   "metadata": {},
   "source": [
    "<br><br><br><br>\n",
    "# Question 4\n",
    "## Testing Your MapReduce\n",
    "\n",
    "**Create Python list** `input_data` : `[‘myCSV1.csv’,.. ,‘myCSV20.csv’]`"
   ]
  },
  {
   "cell_type": "code",
   "execution_count": 488,
   "metadata": {},
   "outputs": [],
   "source": [
    "input_data = [f'myCSV{i}.csv' for i in range(1,21)]"
   ]
  },
  {
   "cell_type": "markdown",
   "metadata": {},
   "source": [
    "**Submit MapReduce as follows:**"
   ]
  },
  {
   "cell_type": "code",
   "execution_count": 489,
   "outputs": [
    {
     "name": "stdout",
     "output_type": "stream",
     "text": [
      "This key: 'Albert' has appeared in 15 files.\n",
      "it's in the following files: \n",
      "myCSV10.csv\n",
      "myCSV11.csv\n",
      "myCSV12.csv\n",
      "myCSV13.csv\n",
      "myCSV14.csv\n",
      "myCSV15.csv\n",
      "myCSV16.csv\n",
      "myCSV18.csv\n",
      "myCSV2.csv\n",
      "myCSV20.csv\n",
      "myCSV3.csv\n",
      "myCSV4.csv\n",
      "myCSV7.csv\n",
      "myCSV8.csv\n",
      "myCSV9.c\n",
      "\n",
      "\n",
      "This key: 'Dana' has appeared in 14 files.\n",
      "it's in the following files: \n",
      "myCSV1.csv\n",
      "myCSV11.csv\n",
      "myCSV14.csv\n",
      "myCSV15.csv\n",
      "myCSV17.csv\n",
      "myCSV18.csv\n",
      "myCSV19.csv\n",
      "myCSV2.csv\n",
      "myCSV3.csv\n",
      "myCSV4.csv\n",
      "myCSV6.csv\n",
      "myCSV7.csv\n",
      "myCSV8.csv\n",
      "myCSV9.c\n",
      "\n",
      "\n",
      "This key: 'Johanna' has appeared in 18 files.\n",
      "it's in the following files: \n",
      "myCSV1.csv\n",
      "myCSV10.csv\n",
      "myCSV11.csv\n",
      "myCSV12.csv\n",
      "myCSV13.csv\n",
      "myCSV14.csv\n",
      "myCSV15.csv\n",
      "myCSV16.csv\n",
      "myCSV17.csv\n",
      "myCSV18.csv\n",
      "myCSV2.csv\n",
      "myCSV20.csv\n",
      "myCSV3.csv\n",
      "myCSV4.csv\n",
      "myCSV5.csv\n",
      "myCSV6.csv\n",
      "myCSV8.csv\n",
      "myCSV9.c\n",
      "\n",
      "\n",
      "This key: 'John' has appeared in 13 files.\n",
      "it's in the following files: \n",
      "myCSV1.csv\n",
      "myCSV10.csv\n",
      "myCSV12.csv\n",
      "myCSV13.csv\n",
      "myCSV14.csv\n",
      "myCSV16.csv\n",
      "myCSV17.csv\n",
      "myCSV19.csv\n",
      "myCSV20.csv\n",
      "myCSV4.csv\n",
      "myCSV5.csv\n",
      "myCSV6.csv\n",
      "myCSV9.c\n",
      "\n",
      "\n",
      "This key: 'Marc' has appeared in 17 files.\n",
      "it's in the following files: \n",
      "myCSV1.csv\n",
      "myCSV10.csv\n",
      "myCSV11.csv\n",
      "myCSV12.csv\n",
      "myCSV13.csv\n",
      "myCSV14.csv\n",
      "myCSV16.csv\n",
      "myCSV17.csv\n",
      "myCSV18.csv\n",
      "myCSV19.csv\n",
      "myCSV2.csv\n",
      "myCSV20.csv\n",
      "myCSV3.csv\n",
      "myCSV5.csv\n",
      "myCSV6.csv\n",
      "myCSV7.csv\n",
      "myCSV9.c\n",
      "\n",
      "\n",
      "This key: 'Michael' has appeared in 14 files.\n",
      "it's in the following files: \n",
      "myCSV1.csv\n",
      "myCSV10.csv\n",
      "myCSV11.csv\n",
      "myCSV12.csv\n",
      "myCSV13.csv\n",
      "myCSV15.csv\n",
      "myCSV17.csv\n",
      "myCSV19.csv\n",
      "myCSV2.csv\n",
      "myCSV20.csv\n",
      "myCSV4.c\n",
      "myCSV6.csv\n",
      "myCSV7.csv\n",
      "myCSV8.csv\n",
      "\n",
      "\n",
      "This key: 'Scott' has appeared in 13 files.\n",
      "it's in the following files: \n",
      "myCSV1.csv\n",
      "myCSV10.csv\n",
      "myCSV11.csv\n",
      "myCSV12.csv\n",
      "myCSV15.csv\n",
      "myCSV18.csv\n",
      "myCSV19.csv\n",
      "myCSV2.csv\n",
      "myCSV20.csv\n",
      "myCSV3.csv\n",
      "myCSV5.csv\n",
      "myCSV6.csv\n",
      "myCSV9.c\n",
      "\n",
      "\n",
      "This key: 'Steven' has appeared in 16 files.\n",
      "it's in the following files: \n",
      "myCSV1.csv\n",
      "myCSV10.csv\n",
      "myCSV11.csv\n",
      "myCSV12.csv\n",
      "myCSV13.csv\n",
      "myCSV14.csv\n",
      "myCSV15.csv\n",
      "myCSV16.csv\n",
      "myCSV2.csv\n",
      "myCSV20.csv\n",
      "myCSV3.csv\n",
      "myCSV4.c\n",
      "myCSV5.csv\n",
      "myCSV6.csv\n",
      "myCSV7.csv\n",
      "myCSV8.csv\n",
      "\n",
      "\n",
      "MapReduce Completed\n"
     ]
    }
   ],
   "source": [
    "conn = sqlite3.connect(str(path / \"temp_results.db\"))\n",
    "mapreduce = MapReduceEngine(conn=conn)\n",
    "status = mapreduce.execute(input_data,\n",
    "                           inverted_map,\n",
    "                           inverted_reduce,\n",
    "                           params={'column_index': 1},\n",
    "                           print_file_name=True) # assign print_file_name True if you want the reduce function to print the file names (it's more readable than CSV), and for debugging purposes\n",
    "print(status)"
   ],
   "metadata": {
    "collapsed": false,
    "pycharm": {
     "name": "#%%\n"
    }
   }
  },
  {
   "cell_type": "markdown",
   "metadata": {},
   "source": [
    "Make sure that `MapReduce Completed` should be printed and `mapreducefinal` folder should contain the result files."
   ]
  },
  {
   "cell_type": "markdown",
   "metadata": {},
   "source": [
    "**Use python to delete all temporary data from mapreducetemp folder and delete SQLite database:**"
   ]
  },
  {
   "cell_type": "code",
   "execution_count": 474,
   "metadata": {},
   "outputs": [],
   "source": [
    "# delete all temp data from mapreducetemp\n",
    "try:\n",
    "    shutil.rmtree(str(mapreducetemp_folder))\n",
    "except Exception as e:\n",
    "    print(f'Error: {str(mapreducetemp_folder)}, {e.strerror}')\n",
    "\n",
    "# delete the SQLite database\n",
    "try:\n",
    "    os.remove(str(path / 'temp_results.db'))\n",
    "except Exception as e:\n",
    "    print(f'Error: {str(path / \"temp_results.db\")}, {e.strerror}')\n"
   ]
  },
  {
   "cell_type": "markdown",
   "metadata": {},
   "source": [
    "<br><br><br><br>\n",
    "\n",
    "# Question 5\n",
    "# Final Thoughts\n",
    "\n",
    "The phase where `MapReduceEngine` reads all temporary files generated by maps and sort them to provide each reducer a specific key is called the **shuffle step**.\n",
    "\n",
    "Please explain **clearly** what would be the main problem of MapReduce when processing Big Data, if there is no shuffle step at all, meaning reducers will directly read responses from the mappers."
   ]
  },
  {
   "cell_type": "markdown",
   "metadata": {},
   "source": [
    "Basically, the shuffling phase is where the data is being grouped by the key and summed accordingly. It's the heart of the efficiency of Map Reduce Engine! <br> The input the shufflers get is the broken down version of the data (the output of the mappers), and the output is the data aggregated, and sorted by key so that the reduce step can iterate over the keys.\n",
    "If there weren't a shuffling step, the reduce function wouldn't get an aggregated count of the appearances of the key in all the files, and then the reduce function would get each key with its file path, and return the same thing. There would be no 'reduce' happening in this scenario.\n",
    "\n",
    "In terms of volume, the shufflers significantly reduce the amount of data that is being moved forward. In the word counting example, shufflers reduce the data from the amount of words in the origin text to the amount of distinct words.\n",
    "<br> If it wasn't for the shuffling phase, the reducers would have to deal with a lot more data as input"
   ]
  },
  {
   "cell_type": "markdown",
   "source": [],
   "metadata": {
    "collapsed": false
   }
  },
  {
   "cell_type": "markdown",
   "metadata": {
    "pycharm": {
     "name": "#%% md\n"
    }
   },
   "source": [
    "<br><br><br><br>\n",
    "Good Luck :)"
   ]
  }
 ],
 "metadata": {
  "kernelspec": {
   "display_name": "Python 3",
   "language": "python",
   "name": "python3"
  },
  "language_info": {
   "codemirror_mode": {
    "name": "ipython",
    "version": 3
   },
   "file_extension": ".py",
   "mimetype": "text/x-python",
   "name": "python",
   "nbconvert_exporter": "python",
   "pygments_lexer": "ipython3",
   "version": "3.8.8"
  }
 },
 "nbformat": 4,
 "nbformat_minor": 4
}