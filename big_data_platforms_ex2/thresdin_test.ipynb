{
 "cells": [
  {
   "cell_type": "code",
   "execution_count": 23,
   "metadata": {
    "collapsed": true
   },
   "outputs": [],
   "source": [
    "import threading\n",
    "from threading import Thread\n",
    "import time\n",
    "from multiprocessing import Queue\n"
   ]
  },
  {
   "cell_type": "code",
   "execution_count": 27,
   "outputs": [
    {
     "name": "stdout",
     "output_type": "stream",
     "text": [
      "The first\n",
      "0\n",
      "The first\n",
      "1\n",
      "The firstThe firstThe firstThe firstThe firstThe first\n",
      "The first\n",
      "\n",
      "The first\n",
      "2\n",
      "54\n",
      "\n",
      "8\n",
      "\n",
      "7\n",
      "6\n",
      "3\n",
      "\n",
      "\n",
      "9\n",
      "\n"
     ]
    },
    {
     "data": {
      "text/plain": "[None, None, None, None, None, None, None, None, None, None]"
     },
     "execution_count": 27,
     "metadata": {},
     "output_type": "execute_result"
    }
   ],
   "source": [
    "def func(a):\n",
    "    time.sleep(1)\n",
    "    print(\"The first\")\n",
    "    print(a)\n",
    "    return a\n",
    "\n",
    "threads = list()\n",
    "for i in range(10):\n",
    "    t = Thread(target=func, args=(i,))\n",
    "    t.start()\n",
    "    threads.append(t)\n",
    "\n",
    "[thread.join() for thread in threads]\n"
   ],
   "metadata": {
    "collapsed": false,
    "pycharm": {
     "name": "#%%\n"
    }
   }
  },
  {
   "cell_type": "code",
   "execution_count": null,
   "outputs": [],
   "source": [
    "e = Queue.Queue()\n",
    "threads_list = list()\n",
    "\n",
    "t = Thread(target=lambda q, arg1: q.put(foo(arg1)), args=(que, 'world!'))\n",
    "t.start()\n",
    "threads_list.append(t)\n",
    "\n",
    "# Add more threads here\n",
    "...\n",
    "threads_list.append(t2)\n",
    "...\n",
    "threads_list.append(t3)\n",
    "...\n",
    "\n",
    "# Join all the threads\n",
    "for t in threads_list:\n",
    "    t.join()\n",
    "\n",
    "# Check thread's return value\n",
    "while not que.empty():\n",
    "    result = que.get()\n",
    "    print result"
   ],
   "metadata": {
    "collapsed": false,
    "pycharm": {
     "name": "#%%\n"
    }
   }
  }
 ],
 "metadata": {
  "kernelspec": {
   "display_name": "Python 3",
   "language": "python",
   "name": "python3"
  },
  "language_info": {
   "codemirror_mode": {
    "name": "ipython",
    "version": 2
   },
   "file_extension": ".py",
   "mimetype": "text/x-python",
   "name": "python",
   "nbconvert_exporter": "python",
   "pygments_lexer": "ipython2",
   "version": "2.7.6"
  }
 },
 "nbformat": 4,
 "nbformat_minor": 0
}