{
 "cells": [
  {
   "cell_type": "code",
   "execution_count": 1,
   "metadata": {},
   "outputs": [
    {
     "data": {
      "text/plain": [
       "[1, 1, 2, 3, 5, 8, 13, 21, 34, 55]"
      ]
     },
     "execution_count": 1,
     "metadata": {},
     "output_type": "execute_result"
    }
   ],
   "source": [
    "def fibo(n):\n",
    "    if n == 1: return 1\n",
    "    if n == 2 : return 1\n",
    "    res = 1\n",
    "    parent = 1\n",
    "    grandparent = 1\n",
    "    for _ in range(3, n+1):\n",
    "        res = parent + grandparent\n",
    "        # for next iteration:\n",
    "        grandparent = parent\n",
    "        parent = res\n",
    "\n",
    "    return res\n",
    "\n",
    "[fibo(x) for x in range(1, 11)]\n"
   ]
  },
  {
   "cell_type": "code",
   "execution_count": 2,
   "metadata": {},
   "outputs": [
    {
     "data": {
      "text/plain": [
       "'\\nGenerate a function to add two numbers\\n'"
      ]
     },
     "execution_count": 2,
     "metadata": {},
     "output_type": "execute_result"
    }
   ],
   "source": [
    "\"\"\"\n",
    "Generate a function to add two numbers\n",
    "\"\"\"\n",
    "def add(x, y):\n",
    "    return x + y\n"
   ]
  },
  {
   "cell_type": "code",
   "execution_count": 5,
   "metadata": {},
   "outputs": [
    {
     "name": "stdout",
     "output_type": "stream",
     "text": [
      "hello indigo\n",
      "world indigo\n"
     ]
    }
   ],
   "source": [
    "\"\"\"\n",
    "Generate an array of all the colors from the rainbow\n",
    "\"\"\"\n",
    "def get_rainbow():\n",
    "    return [\"red\", \"orange\", \"yellow\", \"green\", \"blue\", \"indigo\", \"violet\"]\n",
    "\n",
    "    \n",
    "\n",
    "\n",
    "\n",
    "\n",
    "\n",
    "\"\"\"given a string, print each word in it in a different color\"\"\"\n",
    "def print_colors(string):\n",
    "    colors = get_rainbow()\n",
    "    for word in string.split():\n",
    "        print(f\"{word} {colors[len(word) % len(colors)]}\")\n",
    "\n",
    "\n",
    "\n",
    "    \n",
    "print_colors(\"hello world\")"
   ]
  },
  {
   "cell_type": "code",
   "execution_count": 6,
   "metadata": {},
   "outputs": [
    {
     "data": {
      "text/plain": [
       "21494.3691"
      ]
     },
     "execution_count": 6,
     "metadata": {},
     "output_type": "execute_result"
    }
   ],
   "source": [
    "\"\"\"get current price for bitcoin\"\"\"\n",
    "\n",
    "import requests\n",
    "import json\n",
    "\n",
    "def get_current_price():\n",
    "    url = \"https://api.coindesk.com/v1/bpi/currentprice.json\"\n",
    "    response = requests.get(url)\n",
    "    data = json.loads(response.text)\n",
    "    return data[\"bpi\"][\"USD\"][\"rate_float\"]\n",
    "\n",
    "get_current_price()"
   ]
  },
  {
   "cell_type": "code",
   "execution_count": null,
   "metadata": {},
   "outputs": [],
   "source": [
    "\"\"\"pytorch model for semantic segmentation\"\"\"\n",
    "import torch\n",
    "import torch.nn as nn\n",
    "import torch.nn.functional as F\n",
    "import torch.optim as optim\n",
    "from torch.utils.data import Dataset, DataLoader\n",
    "import torchvision\n",
    "import torchvision.transforms as transforms\n",
    "import torchvision.models as models\n",
    "import torchvision.datasets as datasets\n",
    "import matplotlib.pyplot as plt\n",
    "import numpy as np\n",
    "import os\n",
    "import time\n",
    "import copy\n",
    "import random\n",
    "import math\n",
    "import cv2\n",
    "import pandas as pd\n",
    "import seaborn as sns\n",
    "import matplotlib.pyplot as plt\n",
    "\n",
    "\n",
    "class MyDataset(Dataset):\n",
    "    def __init__(self, dataframe, transform=None):\n",
    "        self.dataframe = dataframe\n",
    "        self.transform = transform\n",
    "\n",
    "    def __len__(self):\n",
    "        return len(self.dataframe)\n",
    "\n",
    "    def __getitem__(self, idx):\n",
    "        img_name = self.dataframe.iloc[idx, 0]\n",
    "        image = cv2.imread(img_name)\n",
    "        image = cv2.cvtColor(image, cv2.COLOR_BGR2RGB)\n",
    "        if self.transform:\n",
    "            image = self.transform(image)\n",
    "        return image, img_name\n",
    "    \n",
    "\n",
    "\"\"\"unet model\"\"\"\n",
    "class UNet(nn.Module):\n",
    "    def __init__(self):\n",
    "        super(UNet, self).__init__()\n",
    "        self.conv1 = nn.Conv2d(3, 64, 3, padding=1)\n",
    "        self.conv2 = nn.Conv2d(64, 64, 3, padding=1)\n",
    "        self.conv3 = nn.Conv2d(64, 128, 3, padding=1)\n",
    "        self.conv4 = nn.Conv2d(128, 128, 3, padding=1)\n",
    "        self.conv5 = nn.Conv2d(128, 256, 3, padding=1)\n",
    "        self.conv6 = nn.Conv2d(256, 256, 3, padding=1)\n",
    "        self.conv7 = nn.Conv2d(256, 512, 3, padding=1)\n",
    "        self.conv8 = nn.Conv2d(512, 512, 3, padding=1)\n",
    "        self.conv9 = nn.Conv2d(512, 1024, 3, padding=1)\n",
    "        self.conv10 = nn.Conv2d(1024, 1024, 3, padding=1)\n",
    "        self.conv11 = nn.Conv2d(1024, 1024, 3, padding=1)\n",
    "        self.conv12 = nn.Conv2d(1024, 1024, 3, padding=1)\n",
    "        self.conv13 = nn.Conv2d(1024, 1024, 3, padding=1)\n",
    "        self.conv14 = nn.Conv2d(1024, 1024, 3, padding=1)\n",
    "        self.conv15 = nn.Conv2d(1024, 1024, 3, padding=1)\n",
    "        self.conv16 = nn.Conv2d(1024, 1024, 3, padding=1)\n",
    "        self.conv17 = nn.Conv2d(1024, 1024, 3, padding=1)\n",
    "        self.conv18 = nn.Conv2d(1024, 1024, 3, padding=1)\n",
    "        self.conv19 = nn.Conv2d(1024, 1024, 3, padding=1)\n",
    "    \n",
    "        self.conv20 = nn.ConvTranspose2d(1024, 1024, 3, padding=1)  \n",
    "        self.conv21 = nn.ConvTranspose2d(1024, 1024, 3, padding=1)\n",
    "        self.conv22 = nn.ConvTranspose2d(1024, 1024, 3, padding=1)\n",
    "        self.conv23 = nn.ConvTranspose2d(1024, 1024, 3, padding=1)\n",
    "        self.conv24 = nn.ConvTranspose2d(1024, 512, 3, padding=1)\n",
    "        self.conv25 = nn.ConvTranspose2d(512, 512, 3, padding=1)\n",
    "\n",
    "        self.conv26 = nn.ConvTranspose2d(512, 256, 3, padding=1)\n",
    "\n",
    "    \n"
   ]
  }
 ],
 "metadata": {
  "anaconda-cloud": {},
  "kernelspec": {
   "display_name": "Python 3.8.5 ('base')",
   "language": "python",
   "name": "python3"
  },
  "language_info": {
   "codemirror_mode": {
    "name": "ipython",
    "version": 3
   },
   "file_extension": ".py",
   "mimetype": "text/x-python",
   "name": "python",
   "nbconvert_exporter": "python",
   "pygments_lexer": "ipython3",
   "version": "3.8.5"
  },
  "vscode": {
   "interpreter": {
    "hash": "bb4c2e3247b51742ee9df241037d2dcdbde5da9434d2b02c51e0b4eb4c4687d0"
   }
  }
 },
 "nbformat": 4,
 "nbformat_minor": 4
}
